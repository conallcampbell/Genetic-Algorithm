{
 "cells": [
  {
   "cell_type": "markdown",
   "metadata": {},
   "source": [
    "## 1. Imports"
   ]
  },
  {
   "cell_type": "code",
   "execution_count": 4,
   "metadata": {},
   "outputs": [],
   "source": [
    "import numpy as np\n",
    "import math\n",
    "import random\n",
    "import networkx as nx\n",
    "from networkx import components\n",
    "from scipy.linalg import expm\n",
    "from scipy.linalg import sqrtm\n",
    "from tqdm import tqdm\n",
    "import matplotlib.pyplot as plt\n",
    "\n",
    "from alt_Frozen_Network_class import alt_Frozen_Network as alt_Frozen_Network_class\n",
    "from Genetic_Class import Genetic_Evolution"
   ]
  },
  {
   "cell_type": "markdown",
   "metadata": {},
   "source": [
    "## 2. Settings"
   ]
  },
  {
   "cell_type": "code",
   "execution_count": 5,
   "metadata": {},
   "outputs": [],
   "source": [
    "##########################################\n",
    "#number of networks I wish to consider\n",
    "pop_size = 400\n",
    "##########################################\n",
    "##########################################\n",
    "#network parameters\n",
    "##########################################\n",
    "# number of nodes\n",
    "n = 10\n",
    "# each node is joined with its m nearest neighbours in a ring topology\n",
    "m = 2\n",
    "# probability of edge rewiring\n",
    "p = 0.1\n",
    "# probability of edge creation\n",
    "prob = random.random()\n",
    "# exponential probability distribution used for sampling the initial population\n",
    "y = random.random()\n",
    "probability = -1/100 * np.log(1 - random.random() + random.random()*math.e**-100)\n",
    "\n",
    "ts = np.linspace(0 , 1 , 10)"
   ]
  },
  {
   "cell_type": "code",
   "execution_count": 6,
   "metadata": {},
   "outputs": [],
   "source": [
    "def kron(*matrices):\n",
    "    result = np.array([[1]])\n",
    "    for matrix in matrices:\n",
    "        result = np.kron(result, matrix)\n",
    "    return result"
   ]
  },
  {
   "cell_type": "markdown",
   "metadata": {},
   "source": [
    "## 3. Target Setup"
   ]
  },
  {
   "cell_type": "code",
   "execution_count": 7,
   "metadata": {},
   "outputs": [],
   "source": [
    "\n",
    "def F(n , prob):\n",
    "    return nx.erdos_renyi_graph(n , prob)\n",
    "\n",
    "##########################################\n",
    "#target\n",
    "##########################################\n",
    "target = F(n , prob)\n",
    "\n",
    "\n",
    "def adjacency_matrix_target():\n",
    "    return [np.array(nx.to_numpy_array(target).astype(\"complex\")) for _ in range(n)]"
   ]
  },
  {
   "cell_type": "markdown",
   "metadata": {},
   "source": [
    "Starting state setup"
   ]
  },
  {
   "cell_type": "code",
   "execution_count": 8,
   "metadata": {},
   "outputs": [],
   "source": [
    "k = 1\n",
    "rho0 = np.zeros((n , 1))\n",
    "rho0[k] = 1\n",
    "state = kron(rho0 , np.conjugate(rho0.T))\n",
    "\n",
    "##########################################\n",
    "# Adding the sink to the target list\n",
    "##########################################\n",
    "def target_sink():\n",
    "    mat_list = adjacency_matrix_target()\n",
    "    for i in range(n):\n",
    "        mat_list[i][i , i] -= 1j\n",
    "    return mat_list\n",
    "target_sink = target_sink()"
   ]
  },
  {
   "cell_type": "code",
   "execution_count": 9,
   "metadata": {},
   "outputs": [],
   "source": [
    "\n",
    "#target\n",
    "def evolution_target(t):\n",
    "    #expmatrix = expm(complex(0 , -1) * target_sink()[i] * t)\n",
    "        return [\n",
    "            \n",
    "                1-(np.trace\n",
    "                    ((expm(complex(0 , -1) * target_sink[i] * t))\n",
    "                    @ state\n",
    "                    @ (np.conjugate(expm(complex(0 , -1) * target_sink[i] * t).T))\n",
    "                  )\n",
    "                ).real\n",
    "            \n",
    "            for i in range(n)\n",
    "            ]\n",
    "def target_data():\n",
    "    data = []\n",
    "    for t in ts:\n",
    "        data.append(evolution_target(t))\n",
    "    return data\n"
   ]
  },
  {
   "cell_type": "markdown",
   "metadata": {},
   "source": [
    "## 4. Population Setup"
   ]
  },
  {
   "cell_type": "code",
   "execution_count": 10,
   "metadata": {},
   "outputs": [
    {
     "name": "stdout",
     "output_type": "stream",
     "text": [
      "Continue to Genetic Evolution\n"
     ]
    }
   ],
   "source": [
    "def pop(pop_size, n):\n",
    "    return [nx.to_numpy_array(F(n, random.random())).astype(\"complex\") for _ in range(pop_size)]\n",
    "population = pop(pop_size, n)\n",
    "\n",
    "\n",
    "def alt_genetic_distance(pop , start_index = 0):\n",
    "    dist = []\n",
    "    for i in range(start_index , pop_size):\n",
    "        dist.append([alt_Frozen_Network_class(pop[i] , target_data() , ts).calculate_distance() , pop[i]])\n",
    "    dist = sorted(dist , key = lambda x: x[0])\n",
    "    return [d[0] for d in dist] , [d[1] for d in dist]\n",
    "\n",
    "def fit_half(pop):\n",
    "    return pop[:pop_size // 2]\n",
    "\n",
    "alt_distances = [alt_genetic_distance(population)[0]]\n",
    "ordered_pop = [alt_genetic_distance(population)[1]]\n",
    "found_it = []\n",
    "if alt_distances[0][0] == 0:\n",
    "    found_it.append(fit_half(ordered_pop[0])[0])\n",
    "    print(\"Found fit individual\")\n",
    "else:\n",
    "    print(\"Continue to Genetic Evolution\")\n"
   ]
  },
  {
   "cell_type": "code",
   "execution_count": 11,
   "metadata": {},
   "outputs": [],
   "source": [
    "new_pop = Genetic_Evolution(fit_half(alt_genetic_distance(population)[1]) , alt_distances[0][:len(alt_distances[0])//2]).new_population()"
   ]
  },
  {
   "cell_type": "markdown",
   "metadata": {},
   "source": [
    "## 5. Genetic Algorithm"
   ]
  },
  {
   "cell_type": "code",
   "execution_count": 12,
   "metadata": {},
   "outputs": [],
   "source": [
    "\n",
    "distances = []\n",
    "best_individual = []\n",
    "number_of_connections = []\n",
    "new_pop_set = []\n",
    "best_distance = []\n",
    "mean_distance = []\n",
    "fittest_individual = []\n",
    "connections = []\n",
    "degree_distribution = []\n",
    "found_it = []"
   ]
  },
  {
   "cell_type": "code",
   "execution_count": 13,
   "metadata": {},
   "outputs": [
    {
     "name": "stderr",
     "output_type": "stream",
     "text": [
      "  0%|          | 0/100 [00:00<?, ?it/s]"
     ]
    },
    {
     "name": "stderr",
     "output_type": "stream",
     "text": [
      "  1%|          | 1/100 [00:13<22:29, 13.63s/it]"
     ]
    },
    {
     "name": "stdout",
     "output_type": "stream",
     "text": [
      "400\n"
     ]
    },
    {
     "name": "stderr",
     "output_type": "stream",
     "text": [
      "  2%|▏         | 2/100 [00:26<21:28, 13.15s/it]"
     ]
    },
    {
     "name": "stdout",
     "output_type": "stream",
     "text": [
      "400\n"
     ]
    },
    {
     "name": "stderr",
     "output_type": "stream",
     "text": [
      "  3%|▎         | 3/100 [00:40<21:53, 13.54s/it]"
     ]
    },
    {
     "name": "stdout",
     "output_type": "stream",
     "text": [
      "400\n"
     ]
    },
    {
     "name": "stderr",
     "output_type": "stream",
     "text": [
      "  4%|▍         | 4/100 [00:51<20:03, 12.53s/it]"
     ]
    },
    {
     "name": "stdout",
     "output_type": "stream",
     "text": [
      "400\n"
     ]
    },
    {
     "name": "stderr",
     "output_type": "stream",
     "text": [
      "  5%|▌         | 5/100 [01:03<19:26, 12.27s/it]"
     ]
    },
    {
     "name": "stdout",
     "output_type": "stream",
     "text": [
      "400\n"
     ]
    },
    {
     "name": "stderr",
     "output_type": "stream",
     "text": [
      "  5%|▌         | 5/100 [02:00<38:12, 24.14s/it]\n"
     ]
    },
    {
     "ename": "KeyboardInterrupt",
     "evalue": "",
     "output_type": "error",
     "traceback": [
      "\u001b[0;31m---------------------------------------------------------------------------\u001b[0m",
      "\u001b[0;31mKeyboardInterrupt\u001b[0m                         Traceback (most recent call last)",
      "Cell \u001b[0;32mIn[13], line 42\u001b[0m\n\u001b[1;32m     40\u001b[0m     \u001b[38;5;28;01mbreak\u001b[39;00m\n\u001b[1;32m     41\u001b[0m \u001b[38;5;28;01melse\u001b[39;00m:\n\u001b[0;32m---> 42\u001b[0m     new_pop \u001b[38;5;241m=\u001b[39m Genetic_Evolution(fit_half(\u001b[43malt_genetic_distance\u001b[49m\u001b[43m(\u001b[49m\u001b[43mnew_pop\u001b[49m\u001b[43m)\u001b[49m[\u001b[38;5;241m1\u001b[39m]) , distances[j][:\u001b[38;5;28mlen\u001b[39m(distances[j])\u001b[38;5;241m/\u001b[39m\u001b[38;5;241m/\u001b[39m\u001b[38;5;241m2\u001b[39m])\u001b[38;5;241m.\u001b[39mnew_population()\n\u001b[1;32m     43\u001b[0m     \u001b[38;5;28mprint\u001b[39m(\u001b[38;5;28mlen\u001b[39m(new_pop))\n\u001b[1;32m     44\u001b[0m \u001b[38;5;66;03m# implementing extreme mutations if population scores aren't improving\u001b[39;00m\n",
      "Cell \u001b[0;32mIn[10], line 9\u001b[0m, in \u001b[0;36malt_genetic_distance\u001b[0;34m(pop, start_index)\u001b[0m\n\u001b[1;32m      7\u001b[0m dist \u001b[38;5;241m=\u001b[39m []\n\u001b[1;32m      8\u001b[0m \u001b[38;5;28;01mfor\u001b[39;00m i \u001b[38;5;129;01min\u001b[39;00m \u001b[38;5;28mrange\u001b[39m(start_index , pop_size):\n\u001b[0;32m----> 9\u001b[0m     dist\u001b[38;5;241m.\u001b[39mappend([alt_Frozen_Network_class(pop[i] , \u001b[43mtarget_data\u001b[49m\u001b[43m(\u001b[49m\u001b[43m)\u001b[49m , ts)\u001b[38;5;241m.\u001b[39mcalculate_distance() , pop[i]])\n\u001b[1;32m     10\u001b[0m dist \u001b[38;5;241m=\u001b[39m \u001b[38;5;28msorted\u001b[39m(dist , key \u001b[38;5;241m=\u001b[39m \u001b[38;5;28;01mlambda\u001b[39;00m x: x[\u001b[38;5;241m0\u001b[39m])\n\u001b[1;32m     11\u001b[0m \u001b[38;5;28;01mreturn\u001b[39;00m [d[\u001b[38;5;241m0\u001b[39m] \u001b[38;5;28;01mfor\u001b[39;00m d \u001b[38;5;129;01min\u001b[39;00m dist] , [d[\u001b[38;5;241m1\u001b[39m] \u001b[38;5;28;01mfor\u001b[39;00m d \u001b[38;5;129;01min\u001b[39;00m dist]\n",
      "Cell \u001b[0;32mIn[9], line 18\u001b[0m, in \u001b[0;36mtarget_data\u001b[0;34m()\u001b[0m\n\u001b[1;32m     16\u001b[0m data \u001b[38;5;241m=\u001b[39m []\n\u001b[1;32m     17\u001b[0m \u001b[38;5;28;01mfor\u001b[39;00m t \u001b[38;5;129;01min\u001b[39;00m ts:\n\u001b[0;32m---> 18\u001b[0m     data\u001b[38;5;241m.\u001b[39mappend(\u001b[43mevolution_target\u001b[49m\u001b[43m(\u001b[49m\u001b[43mt\u001b[49m\u001b[43m)\u001b[49m)\n\u001b[1;32m     19\u001b[0m \u001b[38;5;28;01mreturn\u001b[39;00m data\n",
      "Cell \u001b[0;32mIn[9], line 7\u001b[0m, in \u001b[0;36mevolution_target\u001b[0;34m(t)\u001b[0m\n\u001b[1;32m      2\u001b[0m \u001b[38;5;28;01mdef\u001b[39;00m \u001b[38;5;21mevolution_target\u001b[39m(t):\n\u001b[1;32m      3\u001b[0m     \u001b[38;5;66;03m#expmatrix = expm(complex(0 , -1) * target_sink()[i] * t)\u001b[39;00m\n\u001b[1;32m      4\u001b[0m         \u001b[38;5;28;01mreturn\u001b[39;00m [\n\u001b[1;32m      5\u001b[0m             \n\u001b[1;32m      6\u001b[0m                 \u001b[38;5;241m1\u001b[39m\u001b[38;5;241m-\u001b[39m(np\u001b[38;5;241m.\u001b[39mtrace\n\u001b[0;32m----> 7\u001b[0m                     ((\u001b[43mexpm\u001b[49m\u001b[43m(\u001b[49m\u001b[38;5;28;43mcomplex\u001b[39;49m\u001b[43m(\u001b[49m\u001b[38;5;241;43m0\u001b[39;49m\u001b[43m \u001b[49m\u001b[43m,\u001b[49m\u001b[43m \u001b[49m\u001b[38;5;241;43m-\u001b[39;49m\u001b[38;5;241;43m1\u001b[39;49m\u001b[43m)\u001b[49m\u001b[43m \u001b[49m\u001b[38;5;241;43m*\u001b[39;49m\u001b[43m \u001b[49m\u001b[43mtarget_sink\u001b[49m\u001b[43m[\u001b[49m\u001b[43mi\u001b[49m\u001b[43m]\u001b[49m\u001b[43m \u001b[49m\u001b[38;5;241;43m*\u001b[39;49m\u001b[43m \u001b[49m\u001b[43mt\u001b[49m\u001b[43m)\u001b[49m)\n\u001b[1;32m      8\u001b[0m                     \u001b[38;5;241m@\u001b[39m state\n\u001b[1;32m      9\u001b[0m                     \u001b[38;5;241m@\u001b[39m (np\u001b[38;5;241m.\u001b[39mconjugate(expm(\u001b[38;5;28mcomplex\u001b[39m(\u001b[38;5;241m0\u001b[39m , \u001b[38;5;241m-\u001b[39m\u001b[38;5;241m1\u001b[39m) \u001b[38;5;241m*\u001b[39m target_sink[i] \u001b[38;5;241m*\u001b[39m t)\u001b[38;5;241m.\u001b[39mT))\n\u001b[1;32m     10\u001b[0m                   )\n\u001b[1;32m     11\u001b[0m                 )\u001b[38;5;241m.\u001b[39mreal\n\u001b[1;32m     12\u001b[0m             \n\u001b[1;32m     13\u001b[0m             \u001b[38;5;28;01mfor\u001b[39;00m i \u001b[38;5;129;01min\u001b[39;00m \u001b[38;5;28mrange\u001b[39m(n)\n\u001b[1;32m     14\u001b[0m             ]\n",
      "File \u001b[0;32m/Library/Frameworks/Python.framework/Versions/3.12/lib/python3.12/site-packages/scipy/linalg/_matfuncs.py:350\u001b[0m, in \u001b[0;36mexpm\u001b[0;34m(A)\u001b[0m\n\u001b[1;32m    347\u001b[0m \u001b[38;5;28;01mif\u001b[39;00m s \u001b[38;5;241m!=\u001b[39m \u001b[38;5;241m0\u001b[39m:  \u001b[38;5;66;03m# scaling needed\u001b[39;00m\n\u001b[1;32m    348\u001b[0m     Am[:\u001b[38;5;241m4\u001b[39m] \u001b[38;5;241m*\u001b[39m\u001b[38;5;241m=\u001b[39m [[[\u001b[38;5;241m2\u001b[39m\u001b[38;5;241m*\u001b[39m\u001b[38;5;241m*\u001b[39m(\u001b[38;5;241m-\u001b[39ms)]], [[\u001b[38;5;241m4\u001b[39m\u001b[38;5;241m*\u001b[39m\u001b[38;5;241m*\u001b[39m(\u001b[38;5;241m-\u001b[39ms)]], [[\u001b[38;5;241m16\u001b[39m\u001b[38;5;241m*\u001b[39m\u001b[38;5;241m*\u001b[39m(\u001b[38;5;241m-\u001b[39ms)]], [[\u001b[38;5;241m64\u001b[39m\u001b[38;5;241m*\u001b[39m\u001b[38;5;241m*\u001b[39m(\u001b[38;5;241m-\u001b[39ms)]]]\n\u001b[0;32m--> 350\u001b[0m \u001b[43mpade_UV_calc\u001b[49m\u001b[43m(\u001b[49m\u001b[43mAm\u001b[49m\u001b[43m,\u001b[49m\u001b[43m \u001b[49m\u001b[43mn\u001b[49m\u001b[43m,\u001b[49m\u001b[43m \u001b[49m\u001b[43mm\u001b[49m\u001b[43m)\u001b[49m\n\u001b[1;32m    351\u001b[0m eAw \u001b[38;5;241m=\u001b[39m Am[\u001b[38;5;241m0\u001b[39m]\n\u001b[1;32m    353\u001b[0m \u001b[38;5;28;01mif\u001b[39;00m s \u001b[38;5;241m!=\u001b[39m \u001b[38;5;241m0\u001b[39m:  \u001b[38;5;66;03m# squaring needed\u001b[39;00m\n",
      "\u001b[0;31mKeyboardInterrupt\u001b[0m: "
     ]
    }
   ],
   "source": [
    "extreme_mutation_count = 0\n",
    "\n",
    "for j in tqdm(range(100)):\n",
    "\n",
    "    fit_individual = []\n",
    "    if j == 0:\n",
    "        new_distances, new_pop = alt_genetic_distance(new_pop)\n",
    "    else:\n",
    "        new_distances, new_population = alt_genetic_distance(new_pop , start_index = pop_size // 4)\n",
    "        # new_distances = sorted(distances[-1][:pop_size // 4] + new_distances)\n",
    "        # new_pop = new_pop[:pop_size//4] + new_population\n",
    "\n",
    "        # Combine distances and population from current and new generations\n",
    "        combined = list(zip(distances[-1][:pop_size // 4] + new_distances, new_pop[:pop_size // 4] + new_population))\n",
    "        # Sort by distances\n",
    "        combined.sort(key=lambda x: x[0])\n",
    "        # Unpack sorted distances and population\n",
    "        new_distances, new_pop = zip(*combined)\n",
    "        # Convert to lists (if needed)\n",
    "        new_distances = list(new_distances)\n",
    "        new_pop = list(new_pop)\n",
    "\n",
    "    distances.append(new_distances)\n",
    "    best_individual.append(new_pop[0])\n",
    "    number_of_connections.append(np.array([np.sum(np.real(adjacency_matrix_target()[0]))/2 , np.sum(np.real(new_pop[0]))/2 , np.sum(np.real(new_pop[1]))/2 , np.sum(np.real(new_pop[2]))/2]))\n",
    "    new_pop_set.append(np.array(new_pop[:pop_size // 4]))\n",
    "    degree_distribution.append([degree for node , degree in sorted(nx.degree(nx.from_numpy_array(np.real(new_pop[0]))), key=lambda x: x[1], reverse=True)])\n",
    "    #Calculating the best and mean distances\n",
    "    best_distance = min(distances[j])\n",
    "    mean_distance = np.mean(new_distances)\n",
    "    fittest_individual = new_pop[0]\n",
    "    connections = np.array([np.sum(np.real(adjacency_matrix_target()[0]))/2 , np.sum(np.real(new_pop[0]))/2 , np.sum(np.real(new_pop[1]))/2 , np.sum(np.real(new_pop[2]))/2 , np.sum(np.real(new_pop[3]))/2])\n",
    "    degree_dist = [degree for node , degree in sorted(nx.degree(nx.from_numpy_array(np.real(new_pop[0]))), key=lambda x: x[1], reverse=True)]\n",
    "\n",
    "    # what to do if the algorithm finds the fittest individual\n",
    "    # else rerun code\n",
    "    if min(distances[j]) == 0:\n",
    "        fit_individual.append(new_pop[0])\n",
    "        print(\"fit individual found\")\n",
    "        break\n",
    "    else:\n",
    "        new_pop = Genetic_Evolution(fit_half(alt_genetic_distance(new_pop)[1]) , distances[j][:len(distances[j])//2]).new_population()\n",
    "    # implementing extreme mutations if population scores aren't improving\n",
    "    if j > 5:\n",
    "        if (new_pop_set[j-5] == new_pop_set[j]).all():\n",
    "            new_pop = Genetic_Evolution(fit_half(alt_genetic_distance(new_pop)[1]) , distances[j][:len(distances[j])//2]).EXTREME_new_population()\n",
    "            # if this is performed we add +1 to the extreme_mutation_count\n",
    "            extreme_mutation_count += 1\n",
    "            # printing when this if performed\n",
    "            print(\"Extreme mutation performed\")\n",
    "            print(extreme_mutation_count)\n",
    "    # the case of reaching 3 in extreme_mutation_count means we should inject a new population of individuals\n",
    "    if extreme_mutation_count == 5:\n",
    "        # inject a new population of individuals and keeping old unmutated parents\n",
    "        new_pop = new_pop[:int(pop_size * 0.75)] + pop(pop_size//4 , n)\n",
    "        # resetting the extreme_mutation_count to zero\n",
    "        extreme_mutation_count = 0\n",
    "        print(\"New population of individuals injected\")\n",
    "\n",
    "else:\n",
    "    print(\"No fit individual found within iteration limit\")"
   ]
  },
  {
   "cell_type": "code",
   "execution_count": null,
   "metadata": {},
   "outputs": [],
   "source": []
  }
 ],
 "metadata": {
  "kernelspec": {
   "display_name": "Python 3",
   "language": "python",
   "name": "python3"
  },
  "language_info": {
   "codemirror_mode": {
    "name": "ipython",
    "version": 3
   },
   "file_extension": ".py",
   "mimetype": "text/x-python",
   "name": "python",
   "nbconvert_exporter": "python",
   "pygments_lexer": "ipython3",
   "version": "3.12.0"
  }
 },
 "nbformat": 4,
 "nbformat_minor": 2
}
