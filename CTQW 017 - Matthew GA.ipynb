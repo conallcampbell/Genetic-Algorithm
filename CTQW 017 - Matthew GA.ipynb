{
 "cells": [
  {
   "cell_type": "markdown",
   "metadata": {},
   "source": [
    "# Network Reconstruction Genetic Algorithm"
   ]
  },
  {
   "cell_type": "markdown",
   "metadata": {},
   "source": [
    "## 1. Imports"
   ]
  },
  {
   "cell_type": "code",
   "execution_count": 1,
   "metadata": {},
   "outputs": [],
   "source": [
    "import numpy as np\n",
    "import random\n",
    "import networkx as nx\n",
    "from scipy.linalg import expm\n",
    "from tqdm import tqdm\n",
    "import matplotlib.pyplot as plt\n",
    "# importing the frozen network and genetic evolution classes\n",
    "from network import Frozen_Network, kron\n",
    "from genetic_algorithm import Genetic_Evolution"
   ]
  },
  {
   "cell_type": "markdown",
   "metadata": {},
   "source": [
    "## 2. Configuration"
   ]
  },
  {
   "cell_type": "code",
   "execution_count": 2,
   "metadata": {},
   "outputs": [],
   "source": [
    "pop_size = 100\n",
    "\n",
    "#network parameters\n",
    "##########################################\n",
    "# number of nodes\n",
    "n = 12\n",
    "# each node is joined with its m nearest neighbours in a ring topology\n",
    "m = 4\n",
    "# probability of edge rewiring\n",
    "p = 0.2"
   ]
  },
  {
   "cell_type": "code",
   "execution_count": 3,
   "metadata": {},
   "outputs": [],
   "source": [
    "# Building a Watts-Strogatz network\n",
    "def G(n , m , p):\n",
    "    return nx.watts_strogatz_graph(n , m , p , seed = None)"
   ]
  },
  {
   "cell_type": "code",
   "execution_count": 4,
   "metadata": {},
   "outputs": [],
   "source": [
    "def adjacency_matrix_target():\n",
    "    return np.array(nx.to_numpy_array(target).astype(\"complex\"))"
   ]
  },
  {
   "cell_type": "markdown",
   "metadata": {},
   "source": [
    "### 2.1 Target Creation"
   ]
  },
  {
   "cell_type": "code",
   "execution_count": 5,
   "metadata": {},
   "outputs": [],
   "source": [
    "target = G(n , m , p)"
   ]
  },
  {
   "cell_type": "code",
   "execution_count": 6,
   "metadata": {},
   "outputs": [],
   "source": [
    "ts = 0.1\n",
    "num_steps = 100\n",
    " \n",
    "target = Frozen_Network(adjacency_matrix_target())\n",
    "target.evolution(ts, num_steps)"
   ]
  },
  {
   "cell_type": "markdown",
   "metadata": {},
   "source": [
    "### 2.2 Population Creation"
   ]
  },
  {
   "cell_type": "code",
   "execution_count": 7,
   "metadata": {},
   "outputs": [],
   "source": [
    "def randomNetwork(n, m):\n",
    "    return Frozen_Network(nx.to_numpy_array(G(n, m, round(random.uniform(0.0, 1.0), 2))).astype(\"complex\"))"
   ]
  },
  {
   "cell_type": "code",
   "execution_count": 8,
   "metadata": {},
   "outputs": [
    {
     "name": "stderr",
     "output_type": "stream",
     "text": [
      "100%|██████████| 1/1 [00:00<00:00, 29.84it/s]\n"
     ]
    }
   ],
   "source": [
    "dists = []\n",
    "adj_dists = []\n",
    "\n",
    "for i in tqdm(range(1)):\n",
    "    network1 = randomNetwork(n,m)\n",
    "    network2 = randomNetwork(n,m)\n",
    "    network1.evolution(ts, num_steps)\n",
    "    network2.calculate_distance(network1.sink_data, ts, num_steps)\n",
    "    network2.calculate_adjacency_distance(network1.adjacency_matrix)\n",
    "    dists.append(network2.distance)\n",
    "    adj_dists.append(network2.adj_distance)\n"
   ]
  },
  {
   "cell_type": "code",
   "execution_count": 9,
   "metadata": {},
   "outputs": [
    {
     "data": {
      "text/plain": [
       "Text(0, 0.5, 'Distance')"
      ]
     },
     "execution_count": 9,
     "metadata": {},
     "output_type": "execute_result"
    },
    {
     "data": {
      "image/png": "[encoded data removed]",
      "text/plain": [
       "<Figure size 640x480 with 1 Axes>"
      ]
     },
     "metadata": {},
     "output_type": "display_data"
    }
   ],
   "source": [
    "plt.scatter(adj_dists, dists)\n",
    "plt.xlabel(\"Adjacency Matrix Dist\")\n",
    "plt.ylabel(\"Distance\")"
   ]
  },
  {
   "cell_type": "code",
   "execution_count": 10,
   "metadata": {},
   "outputs": [],
   "source": [
    "# Generating the population of networks\n",
    "def pop(pop_size, n, m):\n",
    "    return [Frozen_Network(nx.to_numpy_array(G(n, m, round(random.uniform(0.0, 1.0), 2))).astype(\"complex\")) for _ in range(pop_size)]"
   ]
  },
  {
   "cell_type": "code",
   "execution_count": 11,
   "metadata": {},
   "outputs": [],
   "source": [
    "import multiprocessing\n",
    "\n",
    "def evalutate_network(network):\n",
    "    network.calculate_distance(target.sink_data, ts, num_steps)\n",
    "    return None\n",
    "\n",
    "def evalutate_population(pop):\n",
    "    for network in pop:\n",
    "        if network.distance is None:\n",
    "            evalutate_network(network)"
   ]
  },
  {
   "cell_type": "markdown",
   "metadata": {},
   "source": [
    "## 3. Genetic Algorithm"
   ]
  },
  {
   "cell_type": "code",
   "execution_count": 12,
   "metadata": {},
   "outputs": [],
   "source": [
    "num_iterations = 100"
   ]
  },
  {
   "cell_type": "code",
   "execution_count": null,
   "metadata": {},
   "outputs": [],
   "source": []
  },
  {
   "cell_type": "code",
   "execution_count": 13,
   "metadata": {},
   "outputs": [],
   "source": [
    "from IPython.display import clear_output\n",
    "\n",
    "def run(iterations = 3):\n",
    "    population = pop(pop_size, n, m)\n",
    "    evalutate_population(population)\n",
    "\n",
    "    distances = []\n",
    "    connections = []\n",
    "    fit_individual = None\n",
    "\n",
    "\n",
    "    if min([network.distance for network in population]) < 1e-3:\n",
    "        fit_individual = sorted(population, key = lambda x: x.distance)[0]\n",
    "        print(\"Optimal network found\")\n",
    "    else:\n",
    "        distances.append([network.distance for network in population])\n",
    "        for i in tqdm(range(iterations)):\n",
    "            \n",
    "            print(f\"Current best: {min(distances[-1])}, Current Average: {np.mean(distances[-1])}, Average Connections: {np.mean([network.num_connections for network in population])}\")\n",
    "\n",
    "            population = Genetic_Evolution(sorted(population, key=lambda x: x.distance)[:len(population)//2], mutation_probability=0.01).new_population()\n",
    "            evalutate_population(population)\n",
    "            distances.append([network.distance for network in population])\n",
    "            \n",
    "            if min(distances[-1]) < 10**-3:\n",
    "                fit_individual = sorted(population, key = lambda x: x.distance)[0]\n",
    "                print(\"Converged!\")\n",
    "                break\n",
    "        else:\n",
    "            print(\"No fit individual found within iteration limit\")\n",
    "\n",
    "    return distances, fit_individual"
   ]
  },
  {
   "cell_type": "code",
   "execution_count": 14,
   "metadata": {},
   "outputs": [],
   "source": [
    "population = pop(pop_size, n, m)"
   ]
  },
  {
   "cell_type": "code",
   "execution_count": 15,
   "metadata": {},
   "outputs": [
    {
     "name": "stderr",
     "output_type": "stream",
     "text": [
      "  0%|          | 0/100 [00:00<?, ?it/s]"
     ]
    },
    {
     "name": "stdout",
     "output_type": "stream",
     "text": [
      "Current best: 92.44915740052693, Current Average: 137.99555248516782, Average Connections: 24.0\n"
     ]
    },
    {
     "name": "stderr",
     "output_type": "stream",
     "text": [
      "  1%|          | 1/100 [00:00<01:29,  1.10it/s]"
     ]
    },
    {
     "name": "stdout",
     "output_type": "stream",
     "text": [
      "Current best: 67.45286562577255, Current Average: 129.6035576501198, Average Connections: 23.5\n"
     ]
    },
    {
     "name": "stderr",
     "output_type": "stream",
     "text": [
      "  2%|▏         | 2/100 [00:01<01:23,  1.17it/s]"
     ]
    },
    {
     "name": "stdout",
     "output_type": "stream",
     "text": [
      "Current best: 59.66909347645584, Current Average: 125.0264546140309, Average Connections: 23.59\n"
     ]
    },
    {
     "name": "stderr",
     "output_type": "stream",
     "text": [
      "  3%|▎         | 3/100 [00:02<01:22,  1.17it/s]"
     ]
    },
    {
     "name": "stdout",
     "output_type": "stream",
     "text": [
      "Current best: 59.66909347645584, Current Average: 121.95521454521945, Average Connections: 23.51\n"
     ]
    },
    {
     "name": "stderr",
     "output_type": "stream",
     "text": [
      "  4%|▍         | 4/100 [00:03<01:21,  1.18it/s]"
     ]
    },
    {
     "name": "stdout",
     "output_type": "stream",
     "text": [
      "Current best: 59.66909347645584, Current Average: 116.33799339981697, Average Connections: 23.11\n"
     ]
    },
    {
     "name": "stderr",
     "output_type": "stream",
     "text": [
      "  5%|▌         | 5/100 [00:04<01:18,  1.22it/s]"
     ]
    },
    {
     "name": "stdout",
     "output_type": "stream",
     "text": [
      "Current best: 59.66909347645584, Current Average: 115.32539186163534, Average Connections: 22.46\n"
     ]
    },
    {
     "name": "stderr",
     "output_type": "stream",
     "text": [
      "  6%|▌         | 6/100 [00:05<01:19,  1.18it/s]"
     ]
    },
    {
     "name": "stdout",
     "output_type": "stream",
     "text": [
      "Current best: 59.66909347645584, Current Average: 108.10065157050117, Average Connections: 22.24\n"
     ]
    },
    {
     "name": "stderr",
     "output_type": "stream",
     "text": [
      "  7%|▋         | 7/100 [00:05<01:20,  1.16it/s]"
     ]
    },
    {
     "name": "stdout",
     "output_type": "stream",
     "text": [
      "Current best: 59.66909347645584, Current Average: 103.22657722262983, Average Connections: 22.08\n"
     ]
    },
    {
     "name": "stderr",
     "output_type": "stream",
     "text": [
      "  8%|▊         | 8/100 [00:06<01:20,  1.14it/s]"
     ]
    },
    {
     "name": "stdout",
     "output_type": "stream",
     "text": [
      "Current best: 51.44655420219573, Current Average: 95.33791364547984, Average Connections: 22.07\n"
     ]
    },
    {
     "name": "stderr",
     "output_type": "stream",
     "text": [
      "  9%|▉         | 9/100 [00:07<01:19,  1.15it/s]"
     ]
    },
    {
     "name": "stdout",
     "output_type": "stream",
     "text": [
      "Current best: 50.58383571135709, Current Average: 91.99953968786494, Average Connections: 21.88\n"
     ]
    },
    {
     "name": "stderr",
     "output_type": "stream",
     "text": [
      " 10%|█         | 10/100 [00:08<01:21,  1.10it/s]"
     ]
    },
    {
     "name": "stdout",
     "output_type": "stream",
     "text": [
      "Current best: 50.58383571135709, Current Average: 86.97864032210187, Average Connections: 21.99\n"
     ]
    },
    {
     "name": "stderr",
     "output_type": "stream",
     "text": [
      " 10%|█         | 10/100 [00:09<01:24,  1.07it/s]\n"
     ]
    },
    {
     "ename": "KeyboardInterrupt",
     "evalue": "",
     "output_type": "error",
     "traceback": [
      "\u001b[0;31m---------------------------------------------------------------------------\u001b[0m",
      "\u001b[0;31mKeyboardInterrupt\u001b[0m                         Traceback (most recent call last)",
      "Cell \u001b[0;32mIn[15], line 1\u001b[0m\n\u001b[0;32m----> 1\u001b[0m distances, fit_individual \u001b[38;5;241m=\u001b[39m \u001b[43mrun\u001b[49m\u001b[43m(\u001b[49m\u001b[38;5;241;43m100\u001b[39;49m\u001b[43m)\u001b[49m\n",
      "Cell \u001b[0;32mIn[13], line 22\u001b[0m, in \u001b[0;36mrun\u001b[0;34m(iterations)\u001b[0m\n\u001b[1;32m     19\u001b[0m \u001b[38;5;28mprint\u001b[39m(\u001b[38;5;124mf\u001b[39m\u001b[38;5;124m\"\u001b[39m\u001b[38;5;124mCurrent best: \u001b[39m\u001b[38;5;132;01m{\u001b[39;00m\u001b[38;5;28mmin\u001b[39m(distances[\u001b[38;5;241m-\u001b[39m\u001b[38;5;241m1\u001b[39m])\u001b[38;5;132;01m}\u001b[39;00m\u001b[38;5;124m, Current Average: \u001b[39m\u001b[38;5;132;01m{\u001b[39;00mnp\u001b[38;5;241m.\u001b[39mmean(distances[\u001b[38;5;241m-\u001b[39m\u001b[38;5;241m1\u001b[39m])\u001b[38;5;132;01m}\u001b[39;00m\u001b[38;5;124m, Average Connections: \u001b[39m\u001b[38;5;132;01m{\u001b[39;00mnp\u001b[38;5;241m.\u001b[39mmean([network\u001b[38;5;241m.\u001b[39mnum_connections\u001b[38;5;250m \u001b[39m\u001b[38;5;28;01mfor\u001b[39;00m\u001b[38;5;250m \u001b[39mnetwork\u001b[38;5;250m \u001b[39m\u001b[38;5;129;01min\u001b[39;00m\u001b[38;5;250m \u001b[39mpopulation])\u001b[38;5;132;01m}\u001b[39;00m\u001b[38;5;124m\"\u001b[39m)\n\u001b[1;32m     21\u001b[0m population \u001b[38;5;241m=\u001b[39m Genetic_Evolution(\u001b[38;5;28msorted\u001b[39m(population, key\u001b[38;5;241m=\u001b[39m\u001b[38;5;28;01mlambda\u001b[39;00m x: x\u001b[38;5;241m.\u001b[39mdistance)[:\u001b[38;5;28mlen\u001b[39m(population)\u001b[38;5;241m/\u001b[39m\u001b[38;5;241m/\u001b[39m\u001b[38;5;241m2\u001b[39m], mutation_probability\u001b[38;5;241m=\u001b[39m\u001b[38;5;241m0.01\u001b[39m)\u001b[38;5;241m.\u001b[39mnew_population()\n\u001b[0;32m---> 22\u001b[0m \u001b[43mevalutate_population\u001b[49m\u001b[43m(\u001b[49m\u001b[43mpopulation\u001b[49m\u001b[43m)\u001b[49m\n\u001b[1;32m     23\u001b[0m distances\u001b[38;5;241m.\u001b[39mappend([network\u001b[38;5;241m.\u001b[39mdistance \u001b[38;5;28;01mfor\u001b[39;00m network \u001b[38;5;129;01min\u001b[39;00m population])\n\u001b[1;32m     25\u001b[0m \u001b[38;5;28;01mif\u001b[39;00m \u001b[38;5;28mmin\u001b[39m(distances[\u001b[38;5;241m-\u001b[39m\u001b[38;5;241m1\u001b[39m]) \u001b[38;5;241m<\u001b[39m \u001b[38;5;241m10\u001b[39m\u001b[38;5;241m*\u001b[39m\u001b[38;5;241m*\u001b[39m\u001b[38;5;241m-\u001b[39m\u001b[38;5;241m3\u001b[39m:\n",
      "Cell \u001b[0;32mIn[11], line 10\u001b[0m, in \u001b[0;36mevalutate_population\u001b[0;34m(pop)\u001b[0m\n\u001b[1;32m      8\u001b[0m \u001b[38;5;28;01mfor\u001b[39;00m network \u001b[38;5;129;01min\u001b[39;00m pop:\n\u001b[1;32m      9\u001b[0m     \u001b[38;5;28;01mif\u001b[39;00m network\u001b[38;5;241m.\u001b[39mdistance \u001b[38;5;129;01mis\u001b[39;00m \u001b[38;5;28;01mNone\u001b[39;00m:\n\u001b[0;32m---> 10\u001b[0m         \u001b[43mevalutate_network\u001b[49m\u001b[43m(\u001b[49m\u001b[43mnetwork\u001b[49m\u001b[43m)\u001b[49m\n",
      "Cell \u001b[0;32mIn[11], line 4\u001b[0m, in \u001b[0;36mevalutate_network\u001b[0;34m(network)\u001b[0m\n\u001b[1;32m      3\u001b[0m \u001b[38;5;28;01mdef\u001b[39;00m \u001b[38;5;21mevalutate_network\u001b[39m(network):\n\u001b[0;32m----> 4\u001b[0m     \u001b[43mnetwork\u001b[49m\u001b[38;5;241;43m.\u001b[39;49m\u001b[43mcalculate_distance\u001b[49m\u001b[43m(\u001b[49m\u001b[43mtarget\u001b[49m\u001b[38;5;241;43m.\u001b[39;49m\u001b[43msink_data\u001b[49m\u001b[43m,\u001b[49m\u001b[43m \u001b[49m\u001b[43mts\u001b[49m\u001b[43m,\u001b[49m\u001b[43m \u001b[49m\u001b[43mnum_steps\u001b[49m\u001b[43m)\u001b[49m\n\u001b[1;32m      5\u001b[0m     \u001b[38;5;28;01mreturn\u001b[39;00m \u001b[38;5;28;01mNone\u001b[39;00m\n",
      "File \u001b[0;32m~/Documents/repos/genetic_algorithm/network.py:76\u001b[0m, in \u001b[0;36mFrozen_Network.calculate_distance\u001b[0;34m(self, target_data, timestep, num_steps)\u001b[0m\n\u001b[1;32m     75\u001b[0m \u001b[38;5;28;01mdef\u001b[39;00m \u001b[38;5;21mcalculate_distance\u001b[39m(\u001b[38;5;28mself\u001b[39m, target_data, timestep, num_steps):\n\u001b[0;32m---> 76\u001b[0m     \u001b[38;5;28;43mself\u001b[39;49m\u001b[38;5;241;43m.\u001b[39;49m\u001b[43mevolution\u001b[49m\u001b[43m(\u001b[49m\u001b[43mtimestep\u001b[49m\u001b[43m,\u001b[49m\u001b[43m \u001b[49m\u001b[43mnum_steps\u001b[49m\u001b[43m)\u001b[49m\n\u001b[1;32m     77\u001b[0m     \u001b[38;5;28mself\u001b[39m\u001b[38;5;241m.\u001b[39mdistance \u001b[38;5;241m=\u001b[39m np\u001b[38;5;241m.\u001b[39msum(\u001b[38;5;28mabs\u001b[39m(target_data \u001b[38;5;241m-\u001b[39m \u001b[38;5;28mself\u001b[39m\u001b[38;5;241m.\u001b[39msink_data))\n",
      "File \u001b[0;32m~/Documents/repos/genetic_algorithm/network.py:68\u001b[0m, in \u001b[0;36mFrozen_Network.evolution\u001b[0;34m(self, timestep, num_steps)\u001b[0m\n\u001b[1;32m     66\u001b[0m sink_operator \u001b[38;5;241m=\u001b[39m sink_operators[j]\n\u001b[1;32m     67\u001b[0m \u001b[38;5;66;03m# evolving the state that has the sink located at node i\u001b[39;00m\n\u001b[0;32m---> 68\u001b[0m sink_states[j] \u001b[38;5;241m=\u001b[39m sink_operator \u001b[38;5;241m@\u001b[39m sink_states[j] \u001b[38;5;241m@\u001b[39m \u001b[43mnp\u001b[49m\u001b[38;5;241;43m.\u001b[39;49m\u001b[43mconjugate\u001b[49m\u001b[43m(\u001b[49m\u001b[43msink_operator\u001b[49m\u001b[38;5;241;43m.\u001b[39;49m\u001b[43mT\u001b[49m\u001b[43m)\u001b[49m\n\u001b[1;32m     69\u001b[0m evolution_result \u001b[38;5;241m=\u001b[39m \u001b[38;5;241m1\u001b[39m \u001b[38;5;241m-\u001b[39m np\u001b[38;5;241m.\u001b[39mtrace(sink_states[j])\u001b[38;5;241m.\u001b[39mreal         \n\u001b[1;32m     70\u001b[0m timestep_data\u001b[38;5;241m.\u001b[39mappend(evolution_result)\n",
      "\u001b[0;31mKeyboardInterrupt\u001b[0m: "
     ]
    }
   ],
   "source": [
    "distances, fit_individual = run(100)"
   ]
  },
  {
   "cell_type": "markdown",
   "metadata": {},
   "source": [
    "## 4. Results"
   ]
  },
  {
   "cell_type": "code",
   "execution_count": null,
   "metadata": {},
   "outputs": [
    {
     "data": {
      "image/png": "[encoded data removed]",
      "text/plain": [
       "<Figure size 640x480 with 1 Axes>"
      ]
     },
     "metadata": {},
     "output_type": "display_data"
    }
   ],
   "source": [
    "\n",
    "# plotting the distance as a function of the number of times the algorithm is iterated\n",
    "plt.plot([i for i in range(len(distances))], np.min(distances, axis=1))\n",
    "plt.plot([i for i in range(len(distances))], np.average(distances, axis=1))\n",
    "plt.xlabel('Iteration')\n",
    "plt.ylabel('Distance')\n",
    "plt.title('Distance vs Iteration of GA')\n",
    "plt.show()\n"
   ]
  },
  {
   "cell_type": "code",
   "execution_count": null,
   "metadata": {},
   "outputs": [],
   "source": []
  }
 ],
 "metadata": {
  "kernelspec": {
   "display_name": "Python 3",
   "language": "python",
   "name": "python3"
  },
  "language_info": {
   "codemirror_mode": {
    "name": "ipython",
    "version": 3
   },
   "file_extension": ".py",
   "mimetype": "text/x-python",
   "name": "python",
   "nbconvert_exporter": "python",
   "pygments_lexer": "ipython3",
   "version": "3.12.0"
  }
 },
 "nbformat": 4,
 "nbformat_minor": 2
}
