{
 "cells": [
  {
   "cell_type": "markdown",
   "metadata": {},
   "source": [
    "## 1. Imports"
   ]
  },
  {
   "cell_type": "code",
   "execution_count": 186,
   "metadata": {},
   "outputs": [],
   "source": [
    "import numpy as np\n",
    "import math\n",
    "import random\n",
    "import networkx as nx\n",
    "from networkx import components\n",
    "from scipy.linalg import expm\n",
    "from scipy.linalg import sqrtm\n",
    "from tqdm import tqdm\n",
    "import matplotlib.pyplot as plt\n",
    "\n",
    "from alt_Frozen_Network_class import alt_Frozen_Network as alt_Frozen_Network_class\n",
    "from Genetic_Class import Genetic_Evolution"
   ]
  },
  {
   "cell_type": "markdown",
   "metadata": {},
   "source": [
    "## 2. Settings"
   ]
  },
  {
   "cell_type": "code",
   "execution_count": 187,
   "metadata": {},
   "outputs": [],
   "source": [
    "##########################################\n",
    "#number of networks I wish to consider\n",
    "pop_size = 200\n",
    "##########################################\n",
    "##########################################\n",
    "#network parameters\n",
    "##########################################\n",
    "# number of nodes\n",
    "n = 10\n",
    "\n",
    "ts = np.linspace(0 , 0.5 , 6)"
   ]
  },
  {
   "cell_type": "code",
   "execution_count": 188,
   "metadata": {},
   "outputs": [],
   "source": [
    "def kron(*matrices):\n",
    "    result = np.array([[1]])\n",
    "    for matrix in matrices:\n",
    "        result = np.kron(result, matrix)\n",
    "    return result"
   ]
  },
  {
   "cell_type": "markdown",
   "metadata": {},
   "source": [
    "## 3. Target Setup"
   ]
  },
  {
   "cell_type": "code",
   "execution_count": 189,
   "metadata": {},
   "outputs": [],
   "source": [
    "\n",
    "def F(n , prob):\n",
    "    return nx.erdos_renyi_graph(n , prob)\n",
    "\n",
    "##########################################\n",
    "#target\n",
    "##########################################\n",
    "prob = 0.1\n",
    "target = F(n , prob)\n",
    "\n",
    "\n",
    "def adjacency_matrix_target():\n",
    "    return [np.array(nx.to_numpy_array(target).astype(\"complex\")) for _ in range(n)]"
   ]
  },
  {
   "cell_type": "markdown",
   "metadata": {},
   "source": [
    "Starting state setup"
   ]
  },
  {
   "cell_type": "code",
   "execution_count": 190,
   "metadata": {},
   "outputs": [],
   "source": [
    "k = 1\n",
    "rho0 = np.zeros((n , 1))\n",
    "rho0[k] = 1\n",
    "state = kron(rho0 , np.conjugate(rho0.T))\n",
    "\n",
    "##########################################\n",
    "# Adding the sink to the target list\n",
    "##########################################\n",
    "def target_sink_func():\n",
    "    mat_list = adjacency_matrix_target()\n",
    "    for i in range(n):\n",
    "        mat_list[i][i , i] -= 1j\n",
    "    return mat_list\n",
    "target_sink = target_sink_func()"
   ]
  },
  {
   "cell_type": "code",
   "execution_count": 191,
   "metadata": {},
   "outputs": [],
   "source": [
    "\n",
    "#target\n",
    "def evolution_target(t):\n",
    "    #expmatrix = expm(complex(0 , -1) * target_sink()[i] * t)\n",
    "        return [\n",
    "            \n",
    "                1-(np.trace\n",
    "                    ((expm(complex(0 , -1) * target_sink[i] * t))\n",
    "                    @ state\n",
    "                    @ (np.conjugate(expm(complex(0 , -1) * target_sink[i] * t).T))\n",
    "                  )\n",
    "                ).real\n",
    "            \n",
    "            for i in range(n)\n",
    "            ]\n",
    "def target_data():\n",
    "    data = []\n",
    "    for t in ts:\n",
    "        data.append(evolution_target(t))\n",
    "    return np.array(data)\n"
   ]
  },
  {
   "cell_type": "markdown",
   "metadata": {},
   "source": [
    "## 4. Population Setup"
   ]
  },
  {
   "cell_type": "code",
   "execution_count": 192,
   "metadata": {},
   "outputs": [],
   "source": [
    "def alt_genetic_distance(pop , start_index = 0):\n",
    "    dist = []\n",
    "    for i in range(start_index , pop_size):\n",
    "        dist.append([alt_Frozen_Network_class(pop[i] , target_data() , ts).calculate_distance() , pop[i]])\n",
    "    dist = sorted(dist , key = lambda x: x[0])\n",
    "    return [d[0] for d in dist] , [d[1] for d in dist]\n",
    "\n",
    "def fit_half(pop):\n",
    "    return pop[:pop_size // 2]\n",
    "\n",
    "def pop(pop_size, n):\n",
    "    return [nx.to_numpy_array(F(n, random.random())).astype(\"complex\") for _ in range(pop_size)]"
   ]
  },
  {
   "cell_type": "markdown",
   "metadata": {},
   "source": [
    "## 5. Genetic Algorithm"
   ]
  },
  {
   "cell_type": "code",
   "execution_count": 193,
   "metadata": {},
   "outputs": [],
   "source": [
    "targets = []\n",
    "combined_distances = []\n",
    "combined_best_individual = []\n",
    "combined_number_of_connections = []\n",
    "combined_new_pop_set = []\n",
    "combined_best_distance = []\n",
    "combined_mean_distance = []\n",
    "combined_fittest_individual = []\n",
    "combined_connections = []\n",
    "combined_degree_distribution = []\n",
    "combined_found_it = []"
   ]
  },
  {
   "cell_type": "code",
   "execution_count": null,
   "metadata": {},
   "outputs": [
    {
     "name": "stderr",
     "output_type": "stream",
     "text": [
      "  0%|          | 0/100 [00:00<?, ?it/s]"
     ]
    },
    {
     "name": "stdout",
     "output_type": "stream",
     "text": [
      "Best Dist:  0.40782708789551836\n",
      "Average Dist:  0.5749540292236636\n",
      "Best Adj Error:  30.0\n",
      "Average Adj Dist Error:  32.25\n"
     ]
    },
    {
     "name": "stderr",
     "output_type": "stream",
     "text": [
      "  1%|          | 1/100 [00:03<05:09,  3.13s/it]"
     ]
    },
    {
     "name": "stdout",
     "output_type": "stream",
     "text": [
      "Best Dist:  0.40782708789551836\n",
      "Average Dist:  0.5283650067399435\n",
      "Best Adj Error:  30.0\n",
      "Average Adj Dist Error:  28.55\n"
     ]
    },
    {
     "name": "stderr",
     "output_type": "stream",
     "text": [
      "  2%|▏         | 2/100 [00:06<04:56,  3.03s/it]"
     ]
    },
    {
     "name": "stdout",
     "output_type": "stream",
     "text": [
      "Best Dist:  0.4039234904990617\n",
      "Average Dist:  0.5040364578224665\n",
      "Best Adj Error:  28.0\n",
      "Average Adj Dist Error:  28.37\n"
     ]
    },
    {
     "name": "stderr",
     "output_type": "stream",
     "text": [
      "  3%|▎         | 3/100 [00:08<04:46,  2.96s/it]"
     ]
    },
    {
     "name": "stdout",
     "output_type": "stream",
     "text": [
      "Best Dist:  0.3350667331191332\n",
      "Average Dist:  0.4821147124655515\n",
      "Best Adj Error:  18.0\n",
      "Average Adj Dist Error:  27.87\n"
     ]
    },
    {
     "name": "stderr",
     "output_type": "stream",
     "text": [
      "  4%|▍         | 4/100 [00:11<04:41,  2.93s/it]"
     ]
    },
    {
     "name": "stdout",
     "output_type": "stream",
     "text": [
      "Best Dist:  0.3276811126139518\n",
      "Average Dist:  0.4638528403520191\n",
      "Best Adj Error:  20.0\n",
      "Average Adj Dist Error:  26.88\n"
     ]
    },
    {
     "name": "stderr",
     "output_type": "stream",
     "text": [
      "  5%|▌         | 5/100 [00:14<04:36,  2.91s/it]"
     ]
    },
    {
     "name": "stdout",
     "output_type": "stream",
     "text": [
      "Best Dist:  0.3276811126139518\n",
      "Average Dist:  0.4493430379161653\n",
      "Best Adj Error:  20.0\n",
      "Average Adj Dist Error:  26.16\n"
     ]
    },
    {
     "name": "stderr",
     "output_type": "stream",
     "text": [
      "  6%|▌         | 6/100 [00:17<04:26,  2.84s/it]"
     ]
    },
    {
     "name": "stdout",
     "output_type": "stream",
     "text": [
      "Best Dist:  0.27678449078105455\n",
      "Average Dist:  0.4387358260978844\n",
      "Best Adj Error:  20.0\n",
      "Average Adj Dist Error:  25.89\n"
     ]
    },
    {
     "name": "stderr",
     "output_type": "stream",
     "text": [
      "  7%|▋         | 7/100 [00:20<04:17,  2.77s/it]"
     ]
    },
    {
     "name": "stdout",
     "output_type": "stream",
     "text": [
      "extreme\n",
      "Best Dist:  0.27678449078105455\n",
      "Average Dist:  0.4232857308528947\n",
      "Best Adj Error:  20.0\n",
      "Average Adj Dist Error:  25.27\n"
     ]
    },
    {
     "name": "stderr",
     "output_type": "stream",
     "text": [
      "  8%|▊         | 8/100 [00:22<04:06,  2.68s/it]"
     ]
    },
    {
     "name": "stdout",
     "output_type": "stream",
     "text": [
      "extreme\n",
      "Best Dist:  0.27678449078105455\n",
      "Average Dist:  0.40554769234372645\n",
      "Best Adj Error:  20.0\n",
      "Average Adj Dist Error:  24.62\n"
     ]
    },
    {
     "name": "stderr",
     "output_type": "stream",
     "text": [
      "  9%|▉         | 9/100 [00:25<04:01,  2.65s/it]"
     ]
    },
    {
     "name": "stdout",
     "output_type": "stream",
     "text": [
      "extreme\n",
      "Best Dist:  0.2471172014497454\n",
      "Average Dist:  0.3974481602223804\n",
      "Best Adj Error:  16.0\n",
      "Average Adj Dist Error:  23.74\n"
     ]
    },
    {
     "name": "stderr",
     "output_type": "stream",
     "text": [
      " 10%|█         | 10/100 [00:27<03:56,  2.62s/it]"
     ]
    },
    {
     "name": "stdout",
     "output_type": "stream",
     "text": [
      "extreme\n",
      "Best Dist:  0.18163975472331573\n",
      "Average Dist:  0.37044944636377636\n",
      "Best Adj Error:  8.0\n",
      "Average Adj Dist Error:  22.49\n"
     ]
    },
    {
     "name": "stderr",
     "output_type": "stream",
     "text": [
      " 11%|█         | 11/100 [00:30<03:52,  2.61s/it]"
     ]
    },
    {
     "name": "stdout",
     "output_type": "stream",
     "text": [
      "extreme\n",
      "Best Dist:  0.18163975472331573\n",
      "Average Dist:  0.35270194458995136\n",
      "Best Adj Error:  8.0\n",
      "Average Adj Dist Error:  21.25\n"
     ]
    },
    {
     "name": "stderr",
     "output_type": "stream",
     "text": [
      " 12%|█▏        | 12/100 [00:32<03:47,  2.59s/it]"
     ]
    },
    {
     "name": "stdout",
     "output_type": "stream",
     "text": [
      "extreme\n",
      "Best Dist:  0.18163975472331573\n",
      "Average Dist:  0.3541766228665847\n",
      "Best Adj Error:  8.0\n",
      "Average Adj Dist Error:  20.58\n"
     ]
    },
    {
     "name": "stderr",
     "output_type": "stream",
     "text": [
      " 13%|█▎        | 13/100 [00:35<03:44,  2.58s/it]"
     ]
    },
    {
     "name": "stdout",
     "output_type": "stream",
     "text": [
      "extreme\n",
      "Best Dist:  0.18163975472331573\n",
      "Average Dist:  0.3352362545377369\n",
      "Best Adj Error:  8.0\n",
      "Average Adj Dist Error:  19.55\n"
     ]
    },
    {
     "name": "stderr",
     "output_type": "stream",
     "text": [
      " 14%|█▍        | 14/100 [00:37<03:40,  2.56s/it]"
     ]
    },
    {
     "name": "stdout",
     "output_type": "stream",
     "text": [
      "extreme\n",
      "Best Dist:  0.17411366223036093\n",
      "Average Dist:  0.3319552636435981\n",
      "Best Adj Error:  12.0\n",
      "Average Adj Dist Error:  18.6\n"
     ]
    },
    {
     "name": "stderr",
     "output_type": "stream",
     "text": [
      " 15%|█▌        | 15/100 [00:40<03:41,  2.61s/it]"
     ]
    },
    {
     "name": "stdout",
     "output_type": "stream",
     "text": [
      "extreme\n",
      "Best Dist:  0.17411366223036093\n",
      "Average Dist:  0.3371543072683103\n",
      "Best Adj Error:  12.0\n",
      "Average Adj Dist Error:  18.91\n"
     ]
    },
    {
     "name": "stderr",
     "output_type": "stream",
     "text": [
      " 16%|█▌        | 16/100 [00:43<03:39,  2.61s/it]"
     ]
    },
    {
     "name": "stdout",
     "output_type": "stream",
     "text": [
      "extreme\n",
      "Best Dist:  0.14333165690206173\n",
      "Average Dist:  0.32542528223594475\n",
      "Best Adj Error:  16.0\n",
      "Average Adj Dist Error:  18.87\n"
     ]
    },
    {
     "name": "stderr",
     "output_type": "stream",
     "text": [
      " 17%|█▋        | 17/100 [00:45<03:36,  2.61s/it]"
     ]
    },
    {
     "name": "stdout",
     "output_type": "stream",
     "text": [
      "extreme\n",
      "Best Dist:  0.14333165690206173\n",
      "Average Dist:  0.32837530419453104\n",
      "Best Adj Error:  16.0\n",
      "Average Adj Dist Error:  18.33\n"
     ]
    },
    {
     "name": "stderr",
     "output_type": "stream",
     "text": [
      " 18%|█▊        | 18/100 [00:48<03:32,  2.59s/it]"
     ]
    },
    {
     "name": "stdout",
     "output_type": "stream",
     "text": [
      "extreme\n",
      "Best Dist:  0.14333165690206173\n",
      "Average Dist:  0.3006618273376259\n",
      "Best Adj Error:  16.0\n",
      "Average Adj Dist Error:  17.64\n"
     ]
    },
    {
     "name": "stderr",
     "output_type": "stream",
     "text": [
      " 19%|█▉        | 19/100 [00:50<03:27,  2.57s/it]"
     ]
    },
    {
     "name": "stdout",
     "output_type": "stream",
     "text": [
      "extreme\n",
      "Best Dist:  0.14333165690206173\n",
      "Average Dist:  0.30172040341893075\n",
      "Best Adj Error:  16.0\n",
      "Average Adj Dist Error:  17.02\n"
     ]
    },
    {
     "name": "stderr",
     "output_type": "stream",
     "text": [
      " 20%|██        | 20/100 [00:53<03:26,  2.58s/it]"
     ]
    },
    {
     "name": "stdout",
     "output_type": "stream",
     "text": [
      "extreme\n",
      "Best Dist:  0.14333165690206173\n",
      "Average Dist:  0.2944696624908859\n",
      "Best Adj Error:  16.0\n",
      "Average Adj Dist Error:  16.22\n"
     ]
    },
    {
     "name": "stderr",
     "output_type": "stream",
     "text": [
      " 21%|██        | 21/100 [00:56<03:22,  2.56s/it]"
     ]
    },
    {
     "name": "stdout",
     "output_type": "stream",
     "text": [
      "extreme\n",
      "Best Dist:  0.14333165690206173\n",
      "Average Dist:  0.29453423063455186\n",
      "Best Adj Error:  16.0\n",
      "Average Adj Dist Error:  16.21\n"
     ]
    },
    {
     "name": "stderr",
     "output_type": "stream",
     "text": [
      " 22%|██▏       | 22/100 [00:58<03:19,  2.56s/it]"
     ]
    },
    {
     "name": "stdout",
     "output_type": "stream",
     "text": [
      "extreme\n",
      "Best Dist:  0.14333165690206173\n",
      "Average Dist:  0.29087982063599577\n",
      "Best Adj Error:  16.0\n",
      "Average Adj Dist Error:  16.01\n"
     ]
    },
    {
     "name": "stderr",
     "output_type": "stream",
     "text": [
      " 23%|██▎       | 23/100 [01:01<03:15,  2.53s/it]"
     ]
    },
    {
     "name": "stdout",
     "output_type": "stream",
     "text": [
      "extreme\n",
      "Best Dist:  0.14333165690206173\n",
      "Average Dist:  0.34404896333611845\n",
      "Best Adj Error:  16.0\n",
      "Average Adj Dist Error:  17.41\n"
     ]
    },
    {
     "name": "stderr",
     "output_type": "stream",
     "text": [
      " 24%|██▍       | 24/100 [01:03<03:13,  2.55s/it]"
     ]
    },
    {
     "name": "stdout",
     "output_type": "stream",
     "text": [
      "extreme\n",
      "Best Dist:  0.14333165690206173\n",
      "Average Dist:  0.28930110403687254\n",
      "Best Adj Error:  16.0\n",
      "Average Adj Dist Error:  16.39\n"
     ]
    },
    {
     "name": "stderr",
     "output_type": "stream",
     "text": [
      " 25%|██▌       | 25/100 [01:06<03:10,  2.54s/it]"
     ]
    },
    {
     "name": "stdout",
     "output_type": "stream",
     "text": [
      "extreme\n",
      "Best Dist:  0.14333165690206173\n",
      "Average Dist:  0.2832696584518549\n",
      "Best Adj Error:  16.0\n",
      "Average Adj Dist Error:  16.8\n"
     ]
    },
    {
     "name": "stderr",
     "output_type": "stream",
     "text": [
      " 26%|██▌       | 26/100 [01:08<03:11,  2.58s/it]"
     ]
    },
    {
     "name": "stdout",
     "output_type": "stream",
     "text": [
      "extreme\n",
      "Best Dist:  0.14333165690206173\n",
      "Average Dist:  0.30608243881611863\n",
      "Best Adj Error:  16.0\n",
      "Average Adj Dist Error:  17.33\n"
     ]
    },
    {
     "name": "stderr",
     "output_type": "stream",
     "text": [
      " 27%|██▋       | 27/100 [01:11<03:10,  2.60s/it]"
     ]
    },
    {
     "name": "stdout",
     "output_type": "stream",
     "text": [
      "extreme\n",
      "Best Dist:  0.14333165690206173\n",
      "Average Dist:  0.28603558004552343\n",
      "Best Adj Error:  16.0\n",
      "Average Adj Dist Error:  15.86\n"
     ]
    },
    {
     "name": "stderr",
     "output_type": "stream",
     "text": [
      " 28%|██▊       | 28/100 [01:14<03:12,  2.67s/it]"
     ]
    },
    {
     "name": "stdout",
     "output_type": "stream",
     "text": [
      "extreme\n",
      "Best Dist:  0.14333165690206173\n",
      "Average Dist:  0.25471186930100304\n",
      "Best Adj Error:  16.0\n",
      "Average Adj Dist Error:  14.06\n"
     ]
    },
    {
     "name": "stderr",
     "output_type": "stream",
     "text": [
      " 29%|██▉       | 29/100 [01:16<03:05,  2.61s/it]"
     ]
    },
    {
     "name": "stdout",
     "output_type": "stream",
     "text": [
      "extreme\n",
      "Best Dist:  0.14333165690206173\n",
      "Average Dist:  0.22034004477769423\n",
      "Best Adj Error:  16.0\n",
      "Average Adj Dist Error:  11.76\n"
     ]
    },
    {
     "name": "stderr",
     "output_type": "stream",
     "text": [
      " 30%|███       | 30/100 [01:19<03:02,  2.60s/it]"
     ]
    },
    {
     "name": "stdout",
     "output_type": "stream",
     "text": [
      "extreme\n",
      "Best Dist:  0.14333165690206173\n",
      "Average Dist:  0.21253904610569518\n",
      "Best Adj Error:  16.0\n",
      "Average Adj Dist Error:  9.17\n"
     ]
    },
    {
     "name": "stderr",
     "output_type": "stream",
     "text": [
      " 31%|███       | 31/100 [01:21<02:59,  2.60s/it]"
     ]
    },
    {
     "name": "stdout",
     "output_type": "stream",
     "text": [
      "extreme\n",
      "Best Dist:  0.14333165690206173\n",
      "Average Dist:  0.27425489905270367\n",
      "Best Adj Error:  16.0\n",
      "Average Adj Dist Error:  10.09\n"
     ]
    },
    {
     "name": "stderr",
     "output_type": "stream",
     "text": [
      " 32%|███▏      | 32/100 [01:24<02:56,  2.59s/it]"
     ]
    },
    {
     "name": "stdout",
     "output_type": "stream",
     "text": [
      "extreme\n",
      "Best Dist:  0.14333165690206173\n",
      "Average Dist:  0.21068626634423937\n",
      "Best Adj Error:  16.0\n",
      "Average Adj Dist Error:  9.2\n"
     ]
    },
    {
     "name": "stderr",
     "output_type": "stream",
     "text": [
      " 33%|███▎      | 33/100 [01:27<02:52,  2.57s/it]"
     ]
    },
    {
     "name": "stdout",
     "output_type": "stream",
     "text": [
      "extreme\n",
      "Best Dist:  0.14333165690206173\n",
      "Average Dist:  0.31858092756534023\n",
      "Best Adj Error:  16.0\n",
      "Average Adj Dist Error:  12.03\n"
     ]
    },
    {
     "name": "stderr",
     "output_type": "stream",
     "text": [
      " 34%|███▍      | 34/100 [01:29<02:50,  2.59s/it]"
     ]
    },
    {
     "name": "stdout",
     "output_type": "stream",
     "text": [
      "extreme\n",
      "Best Dist:  0.14333165690206173\n",
      "Average Dist:  0.24185893383133383\n",
      "Best Adj Error:  16.0\n",
      "Average Adj Dist Error:  10.36\n"
     ]
    },
    {
     "name": "stderr",
     "output_type": "stream",
     "text": [
      " 35%|███▌      | 35/100 [01:32<02:47,  2.58s/it]"
     ]
    },
    {
     "name": "stdout",
     "output_type": "stream",
     "text": [
      "extreme\n",
      "Best Dist:  0.14333165690206173\n",
      "Average Dist:  0.1874863795643497\n",
      "Best Adj Error:  16.0\n",
      "Average Adj Dist Error:  10.32\n"
     ]
    },
    {
     "name": "stderr",
     "output_type": "stream",
     "text": [
      " 36%|███▌      | 36/100 [01:34<02:44,  2.57s/it]"
     ]
    },
    {
     "name": "stdout",
     "output_type": "stream",
     "text": [
      "extreme\n",
      "Best Dist:  0.14333165690206173\n",
      "Average Dist:  0.23090101717661465\n",
      "Best Adj Error:  16.0\n",
      "Average Adj Dist Error:  12.65\n"
     ]
    },
    {
     "name": "stderr",
     "output_type": "stream",
     "text": [
      " 37%|███▋      | 37/100 [01:37<02:39,  2.53s/it]"
     ]
    },
    {
     "name": "stdout",
     "output_type": "stream",
     "text": [
      "extreme\n",
      "Best Dist:  0.14333165690206173\n",
      "Average Dist:  0.23250769002194432\n",
      "Best Adj Error:  16.0\n",
      "Average Adj Dist Error:  14.72\n"
     ]
    },
    {
     "name": "stderr",
     "output_type": "stream",
     "text": [
      " 38%|███▊      | 38/100 [01:39<02:39,  2.57s/it]"
     ]
    },
    {
     "name": "stdout",
     "output_type": "stream",
     "text": [
      "extreme\n",
      "Best Dist:  0.14333165690206173\n",
      "Average Dist:  0.2040659027102572\n",
      "Best Adj Error:  16.0\n",
      "Average Adj Dist Error:  15.92\n"
     ]
    },
    {
     "name": "stderr",
     "output_type": "stream",
     "text": [
      " 39%|███▉      | 39/100 [01:42<02:37,  2.59s/it]"
     ]
    },
    {
     "name": "stdout",
     "output_type": "stream",
     "text": [
      "extreme\n",
      "Best Dist:  0.14333165690206173\n",
      "Average Dist:  0.22228670079946627\n",
      "Best Adj Error:  16.0\n",
      "Average Adj Dist Error:  15.81\n"
     ]
    },
    {
     "name": "stderr",
     "output_type": "stream",
     "text": [
      " 40%|████      | 40/100 [01:45<02:37,  2.63s/it]"
     ]
    },
    {
     "name": "stdout",
     "output_type": "stream",
     "text": [
      "extreme\n",
      "Best Dist:  0.14333165690206173\n",
      "Average Dist:  0.23546381667681676\n",
      "Best Adj Error:  16.0\n",
      "Average Adj Dist Error:  15.71\n"
     ]
    },
    {
     "name": "stderr",
     "output_type": "stream",
     "text": [
      " 41%|████      | 41/100 [01:47<02:35,  2.64s/it]"
     ]
    },
    {
     "name": "stdout",
     "output_type": "stream",
     "text": [
      "extreme\n",
      "Best Dist:  0.14333165690206173\n",
      "Average Dist:  0.19532194489775542\n",
      "Best Adj Error:  16.0\n",
      "Average Adj Dist Error:  14.87\n"
     ]
    },
    {
     "name": "stderr",
     "output_type": "stream",
     "text": [
      " 42%|████▏     | 42/100 [01:50<02:32,  2.62s/it]"
     ]
    },
    {
     "name": "stdout",
     "output_type": "stream",
     "text": [
      "extreme\n",
      "Best Dist:  0.14333165690206173\n",
      "Average Dist:  0.18772122501385957\n",
      "Best Adj Error:  16.0\n",
      "Average Adj Dist Error:  13.73\n"
     ]
    },
    {
     "name": "stderr",
     "output_type": "stream",
     "text": [
      " 43%|████▎     | 43/100 [01:53<02:28,  2.61s/it]"
     ]
    },
    {
     "name": "stdout",
     "output_type": "stream",
     "text": [
      "extreme\n",
      "Best Dist:  0.14333165690206173\n",
      "Average Dist:  0.1851252331579926\n",
      "Best Adj Error:  16.0\n",
      "Average Adj Dist Error:  12.21\n"
     ]
    },
    {
     "name": "stderr",
     "output_type": "stream",
     "text": [
      " 44%|████▍     | 44/100 [01:55<02:27,  2.64s/it]"
     ]
    },
    {
     "name": "stdout",
     "output_type": "stream",
     "text": [
      "extreme\n",
      "Best Dist:  0.12353593025767351\n",
      "Average Dist:  0.197616565912393\n",
      "Best Adj Error:  16.0\n",
      "Average Adj Dist Error:  12.45\n"
     ]
    },
    {
     "name": "stderr",
     "output_type": "stream",
     "text": [
      " 45%|████▌     | 45/100 [01:58<02:24,  2.62s/it]"
     ]
    },
    {
     "name": "stdout",
     "output_type": "stream",
     "text": [
      "extreme\n",
      "Best Dist:  0.12353593025767351\n",
      "Average Dist:  0.19584219157253316\n",
      "Best Adj Error:  16.0\n",
      "Average Adj Dist Error:  12.58\n"
     ]
    },
    {
     "name": "stderr",
     "output_type": "stream",
     "text": [
      " 46%|████▌     | 46/100 [02:00<02:19,  2.59s/it]"
     ]
    },
    {
     "name": "stdout",
     "output_type": "stream",
     "text": [
      "extreme\n",
      "Best Dist:  0.12353593025767351\n",
      "Average Dist:  0.3094805404904952\n",
      "Best Adj Error:  16.0\n",
      "Average Adj Dist Error:  14.8\n"
     ]
    },
    {
     "name": "stderr",
     "output_type": "stream",
     "text": [
      " 47%|████▋     | 47/100 [02:03<02:18,  2.62s/it]"
     ]
    },
    {
     "name": "stdout",
     "output_type": "stream",
     "text": [
      "extreme\n",
      "Best Dist:  0.12353593025767351\n",
      "Average Dist:  0.24921079605528376\n",
      "Best Adj Error:  16.0\n",
      "Average Adj Dist Error:  13.65\n"
     ]
    },
    {
     "name": "stderr",
     "output_type": "stream",
     "text": [
      " 48%|████▊     | 48/100 [02:06<02:15,  2.61s/it]"
     ]
    },
    {
     "name": "stdout",
     "output_type": "stream",
     "text": [
      "extreme\n",
      "Best Dist:  0.12353593025767351\n",
      "Average Dist:  0.20313019912903507\n",
      "Best Adj Error:  16.0\n",
      "Average Adj Dist Error:  13.11\n"
     ]
    },
    {
     "name": "stderr",
     "output_type": "stream",
     "text": [
      " 49%|████▉     | 49/100 [02:08<02:13,  2.61s/it]"
     ]
    },
    {
     "name": "stdout",
     "output_type": "stream",
     "text": [
      "extreme\n",
      "Best Dist:  0.12353593025767351\n",
      "Average Dist:  0.24220600979018567\n",
      "Best Adj Error:  16.0\n",
      "Average Adj Dist Error:  14.13\n"
     ]
    },
    {
     "name": "stderr",
     "output_type": "stream",
     "text": [
      " 50%|█████     | 50/100 [02:11<02:10,  2.61s/it]"
     ]
    },
    {
     "name": "stdout",
     "output_type": "stream",
     "text": [
      "extreme\n",
      "Best Dist:  0.12353593025767351\n",
      "Average Dist:  0.17504880804192716\n",
      "Best Adj Error:  16.0\n",
      "Average Adj Dist Error:  14.04\n"
     ]
    },
    {
     "name": "stderr",
     "output_type": "stream",
     "text": [
      " 51%|█████     | 51/100 [02:14<02:08,  2.63s/it]"
     ]
    },
    {
     "name": "stdout",
     "output_type": "stream",
     "text": [
      "extreme\n",
      "Best Dist:  0.12353593025767351\n",
      "Average Dist:  0.16561289614632912\n",
      "Best Adj Error:  16.0\n",
      "Average Adj Dist Error:  15.79\n"
     ]
    },
    {
     "name": "stderr",
     "output_type": "stream",
     "text": [
      " 52%|█████▏    | 52/100 [02:16<02:05,  2.61s/it]"
     ]
    },
    {
     "name": "stdout",
     "output_type": "stream",
     "text": [
      "extreme\n",
      "Best Dist:  0.12353593025767351\n",
      "Average Dist:  0.15575098815924254\n",
      "Best Adj Error:  16.0\n",
      "Average Adj Dist Error:  16.04\n"
     ]
    },
    {
     "name": "stderr",
     "output_type": "stream",
     "text": [
      " 53%|█████▎    | 53/100 [02:19<02:03,  2.63s/it]"
     ]
    },
    {
     "name": "stdout",
     "output_type": "stream",
     "text": [
      "extreme\n",
      "Best Dist:  0.12353593025767351\n",
      "Average Dist:  0.1315042959052847\n",
      "Best Adj Error:  16.0\n",
      "Average Adj Dist Error:  16.02\n"
     ]
    },
    {
     "name": "stderr",
     "output_type": "stream",
     "text": [
      " 54%|█████▍    | 54/100 [02:21<02:00,  2.61s/it]"
     ]
    },
    {
     "name": "stdout",
     "output_type": "stream",
     "text": [
      "extreme\n",
      "Best Dist:  0.12353593025767351\n",
      "Average Dist:  0.15254815757518952\n",
      "Best Adj Error:  16.0\n",
      "Average Adj Dist Error:  16.23\n"
     ]
    },
    {
     "name": "stderr",
     "output_type": "stream",
     "text": [
      " 55%|█████▌    | 55/100 [02:24<01:58,  2.63s/it]"
     ]
    },
    {
     "name": "stdout",
     "output_type": "stream",
     "text": [
      "extreme\n",
      "Best Dist:  0.12353593025767351\n",
      "Average Dist:  0.17513345496210456\n",
      "Best Adj Error:  16.0\n",
      "Average Adj Dist Error:  16.33\n"
     ]
    },
    {
     "name": "stderr",
     "output_type": "stream",
     "text": [
      " 56%|█████▌    | 56/100 [02:27<01:55,  2.63s/it]"
     ]
    },
    {
     "name": "stdout",
     "output_type": "stream",
     "text": [
      "extreme\n",
      "Best Dist:  0.12353593025767351\n",
      "Average Dist:  0.1803830686522324\n",
      "Best Adj Error:  16.0\n",
      "Average Adj Dist Error:  16.41\n"
     ]
    },
    {
     "name": "stderr",
     "output_type": "stream",
     "text": [
      " 57%|█████▋    | 57/100 [02:29<01:51,  2.58s/it]"
     ]
    },
    {
     "name": "stdout",
     "output_type": "stream",
     "text": [
      "extreme\n",
      "Best Dist:  0.12353593025767351\n",
      "Average Dist:  0.23859118530612722\n",
      "Best Adj Error:  16.0\n",
      "Average Adj Dist Error:  17.04\n",
      "extreme\n"
     ]
    },
    {
     "name": "stderr",
     "output_type": "stream",
     "text": [
      " 58%|█████▊    | 58/100 [02:33<02:08,  3.05s/it]"
     ]
    },
    {
     "name": "stdout",
     "output_type": "stream",
     "text": [
      "Best Dist:  0.12353593025767351\n",
      "Average Dist:  0.5423702044319105\n",
      "Best Adj Error:  16.0\n",
      "Average Adj Dist Error:  35.81\n",
      "extreme\n"
     ]
    },
    {
     "name": "stderr",
     "output_type": "stream",
     "text": [
      " 59%|█████▉    | 59/100 [02:37<02:16,  3.33s/it]"
     ]
    },
    {
     "name": "stdout",
     "output_type": "stream",
     "text": [
      "Best Dist:  0.12353593025767351\n",
      "Average Dist:  0.5394268744589875\n",
      "Best Adj Error:  16.0\n",
      "Average Adj Dist Error:  36.06\n",
      "extreme\n"
     ]
    },
    {
     "name": "stderr",
     "output_type": "stream",
     "text": [
      " 60%|██████    | 60/100 [02:42<02:25,  3.63s/it]"
     ]
    },
    {
     "name": "stdout",
     "output_type": "stream",
     "text": [
      "Best Dist:  0.12353593025767351\n",
      "Average Dist:  0.546106675693709\n",
      "Best Adj Error:  16.0\n",
      "Average Adj Dist Error:  36.11\n",
      "extreme\n"
     ]
    },
    {
     "name": "stderr",
     "output_type": "stream",
     "text": [
      " 61%|██████    | 61/100 [02:46<02:29,  3.85s/it]"
     ]
    },
    {
     "name": "stdout",
     "output_type": "stream",
     "text": [
      "Best Dist:  0.12353593025767351\n",
      "Average Dist:  0.5461995310160396\n",
      "Best Adj Error:  16.0\n",
      "Average Adj Dist Error:  35.45\n",
      "extreme\n"
     ]
    },
    {
     "name": "stderr",
     "output_type": "stream",
     "text": [
      " 62%|██████▏   | 62/100 [02:50<02:31,  3.98s/it]"
     ]
    },
    {
     "name": "stdout",
     "output_type": "stream",
     "text": [
      "new injection\n",
      "Best Dist:  0.12353593025767351\n",
      "Average Dist:  0.5632018996713847\n",
      "Best Adj Error:  16.0\n",
      "Average Adj Dist Error:  36.63\n",
      "extreme\n"
     ]
    },
    {
     "name": "stderr",
     "output_type": "stream",
     "text": [
      " 63%|██████▎   | 63/100 [02:55<02:40,  4.34s/it]"
     ]
    },
    {
     "name": "stdout",
     "output_type": "stream",
     "text": [
      "Best Dist:  0.12353593025767351\n",
      "Average Dist:  0.544618773847188\n",
      "Best Adj Error:  16.0\n",
      "Average Adj Dist Error:  35.51\n",
      "extreme\n"
     ]
    },
    {
     "name": "stderr",
     "output_type": "stream",
     "text": [
      " 64%|██████▍   | 64/100 [03:01<02:53,  4.81s/it]"
     ]
    },
    {
     "name": "stdout",
     "output_type": "stream",
     "text": [
      "Best Dist:  0.12353593025767351\n",
      "Average Dist:  0.5413630691023513\n",
      "Best Adj Error:  16.0\n",
      "Average Adj Dist Error:  36.31\n",
      "extreme\n"
     ]
    },
    {
     "name": "stderr",
     "output_type": "stream",
     "text": [
      " 65%|██████▌   | 65/100 [03:06<02:47,  4.78s/it]"
     ]
    },
    {
     "name": "stdout",
     "output_type": "stream",
     "text": [
      "Best Dist:  0.12353593025767351\n",
      "Average Dist:  0.5478510408470034\n",
      "Best Adj Error:  16.0\n",
      "Average Adj Dist Error:  35.53\n",
      "extreme\n"
     ]
    },
    {
     "name": "stderr",
     "output_type": "stream",
     "text": [
      " 66%|██████▌   | 66/100 [03:11<02:43,  4.81s/it]"
     ]
    },
    {
     "name": "stdout",
     "output_type": "stream",
     "text": [
      "Best Dist:  0.12353593025767351\n",
      "Average Dist:  0.5456407074164078\n",
      "Best Adj Error:  16.0\n",
      "Average Adj Dist Error:  35.88\n",
      "extreme\n"
     ]
    },
    {
     "name": "stderr",
     "output_type": "stream",
     "text": [
      " 67%|██████▋   | 67/100 [03:15<02:34,  4.68s/it]"
     ]
    },
    {
     "name": "stdout",
     "output_type": "stream",
     "text": [
      "new injection\n",
      "Best Dist:  0.12353593025767351\n",
      "Average Dist:  0.5396230263157988\n",
      "Best Adj Error:  16.0\n",
      "Average Adj Dist Error:  35.41\n",
      "extreme\n"
     ]
    },
    {
     "name": "stderr",
     "output_type": "stream",
     "text": [
      " 68%|██████▊   | 68/100 [03:19<02:23,  4.50s/it]"
     ]
    },
    {
     "name": "stdout",
     "output_type": "stream",
     "text": [
      "Best Dist:  0.12353593025767351\n",
      "Average Dist:  0.5491363638779787\n",
      "Best Adj Error:  16.0\n",
      "Average Adj Dist Error:  35.9\n",
      "extreme\n"
     ]
    },
    {
     "name": "stderr",
     "output_type": "stream",
     "text": [
      " 69%|██████▉   | 69/100 [03:23<02:14,  4.33s/it]"
     ]
    },
    {
     "name": "stdout",
     "output_type": "stream",
     "text": [
      "Best Dist:  0.12353593025767351\n",
      "Average Dist:  0.5396344039459112\n",
      "Best Adj Error:  16.0\n",
      "Average Adj Dist Error:  35.84\n",
      "extreme\n"
     ]
    },
    {
     "name": "stderr",
     "output_type": "stream",
     "text": [
      " 70%|███████   | 70/100 [03:28<02:10,  4.34s/it]"
     ]
    },
    {
     "name": "stdout",
     "output_type": "stream",
     "text": [
      "Best Dist:  0.12353593025767351\n",
      "Average Dist:  0.5441511197646215\n",
      "Best Adj Error:  16.0\n",
      "Average Adj Dist Error:  35.93\n",
      "extreme\n"
     ]
    },
    {
     "name": "stderr",
     "output_type": "stream",
     "text": [
      " 71%|███████   | 71/100 [03:32<02:03,  4.25s/it]"
     ]
    },
    {
     "name": "stdout",
     "output_type": "stream",
     "text": [
      "Best Dist:  0.12353593025767351\n",
      "Average Dist:  0.5416682035835124\n",
      "Best Adj Error:  16.0\n",
      "Average Adj Dist Error:  35.87\n",
      "extreme\n"
     ]
    },
    {
     "name": "stderr",
     "output_type": "stream",
     "text": [
      " 72%|███████▏  | 72/100 [03:38<02:13,  4.77s/it]"
     ]
    },
    {
     "name": "stdout",
     "output_type": "stream",
     "text": [
      "new injection\n",
      "Best Dist:  0.12353593025767351\n",
      "Average Dist:  0.5503225190519945\n",
      "Best Adj Error:  16.0\n",
      "Average Adj Dist Error:  36.59\n",
      "extreme\n"
     ]
    },
    {
     "name": "stderr",
     "output_type": "stream",
     "text": [
      " 73%|███████▎  | 73/100 [03:42<02:08,  4.76s/it]"
     ]
    },
    {
     "name": "stdout",
     "output_type": "stream",
     "text": [
      "Best Dist:  0.12353593025767351\n",
      "Average Dist:  0.5444060003721077\n",
      "Best Adj Error:  16.0\n",
      "Average Adj Dist Error:  35.35\n",
      "extreme\n"
     ]
    },
    {
     "name": "stderr",
     "output_type": "stream",
     "text": [
      " 74%|███████▍  | 74/100 [03:47<02:01,  4.68s/it]"
     ]
    },
    {
     "name": "stdout",
     "output_type": "stream",
     "text": [
      "Best Dist:  0.12353593025767351\n",
      "Average Dist:  0.538933388126246\n",
      "Best Adj Error:  16.0\n",
      "Average Adj Dist Error:  35.51\n",
      "extreme\n"
     ]
    },
    {
     "name": "stderr",
     "output_type": "stream",
     "text": [
      " 75%|███████▌  | 75/100 [03:51<01:53,  4.55s/it]"
     ]
    },
    {
     "name": "stdout",
     "output_type": "stream",
     "text": [
      "Best Dist:  0.12353593025767351\n",
      "Average Dist:  0.5471585698816018\n",
      "Best Adj Error:  16.0\n",
      "Average Adj Dist Error:  36.04\n",
      "extreme\n"
     ]
    },
    {
     "name": "stderr",
     "output_type": "stream",
     "text": [
      " 76%|███████▌  | 76/100 [03:56<01:48,  4.52s/it]"
     ]
    },
    {
     "name": "stdout",
     "output_type": "stream",
     "text": [
      "Best Dist:  0.12353593025767351\n",
      "Average Dist:  0.5501012401334748\n",
      "Best Adj Error:  16.0\n",
      "Average Adj Dist Error:  36.28\n",
      "extreme\n"
     ]
    },
    {
     "name": "stderr",
     "output_type": "stream",
     "text": [
      " 77%|███████▋  | 77/100 [04:00<01:42,  4.47s/it]"
     ]
    },
    {
     "name": "stdout",
     "output_type": "stream",
     "text": [
      "new injection\n",
      "Best Dist:  0.12353593025767351\n",
      "Average Dist:  0.5543758696520537\n",
      "Best Adj Error:  16.0\n",
      "Average Adj Dist Error:  35.99\n",
      "extreme\n"
     ]
    },
    {
     "name": "stderr",
     "output_type": "stream",
     "text": [
      " 78%|███████▊  | 78/100 [04:04<01:37,  4.43s/it]"
     ]
    },
    {
     "name": "stdout",
     "output_type": "stream",
     "text": [
      "Best Dist:  0.12353593025767351\n",
      "Average Dist:  0.5401844785170481\n",
      "Best Adj Error:  16.0\n",
      "Average Adj Dist Error:  35.44\n",
      "extreme\n"
     ]
    },
    {
     "name": "stderr",
     "output_type": "stream",
     "text": [
      " 79%|███████▉  | 79/100 [04:09<01:32,  4.41s/it]"
     ]
    },
    {
     "name": "stdout",
     "output_type": "stream",
     "text": [
      "Best Dist:  0.12353593025767351\n",
      "Average Dist:  0.5319926894042593\n",
      "Best Adj Error:  16.0\n",
      "Average Adj Dist Error:  34.63\n",
      "extreme\n"
     ]
    },
    {
     "name": "stderr",
     "output_type": "stream",
     "text": [
      " 80%|████████  | 80/100 [04:13<01:29,  4.46s/it]"
     ]
    },
    {
     "name": "stdout",
     "output_type": "stream",
     "text": [
      "Best Dist:  0.12353593025767351\n",
      "Average Dist:  0.5419247039344264\n",
      "Best Adj Error:  16.0\n",
      "Average Adj Dist Error:  35.61\n",
      "extreme\n"
     ]
    },
    {
     "name": "stderr",
     "output_type": "stream",
     "text": [
      " 81%|████████  | 81/100 [04:17<01:23,  4.38s/it]"
     ]
    },
    {
     "name": "stdout",
     "output_type": "stream",
     "text": [
      "Best Dist:  0.12353593025767351\n",
      "Average Dist:  0.5410884218941239\n",
      "Best Adj Error:  16.0\n",
      "Average Adj Dist Error:  35.36\n",
      "extreme\n"
     ]
    },
    {
     "name": "stderr",
     "output_type": "stream",
     "text": [
      " 82%|████████▏ | 82/100 [04:22<01:17,  4.33s/it]"
     ]
    },
    {
     "name": "stdout",
     "output_type": "stream",
     "text": [
      "new injection\n",
      "Best Dist:  0.12353593025767351\n",
      "Average Dist:  0.5525647415684634\n",
      "Best Adj Error:  16.0\n",
      "Average Adj Dist Error:  36.17\n",
      "extreme\n"
     ]
    },
    {
     "name": "stderr",
     "output_type": "stream",
     "text": [
      " 83%|████████▎ | 83/100 [04:26<01:14,  4.40s/it]"
     ]
    },
    {
     "name": "stdout",
     "output_type": "stream",
     "text": [
      "Best Dist:  0.12353593025767351\n",
      "Average Dist:  0.5531673680255964\n",
      "Best Adj Error:  16.0\n",
      "Average Adj Dist Error:  35.59\n",
      "extreme\n"
     ]
    },
    {
     "name": "stderr",
     "output_type": "stream",
     "text": [
      " 84%|████████▍ | 84/100 [04:31<01:11,  4.47s/it]"
     ]
    },
    {
     "name": "stdout",
     "output_type": "stream",
     "text": [
      "Best Dist:  0.12353593025767351\n",
      "Average Dist:  0.5447145285736295\n",
      "Best Adj Error:  16.0\n",
      "Average Adj Dist Error:  35.84\n",
      "extreme\n"
     ]
    },
    {
     "name": "stderr",
     "output_type": "stream",
     "text": [
      " 85%|████████▌ | 85/100 [04:35<01:06,  4.44s/it]"
     ]
    },
    {
     "name": "stdout",
     "output_type": "stream",
     "text": [
      "Best Dist:  0.12353593025767351\n",
      "Average Dist:  0.5462695705140256\n",
      "Best Adj Error:  16.0\n",
      "Average Adj Dist Error:  36.02\n",
      "extreme\n"
     ]
    },
    {
     "name": "stderr",
     "output_type": "stream",
     "text": [
      " 86%|████████▌ | 86/100 [04:39<01:01,  4.38s/it]"
     ]
    },
    {
     "name": "stdout",
     "output_type": "stream",
     "text": [
      "Best Dist:  0.12353593025767351\n",
      "Average Dist:  0.547762608817845\n",
      "Best Adj Error:  16.0\n",
      "Average Adj Dist Error:  35.22\n",
      "extreme\n"
     ]
    },
    {
     "name": "stderr",
     "output_type": "stream",
     "text": [
      " 87%|████████▋ | 87/100 [04:44<00:57,  4.40s/it]"
     ]
    },
    {
     "name": "stdout",
     "output_type": "stream",
     "text": [
      "new injection\n",
      "Best Dist:  0.12353593025767351\n",
      "Average Dist:  0.557611921225018\n",
      "Best Adj Error:  16.0\n",
      "Average Adj Dist Error:  35.99\n",
      "extreme\n"
     ]
    },
    {
     "name": "stderr",
     "output_type": "stream",
     "text": [
      " 88%|████████▊ | 88/100 [04:48<00:53,  4.44s/it]"
     ]
    },
    {
     "name": "stdout",
     "output_type": "stream",
     "text": [
      "Best Dist:  0.12353593025767351\n",
      "Average Dist:  0.5373907793380153\n",
      "Best Adj Error:  16.0\n",
      "Average Adj Dist Error:  34.38\n",
      "extreme\n"
     ]
    },
    {
     "name": "stderr",
     "output_type": "stream",
     "text": [
      " 89%|████████▉ | 89/100 [04:55<00:54,  5.00s/it]"
     ]
    },
    {
     "name": "stdout",
     "output_type": "stream",
     "text": [
      "Best Dist:  0.12353593025767351\n",
      "Average Dist:  0.5444562003273137\n",
      "Best Adj Error:  16.0\n",
      "Average Adj Dist Error:  35.83\n",
      "extreme\n"
     ]
    },
    {
     "name": "stderr",
     "output_type": "stream",
     "text": [
      " 90%|█████████ | 90/100 [04:59<00:49,  4.91s/it]"
     ]
    },
    {
     "name": "stdout",
     "output_type": "stream",
     "text": [
      "Best Dist:  0.12353593025767351\n",
      "Average Dist:  0.5417421070565851\n",
      "Best Adj Error:  16.0\n",
      "Average Adj Dist Error:  35.74\n",
      "extreme\n"
     ]
    },
    {
     "name": "stderr",
     "output_type": "stream",
     "text": [
      " 91%|█████████ | 91/100 [05:04<00:43,  4.89s/it]"
     ]
    },
    {
     "name": "stdout",
     "output_type": "stream",
     "text": [
      "Best Dist:  0.12353593025767351\n",
      "Average Dist:  0.5499798066620994\n",
      "Best Adj Error:  16.0\n",
      "Average Adj Dist Error:  35.68\n",
      "extreme\n"
     ]
    },
    {
     "name": "stderr",
     "output_type": "stream",
     "text": [
      " 92%|█████████▏| 92/100 [05:09<00:37,  4.73s/it]"
     ]
    },
    {
     "name": "stdout",
     "output_type": "stream",
     "text": [
      "new injection\n",
      "Best Dist:  0.12353593025767351\n",
      "Average Dist:  0.556354566751055\n",
      "Best Adj Error:  16.0\n",
      "Average Adj Dist Error:  37.19\n",
      "extreme\n"
     ]
    },
    {
     "name": "stderr",
     "output_type": "stream",
     "text": [
      " 93%|█████████▎| 93/100 [05:13<00:31,  4.55s/it]"
     ]
    },
    {
     "name": "stdout",
     "output_type": "stream",
     "text": [
      "Best Dist:  0.12353593025767351\n",
      "Average Dist:  0.5435327230717786\n",
      "Best Adj Error:  16.0\n",
      "Average Adj Dist Error:  35.91\n",
      "extreme\n"
     ]
    },
    {
     "name": "stderr",
     "output_type": "stream",
     "text": [
      " 94%|█████████▍| 94/100 [05:17<00:26,  4.38s/it]"
     ]
    },
    {
     "name": "stdout",
     "output_type": "stream",
     "text": [
      "Best Dist:  0.12353593025767351\n",
      "Average Dist:  0.5417276180058167\n",
      "Best Adj Error:  16.0\n",
      "Average Adj Dist Error:  35.42\n",
      "extreme\n"
     ]
    },
    {
     "name": "stderr",
     "output_type": "stream",
     "text": [
      " 95%|█████████▌| 95/100 [05:22<00:22,  4.52s/it]"
     ]
    },
    {
     "name": "stdout",
     "output_type": "stream",
     "text": [
      "Best Dist:  0.12353593025767351\n",
      "Average Dist:  0.5374997552000009\n",
      "Best Adj Error:  16.0\n",
      "Average Adj Dist Error:  34.88\n",
      "extreme\n"
     ]
    },
    {
     "name": "stderr",
     "output_type": "stream",
     "text": [
      " 96%|█████████▌| 96/100 [05:26<00:17,  4.49s/it]"
     ]
    },
    {
     "name": "stdout",
     "output_type": "stream",
     "text": [
      "Best Dist:  0.12353593025767351\n",
      "Average Dist:  0.5392576456379082\n",
      "Best Adj Error:  16.0\n",
      "Average Adj Dist Error:  35.98\n",
      "extreme\n"
     ]
    },
    {
     "name": "stderr",
     "output_type": "stream",
     "text": [
      " 97%|█████████▋| 97/100 [05:30<00:13,  4.41s/it]"
     ]
    },
    {
     "name": "stdout",
     "output_type": "stream",
     "text": [
      "new injection\n",
      "Best Dist:  0.12353593025767351\n",
      "Average Dist:  0.5503388101756014\n",
      "Best Adj Error:  16.0\n",
      "Average Adj Dist Error:  36.82\n",
      "extreme\n"
     ]
    },
    {
     "name": "stderr",
     "output_type": "stream",
     "text": [
      " 98%|█████████▊| 98/100 [05:34<00:08,  4.33s/it]"
     ]
    },
    {
     "name": "stdout",
     "output_type": "stream",
     "text": [
      "Best Dist:  0.12353593025767351\n",
      "Average Dist:  0.5420522968077107\n",
      "Best Adj Error:  16.0\n",
      "Average Adj Dist Error:  36.32\n",
      "extreme\n"
     ]
    },
    {
     "name": "stderr",
     "output_type": "stream",
     "text": [
      " 99%|█████████▉| 99/100 [05:39<00:04,  4.29s/it]"
     ]
    },
    {
     "name": "stdout",
     "output_type": "stream",
     "text": [
      "Best Dist:  0.12353593025767351\n",
      "Average Dist:  0.5388636812885748\n",
      "Best Adj Error:  16.0\n",
      "Average Adj Dist Error:  35.48\n",
      "extreme\n"
     ]
    },
    {
     "name": "stderr",
     "output_type": "stream",
     "text": [
      "100%|██████████| 100/100 [05:43<00:00,  3.43s/it]\n"
     ]
    },
    {
     "name": "stdout",
     "output_type": "stream",
     "text": [
      "No fit individual found within iteration limit\n"
     ]
    },
    {
     "name": "stderr",
     "output_type": "stream",
     "text": [
      "  0%|          | 0/100 [00:00<?, ?it/s]"
     ]
    },
    {
     "name": "stdout",
     "output_type": "stream",
     "text": [
      "Best Dist:  0.48743971947920733\n",
      "Average Dist:  0.6380240665167919\n",
      "Best Adj Error:  28.0\n",
      "Average Adj Dist Error:  42.08\n"
     ]
    },
    {
     "name": "stderr",
     "output_type": "stream",
     "text": [
      "  1%|          | 1/100 [00:02<04:34,  2.77s/it]"
     ]
    },
    {
     "name": "stdout",
     "output_type": "stream",
     "text": [
      "Best Dist:  0.48743971947920733\n",
      "Average Dist:  0.6048813838984772\n",
      "Best Adj Error:  28.0\n",
      "Average Adj Dist Error:  40.75\n"
     ]
    },
    {
     "name": "stderr",
     "output_type": "stream",
     "text": [
      "  2%|▏         | 2/100 [00:05<04:16,  2.62s/it]"
     ]
    },
    {
     "name": "stdout",
     "output_type": "stream",
     "text": [
      "Best Dist:  0.47460756865670917\n",
      "Average Dist:  0.5847788204359803\n",
      "Best Adj Error:  40.0\n",
      "Average Adj Dist Error:  41.21\n"
     ]
    },
    {
     "name": "stderr",
     "output_type": "stream",
     "text": [
      "  3%|▎         | 3/100 [00:07<04:06,  2.54s/it]"
     ]
    },
    {
     "name": "stdout",
     "output_type": "stream",
     "text": [
      "Best Dist:  0.41880635774050695\n",
      "Average Dist:  0.567074432048023\n",
      "Best Adj Error:  38.0\n",
      "Average Adj Dist Error:  40.6\n"
     ]
    },
    {
     "name": "stderr",
     "output_type": "stream",
     "text": [
      "  4%|▍         | 4/100 [00:11<05:07,  3.21s/it]"
     ]
    },
    {
     "name": "stdout",
     "output_type": "stream",
     "text": [
      "Best Dist:  0.3552686189561981\n",
      "Average Dist:  0.5394147847971503\n",
      "Best Adj Error:  24.0\n",
      "Average Adj Dist Error:  38.53\n"
     ]
    },
    {
     "name": "stderr",
     "output_type": "stream",
     "text": [
      "  5%|▌         | 5/100 [00:15<05:16,  3.33s/it]"
     ]
    },
    {
     "name": "stdout",
     "output_type": "stream",
     "text": [
      "Best Dist:  0.3552686189561981\n",
      "Average Dist:  0.5288204152267837\n",
      "Best Adj Error:  24.0\n",
      "Average Adj Dist Error:  37.38\n"
     ]
    },
    {
     "name": "stderr",
     "output_type": "stream",
     "text": [
      "  6%|▌         | 6/100 [00:17<04:39,  2.97s/it]"
     ]
    },
    {
     "name": "stdout",
     "output_type": "stream",
     "text": [
      "Best Dist:  0.3552686189561981\n",
      "Average Dist:  0.49489329458233555\n",
      "Best Adj Error:  24.0\n",
      "Average Adj Dist Error:  36.32\n"
     ]
    },
    {
     "name": "stderr",
     "output_type": "stream",
     "text": [
      "  7%|▋         | 7/100 [00:20<04:26,  2.87s/it]"
     ]
    },
    {
     "name": "stdout",
     "output_type": "stream",
     "text": [
      "extreme\n",
      "Best Dist:  0.3552686189561981\n",
      "Average Dist:  0.4730103279933043\n",
      "Best Adj Error:  24.0\n",
      "Average Adj Dist Error:  34.99\n"
     ]
    },
    {
     "name": "stderr",
     "output_type": "stream",
     "text": [
      "  8%|▊         | 8/100 [00:22<04:12,  2.74s/it]"
     ]
    },
    {
     "name": "stdout",
     "output_type": "stream",
     "text": [
      "extreme\n",
      "Best Dist:  0.3155296994384828\n",
      "Average Dist:  0.44595269186021347\n",
      "Best Adj Error:  26.0\n",
      "Average Adj Dist Error:  33.93\n"
     ]
    },
    {
     "name": "stderr",
     "output_type": "stream",
     "text": [
      "  9%|▉         | 9/100 [00:25<04:06,  2.71s/it]"
     ]
    },
    {
     "name": "stdout",
     "output_type": "stream",
     "text": [
      "extreme\n",
      "Best Dist:  0.26149083166270143\n",
      "Average Dist:  0.42426291631607\n",
      "Best Adj Error:  28.0\n",
      "Average Adj Dist Error:  32.7\n"
     ]
    },
    {
     "name": "stderr",
     "output_type": "stream",
     "text": [
      " 10%|█         | 10/100 [00:27<03:55,  2.62s/it]"
     ]
    },
    {
     "name": "stdout",
     "output_type": "stream",
     "text": [
      "extreme\n",
      "Best Dist:  0.26149083166270143\n",
      "Average Dist:  0.40119331441164585\n",
      "Best Adj Error:  28.0\n",
      "Average Adj Dist Error:  30.84\n"
     ]
    },
    {
     "name": "stderr",
     "output_type": "stream",
     "text": [
      " 11%|█         | 11/100 [00:30<03:48,  2.56s/it]"
     ]
    },
    {
     "name": "stdout",
     "output_type": "stream",
     "text": [
      "extreme\n",
      "Best Dist:  0.26149083166270143\n",
      "Average Dist:  0.3879652639988324\n",
      "Best Adj Error:  28.0\n",
      "Average Adj Dist Error:  28.81\n"
     ]
    },
    {
     "name": "stderr",
     "output_type": "stream",
     "text": [
      " 12%|█▏        | 12/100 [00:32<03:41,  2.51s/it]"
     ]
    },
    {
     "name": "stdout",
     "output_type": "stream",
     "text": [
      "extreme\n",
      "Best Dist:  0.26149083166270143\n",
      "Average Dist:  0.36688191500261297\n",
      "Best Adj Error:  28.0\n",
      "Average Adj Dist Error:  27.47\n"
     ]
    },
    {
     "name": "stderr",
     "output_type": "stream",
     "text": [
      " 13%|█▎        | 13/100 [00:35<03:36,  2.49s/it]"
     ]
    },
    {
     "name": "stdout",
     "output_type": "stream",
     "text": [
      "extreme\n",
      "Best Dist:  0.26149083166270143\n",
      "Average Dist:  0.34748558697317455\n",
      "Best Adj Error:  28.0\n",
      "Average Adj Dist Error:  25.66\n"
     ]
    },
    {
     "name": "stderr",
     "output_type": "stream",
     "text": [
      " 14%|█▍        | 14/100 [00:37<03:32,  2.47s/it]"
     ]
    },
    {
     "name": "stdout",
     "output_type": "stream",
     "text": [
      "extreme\n",
      "Best Dist:  0.2419901484515778\n",
      "Average Dist:  0.3339447948862873\n",
      "Best Adj Error:  20.0\n",
      "Average Adj Dist Error:  25.58\n"
     ]
    },
    {
     "name": "stderr",
     "output_type": "stream",
     "text": [
      " 15%|█▌        | 15/100 [00:40<03:28,  2.45s/it]"
     ]
    },
    {
     "name": "stdout",
     "output_type": "stream",
     "text": [
      "extreme\n",
      "Best Dist:  0.2419901484515778\n",
      "Average Dist:  0.3658821820955396\n",
      "Best Adj Error:  20.0\n",
      "Average Adj Dist Error:  25.77\n"
     ]
    },
    {
     "name": "stderr",
     "output_type": "stream",
     "text": [
      " 16%|█▌        | 16/100 [00:42<03:25,  2.45s/it]"
     ]
    },
    {
     "name": "stdout",
     "output_type": "stream",
     "text": [
      "extreme\n",
      "Best Dist:  0.2419901484515778\n",
      "Average Dist:  0.3435134029525897\n",
      "Best Adj Error:  20.0\n",
      "Average Adj Dist Error:  25.37\n"
     ]
    },
    {
     "name": "stderr",
     "output_type": "stream",
     "text": [
      " 17%|█▋        | 17/100 [00:44<03:23,  2.45s/it]"
     ]
    },
    {
     "name": "stdout",
     "output_type": "stream",
     "text": [
      "extreme\n",
      "Best Dist:  0.2419901484515778\n",
      "Average Dist:  0.311034999891301\n",
      "Best Adj Error:  20.0\n",
      "Average Adj Dist Error:  24.48\n"
     ]
    },
    {
     "name": "stderr",
     "output_type": "stream",
     "text": [
      " 18%|█▊        | 18/100 [00:47<03:21,  2.46s/it]"
     ]
    },
    {
     "name": "stdout",
     "output_type": "stream",
     "text": [
      "extreme\n",
      "Best Dist:  0.2419901484515778\n",
      "Average Dist:  0.3305013945210903\n",
      "Best Adj Error:  20.0\n",
      "Average Adj Dist Error:  24.88\n"
     ]
    },
    {
     "name": "stderr",
     "output_type": "stream",
     "text": [
      " 19%|█▉        | 19/100 [00:49<03:17,  2.44s/it]"
     ]
    },
    {
     "name": "stdout",
     "output_type": "stream",
     "text": [
      "extreme\n",
      "Best Dist:  0.2074034713460817\n",
      "Average Dist:  0.3000781627219094\n",
      "Best Adj Error:  26.0\n",
      "Average Adj Dist Error:  24.02\n"
     ]
    },
    {
     "name": "stderr",
     "output_type": "stream",
     "text": [
      " 20%|██        | 20/100 [00:52<03:15,  2.45s/it]"
     ]
    },
    {
     "name": "stdout",
     "output_type": "stream",
     "text": [
      "extreme\n",
      "Best Dist:  0.2074034713460817\n",
      "Average Dist:  0.30309855193826235\n",
      "Best Adj Error:  26.0\n",
      "Average Adj Dist Error:  25.04\n"
     ]
    },
    {
     "name": "stderr",
     "output_type": "stream",
     "text": [
      " 21%|██        | 21/100 [00:54<03:13,  2.45s/it]"
     ]
    },
    {
     "name": "stdout",
     "output_type": "stream",
     "text": [
      "extreme\n",
      "Best Dist:  0.2074034713460817\n",
      "Average Dist:  0.28269500648718787\n",
      "Best Adj Error:  26.0\n",
      "Average Adj Dist Error:  25.27\n"
     ]
    },
    {
     "name": "stderr",
     "output_type": "stream",
     "text": [
      " 22%|██▏       | 22/100 [00:57<03:12,  2.47s/it]"
     ]
    },
    {
     "name": "stdout",
     "output_type": "stream",
     "text": [
      "extreme\n",
      "Best Dist:  0.2074034713460817\n",
      "Average Dist:  0.304944251388037\n",
      "Best Adj Error:  26.0\n",
      "Average Adj Dist Error:  26.38\n"
     ]
    },
    {
     "name": "stderr",
     "output_type": "stream",
     "text": [
      " 23%|██▎       | 23/100 [00:59<03:10,  2.47s/it]"
     ]
    },
    {
     "name": "stdout",
     "output_type": "stream",
     "text": [
      "extreme\n",
      "Best Dist:  0.2074034713460817\n",
      "Average Dist:  0.27205452209906683\n",
      "Best Adj Error:  26.0\n",
      "Average Adj Dist Error:  25.6\n"
     ]
    },
    {
     "name": "stderr",
     "output_type": "stream",
     "text": [
      " 24%|██▍       | 24/100 [01:02<03:05,  2.45s/it]"
     ]
    },
    {
     "name": "stdout",
     "output_type": "stream",
     "text": [
      "extreme\n",
      "Best Dist:  0.2074034713460817\n",
      "Average Dist:  0.27654511407679855\n",
      "Best Adj Error:  26.0\n",
      "Average Adj Dist Error:  24.3\n"
     ]
    },
    {
     "name": "stderr",
     "output_type": "stream",
     "text": [
      " 25%|██▌       | 25/100 [01:04<03:02,  2.43s/it]"
     ]
    },
    {
     "name": "stdout",
     "output_type": "stream",
     "text": [
      "extreme\n",
      "Best Dist:  0.2074034713460817\n",
      "Average Dist:  0.27129565307067105\n",
      "Best Adj Error:  26.0\n",
      "Average Adj Dist Error:  23.78\n"
     ]
    },
    {
     "name": "stderr",
     "output_type": "stream",
     "text": [
      " 26%|██▌       | 26/100 [01:06<02:59,  2.43s/it]"
     ]
    },
    {
     "name": "stdout",
     "output_type": "stream",
     "text": [
      "extreme\n",
      "Best Dist:  0.2074034713460817\n",
      "Average Dist:  0.2573712922057024\n",
      "Best Adj Error:  26.0\n",
      "Average Adj Dist Error:  23.57\n"
     ]
    },
    {
     "name": "stderr",
     "output_type": "stream",
     "text": [
      " 27%|██▋       | 27/100 [01:09<02:58,  2.44s/it]"
     ]
    },
    {
     "name": "stdout",
     "output_type": "stream",
     "text": [
      "extreme\n",
      "Best Dist:  0.19970301319790632\n",
      "Average Dist:  0.2632251895226518\n",
      "Best Adj Error:  28.0\n",
      "Average Adj Dist Error:  23.21\n"
     ]
    },
    {
     "name": "stderr",
     "output_type": "stream",
     "text": [
      " 28%|██▊       | 28/100 [01:11<02:56,  2.45s/it]"
     ]
    },
    {
     "name": "stdout",
     "output_type": "stream",
     "text": [
      "extreme\n",
      "Best Dist:  0.19732450508648655\n",
      "Average Dist:  0.26621290463805325\n",
      "Best Adj Error:  24.0\n",
      "Average Adj Dist Error:  23.98\n"
     ]
    },
    {
     "name": "stderr",
     "output_type": "stream",
     "text": [
      " 29%|██▉       | 29/100 [01:14<02:58,  2.52s/it]"
     ]
    },
    {
     "name": "stdout",
     "output_type": "stream",
     "text": [
      "extreme\n",
      "Best Dist:  0.19732450508648655\n",
      "Average Dist:  0.24399440367317926\n",
      "Best Adj Error:  24.0\n",
      "Average Adj Dist Error:  24.27\n"
     ]
    },
    {
     "name": "stderr",
     "output_type": "stream",
     "text": [
      " 30%|███       | 30/100 [01:17<02:55,  2.51s/it]"
     ]
    },
    {
     "name": "stdout",
     "output_type": "stream",
     "text": [
      "extreme\n",
      "Best Dist:  0.18020371228425835\n",
      "Average Dist:  0.24374823202546841\n",
      "Best Adj Error:  28.0\n",
      "Average Adj Dist Error:  26.42\n"
     ]
    },
    {
     "name": "stderr",
     "output_type": "stream",
     "text": [
      " 31%|███       | 31/100 [01:19<02:54,  2.53s/it]"
     ]
    },
    {
     "name": "stdout",
     "output_type": "stream",
     "text": [
      "extreme\n",
      "Best Dist:  0.18020371228425835\n",
      "Average Dist:  0.22458935130378394\n",
      "Best Adj Error:  28.0\n",
      "Average Adj Dist Error:  26.14\n"
     ]
    },
    {
     "name": "stderr",
     "output_type": "stream",
     "text": [
      " 32%|███▏      | 32/100 [01:22<02:53,  2.55s/it]"
     ]
    },
    {
     "name": "stdout",
     "output_type": "stream",
     "text": [
      "extreme\n",
      "Best Dist:  0.18020371228425835\n",
      "Average Dist:  0.25199469848485767\n",
      "Best Adj Error:  28.0\n",
      "Average Adj Dist Error:  26.17\n"
     ]
    },
    {
     "name": "stderr",
     "output_type": "stream",
     "text": [
      " 33%|███▎      | 33/100 [01:24<02:49,  2.54s/it]"
     ]
    },
    {
     "name": "stdout",
     "output_type": "stream",
     "text": [
      "extreme\n",
      "Best Dist:  0.18020371228425835\n",
      "Average Dist:  0.2389916421670245\n",
      "Best Adj Error:  28.0\n",
      "Average Adj Dist Error:  26.32\n"
     ]
    },
    {
     "name": "stderr",
     "output_type": "stream",
     "text": [
      " 34%|███▍      | 34/100 [01:27<03:00,  2.74s/it]"
     ]
    },
    {
     "name": "stdout",
     "output_type": "stream",
     "text": [
      "extreme\n",
      "Best Dist:  0.1773012806856425\n",
      "Average Dist:  0.24196894355153287\n",
      "Best Adj Error:  26.0\n",
      "Average Adj Dist Error:  26.11\n"
     ]
    },
    {
     "name": "stderr",
     "output_type": "stream",
     "text": [
      " 35%|███▌      | 35/100 [01:30<03:01,  2.80s/it]"
     ]
    },
    {
     "name": "stdout",
     "output_type": "stream",
     "text": [
      "extreme\n",
      "Best Dist:  0.1773012806856425\n",
      "Average Dist:  0.2160186866707692\n",
      "Best Adj Error:  26.0\n",
      "Average Adj Dist Error:  26.01\n"
     ]
    },
    {
     "name": "stderr",
     "output_type": "stream",
     "text": [
      " 36%|███▌      | 36/100 [01:33<02:52,  2.70s/it]"
     ]
    },
    {
     "name": "stdout",
     "output_type": "stream",
     "text": [
      "extreme\n",
      "Best Dist:  0.1773012806856425\n",
      "Average Dist:  0.23891037323085956\n",
      "Best Adj Error:  26.0\n",
      "Average Adj Dist Error:  25.33\n"
     ]
    },
    {
     "name": "stderr",
     "output_type": "stream",
     "text": [
      " 37%|███▋      | 37/100 [01:35<02:44,  2.61s/it]"
     ]
    },
    {
     "name": "stdout",
     "output_type": "stream",
     "text": [
      "extreme\n",
      "Best Dist:  0.1773012806856425\n",
      "Average Dist:  0.1905218009077093\n",
      "Best Adj Error:  26.0\n",
      "Average Adj Dist Error:  25.79\n"
     ]
    },
    {
     "name": "stderr",
     "output_type": "stream",
     "text": [
      " 38%|███▊      | 38/100 [01:38<02:41,  2.60s/it]"
     ]
    },
    {
     "name": "stdout",
     "output_type": "stream",
     "text": [
      "extreme\n",
      "Best Dist:  0.1773012806856425\n",
      "Average Dist:  0.19206401638664583\n",
      "Best Adj Error:  26.0\n",
      "Average Adj Dist Error:  27.51\n"
     ]
    },
    {
     "name": "stderr",
     "output_type": "stream",
     "text": [
      " 39%|███▉      | 39/100 [01:40<02:35,  2.55s/it]"
     ]
    },
    {
     "name": "stdout",
     "output_type": "stream",
     "text": [
      "extreme\n",
      "Best Dist:  0.1773012806856425\n",
      "Average Dist:  0.25742821910040364\n",
      "Best Adj Error:  26.0\n",
      "Average Adj Dist Error:  27.97\n"
     ]
    },
    {
     "name": "stderr",
     "output_type": "stream",
     "text": [
      " 40%|████      | 40/100 [01:43<02:30,  2.51s/it]"
     ]
    },
    {
     "name": "stdout",
     "output_type": "stream",
     "text": [
      "extreme\n",
      "Best Dist:  0.1773012806856425\n",
      "Average Dist:  0.2959487535818592\n",
      "Best Adj Error:  26.0\n",
      "Average Adj Dist Error:  28.34\n"
     ]
    },
    {
     "name": "stderr",
     "output_type": "stream",
     "text": [
      " 41%|████      | 41/100 [01:45<02:27,  2.50s/it]"
     ]
    },
    {
     "name": "stdout",
     "output_type": "stream",
     "text": [
      "extreme\n",
      "Best Dist:  0.1773012806856425\n",
      "Average Dist:  0.2060215093750977\n",
      "Best Adj Error:  26.0\n",
      "Average Adj Dist Error:  27.1\n"
     ]
    },
    {
     "name": "stderr",
     "output_type": "stream",
     "text": [
      " 42%|████▏     | 42/100 [01:48<02:25,  2.52s/it]"
     ]
    },
    {
     "name": "stdout",
     "output_type": "stream",
     "text": [
      "extreme\n",
      "Best Dist:  0.1773012806856425\n",
      "Average Dist:  0.21227768088401205\n",
      "Best Adj Error:  26.0\n",
      "Average Adj Dist Error:  26.4\n"
     ]
    },
    {
     "name": "stderr",
     "output_type": "stream",
     "text": [
      " 43%|████▎     | 43/100 [01:50<02:22,  2.50s/it]"
     ]
    },
    {
     "name": "stdout",
     "output_type": "stream",
     "text": [
      "extreme\n",
      "Best Dist:  0.1773012806856425\n",
      "Average Dist:  0.1800705826295259\n",
      "Best Adj Error:  26.0\n",
      "Average Adj Dist Error:  25.43\n"
     ]
    },
    {
     "name": "stderr",
     "output_type": "stream",
     "text": [
      " 44%|████▍     | 44/100 [01:53<02:21,  2.53s/it]"
     ]
    },
    {
     "name": "stdout",
     "output_type": "stream",
     "text": [
      "extreme\n",
      "Best Dist:  0.1773012806856425\n",
      "Average Dist:  0.1773012806856425\n",
      "Best Adj Error:  26.0\n",
      "Average Adj Dist Error:  26.0\n"
     ]
    },
    {
     "name": "stderr",
     "output_type": "stream",
     "text": [
      " 45%|████▌     | 45/100 [01:55<02:21,  2.57s/it]"
     ]
    },
    {
     "name": "stdout",
     "output_type": "stream",
     "text": [
      "extreme\n",
      "Best Dist:  0.1773012806856425\n",
      "Average Dist:  0.1773012806856425\n",
      "Best Adj Error:  26.0\n",
      "Average Adj Dist Error:  26.0\n"
     ]
    },
    {
     "name": "stderr",
     "output_type": "stream",
     "text": [
      " 46%|████▌     | 46/100 [01:58<02:20,  2.60s/it]"
     ]
    },
    {
     "name": "stdout",
     "output_type": "stream",
     "text": [
      "extreme\n",
      "Best Dist:  0.1773012806856425\n",
      "Average Dist:  0.21933249930573973\n",
      "Best Adj Error:  26.0\n",
      "Average Adj Dist Error:  26.28\n"
     ]
    },
    {
     "name": "stderr",
     "output_type": "stream",
     "text": [
      " 47%|████▋     | 47/100 [02:01<02:15,  2.55s/it]"
     ]
    },
    {
     "name": "stdout",
     "output_type": "stream",
     "text": [
      "extreme\n",
      "Best Dist:  0.1773012806856425\n",
      "Average Dist:  0.2146958213668124\n",
      "Best Adj Error:  26.0\n",
      "Average Adj Dist Error:  26.34\n",
      "extreme\n"
     ]
    },
    {
     "name": "stderr",
     "output_type": "stream",
     "text": [
      " 48%|████▊     | 48/100 [02:05<02:36,  3.02s/it]"
     ]
    },
    {
     "name": "stdout",
     "output_type": "stream",
     "text": [
      "Best Dist:  0.1773012806856425\n",
      "Average Dist:  0.5638870120379618\n",
      "Best Adj Error:  26.0\n",
      "Average Adj Dist Error:  39.39\n",
      "extreme\n"
     ]
    },
    {
     "name": "stderr",
     "output_type": "stream",
     "text": [
      " 49%|████▉     | 49/100 [02:09<02:47,  3.29s/it]"
     ]
    },
    {
     "name": "stdout",
     "output_type": "stream",
     "text": [
      "new injection\n",
      "Best Dist:  0.1773012806856425\n",
      "Average Dist:  0.5566015796385612\n",
      "Best Adj Error:  26.0\n",
      "Average Adj Dist Error:  39.18\n",
      "extreme\n"
     ]
    },
    {
     "name": "stderr",
     "output_type": "stream",
     "text": [
      " 50%|█████     | 50/100 [02:13<02:53,  3.47s/it]"
     ]
    },
    {
     "name": "stdout",
     "output_type": "stream",
     "text": [
      "Best Dist:  0.1773012806856425\n",
      "Average Dist:  0.5613924836554793\n",
      "Best Adj Error:  26.0\n",
      "Average Adj Dist Error:  39.32\n",
      "extreme\n"
     ]
    },
    {
     "name": "stderr",
     "output_type": "stream",
     "text": [
      " 51%|█████     | 51/100 [02:20<03:42,  4.53s/it]"
     ]
    },
    {
     "name": "stdout",
     "output_type": "stream",
     "text": [
      "Best Dist:  0.1773012806856425\n",
      "Average Dist:  0.5614176215843755\n",
      "Best Adj Error:  26.0\n",
      "Average Adj Dist Error:  39.64\n",
      "extreme\n"
     ]
    },
    {
     "name": "stderr",
     "output_type": "stream",
     "text": [
      " 52%|█████▏    | 52/100 [02:23<03:25,  4.27s/it]"
     ]
    },
    {
     "name": "stdout",
     "output_type": "stream",
     "text": [
      "Best Dist:  0.1773012806856425\n",
      "Average Dist:  0.556702241071021\n",
      "Best Adj Error:  26.0\n",
      "Average Adj Dist Error:  38.66\n",
      "extreme\n"
     ]
    },
    {
     "name": "stderr",
     "output_type": "stream",
     "text": [
      " 53%|█████▎    | 53/100 [02:27<03:13,  4.11s/it]"
     ]
    },
    {
     "name": "stdout",
     "output_type": "stream",
     "text": [
      "Best Dist:  0.1773012806856425\n",
      "Average Dist:  0.5504597203388097\n",
      "Best Adj Error:  26.0\n",
      "Average Adj Dist Error:  38.42\n",
      "extreme\n"
     ]
    },
    {
     "name": "stderr",
     "output_type": "stream",
     "text": [
      " 54%|█████▍    | 54/100 [02:31<03:04,  4.01s/it]"
     ]
    },
    {
     "name": "stdout",
     "output_type": "stream",
     "text": [
      "new injection\n",
      "Best Dist:  0.1773012806856425\n",
      "Average Dist:  0.5762443528101957\n",
      "Best Adj Error:  26.0\n",
      "Average Adj Dist Error:  39.77\n",
      "extreme\n"
     ]
    },
    {
     "name": "stderr",
     "output_type": "stream",
     "text": [
      " 55%|█████▌    | 55/100 [02:34<02:55,  3.89s/it]"
     ]
    },
    {
     "name": "stdout",
     "output_type": "stream",
     "text": [
      "Best Dist:  0.1773012806856425\n",
      "Average Dist:  0.5563157378306367\n",
      "Best Adj Error:  26.0\n",
      "Average Adj Dist Error:  38.78\n",
      "extreme\n"
     ]
    },
    {
     "name": "stderr",
     "output_type": "stream",
     "text": [
      " 56%|█████▌    | 56/100 [02:38<02:48,  3.84s/it]"
     ]
    },
    {
     "name": "stdout",
     "output_type": "stream",
     "text": [
      "Best Dist:  0.1773012806856425\n",
      "Average Dist:  0.5574437316854477\n",
      "Best Adj Error:  26.0\n",
      "Average Adj Dist Error:  39.09\n",
      "extreme\n"
     ]
    },
    {
     "name": "stderr",
     "output_type": "stream",
     "text": [
      " 57%|█████▋    | 57/100 [02:42<02:43,  3.79s/it]"
     ]
    },
    {
     "name": "stdout",
     "output_type": "stream",
     "text": [
      "Best Dist:  0.1773012806856425\n",
      "Average Dist:  0.5515177054679408\n",
      "Best Adj Error:  26.0\n",
      "Average Adj Dist Error:  39.23\n",
      "extreme\n"
     ]
    },
    {
     "name": "stderr",
     "output_type": "stream",
     "text": [
      " 58%|█████▊    | 58/100 [02:45<02:37,  3.75s/it]"
     ]
    },
    {
     "name": "stdout",
     "output_type": "stream",
     "text": [
      "Best Dist:  0.1773012806856425\n",
      "Average Dist:  0.5568317835259069\n",
      "Best Adj Error:  26.0\n",
      "Average Adj Dist Error:  38.88\n",
      "extreme\n"
     ]
    },
    {
     "name": "stderr",
     "output_type": "stream",
     "text": [
      " 59%|█████▉    | 59/100 [02:49<02:34,  3.77s/it]"
     ]
    },
    {
     "name": "stdout",
     "output_type": "stream",
     "text": [
      "new injection\n",
      "Best Dist:  0.1773012806856425\n",
      "Average Dist:  0.5716017851212254\n",
      "Best Adj Error:  26.0\n",
      "Average Adj Dist Error:  39.09\n",
      "extreme\n"
     ]
    },
    {
     "name": "stderr",
     "output_type": "stream",
     "text": [
      " 60%|██████    | 60/100 [02:53<02:33,  3.83s/it]"
     ]
    },
    {
     "name": "stdout",
     "output_type": "stream",
     "text": [
      "Best Dist:  0.1773012806856425\n",
      "Average Dist:  0.5541919408069649\n",
      "Best Adj Error:  26.0\n",
      "Average Adj Dist Error:  38.87\n",
      "extreme\n"
     ]
    },
    {
     "name": "stderr",
     "output_type": "stream",
     "text": [
      " 61%|██████    | 61/100 [02:57<02:31,  3.88s/it]"
     ]
    },
    {
     "name": "stdout",
     "output_type": "stream",
     "text": [
      "Best Dist:  0.1773012806856425\n",
      "Average Dist:  0.5643479168777833\n",
      "Best Adj Error:  26.0\n",
      "Average Adj Dist Error:  38.16\n",
      "extreme\n"
     ]
    },
    {
     "name": "stderr",
     "output_type": "stream",
     "text": [
      " 62%|██████▏   | 62/100 [03:01<02:28,  3.90s/it]"
     ]
    },
    {
     "name": "stdout",
     "output_type": "stream",
     "text": [
      "Best Dist:  0.1773012806856425\n",
      "Average Dist:  0.556505655769359\n",
      "Best Adj Error:  26.0\n",
      "Average Adj Dist Error:  39.28\n",
      "extreme\n"
     ]
    },
    {
     "name": "stderr",
     "output_type": "stream",
     "text": [
      " 63%|██████▎   | 63/100 [03:07<02:49,  4.59s/it]"
     ]
    },
    {
     "name": "stdout",
     "output_type": "stream",
     "text": [
      "Best Dist:  0.1773012806856425\n",
      "Average Dist:  0.5492941422042273\n",
      "Best Adj Error:  26.0\n",
      "Average Adj Dist Error:  38.75\n",
      "extreme\n"
     ]
    },
    {
     "name": "stderr",
     "output_type": "stream",
     "text": [
      " 64%|██████▍   | 64/100 [03:11<02:40,  4.46s/it]"
     ]
    },
    {
     "name": "stdout",
     "output_type": "stream",
     "text": [
      "new injection\n",
      "Best Dist:  0.1773012806856425\n",
      "Average Dist:  0.5710591735506282\n",
      "Best Adj Error:  26.0\n",
      "Average Adj Dist Error:  39.55\n",
      "extreme\n"
     ]
    },
    {
     "name": "stderr",
     "output_type": "stream",
     "text": [
      " 65%|██████▌   | 65/100 [03:15<02:28,  4.24s/it]"
     ]
    },
    {
     "name": "stdout",
     "output_type": "stream",
     "text": [
      "Best Dist:  0.1773012806856425\n",
      "Average Dist:  0.5576866880113992\n",
      "Best Adj Error:  26.0\n",
      "Average Adj Dist Error:  38.9\n",
      "extreme\n"
     ]
    },
    {
     "name": "stderr",
     "output_type": "stream",
     "text": [
      " 66%|██████▌   | 66/100 [03:19<02:18,  4.07s/it]"
     ]
    },
    {
     "name": "stdout",
     "output_type": "stream",
     "text": [
      "Best Dist:  0.1773012806856425\n",
      "Average Dist:  0.5522483961124076\n",
      "Best Adj Error:  26.0\n",
      "Average Adj Dist Error:  38.47\n",
      "extreme\n"
     ]
    },
    {
     "name": "stderr",
     "output_type": "stream",
     "text": [
      " 67%|██████▋   | 67/100 [03:23<02:11,  3.97s/it]"
     ]
    },
    {
     "name": "stdout",
     "output_type": "stream",
     "text": [
      "Best Dist:  0.1773012806856425\n",
      "Average Dist:  0.5552682880047487\n",
      "Best Adj Error:  26.0\n",
      "Average Adj Dist Error:  38.95\n",
      "extreme\n"
     ]
    },
    {
     "name": "stderr",
     "output_type": "stream",
     "text": [
      " 68%|██████▊   | 68/100 [03:26<02:04,  3.88s/it]"
     ]
    },
    {
     "name": "stdout",
     "output_type": "stream",
     "text": [
      "Best Dist:  0.1773012806856425\n",
      "Average Dist:  0.5518469793072022\n",
      "Best Adj Error:  26.0\n",
      "Average Adj Dist Error:  38.92\n",
      "extreme\n"
     ]
    },
    {
     "name": "stderr",
     "output_type": "stream",
     "text": [
      " 69%|██████▉   | 69/100 [03:30<01:59,  3.86s/it]"
     ]
    },
    {
     "name": "stdout",
     "output_type": "stream",
     "text": [
      "new injection\n",
      "Best Dist:  0.1773012806856425\n",
      "Average Dist:  0.5738147543944744\n",
      "Best Adj Error:  26.0\n",
      "Average Adj Dist Error:  39.45\n",
      "extreme\n"
     ]
    },
    {
     "name": "stderr",
     "output_type": "stream",
     "text": [
      " 70%|███████   | 70/100 [03:34<01:54,  3.83s/it]"
     ]
    },
    {
     "name": "stdout",
     "output_type": "stream",
     "text": [
      "Best Dist:  0.1773012806856425\n",
      "Average Dist:  0.5614615274589966\n",
      "Best Adj Error:  26.0\n",
      "Average Adj Dist Error:  38.11\n",
      "extreme\n"
     ]
    },
    {
     "name": "stderr",
     "output_type": "stream",
     "text": [
      " 71%|███████   | 71/100 [03:38<01:51,  3.83s/it]"
     ]
    },
    {
     "name": "stdout",
     "output_type": "stream",
     "text": [
      "Best Dist:  0.1773012806856425\n",
      "Average Dist:  0.5595336098678416\n",
      "Best Adj Error:  26.0\n",
      "Average Adj Dist Error:  39.3\n",
      "extreme\n"
     ]
    },
    {
     "name": "stderr",
     "output_type": "stream",
     "text": [
      " 72%|███████▏  | 72/100 [03:42<01:49,  3.92s/it]"
     ]
    },
    {
     "name": "stdout",
     "output_type": "stream",
     "text": [
      "Best Dist:  0.1773012806856425\n",
      "Average Dist:  0.5598887819450256\n",
      "Best Adj Error:  26.0\n",
      "Average Adj Dist Error:  39.23\n",
      "extreme\n"
     ]
    },
    {
     "name": "stderr",
     "output_type": "stream",
     "text": [
      " 73%|███████▎  | 73/100 [03:46<01:48,  4.02s/it]"
     ]
    },
    {
     "name": "stdout",
     "output_type": "stream",
     "text": [
      "Best Dist:  0.1773012806856425\n",
      "Average Dist:  0.5547718991400756\n",
      "Best Adj Error:  26.0\n",
      "Average Adj Dist Error:  38.78\n",
      "extreme\n"
     ]
    },
    {
     "name": "stderr",
     "output_type": "stream",
     "text": [
      " 74%|███████▍  | 74/100 [03:50<01:43,  3.99s/it]"
     ]
    },
    {
     "name": "stdout",
     "output_type": "stream",
     "text": [
      "new injection\n",
      "Best Dist:  0.1773012806856425\n",
      "Average Dist:  0.572842638554079\n",
      "Best Adj Error:  26.0\n",
      "Average Adj Dist Error:  39.33\n",
      "extreme\n"
     ]
    },
    {
     "name": "stderr",
     "output_type": "stream",
     "text": [
      " 75%|███████▌  | 75/100 [03:54<01:42,  4.10s/it]"
     ]
    },
    {
     "name": "stdout",
     "output_type": "stream",
     "text": [
      "Best Dist:  0.1773012806856425\n",
      "Average Dist:  0.5543933551204377\n",
      "Best Adj Error:  26.0\n",
      "Average Adj Dist Error:  38.62\n",
      "extreme\n"
     ]
    },
    {
     "name": "stderr",
     "output_type": "stream",
     "text": [
      " 76%|███████▌  | 76/100 [07:07<24:14, 60.60s/it]"
     ]
    },
    {
     "name": "stdout",
     "output_type": "stream",
     "text": [
      "Best Dist:  0.1773012806856425\n",
      "Average Dist:  0.5704892012934972\n",
      "Best Adj Error:  26.0\n",
      "Average Adj Dist Error:  39.33\n",
      "extreme\n"
     ]
    },
    {
     "name": "stderr",
     "output_type": "stream",
     "text": [
      " 77%|███████▋  | 77/100 [07:11<16:42, 43.57s/it]"
     ]
    },
    {
     "name": "stdout",
     "output_type": "stream",
     "text": [
      "Best Dist:  0.1773012806856425\n",
      "Average Dist:  0.5497566745816248\n",
      "Best Adj Error:  26.0\n",
      "Average Adj Dist Error:  38.68\n",
      "extreme\n"
     ]
    },
    {
     "name": "stderr",
     "output_type": "stream",
     "text": [
      " 78%|███████▊  | 78/100 [07:14<11:36, 31.66s/it]"
     ]
    },
    {
     "name": "stdout",
     "output_type": "stream",
     "text": [
      "Best Dist:  0.1773012806856425\n",
      "Average Dist:  0.5626424074186579\n",
      "Best Adj Error:  26.0\n",
      "Average Adj Dist Error:  39.59\n",
      "extreme\n"
     ]
    },
    {
     "name": "stderr",
     "output_type": "stream",
     "text": [
      " 79%|███████▉  | 79/100 [07:18<08:08, 23.26s/it]"
     ]
    },
    {
     "name": "stdout",
     "output_type": "stream",
     "text": [
      "new injection\n",
      "Best Dist:  0.1773012806856425\n",
      "Average Dist:  0.5638914958777737\n",
      "Best Adj Error:  26.0\n",
      "Average Adj Dist Error:  39.54\n",
      "extreme\n"
     ]
    },
    {
     "name": "stderr",
     "output_type": "stream",
     "text": [
      " 80%|████████  | 80/100 [07:22<05:47, 17.38s/it]"
     ]
    },
    {
     "name": "stdout",
     "output_type": "stream",
     "text": [
      "Best Dist:  0.1773012806856425\n",
      "Average Dist:  0.5534494383175743\n",
      "Best Adj Error:  26.0\n",
      "Average Adj Dist Error:  38.49\n",
      "extreme\n"
     ]
    },
    {
     "name": "stderr",
     "output_type": "stream",
     "text": [
      " 81%|████████  | 81/100 [07:25<04:12, 13.28s/it]"
     ]
    },
    {
     "name": "stdout",
     "output_type": "stream",
     "text": [
      "Best Dist:  0.1773012806856425\n",
      "Average Dist:  0.5406970000862221\n",
      "Best Adj Error:  26.0\n",
      "Average Adj Dist Error:  38.07\n",
      "extreme\n"
     ]
    },
    {
     "name": "stderr",
     "output_type": "stream",
     "text": [
      " 82%|████████▏ | 82/100 [07:29<03:07, 10.42s/it]"
     ]
    },
    {
     "name": "stdout",
     "output_type": "stream",
     "text": [
      "Best Dist:  0.1773012806856425\n",
      "Average Dist:  0.5541693008561126\n",
      "Best Adj Error:  26.0\n",
      "Average Adj Dist Error:  38.4\n",
      "extreme\n"
     ]
    },
    {
     "name": "stderr",
     "output_type": "stream",
     "text": [
      " 83%|████████▎ | 83/100 [07:33<02:22,  8.39s/it]"
     ]
    },
    {
     "name": "stdout",
     "output_type": "stream",
     "text": [
      "Best Dist:  0.1773012806856425\n",
      "Average Dist:  0.5615641986821026\n",
      "Best Adj Error:  26.0\n",
      "Average Adj Dist Error:  39.48\n",
      "extreme\n"
     ]
    },
    {
     "name": "stderr",
     "output_type": "stream",
     "text": [
      " 84%|████████▍ | 84/100 [07:37<01:53,  7.07s/it]"
     ]
    },
    {
     "name": "stdout",
     "output_type": "stream",
     "text": [
      "new injection\n",
      "Best Dist:  0.1773012806856425\n",
      "Average Dist:  0.5614362848560291\n",
      "Best Adj Error:  26.0\n",
      "Average Adj Dist Error:  39.69\n",
      "extreme\n"
     ]
    },
    {
     "name": "stderr",
     "output_type": "stream",
     "text": [
      " 85%|████████▌ | 85/100 [07:41<01:32,  6.15s/it]"
     ]
    },
    {
     "name": "stdout",
     "output_type": "stream",
     "text": [
      "Best Dist:  0.1773012806856425\n",
      "Average Dist:  0.5575430832976419\n",
      "Best Adj Error:  26.0\n",
      "Average Adj Dist Error:  39.33\n",
      "extreme\n"
     ]
    },
    {
     "name": "stderr",
     "output_type": "stream",
     "text": [
      " 86%|████████▌ | 86/100 [07:45<01:16,  5.47s/it]"
     ]
    },
    {
     "name": "stdout",
     "output_type": "stream",
     "text": [
      "Best Dist:  0.1773012806856425\n",
      "Average Dist:  0.5486101609563039\n",
      "Best Adj Error:  26.0\n",
      "Average Adj Dist Error:  38.62\n",
      "extreme\n"
     ]
    },
    {
     "name": "stderr",
     "output_type": "stream",
     "text": [
      " 87%|████████▋ | 87/100 [07:49<01:05,  5.07s/it]"
     ]
    },
    {
     "name": "stdout",
     "output_type": "stream",
     "text": [
      "Best Dist:  0.1773012806856425\n",
      "Average Dist:  0.5593874252250789\n",
      "Best Adj Error:  26.0\n",
      "Average Adj Dist Error:  38.45\n",
      "extreme\n"
     ]
    },
    {
     "name": "stderr",
     "output_type": "stream",
     "text": [
      " 88%|████████▊ | 88/100 [12:05<16:04, 80.40s/it]"
     ]
    },
    {
     "name": "stdout",
     "output_type": "stream",
     "text": [
      "Best Dist:  0.1773012806856425\n",
      "Average Dist:  0.5591118988892019\n",
      "Best Adj Error:  26.0\n",
      "Average Adj Dist Error:  38.88\n",
      "extreme\n"
     ]
    },
    {
     "name": "stderr",
     "output_type": "stream",
     "text": [
      " 89%|████████▉ | 89/100 [12:09<10:31, 57.44s/it]"
     ]
    },
    {
     "name": "stdout",
     "output_type": "stream",
     "text": [
      "new injection\n",
      "Best Dist:  0.1773012806856425\n",
      "Average Dist:  0.5705211544659816\n",
      "Best Adj Error:  26.0\n",
      "Average Adj Dist Error:  39.46\n",
      "extreme\n"
     ]
    },
    {
     "name": "stderr",
     "output_type": "stream",
     "text": [
      " 90%|█████████ | 90/100 [12:13<06:54, 41.42s/it]"
     ]
    },
    {
     "name": "stdout",
     "output_type": "stream",
     "text": [
      "Best Dist:  0.1773012806856425\n",
      "Average Dist:  0.552680132588899\n",
      "Best Adj Error:  26.0\n",
      "Average Adj Dist Error:  38.4\n",
      "extreme\n"
     ]
    },
    {
     "name": "stderr",
     "output_type": "stream",
     "text": [
      " 91%|█████████ | 91/100 [12:17<04:31, 30.15s/it]"
     ]
    },
    {
     "name": "stdout",
     "output_type": "stream",
     "text": [
      "Best Dist:  0.1773012806856425\n",
      "Average Dist:  0.5641130611381494\n",
      "Best Adj Error:  26.0\n",
      "Average Adj Dist Error:  39.1\n",
      "extreme\n"
     ]
    },
    {
     "name": "stderr",
     "output_type": "stream",
     "text": [
      " 92%|█████████▏| 92/100 [12:21<02:58, 22.28s/it]"
     ]
    },
    {
     "name": "stdout",
     "output_type": "stream",
     "text": [
      "Best Dist:  0.1773012806856425\n",
      "Average Dist:  0.555196390091837\n",
      "Best Adj Error:  26.0\n",
      "Average Adj Dist Error:  38.38\n",
      "extreme\n"
     ]
    },
    {
     "name": "stderr",
     "output_type": "stream",
     "text": [
      " 93%|█████████▎| 93/100 [12:25<01:57, 16.80s/it]"
     ]
    },
    {
     "name": "stdout",
     "output_type": "stream",
     "text": [
      "Best Dist:  0.1773012806856425\n",
      "Average Dist:  0.5487458756581524\n",
      "Best Adj Error:  26.0\n",
      "Average Adj Dist Error:  38.37\n",
      "extreme\n"
     ]
    },
    {
     "name": "stderr",
     "output_type": "stream",
     "text": [
      " 94%|█████████▍| 94/100 [12:29<01:17, 12.93s/it]"
     ]
    },
    {
     "name": "stdout",
     "output_type": "stream",
     "text": [
      "new injection\n",
      "Best Dist:  0.1773012806856425\n",
      "Average Dist:  0.5859294075199093\n",
      "Best Adj Error:  26.0\n",
      "Average Adj Dist Error:  39.38\n",
      "extreme\n"
     ]
    },
    {
     "name": "stderr",
     "output_type": "stream",
     "text": [
      " 95%|█████████▌| 95/100 [12:32<00:50, 10.20s/it]"
     ]
    },
    {
     "name": "stdout",
     "output_type": "stream",
     "text": [
      "Best Dist:  0.1773012806856425\n",
      "Average Dist:  0.5653299704134486\n",
      "Best Adj Error:  26.0\n",
      "Average Adj Dist Error:  38.85\n",
      "extreme\n"
     ]
    },
    {
     "name": "stderr",
     "output_type": "stream",
     "text": [
      " 96%|█████████▌| 96/100 [12:36<00:33,  8.31s/it]"
     ]
    },
    {
     "name": "stdout",
     "output_type": "stream",
     "text": [
      "Best Dist:  0.1773012806856425\n",
      "Average Dist:  0.553360016585671\n",
      "Best Adj Error:  26.0\n",
      "Average Adj Dist Error:  38.91\n",
      "extreme\n"
     ]
    },
    {
     "name": "stderr",
     "output_type": "stream",
     "text": [
      " 97%|█████████▋| 97/100 [12:40<00:21,  7.05s/it]"
     ]
    },
    {
     "name": "stdout",
     "output_type": "stream",
     "text": [
      "Best Dist:  0.1773012806856425\n",
      "Average Dist:  0.5494697072048453\n",
      "Best Adj Error:  26.0\n",
      "Average Adj Dist Error:  38.87\n",
      "extreme\n"
     ]
    },
    {
     "name": "stderr",
     "output_type": "stream",
     "text": [
      " 98%|█████████▊| 98/100 [12:45<00:12,  6.17s/it]"
     ]
    },
    {
     "name": "stdout",
     "output_type": "stream",
     "text": [
      "Best Dist:  0.1773012806856425\n",
      "Average Dist:  0.5506181647823716\n",
      "Best Adj Error:  26.0\n",
      "Average Adj Dist Error:  38.15\n",
      "extreme\n"
     ]
    },
    {
     "name": "stderr",
     "output_type": "stream",
     "text": [
      " 99%|█████████▉| 99/100 [12:49<00:05,  5.53s/it]"
     ]
    },
    {
     "name": "stdout",
     "output_type": "stream",
     "text": [
      "new injection\n",
      "Best Dist:  0.1773012806856425\n",
      "Average Dist:  0.5729970957720114\n",
      "Best Adj Error:  26.0\n",
      "Average Adj Dist Error:  39.22\n",
      "extreme\n"
     ]
    },
    {
     "name": "stderr",
     "output_type": "stream",
     "text": [
      "100%|██████████| 100/100 [17:07<00:00, 10.27s/it]\n"
     ]
    },
    {
     "name": "stdout",
     "output_type": "stream",
     "text": [
      "No fit individual found within iteration limit\n"
     ]
    },
    {
     "name": "stderr",
     "output_type": "stream",
     "text": [
      "  0%|          | 0/100 [00:00<?, ?it/s]"
     ]
    },
    {
     "name": "stdout",
     "output_type": "stream",
     "text": [
      "Best Dist:  0.2927824026116159\n",
      "Average Dist:  0.5271096830869508\n",
      "Best Adj Error:  4.0\n",
      "Average Adj Dist Error:  24.27\n"
     ]
    },
    {
     "name": "stderr",
     "output_type": "stream",
     "text": [
      "  1%|          | 1/100 [00:02<04:15,  2.58s/it]"
     ]
    },
    {
     "name": "stdout",
     "output_type": "stream",
     "text": [
      "Best Dist:  0.29116270278132905\n",
      "Average Dist:  0.44855461080008796\n",
      "Best Adj Error:  4.0\n",
      "Average Adj Dist Error:  13.86\n"
     ]
    },
    {
     "name": "stderr",
     "output_type": "stream",
     "text": [
      "  2%|▏         | 2/100 [00:04<04:02,  2.47s/it]"
     ]
    },
    {
     "name": "stdout",
     "output_type": "stream",
     "text": [
      "Best Dist:  0.22654989850349572\n",
      "Average Dist:  0.39516841554293225\n",
      "Best Adj Error:  4.0\n",
      "Average Adj Dist Error:  9.6\n"
     ]
    },
    {
     "name": "stderr",
     "output_type": "stream",
     "text": [
      "  3%|▎         | 3/100 [00:07<04:06,  2.54s/it]"
     ]
    },
    {
     "name": "stdout",
     "output_type": "stream",
     "text": [
      "Best Dist:  0.2258657912558254\n",
      "Average Dist:  0.3598053855012617\n",
      "Best Adj Error:  4.0\n",
      "Average Adj Dist Error:  6.96\n"
     ]
    },
    {
     "name": "stderr",
     "output_type": "stream",
     "text": [
      "  4%|▍         | 4/100 [00:09<03:57,  2.48s/it]"
     ]
    },
    {
     "name": "stdout",
     "output_type": "stream",
     "text": [
      "Best Dist:  0.22586579125580886\n",
      "Average Dist:  0.34078307194593477\n",
      "Best Adj Error:  4.0\n",
      "Average Adj Dist Error:  7.22\n"
     ]
    },
    {
     "name": "stderr",
     "output_type": "stream",
     "text": [
      "  5%|▌         | 5/100 [00:13<04:15,  2.68s/it]"
     ]
    },
    {
     "name": "stdout",
     "output_type": "stream",
     "text": [
      "Best Dist:  0.0\n",
      "Average Dist:  0.31391973250241734\n",
      "Best Adj Error:  0.0\n",
      "Average Adj Dist Error:  6.83\n",
      "fit individual found\n"
     ]
    },
    {
     "name": "stderr",
     "output_type": "stream",
     "text": [
      "\n",
      "  0%|          | 0/100 [00:00<?, ?it/s]"
     ]
    },
    {
     "name": "stdout",
     "output_type": "stream",
     "text": [
      "Best Dist:  0.3177608145166903\n",
      "Average Dist:  0.7257342460712408\n",
      "Best Adj Error:  34.0\n",
      "Average Adj Dist Error:  44.98\n"
     ]
    },
    {
     "name": "stderr",
     "output_type": "stream",
     "text": [
      "  1%|          | 1/100 [00:02<04:40,  2.83s/it]"
     ]
    },
    {
     "name": "stdout",
     "output_type": "stream",
     "text": [
      "Best Dist:  0.2929316922572822\n",
      "Average Dist:  0.6783527172359739\n",
      "Best Adj Error:  34.0\n",
      "Average Adj Dist Error:  41.34\n"
     ]
    },
    {
     "name": "stderr",
     "output_type": "stream",
     "text": [
      "  2%|▏         | 2/100 [00:05<04:06,  2.52s/it]"
     ]
    },
    {
     "name": "stdout",
     "output_type": "stream",
     "text": [
      "Best Dist:  0.2896314653338342\n",
      "Average Dist:  0.6169577938645116\n",
      "Best Adj Error:  32.0\n",
      "Average Adj Dist Error:  38.35\n"
     ]
    },
    {
     "name": "stderr",
     "output_type": "stream",
     "text": [
      "  3%|▎         | 3/100 [00:07<03:50,  2.37s/it]"
     ]
    },
    {
     "name": "stdout",
     "output_type": "stream",
     "text": [
      "Best Dist:  0.2781588102066605\n",
      "Average Dist:  0.5446348963972363\n",
      "Best Adj Error:  34.0\n",
      "Average Adj Dist Error:  37.62\n"
     ]
    },
    {
     "name": "stderr",
     "output_type": "stream",
     "text": [
      "  4%|▍         | 4/100 [00:09<03:49,  2.40s/it]"
     ]
    },
    {
     "name": "stdout",
     "output_type": "stream",
     "text": [
      "Best Dist:  0.2781588102066605\n",
      "Average Dist:  0.4777846931143894\n",
      "Best Adj Error:  34.0\n",
      "Average Adj Dist Error:  35.08\n"
     ]
    },
    {
     "name": "stderr",
     "output_type": "stream",
     "text": [
      "  5%|▌         | 5/100 [00:12<03:45,  2.38s/it]"
     ]
    },
    {
     "name": "stdout",
     "output_type": "stream",
     "text": [
      "Best Dist:  0.2058083331386162\n",
      "Average Dist:  0.40872071573001717\n",
      "Best Adj Error:  36.0\n",
      "Average Adj Dist Error:  34.09\n"
     ]
    },
    {
     "name": "stderr",
     "output_type": "stream",
     "text": [
      "  6%|▌         | 6/100 [00:14<03:43,  2.38s/it]"
     ]
    },
    {
     "name": "stdout",
     "output_type": "stream",
     "text": [
      "Best Dist:  0.2003482462763828\n",
      "Average Dist:  0.31055076747680865\n",
      "Best Adj Error:  42.0\n",
      "Average Adj Dist Error:  32.76\n"
     ]
    },
    {
     "name": "stderr",
     "output_type": "stream",
     "text": [
      "  7%|▋         | 7/100 [00:16<03:38,  2.35s/it]"
     ]
    },
    {
     "name": "stdout",
     "output_type": "stream",
     "text": [
      "extreme\n",
      "Best Dist:  0.2003482462763828\n",
      "Average Dist:  0.3005950343372718\n",
      "Best Adj Error:  42.0\n",
      "Average Adj Dist Error:  33.14\n"
     ]
    },
    {
     "name": "stderr",
     "output_type": "stream",
     "text": [
      "  8%|▊         | 8/100 [00:19<03:34,  2.33s/it]"
     ]
    },
    {
     "name": "stdout",
     "output_type": "stream",
     "text": [
      "extreme\n",
      "Best Dist:  0.2003482462763828\n",
      "Average Dist:  0.29664453544360997\n",
      "Best Adj Error:  42.0\n",
      "Average Adj Dist Error:  33.8\n"
     ]
    },
    {
     "name": "stderr",
     "output_type": "stream",
     "text": [
      "  9%|▉         | 9/100 [00:21<03:30,  2.31s/it]"
     ]
    },
    {
     "name": "stdout",
     "output_type": "stream",
     "text": [
      "extreme\n",
      "Best Dist:  0.2003482462763828\n",
      "Average Dist:  0.28905121073434414\n",
      "Best Adj Error:  42.0\n",
      "Average Adj Dist Error:  32.89\n"
     ]
    },
    {
     "name": "stderr",
     "output_type": "stream",
     "text": [
      " 10%|█         | 10/100 [00:24<03:47,  2.53s/it]"
     ]
    },
    {
     "name": "stdout",
     "output_type": "stream",
     "text": [
      "extreme\n",
      "Best Dist:  0.18105913720055333\n",
      "Average Dist:  0.2793565010095093\n",
      "Best Adj Error:  36.0\n",
      "Average Adj Dist Error:  32.86\n"
     ]
    },
    {
     "name": "stderr",
     "output_type": "stream",
     "text": [
      " 11%|█         | 11/100 [04:37<1:57:21, 79.12s/it]"
     ]
    },
    {
     "name": "stdout",
     "output_type": "stream",
     "text": [
      "extreme\n",
      "Best Dist:  0.18105913720055333\n",
      "Average Dist:  0.2879052385035941\n",
      "Best Adj Error:  36.0\n",
      "Average Adj Dist Error:  32.07\n"
     ]
    },
    {
     "name": "stderr",
     "output_type": "stream",
     "text": [
      " 12%|█▏        | 12/100 [04:39<1:21:48, 55.78s/it]"
     ]
    },
    {
     "name": "stdout",
     "output_type": "stream",
     "text": [
      "extreme\n",
      "Best Dist:  0.18105913720055333\n",
      "Average Dist:  0.24901981803503653\n",
      "Best Adj Error:  36.0\n",
      "Average Adj Dist Error:  31.7\n"
     ]
    },
    {
     "name": "stderr",
     "output_type": "stream",
     "text": [
      " 13%|█▎        | 13/100 [04:41<57:21, 39.56s/it]  "
     ]
    },
    {
     "name": "stdout",
     "output_type": "stream",
     "text": [
      "extreme\n",
      "Best Dist:  0.18105913720055333\n",
      "Average Dist:  0.24496082492210214\n",
      "Best Adj Error:  36.0\n",
      "Average Adj Dist Error:  31.26\n"
     ]
    },
    {
     "name": "stderr",
     "output_type": "stream",
     "text": [
      " 14%|█▍        | 14/100 [04:44<40:47, 28.46s/it]"
     ]
    },
    {
     "name": "stdout",
     "output_type": "stream",
     "text": [
      "extreme\n",
      "Best Dist:  0.15706309054678436\n",
      "Average Dist:  0.2677294051390497\n",
      "Best Adj Error:  24.0\n",
      "Average Adj Dist Error:  31.02\n"
     ]
    },
    {
     "name": "stderr",
     "output_type": "stream",
     "text": [
      " 15%|█▌        | 15/100 [04:47<29:14, 20.65s/it]"
     ]
    },
    {
     "name": "stdout",
     "output_type": "stream",
     "text": [
      "extreme\n",
      "Best Dist:  0.15706309054678436\n",
      "Average Dist:  0.2527331230937145\n",
      "Best Adj Error:  24.0\n",
      "Average Adj Dist Error:  30.29\n"
     ]
    },
    {
     "name": "stderr",
     "output_type": "stream",
     "text": [
      " 16%|█▌        | 16/100 [04:49<21:13, 15.16s/it]"
     ]
    },
    {
     "name": "stdout",
     "output_type": "stream",
     "text": [
      "extreme\n",
      "Best Dist:  0.15706309054678436\n",
      "Average Dist:  0.275898737869816\n",
      "Best Adj Error:  24.0\n",
      "Average Adj Dist Error:  31.65\n"
     ]
    },
    {
     "name": "stderr",
     "output_type": "stream",
     "text": [
      " 17%|█▋        | 17/100 [04:51<15:39, 11.31s/it]"
     ]
    },
    {
     "name": "stdout",
     "output_type": "stream",
     "text": [
      "extreme\n",
      "Best Dist:  0.15706309054678436\n",
      "Average Dist:  0.24334289004170834\n",
      "Best Adj Error:  24.0\n",
      "Average Adj Dist Error:  31.86\n"
     ]
    },
    {
     "name": "stderr",
     "output_type": "stream",
     "text": [
      " 18%|█▊        | 18/100 [04:54<11:45,  8.61s/it]"
     ]
    },
    {
     "name": "stdout",
     "output_type": "stream",
     "text": [
      "extreme\n",
      "Best Dist:  0.15331411703023987\n",
      "Average Dist:  0.2043930009286285\n",
      "Best Adj Error:  38.0\n",
      "Average Adj Dist Error:  32.1\n"
     ]
    },
    {
     "name": "stderr",
     "output_type": "stream",
     "text": [
      " 19%|█▉        | 19/100 [04:56<09:04,  6.72s/it]"
     ]
    },
    {
     "name": "stdout",
     "output_type": "stream",
     "text": [
      "extreme\n",
      "Best Dist:  0.1507635260295434\n",
      "Average Dist:  0.18473494363748139\n",
      "Best Adj Error:  24.0\n",
      "Average Adj Dist Error:  33.02\n"
     ]
    },
    {
     "name": "stderr",
     "output_type": "stream",
     "text": [
      " 20%|██        | 20/100 [04:58<07:15,  5.44s/it]"
     ]
    },
    {
     "name": "stdout",
     "output_type": "stream",
     "text": [
      "extreme\n",
      "Best Dist:  0.1507635260295434\n",
      "Average Dist:  0.18759165540952885\n",
      "Best Adj Error:  24.0\n",
      "Average Adj Dist Error:  32.28\n"
     ]
    },
    {
     "name": "stderr",
     "output_type": "stream",
     "text": [
      " 21%|██        | 21/100 [05:01<05:58,  4.54s/it]"
     ]
    },
    {
     "name": "stdout",
     "output_type": "stream",
     "text": [
      "extreme\n",
      "Best Dist:  0.1507635260295434\n",
      "Average Dist:  0.17545183303339149\n",
      "Best Adj Error:  24.0\n",
      "Average Adj Dist Error:  30.15\n"
     ]
    },
    {
     "name": "stderr",
     "output_type": "stream",
     "text": [
      " 22%|██▏       | 22/100 [05:03<05:01,  3.87s/it]"
     ]
    },
    {
     "name": "stdout",
     "output_type": "stream",
     "text": [
      "extreme\n",
      "Best Dist:  0.15041735003496146\n",
      "Average Dist:  0.21918481924179298\n",
      "Best Adj Error:  22.0\n",
      "Average Adj Dist Error:  28.32\n"
     ]
    },
    {
     "name": "stderr",
     "output_type": "stream",
     "text": [
      " 23%|██▎       | 23/100 [05:05<04:18,  3.36s/it]"
     ]
    },
    {
     "name": "stdout",
     "output_type": "stream",
     "text": [
      "extreme\n",
      "Best Dist:  0.15041735003496146\n",
      "Average Dist:  0.24121352623903328\n",
      "Best Adj Error:  22.0\n",
      "Average Adj Dist Error:  27.0\n"
     ]
    },
    {
     "name": "stderr",
     "output_type": "stream",
     "text": [
      " 24%|██▍       | 24/100 [05:08<03:52,  3.05s/it]"
     ]
    },
    {
     "name": "stdout",
     "output_type": "stream",
     "text": [
      "extreme\n",
      "Best Dist:  0.15041735003496146\n",
      "Average Dist:  0.16525355386070323\n",
      "Best Adj Error:  22.0\n",
      "Average Adj Dist Error:  25.74\n"
     ]
    },
    {
     "name": "stderr",
     "output_type": "stream",
     "text": [
      " 25%|██▌       | 25/100 [05:10<03:29,  2.80s/it]"
     ]
    },
    {
     "name": "stdout",
     "output_type": "stream",
     "text": [
      "extreme\n",
      "Best Dist:  0.15041735003496146\n",
      "Average Dist:  0.17223979395527952\n",
      "Best Adj Error:  22.0\n",
      "Average Adj Dist Error:  24.24\n"
     ]
    },
    {
     "name": "stderr",
     "output_type": "stream",
     "text": [
      " 26%|██▌       | 26/100 [05:12<03:18,  2.69s/it]"
     ]
    },
    {
     "name": "stdout",
     "output_type": "stream",
     "text": [
      "extreme\n",
      "Best Dist:  0.15041735003496146\n",
      "Average Dist:  0.16429823254054515\n",
      "Best Adj Error:  22.0\n",
      "Average Adj Dist Error:  23.97\n"
     ]
    },
    {
     "name": "stderr",
     "output_type": "stream",
     "text": [
      " 27%|██▋       | 27/100 [05:15<03:06,  2.56s/it]"
     ]
    },
    {
     "name": "stdout",
     "output_type": "stream",
     "text": [
      "extreme\n",
      "Best Dist:  0.15041735003496146\n",
      "Average Dist:  0.18366421514266096\n",
      "Best Adj Error:  22.0\n",
      "Average Adj Dist Error:  23.94\n"
     ]
    },
    {
     "name": "stderr",
     "output_type": "stream",
     "text": [
      " 28%|██▊       | 28/100 [05:17<03:00,  2.51s/it]"
     ]
    },
    {
     "name": "stdout",
     "output_type": "stream",
     "text": [
      "extreme\n",
      "Best Dist:  0.15041735003496146\n",
      "Average Dist:  0.25152710296745495\n",
      "Best Adj Error:  22.0\n",
      "Average Adj Dist Error:  24.3\n"
     ]
    },
    {
     "name": "stderr",
     "output_type": "stream",
     "text": [
      " 29%|██▉       | 29/100 [05:19<02:51,  2.41s/it]"
     ]
    },
    {
     "name": "stdout",
     "output_type": "stream",
     "text": [
      "extreme\n",
      "Best Dist:  0.15041735003496146\n",
      "Average Dist:  0.17455370214628904\n",
      "Best Adj Error:  22.0\n",
      "Average Adj Dist Error:  23.24\n"
     ]
    },
    {
     "name": "stderr",
     "output_type": "stream",
     "text": [
      " 30%|███       | 30/100 [05:22<02:45,  2.37s/it]"
     ]
    },
    {
     "name": "stdout",
     "output_type": "stream",
     "text": [
      "extreme\n",
      "Best Dist:  0.15041735003496146\n",
      "Average Dist:  0.18309799975576957\n",
      "Best Adj Error:  22.0\n",
      "Average Adj Dist Error:  22.67\n"
     ]
    },
    {
     "name": "stderr",
     "output_type": "stream",
     "text": [
      " 31%|███       | 31/100 [05:24<02:40,  2.33s/it]"
     ]
    },
    {
     "name": "stdout",
     "output_type": "stream",
     "text": [
      "extreme\n",
      "Best Dist:  0.15041735003496146\n",
      "Average Dist:  0.2272141691976816\n",
      "Best Adj Error:  22.0\n",
      "Average Adj Dist Error:  22.98\n"
     ]
    },
    {
     "name": "stderr",
     "output_type": "stream",
     "text": [
      " 32%|███▏      | 32/100 [05:26<02:38,  2.33s/it]"
     ]
    },
    {
     "name": "stdout",
     "output_type": "stream",
     "text": [
      "extreme\n",
      "Best Dist:  0.15012624000679925\n",
      "Average Dist:  0.1663545044977495\n",
      "Best Adj Error:  24.0\n",
      "Average Adj Dist Error:  22.38\n"
     ]
    },
    {
     "name": "stderr",
     "output_type": "stream",
     "text": [
      " 33%|███▎      | 33/100 [05:28<02:33,  2.28s/it]"
     ]
    },
    {
     "name": "stdout",
     "output_type": "stream",
     "text": [
      "extreme\n",
      "Best Dist:  0.15012624000679925\n",
      "Average Dist:  0.19129423294893455\n",
      "Best Adj Error:  24.0\n",
      "Average Adj Dist Error:  22.37\n"
     ]
    },
    {
     "name": "stderr",
     "output_type": "stream",
     "text": [
      " 34%|███▍      | 34/100 [05:31<02:32,  2.30s/it]"
     ]
    },
    {
     "name": "stdout",
     "output_type": "stream",
     "text": [
      "extreme\n",
      "Best Dist:  0.15012624000679925\n",
      "Average Dist:  0.22667761528070002\n",
      "Best Adj Error:  24.0\n",
      "Average Adj Dist Error:  22.9\n"
     ]
    },
    {
     "name": "stderr",
     "output_type": "stream",
     "text": [
      " 35%|███▌      | 35/100 [05:33<02:30,  2.32s/it]"
     ]
    },
    {
     "name": "stdout",
     "output_type": "stream",
     "text": [
      "extreme\n",
      "Best Dist:  0.15012624000679925\n",
      "Average Dist:  0.20184827359111737\n",
      "Best Adj Error:  24.0\n",
      "Average Adj Dist Error:  22.78\n"
     ]
    },
    {
     "name": "stderr",
     "output_type": "stream",
     "text": [
      " 36%|███▌      | 36/100 [05:35<02:29,  2.34s/it]"
     ]
    },
    {
     "name": "stdout",
     "output_type": "stream",
     "text": [
      "extreme\n",
      "Best Dist:  0.15012624000679925\n",
      "Average Dist:  0.23514423301610002\n",
      "Best Adj Error:  24.0\n",
      "Average Adj Dist Error:  23.0\n"
     ]
    },
    {
     "name": "stderr",
     "output_type": "stream",
     "text": [
      " 37%|███▋      | 37/100 [05:41<03:32,  3.38s/it]"
     ]
    },
    {
     "name": "stdout",
     "output_type": "stream",
     "text": [
      "extreme\n",
      "Best Dist:  0.15012624000679925\n",
      "Average Dist:  0.16735129936665438\n",
      "Best Adj Error:  24.0\n",
      "Average Adj Dist Error:  22.34\n"
     ]
    },
    {
     "name": "stderr",
     "output_type": "stream",
     "text": [
      " 38%|███▊      | 38/100 [05:44<03:18,  3.20s/it]"
     ]
    },
    {
     "name": "stdout",
     "output_type": "stream",
     "text": [
      "extreme\n",
      "Best Dist:  0.15012624000679925\n",
      "Average Dist:  0.2159503858836139\n",
      "Best Adj Error:  24.0\n",
      "Average Adj Dist Error:  22.85\n"
     ]
    },
    {
     "name": "stderr",
     "output_type": "stream",
     "text": [
      " 39%|███▉      | 39/100 [05:47<03:08,  3.10s/it]"
     ]
    },
    {
     "name": "stdout",
     "output_type": "stream",
     "text": [
      "extreme\n",
      "Best Dist:  0.15012624000679925\n",
      "Average Dist:  0.17892378625740651\n",
      "Best Adj Error:  24.0\n",
      "Average Adj Dist Error:  22.77\n"
     ]
    },
    {
     "name": "stderr",
     "output_type": "stream",
     "text": [
      " 40%|████      | 40/100 [05:50<03:00,  3.01s/it]"
     ]
    },
    {
     "name": "stdout",
     "output_type": "stream",
     "text": [
      "extreme\n",
      "Best Dist:  0.15012624000679925\n",
      "Average Dist:  0.16595481844306284\n",
      "Best Adj Error:  24.0\n",
      "Average Adj Dist Error:  22.78\n"
     ]
    },
    {
     "name": "stderr",
     "output_type": "stream",
     "text": [
      " 41%|████      | 41/100 [05:53<02:57,  3.01s/it]"
     ]
    },
    {
     "name": "stdout",
     "output_type": "stream",
     "text": [
      "extreme\n",
      "Best Dist:  0.15012624000679925\n",
      "Average Dist:  0.25661878678478284\n",
      "Best Adj Error:  24.0\n",
      "Average Adj Dist Error:  24.03\n"
     ]
    },
    {
     "name": "stderr",
     "output_type": "stream",
     "text": [
      " 42%|████▏     | 42/100 [05:55<02:50,  2.94s/it]"
     ]
    },
    {
     "name": "stdout",
     "output_type": "stream",
     "text": [
      "extreme\n",
      "Best Dist:  0.15012624000679925\n",
      "Average Dist:  0.20385659819402308\n",
      "Best Adj Error:  24.0\n",
      "Average Adj Dist Error:  23.97\n"
     ]
    },
    {
     "name": "stderr",
     "output_type": "stream",
     "text": [
      " 43%|████▎     | 43/100 [05:58<02:45,  2.91s/it]"
     ]
    },
    {
     "name": "stdout",
     "output_type": "stream",
     "text": [
      "extreme\n",
      "Best Dist:  0.15012624000679925\n",
      "Average Dist:  0.15743982913359922\n",
      "Best Adj Error:  24.0\n",
      "Average Adj Dist Error:  23.97\n"
     ]
    },
    {
     "name": "stderr",
     "output_type": "stream",
     "text": [
      " 44%|████▍     | 44/100 [06:01<02:33,  2.74s/it]"
     ]
    },
    {
     "name": "stdout",
     "output_type": "stream",
     "text": [
      "extreme\n",
      "Best Dist:  0.15012624000679925\n",
      "Average Dist:  0.17219839918356009\n",
      "Best Adj Error:  24.0\n",
      "Average Adj Dist Error:  24.29\n"
     ]
    },
    {
     "name": "stderr",
     "output_type": "stream",
     "text": [
      " 45%|████▌     | 45/100 [06:03<02:21,  2.58s/it]"
     ]
    },
    {
     "name": "stdout",
     "output_type": "stream",
     "text": [
      "extreme\n",
      "Best Dist:  0.15012624000679925\n",
      "Average Dist:  0.17501101143218267\n",
      "Best Adj Error:  24.0\n",
      "Average Adj Dist Error:  24.25\n",
      "extreme\n"
     ]
    },
    {
     "name": "stderr",
     "output_type": "stream",
     "text": [
      " 46%|████▌     | 46/100 [06:07<02:39,  2.95s/it]"
     ]
    },
    {
     "name": "stdout",
     "output_type": "stream",
     "text": [
      "Best Dist:  0.15012624000679925\n",
      "Average Dist:  0.5910306914740413\n",
      "Best Adj Error:  24.0\n",
      "Average Adj Dist Error:  37.88\n",
      "extreme\n"
     ]
    },
    {
     "name": "stderr",
     "output_type": "stream",
     "text": [
      " 47%|████▋     | 47/100 [06:10<02:51,  3.24s/it]"
     ]
    },
    {
     "name": "stdout",
     "output_type": "stream",
     "text": [
      "Best Dist:  0.15012624000679925\n",
      "Average Dist:  0.5816483192248485\n",
      "Best Adj Error:  24.0\n",
      "Average Adj Dist Error:  37.93\n",
      "extreme\n"
     ]
    },
    {
     "name": "stderr",
     "output_type": "stream",
     "text": [
      " 48%|████▊     | 48/100 [06:14<02:57,  3.42s/it]"
     ]
    },
    {
     "name": "stdout",
     "output_type": "stream",
     "text": [
      "Best Dist:  0.15012624000679925\n",
      "Average Dist:  0.5931535233107044\n",
      "Best Adj Error:  24.0\n",
      "Average Adj Dist Error:  38.99\n",
      "extreme\n"
     ]
    },
    {
     "name": "stderr",
     "output_type": "stream",
     "text": [
      " 49%|████▉     | 49/100 [06:18<03:00,  3.55s/it]"
     ]
    },
    {
     "name": "stdout",
     "output_type": "stream",
     "text": [
      "new injection\n",
      "Best Dist:  0.15012624000679925\n",
      "Average Dist:  0.5866322950831905\n",
      "Best Adj Error:  24.0\n",
      "Average Adj Dist Error:  38.36\n",
      "extreme\n"
     ]
    },
    {
     "name": "stderr",
     "output_type": "stream",
     "text": [
      " 50%|█████     | 50/100 [06:22<03:01,  3.64s/it]"
     ]
    },
    {
     "name": "stdout",
     "output_type": "stream",
     "text": [
      "Best Dist:  0.15012624000679925\n",
      "Average Dist:  0.5828046783963389\n",
      "Best Adj Error:  24.0\n",
      "Average Adj Dist Error:  38.35\n",
      "extreme\n"
     ]
    },
    {
     "name": "stderr",
     "output_type": "stream",
     "text": [
      " 51%|█████     | 51/100 [06:26<03:01,  3.70s/it]"
     ]
    },
    {
     "name": "stdout",
     "output_type": "stream",
     "text": [
      "Best Dist:  0.15012624000679925\n",
      "Average Dist:  0.579795650170347\n",
      "Best Adj Error:  24.0\n",
      "Average Adj Dist Error:  38.14\n",
      "extreme\n"
     ]
    },
    {
     "name": "stderr",
     "output_type": "stream",
     "text": [
      " 52%|█████▏    | 52/100 [06:29<02:56,  3.68s/it]"
     ]
    },
    {
     "name": "stdout",
     "output_type": "stream",
     "text": [
      "Best Dist:  0.15012624000679925\n",
      "Average Dist:  0.5768719692331508\n",
      "Best Adj Error:  24.0\n",
      "Average Adj Dist Error:  38.63\n",
      "extreme\n"
     ]
    },
    {
     "name": "stderr",
     "output_type": "stream",
     "text": [
      " 53%|█████▎    | 53/100 [06:33<02:54,  3.71s/it]"
     ]
    },
    {
     "name": "stdout",
     "output_type": "stream",
     "text": [
      "Best Dist:  0.15012624000679925\n",
      "Average Dist:  0.5808725993045892\n",
      "Best Adj Error:  24.0\n",
      "Average Adj Dist Error:  38.59\n",
      "extreme\n"
     ]
    },
    {
     "name": "stderr",
     "output_type": "stream",
     "text": [
      " 54%|█████▍    | 54/100 [06:37<02:51,  3.73s/it]"
     ]
    },
    {
     "name": "stdout",
     "output_type": "stream",
     "text": [
      "new injection\n",
      "Best Dist:  0.15012624000679925\n",
      "Average Dist:  0.5964074107198561\n",
      "Best Adj Error:  24.0\n",
      "Average Adj Dist Error:  37.94\n",
      "extreme\n"
     ]
    },
    {
     "name": "stderr",
     "output_type": "stream",
     "text": [
      " 55%|█████▌    | 55/100 [06:41<02:47,  3.73s/it]"
     ]
    },
    {
     "name": "stdout",
     "output_type": "stream",
     "text": [
      "Best Dist:  0.15012624000679925\n",
      "Average Dist:  0.5792106004108077\n",
      "Best Adj Error:  24.0\n",
      "Average Adj Dist Error:  37.79\n",
      "extreme\n"
     ]
    },
    {
     "name": "stderr",
     "output_type": "stream",
     "text": [
      " 56%|█████▌    | 56/100 [06:45<02:44,  3.75s/it]"
     ]
    },
    {
     "name": "stdout",
     "output_type": "stream",
     "text": [
      "Best Dist:  0.15012624000679925\n",
      "Average Dist:  0.587163733729736\n",
      "Best Adj Error:  24.0\n",
      "Average Adj Dist Error:  37.86\n",
      "extreme\n"
     ]
    },
    {
     "name": "stderr",
     "output_type": "stream",
     "text": [
      " 57%|█████▋    | 57/100 [06:48<02:39,  3.70s/it]"
     ]
    },
    {
     "name": "stdout",
     "output_type": "stream",
     "text": [
      "Best Dist:  0.15012624000679925\n",
      "Average Dist:  0.5788347876773073\n",
      "Best Adj Error:  24.0\n",
      "Average Adj Dist Error:  38.19\n",
      "extreme\n"
     ]
    },
    {
     "name": "stderr",
     "output_type": "stream",
     "text": [
      " 58%|█████▊    | 58/100 [06:52<02:34,  3.69s/it]"
     ]
    },
    {
     "name": "stdout",
     "output_type": "stream",
     "text": [
      "Best Dist:  0.15012624000679925\n",
      "Average Dist:  0.5894710490796313\n",
      "Best Adj Error:  24.0\n",
      "Average Adj Dist Error:  38.28\n",
      "extreme\n"
     ]
    },
    {
     "name": "stderr",
     "output_type": "stream",
     "text": [
      " 59%|█████▉    | 59/100 [06:56<02:32,  3.72s/it]"
     ]
    },
    {
     "name": "stdout",
     "output_type": "stream",
     "text": [
      "new injection\n",
      "Best Dist:  0.15012624000679925\n",
      "Average Dist:  0.5961155577121002\n",
      "Best Adj Error:  24.0\n",
      "Average Adj Dist Error:  39.65\n",
      "extreme\n"
     ]
    },
    {
     "name": "stderr",
     "output_type": "stream",
     "text": [
      " 60%|██████    | 60/100 [06:59<02:29,  3.74s/it]"
     ]
    },
    {
     "name": "stdout",
     "output_type": "stream",
     "text": [
      "Best Dist:  0.15012624000679925\n",
      "Average Dist:  0.5818305727825348\n",
      "Best Adj Error:  24.0\n",
      "Average Adj Dist Error:  38.18\n",
      "extreme\n"
     ]
    },
    {
     "name": "stderr",
     "output_type": "stream",
     "text": [
      " 61%|██████    | 61/100 [07:03<02:28,  3.81s/it]"
     ]
    },
    {
     "name": "stdout",
     "output_type": "stream",
     "text": [
      "Best Dist:  0.15012624000679925\n",
      "Average Dist:  0.5723756974099373\n",
      "Best Adj Error:  24.0\n",
      "Average Adj Dist Error:  38.08\n",
      "extreme\n"
     ]
    },
    {
     "name": "stderr",
     "output_type": "stream",
     "text": [
      " 62%|██████▏   | 62/100 [07:07<02:22,  3.74s/it]"
     ]
    },
    {
     "name": "stdout",
     "output_type": "stream",
     "text": [
      "Best Dist:  0.15012624000679925\n",
      "Average Dist:  0.5850254031296455\n",
      "Best Adj Error:  24.0\n",
      "Average Adj Dist Error:  38.01\n",
      "extreme\n"
     ]
    },
    {
     "name": "stderr",
     "output_type": "stream",
     "text": [
      " 63%|██████▎   | 63/100 [07:11<02:18,  3.75s/it]"
     ]
    },
    {
     "name": "stdout",
     "output_type": "stream",
     "text": [
      "Best Dist:  0.15012624000679925\n",
      "Average Dist:  0.5840788038901091\n",
      "Best Adj Error:  24.0\n",
      "Average Adj Dist Error:  38.23\n",
      "extreme\n"
     ]
    },
    {
     "name": "stderr",
     "output_type": "stream",
     "text": [
      " 64%|██████▍   | 64/100 [07:14<02:13,  3.70s/it]"
     ]
    },
    {
     "name": "stdout",
     "output_type": "stream",
     "text": [
      "new injection\n",
      "Best Dist:  0.15012624000679925\n",
      "Average Dist:  0.5887930495517533\n",
      "Best Adj Error:  24.0\n",
      "Average Adj Dist Error:  38.7\n",
      "extreme\n"
     ]
    },
    {
     "name": "stderr",
     "output_type": "stream",
     "text": [
      " 65%|██████▌   | 65/100 [07:18<02:08,  3.69s/it]"
     ]
    },
    {
     "name": "stdout",
     "output_type": "stream",
     "text": [
      "Best Dist:  0.15012624000679925\n",
      "Average Dist:  0.5891160014757544\n",
      "Best Adj Error:  24.0\n",
      "Average Adj Dist Error:  38.45\n",
      "extreme\n"
     ]
    },
    {
     "name": "stderr",
     "output_type": "stream",
     "text": [
      " 66%|██████▌   | 66/100 [07:22<02:05,  3.69s/it]"
     ]
    },
    {
     "name": "stdout",
     "output_type": "stream",
     "text": [
      "Best Dist:  0.15012624000679925\n",
      "Average Dist:  0.5822629078418181\n",
      "Best Adj Error:  24.0\n",
      "Average Adj Dist Error:  38.17\n",
      "extreme\n"
     ]
    },
    {
     "name": "stderr",
     "output_type": "stream",
     "text": [
      " 67%|██████▋   | 67/100 [07:25<02:01,  3.69s/it]"
     ]
    },
    {
     "name": "stdout",
     "output_type": "stream",
     "text": [
      "Best Dist:  0.15012624000679925\n",
      "Average Dist:  0.582631332232381\n",
      "Best Adj Error:  24.0\n",
      "Average Adj Dist Error:  38.06\n",
      "extreme\n"
     ]
    },
    {
     "name": "stderr",
     "output_type": "stream",
     "text": [
      " 68%|██████▊   | 68/100 [07:29<01:59,  3.75s/it]"
     ]
    },
    {
     "name": "stdout",
     "output_type": "stream",
     "text": [
      "Best Dist:  0.15012624000679925\n",
      "Average Dist:  0.5831911283873498\n",
      "Best Adj Error:  24.0\n",
      "Average Adj Dist Error:  38.5\n",
      "extreme\n"
     ]
    },
    {
     "name": "stderr",
     "output_type": "stream",
     "text": [
      " 69%|██████▉   | 69/100 [07:33<01:56,  3.74s/it]"
     ]
    },
    {
     "name": "stdout",
     "output_type": "stream",
     "text": [
      "new injection\n",
      "Best Dist:  0.15012624000679925\n",
      "Average Dist:  0.5855672569979011\n",
      "Best Adj Error:  24.0\n",
      "Average Adj Dist Error:  39.12\n",
      "extreme\n"
     ]
    },
    {
     "name": "stderr",
     "output_type": "stream",
     "text": [
      " 70%|███████   | 70/100 [07:37<01:51,  3.73s/it]"
     ]
    },
    {
     "name": "stdout",
     "output_type": "stream",
     "text": [
      "Best Dist:  0.15012624000679925\n",
      "Average Dist:  0.5761623857552508\n",
      "Best Adj Error:  24.0\n",
      "Average Adj Dist Error:  38.07\n",
      "extreme\n"
     ]
    },
    {
     "name": "stderr",
     "output_type": "stream",
     "text": [
      " 71%|███████   | 71/100 [07:40<01:48,  3.75s/it]"
     ]
    },
    {
     "name": "stdout",
     "output_type": "stream",
     "text": [
      "Best Dist:  0.15012624000679925\n",
      "Average Dist:  0.5798652811221439\n",
      "Best Adj Error:  24.0\n",
      "Average Adj Dist Error:  37.99\n",
      "extreme\n"
     ]
    },
    {
     "name": "stderr",
     "output_type": "stream",
     "text": [
      " 72%|███████▏  | 72/100 [07:44<01:45,  3.79s/it]"
     ]
    },
    {
     "name": "stdout",
     "output_type": "stream",
     "text": [
      "Best Dist:  0.15012624000679925\n",
      "Average Dist:  0.5860422857886746\n",
      "Best Adj Error:  24.0\n",
      "Average Adj Dist Error:  38.09\n",
      "extreme\n"
     ]
    },
    {
     "name": "stderr",
     "output_type": "stream",
     "text": [
      " 73%|███████▎  | 73/100 [07:48<01:41,  3.77s/it]"
     ]
    },
    {
     "name": "stdout",
     "output_type": "stream",
     "text": [
      "Best Dist:  0.15012624000679925\n",
      "Average Dist:  0.5785746287305393\n",
      "Best Adj Error:  24.0\n",
      "Average Adj Dist Error:  37.86\n",
      "extreme\n"
     ]
    },
    {
     "name": "stderr",
     "output_type": "stream",
     "text": [
      " 74%|███████▍  | 74/100 [07:52<01:37,  3.75s/it]"
     ]
    },
    {
     "name": "stdout",
     "output_type": "stream",
     "text": [
      "new injection\n",
      "Best Dist:  0.15012624000679925\n",
      "Average Dist:  0.5916856859345845\n",
      "Best Adj Error:  24.0\n",
      "Average Adj Dist Error:  39.15\n",
      "extreme\n"
     ]
    },
    {
     "name": "stderr",
     "output_type": "stream",
     "text": [
      " 75%|███████▌  | 75/100 [07:56<01:34,  3.76s/it]"
     ]
    },
    {
     "name": "stdout",
     "output_type": "stream",
     "text": [
      "Best Dist:  0.15012624000679925\n",
      "Average Dist:  0.5840614804719586\n",
      "Best Adj Error:  24.0\n",
      "Average Adj Dist Error:  38.2\n",
      "extreme\n"
     ]
    },
    {
     "name": "stderr",
     "output_type": "stream",
     "text": [
      " 76%|███████▌  | 76/100 [07:59<01:31,  3.79s/it]"
     ]
    },
    {
     "name": "stdout",
     "output_type": "stream",
     "text": [
      "Best Dist:  0.15012624000679925\n",
      "Average Dist:  0.5703896712998388\n",
      "Best Adj Error:  24.0\n",
      "Average Adj Dist Error:  37.8\n",
      "extreme\n"
     ]
    },
    {
     "name": "stderr",
     "output_type": "stream",
     "text": [
      " 77%|███████▋  | 77/100 [08:04<01:29,  3.88s/it]"
     ]
    },
    {
     "name": "stdout",
     "output_type": "stream",
     "text": [
      "Best Dist:  0.15012624000679925\n",
      "Average Dist:  0.574585975885766\n",
      "Best Adj Error:  24.0\n",
      "Average Adj Dist Error:  38.07\n",
      "extreme\n"
     ]
    },
    {
     "name": "stderr",
     "output_type": "stream",
     "text": [
      " 78%|███████▊  | 78/100 [08:07<01:25,  3.90s/it]"
     ]
    },
    {
     "name": "stdout",
     "output_type": "stream",
     "text": [
      "Best Dist:  0.15012624000679925\n",
      "Average Dist:  0.5831347185100325\n",
      "Best Adj Error:  24.0\n",
      "Average Adj Dist Error:  37.97\n",
      "extreme\n"
     ]
    },
    {
     "name": "stderr",
     "output_type": "stream",
     "text": [
      " 79%|███████▉  | 79/100 [08:11<01:21,  3.88s/it]"
     ]
    },
    {
     "name": "stdout",
     "output_type": "stream",
     "text": [
      "new injection\n",
      "Best Dist:  0.15012624000679925\n",
      "Average Dist:  0.5858253192048904\n",
      "Best Adj Error:  24.0\n",
      "Average Adj Dist Error:  37.74\n",
      "extreme\n"
     ]
    },
    {
     "name": "stderr",
     "output_type": "stream",
     "text": [
      " 80%|████████  | 80/100 [08:15<01:17,  3.88s/it]"
     ]
    },
    {
     "name": "stdout",
     "output_type": "stream",
     "text": [
      "Best Dist:  0.15012624000679925\n",
      "Average Dist:  0.5846011366033848\n",
      "Best Adj Error:  24.0\n",
      "Average Adj Dist Error:  38.98\n",
      "extreme\n"
     ]
    },
    {
     "name": "stderr",
     "output_type": "stream",
     "text": [
      " 81%|████████  | 81/100 [08:19<01:13,  3.87s/it]"
     ]
    },
    {
     "name": "stdout",
     "output_type": "stream",
     "text": [
      "Best Dist:  0.15012624000679925\n",
      "Average Dist:  0.5807405463575949\n",
      "Best Adj Error:  24.0\n",
      "Average Adj Dist Error:  38.11\n",
      "extreme\n"
     ]
    },
    {
     "name": "stderr",
     "output_type": "stream",
     "text": [
      " 82%|████████▏ | 82/100 [08:23<01:09,  3.85s/it]"
     ]
    },
    {
     "name": "stdout",
     "output_type": "stream",
     "text": [
      "Best Dist:  0.15012624000679925\n",
      "Average Dist:  0.5773413346631945\n",
      "Best Adj Error:  24.0\n",
      "Average Adj Dist Error:  38.19\n",
      "extreme\n"
     ]
    },
    {
     "name": "stderr",
     "output_type": "stream",
     "text": [
      " 83%|████████▎ | 83/100 [08:27<01:05,  3.85s/it]"
     ]
    },
    {
     "name": "stdout",
     "output_type": "stream",
     "text": [
      "Best Dist:  0.15012624000679925\n",
      "Average Dist:  0.5755534398763392\n",
      "Best Adj Error:  24.0\n",
      "Average Adj Dist Error:  37.82\n",
      "extreme\n"
     ]
    },
    {
     "name": "stderr",
     "output_type": "stream",
     "text": [
      " 84%|████████▍ | 84/100 [08:31<01:01,  3.86s/it]"
     ]
    },
    {
     "name": "stdout",
     "output_type": "stream",
     "text": [
      "new injection\n",
      "Best Dist:  0.15012624000679925\n",
      "Average Dist:  0.5990818241256637\n",
      "Best Adj Error:  24.0\n",
      "Average Adj Dist Error:  39.81\n",
      "extreme\n"
     ]
    },
    {
     "name": "stderr",
     "output_type": "stream",
     "text": [
      " 85%|████████▌ | 85/100 [08:34<00:57,  3.83s/it]"
     ]
    },
    {
     "name": "stdout",
     "output_type": "stream",
     "text": [
      "Best Dist:  0.15012624000679925\n",
      "Average Dist:  0.5764248682208548\n",
      "Best Adj Error:  24.0\n",
      "Average Adj Dist Error:  38.67\n",
      "extreme\n"
     ]
    },
    {
     "name": "stderr",
     "output_type": "stream",
     "text": [
      " 86%|████████▌ | 86/100 [08:38<00:53,  3.81s/it]"
     ]
    },
    {
     "name": "stdout",
     "output_type": "stream",
     "text": [
      "Best Dist:  0.15012624000679925\n",
      "Average Dist:  0.5838050820593257\n",
      "Best Adj Error:  24.0\n",
      "Average Adj Dist Error:  38.69\n",
      "extreme\n"
     ]
    },
    {
     "name": "stderr",
     "output_type": "stream",
     "text": [
      " 87%|████████▋ | 87/100 [08:42<00:49,  3.82s/it]"
     ]
    },
    {
     "name": "stdout",
     "output_type": "stream",
     "text": [
      "Best Dist:  0.15012624000679925\n",
      "Average Dist:  0.5870585980898556\n",
      "Best Adj Error:  24.0\n",
      "Average Adj Dist Error:  38.19\n",
      "extreme\n"
     ]
    },
    {
     "name": "stderr",
     "output_type": "stream",
     "text": [
      " 88%|████████▊ | 88/100 [08:46<00:46,  3.85s/it]"
     ]
    },
    {
     "name": "stdout",
     "output_type": "stream",
     "text": [
      "Best Dist:  0.15012624000679925\n",
      "Average Dist:  0.5874925735918052\n",
      "Best Adj Error:  24.0\n",
      "Average Adj Dist Error:  38.75\n",
      "extreme\n"
     ]
    },
    {
     "name": "stderr",
     "output_type": "stream",
     "text": [
      " 89%|████████▉ | 89/100 [08:50<00:42,  3.86s/it]"
     ]
    },
    {
     "name": "stdout",
     "output_type": "stream",
     "text": [
      "new injection\n",
      "Best Dist:  0.15012624000679925\n",
      "Average Dist:  0.5952064937255981\n",
      "Best Adj Error:  24.0\n",
      "Average Adj Dist Error:  39.51\n",
      "extreme\n"
     ]
    },
    {
     "name": "stderr",
     "output_type": "stream",
     "text": [
      " 90%|█████████ | 90/100 [08:54<00:39,  3.93s/it]"
     ]
    },
    {
     "name": "stdout",
     "output_type": "stream",
     "text": [
      "Best Dist:  0.15012624000679925\n",
      "Average Dist:  0.5846867469390784\n",
      "Best Adj Error:  24.0\n",
      "Average Adj Dist Error:  38.34\n",
      "extreme\n"
     ]
    },
    {
     "name": "stderr",
     "output_type": "stream",
     "text": [
      " 91%|█████████ | 91/100 [08:58<00:35,  3.91s/it]"
     ]
    },
    {
     "name": "stdout",
     "output_type": "stream",
     "text": [
      "Best Dist:  0.15012624000679925\n",
      "Average Dist:  0.5887828110197902\n",
      "Best Adj Error:  24.0\n",
      "Average Adj Dist Error:  38.97\n",
      "extreme\n"
     ]
    },
    {
     "name": "stderr",
     "output_type": "stream",
     "text": [
      " 92%|█████████▏| 92/100 [09:02<00:31,  3.90s/it]"
     ]
    },
    {
     "name": "stdout",
     "output_type": "stream",
     "text": [
      "Best Dist:  0.15012624000679925\n",
      "Average Dist:  0.5781722694707817\n",
      "Best Adj Error:  24.0\n",
      "Average Adj Dist Error:  38.29\n",
      "extreme\n"
     ]
    },
    {
     "name": "stderr",
     "output_type": "stream",
     "text": [
      " 93%|█████████▎| 93/100 [09:05<00:27,  3.90s/it]"
     ]
    },
    {
     "name": "stdout",
     "output_type": "stream",
     "text": [
      "Best Dist:  0.15012624000679925\n",
      "Average Dist:  0.587406764227634\n",
      "Best Adj Error:  24.0\n",
      "Average Adj Dist Error:  38.09\n",
      "extreme\n"
     ]
    },
    {
     "name": "stderr",
     "output_type": "stream",
     "text": [
      " 94%|█████████▍| 94/100 [09:09<00:23,  3.88s/it]"
     ]
    },
    {
     "name": "stdout",
     "output_type": "stream",
     "text": [
      "new injection\n",
      "Best Dist:  0.15012624000679925\n",
      "Average Dist:  0.5874618587951891\n",
      "Best Adj Error:  24.0\n",
      "Average Adj Dist Error:  38.4\n",
      "extreme\n"
     ]
    },
    {
     "name": "stderr",
     "output_type": "stream",
     "text": [
      " 95%|█████████▌| 95/100 [09:13<00:19,  3.90s/it]"
     ]
    },
    {
     "name": "stdout",
     "output_type": "stream",
     "text": [
      "Best Dist:  0.15012624000679925\n",
      "Average Dist:  0.58799027546724\n",
      "Best Adj Error:  24.0\n",
      "Average Adj Dist Error:  39.09\n",
      "extreme\n"
     ]
    },
    {
     "name": "stderr",
     "output_type": "stream",
     "text": [
      " 96%|█████████▌| 96/100 [09:17<00:15,  3.87s/it]"
     ]
    },
    {
     "name": "stdout",
     "output_type": "stream",
     "text": [
      "Best Dist:  0.15012624000679925\n",
      "Average Dist:  0.5800540677219488\n",
      "Best Adj Error:  24.0\n",
      "Average Adj Dist Error:  38.22\n",
      "extreme\n"
     ]
    },
    {
     "name": "stderr",
     "output_type": "stream",
     "text": [
      " 97%|█████████▋| 97/100 [09:21<00:11,  3.83s/it]"
     ]
    },
    {
     "name": "stdout",
     "output_type": "stream",
     "text": [
      "Best Dist:  0.15012624000679925\n",
      "Average Dist:  0.5860193809763296\n",
      "Best Adj Error:  24.0\n",
      "Average Adj Dist Error:  38.66\n",
      "extreme\n"
     ]
    },
    {
     "name": "stderr",
     "output_type": "stream",
     "text": [
      " 98%|█████████▊| 98/100 [09:25<00:07,  3.82s/it]"
     ]
    },
    {
     "name": "stdout",
     "output_type": "stream",
     "text": [
      "Best Dist:  0.15012624000679925\n",
      "Average Dist:  0.5830350900368085\n",
      "Best Adj Error:  24.0\n",
      "Average Adj Dist Error:  38.2\n",
      "extreme\n"
     ]
    },
    {
     "name": "stderr",
     "output_type": "stream",
     "text": [
      " 99%|█████████▉| 99/100 [09:29<00:03,  3.88s/it]"
     ]
    },
    {
     "name": "stdout",
     "output_type": "stream",
     "text": [
      "new injection\n",
      "Best Dist:  0.15012624000679925\n",
      "Average Dist:  0.589650477986993\n",
      "Best Adj Error:  24.0\n",
      "Average Adj Dist Error:  39.22\n",
      "extreme\n"
     ]
    },
    {
     "name": "stderr",
     "output_type": "stream",
     "text": [
      "100%|██████████| 100/100 [09:33<00:00,  5.73s/it]\n"
     ]
    },
    {
     "name": "stdout",
     "output_type": "stream",
     "text": [
      "No fit individual found within iteration limit\n"
     ]
    },
    {
     "name": "stderr",
     "output_type": "stream",
     "text": [
      "  0%|          | 0/100 [00:00<?, ?it/s]"
     ]
    },
    {
     "name": "stdout",
     "output_type": "stream",
     "text": [
      "Best Dist:  0.42224444678530887\n",
      "Average Dist:  0.5400863661489947\n",
      "Best Adj Error:  28.0\n",
      "Average Adj Dist Error:  31.13\n"
     ]
    },
    {
     "name": "stderr",
     "output_type": "stream",
     "text": [
      "  1%|          | 1/100 [00:02<04:26,  2.69s/it]"
     ]
    },
    {
     "name": "stdout",
     "output_type": "stream",
     "text": [
      "Best Dist:  0.41131917948339036\n",
      "Average Dist:  0.49958854796658897\n",
      "Best Adj Error:  32.0\n",
      "Average Adj Dist Error:  28.21\n"
     ]
    },
    {
     "name": "stderr",
     "output_type": "stream",
     "text": [
      "  2%|▏         | 2/100 [00:05<04:13,  2.59s/it]"
     ]
    },
    {
     "name": "stdout",
     "output_type": "stream",
     "text": [
      "Best Dist:  0.3213324562907024\n",
      "Average Dist:  0.4826531241103146\n",
      "Best Adj Error:  28.0\n",
      "Average Adj Dist Error:  29.05\n"
     ]
    },
    {
     "name": "stderr",
     "output_type": "stream",
     "text": [
      "  3%|▎         | 3/100 [00:07<04:11,  2.59s/it]"
     ]
    },
    {
     "name": "stdout",
     "output_type": "stream",
     "text": [
      "Best Dist:  0.31614408122839505\n",
      "Average Dist:  0.4646139844463504\n",
      "Best Adj Error:  26.0\n",
      "Average Adj Dist Error:  28.88\n"
     ]
    },
    {
     "name": "stderr",
     "output_type": "stream",
     "text": [
      "  4%|▍         | 4/100 [00:10<04:06,  2.57s/it]"
     ]
    },
    {
     "name": "stdout",
     "output_type": "stream",
     "text": [
      "Best Dist:  0.31614408122839505\n",
      "Average Dist:  0.4548654899405469\n",
      "Best Adj Error:  26.0\n",
      "Average Adj Dist Error:  28.61\n"
     ]
    },
    {
     "name": "stderr",
     "output_type": "stream",
     "text": [
      "  5%|▌         | 5/100 [00:12<04:03,  2.57s/it]"
     ]
    },
    {
     "name": "stdout",
     "output_type": "stream",
     "text": [
      "Best Dist:  0.31614408122839505\n",
      "Average Dist:  0.43826573977601546\n",
      "Best Adj Error:  26.0\n",
      "Average Adj Dist Error:  27.38\n"
     ]
    },
    {
     "name": "stderr",
     "output_type": "stream",
     "text": [
      "  6%|▌         | 6/100 [00:15<03:59,  2.55s/it]"
     ]
    },
    {
     "name": "stdout",
     "output_type": "stream",
     "text": [
      "Best Dist:  0.2612383971856653\n",
      "Average Dist:  0.418440768457545\n",
      "Best Adj Error:  16.0\n",
      "Average Adj Dist Error:  26.53\n"
     ]
    },
    {
     "name": "stderr",
     "output_type": "stream",
     "text": [
      "  7%|▋         | 7/100 [00:18<03:59,  2.57s/it]"
     ]
    },
    {
     "name": "stdout",
     "output_type": "stream",
     "text": [
      "extreme\n",
      "Best Dist:  0.2612383971856653\n",
      "Average Dist:  0.40877695709559075\n",
      "Best Adj Error:  16.0\n",
      "Average Adj Dist Error:  26.11\n"
     ]
    },
    {
     "name": "stderr",
     "output_type": "stream",
     "text": [
      "  8%|▊         | 8/100 [00:20<03:57,  2.59s/it]"
     ]
    },
    {
     "name": "stdout",
     "output_type": "stream",
     "text": [
      "extreme\n",
      "Best Dist:  0.2612383971856653\n",
      "Average Dist:  0.3929369066697784\n",
      "Best Adj Error:  16.0\n",
      "Average Adj Dist Error:  25.74\n"
     ]
    },
    {
     "name": "stderr",
     "output_type": "stream",
     "text": [
      "  9%|▉         | 9/100 [00:23<03:56,  2.60s/it]"
     ]
    },
    {
     "name": "stdout",
     "output_type": "stream",
     "text": [
      "extreme\n",
      "Best Dist:  0.2612383971856653\n",
      "Average Dist:  0.37674172445851545\n",
      "Best Adj Error:  16.0\n",
      "Average Adj Dist Error:  24.54\n"
     ]
    },
    {
     "name": "stderr",
     "output_type": "stream",
     "text": [
      " 10%|█         | 10/100 [00:26<03:58,  2.65s/it]"
     ]
    },
    {
     "name": "stdout",
     "output_type": "stream",
     "text": [
      "extreme\n",
      "Best Dist:  0.2612383971856653\n",
      "Average Dist:  0.3724066466056599\n",
      "Best Adj Error:  16.0\n",
      "Average Adj Dist Error:  24.48\n"
     ]
    },
    {
     "name": "stderr",
     "output_type": "stream",
     "text": [
      " 11%|█         | 11/100 [00:28<03:57,  2.66s/it]"
     ]
    },
    {
     "name": "stdout",
     "output_type": "stream",
     "text": [
      "extreme\n",
      "Best Dist:  0.2612383971856653\n",
      "Average Dist:  0.35860104233352075\n",
      "Best Adj Error:  16.0\n",
      "Average Adj Dist Error:  23.61\n"
     ]
    },
    {
     "name": "stderr",
     "output_type": "stream",
     "text": [
      " 12%|█▏        | 12/100 [00:31<03:49,  2.61s/it]"
     ]
    },
    {
     "name": "stdout",
     "output_type": "stream",
     "text": [
      "extreme\n",
      "Best Dist:  0.2612383971856653\n",
      "Average Dist:  0.3370551750629815\n",
      "Best Adj Error:  16.0\n",
      "Average Adj Dist Error:  23.0\n"
     ]
    },
    {
     "name": "stderr",
     "output_type": "stream",
     "text": [
      " 13%|█▎        | 13/100 [00:33<03:43,  2.56s/it]"
     ]
    },
    {
     "name": "stdout",
     "output_type": "stream",
     "text": [
      "extreme\n",
      "Best Dist:  0.24354298998866053\n",
      "Average Dist:  0.35733341376721056\n",
      "Best Adj Error:  12.0\n",
      "Average Adj Dist Error:  24.31\n"
     ]
    },
    {
     "name": "stderr",
     "output_type": "stream",
     "text": [
      " 14%|█▍        | 14/100 [00:36<03:40,  2.56s/it]"
     ]
    },
    {
     "name": "stdout",
     "output_type": "stream",
     "text": [
      "extreme\n",
      "Best Dist:  0.24354298998866053\n",
      "Average Dist:  0.32846567975491625\n",
      "Best Adj Error:  12.0\n",
      "Average Adj Dist Error:  23.14\n"
     ]
    },
    {
     "name": "stderr",
     "output_type": "stream",
     "text": [
      " 15%|█▌        | 15/100 [00:38<03:34,  2.53s/it]"
     ]
    },
    {
     "name": "stdout",
     "output_type": "stream",
     "text": [
      "extreme\n",
      "Best Dist:  0.22105018610139596\n",
      "Average Dist:  0.33480786059465745\n",
      "Best Adj Error:  24.0\n",
      "Average Adj Dist Error:  23.42\n"
     ]
    },
    {
     "name": "stderr",
     "output_type": "stream",
     "text": [
      " 16%|█▌        | 16/100 [00:41<03:31,  2.51s/it]"
     ]
    },
    {
     "name": "stdout",
     "output_type": "stream",
     "text": [
      "extreme\n",
      "Best Dist:  0.22105018610139596\n",
      "Average Dist:  0.30806711879882565\n",
      "Best Adj Error:  24.0\n",
      "Average Adj Dist Error:  22.98\n"
     ]
    },
    {
     "name": "stderr",
     "output_type": "stream",
     "text": [
      " 17%|█▋        | 17/100 [00:43<03:31,  2.55s/it]"
     ]
    },
    {
     "name": "stdout",
     "output_type": "stream",
     "text": [
      "extreme\n",
      "Best Dist:  0.22105018610139596\n",
      "Average Dist:  0.30102626806446064\n",
      "Best Adj Error:  24.0\n",
      "Average Adj Dist Error:  22.87\n"
     ]
    },
    {
     "name": "stderr",
     "output_type": "stream",
     "text": [
      " 18%|█▊        | 18/100 [00:46<03:28,  2.54s/it]"
     ]
    },
    {
     "name": "stdout",
     "output_type": "stream",
     "text": [
      "extreme\n",
      "Best Dist:  0.22105018610139596\n",
      "Average Dist:  0.2921343954656511\n",
      "Best Adj Error:  24.0\n",
      "Average Adj Dist Error:  23.09\n"
     ]
    },
    {
     "name": "stderr",
     "output_type": "stream",
     "text": [
      " 19%|█▉        | 19/100 [00:48<03:27,  2.56s/it]"
     ]
    },
    {
     "name": "stdout",
     "output_type": "stream",
     "text": [
      "extreme\n",
      "Best Dist:  0.22105018610139596\n",
      "Average Dist:  0.3159523001740007\n",
      "Best Adj Error:  24.0\n",
      "Average Adj Dist Error:  24.18\n"
     ]
    },
    {
     "name": "stderr",
     "output_type": "stream",
     "text": [
      " 20%|██        | 20/100 [00:51<03:25,  2.57s/it]"
     ]
    },
    {
     "name": "stdout",
     "output_type": "stream",
     "text": [
      "extreme\n",
      "Best Dist:  0.22105018610139596\n",
      "Average Dist:  0.2788873295027783\n",
      "Best Adj Error:  24.0\n",
      "Average Adj Dist Error:  23.82\n"
     ]
    },
    {
     "name": "stderr",
     "output_type": "stream",
     "text": [
      " 21%|██        | 21/100 [00:54<03:21,  2.55s/it]"
     ]
    },
    {
     "name": "stdout",
     "output_type": "stream",
     "text": [
      "extreme\n",
      "Best Dist:  0.22105018610139596\n",
      "Average Dist:  0.27994361432957215\n",
      "Best Adj Error:  24.0\n",
      "Average Adj Dist Error:  23.82\n"
     ]
    },
    {
     "name": "stderr",
     "output_type": "stream",
     "text": [
      " 22%|██▏       | 22/100 [00:56<03:19,  2.55s/it]"
     ]
    },
    {
     "name": "stdout",
     "output_type": "stream",
     "text": [
      "extreme\n",
      "Best Dist:  0.22105018610139596\n",
      "Average Dist:  0.31509219689401236\n",
      "Best Adj Error:  24.0\n",
      "Average Adj Dist Error:  24.42\n"
     ]
    },
    {
     "name": "stderr",
     "output_type": "stream",
     "text": [
      " 23%|██▎       | 23/100 [00:58<03:13,  2.51s/it]"
     ]
    },
    {
     "name": "stdout",
     "output_type": "stream",
     "text": [
      "extreme\n",
      "Best Dist:  0.22105018610139596\n",
      "Average Dist:  0.29631484686767123\n",
      "Best Adj Error:  24.0\n",
      "Average Adj Dist Error:  24.17\n"
     ]
    },
    {
     "name": "stderr",
     "output_type": "stream",
     "text": [
      " 24%|██▍       | 24/100 [01:01<03:06,  2.46s/it]"
     ]
    },
    {
     "name": "stdout",
     "output_type": "stream",
     "text": [
      "extreme\n",
      "Best Dist:  0.22105018610139596\n",
      "Average Dist:  0.2844381383537701\n",
      "Best Adj Error:  24.0\n",
      "Average Adj Dist Error:  24.19\n"
     ]
    },
    {
     "name": "stderr",
     "output_type": "stream",
     "text": [
      " 25%|██▌       | 25/100 [01:03<03:01,  2.42s/it]"
     ]
    },
    {
     "name": "stdout",
     "output_type": "stream",
     "text": [
      "extreme\n",
      "Best Dist:  0.22105018610139596\n",
      "Average Dist:  0.2950618903260194\n",
      "Best Adj Error:  24.0\n",
      "Average Adj Dist Error:  24.4\n"
     ]
    },
    {
     "name": "stderr",
     "output_type": "stream",
     "text": [
      " 26%|██▌       | 26/100 [01:06<02:58,  2.42s/it]"
     ]
    },
    {
     "name": "stdout",
     "output_type": "stream",
     "text": [
      "extreme\n",
      "Best Dist:  0.2104405329587374\n",
      "Average Dist:  0.27508785934723995\n",
      "Best Adj Error:  24.0\n",
      "Average Adj Dist Error:  24.55\n"
     ]
    },
    {
     "name": "stderr",
     "output_type": "stream",
     "text": [
      " 27%|██▋       | 27/100 [01:08<02:58,  2.45s/it]"
     ]
    },
    {
     "name": "stdout",
     "output_type": "stream",
     "text": [
      "extreme\n",
      "Best Dist:  0.2104405329587374\n",
      "Average Dist:  0.2613537735321045\n",
      "Best Adj Error:  24.0\n",
      "Average Adj Dist Error:  25.63\n"
     ]
    },
    {
     "name": "stderr",
     "output_type": "stream",
     "text": [
      " 28%|██▊       | 28/100 [01:10<02:54,  2.42s/it]"
     ]
    },
    {
     "name": "stdout",
     "output_type": "stream",
     "text": [
      "extreme\n",
      "Best Dist:  0.2104405329587374\n",
      "Average Dist:  0.28426733215979477\n",
      "Best Adj Error:  24.0\n",
      "Average Adj Dist Error:  27.27\n"
     ]
    },
    {
     "name": "stderr",
     "output_type": "stream",
     "text": [
      " 29%|██▉       | 29/100 [01:13<02:51,  2.42s/it]"
     ]
    },
    {
     "name": "stdout",
     "output_type": "stream",
     "text": [
      "extreme\n",
      "Best Dist:  0.2104405329587374\n",
      "Average Dist:  0.2757245309770614\n",
      "Best Adj Error:  24.0\n",
      "Average Adj Dist Error:  27.95\n"
     ]
    },
    {
     "name": "stderr",
     "output_type": "stream",
     "text": [
      " 30%|███       | 30/100 [01:15<02:51,  2.46s/it]"
     ]
    },
    {
     "name": "stdout",
     "output_type": "stream",
     "text": [
      "extreme\n",
      "Best Dist:  0.2104405329587374\n",
      "Average Dist:  0.25266168247541176\n",
      "Best Adj Error:  24.0\n",
      "Average Adj Dist Error:  27.62\n"
     ]
    },
    {
     "name": "stderr",
     "output_type": "stream",
     "text": [
      " 31%|███       | 31/100 [01:18<02:51,  2.49s/it]"
     ]
    },
    {
     "name": "stdout",
     "output_type": "stream",
     "text": [
      "extreme\n",
      "Best Dist:  0.2104405329587374\n",
      "Average Dist:  0.27932990219983095\n",
      "Best Adj Error:  24.0\n",
      "Average Adj Dist Error:  27.95\n"
     ]
    },
    {
     "name": "stderr",
     "output_type": "stream",
     "text": [
      " 32%|███▏      | 32/100 [01:20<02:47,  2.46s/it]"
     ]
    },
    {
     "name": "stdout",
     "output_type": "stream",
     "text": [
      "extreme\n",
      "Best Dist:  0.2104405329587374\n",
      "Average Dist:  0.25723430556342286\n",
      "Best Adj Error:  24.0\n",
      "Average Adj Dist Error:  27.54\n"
     ]
    },
    {
     "name": "stderr",
     "output_type": "stream",
     "text": [
      " 33%|███▎      | 33/100 [01:23<02:44,  2.46s/it]"
     ]
    },
    {
     "name": "stdout",
     "output_type": "stream",
     "text": [
      "extreme\n",
      "Best Dist:  0.2104405329587374\n",
      "Average Dist:  0.2620461135099439\n",
      "Best Adj Error:  24.0\n",
      "Average Adj Dist Error:  27.7\n"
     ]
    },
    {
     "name": "stderr",
     "output_type": "stream",
     "text": [
      " 34%|███▍      | 34/100 [01:25<02:42,  2.46s/it]"
     ]
    },
    {
     "name": "stdout",
     "output_type": "stream",
     "text": [
      "extreme\n",
      "Best Dist:  0.2104405329587374\n",
      "Average Dist:  0.2685624671818342\n",
      "Best Adj Error:  24.0\n",
      "Average Adj Dist Error:  27.65\n"
     ]
    },
    {
     "name": "stderr",
     "output_type": "stream",
     "text": [
      " 35%|███▌      | 35/100 [01:28<02:40,  2.47s/it]"
     ]
    },
    {
     "name": "stdout",
     "output_type": "stream",
     "text": [
      "extreme\n",
      "Best Dist:  0.2104405329587374\n",
      "Average Dist:  0.26935374040319393\n",
      "Best Adj Error:  24.0\n",
      "Average Adj Dist Error:  27.48\n"
     ]
    },
    {
     "name": "stderr",
     "output_type": "stream",
     "text": [
      " 36%|███▌      | 36/100 [01:30<02:41,  2.52s/it]"
     ]
    },
    {
     "name": "stdout",
     "output_type": "stream",
     "text": [
      "extreme\n",
      "Best Dist:  0.2104405329587374\n",
      "Average Dist:  0.24392694520001168\n",
      "Best Adj Error:  24.0\n",
      "Average Adj Dist Error:  27.13\n"
     ]
    },
    {
     "name": "stderr",
     "output_type": "stream",
     "text": [
      " 37%|███▋      | 37/100 [01:33<02:38,  2.51s/it]"
     ]
    },
    {
     "name": "stdout",
     "output_type": "stream",
     "text": [
      "extreme\n",
      "Best Dist:  0.2104405329587374\n",
      "Average Dist:  0.2683960799538425\n",
      "Best Adj Error:  24.0\n",
      "Average Adj Dist Error:  26.98\n"
     ]
    },
    {
     "name": "stderr",
     "output_type": "stream",
     "text": [
      " 38%|███▊      | 38/100 [01:35<02:35,  2.50s/it]"
     ]
    },
    {
     "name": "stdout",
     "output_type": "stream",
     "text": [
      "extreme\n",
      "Best Dist:  0.2104405329587374\n",
      "Average Dist:  0.24641592643226853\n",
      "Best Adj Error:  24.0\n",
      "Average Adj Dist Error:  26.42\n"
     ]
    },
    {
     "name": "stderr",
     "output_type": "stream",
     "text": [
      " 39%|███▉      | 39/100 [01:38<02:33,  2.52s/it]"
     ]
    },
    {
     "name": "stdout",
     "output_type": "stream",
     "text": [
      "extreme\n",
      "Best Dist:  0.2104405329587374\n",
      "Average Dist:  0.2913490884000456\n",
      "Best Adj Error:  24.0\n",
      "Average Adj Dist Error:  25.87\n"
     ]
    },
    {
     "name": "stderr",
     "output_type": "stream",
     "text": [
      " 40%|████      | 40/100 [01:40<02:31,  2.52s/it]"
     ]
    },
    {
     "name": "stdout",
     "output_type": "stream",
     "text": [
      "extreme\n",
      "Best Dist:  0.2104405329587374\n",
      "Average Dist:  0.2375672978480569\n",
      "Best Adj Error:  24.0\n",
      "Average Adj Dist Error:  24.84\n"
     ]
    },
    {
     "name": "stderr",
     "output_type": "stream",
     "text": [
      " 41%|████      | 41/100 [01:43<02:28,  2.51s/it]"
     ]
    },
    {
     "name": "stdout",
     "output_type": "stream",
     "text": [
      "extreme\n",
      "Best Dist:  0.2104405329587374\n",
      "Average Dist:  0.2180667930102949\n",
      "Best Adj Error:  24.0\n",
      "Average Adj Dist Error:  24.04\n"
     ]
    },
    {
     "name": "stderr",
     "output_type": "stream",
     "text": [
      " 42%|████▏     | 42/100 [01:46<02:28,  2.56s/it]"
     ]
    },
    {
     "name": "stdout",
     "output_type": "stream",
     "text": [
      "extreme\n",
      "Best Dist:  0.2104405329587374\n",
      "Average Dist:  0.2833631177036064\n",
      "Best Adj Error:  24.0\n",
      "Average Adj Dist Error:  24.71\n"
     ]
    },
    {
     "name": "stderr",
     "output_type": "stream",
     "text": [
      " 43%|████▎     | 43/100 [01:48<02:30,  2.64s/it]"
     ]
    },
    {
     "name": "stdout",
     "output_type": "stream",
     "text": [
      "extreme\n",
      "Best Dist:  0.2104405329587374\n",
      "Average Dist:  0.23753010263617624\n",
      "Best Adj Error:  24.0\n",
      "Average Adj Dist Error:  24.31\n",
      "extreme\n"
     ]
    },
    {
     "name": "stderr",
     "output_type": "stream",
     "text": [
      " 44%|████▍     | 44/100 [01:52<02:51,  3.06s/it]"
     ]
    },
    {
     "name": "stdout",
     "output_type": "stream",
     "text": [
      "Best Dist:  0.2104405329587374\n",
      "Average Dist:  0.5486082830559075\n",
      "Best Adj Error:  24.0\n",
      "Average Adj Dist Error:  38.52\n",
      "extreme\n"
     ]
    },
    {
     "name": "stderr",
     "output_type": "stream",
     "text": [
      " 45%|████▌     | 45/100 [01:57<03:06,  3.39s/it]"
     ]
    },
    {
     "name": "stdout",
     "output_type": "stream",
     "text": [
      "Best Dist:  0.2104405329587374\n",
      "Average Dist:  0.5431772516177045\n",
      "Best Adj Error:  24.0\n",
      "Average Adj Dist Error:  37.88\n",
      "extreme\n"
     ]
    },
    {
     "name": "stderr",
     "output_type": "stream",
     "text": [
      " 46%|████▌     | 46/100 [02:01<03:16,  3.64s/it]"
     ]
    },
    {
     "name": "stdout",
     "output_type": "stream",
     "text": [
      "Best Dist:  0.2104405329587374\n",
      "Average Dist:  0.5400683390018891\n",
      "Best Adj Error:  24.0\n",
      "Average Adj Dist Error:  37.82\n",
      "extreme\n"
     ]
    },
    {
     "name": "stderr",
     "output_type": "stream",
     "text": [
      " 47%|████▋     | 47/100 [02:05<03:18,  3.74s/it]"
     ]
    },
    {
     "name": "stdout",
     "output_type": "stream",
     "text": [
      "new injection\n",
      "Best Dist:  0.2104405329587374\n",
      "Average Dist:  0.5654504905617322\n",
      "Best Adj Error:  24.0\n",
      "Average Adj Dist Error:  38.51\n",
      "extreme\n"
     ]
    },
    {
     "name": "stderr",
     "output_type": "stream",
     "text": [
      " 48%|████▊     | 48/100 [02:09<03:20,  3.85s/it]"
     ]
    },
    {
     "name": "stdout",
     "output_type": "stream",
     "text": [
      "Best Dist:  0.2104405329587374\n",
      "Average Dist:  0.5425470594639475\n",
      "Best Adj Error:  24.0\n",
      "Average Adj Dist Error:  37.61\n",
      "extreme\n"
     ]
    },
    {
     "name": "stderr",
     "output_type": "stream",
     "text": [
      " 49%|████▉     | 49/100 [02:13<03:16,  3.86s/it]"
     ]
    },
    {
     "name": "stdout",
     "output_type": "stream",
     "text": [
      "Best Dist:  0.2104405329587374\n",
      "Average Dist:  0.5473084068981824\n",
      "Best Adj Error:  24.0\n",
      "Average Adj Dist Error:  37.76\n",
      "extreme\n"
     ]
    },
    {
     "name": "stderr",
     "output_type": "stream",
     "text": [
      " 50%|█████     | 50/100 [02:17<03:13,  3.87s/it]"
     ]
    },
    {
     "name": "stdout",
     "output_type": "stream",
     "text": [
      "Best Dist:  0.2104405329587374\n",
      "Average Dist:  0.5427812796192749\n",
      "Best Adj Error:  24.0\n",
      "Average Adj Dist Error:  37.66\n",
      "extreme\n"
     ]
    },
    {
     "name": "stderr",
     "output_type": "stream",
     "text": [
      " 51%|█████     | 51/100 [02:21<03:09,  3.87s/it]"
     ]
    },
    {
     "name": "stdout",
     "output_type": "stream",
     "text": [
      "Best Dist:  0.2104405329587374\n",
      "Average Dist:  0.5446955930948634\n",
      "Best Adj Error:  24.0\n",
      "Average Adj Dist Error:  38.15\n",
      "extreme\n"
     ]
    },
    {
     "name": "stderr",
     "output_type": "stream",
     "text": [
      " 52%|█████▏    | 52/100 [02:25<03:07,  3.91s/it]"
     ]
    },
    {
     "name": "stdout",
     "output_type": "stream",
     "text": [
      "new injection\n",
      "Best Dist:  0.2104405329587374\n",
      "Average Dist:  0.5687043625419397\n",
      "Best Adj Error:  24.0\n",
      "Average Adj Dist Error:  38.4\n",
      "extreme\n"
     ]
    },
    {
     "name": "stderr",
     "output_type": "stream",
     "text": [
      " 53%|█████▎    | 53/100 [02:29<03:06,  3.96s/it]"
     ]
    },
    {
     "name": "stdout",
     "output_type": "stream",
     "text": [
      "Best Dist:  0.2104405329587374\n",
      "Average Dist:  0.5519080507526603\n",
      "Best Adj Error:  24.0\n",
      "Average Adj Dist Error:  38.2\n",
      "extreme\n"
     ]
    },
    {
     "name": "stderr",
     "output_type": "stream",
     "text": [
      " 54%|█████▍    | 54/100 [02:33<03:02,  3.97s/it]"
     ]
    },
    {
     "name": "stdout",
     "output_type": "stream",
     "text": [
      "Best Dist:  0.2104405329587374\n",
      "Average Dist:  0.5414566526112005\n",
      "Best Adj Error:  24.0\n",
      "Average Adj Dist Error:  38.4\n",
      "extreme\n"
     ]
    },
    {
     "name": "stderr",
     "output_type": "stream",
     "text": [
      " 55%|█████▌    | 55/100 [02:37<02:59,  3.98s/it]"
     ]
    },
    {
     "name": "stdout",
     "output_type": "stream",
     "text": [
      "Best Dist:  0.2104405329587374\n",
      "Average Dist:  0.5503014279399883\n",
      "Best Adj Error:  24.0\n",
      "Average Adj Dist Error:  38.63\n",
      "extreme\n"
     ]
    },
    {
     "name": "stderr",
     "output_type": "stream",
     "text": [
      " 56%|█████▌    | 56/100 [02:41<02:54,  3.97s/it]"
     ]
    },
    {
     "name": "stdout",
     "output_type": "stream",
     "text": [
      "Best Dist:  0.2104405329587374\n",
      "Average Dist:  0.5485296403637111\n",
      "Best Adj Error:  24.0\n",
      "Average Adj Dist Error:  38.24\n",
      "extreme\n"
     ]
    },
    {
     "name": "stderr",
     "output_type": "stream",
     "text": [
      " 57%|█████▋    | 57/100 [02:45<02:53,  4.03s/it]"
     ]
    },
    {
     "name": "stdout",
     "output_type": "stream",
     "text": [
      "new injection\n",
      "Best Dist:  0.2104405329587374\n",
      "Average Dist:  0.554101039082948\n",
      "Best Adj Error:  24.0\n",
      "Average Adj Dist Error:  38.59\n",
      "extreme\n"
     ]
    },
    {
     "name": "stderr",
     "output_type": "stream",
     "text": [
      " 58%|█████▊    | 58/100 [02:49<02:53,  4.12s/it]"
     ]
    },
    {
     "name": "stdout",
     "output_type": "stream",
     "text": [
      "Best Dist:  0.2104405329587374\n",
      "Average Dist:  0.5519264112885722\n",
      "Best Adj Error:  24.0\n",
      "Average Adj Dist Error:  38.49\n",
      "extreme\n"
     ]
    },
    {
     "name": "stderr",
     "output_type": "stream",
     "text": [
      " 59%|█████▉    | 59/100 [02:53<02:51,  4.17s/it]"
     ]
    },
    {
     "name": "stdout",
     "output_type": "stream",
     "text": [
      "Best Dist:  0.2104405329587374\n",
      "Average Dist:  0.546872856652407\n",
      "Best Adj Error:  24.0\n",
      "Average Adj Dist Error:  37.86\n",
      "extreme\n"
     ]
    },
    {
     "name": "stderr",
     "output_type": "stream",
     "text": [
      " 60%|██████    | 60/100 [02:58<02:47,  4.19s/it]"
     ]
    },
    {
     "name": "stdout",
     "output_type": "stream",
     "text": [
      "Best Dist:  0.2104405329587374\n",
      "Average Dist:  0.5500567995161743\n",
      "Best Adj Error:  24.0\n",
      "Average Adj Dist Error:  37.85\n",
      "extreme\n"
     ]
    },
    {
     "name": "stderr",
     "output_type": "stream",
     "text": [
      " 61%|██████    | 61/100 [03:02<02:42,  4.17s/it]"
     ]
    },
    {
     "name": "stdout",
     "output_type": "stream",
     "text": [
      "Best Dist:  0.2104405329587374\n",
      "Average Dist:  0.5439851919825922\n",
      "Best Adj Error:  24.0\n",
      "Average Adj Dist Error:  37.83\n",
      "extreme\n"
     ]
    },
    {
     "name": "stderr",
     "output_type": "stream",
     "text": [
      " 62%|██████▏   | 62/100 [03:06<02:43,  4.30s/it]"
     ]
    },
    {
     "name": "stdout",
     "output_type": "stream",
     "text": [
      "new injection\n",
      "Best Dist:  0.2104405329587374\n",
      "Average Dist:  0.5610527221888321\n",
      "Best Adj Error:  24.0\n",
      "Average Adj Dist Error:  38.06\n",
      "extreme\n"
     ]
    },
    {
     "name": "stderr",
     "output_type": "stream",
     "text": [
      " 63%|██████▎   | 63/100 [03:11<02:37,  4.26s/it]"
     ]
    },
    {
     "name": "stdout",
     "output_type": "stream",
     "text": [
      "Best Dist:  0.2104405329587374\n",
      "Average Dist:  0.5479507376433133\n",
      "Best Adj Error:  24.0\n",
      "Average Adj Dist Error:  37.39\n",
      "extreme\n"
     ]
    },
    {
     "name": "stderr",
     "output_type": "stream",
     "text": [
      " 64%|██████▍   | 64/100 [03:15<02:34,  4.29s/it]"
     ]
    },
    {
     "name": "stdout",
     "output_type": "stream",
     "text": [
      "Best Dist:  0.2104405329587374\n",
      "Average Dist:  0.550433745558885\n",
      "Best Adj Error:  24.0\n",
      "Average Adj Dist Error:  38.44\n",
      "extreme\n"
     ]
    },
    {
     "name": "stderr",
     "output_type": "stream",
     "text": [
      " 65%|██████▌   | 65/100 [03:19<02:30,  4.29s/it]"
     ]
    },
    {
     "name": "stdout",
     "output_type": "stream",
     "text": [
      "Best Dist:  0.2104405329587374\n",
      "Average Dist:  0.546676600317844\n",
      "Best Adj Error:  24.0\n",
      "Average Adj Dist Error:  37.89\n",
      "extreme\n"
     ]
    },
    {
     "name": "stderr",
     "output_type": "stream",
     "text": [
      " 66%|██████▌   | 66/100 [03:23<02:23,  4.22s/it]"
     ]
    },
    {
     "name": "stdout",
     "output_type": "stream",
     "text": [
      "Best Dist:  0.2104405329587374\n",
      "Average Dist:  0.5566813160121572\n",
      "Best Adj Error:  24.0\n",
      "Average Adj Dist Error:  38.2\n",
      "extreme\n"
     ]
    },
    {
     "name": "stderr",
     "output_type": "stream",
     "text": [
      " 67%|██████▋   | 67/100 [03:28<02:19,  4.23s/it]"
     ]
    },
    {
     "name": "stdout",
     "output_type": "stream",
     "text": [
      "new injection\n",
      "Best Dist:  0.2104405329587374\n",
      "Average Dist:  0.5595469493309977\n",
      "Best Adj Error:  24.0\n",
      "Average Adj Dist Error:  38.85\n",
      "extreme\n"
     ]
    },
    {
     "name": "stderr",
     "output_type": "stream",
     "text": [
      " 68%|██████▊   | 68/100 [03:32<02:14,  4.21s/it]"
     ]
    },
    {
     "name": "stdout",
     "output_type": "stream",
     "text": [
      "Best Dist:  0.2104405329587374\n",
      "Average Dist:  0.5511392250098331\n",
      "Best Adj Error:  24.0\n",
      "Average Adj Dist Error:  38.14\n",
      "extreme\n"
     ]
    },
    {
     "name": "stderr",
     "output_type": "stream",
     "text": [
      " 69%|██████▉   | 69/100 [03:36<02:12,  4.26s/it]"
     ]
    },
    {
     "name": "stdout",
     "output_type": "stream",
     "text": [
      "Best Dist:  0.2104405329587374\n",
      "Average Dist:  0.5443286547941417\n",
      "Best Adj Error:  24.0\n",
      "Average Adj Dist Error:  37.53\n",
      "extreme\n"
     ]
    },
    {
     "name": "stderr",
     "output_type": "stream",
     "text": [
      " 70%|███████   | 70/100 [03:41<02:10,  4.37s/it]"
     ]
    },
    {
     "name": "stdout",
     "output_type": "stream",
     "text": [
      "Best Dist:  0.2104405329587374\n",
      "Average Dist:  0.5465733238579201\n",
      "Best Adj Error:  24.0\n",
      "Average Adj Dist Error:  37.62\n",
      "extreme\n"
     ]
    },
    {
     "name": "stderr",
     "output_type": "stream",
     "text": [
      " 71%|███████   | 71/100 [03:45<02:09,  4.47s/it]"
     ]
    },
    {
     "name": "stdout",
     "output_type": "stream",
     "text": [
      "Best Dist:  0.2104405329587374\n",
      "Average Dist:  0.5431270776953181\n",
      "Best Adj Error:  24.0\n",
      "Average Adj Dist Error:  38.37\n",
      "extreme\n"
     ]
    },
    {
     "name": "stderr",
     "output_type": "stream",
     "text": [
      " 72%|███████▏  | 72/100 [03:50<02:06,  4.52s/it]"
     ]
    },
    {
     "name": "stdout",
     "output_type": "stream",
     "text": [
      "new injection\n",
      "Best Dist:  0.2104405329587374\n",
      "Average Dist:  0.5612551005200953\n",
      "Best Adj Error:  24.0\n",
      "Average Adj Dist Error:  38.97\n",
      "extreme\n"
     ]
    },
    {
     "name": "stderr",
     "output_type": "stream",
     "text": [
      " 73%|███████▎  | 73/100 [03:54<02:00,  4.47s/it]"
     ]
    },
    {
     "name": "stdout",
     "output_type": "stream",
     "text": [
      "Best Dist:  0.2104405329587374\n",
      "Average Dist:  0.550340231056677\n",
      "Best Adj Error:  24.0\n",
      "Average Adj Dist Error:  38.12\n",
      "extreme\n"
     ]
    },
    {
     "name": "stderr",
     "output_type": "stream",
     "text": [
      " 74%|███████▍  | 74/100 [03:59<01:56,  4.46s/it]"
     ]
    },
    {
     "name": "stdout",
     "output_type": "stream",
     "text": [
      "Best Dist:  0.2104405329587374\n",
      "Average Dist:  0.5505931334519665\n",
      "Best Adj Error:  24.0\n",
      "Average Adj Dist Error:  38.87\n",
      "extreme\n"
     ]
    },
    {
     "name": "stderr",
     "output_type": "stream",
     "text": [
      " 75%|███████▌  | 75/100 [04:03<01:50,  4.42s/it]"
     ]
    },
    {
     "name": "stdout",
     "output_type": "stream",
     "text": [
      "Best Dist:  0.2104405329587374\n",
      "Average Dist:  0.5434379630768729\n",
      "Best Adj Error:  24.0\n",
      "Average Adj Dist Error:  38.13\n",
      "extreme\n"
     ]
    },
    {
     "name": "stderr",
     "output_type": "stream",
     "text": [
      " 76%|███████▌  | 76/100 [04:08<01:49,  4.55s/it]"
     ]
    },
    {
     "name": "stdout",
     "output_type": "stream",
     "text": [
      "Best Dist:  0.2104405329587374\n",
      "Average Dist:  0.5452678548614116\n",
      "Best Adj Error:  24.0\n",
      "Average Adj Dist Error:  38.48\n",
      "extreme\n"
     ]
    },
    {
     "name": "stderr",
     "output_type": "stream",
     "text": [
      " 77%|███████▋  | 77/100 [04:12<01:43,  4.50s/it]"
     ]
    },
    {
     "name": "stdout",
     "output_type": "stream",
     "text": [
      "new injection\n",
      "Best Dist:  0.2104405329587374\n",
      "Average Dist:  0.5644741958425193\n",
      "Best Adj Error:  24.0\n",
      "Average Adj Dist Error:  39.6\n",
      "extreme\n"
     ]
    },
    {
     "name": "stderr",
     "output_type": "stream",
     "text": [
      " 78%|███████▊  | 78/100 [04:17<01:38,  4.49s/it]"
     ]
    },
    {
     "name": "stdout",
     "output_type": "stream",
     "text": [
      "Best Dist:  0.2104405329587374\n",
      "Average Dist:  0.5459120842070824\n",
      "Best Adj Error:  24.0\n",
      "Average Adj Dist Error:  38.42\n",
      "extreme\n"
     ]
    },
    {
     "name": "stderr",
     "output_type": "stream",
     "text": [
      " 79%|███████▉  | 79/100 [04:21<01:34,  4.52s/it]"
     ]
    },
    {
     "name": "stdout",
     "output_type": "stream",
     "text": [
      "Best Dist:  0.2104405329587374\n",
      "Average Dist:  0.5512697053798135\n",
      "Best Adj Error:  24.0\n",
      "Average Adj Dist Error:  37.68\n",
      "extreme\n"
     ]
    },
    {
     "name": "stderr",
     "output_type": "stream",
     "text": [
      " 80%|████████  | 80/100 [04:26<01:31,  4.57s/it]"
     ]
    },
    {
     "name": "stdout",
     "output_type": "stream",
     "text": [
      "Best Dist:  0.2104405329587374\n",
      "Average Dist:  0.55572427782516\n",
      "Best Adj Error:  24.0\n",
      "Average Adj Dist Error:  38.3\n",
      "extreme\n"
     ]
    },
    {
     "name": "stderr",
     "output_type": "stream",
     "text": [
      " 81%|████████  | 81/100 [04:31<01:27,  4.60s/it]"
     ]
    },
    {
     "name": "stdout",
     "output_type": "stream",
     "text": [
      "Best Dist:  0.2104405329587374\n",
      "Average Dist:  0.546155411999897\n",
      "Best Adj Error:  24.0\n",
      "Average Adj Dist Error:  38.14\n",
      "extreme\n"
     ]
    },
    {
     "name": "stderr",
     "output_type": "stream",
     "text": [
      " 82%|████████▏ | 82/100 [04:35<01:22,  4.58s/it]"
     ]
    },
    {
     "name": "stdout",
     "output_type": "stream",
     "text": [
      "new injection\n",
      "Best Dist:  0.2104405329587374\n",
      "Average Dist:  0.5704964260164231\n",
      "Best Adj Error:  24.0\n",
      "Average Adj Dist Error:  39.36\n",
      "extreme\n"
     ]
    },
    {
     "name": "stderr",
     "output_type": "stream",
     "text": [
      " 83%|████████▎ | 83/100 [04:40<01:17,  4.54s/it]"
     ]
    },
    {
     "name": "stdout",
     "output_type": "stream",
     "text": [
      "Best Dist:  0.2104405329587374\n",
      "Average Dist:  0.5482777782841919\n",
      "Best Adj Error:  24.0\n",
      "Average Adj Dist Error:  38.58\n",
      "extreme\n"
     ]
    },
    {
     "name": "stderr",
     "output_type": "stream",
     "text": [
      " 84%|████████▍ | 84/100 [04:44<01:12,  4.55s/it]"
     ]
    },
    {
     "name": "stdout",
     "output_type": "stream",
     "text": [
      "Best Dist:  0.2104405329587374\n",
      "Average Dist:  0.5560554545772225\n",
      "Best Adj Error:  24.0\n",
      "Average Adj Dist Error:  38.18\n",
      "extreme\n"
     ]
    },
    {
     "name": "stderr",
     "output_type": "stream",
     "text": [
      " 85%|████████▌ | 85/100 [04:49<01:08,  4.56s/it]"
     ]
    },
    {
     "name": "stdout",
     "output_type": "stream",
     "text": [
      "Best Dist:  0.2104405329587374\n",
      "Average Dist:  0.5505119347329308\n",
      "Best Adj Error:  24.0\n",
      "Average Adj Dist Error:  38.26\n",
      "extreme\n"
     ]
    },
    {
     "name": "stderr",
     "output_type": "stream",
     "text": [
      " 86%|████████▌ | 86/100 [04:54<01:04,  4.60s/it]"
     ]
    },
    {
     "name": "stdout",
     "output_type": "stream",
     "text": [
      "Best Dist:  0.2104405329587374\n",
      "Average Dist:  0.5472736611609066\n",
      "Best Adj Error:  24.0\n",
      "Average Adj Dist Error:  38.16\n",
      "extreme\n"
     ]
    },
    {
     "name": "stderr",
     "output_type": "stream",
     "text": [
      " 87%|████████▋ | 87/100 [04:58<00:59,  4.58s/it]"
     ]
    },
    {
     "name": "stdout",
     "output_type": "stream",
     "text": [
      "new injection\n",
      "Best Dist:  0.2104405329587374\n",
      "Average Dist:  0.5732299356257604\n",
      "Best Adj Error:  24.0\n",
      "Average Adj Dist Error:  39.4\n",
      "extreme\n"
     ]
    },
    {
     "name": "stderr",
     "output_type": "stream",
     "text": [
      " 88%|████████▊ | 88/100 [05:03<00:55,  4.61s/it]"
     ]
    },
    {
     "name": "stdout",
     "output_type": "stream",
     "text": [
      "Best Dist:  0.2104405329587374\n",
      "Average Dist:  0.5482328275221132\n",
      "Best Adj Error:  24.0\n",
      "Average Adj Dist Error:  37.43\n",
      "extreme\n"
     ]
    },
    {
     "name": "stderr",
     "output_type": "stream",
     "text": [
      " 89%|████████▉ | 89/100 [05:07<00:49,  4.54s/it]"
     ]
    },
    {
     "name": "stdout",
     "output_type": "stream",
     "text": [
      "Best Dist:  0.2104405329587374\n",
      "Average Dist:  0.5567307152963985\n",
      "Best Adj Error:  24.0\n",
      "Average Adj Dist Error:  38.85\n",
      "extreme\n"
     ]
    },
    {
     "name": "stderr",
     "output_type": "stream",
     "text": [
      " 90%|█████████ | 90/100 [05:12<00:45,  4.56s/it]"
     ]
    },
    {
     "name": "stdout",
     "output_type": "stream",
     "text": [
      "Best Dist:  0.2104405329587374\n",
      "Average Dist:  0.5468078398958197\n",
      "Best Adj Error:  24.0\n",
      "Average Adj Dist Error:  37.97\n",
      "extreme\n"
     ]
    },
    {
     "name": "stderr",
     "output_type": "stream",
     "text": [
      " 91%|█████████ | 91/100 [05:16<00:41,  4.56s/it]"
     ]
    },
    {
     "name": "stdout",
     "output_type": "stream",
     "text": [
      "Best Dist:  0.2104405329587374\n",
      "Average Dist:  0.5512285930978578\n",
      "Best Adj Error:  24.0\n",
      "Average Adj Dist Error:  38.25\n",
      "extreme\n"
     ]
    },
    {
     "name": "stderr",
     "output_type": "stream",
     "text": [
      " 92%|█████████▏| 92/100 [05:21<00:35,  4.48s/it]"
     ]
    },
    {
     "name": "stdout",
     "output_type": "stream",
     "text": [
      "new injection\n",
      "Best Dist:  0.2104405329587374\n",
      "Average Dist:  0.5560872553309724\n",
      "Best Adj Error:  24.0\n",
      "Average Adj Dist Error:  37.65\n",
      "extreme\n"
     ]
    },
    {
     "name": "stderr",
     "output_type": "stream",
     "text": [
      " 93%|█████████▎| 93/100 [05:25<00:31,  4.53s/it]"
     ]
    },
    {
     "name": "stdout",
     "output_type": "stream",
     "text": [
      "Best Dist:  0.2104405329587374\n",
      "Average Dist:  0.5427433910795068\n",
      "Best Adj Error:  24.0\n",
      "Average Adj Dist Error:  38.64\n",
      "extreme\n"
     ]
    },
    {
     "name": "stderr",
     "output_type": "stream",
     "text": [
      " 94%|█████████▍| 94/100 [05:30<00:27,  4.54s/it]"
     ]
    },
    {
     "name": "stdout",
     "output_type": "stream",
     "text": [
      "Best Dist:  0.2104405329587374\n",
      "Average Dist:  0.548158498668764\n",
      "Best Adj Error:  24.0\n",
      "Average Adj Dist Error:  37.87\n",
      "extreme\n"
     ]
    },
    {
     "name": "stderr",
     "output_type": "stream",
     "text": [
      " 95%|█████████▌| 95/100 [05:35<00:22,  4.56s/it]"
     ]
    },
    {
     "name": "stdout",
     "output_type": "stream",
     "text": [
      "Best Dist:  0.2104405329587374\n",
      "Average Dist:  0.5472947494417285\n",
      "Best Adj Error:  24.0\n",
      "Average Adj Dist Error:  38.05\n",
      "extreme\n"
     ]
    },
    {
     "name": "stderr",
     "output_type": "stream",
     "text": [
      " 96%|█████████▌| 96/100 [05:39<00:18,  4.64s/it]"
     ]
    },
    {
     "name": "stdout",
     "output_type": "stream",
     "text": [
      "Best Dist:  0.2104405329587374\n",
      "Average Dist:  0.5460912626336416\n",
      "Best Adj Error:  24.0\n",
      "Average Adj Dist Error:  38.35\n",
      "extreme\n"
     ]
    },
    {
     "name": "stderr",
     "output_type": "stream",
     "text": [
      " 97%|█████████▋| 97/100 [05:44<00:13,  4.63s/it]"
     ]
    },
    {
     "name": "stdout",
     "output_type": "stream",
     "text": [
      "new injection\n",
      "Best Dist:  0.2104405329587374\n",
      "Average Dist:  0.5559342832922254\n",
      "Best Adj Error:  24.0\n",
      "Average Adj Dist Error:  37.54\n",
      "extreme\n"
     ]
    },
    {
     "name": "stderr",
     "output_type": "stream",
     "text": [
      " 98%|█████████▊| 98/100 [05:49<00:09,  4.69s/it]"
     ]
    },
    {
     "name": "stdout",
     "output_type": "stream",
     "text": [
      "Best Dist:  0.2104405329587374\n",
      "Average Dist:  0.5541802751546452\n",
      "Best Adj Error:  24.0\n",
      "Average Adj Dist Error:  38.29\n",
      "extreme\n"
     ]
    },
    {
     "name": "stderr",
     "output_type": "stream",
     "text": [
      " 99%|█████████▉| 99/100 [05:54<00:04,  4.71s/it]"
     ]
    },
    {
     "name": "stdout",
     "output_type": "stream",
     "text": [
      "Best Dist:  0.2104405329587374\n",
      "Average Dist:  0.5467243934720034\n",
      "Best Adj Error:  24.0\n",
      "Average Adj Dist Error:  37.72\n",
      "extreme\n"
     ]
    },
    {
     "name": "stderr",
     "output_type": "stream",
     "text": [
      "100%|██████████| 100/100 [05:58<00:00,  3.59s/it]\n"
     ]
    },
    {
     "name": "stdout",
     "output_type": "stream",
     "text": [
      "No fit individual found within iteration limit\n"
     ]
    },
    {
     "name": "stderr",
     "output_type": "stream",
     "text": [
      "  0%|          | 0/100 [00:00<?, ?it/s]"
     ]
    },
    {
     "name": "stdout",
     "output_type": "stream",
     "text": [
      "Best Dist:  0.435807103219107\n",
      "Average Dist:  0.5547801729172918\n",
      "Best Adj Error:  32.0\n",
      "Average Adj Dist Error:  34.09\n"
     ]
    },
    {
     "name": "stderr",
     "output_type": "stream",
     "text": [
      "  1%|          | 1/100 [00:02<04:36,  2.79s/it]"
     ]
    },
    {
     "name": "stdout",
     "output_type": "stream",
     "text": [
      "Best Dist:  0.41950835375754797\n",
      "Average Dist:  0.5257047644994374\n",
      "Best Adj Error:  26.0\n",
      "Average Adj Dist Error:  32.37\n"
     ]
    },
    {
     "name": "stderr",
     "output_type": "stream",
     "text": [
      "  2%|▏         | 2/100 [00:05<04:27,  2.73s/it]"
     ]
    },
    {
     "name": "stdout",
     "output_type": "stream",
     "text": [
      "Best Dist:  0.39457578171278285\n",
      "Average Dist:  0.5134410276232197\n",
      "Best Adj Error:  30.0\n",
      "Average Adj Dist Error:  32.73\n"
     ]
    },
    {
     "name": "stderr",
     "output_type": "stream",
     "text": [
      "  3%|▎         | 3/100 [00:08<04:25,  2.74s/it]"
     ]
    },
    {
     "name": "stdout",
     "output_type": "stream",
     "text": [
      "Best Dist:  0.39457578171278285\n",
      "Average Dist:  0.4991381635836703\n",
      "Best Adj Error:  30.0\n",
      "Average Adj Dist Error:  31.87\n"
     ]
    },
    {
     "name": "stderr",
     "output_type": "stream",
     "text": [
      "  4%|▍         | 4/100 [00:10<04:23,  2.74s/it]"
     ]
    },
    {
     "name": "stdout",
     "output_type": "stream",
     "text": [
      "Best Dist:  0.39457578171278285\n",
      "Average Dist:  0.49524004755804785\n",
      "Best Adj Error:  30.0\n",
      "Average Adj Dist Error:  32.29\n"
     ]
    },
    {
     "name": "stderr",
     "output_type": "stream",
     "text": [
      "  5%|▌         | 5/100 [00:13<04:18,  2.72s/it]"
     ]
    },
    {
     "name": "stdout",
     "output_type": "stream",
     "text": [
      "Best Dist:  0.33506986377880177\n",
      "Average Dist:  0.4806898574395197\n",
      "Best Adj Error:  30.0\n",
      "Average Adj Dist Error:  30.86\n"
     ]
    },
    {
     "name": "stderr",
     "output_type": "stream",
     "text": [
      "  6%|▌         | 6/100 [00:16<04:15,  2.72s/it]"
     ]
    },
    {
     "name": "stdout",
     "output_type": "stream",
     "text": [
      "Best Dist:  0.2949741786613402\n",
      "Average Dist:  0.4671237264575048\n",
      "Best Adj Error:  28.0\n",
      "Average Adj Dist Error:  30.71\n"
     ]
    },
    {
     "name": "stderr",
     "output_type": "stream",
     "text": [
      "  7%|▋         | 7/100 [00:19<04:18,  2.78s/it]"
     ]
    },
    {
     "name": "stdout",
     "output_type": "stream",
     "text": [
      "extreme\n",
      "Best Dist:  0.2949741786613402\n",
      "Average Dist:  0.45812291944140726\n",
      "Best Adj Error:  28.0\n",
      "Average Adj Dist Error:  29.12\n"
     ]
    },
    {
     "name": "stderr",
     "output_type": "stream",
     "text": [
      "  8%|▊         | 8/100 [00:21<04:13,  2.75s/it]"
     ]
    },
    {
     "name": "stdout",
     "output_type": "stream",
     "text": [
      "extreme\n",
      "Best Dist:  0.2949741786613402\n",
      "Average Dist:  0.44494162406236887\n",
      "Best Adj Error:  28.0\n",
      "Average Adj Dist Error:  28.18\n"
     ]
    },
    {
     "name": "stderr",
     "output_type": "stream",
     "text": [
      "  9%|▉         | 9/100 [00:24<04:05,  2.70s/it]"
     ]
    },
    {
     "name": "stdout",
     "output_type": "stream",
     "text": [
      "extreme\n",
      "Best Dist:  0.2949741786613402\n",
      "Average Dist:  0.42285626280346816\n",
      "Best Adj Error:  28.0\n",
      "Average Adj Dist Error:  27.28\n"
     ]
    },
    {
     "name": "stderr",
     "output_type": "stream",
     "text": [
      " 10%|█         | 10/100 [00:27<04:08,  2.76s/it]"
     ]
    },
    {
     "name": "stdout",
     "output_type": "stream",
     "text": [
      "extreme\n",
      "Best Dist:  0.28727510823252383\n",
      "Average Dist:  0.4248546532644289\n",
      "Best Adj Error:  30.0\n",
      "Average Adj Dist Error:  27.37\n"
     ]
    },
    {
     "name": "stderr",
     "output_type": "stream",
     "text": [
      " 11%|█         | 11/100 [00:30<04:07,  2.79s/it]"
     ]
    },
    {
     "name": "stdout",
     "output_type": "stream",
     "text": [
      "extreme\n",
      "Best Dist:  0.28727510823252383\n",
      "Average Dist:  0.37963469344025536\n",
      "Best Adj Error:  30.0\n",
      "Average Adj Dist Error:  26.53\n"
     ]
    },
    {
     "name": "stderr",
     "output_type": "stream",
     "text": [
      " 12%|█▏        | 12/100 [00:33<04:08,  2.83s/it]"
     ]
    },
    {
     "name": "stdout",
     "output_type": "stream",
     "text": [
      "extreme\n",
      "Best Dist:  0.2697137050330093\n",
      "Average Dist:  0.3628941511213457\n",
      "Best Adj Error:  26.0\n",
      "Average Adj Dist Error:  27.39\n"
     ]
    },
    {
     "name": "stderr",
     "output_type": "stream",
     "text": [
      " 13%|█▎        | 13/100 [00:36<04:06,  2.84s/it]"
     ]
    },
    {
     "name": "stdout",
     "output_type": "stream",
     "text": [
      "extreme\n",
      "Best Dist:  0.2697137050330093\n",
      "Average Dist:  0.3492925247754161\n",
      "Best Adj Error:  26.0\n",
      "Average Adj Dist Error:  28.3\n"
     ]
    },
    {
     "name": "stderr",
     "output_type": "stream",
     "text": [
      " 14%|█▍        | 14/100 [00:38<04:04,  2.84s/it]"
     ]
    },
    {
     "name": "stdout",
     "output_type": "stream",
     "text": [
      "extreme\n",
      "Best Dist:  0.2697137050330093\n",
      "Average Dist:  0.32673168467610664\n",
      "Best Adj Error:  26.0\n",
      "Average Adj Dist Error:  29.38\n"
     ]
    },
    {
     "name": "stderr",
     "output_type": "stream",
     "text": [
      " 15%|█▌        | 15/100 [00:41<04:03,  2.87s/it]"
     ]
    },
    {
     "name": "stdout",
     "output_type": "stream",
     "text": [
      "extreme\n",
      "Best Dist:  0.26381680459053525\n",
      "Average Dist:  0.31683688819218203\n",
      "Best Adj Error:  32.0\n",
      "Average Adj Dist Error:  28.8\n"
     ]
    },
    {
     "name": "stderr",
     "output_type": "stream",
     "text": [
      " 16%|█▌        | 16/100 [00:44<04:01,  2.88s/it]"
     ]
    },
    {
     "name": "stdout",
     "output_type": "stream",
     "text": [
      "extreme\n",
      "Best Dist:  0.2635297055662623\n",
      "Average Dist:  0.31929837668572814\n",
      "Best Adj Error:  24.0\n",
      "Average Adj Dist Error:  28.49\n"
     ]
    },
    {
     "name": "stderr",
     "output_type": "stream",
     "text": [
      " 17%|█▋        | 17/100 [00:47<04:00,  2.90s/it]"
     ]
    },
    {
     "name": "stdout",
     "output_type": "stream",
     "text": [
      "extreme\n",
      "Best Dist:  0.2635297055662623\n",
      "Average Dist:  0.3038995755965091\n",
      "Best Adj Error:  24.0\n",
      "Average Adj Dist Error:  28.3\n"
     ]
    },
    {
     "name": "stderr",
     "output_type": "stream",
     "text": [
      " 18%|█▊        | 18/100 [00:50<03:54,  2.86s/it]"
     ]
    },
    {
     "name": "stdout",
     "output_type": "stream",
     "text": [
      "extreme\n",
      "Best Dist:  0.25753941841415134\n",
      "Average Dist:  0.3151596546550295\n",
      "Best Adj Error:  24.0\n",
      "Average Adj Dist Error:  28.44\n"
     ]
    },
    {
     "name": "stderr",
     "output_type": "stream",
     "text": [
      " 19%|█▉        | 19/100 [00:53<03:54,  2.90s/it]"
     ]
    },
    {
     "name": "stdout",
     "output_type": "stream",
     "text": [
      "extreme\n",
      "Best Dist:  0.2491888022767001\n",
      "Average Dist:  0.2961215217052353\n",
      "Best Adj Error:  30.0\n",
      "Average Adj Dist Error:  28.17\n"
     ]
    },
    {
     "name": "stderr",
     "output_type": "stream",
     "text": [
      " 20%|██        | 20/100 [00:56<03:52,  2.91s/it]"
     ]
    },
    {
     "name": "stdout",
     "output_type": "stream",
     "text": [
      "extreme\n",
      "Best Dist:  0.2491888022767001\n",
      "Average Dist:  0.311818583163354\n",
      "Best Adj Error:  30.0\n",
      "Average Adj Dist Error:  27.82\n"
     ]
    },
    {
     "name": "stderr",
     "output_type": "stream",
     "text": [
      " 21%|██        | 21/100 [00:59<03:49,  2.90s/it]"
     ]
    },
    {
     "name": "stdout",
     "output_type": "stream",
     "text": [
      "extreme\n",
      "Best Dist:  0.2491888022767001\n",
      "Average Dist:  0.29149627277619156\n",
      "Best Adj Error:  30.0\n",
      "Average Adj Dist Error:  26.78\n"
     ]
    },
    {
     "name": "stderr",
     "output_type": "stream",
     "text": [
      " 22%|██▏       | 22/100 [01:02<03:45,  2.89s/it]"
     ]
    },
    {
     "name": "stdout",
     "output_type": "stream",
     "text": [
      "extreme\n",
      "Best Dist:  0.2491888022767001\n",
      "Average Dist:  0.29134034423431027\n",
      "Best Adj Error:  30.0\n",
      "Average Adj Dist Error:  26.5\n"
     ]
    },
    {
     "name": "stderr",
     "output_type": "stream",
     "text": [
      " 23%|██▎       | 23/100 [01:05<03:50,  2.99s/it]"
     ]
    },
    {
     "name": "stdout",
     "output_type": "stream",
     "text": [
      "extreme\n",
      "Best Dist:  0.2491888022767001\n",
      "Average Dist:  0.2955204130645301\n",
      "Best Adj Error:  30.0\n",
      "Average Adj Dist Error:  26.31\n"
     ]
    },
    {
     "name": "stderr",
     "output_type": "stream",
     "text": [
      " 24%|██▍       | 24/100 [01:08<03:41,  2.91s/it]"
     ]
    },
    {
     "name": "stdout",
     "output_type": "stream",
     "text": [
      "extreme\n",
      "Best Dist:  0.2491888022767001\n",
      "Average Dist:  0.3136130200973778\n",
      "Best Adj Error:  30.0\n",
      "Average Adj Dist Error:  26.28\n"
     ]
    },
    {
     "name": "stderr",
     "output_type": "stream",
     "text": [
      " 25%|██▌       | 25/100 [01:10<03:37,  2.90s/it]"
     ]
    },
    {
     "name": "stdout",
     "output_type": "stream",
     "text": [
      "extreme\n",
      "Best Dist:  0.2491888022767001\n",
      "Average Dist:  0.3156940137868598\n",
      "Best Adj Error:  30.0\n",
      "Average Adj Dist Error:  25.72\n"
     ]
    },
    {
     "name": "stderr",
     "output_type": "stream",
     "text": [
      " 26%|██▌       | 26/100 [01:13<03:33,  2.89s/it]"
     ]
    },
    {
     "name": "stdout",
     "output_type": "stream",
     "text": [
      "extreme\n",
      "Best Dist:  0.23906976309745526\n",
      "Average Dist:  0.28091827246586254\n",
      "Best Adj Error:  32.0\n",
      "Average Adj Dist Error:  25.08\n"
     ]
    },
    {
     "name": "stderr",
     "output_type": "stream",
     "text": [
      " 27%|██▋       | 27/100 [01:16<03:29,  2.87s/it]"
     ]
    },
    {
     "name": "stdout",
     "output_type": "stream",
     "text": [
      "extreme\n",
      "Best Dist:  0.23906976309745526\n",
      "Average Dist:  0.26655012277912626\n",
      "Best Adj Error:  32.0\n",
      "Average Adj Dist Error:  24.62\n"
     ]
    },
    {
     "name": "stderr",
     "output_type": "stream",
     "text": [
      " 28%|██▊       | 28/100 [01:19<03:31,  2.94s/it]"
     ]
    },
    {
     "name": "stdout",
     "output_type": "stream",
     "text": [
      "extreme\n",
      "Best Dist:  0.23906976309745526\n",
      "Average Dist:  0.2904598166023824\n",
      "Best Adj Error:  32.0\n",
      "Average Adj Dist Error:  25.28\n"
     ]
    },
    {
     "name": "stderr",
     "output_type": "stream",
     "text": [
      " 29%|██▉       | 29/100 [01:22<03:28,  2.94s/it]"
     ]
    },
    {
     "name": "stdout",
     "output_type": "stream",
     "text": [
      "extreme\n",
      "Best Dist:  0.23906976309745526\n",
      "Average Dist:  0.279648420274633\n",
      "Best Adj Error:  32.0\n",
      "Average Adj Dist Error:  25.59\n"
     ]
    },
    {
     "name": "stderr",
     "output_type": "stream",
     "text": [
      " 30%|███       | 30/100 [01:25<03:26,  2.95s/it]"
     ]
    },
    {
     "name": "stdout",
     "output_type": "stream",
     "text": [
      "extreme\n",
      "Best Dist:  0.22819401782991283\n",
      "Average Dist:  0.25763161339887314\n",
      "Best Adj Error:  30.0\n",
      "Average Adj Dist Error:  25.91\n"
     ]
    },
    {
     "name": "stderr",
     "output_type": "stream",
     "text": [
      " 31%|███       | 31/100 [01:28<03:23,  2.95s/it]"
     ]
    },
    {
     "name": "stdout",
     "output_type": "stream",
     "text": [
      "extreme\n",
      "Best Dist:  0.22819401782991283\n",
      "Average Dist:  0.2620836240254309\n",
      "Best Adj Error:  30.0\n",
      "Average Adj Dist Error:  27.53\n"
     ]
    },
    {
     "name": "stderr",
     "output_type": "stream",
     "text": [
      " 32%|███▏      | 32/100 [01:31<03:18,  2.91s/it]"
     ]
    },
    {
     "name": "stdout",
     "output_type": "stream",
     "text": [
      "extreme\n",
      "Best Dist:  0.22819401782991283\n",
      "Average Dist:  0.2591008321200487\n",
      "Best Adj Error:  30.0\n",
      "Average Adj Dist Error:  30.39\n"
     ]
    },
    {
     "name": "stderr",
     "output_type": "stream",
     "text": [
      " 33%|███▎      | 33/100 [01:34<03:17,  2.94s/it]"
     ]
    },
    {
     "name": "stdout",
     "output_type": "stream",
     "text": [
      "extreme\n",
      "Best Dist:  0.22819401782991283\n",
      "Average Dist:  0.2876295086379993\n",
      "Best Adj Error:  30.0\n",
      "Average Adj Dist Error:  31.45\n"
     ]
    },
    {
     "name": "stderr",
     "output_type": "stream",
     "text": [
      " 34%|███▍      | 34/100 [01:37<03:15,  2.96s/it]"
     ]
    },
    {
     "name": "stdout",
     "output_type": "stream",
     "text": [
      "extreme\n",
      "Best Dist:  0.22819401782991283\n",
      "Average Dist:  0.27398017111414225\n",
      "Best Adj Error:  30.0\n",
      "Average Adj Dist Error:  31.34\n"
     ]
    },
    {
     "name": "stderr",
     "output_type": "stream",
     "text": [
      " 35%|███▌      | 35/100 [01:40<03:12,  2.96s/it]"
     ]
    },
    {
     "name": "stdout",
     "output_type": "stream",
     "text": [
      "extreme\n",
      "Best Dist:  0.22819401782991283\n",
      "Average Dist:  0.24231724579519792\n",
      "Best Adj Error:  30.0\n",
      "Average Adj Dist Error:  31.6\n"
     ]
    },
    {
     "name": "stderr",
     "output_type": "stream",
     "text": [
      " 36%|███▌      | 36/100 [01:43<03:05,  2.90s/it]"
     ]
    },
    {
     "name": "stdout",
     "output_type": "stream",
     "text": [
      "extreme\n",
      "Best Dist:  0.22819401782991283\n",
      "Average Dist:  0.2502310758142174\n",
      "Best Adj Error:  30.0\n",
      "Average Adj Dist Error:  31.6\n"
     ]
    },
    {
     "name": "stderr",
     "output_type": "stream",
     "text": [
      " 37%|███▋      | 37/100 [01:46<03:02,  2.90s/it]"
     ]
    },
    {
     "name": "stdout",
     "output_type": "stream",
     "text": [
      "extreme\n",
      "Best Dist:  0.22819401782991283\n",
      "Average Dist:  0.2444711478025102\n",
      "Best Adj Error:  30.0\n",
      "Average Adj Dist Error:  31.04\n"
     ]
    },
    {
     "name": "stderr",
     "output_type": "stream",
     "text": [
      " 38%|███▊      | 38/100 [01:49<03:00,  2.91s/it]"
     ]
    },
    {
     "name": "stdout",
     "output_type": "stream",
     "text": [
      "extreme\n",
      "Best Dist:  0.22819401782991283\n",
      "Average Dist:  0.25827759642738707\n",
      "Best Adj Error:  30.0\n",
      "Average Adj Dist Error:  30.3\n"
     ]
    },
    {
     "name": "stderr",
     "output_type": "stream",
     "text": [
      " 39%|███▉      | 39/100 [01:51<02:56,  2.90s/it]"
     ]
    },
    {
     "name": "stdout",
     "output_type": "stream",
     "text": [
      "extreme\n",
      "Best Dist:  0.22449563800430777\n",
      "Average Dist:  0.24500010136850084\n",
      "Best Adj Error:  32.0\n",
      "Average Adj Dist Error:  30.06\n"
     ]
    },
    {
     "name": "stderr",
     "output_type": "stream",
     "text": [
      " 40%|████      | 40/100 [01:54<02:55,  2.93s/it]"
     ]
    },
    {
     "name": "stdout",
     "output_type": "stream",
     "text": [
      "extreme\n",
      "Best Dist:  0.22449563800430777\n",
      "Average Dist:  0.24618197019527252\n",
      "Best Adj Error:  32.0\n",
      "Average Adj Dist Error:  30.1\n"
     ]
    },
    {
     "name": "stderr",
     "output_type": "stream",
     "text": [
      " 41%|████      | 41/100 [01:57<02:51,  2.91s/it]"
     ]
    },
    {
     "name": "stdout",
     "output_type": "stream",
     "text": [
      "extreme\n",
      "Best Dist:  0.22449563800430777\n",
      "Average Dist:  0.2927349009293004\n",
      "Best Adj Error:  32.0\n",
      "Average Adj Dist Error:  30.65\n"
     ]
    },
    {
     "name": "stderr",
     "output_type": "stream",
     "text": [
      " 42%|████▏     | 42/100 [02:00<02:46,  2.87s/it]"
     ]
    },
    {
     "name": "stdout",
     "output_type": "stream",
     "text": [
      "extreme\n",
      "Best Dist:  0.22449563800430777\n",
      "Average Dist:  0.2590245531720103\n",
      "Best Adj Error:  32.0\n",
      "Average Adj Dist Error:  30.38\n"
     ]
    },
    {
     "name": "stderr",
     "output_type": "stream",
     "text": [
      " 43%|████▎     | 43/100 [02:03<02:43,  2.87s/it]"
     ]
    },
    {
     "name": "stdout",
     "output_type": "stream",
     "text": [
      "extreme\n",
      "Best Dist:  0.22449563800430777\n",
      "Average Dist:  0.25681426087963766\n",
      "Best Adj Error:  32.0\n",
      "Average Adj Dist Error:  30.36\n"
     ]
    },
    {
     "name": "stderr",
     "output_type": "stream",
     "text": [
      " 44%|████▍     | 44/100 [02:06<02:42,  2.91s/it]"
     ]
    },
    {
     "name": "stdout",
     "output_type": "stream",
     "text": [
      "extreme\n",
      "Best Dist:  0.22449563800430777\n",
      "Average Dist:  0.23642486430165102\n",
      "Best Adj Error:  32.0\n",
      "Average Adj Dist Error:  30.44\n"
     ]
    },
    {
     "name": "stderr",
     "output_type": "stream",
     "text": [
      " 45%|████▌     | 45/100 [02:09<02:38,  2.87s/it]"
     ]
    },
    {
     "name": "stdout",
     "output_type": "stream",
     "text": [
      "extreme\n",
      "Best Dist:  0.22449563800430777\n",
      "Average Dist:  0.2740123067494715\n",
      "Best Adj Error:  32.0\n",
      "Average Adj Dist Error:  30.8\n"
     ]
    },
    {
     "name": "stderr",
     "output_type": "stream",
     "text": [
      " 46%|████▌     | 46/100 [02:12<02:35,  2.88s/it]"
     ]
    },
    {
     "name": "stdout",
     "output_type": "stream",
     "text": [
      "extreme\n",
      "Best Dist:  0.22449563800430777\n",
      "Average Dist:  0.2585941966979092\n",
      "Best Adj Error:  32.0\n",
      "Average Adj Dist Error:  31.17\n"
     ]
    },
    {
     "name": "stderr",
     "output_type": "stream",
     "text": [
      " 47%|████▋     | 47/100 [02:15<02:33,  2.90s/it]"
     ]
    },
    {
     "name": "stdout",
     "output_type": "stream",
     "text": [
      "extreme\n",
      "Best Dist:  0.22449563800430777\n",
      "Average Dist:  0.24534368685871477\n",
      "Best Adj Error:  32.0\n",
      "Average Adj Dist Error:  31.5\n"
     ]
    },
    {
     "name": "stderr",
     "output_type": "stream",
     "text": [
      " 48%|████▊     | 48/100 [02:17<02:28,  2.86s/it]"
     ]
    },
    {
     "name": "stdout",
     "output_type": "stream",
     "text": [
      "extreme\n",
      "Best Dist:  0.22449563800430777\n",
      "Average Dist:  0.23732188802401594\n",
      "Best Adj Error:  32.0\n",
      "Average Adj Dist Error:  32.1\n"
     ]
    },
    {
     "name": "stderr",
     "output_type": "stream",
     "text": [
      " 49%|████▉     | 49/100 [02:20<02:26,  2.86s/it]"
     ]
    },
    {
     "name": "stdout",
     "output_type": "stream",
     "text": [
      "extreme\n",
      "Best Dist:  0.22449563800430777\n",
      "Average Dist:  0.22547407530044863\n",
      "Best Adj Error:  32.0\n",
      "Average Adj Dist Error:  32.01\n"
     ]
    },
    {
     "name": "stderr",
     "output_type": "stream",
     "text": [
      " 50%|█████     | 50/100 [02:23<02:25,  2.92s/it]"
     ]
    },
    {
     "name": "stdout",
     "output_type": "stream",
     "text": [
      "extreme\n",
      "Best Dist:  0.22449563800430777\n",
      "Average Dist:  0.27412700670424905\n",
      "Best Adj Error:  32.0\n",
      "Average Adj Dist Error:  32.28\n"
     ]
    },
    {
     "name": "stderr",
     "output_type": "stream",
     "text": [
      " 51%|█████     | 51/100 [02:26<02:22,  2.90s/it]"
     ]
    },
    {
     "name": "stdout",
     "output_type": "stream",
     "text": [
      "extreme\n",
      "Best Dist:  0.22449563800430777\n",
      "Average Dist:  0.23140785468443034\n",
      "Best Adj Error:  32.0\n",
      "Average Adj Dist Error:  32.08\n",
      "extreme\n"
     ]
    },
    {
     "name": "stderr",
     "output_type": "stream",
     "text": [
      " 52%|█████▏    | 52/100 [02:31<02:44,  3.42s/it]"
     ]
    },
    {
     "name": "stdout",
     "output_type": "stream",
     "text": [
      "Best Dist:  0.22449563800430777\n",
      "Average Dist:  0.5475628101373453\n",
      "Best Adj Error:  32.0\n",
      "Average Adj Dist Error:  40.74\n",
      "extreme\n"
     ]
    },
    {
     "name": "stderr",
     "output_type": "stream",
     "text": [
      " 53%|█████▎    | 53/100 [02:35<02:59,  3.82s/it]"
     ]
    },
    {
     "name": "stdout",
     "output_type": "stream",
     "text": [
      "new injection\n",
      "Best Dist:  0.22449563800430777\n",
      "Average Dist:  0.5631638704873403\n",
      "Best Adj Error:  32.0\n",
      "Average Adj Dist Error:  41.61\n",
      "extreme\n"
     ]
    },
    {
     "name": "stderr",
     "output_type": "stream",
     "text": [
      " 54%|█████▍    | 54/100 [02:40<03:05,  4.04s/it]"
     ]
    },
    {
     "name": "stdout",
     "output_type": "stream",
     "text": [
      "Best Dist:  0.22449563800430777\n",
      "Average Dist:  0.5467494790492222\n",
      "Best Adj Error:  32.0\n",
      "Average Adj Dist Error:  40.87\n",
      "extreme\n"
     ]
    },
    {
     "name": "stderr",
     "output_type": "stream",
     "text": [
      " 55%|█████▌    | 55/100 [02:45<03:10,  4.24s/it]"
     ]
    },
    {
     "name": "stdout",
     "output_type": "stream",
     "text": [
      "Best Dist:  0.22449563800430777\n",
      "Average Dist:  0.5536243543983922\n",
      "Best Adj Error:  32.0\n",
      "Average Adj Dist Error:  40.69\n",
      "extreme\n"
     ]
    },
    {
     "name": "stderr",
     "output_type": "stream",
     "text": [
      " 56%|█████▌    | 56/100 [02:49<03:10,  4.33s/it]"
     ]
    },
    {
     "name": "stdout",
     "output_type": "stream",
     "text": [
      "Best Dist:  0.22449563800430777\n",
      "Average Dist:  0.5543078979103733\n",
      "Best Adj Error:  32.0\n",
      "Average Adj Dist Error:  41.22\n",
      "extreme\n"
     ]
    },
    {
     "name": "stderr",
     "output_type": "stream",
     "text": [
      " 57%|█████▋    | 57/100 [02:54<03:11,  4.45s/it]"
     ]
    },
    {
     "name": "stdout",
     "output_type": "stream",
     "text": [
      "Best Dist:  0.22449563800430777\n",
      "Average Dist:  0.5459188488159056\n",
      "Best Adj Error:  32.0\n",
      "Average Adj Dist Error:  40.45\n",
      "extreme\n"
     ]
    },
    {
     "name": "stderr",
     "output_type": "stream",
     "text": [
      " 58%|█████▊    | 58/100 [02:58<03:05,  4.42s/it]"
     ]
    },
    {
     "name": "stdout",
     "output_type": "stream",
     "text": [
      "new injection\n",
      "Best Dist:  0.22449563800430777\n",
      "Average Dist:  0.5570619553711883\n",
      "Best Adj Error:  32.0\n",
      "Average Adj Dist Error:  40.87\n",
      "extreme\n"
     ]
    },
    {
     "name": "stderr",
     "output_type": "stream",
     "text": [
      " 59%|█████▉    | 59/100 [03:03<03:02,  4.46s/it]"
     ]
    },
    {
     "name": "stdout",
     "output_type": "stream",
     "text": [
      "Best Dist:  0.22449563800430777\n",
      "Average Dist:  0.5510146470588134\n",
      "Best Adj Error:  32.0\n",
      "Average Adj Dist Error:  40.92\n",
      "extreme\n"
     ]
    },
    {
     "name": "stderr",
     "output_type": "stream",
     "text": [
      " 60%|██████    | 60/100 [03:08<03:02,  4.56s/it]"
     ]
    },
    {
     "name": "stdout",
     "output_type": "stream",
     "text": [
      "Best Dist:  0.22449563800430777\n",
      "Average Dist:  0.5425274620642427\n",
      "Best Adj Error:  32.0\n",
      "Average Adj Dist Error:  40.98\n",
      "extreme\n"
     ]
    },
    {
     "name": "stderr",
     "output_type": "stream",
     "text": [
      " 61%|██████    | 61/100 [03:12<02:59,  4.60s/it]"
     ]
    },
    {
     "name": "stdout",
     "output_type": "stream",
     "text": [
      "Best Dist:  0.22449563800430777\n",
      "Average Dist:  0.5549970990907152\n",
      "Best Adj Error:  32.0\n",
      "Average Adj Dist Error:  41.75\n",
      "extreme\n"
     ]
    },
    {
     "name": "stderr",
     "output_type": "stream",
     "text": [
      " 62%|██████▏   | 62/100 [03:17<02:57,  4.66s/it]"
     ]
    },
    {
     "name": "stdout",
     "output_type": "stream",
     "text": [
      "Best Dist:  0.22449563800430777\n",
      "Average Dist:  0.5508795131404652\n",
      "Best Adj Error:  32.0\n",
      "Average Adj Dist Error:  40.87\n",
      "extreme\n"
     ]
    },
    {
     "name": "stderr",
     "output_type": "stream",
     "text": [
      " 63%|██████▎   | 63/100 [03:22<02:54,  4.71s/it]"
     ]
    },
    {
     "name": "stdout",
     "output_type": "stream",
     "text": [
      "new injection\n",
      "Best Dist:  0.22449563800430777\n",
      "Average Dist:  0.5538427602075777\n",
      "Best Adj Error:  32.0\n",
      "Average Adj Dist Error:  41.17\n",
      "extreme\n"
     ]
    },
    {
     "name": "stderr",
     "output_type": "stream",
     "text": [
      " 64%|██████▍   | 64/100 [03:27<02:48,  4.68s/it]"
     ]
    },
    {
     "name": "stdout",
     "output_type": "stream",
     "text": [
      "Best Dist:  0.22449563800430777\n",
      "Average Dist:  0.5521688407327919\n",
      "Best Adj Error:  32.0\n",
      "Average Adj Dist Error:  40.81\n",
      "extreme\n"
     ]
    },
    {
     "name": "stderr",
     "output_type": "stream",
     "text": [
      " 65%|██████▌   | 65/100 [03:31<02:44,  4.71s/it]"
     ]
    },
    {
     "name": "stdout",
     "output_type": "stream",
     "text": [
      "Best Dist:  0.22449563800430777\n",
      "Average Dist:  0.5405123325501492\n",
      "Best Adj Error:  32.0\n",
      "Average Adj Dist Error:  40.22\n",
      "extreme\n"
     ]
    },
    {
     "name": "stderr",
     "output_type": "stream",
     "text": [
      " 66%|██████▌   | 66/100 [03:36<02:41,  4.74s/it]"
     ]
    },
    {
     "name": "stdout",
     "output_type": "stream",
     "text": [
      "Best Dist:  0.22449563800430777\n",
      "Average Dist:  0.5499976133284622\n",
      "Best Adj Error:  32.0\n",
      "Average Adj Dist Error:  40.76\n",
      "extreme\n"
     ]
    },
    {
     "name": "stderr",
     "output_type": "stream",
     "text": [
      " 67%|██████▋   | 67/100 [03:41<02:34,  4.69s/it]"
     ]
    },
    {
     "name": "stdout",
     "output_type": "stream",
     "text": [
      "Best Dist:  0.22449563800430777\n",
      "Average Dist:  0.5511589258078584\n",
      "Best Adj Error:  32.0\n",
      "Average Adj Dist Error:  40.61\n",
      "extreme\n"
     ]
    },
    {
     "name": "stderr",
     "output_type": "stream",
     "text": [
      " 68%|██████▊   | 68/100 [03:45<02:29,  4.68s/it]"
     ]
    },
    {
     "name": "stdout",
     "output_type": "stream",
     "text": [
      "new injection\n",
      "Best Dist:  0.22449563800430777\n",
      "Average Dist:  0.5594873484710385\n",
      "Best Adj Error:  32.0\n",
      "Average Adj Dist Error:  40.85\n",
      "extreme\n"
     ]
    },
    {
     "name": "stderr",
     "output_type": "stream",
     "text": [
      " 69%|██████▉   | 69/100 [03:50<02:25,  4.69s/it]"
     ]
    },
    {
     "name": "stdout",
     "output_type": "stream",
     "text": [
      "Best Dist:  0.22449563800430777\n",
      "Average Dist:  0.5476495002797224\n",
      "Best Adj Error:  32.0\n",
      "Average Adj Dist Error:  40.88\n",
      "extreme\n"
     ]
    },
    {
     "name": "stderr",
     "output_type": "stream",
     "text": [
      " 70%|███████   | 70/100 [03:55<02:23,  4.77s/it]"
     ]
    },
    {
     "name": "stdout",
     "output_type": "stream",
     "text": [
      "Best Dist:  0.22449563800430777\n",
      "Average Dist:  0.5515266504889721\n",
      "Best Adj Error:  32.0\n",
      "Average Adj Dist Error:  41.14\n",
      "extreme\n"
     ]
    },
    {
     "name": "stderr",
     "output_type": "stream",
     "text": [
      " 71%|███████   | 71/100 [04:00<02:18,  4.78s/it]"
     ]
    },
    {
     "name": "stdout",
     "output_type": "stream",
     "text": [
      "Best Dist:  0.22449563800430777\n",
      "Average Dist:  0.5517551493038698\n",
      "Best Adj Error:  32.0\n",
      "Average Adj Dist Error:  40.85\n",
      "extreme\n"
     ]
    },
    {
     "name": "stderr",
     "output_type": "stream",
     "text": [
      " 72%|███████▏  | 72/100 [04:05<02:14,  4.79s/it]"
     ]
    },
    {
     "name": "stdout",
     "output_type": "stream",
     "text": [
      "Best Dist:  0.22449563800430777\n",
      "Average Dist:  0.5422207576254737\n",
      "Best Adj Error:  32.0\n",
      "Average Adj Dist Error:  40.71\n",
      "extreme\n"
     ]
    },
    {
     "name": "stderr",
     "output_type": "stream",
     "text": [
      " 73%|███████▎  | 73/100 [04:09<02:07,  4.72s/it]"
     ]
    },
    {
     "name": "stdout",
     "output_type": "stream",
     "text": [
      "new injection\n",
      "Best Dist:  0.22449563800430777\n",
      "Average Dist:  0.5523595985163829\n",
      "Best Adj Error:  32.0\n",
      "Average Adj Dist Error:  41.39\n",
      "extreme\n"
     ]
    },
    {
     "name": "stderr",
     "output_type": "stream",
     "text": [
      " 74%|███████▍  | 74/100 [04:14<02:03,  4.75s/it]"
     ]
    },
    {
     "name": "stdout",
     "output_type": "stream",
     "text": [
      "Best Dist:  0.22449563800430777\n",
      "Average Dist:  0.5516955391786573\n",
      "Best Adj Error:  32.0\n",
      "Average Adj Dist Error:  40.12\n",
      "extreme\n"
     ]
    },
    {
     "name": "stderr",
     "output_type": "stream",
     "text": [
      " 75%|███████▌  | 75/100 [04:19<01:58,  4.73s/it]"
     ]
    },
    {
     "name": "stdout",
     "output_type": "stream",
     "text": [
      "Best Dist:  0.22449563800430777\n",
      "Average Dist:  0.5580996634603028\n",
      "Best Adj Error:  32.0\n",
      "Average Adj Dist Error:  41.05\n",
      "extreme\n"
     ]
    },
    {
     "name": "stderr",
     "output_type": "stream",
     "text": [
      " 76%|███████▌  | 76/100 [04:24<01:53,  4.73s/it]"
     ]
    },
    {
     "name": "stdout",
     "output_type": "stream",
     "text": [
      "Best Dist:  0.22449563800430777\n",
      "Average Dist:  0.5487307358701252\n",
      "Best Adj Error:  32.0\n",
      "Average Adj Dist Error:  41.24\n",
      "extreme\n"
     ]
    },
    {
     "name": "stderr",
     "output_type": "stream",
     "text": [
      " 77%|███████▋  | 77/100 [04:28<01:48,  4.73s/it]"
     ]
    },
    {
     "name": "stdout",
     "output_type": "stream",
     "text": [
      "Best Dist:  0.22449563800430777\n",
      "Average Dist:  0.5552752067855588\n",
      "Best Adj Error:  32.0\n",
      "Average Adj Dist Error:  41.7\n",
      "extreme\n"
     ]
    },
    {
     "name": "stderr",
     "output_type": "stream",
     "text": [
      " 78%|███████▊  | 78/100 [04:33<01:43,  4.71s/it]"
     ]
    },
    {
     "name": "stdout",
     "output_type": "stream",
     "text": [
      "new injection\n",
      "Best Dist:  0.22449563800430777\n",
      "Average Dist:  0.5683414339298218\n",
      "Best Adj Error:  32.0\n",
      "Average Adj Dist Error:  42.02\n",
      "extreme\n"
     ]
    },
    {
     "name": "stderr",
     "output_type": "stream",
     "text": [
      " 79%|███████▉  | 79/100 [04:38<01:38,  4.71s/it]"
     ]
    },
    {
     "name": "stdout",
     "output_type": "stream",
     "text": [
      "Best Dist:  0.22449563800430777\n",
      "Average Dist:  0.549534047627509\n",
      "Best Adj Error:  32.0\n",
      "Average Adj Dist Error:  41.34\n",
      "extreme\n"
     ]
    },
    {
     "name": "stderr",
     "output_type": "stream",
     "text": [
      " 80%|████████  | 80/100 [04:42<01:35,  4.76s/it]"
     ]
    },
    {
     "name": "stdout",
     "output_type": "stream",
     "text": [
      "Best Dist:  0.22449563800430777\n",
      "Average Dist:  0.5561512584728816\n",
      "Best Adj Error:  32.0\n",
      "Average Adj Dist Error:  41.17\n",
      "extreme\n"
     ]
    },
    {
     "name": "stderr",
     "output_type": "stream",
     "text": [
      " 81%|████████  | 81/100 [04:47<01:29,  4.73s/it]"
     ]
    },
    {
     "name": "stdout",
     "output_type": "stream",
     "text": [
      "Best Dist:  0.22449563800430777\n",
      "Average Dist:  0.5432448573175805\n",
      "Best Adj Error:  32.0\n",
      "Average Adj Dist Error:  40.83\n",
      "extreme\n"
     ]
    },
    {
     "name": "stderr",
     "output_type": "stream",
     "text": [
      " 82%|████████▏ | 82/100 [04:52<01:25,  4.72s/it]"
     ]
    },
    {
     "name": "stdout",
     "output_type": "stream",
     "text": [
      "Best Dist:  0.22449563800430777\n",
      "Average Dist:  0.5509093686621465\n",
      "Best Adj Error:  32.0\n",
      "Average Adj Dist Error:  40.18\n",
      "extreme\n"
     ]
    },
    {
     "name": "stderr",
     "output_type": "stream",
     "text": [
      " 83%|████████▎ | 83/100 [04:57<01:20,  4.72s/it]"
     ]
    },
    {
     "name": "stdout",
     "output_type": "stream",
     "text": [
      "new injection\n",
      "Best Dist:  0.22449563800430777\n",
      "Average Dist:  0.5575575722497712\n",
      "Best Adj Error:  32.0\n",
      "Average Adj Dist Error:  41.04\n",
      "extreme\n"
     ]
    },
    {
     "name": "stderr",
     "output_type": "stream",
     "text": [
      " 84%|████████▍ | 84/100 [05:01<01:15,  4.70s/it]"
     ]
    },
    {
     "name": "stdout",
     "output_type": "stream",
     "text": [
      "Best Dist:  0.22449563800430777\n",
      "Average Dist:  0.550962969749963\n",
      "Best Adj Error:  32.0\n",
      "Average Adj Dist Error:  41.04\n",
      "extreme\n"
     ]
    },
    {
     "name": "stderr",
     "output_type": "stream",
     "text": [
      " 85%|████████▌ | 85/100 [05:06<01:10,  4.70s/it]"
     ]
    },
    {
     "name": "stdout",
     "output_type": "stream",
     "text": [
      "Best Dist:  0.22449563800430777\n",
      "Average Dist:  0.5565352592474301\n",
      "Best Adj Error:  32.0\n",
      "Average Adj Dist Error:  40.69\n",
      "extreme\n"
     ]
    },
    {
     "name": "stderr",
     "output_type": "stream",
     "text": [
      " 86%|████████▌ | 86/100 [05:11<01:05,  4.68s/it]"
     ]
    },
    {
     "name": "stdout",
     "output_type": "stream",
     "text": [
      "Best Dist:  0.22449563800430777\n",
      "Average Dist:  0.552116595851049\n",
      "Best Adj Error:  32.0\n",
      "Average Adj Dist Error:  41.27\n",
      "extreme\n"
     ]
    },
    {
     "name": "stderr",
     "output_type": "stream",
     "text": [
      " 87%|████████▋ | 87/100 [05:15<01:00,  4.69s/it]"
     ]
    },
    {
     "name": "stdout",
     "output_type": "stream",
     "text": [
      "Best Dist:  0.22449563800430777\n",
      "Average Dist:  0.5486310991775097\n",
      "Best Adj Error:  32.0\n",
      "Average Adj Dist Error:  40.23\n",
      "extreme\n"
     ]
    },
    {
     "name": "stderr",
     "output_type": "stream",
     "text": [
      " 88%|████████▊ | 88/100 [05:20<00:56,  4.68s/it]"
     ]
    },
    {
     "name": "stdout",
     "output_type": "stream",
     "text": [
      "new injection\n",
      "Best Dist:  0.22449563800430777\n",
      "Average Dist:  0.5552198371206071\n",
      "Best Adj Error:  32.0\n",
      "Average Adj Dist Error:  41.05\n",
      "extreme\n"
     ]
    },
    {
     "name": "stderr",
     "output_type": "stream",
     "text": [
      " 89%|████████▉ | 89/100 [05:24<00:51,  4.64s/it]"
     ]
    },
    {
     "name": "stdout",
     "output_type": "stream",
     "text": [
      "Best Dist:  0.22449563800430777\n",
      "Average Dist:  0.556284970380354\n",
      "Best Adj Error:  32.0\n",
      "Average Adj Dist Error:  41.05\n",
      "extreme\n"
     ]
    },
    {
     "name": "stderr",
     "output_type": "stream",
     "text": [
      " 90%|█████████ | 90/100 [05:29<00:45,  4.57s/it]"
     ]
    },
    {
     "name": "stdout",
     "output_type": "stream",
     "text": [
      "Best Dist:  0.22449563800430777\n",
      "Average Dist:  0.5417088072031855\n",
      "Best Adj Error:  32.0\n",
      "Average Adj Dist Error:  40.6\n",
      "extreme\n"
     ]
    },
    {
     "name": "stderr",
     "output_type": "stream",
     "text": [
      " 91%|█████████ | 91/100 [05:33<00:40,  4.48s/it]"
     ]
    },
    {
     "name": "stdout",
     "output_type": "stream",
     "text": [
      "Best Dist:  0.22449563800430777\n",
      "Average Dist:  0.5540021088880667\n",
      "Best Adj Error:  32.0\n",
      "Average Adj Dist Error:  41.13\n",
      "extreme\n"
     ]
    },
    {
     "name": "stderr",
     "output_type": "stream",
     "text": [
      " 92%|█████████▏| 92/100 [05:38<00:35,  4.49s/it]"
     ]
    },
    {
     "name": "stdout",
     "output_type": "stream",
     "text": [
      "Best Dist:  0.22449563800430777\n",
      "Average Dist:  0.5521416045509007\n",
      "Best Adj Error:  32.0\n",
      "Average Adj Dist Error:  41.37\n",
      "extreme\n"
     ]
    },
    {
     "name": "stderr",
     "output_type": "stream",
     "text": [
      " 93%|█████████▎| 93/100 [05:42<00:31,  4.49s/it]"
     ]
    },
    {
     "name": "stdout",
     "output_type": "stream",
     "text": [
      "new injection\n",
      "Best Dist:  0.22449563800430777\n",
      "Average Dist:  0.5572826466392821\n",
      "Best Adj Error:  32.0\n",
      "Average Adj Dist Error:  41.25\n",
      "extreme\n"
     ]
    },
    {
     "name": "stderr",
     "output_type": "stream",
     "text": [
      " 94%|█████████▍| 94/100 [05:47<00:26,  4.48s/it]"
     ]
    },
    {
     "name": "stdout",
     "output_type": "stream",
     "text": [
      "Best Dist:  0.22449563800430777\n",
      "Average Dist:  0.5463999013478368\n",
      "Best Adj Error:  32.0\n",
      "Average Adj Dist Error:  39.59\n",
      "extreme\n"
     ]
    },
    {
     "name": "stderr",
     "output_type": "stream",
     "text": [
      " 95%|█████████▌| 95/100 [05:51<00:22,  4.43s/it]"
     ]
    },
    {
     "name": "stdout",
     "output_type": "stream",
     "text": [
      "Best Dist:  0.22449563800430777\n",
      "Average Dist:  0.5463096070544973\n",
      "Best Adj Error:  32.0\n",
      "Average Adj Dist Error:  40.93\n",
      "extreme\n"
     ]
    },
    {
     "name": "stderr",
     "output_type": "stream",
     "text": [
      " 96%|█████████▌| 96/100 [05:55<00:17,  4.40s/it]"
     ]
    },
    {
     "name": "stdout",
     "output_type": "stream",
     "text": [
      "Best Dist:  0.22449563800430777\n",
      "Average Dist:  0.5510351542279858\n",
      "Best Adj Error:  32.0\n",
      "Average Adj Dist Error:  40.79\n",
      "extreme\n"
     ]
    },
    {
     "name": "stderr",
     "output_type": "stream",
     "text": [
      " 97%|█████████▋| 97/100 [06:00<00:13,  4.40s/it]"
     ]
    },
    {
     "name": "stdout",
     "output_type": "stream",
     "text": [
      "Best Dist:  0.22449563800430777\n",
      "Average Dist:  0.5471650404527701\n",
      "Best Adj Error:  32.0\n",
      "Average Adj Dist Error:  41.24\n",
      "extreme\n"
     ]
    },
    {
     "name": "stderr",
     "output_type": "stream",
     "text": [
      " 98%|█████████▊| 98/100 [06:04<00:08,  4.43s/it]"
     ]
    },
    {
     "name": "stdout",
     "output_type": "stream",
     "text": [
      "new injection\n",
      "Best Dist:  0.22449563800430777\n",
      "Average Dist:  0.5560707225965177\n",
      "Best Adj Error:  32.0\n",
      "Average Adj Dist Error:  40.61\n",
      "extreme\n"
     ]
    },
    {
     "name": "stderr",
     "output_type": "stream",
     "text": [
      " 99%|█████████▉| 99/100 [06:09<00:04,  4.44s/it]"
     ]
    },
    {
     "name": "stdout",
     "output_type": "stream",
     "text": [
      "Best Dist:  0.22449563800430777\n",
      "Average Dist:  0.5520674808353158\n",
      "Best Adj Error:  32.0\n",
      "Average Adj Dist Error:  40.7\n",
      "extreme\n"
     ]
    },
    {
     "name": "stderr",
     "output_type": "stream",
     "text": [
      "100%|██████████| 100/100 [06:13<00:00,  3.74s/it]\n"
     ]
    },
    {
     "name": "stdout",
     "output_type": "stream",
     "text": [
      "No fit individual found within iteration limit\n"
     ]
    },
    {
     "name": "stderr",
     "output_type": "stream",
     "text": [
      "/Users/conallcampbell/Documents/Conall Campbell/Queens University Belfast/Machine Learning for Quantum Networking PhD/PhD/Chapters/6. Quantum Walks/Code/Genetic_Class.py:26: RuntimeWarning: divide by zero encountered in scalar divide\n",
      "  total_inverse_distance = 1/(self.distances[m]) + 1/(self.distances[(m + 1) % len(self.population)])\n",
      "/Users/conallcampbell/Documents/Conall Campbell/Queens University Belfast/Machine Learning for Quantum Networking PhD/PhD/Chapters/6. Quantum Walks/Code/Genetic_Class.py:27: RuntimeWarning: invalid value encountered in scalar multiply\n",
      "  mating_probability1 = 1 / (total_inverse_distance * self.distances[m])\n",
      "  0%|          | 0/100 [00:01<?, ?it/s]"
     ]
    },
    {
     "name": "stdout",
     "output_type": "stream",
     "text": [
      "Best Dist:  0.0\n",
      "Average Dist:  0.5212568606803027\n",
      "Best Adj Error:  14.0\n",
      "Average Adj Dist Error:  26.29\n",
      "fit individual found\n"
     ]
    },
    {
     "name": "stderr",
     "output_type": "stream",
     "text": [
      "\n",
      "  0%|          | 0/100 [00:01<?, ?it/s]"
     ]
    },
    {
     "name": "stdout",
     "output_type": "stream",
     "text": [
      "Best Dist:  0.0\n",
      "Average Dist:  0.6691022850231153\n",
      "Best Adj Error:  6.0\n",
      "Average Adj Dist Error:  30.56\n",
      "fit individual found\n"
     ]
    },
    {
     "name": "stderr",
     "output_type": "stream",
     "text": [
      "\n",
      "  0%|          | 0/100 [00:00<?, ?it/s]"
     ]
    },
    {
     "name": "stdout",
     "output_type": "stream",
     "text": [
      "Best Dist:  0.46044104039158595\n",
      "Average Dist:  0.5754099747782365\n",
      "Best Adj Error:  30.0\n",
      "Average Adj Dist Error:  37.96\n"
     ]
    },
    {
     "name": "stderr",
     "output_type": "stream",
     "text": [
      "  1%|          | 1/100 [00:02<04:53,  2.97s/it]"
     ]
    },
    {
     "name": "stdout",
     "output_type": "stream",
     "text": [
      "Best Dist:  0.454125244378997\n",
      "Average Dist:  0.5394301660408857\n",
      "Best Adj Error:  32.0\n",
      "Average Adj Dist Error:  36.75\n"
     ]
    },
    {
     "name": "stderr",
     "output_type": "stream",
     "text": [
      "  2%|▏         | 2/100 [00:05<04:36,  2.82s/it]"
     ]
    },
    {
     "name": "stdout",
     "output_type": "stream",
     "text": [
      "Best Dist:  0.41522833648035257\n",
      "Average Dist:  0.5256412756451324\n",
      "Best Adj Error:  36.0\n",
      "Average Adj Dist Error:  36.6\n"
     ]
    },
    {
     "name": "stderr",
     "output_type": "stream",
     "text": [
      "  3%|▎         | 3/100 [00:08<04:28,  2.77s/it]"
     ]
    },
    {
     "name": "stdout",
     "output_type": "stream",
     "text": [
      "Best Dist:  0.3945656031241523\n",
      "Average Dist:  0.5108683174119384\n",
      "Best Adj Error:  38.0\n",
      "Average Adj Dist Error:  35.28\n"
     ]
    },
    {
     "name": "stderr",
     "output_type": "stream",
     "text": [
      "  4%|▍         | 4/100 [00:11<04:30,  2.81s/it]"
     ]
    },
    {
     "name": "stdout",
     "output_type": "stream",
     "text": [
      "Best Dist:  0.3157960670984266\n",
      "Average Dist:  0.4957917047022061\n",
      "Best Adj Error:  34.0\n",
      "Average Adj Dist Error:  35.04\n"
     ]
    },
    {
     "name": "stderr",
     "output_type": "stream",
     "text": [
      "  5%|▌         | 5/100 [00:14<04:26,  2.80s/it]"
     ]
    },
    {
     "name": "stdout",
     "output_type": "stream",
     "text": [
      "Best Dist:  0.3157960670984266\n",
      "Average Dist:  0.48157570736233457\n",
      "Best Adj Error:  34.0\n",
      "Average Adj Dist Error:  33.66\n"
     ]
    },
    {
     "name": "stderr",
     "output_type": "stream",
     "text": [
      "  6%|▌         | 6/100 [00:16<04:20,  2.78s/it]"
     ]
    },
    {
     "name": "stdout",
     "output_type": "stream",
     "text": [
      "Best Dist:  0.3157960670984266\n",
      "Average Dist:  0.46435806256808104\n",
      "Best Adj Error:  34.0\n",
      "Average Adj Dist Error:  33.07\n"
     ]
    },
    {
     "name": "stderr",
     "output_type": "stream",
     "text": [
      "  7%|▋         | 7/100 [00:19<04:16,  2.76s/it]"
     ]
    },
    {
     "name": "stdout",
     "output_type": "stream",
     "text": [
      "extreme\n",
      "Best Dist:  0.3157960670984266\n",
      "Average Dist:  0.47172301030743435\n",
      "Best Adj Error:  34.0\n",
      "Average Adj Dist Error:  33.17\n"
     ]
    },
    {
     "name": "stderr",
     "output_type": "stream",
     "text": [
      "  8%|▊         | 8/100 [00:22<04:10,  2.72s/it]"
     ]
    },
    {
     "name": "stdout",
     "output_type": "stream",
     "text": [
      "extreme\n",
      "Best Dist:  0.3157960670984266\n",
      "Average Dist:  0.45329189886490906\n",
      "Best Adj Error:  34.0\n",
      "Average Adj Dist Error:  32.73\n"
     ]
    },
    {
     "name": "stderr",
     "output_type": "stream",
     "text": [
      "  9%|▉         | 9/100 [00:24<04:06,  2.71s/it]"
     ]
    },
    {
     "name": "stdout",
     "output_type": "stream",
     "text": [
      "extreme\n",
      "Best Dist:  0.31005884367591857\n",
      "Average Dist:  0.43249181374658663\n",
      "Best Adj Error:  22.0\n",
      "Average Adj Dist Error:  32.05\n"
     ]
    },
    {
     "name": "stderr",
     "output_type": "stream",
     "text": [
      " 10%|█         | 10/100 [00:27<04:02,  2.70s/it]"
     ]
    },
    {
     "name": "stdout",
     "output_type": "stream",
     "text": [
      "extreme\n",
      "Best Dist:  0.3020303941002917\n",
      "Average Dist:  0.41874203326747783\n",
      "Best Adj Error:  24.0\n",
      "Average Adj Dist Error:  30.37\n"
     ]
    },
    {
     "name": "stderr",
     "output_type": "stream",
     "text": [
      " 11%|█         | 11/100 [00:30<04:01,  2.71s/it]"
     ]
    },
    {
     "name": "stdout",
     "output_type": "stream",
     "text": [
      "extreme\n",
      "Best Dist:  0.2999405665442333\n",
      "Average Dist:  0.40076530179033776\n",
      "Best Adj Error:  24.0\n",
      "Average Adj Dist Error:  29.93\n"
     ]
    },
    {
     "name": "stderr",
     "output_type": "stream",
     "text": [
      " 12%|█▏        | 12/100 [00:32<03:57,  2.69s/it]"
     ]
    },
    {
     "name": "stdout",
     "output_type": "stream",
     "text": [
      "extreme\n",
      "Best Dist:  0.2999405665442333\n",
      "Average Dist:  0.3922701351884124\n",
      "Best Adj Error:  24.0\n",
      "Average Adj Dist Error:  29.83\n"
     ]
    },
    {
     "name": "stderr",
     "output_type": "stream",
     "text": [
      " 13%|█▎        | 13/100 [00:35<03:55,  2.71s/it]"
     ]
    },
    {
     "name": "stdout",
     "output_type": "stream",
     "text": [
      "extreme\n",
      "Best Dist:  0.2906779987397333\n",
      "Average Dist:  0.38409390804796817\n",
      "Best Adj Error:  32.0\n",
      "Average Adj Dist Error:  30.45\n"
     ]
    },
    {
     "name": "stderr",
     "output_type": "stream",
     "text": [
      " 14%|█▍        | 14/100 [00:38<03:52,  2.71s/it]"
     ]
    },
    {
     "name": "stdout",
     "output_type": "stream",
     "text": [
      "extreme\n",
      "Best Dist:  0.2627576581059075\n",
      "Average Dist:  0.36955029263728284\n",
      "Best Adj Error:  32.0\n",
      "Average Adj Dist Error:  30.29\n"
     ]
    },
    {
     "name": "stderr",
     "output_type": "stream",
     "text": [
      " 15%|█▌        | 15/100 [00:41<03:51,  2.73s/it]"
     ]
    },
    {
     "name": "stdout",
     "output_type": "stream",
     "text": [
      "extreme\n",
      "Best Dist:  0.2627576581059075\n",
      "Average Dist:  0.37656417953574606\n",
      "Best Adj Error:  32.0\n",
      "Average Adj Dist Error:  31.37\n"
     ]
    },
    {
     "name": "stderr",
     "output_type": "stream",
     "text": [
      " 16%|█▌        | 16/100 [00:43<03:50,  2.75s/it]"
     ]
    },
    {
     "name": "stdout",
     "output_type": "stream",
     "text": [
      "extreme\n",
      "Best Dist:  0.2627576581059075\n",
      "Average Dist:  0.3529380207896587\n",
      "Best Adj Error:  32.0\n",
      "Average Adj Dist Error:  30.92\n"
     ]
    },
    {
     "name": "stderr",
     "output_type": "stream",
     "text": [
      " 17%|█▋        | 17/100 [00:46<03:47,  2.75s/it]"
     ]
    },
    {
     "name": "stdout",
     "output_type": "stream",
     "text": [
      "extreme\n",
      "Best Dist:  0.2627576581059075\n",
      "Average Dist:  0.3490142817266769\n",
      "Best Adj Error:  32.0\n",
      "Average Adj Dist Error:  31.4\n"
     ]
    },
    {
     "name": "stderr",
     "output_type": "stream",
     "text": [
      " 18%|█▊        | 18/100 [00:49<03:42,  2.72s/it]"
     ]
    },
    {
     "name": "stdout",
     "output_type": "stream",
     "text": [
      "extreme\n",
      "Best Dist:  0.2627576581059075\n",
      "Average Dist:  0.3698119506957653\n",
      "Best Adj Error:  32.0\n",
      "Average Adj Dist Error:  30.46\n"
     ]
    },
    {
     "name": "stderr",
     "output_type": "stream",
     "text": [
      " 19%|█▉        | 19/100 [00:51<03:38,  2.70s/it]"
     ]
    },
    {
     "name": "stdout",
     "output_type": "stream",
     "text": [
      "extreme\n",
      "Best Dist:  0.25880296929911023\n",
      "Average Dist:  0.34488306137577973\n",
      "Best Adj Error:  28.0\n",
      "Average Adj Dist Error:  29.79\n"
     ]
    },
    {
     "name": "stderr",
     "output_type": "stream",
     "text": [
      " 20%|██        | 20/100 [00:54<03:38,  2.73s/it]"
     ]
    },
    {
     "name": "stdout",
     "output_type": "stream",
     "text": [
      "extreme\n",
      "Best Dist:  0.25880296929911023\n",
      "Average Dist:  0.3695048724428711\n",
      "Best Adj Error:  28.0\n",
      "Average Adj Dist Error:  28.89\n"
     ]
    },
    {
     "name": "stderr",
     "output_type": "stream",
     "text": [
      " 21%|██        | 21/100 [00:57<03:34,  2.72s/it]"
     ]
    },
    {
     "name": "stdout",
     "output_type": "stream",
     "text": [
      "extreme\n",
      "Best Dist:  0.25880296929911023\n",
      "Average Dist:  0.34233250194291\n",
      "Best Adj Error:  28.0\n",
      "Average Adj Dist Error:  27.92\n"
     ]
    },
    {
     "name": "stderr",
     "output_type": "stream",
     "text": [
      " 22%|██▏       | 22/100 [01:00<03:29,  2.69s/it]"
     ]
    },
    {
     "name": "stdout",
     "output_type": "stream",
     "text": [
      "extreme\n",
      "Best Dist:  0.25880296929911023\n",
      "Average Dist:  0.3221701419443658\n",
      "Best Adj Error:  28.0\n",
      "Average Adj Dist Error:  27.23\n"
     ]
    },
    {
     "name": "stderr",
     "output_type": "stream",
     "text": [
      " 23%|██▎       | 23/100 [01:02<03:27,  2.70s/it]"
     ]
    },
    {
     "name": "stdout",
     "output_type": "stream",
     "text": [
      "extreme\n",
      "Best Dist:  0.23825815413146836\n",
      "Average Dist:  0.31238088491827803\n",
      "Best Adj Error:  20.0\n",
      "Average Adj Dist Error:  25.29\n"
     ]
    },
    {
     "name": "stderr",
     "output_type": "stream",
     "text": [
      " 24%|██▍       | 24/100 [01:05<03:24,  2.69s/it]"
     ]
    },
    {
     "name": "stdout",
     "output_type": "stream",
     "text": [
      "extreme\n",
      "Best Dist:  0.23825815413146836\n",
      "Average Dist:  0.3274588481007175\n",
      "Best Adj Error:  20.0\n",
      "Average Adj Dist Error:  24.46\n"
     ]
    },
    {
     "name": "stderr",
     "output_type": "stream",
     "text": [
      " 25%|██▌       | 25/100 [01:08<03:21,  2.69s/it]"
     ]
    },
    {
     "name": "stdout",
     "output_type": "stream",
     "text": [
      "extreme\n",
      "Best Dist:  0.23825815413146836\n",
      "Average Dist:  0.3314212181198456\n",
      "Best Adj Error:  20.0\n",
      "Average Adj Dist Error:  23.82\n"
     ]
    },
    {
     "name": "stderr",
     "output_type": "stream",
     "text": [
      " 26%|██▌       | 26/100 [01:10<03:20,  2.71s/it]"
     ]
    },
    {
     "name": "stdout",
     "output_type": "stream",
     "text": [
      "extreme\n",
      "Best Dist:  0.23825815413146836\n",
      "Average Dist:  0.3187295600483482\n",
      "Best Adj Error:  20.0\n",
      "Average Adj Dist Error:  23.7\n"
     ]
    },
    {
     "name": "stderr",
     "output_type": "stream",
     "text": [
      " 27%|██▋       | 27/100 [01:13<03:16,  2.69s/it]"
     ]
    },
    {
     "name": "stdout",
     "output_type": "stream",
     "text": [
      "extreme\n",
      "Best Dist:  0.23825815413146836\n",
      "Average Dist:  0.3022273846622488\n",
      "Best Adj Error:  20.0\n",
      "Average Adj Dist Error:  23.87\n"
     ]
    },
    {
     "name": "stderr",
     "output_type": "stream",
     "text": [
      " 28%|██▊       | 28/100 [01:16<03:20,  2.78s/it]"
     ]
    },
    {
     "name": "stdout",
     "output_type": "stream",
     "text": [
      "extreme\n",
      "Best Dist:  0.18727672178378746\n",
      "Average Dist:  0.27817159311961104\n",
      "Best Adj Error:  24.0\n",
      "Average Adj Dist Error:  23.72\n"
     ]
    },
    {
     "name": "stderr",
     "output_type": "stream",
     "text": [
      " 29%|██▉       | 29/100 [01:19<03:15,  2.76s/it]"
     ]
    },
    {
     "name": "stdout",
     "output_type": "stream",
     "text": [
      "extreme\n",
      "Best Dist:  0.18727672178378746\n",
      "Average Dist:  0.3401148478420555\n",
      "Best Adj Error:  24.0\n",
      "Average Adj Dist Error:  23.55\n"
     ]
    },
    {
     "name": "stderr",
     "output_type": "stream",
     "text": [
      " 30%|███       | 30/100 [01:21<03:09,  2.71s/it]"
     ]
    },
    {
     "name": "stdout",
     "output_type": "stream",
     "text": [
      "extreme\n",
      "Best Dist:  0.18727672178378746\n",
      "Average Dist:  0.30748237191966454\n",
      "Best Adj Error:  24.0\n",
      "Average Adj Dist Error:  23.3\n"
     ]
    },
    {
     "name": "stderr",
     "output_type": "stream",
     "text": [
      " 31%|███       | 31/100 [01:24<03:06,  2.70s/it]"
     ]
    },
    {
     "name": "stdout",
     "output_type": "stream",
     "text": [
      "extreme\n",
      "Best Dist:  0.18727672178378746\n",
      "Average Dist:  0.27949862184177987\n",
      "Best Adj Error:  24.0\n",
      "Average Adj Dist Error:  22.05\n"
     ]
    },
    {
     "name": "stderr",
     "output_type": "stream",
     "text": [
      " 32%|███▏      | 32/100 [01:27<03:03,  2.69s/it]"
     ]
    },
    {
     "name": "stdout",
     "output_type": "stream",
     "text": [
      "extreme\n",
      "Best Dist:  0.1678497450841581\n",
      "Average Dist:  0.2878647605173334\n",
      "Best Adj Error:  26.0\n",
      "Average Adj Dist Error:  21.8\n"
     ]
    },
    {
     "name": "stderr",
     "output_type": "stream",
     "text": [
      " 33%|███▎      | 33/100 [01:29<03:01,  2.71s/it]"
     ]
    },
    {
     "name": "stdout",
     "output_type": "stream",
     "text": [
      "extreme\n",
      "Best Dist:  0.1678497450841581\n",
      "Average Dist:  0.274644240253023\n",
      "Best Adj Error:  26.0\n",
      "Average Adj Dist Error:  21.73\n"
     ]
    },
    {
     "name": "stderr",
     "output_type": "stream",
     "text": [
      " 34%|███▍      | 34/100 [01:32<03:00,  2.73s/it]"
     ]
    },
    {
     "name": "stdout",
     "output_type": "stream",
     "text": [
      "extreme\n",
      "Best Dist:  0.1678497450841581\n",
      "Average Dist:  0.26784514091929673\n",
      "Best Adj Error:  26.0\n",
      "Average Adj Dist Error:  21.53\n"
     ]
    },
    {
     "name": "stderr",
     "output_type": "stream",
     "text": [
      " 35%|███▌      | 35/100 [01:35<02:56,  2.72s/it]"
     ]
    },
    {
     "name": "stdout",
     "output_type": "stream",
     "text": [
      "extreme\n",
      "Best Dist:  0.1678497450841581\n",
      "Average Dist:  0.23064851473967407\n",
      "Best Adj Error:  26.0\n",
      "Average Adj Dist Error:  20.93\n"
     ]
    },
    {
     "name": "stderr",
     "output_type": "stream",
     "text": [
      " 36%|███▌      | 36/100 [01:37<02:50,  2.66s/it]"
     ]
    },
    {
     "name": "stdout",
     "output_type": "stream",
     "text": [
      "extreme\n",
      "Best Dist:  0.1678497450841581\n",
      "Average Dist:  0.23637442911586384\n",
      "Best Adj Error:  26.0\n",
      "Average Adj Dist Error:  21.85\n"
     ]
    },
    {
     "name": "stderr",
     "output_type": "stream",
     "text": [
      " 37%|███▋      | 37/100 [01:40<02:50,  2.71s/it]"
     ]
    },
    {
     "name": "stdout",
     "output_type": "stream",
     "text": [
      "extreme\n",
      "Best Dist:  0.1678497450841581\n",
      "Average Dist:  0.26999610655423334\n",
      "Best Adj Error:  26.0\n",
      "Average Adj Dist Error:  23.59\n"
     ]
    },
    {
     "name": "stderr",
     "output_type": "stream",
     "text": [
      " 38%|███▊      | 38/100 [01:43<02:48,  2.72s/it]"
     ]
    },
    {
     "name": "stdout",
     "output_type": "stream",
     "text": [
      "extreme\n",
      "Best Dist:  0.1678497450841581\n",
      "Average Dist:  0.21215872474910874\n",
      "Best Adj Error:  26.0\n",
      "Average Adj Dist Error:  23.78\n"
     ]
    },
    {
     "name": "stderr",
     "output_type": "stream",
     "text": [
      " 39%|███▉      | 39/100 [01:46<02:45,  2.71s/it]"
     ]
    },
    {
     "name": "stdout",
     "output_type": "stream",
     "text": [
      "extreme\n",
      "Best Dist:  0.1678497450841581\n",
      "Average Dist:  0.22521109220715074\n",
      "Best Adj Error:  26.0\n",
      "Average Adj Dist Error:  24.35\n"
     ]
    },
    {
     "name": "stderr",
     "output_type": "stream",
     "text": [
      " 40%|████      | 40/100 [01:48<02:44,  2.74s/it]"
     ]
    },
    {
     "name": "stdout",
     "output_type": "stream",
     "text": [
      "extreme\n",
      "Best Dist:  0.1678497450841581\n",
      "Average Dist:  0.22883932589798114\n",
      "Best Adj Error:  26.0\n",
      "Average Adj Dist Error:  24.38\n"
     ]
    },
    {
     "name": "stderr",
     "output_type": "stream",
     "text": [
      " 41%|████      | 41/100 [01:51<02:39,  2.71s/it]"
     ]
    },
    {
     "name": "stdout",
     "output_type": "stream",
     "text": [
      "extreme\n",
      "Best Dist:  0.1678497450841581\n",
      "Average Dist:  0.281181837190064\n",
      "Best Adj Error:  26.0\n",
      "Average Adj Dist Error:  25.15\n"
     ]
    },
    {
     "name": "stderr",
     "output_type": "stream",
     "text": [
      " 42%|████▏     | 42/100 [01:54<02:36,  2.69s/it]"
     ]
    },
    {
     "name": "stdout",
     "output_type": "stream",
     "text": [
      "extreme\n",
      "Best Dist:  0.1678497450841581\n",
      "Average Dist:  0.2554732638995195\n",
      "Best Adj Error:  26.0\n",
      "Average Adj Dist Error:  24.95\n"
     ]
    },
    {
     "name": "stderr",
     "output_type": "stream",
     "text": [
      " 43%|████▎     | 43/100 [01:56<02:32,  2.68s/it]"
     ]
    },
    {
     "name": "stdout",
     "output_type": "stream",
     "text": [
      "extreme\n",
      "Best Dist:  0.1678497450841581\n",
      "Average Dist:  0.20353887178884847\n",
      "Best Adj Error:  26.0\n",
      "Average Adj Dist Error:  24.31\n"
     ]
    },
    {
     "name": "stderr",
     "output_type": "stream",
     "text": [
      " 44%|████▍     | 44/100 [01:59<02:30,  2.69s/it]"
     ]
    },
    {
     "name": "stdout",
     "output_type": "stream",
     "text": [
      "extreme\n",
      "Best Dist:  0.1678497450841581\n",
      "Average Dist:  0.19162082923189763\n",
      "Best Adj Error:  26.0\n",
      "Average Adj Dist Error:  24.32\n"
     ]
    },
    {
     "name": "stderr",
     "output_type": "stream",
     "text": [
      " 45%|████▌     | 45/100 [02:02<02:30,  2.74s/it]"
     ]
    },
    {
     "name": "stdout",
     "output_type": "stream",
     "text": [
      "extreme\n",
      "Best Dist:  0.1678497450841581\n",
      "Average Dist:  0.1898679196648039\n",
      "Best Adj Error:  26.0\n",
      "Average Adj Dist Error:  24.69\n"
     ]
    },
    {
     "name": "stderr",
     "output_type": "stream",
     "text": [
      " 46%|████▌     | 46/100 [02:05<02:26,  2.71s/it]"
     ]
    },
    {
     "name": "stdout",
     "output_type": "stream",
     "text": [
      "extreme\n",
      "Best Dist:  0.1678497450841581\n",
      "Average Dist:  0.1833083785874036\n",
      "Best Adj Error:  26.0\n",
      "Average Adj Dist Error:  25.21\n"
     ]
    },
    {
     "name": "stderr",
     "output_type": "stream",
     "text": [
      " 47%|████▋     | 47/100 [02:07<02:23,  2.70s/it]"
     ]
    },
    {
     "name": "stdout",
     "output_type": "stream",
     "text": [
      "extreme\n",
      "Best Dist:  0.1678497450841581\n",
      "Average Dist:  0.2681088666807277\n",
      "Best Adj Error:  26.0\n",
      "Average Adj Dist Error:  26.59\n"
     ]
    },
    {
     "name": "stderr",
     "output_type": "stream",
     "text": [
      " 48%|████▊     | 48/100 [02:10<02:22,  2.73s/it]"
     ]
    },
    {
     "name": "stdout",
     "output_type": "stream",
     "text": [
      "extreme\n",
      "Best Dist:  0.1678497450841581\n",
      "Average Dist:  0.1775838681460418\n",
      "Best Adj Error:  26.0\n",
      "Average Adj Dist Error:  26.27\n"
     ]
    },
    {
     "name": "stderr",
     "output_type": "stream",
     "text": [
      " 49%|████▉     | 49/100 [02:13<02:18,  2.71s/it]"
     ]
    },
    {
     "name": "stdout",
     "output_type": "stream",
     "text": [
      "extreme\n",
      "Best Dist:  0.1678497450841581\n",
      "Average Dist:  0.2026800959747103\n",
      "Best Adj Error:  26.0\n",
      "Average Adj Dist Error:  26.28\n"
     ]
    },
    {
     "name": "stderr",
     "output_type": "stream",
     "text": [
      " 50%|█████     | 50/100 [02:15<02:14,  2.69s/it]"
     ]
    },
    {
     "name": "stdout",
     "output_type": "stream",
     "text": [
      "extreme\n",
      "Best Dist:  0.1678497450841581\n",
      "Average Dist:  0.19091773638432677\n",
      "Best Adj Error:  26.0\n",
      "Average Adj Dist Error:  26.15\n"
     ]
    },
    {
     "name": "stderr",
     "output_type": "stream",
     "text": [
      " 51%|█████     | 51/100 [02:18<02:11,  2.67s/it]"
     ]
    },
    {
     "name": "stdout",
     "output_type": "stream",
     "text": [
      "extreme\n",
      "Best Dist:  0.1678497450841581\n",
      "Average Dist:  0.24214171727997688\n",
      "Best Adj Error:  26.0\n",
      "Average Adj Dist Error:  26.62\n",
      "extreme\n"
     ]
    },
    {
     "name": "stderr",
     "output_type": "stream",
     "text": [
      " 52%|█████▏    | 52/100 [02:22<02:31,  3.15s/it]"
     ]
    },
    {
     "name": "stdout",
     "output_type": "stream",
     "text": [
      "Best Dist:  0.1678497450841581\n",
      "Average Dist:  0.5261262868792271\n",
      "Best Adj Error:  26.0\n",
      "Average Adj Dist Error:  39.08\n",
      "extreme\n"
     ]
    },
    {
     "name": "stderr",
     "output_type": "stream",
     "text": [
      " 53%|█████▎    | 53/100 [02:27<02:46,  3.53s/it]"
     ]
    },
    {
     "name": "stdout",
     "output_type": "stream",
     "text": [
      "Best Dist:  0.1678497450841581\n",
      "Average Dist:  0.5386723649529128\n",
      "Best Adj Error:  26.0\n",
      "Average Adj Dist Error:  39.55\n",
      "extreme\n"
     ]
    },
    {
     "name": "stderr",
     "output_type": "stream",
     "text": [
      " 54%|█████▍    | 54/100 [02:31<02:55,  3.82s/it]"
     ]
    },
    {
     "name": "stdout",
     "output_type": "stream",
     "text": [
      "new injection\n",
      "Best Dist:  0.1678497450841581\n",
      "Average Dist:  0.5452052221499241\n",
      "Best Adj Error:  26.0\n",
      "Average Adj Dist Error:  39.82\n",
      "extreme\n"
     ]
    },
    {
     "name": "stderr",
     "output_type": "stream",
     "text": [
      " 55%|█████▌    | 55/100 [02:36<02:59,  3.99s/it]"
     ]
    },
    {
     "name": "stdout",
     "output_type": "stream",
     "text": [
      "Best Dist:  0.1678497450841581\n",
      "Average Dist:  0.5242843680310928\n",
      "Best Adj Error:  26.0\n",
      "Average Adj Dist Error:  38.21\n",
      "extreme\n"
     ]
    },
    {
     "name": "stderr",
     "output_type": "stream",
     "text": [
      " 56%|█████▌    | 56/100 [02:40<03:00,  4.09s/it]"
     ]
    },
    {
     "name": "stdout",
     "output_type": "stream",
     "text": [
      "Best Dist:  0.1678497450841581\n",
      "Average Dist:  0.5283126107552383\n",
      "Best Adj Error:  26.0\n",
      "Average Adj Dist Error:  38.42\n",
      "extreme\n"
     ]
    },
    {
     "name": "stderr",
     "output_type": "stream",
     "text": [
      " 57%|█████▋    | 57/100 [02:44<02:58,  4.14s/it]"
     ]
    },
    {
     "name": "stdout",
     "output_type": "stream",
     "text": [
      "Best Dist:  0.1678497450841581\n",
      "Average Dist:  0.5346675791459231\n",
      "Best Adj Error:  26.0\n",
      "Average Adj Dist Error:  38.35\n",
      "extreme\n"
     ]
    },
    {
     "name": "stderr",
     "output_type": "stream",
     "text": [
      " 58%|█████▊    | 58/100 [02:49<02:56,  4.20s/it]"
     ]
    },
    {
     "name": "stdout",
     "output_type": "stream",
     "text": [
      "Best Dist:  0.1678497450841581\n",
      "Average Dist:  0.5272002702249362\n",
      "Best Adj Error:  26.0\n",
      "Average Adj Dist Error:  37.62\n",
      "extreme\n"
     ]
    },
    {
     "name": "stderr",
     "output_type": "stream",
     "text": [
      " 59%|█████▉    | 59/100 [02:53<02:52,  4.21s/it]"
     ]
    },
    {
     "name": "stdout",
     "output_type": "stream",
     "text": [
      "new injection\n",
      "Best Dist:  0.1678497450841581\n",
      "Average Dist:  0.5458361342010376\n",
      "Best Adj Error:  26.0\n",
      "Average Adj Dist Error:  39.26\n",
      "extreme\n"
     ]
    },
    {
     "name": "stderr",
     "output_type": "stream",
     "text": [
      " 60%|██████    | 60/100 [02:57<02:50,  4.25s/it]"
     ]
    },
    {
     "name": "stdout",
     "output_type": "stream",
     "text": [
      "Best Dist:  0.1678497450841581\n",
      "Average Dist:  0.528460108699734\n",
      "Best Adj Error:  26.0\n",
      "Average Adj Dist Error:  38.49\n",
      "extreme\n"
     ]
    },
    {
     "name": "stderr",
     "output_type": "stream",
     "text": [
      " 61%|██████    | 61/100 [03:02<02:46,  4.28s/it]"
     ]
    },
    {
     "name": "stdout",
     "output_type": "stream",
     "text": [
      "Best Dist:  0.1678497450841581\n",
      "Average Dist:  0.5277158216627912\n",
      "Best Adj Error:  26.0\n",
      "Average Adj Dist Error:  38.77\n",
      "extreme\n"
     ]
    },
    {
     "name": "stderr",
     "output_type": "stream",
     "text": [
      " 62%|██████▏   | 62/100 [03:06<02:45,  4.37s/it]"
     ]
    },
    {
     "name": "stdout",
     "output_type": "stream",
     "text": [
      "Best Dist:  0.1678497450841581\n",
      "Average Dist:  0.5419909284588376\n",
      "Best Adj Error:  26.0\n",
      "Average Adj Dist Error:  38.84\n",
      "extreme\n"
     ]
    },
    {
     "name": "stderr",
     "output_type": "stream",
     "text": [
      " 63%|██████▎   | 63/100 [03:11<02:42,  4.39s/it]"
     ]
    },
    {
     "name": "stdout",
     "output_type": "stream",
     "text": [
      "Best Dist:  0.1678497450841581\n",
      "Average Dist:  0.5340523373011967\n",
      "Best Adj Error:  26.0\n",
      "Average Adj Dist Error:  39.0\n",
      "extreme\n"
     ]
    },
    {
     "name": "stderr",
     "output_type": "stream",
     "text": [
      " 64%|██████▍   | 64/100 [03:15<02:36,  4.35s/it]"
     ]
    },
    {
     "name": "stdout",
     "output_type": "stream",
     "text": [
      "new injection\n",
      "Best Dist:  0.1678497450841581\n",
      "Average Dist:  0.5412690255052462\n",
      "Best Adj Error:  26.0\n",
      "Average Adj Dist Error:  39.64\n",
      "extreme\n"
     ]
    },
    {
     "name": "stderr",
     "output_type": "stream",
     "text": [
      " 65%|██████▌   | 65/100 [03:19<02:33,  4.39s/it]"
     ]
    },
    {
     "name": "stdout",
     "output_type": "stream",
     "text": [
      "Best Dist:  0.1678497450841581\n",
      "Average Dist:  0.5191751907064053\n",
      "Best Adj Error:  26.0\n",
      "Average Adj Dist Error:  39.02\n",
      "extreme\n"
     ]
    },
    {
     "name": "stderr",
     "output_type": "stream",
     "text": [
      " 66%|██████▌   | 66/100 [03:24<02:28,  4.37s/it]"
     ]
    },
    {
     "name": "stdout",
     "output_type": "stream",
     "text": [
      "Best Dist:  0.1678497450841581\n",
      "Average Dist:  0.5333081864329414\n",
      "Best Adj Error:  26.0\n",
      "Average Adj Dist Error:  38.46\n",
      "extreme\n"
     ]
    },
    {
     "name": "stderr",
     "output_type": "stream",
     "text": [
      " 67%|██████▋   | 67/100 [03:28<02:24,  4.38s/it]"
     ]
    },
    {
     "name": "stdout",
     "output_type": "stream",
     "text": [
      "Best Dist:  0.1678497450841581\n",
      "Average Dist:  0.5278904850020556\n",
      "Best Adj Error:  26.0\n",
      "Average Adj Dist Error:  38.92\n",
      "extreme\n"
     ]
    },
    {
     "name": "stderr",
     "output_type": "stream",
     "text": [
      " 68%|██████▊   | 68/100 [03:32<02:19,  4.37s/it]"
     ]
    },
    {
     "name": "stdout",
     "output_type": "stream",
     "text": [
      "Best Dist:  0.1678497450841581\n",
      "Average Dist:  0.5368905705332543\n",
      "Best Adj Error:  26.0\n",
      "Average Adj Dist Error:  39.22\n",
      "extreme\n"
     ]
    },
    {
     "name": "stderr",
     "output_type": "stream",
     "text": [
      " 69%|██████▉   | 69/100 [03:37<02:17,  4.43s/it]"
     ]
    },
    {
     "name": "stdout",
     "output_type": "stream",
     "text": [
      "new injection\n",
      "Best Dist:  0.1678497450841581\n",
      "Average Dist:  0.5393486668287204\n",
      "Best Adj Error:  26.0\n",
      "Average Adj Dist Error:  39.08\n",
      "extreme\n"
     ]
    },
    {
     "name": "stderr",
     "output_type": "stream",
     "text": [
      " 70%|███████   | 70/100 [03:42<02:19,  4.65s/it]"
     ]
    },
    {
     "name": "stdout",
     "output_type": "stream",
     "text": [
      "Best Dist:  0.1678497450841581\n",
      "Average Dist:  0.5330793474042159\n",
      "Best Adj Error:  26.0\n",
      "Average Adj Dist Error:  38.36\n",
      "extreme\n"
     ]
    },
    {
     "name": "stderr",
     "output_type": "stream",
     "text": [
      " 71%|███████   | 71/100 [05:16<15:13, 31.51s/it]"
     ]
    },
    {
     "name": "stdout",
     "output_type": "stream",
     "text": [
      "Best Dist:  0.1678497450841581\n",
      "Average Dist:  0.5284642798956587\n",
      "Best Adj Error:  26.0\n",
      "Average Adj Dist Error:  39.12\n",
      "extreme\n"
     ]
    },
    {
     "name": "stderr",
     "output_type": "stream",
     "text": [
      " 72%|███████▏  | 72/100 [05:20<10:51, 23.27s/it]"
     ]
    },
    {
     "name": "stdout",
     "output_type": "stream",
     "text": [
      "Best Dist:  0.1678497450841581\n",
      "Average Dist:  0.528367149512041\n",
      "Best Adj Error:  26.0\n",
      "Average Adj Dist Error:  39.43\n",
      "extreme\n"
     ]
    },
    {
     "name": "stderr",
     "output_type": "stream",
     "text": [
      " 73%|███████▎  | 73/100 [05:24<07:51, 17.47s/it]"
     ]
    },
    {
     "name": "stdout",
     "output_type": "stream",
     "text": [
      "Best Dist:  0.1678497450841581\n",
      "Average Dist:  0.5306672326350909\n",
      "Best Adj Error:  26.0\n",
      "Average Adj Dist Error:  38.75\n",
      "extreme\n"
     ]
    },
    {
     "name": "stderr",
     "output_type": "stream",
     "text": [
      " 74%|███████▍  | 74/100 [05:28<05:49, 13.46s/it]"
     ]
    },
    {
     "name": "stdout",
     "output_type": "stream",
     "text": [
      "new injection\n",
      "Best Dist:  0.1678497450841581\n",
      "Average Dist:  0.5583638421720135\n",
      "Best Adj Error:  26.0\n",
      "Average Adj Dist Error:  39.91\n",
      "extreme\n"
     ]
    },
    {
     "name": "stderr",
     "output_type": "stream",
     "text": [
      " 75%|███████▌  | 75/100 [05:32<04:24, 10.58s/it]"
     ]
    },
    {
     "name": "stdout",
     "output_type": "stream",
     "text": [
      "Best Dist:  0.1678497450841581\n",
      "Average Dist:  0.5295642925591308\n",
      "Best Adj Error:  26.0\n",
      "Average Adj Dist Error:  38.07\n",
      "extreme\n"
     ]
    },
    {
     "name": "stderr",
     "output_type": "stream",
     "text": [
      " 76%|███████▌  | 76/100 [05:36<03:25,  8.55s/it]"
     ]
    },
    {
     "name": "stdout",
     "output_type": "stream",
     "text": [
      "Best Dist:  0.1678497450841581\n",
      "Average Dist:  0.5323306138193874\n",
      "Best Adj Error:  26.0\n",
      "Average Adj Dist Error:  38.83\n",
      "extreme\n"
     ]
    },
    {
     "name": "stderr",
     "output_type": "stream",
     "text": [
      " 77%|███████▋  | 77/100 [05:40<02:42,  7.07s/it]"
     ]
    },
    {
     "name": "stdout",
     "output_type": "stream",
     "text": [
      "Best Dist:  0.1678497450841581\n",
      "Average Dist:  0.5385889524154666\n",
      "Best Adj Error:  26.0\n",
      "Average Adj Dist Error:  38.8\n",
      "extreme\n"
     ]
    },
    {
     "name": "stderr",
     "output_type": "stream",
     "text": [
      " 78%|███████▊  | 78/100 [05:43<02:13,  6.09s/it]"
     ]
    },
    {
     "name": "stdout",
     "output_type": "stream",
     "text": [
      "Best Dist:  0.1678497450841581\n",
      "Average Dist:  0.5327948688168572\n",
      "Best Adj Error:  26.0\n",
      "Average Adj Dist Error:  38.87\n",
      "extreme\n"
     ]
    },
    {
     "name": "stderr",
     "output_type": "stream",
     "text": [
      " 79%|███████▉  | 79/100 [05:47<01:52,  5.36s/it]"
     ]
    },
    {
     "name": "stdout",
     "output_type": "stream",
     "text": [
      "new injection\n",
      "Best Dist:  0.1678497450841581\n",
      "Average Dist:  0.5482768487747458\n",
      "Best Adj Error:  26.0\n",
      "Average Adj Dist Error:  39.52\n",
      "extreme\n"
     ]
    },
    {
     "name": "stderr",
     "output_type": "stream",
     "text": [
      " 80%|████████  | 80/100 [05:51<01:37,  4.86s/it]"
     ]
    },
    {
     "name": "stdout",
     "output_type": "stream",
     "text": [
      "Best Dist:  0.1678497450841581\n",
      "Average Dist:  0.5298538025649476\n",
      "Best Adj Error:  26.0\n",
      "Average Adj Dist Error:  38.88\n",
      "extreme\n"
     ]
    },
    {
     "name": "stderr",
     "output_type": "stream",
     "text": [
      " 81%|████████  | 81/100 [05:54<01:24,  4.46s/it]"
     ]
    },
    {
     "name": "stdout",
     "output_type": "stream",
     "text": [
      "Best Dist:  0.1678497450841581\n",
      "Average Dist:  0.5325714090045709\n",
      "Best Adj Error:  26.0\n",
      "Average Adj Dist Error:  39.32\n",
      "extreme\n"
     ]
    },
    {
     "name": "stderr",
     "output_type": "stream",
     "text": [
      " 82%|████████▏ | 82/100 [05:58<01:16,  4.22s/it]"
     ]
    },
    {
     "name": "stdout",
     "output_type": "stream",
     "text": [
      "Best Dist:  0.1678497450841581\n",
      "Average Dist:  0.5396152855379478\n",
      "Best Adj Error:  26.0\n",
      "Average Adj Dist Error:  38.6\n",
      "extreme\n"
     ]
    },
    {
     "name": "stderr",
     "output_type": "stream",
     "text": [
      " 83%|████████▎ | 83/100 [06:02<01:10,  4.14s/it]"
     ]
    },
    {
     "name": "stdout",
     "output_type": "stream",
     "text": [
      "Best Dist:  0.1678497450841581\n",
      "Average Dist:  0.5398065338230178\n",
      "Best Adj Error:  26.0\n",
      "Average Adj Dist Error:  39.51\n",
      "extreme\n"
     ]
    },
    {
     "name": "stderr",
     "output_type": "stream",
     "text": [
      " 84%|████████▍ | 84/100 [06:06<01:04,  4.02s/it]"
     ]
    },
    {
     "name": "stdout",
     "output_type": "stream",
     "text": [
      "new injection\n",
      "Best Dist:  0.1678497450841581\n",
      "Average Dist:  0.5428739160677627\n",
      "Best Adj Error:  26.0\n",
      "Average Adj Dist Error:  39.87\n",
      "extreme\n"
     ]
    },
    {
     "name": "stderr",
     "output_type": "stream",
     "text": [
      " 85%|████████▌ | 85/100 [06:10<00:59,  3.99s/it]"
     ]
    },
    {
     "name": "stdout",
     "output_type": "stream",
     "text": [
      "Best Dist:  0.1678497450841581\n",
      "Average Dist:  0.5348459043403906\n",
      "Best Adj Error:  26.0\n",
      "Average Adj Dist Error:  38.96\n",
      "extreme\n"
     ]
    },
    {
     "name": "stderr",
     "output_type": "stream",
     "text": [
      " 86%|████████▌ | 86/100 [06:14<00:55,  3.98s/it]"
     ]
    },
    {
     "name": "stdout",
     "output_type": "stream",
     "text": [
      "Best Dist:  0.1678497450841581\n",
      "Average Dist:  0.5341948644151076\n",
      "Best Adj Error:  26.0\n",
      "Average Adj Dist Error:  38.51\n",
      "extreme\n"
     ]
    },
    {
     "name": "stderr",
     "output_type": "stream",
     "text": [
      " 87%|████████▋ | 87/100 [06:17<00:50,  3.89s/it]"
     ]
    },
    {
     "name": "stdout",
     "output_type": "stream",
     "text": [
      "Best Dist:  0.1678497450841581\n",
      "Average Dist:  0.5303637839331384\n",
      "Best Adj Error:  26.0\n",
      "Average Adj Dist Error:  39.25\n",
      "extreme\n"
     ]
    },
    {
     "name": "stderr",
     "output_type": "stream",
     "text": [
      " 88%|████████▊ | 88/100 [06:21<00:46,  3.85s/it]"
     ]
    },
    {
     "name": "stdout",
     "output_type": "stream",
     "text": [
      "Best Dist:  0.1678497450841581\n",
      "Average Dist:  0.5312637737263396\n",
      "Best Adj Error:  26.0\n",
      "Average Adj Dist Error:  38.62\n",
      "extreme\n"
     ]
    },
    {
     "name": "stderr",
     "output_type": "stream",
     "text": [
      " 89%|████████▉ | 89/100 [06:25<00:42,  3.83s/it]"
     ]
    },
    {
     "name": "stdout",
     "output_type": "stream",
     "text": [
      "new injection\n",
      "Best Dist:  0.1678497450841581\n",
      "Average Dist:  0.5529649236766028\n",
      "Best Adj Error:  26.0\n",
      "Average Adj Dist Error:  39.34\n",
      "extreme\n"
     ]
    },
    {
     "name": "stderr",
     "output_type": "stream",
     "text": [
      " 90%|█████████ | 90/100 [06:29<00:38,  3.83s/it]"
     ]
    },
    {
     "name": "stdout",
     "output_type": "stream",
     "text": [
      "Best Dist:  0.1678497450841581\n",
      "Average Dist:  0.534457964641512\n",
      "Best Adj Error:  26.0\n",
      "Average Adj Dist Error:  38.78\n",
      "extreme\n"
     ]
    },
    {
     "name": "stderr",
     "output_type": "stream",
     "text": [
      " 91%|█████████ | 91/100 [06:32<00:34,  3.83s/it]"
     ]
    },
    {
     "name": "stdout",
     "output_type": "stream",
     "text": [
      "Best Dist:  0.1678497450841581\n",
      "Average Dist:  0.5295340407152543\n",
      "Best Adj Error:  26.0\n",
      "Average Adj Dist Error:  38.7\n",
      "extreme\n"
     ]
    },
    {
     "name": "stderr",
     "output_type": "stream",
     "text": [
      " 92%|█████████▏| 92/100 [06:36<00:30,  3.83s/it]"
     ]
    },
    {
     "name": "stdout",
     "output_type": "stream",
     "text": [
      "Best Dist:  0.1678497450841581\n",
      "Average Dist:  0.5275573679982326\n",
      "Best Adj Error:  26.0\n",
      "Average Adj Dist Error:  38.75\n",
      "extreme\n"
     ]
    },
    {
     "name": "stderr",
     "output_type": "stream",
     "text": [
      " 93%|█████████▎| 93/100 [06:40<00:26,  3.84s/it]"
     ]
    },
    {
     "name": "stdout",
     "output_type": "stream",
     "text": [
      "Best Dist:  0.1678497450841581\n",
      "Average Dist:  0.5424730324380853\n",
      "Best Adj Error:  26.0\n",
      "Average Adj Dist Error:  39.81\n",
      "extreme\n"
     ]
    },
    {
     "name": "stderr",
     "output_type": "stream",
     "text": [
      " 94%|█████████▍| 94/100 [06:44<00:22,  3.82s/it]"
     ]
    },
    {
     "name": "stdout",
     "output_type": "stream",
     "text": [
      "new injection\n",
      "Best Dist:  0.1678497450841581\n",
      "Average Dist:  0.5426422541220696\n",
      "Best Adj Error:  26.0\n",
      "Average Adj Dist Error:  39.8\n",
      "extreme\n"
     ]
    },
    {
     "name": "stderr",
     "output_type": "stream",
     "text": [
      " 95%|█████████▌| 95/100 [06:48<00:19,  3.81s/it]"
     ]
    },
    {
     "name": "stdout",
     "output_type": "stream",
     "text": [
      "Best Dist:  0.1678497450841581\n",
      "Average Dist:  0.5328520971019836\n",
      "Best Adj Error:  26.0\n",
      "Average Adj Dist Error:  38.67\n",
      "extreme\n"
     ]
    },
    {
     "name": "stderr",
     "output_type": "stream",
     "text": [
      " 96%|█████████▌| 96/100 [06:51<00:15,  3.79s/it]"
     ]
    },
    {
     "name": "stdout",
     "output_type": "stream",
     "text": [
      "Best Dist:  0.1678497450841581\n",
      "Average Dist:  0.5366024782992797\n",
      "Best Adj Error:  26.0\n",
      "Average Adj Dist Error:  38.67\n",
      "extreme\n"
     ]
    },
    {
     "name": "stderr",
     "output_type": "stream",
     "text": [
      " 97%|█████████▋| 97/100 [06:55<00:11,  3.84s/it]"
     ]
    },
    {
     "name": "stdout",
     "output_type": "stream",
     "text": [
      "Best Dist:  0.1678497450841581\n",
      "Average Dist:  0.5383088665868196\n",
      "Best Adj Error:  26.0\n",
      "Average Adj Dist Error:  39.24\n",
      "extreme\n"
     ]
    },
    {
     "name": "stderr",
     "output_type": "stream",
     "text": [
      " 98%|█████████▊| 98/100 [06:59<00:07,  3.80s/it]"
     ]
    },
    {
     "name": "stdout",
     "output_type": "stream",
     "text": [
      "Best Dist:  0.1678497450841581\n",
      "Average Dist:  0.5351365154504062\n",
      "Best Adj Error:  26.0\n",
      "Average Adj Dist Error:  38.63\n",
      "extreme\n"
     ]
    },
    {
     "name": "stderr",
     "output_type": "stream",
     "text": [
      " 99%|█████████▉| 99/100 [07:03<00:03,  3.78s/it]"
     ]
    },
    {
     "name": "stdout",
     "output_type": "stream",
     "text": [
      "new injection\n",
      "Best Dist:  0.1678497450841581\n",
      "Average Dist:  0.5514107185453297\n",
      "Best Adj Error:  26.0\n",
      "Average Adj Dist Error:  39.73\n",
      "extreme\n"
     ]
    },
    {
     "name": "stderr",
     "output_type": "stream",
     "text": [
      "100%|██████████| 100/100 [07:07<00:00,  4.27s/it]\n"
     ]
    },
    {
     "name": "stdout",
     "output_type": "stream",
     "text": [
      "No fit individual found within iteration limit\n"
     ]
    },
    {
     "name": "stderr",
     "output_type": "stream",
     "text": [
      "  0%|          | 0/100 [00:00<?, ?it/s]"
     ]
    },
    {
     "name": "stdout",
     "output_type": "stream",
     "text": [
      "Best Dist:  0.443508125594384\n",
      "Average Dist:  0.5712047459938296\n",
      "Best Adj Error:  30.0\n",
      "Average Adj Dist Error:  38.19\n"
     ]
    },
    {
     "name": "stderr",
     "output_type": "stream",
     "text": [
      "  1%|          | 1/100 [00:02<04:24,  2.67s/it]"
     ]
    },
    {
     "name": "stdout",
     "output_type": "stream",
     "text": [
      "Best Dist:  0.3697629141355952\n",
      "Average Dist:  0.5341937615001564\n",
      "Best Adj Error:  28.0\n",
      "Average Adj Dist Error:  35.06\n"
     ]
    },
    {
     "name": "stderr",
     "output_type": "stream",
     "text": [
      "  2%|▏         | 2/100 [00:05<04:06,  2.51s/it]"
     ]
    },
    {
     "name": "stdout",
     "output_type": "stream",
     "text": [
      "Best Dist:  0.3697629141355952\n",
      "Average Dist:  0.5178140643782428\n",
      "Best Adj Error:  28.0\n",
      "Average Adj Dist Error:  33.97\n"
     ]
    },
    {
     "name": "stderr",
     "output_type": "stream",
     "text": [
      "  3%|▎         | 3/100 [00:07<04:00,  2.48s/it]"
     ]
    },
    {
     "name": "stdout",
     "output_type": "stream",
     "text": [
      "Best Dist:  0.3697629141355952\n",
      "Average Dist:  0.5057484363602575\n",
      "Best Adj Error:  28.0\n",
      "Average Adj Dist Error:  33.35\n"
     ]
    },
    {
     "name": "stderr",
     "output_type": "stream",
     "text": [
      "  4%|▍         | 4/100 [00:09<03:57,  2.48s/it]"
     ]
    },
    {
     "name": "stdout",
     "output_type": "stream",
     "text": [
      "Best Dist:  0.35227656025837817\n",
      "Average Dist:  0.4927794242931532\n",
      "Best Adj Error:  24.0\n",
      "Average Adj Dist Error:  32.82\n"
     ]
    },
    {
     "name": "stderr",
     "output_type": "stream",
     "text": [
      "  5%|▌         | 5/100 [00:12<03:53,  2.46s/it]"
     ]
    },
    {
     "name": "stdout",
     "output_type": "stream",
     "text": [
      "Best Dist:  0.35227656025837817\n",
      "Average Dist:  0.4813419590724843\n",
      "Best Adj Error:  24.0\n",
      "Average Adj Dist Error:  32.1\n"
     ]
    },
    {
     "name": "stderr",
     "output_type": "stream",
     "text": [
      "  6%|▌         | 6/100 [00:14<03:48,  2.43s/it]"
     ]
    },
    {
     "name": "stdout",
     "output_type": "stream",
     "text": [
      "Best Dist:  0.35227656025837817\n",
      "Average Dist:  0.4684132085664126\n",
      "Best Adj Error:  24.0\n",
      "Average Adj Dist Error:  31.05\n"
     ]
    },
    {
     "name": "stderr",
     "output_type": "stream",
     "text": [
      "  7%|▋         | 7/100 [00:17<03:43,  2.40s/it]"
     ]
    },
    {
     "name": "stdout",
     "output_type": "stream",
     "text": [
      "extreme\n",
      "Best Dist:  0.35227656025837817\n",
      "Average Dist:  0.45574046795044765\n",
      "Best Adj Error:  24.0\n",
      "Average Adj Dist Error:  29.91\n"
     ]
    },
    {
     "name": "stderr",
     "output_type": "stream",
     "text": [
      "  8%|▊         | 8/100 [00:19<03:42,  2.42s/it]"
     ]
    },
    {
     "name": "stdout",
     "output_type": "stream",
     "text": [
      "extreme\n",
      "Best Dist:  0.3250143930337648\n",
      "Average Dist:  0.445431708404761\n",
      "Best Adj Error:  26.0\n",
      "Average Adj Dist Error:  30.16\n"
     ]
    },
    {
     "name": "stderr",
     "output_type": "stream",
     "text": [
      "  9%|▉         | 9/100 [00:22<03:41,  2.43s/it]"
     ]
    },
    {
     "name": "stdout",
     "output_type": "stream",
     "text": [
      "extreme\n",
      "Best Dist:  0.31405890650803103\n",
      "Average Dist:  0.42724031453027705\n",
      "Best Adj Error:  24.0\n",
      "Average Adj Dist Error:  29.21\n"
     ]
    },
    {
     "name": "stderr",
     "output_type": "stream",
     "text": [
      " 10%|█         | 10/100 [00:24<03:38,  2.43s/it]"
     ]
    },
    {
     "name": "stdout",
     "output_type": "stream",
     "text": [
      "extreme\n",
      "Best Dist:  0.29613943583952135\n",
      "Average Dist:  0.39924359739924475\n",
      "Best Adj Error:  26.0\n",
      "Average Adj Dist Error:  28.53\n"
     ]
    },
    {
     "name": "stderr",
     "output_type": "stream",
     "text": [
      " 11%|█         | 11/100 [00:26<03:33,  2.40s/it]"
     ]
    },
    {
     "name": "stdout",
     "output_type": "stream",
     "text": [
      "extreme\n",
      "Best Dist:  0.29613943583952135\n",
      "Average Dist:  0.38382071923359673\n",
      "Best Adj Error:  26.0\n",
      "Average Adj Dist Error:  28.14\n"
     ]
    },
    {
     "name": "stderr",
     "output_type": "stream",
     "text": [
      " 12%|█▏        | 12/100 [00:29<03:33,  2.42s/it]"
     ]
    },
    {
     "name": "stdout",
     "output_type": "stream",
     "text": [
      "extreme\n",
      "Best Dist:  0.29613943583952135\n",
      "Average Dist:  0.3643613213748672\n",
      "Best Adj Error:  26.0\n",
      "Average Adj Dist Error:  27.96\n"
     ]
    },
    {
     "name": "stderr",
     "output_type": "stream",
     "text": [
      " 13%|█▎        | 13/100 [00:31<03:29,  2.41s/it]"
     ]
    },
    {
     "name": "stdout",
     "output_type": "stream",
     "text": [
      "extreme\n",
      "Best Dist:  0.28275131428612854\n",
      "Average Dist:  0.36691938302738786\n",
      "Best Adj Error:  22.0\n",
      "Average Adj Dist Error:  27.43\n"
     ]
    },
    {
     "name": "stderr",
     "output_type": "stream",
     "text": [
      " 14%|█▍        | 14/100 [00:34<03:25,  2.39s/it]"
     ]
    },
    {
     "name": "stdout",
     "output_type": "stream",
     "text": [
      "extreme\n",
      "Best Dist:  0.28275131428612854\n",
      "Average Dist:  0.3601086360455155\n",
      "Best Adj Error:  22.0\n",
      "Average Adj Dist Error:  26.42\n"
     ]
    },
    {
     "name": "stderr",
     "output_type": "stream",
     "text": [
      " 15%|█▌        | 15/100 [00:36<03:25,  2.42s/it]"
     ]
    },
    {
     "name": "stdout",
     "output_type": "stream",
     "text": [
      "extreme\n",
      "Best Dist:  0.26551541551120356\n",
      "Average Dist:  0.35594040468240384\n",
      "Best Adj Error:  22.0\n",
      "Average Adj Dist Error:  26.46\n"
     ]
    },
    {
     "name": "stderr",
     "output_type": "stream",
     "text": [
      " 16%|█▌        | 16/100 [00:38<03:24,  2.43s/it]"
     ]
    },
    {
     "name": "stdout",
     "output_type": "stream",
     "text": [
      "extreme\n",
      "Best Dist:  0.23377513430127775\n",
      "Average Dist:  0.3494042701019186\n",
      "Best Adj Error:  24.0\n",
      "Average Adj Dist Error:  26.07\n"
     ]
    },
    {
     "name": "stderr",
     "output_type": "stream",
     "text": [
      " 17%|█▋        | 17/100 [00:41<03:18,  2.39s/it]"
     ]
    },
    {
     "name": "stdout",
     "output_type": "stream",
     "text": [
      "extreme\n",
      "Best Dist:  0.23377513430127775\n",
      "Average Dist:  0.35370210216184345\n",
      "Best Adj Error:  24.0\n",
      "Average Adj Dist Error:  26.05\n"
     ]
    },
    {
     "name": "stderr",
     "output_type": "stream",
     "text": [
      " 18%|█▊        | 18/100 [00:43<03:16,  2.39s/it]"
     ]
    },
    {
     "name": "stdout",
     "output_type": "stream",
     "text": [
      "extreme\n",
      "Best Dist:  0.20632104322196237\n",
      "Average Dist:  0.3238317603256137\n",
      "Best Adj Error:  26.0\n",
      "Average Adj Dist Error:  25.53\n"
     ]
    },
    {
     "name": "stderr",
     "output_type": "stream",
     "text": [
      " 19%|█▉        | 19/100 [00:46<03:15,  2.42s/it]"
     ]
    },
    {
     "name": "stdout",
     "output_type": "stream",
     "text": [
      "extreme\n",
      "Best Dist:  0.20632104322196237\n",
      "Average Dist:  0.3288646889013028\n",
      "Best Adj Error:  26.0\n",
      "Average Adj Dist Error:  25.64\n"
     ]
    },
    {
     "name": "stderr",
     "output_type": "stream",
     "text": [
      " 20%|██        | 20/100 [00:48<03:13,  2.42s/it]"
     ]
    },
    {
     "name": "stdout",
     "output_type": "stream",
     "text": [
      "extreme\n",
      "Best Dist:  0.18191414612208856\n",
      "Average Dist:  0.2923137103244052\n",
      "Best Adj Error:  18.0\n",
      "Average Adj Dist Error:  24.01\n"
     ]
    },
    {
     "name": "stderr",
     "output_type": "stream",
     "text": [
      " 21%|██        | 21/100 [00:51<03:13,  2.45s/it]"
     ]
    },
    {
     "name": "stdout",
     "output_type": "stream",
     "text": [
      "extreme\n",
      "Best Dist:  0.1819141461220811\n",
      "Average Dist:  0.3265331856230149\n",
      "Best Adj Error:  22.0\n",
      "Average Adj Dist Error:  24.38\n"
     ]
    },
    {
     "name": "stderr",
     "output_type": "stream",
     "text": [
      " 22%|██▏       | 22/100 [00:53<03:10,  2.44s/it]"
     ]
    },
    {
     "name": "stdout",
     "output_type": "stream",
     "text": [
      "extreme\n",
      "Best Dist:  0.1819141461220811\n",
      "Average Dist:  0.28465447278371364\n",
      "Best Adj Error:  22.0\n",
      "Average Adj Dist Error:  23.88\n"
     ]
    },
    {
     "name": "stderr",
     "output_type": "stream",
     "text": [
      " 23%|██▎       | 23/100 [00:56<03:10,  2.48s/it]"
     ]
    },
    {
     "name": "stdout",
     "output_type": "stream",
     "text": [
      "extreme\n",
      "Best Dist:  0.15668461955565677\n",
      "Average Dist:  0.2593112853413612\n",
      "Best Adj Error:  20.0\n",
      "Average Adj Dist Error:  23.58\n"
     ]
    },
    {
     "name": "stderr",
     "output_type": "stream",
     "text": [
      " 24%|██▍       | 24/100 [00:58<03:08,  2.48s/it]"
     ]
    },
    {
     "name": "stdout",
     "output_type": "stream",
     "text": [
      "extreme\n",
      "Best Dist:  0.15668461955565677\n",
      "Average Dist:  0.26415180277493777\n",
      "Best Adj Error:  20.0\n",
      "Average Adj Dist Error:  23.76\n"
     ]
    },
    {
     "name": "stderr",
     "output_type": "stream",
     "text": [
      " 25%|██▌       | 25/100 [01:00<03:01,  2.42s/it]"
     ]
    },
    {
     "name": "stdout",
     "output_type": "stream",
     "text": [
      "extreme\n",
      "Best Dist:  0.15668461955565677\n",
      "Average Dist:  0.2636614873325394\n",
      "Best Adj Error:  20.0\n",
      "Average Adj Dist Error:  23.57\n"
     ]
    },
    {
     "name": "stderr",
     "output_type": "stream",
     "text": [
      " 26%|██▌       | 26/100 [01:03<02:58,  2.42s/it]"
     ]
    },
    {
     "name": "stdout",
     "output_type": "stream",
     "text": [
      "extreme\n",
      "Best Dist:  0.15668461955565677\n",
      "Average Dist:  0.225776056036476\n",
      "Best Adj Error:  20.0\n",
      "Average Adj Dist Error:  23.5\n"
     ]
    },
    {
     "name": "stderr",
     "output_type": "stream",
     "text": [
      " 27%|██▋       | 27/100 [01:05<02:55,  2.41s/it]"
     ]
    },
    {
     "name": "stdout",
     "output_type": "stream",
     "text": [
      "extreme\n",
      "Best Dist:  0.15668461955565677\n",
      "Average Dist:  0.21543654700597684\n",
      "Best Adj Error:  20.0\n",
      "Average Adj Dist Error:  23.56\n"
     ]
    },
    {
     "name": "stderr",
     "output_type": "stream",
     "text": [
      " 28%|██▊       | 28/100 [01:07<02:52,  2.39s/it]"
     ]
    },
    {
     "name": "stdout",
     "output_type": "stream",
     "text": [
      "extreme\n",
      "Best Dist:  0.15668461955565677\n",
      "Average Dist:  0.2792513586530371\n",
      "Best Adj Error:  20.0\n",
      "Average Adj Dist Error:  22.96\n"
     ]
    },
    {
     "name": "stderr",
     "output_type": "stream",
     "text": [
      " 29%|██▉       | 29/100 [01:10<02:49,  2.38s/it]"
     ]
    },
    {
     "name": "stdout",
     "output_type": "stream",
     "text": [
      "extreme\n",
      "Best Dist:  0.15668461955565677\n",
      "Average Dist:  0.2122912799841469\n",
      "Best Adj Error:  20.0\n",
      "Average Adj Dist Error:  22.12\n"
     ]
    },
    {
     "name": "stderr",
     "output_type": "stream",
     "text": [
      " 30%|███       | 30/100 [01:12<02:45,  2.37s/it]"
     ]
    },
    {
     "name": "stdout",
     "output_type": "stream",
     "text": [
      "extreme\n",
      "Best Dist:  0.14133177152948379\n",
      "Average Dist:  0.22570522361060688\n",
      "Best Adj Error:  20.0\n",
      "Average Adj Dist Error:  21.86\n"
     ]
    },
    {
     "name": "stderr",
     "output_type": "stream",
     "text": [
      " 31%|███       | 31/100 [01:15<02:44,  2.39s/it]"
     ]
    },
    {
     "name": "stdout",
     "output_type": "stream",
     "text": [
      "extreme\n",
      "Best Dist:  0.14133177152948379\n",
      "Average Dist:  0.1906409511363718\n",
      "Best Adj Error:  20.0\n",
      "Average Adj Dist Error:  21.93\n"
     ]
    },
    {
     "name": "stderr",
     "output_type": "stream",
     "text": [
      " 32%|███▏      | 32/100 [01:17<02:41,  2.38s/it]"
     ]
    },
    {
     "name": "stdout",
     "output_type": "stream",
     "text": [
      "extreme\n",
      "Best Dist:  0.14133177152948379\n",
      "Average Dist:  0.18337649654853522\n",
      "Best Adj Error:  20.0\n",
      "Average Adj Dist Error:  21.75\n"
     ]
    },
    {
     "name": "stderr",
     "output_type": "stream",
     "text": [
      " 33%|███▎      | 33/100 [01:19<02:37,  2.35s/it]"
     ]
    },
    {
     "name": "stdout",
     "output_type": "stream",
     "text": [
      "extreme\n",
      "Best Dist:  0.14133177152948379\n",
      "Average Dist:  0.20841437166242727\n",
      "Best Adj Error:  20.0\n",
      "Average Adj Dist Error:  21.7\n"
     ]
    },
    {
     "name": "stderr",
     "output_type": "stream",
     "text": [
      " 34%|███▍      | 34/100 [01:22<02:35,  2.36s/it]"
     ]
    },
    {
     "name": "stdout",
     "output_type": "stream",
     "text": [
      "extreme\n",
      "Best Dist:  0.14133177152948379\n",
      "Average Dist:  0.17028350349359164\n",
      "Best Adj Error:  20.0\n",
      "Average Adj Dist Error:  21.03\n"
     ]
    },
    {
     "name": "stderr",
     "output_type": "stream",
     "text": [
      " 35%|███▌      | 35/100 [01:24<02:31,  2.34s/it]"
     ]
    },
    {
     "name": "stdout",
     "output_type": "stream",
     "text": [
      "extreme\n",
      "Best Dist:  0.14133177152948379\n",
      "Average Dist:  0.18800898156386378\n",
      "Best Adj Error:  20.0\n",
      "Average Adj Dist Error:  20.22\n"
     ]
    },
    {
     "name": "stderr",
     "output_type": "stream",
     "text": [
      " 36%|███▌      | 36/100 [01:26<02:32,  2.39s/it]"
     ]
    },
    {
     "name": "stdout",
     "output_type": "stream",
     "text": [
      "extreme\n",
      "Best Dist:  0.14133177152948379\n",
      "Average Dist:  0.16236528677835338\n",
      "Best Adj Error:  20.0\n",
      "Average Adj Dist Error:  19.85\n"
     ]
    },
    {
     "name": "stderr",
     "output_type": "stream",
     "text": [
      " 37%|███▋      | 37/100 [01:29<02:33,  2.43s/it]"
     ]
    },
    {
     "name": "stdout",
     "output_type": "stream",
     "text": [
      "extreme\n",
      "Best Dist:  0.14133177152948379\n",
      "Average Dist:  0.17290338987475173\n",
      "Best Adj Error:  20.0\n",
      "Average Adj Dist Error:  19.75\n"
     ]
    },
    {
     "name": "stderr",
     "output_type": "stream",
     "text": [
      " 38%|███▊      | 38/100 [01:31<02:30,  2.42s/it]"
     ]
    },
    {
     "name": "stdout",
     "output_type": "stream",
     "text": [
      "extreme\n",
      "Best Dist:  0.14126959069010617\n",
      "Average Dist:  0.23170251945108652\n",
      "Best Adj Error:  16.0\n",
      "Average Adj Dist Error:  20.0\n"
     ]
    },
    {
     "name": "stderr",
     "output_type": "stream",
     "text": [
      " 39%|███▉      | 39/100 [01:34<02:26,  2.40s/it]"
     ]
    },
    {
     "name": "stdout",
     "output_type": "stream",
     "text": [
      "extreme\n",
      "Best Dist:  0.14126959069010617\n",
      "Average Dist:  0.1772873660539595\n",
      "Best Adj Error:  16.0\n",
      "Average Adj Dist Error:  19.75\n"
     ]
    },
    {
     "name": "stderr",
     "output_type": "stream",
     "text": [
      " 40%|████      | 40/100 [01:36<02:23,  2.40s/it]"
     ]
    },
    {
     "name": "stdout",
     "output_type": "stream",
     "text": [
      "extreme\n",
      "Best Dist:  0.14126959069010617\n",
      "Average Dist:  0.17162922560923788\n",
      "Best Adj Error:  16.0\n",
      "Average Adj Dist Error:  20.18\n"
     ]
    },
    {
     "name": "stderr",
     "output_type": "stream",
     "text": [
      " 41%|████      | 41/100 [01:38<02:20,  2.39s/it]"
     ]
    },
    {
     "name": "stdout",
     "output_type": "stream",
     "text": [
      "extreme\n",
      "Best Dist:  0.13855589129285653\n",
      "Average Dist:  0.21254281580672071\n",
      "Best Adj Error:  18.0\n",
      "Average Adj Dist Error:  20.55\n"
     ]
    },
    {
     "name": "stderr",
     "output_type": "stream",
     "text": [
      " 42%|████▏     | 42/100 [01:41<02:20,  2.41s/it]"
     ]
    },
    {
     "name": "stdout",
     "output_type": "stream",
     "text": [
      "extreme\n",
      "Best Dist:  0.13855589129285653\n",
      "Average Dist:  0.17164834320657682\n",
      "Best Adj Error:  18.0\n",
      "Average Adj Dist Error:  20.04\n"
     ]
    },
    {
     "name": "stderr",
     "output_type": "stream",
     "text": [
      " 43%|████▎     | 43/100 [01:43<02:16,  2.39s/it]"
     ]
    },
    {
     "name": "stdout",
     "output_type": "stream",
     "text": [
      "extreme\n",
      "Best Dist:  0.13855589129285653\n",
      "Average Dist:  0.21240404041420888\n",
      "Best Adj Error:  18.0\n",
      "Average Adj Dist Error:  20.4\n"
     ]
    },
    {
     "name": "stderr",
     "output_type": "stream",
     "text": [
      " 44%|████▍     | 44/100 [01:46<02:13,  2.39s/it]"
     ]
    },
    {
     "name": "stdout",
     "output_type": "stream",
     "text": [
      "extreme\n",
      "Best Dist:  0.13855589129285653\n",
      "Average Dist:  0.18663635227579822\n",
      "Best Adj Error:  18.0\n",
      "Average Adj Dist Error:  20.1\n"
     ]
    },
    {
     "name": "stderr",
     "output_type": "stream",
     "text": [
      " 45%|████▌     | 45/100 [01:48<02:10,  2.37s/it]"
     ]
    },
    {
     "name": "stdout",
     "output_type": "stream",
     "text": [
      "extreme\n",
      "Best Dist:  0.13855589129285653\n",
      "Average Dist:  0.1583108270855931\n",
      "Best Adj Error:  18.0\n",
      "Average Adj Dist Error:  19.56\n"
     ]
    },
    {
     "name": "stderr",
     "output_type": "stream",
     "text": [
      " 46%|████▌     | 46/100 [01:50<02:09,  2.40s/it]"
     ]
    },
    {
     "name": "stdout",
     "output_type": "stream",
     "text": [
      "extreme\n",
      "Best Dist:  0.13855589129285653\n",
      "Average Dist:  0.17307175519278267\n",
      "Best Adj Error:  18.0\n",
      "Average Adj Dist Error:  19.11\n"
     ]
    },
    {
     "name": "stderr",
     "output_type": "stream",
     "text": [
      " 47%|████▋     | 47/100 [01:53<02:08,  2.42s/it]"
     ]
    },
    {
     "name": "stdout",
     "output_type": "stream",
     "text": [
      "extreme\n",
      "Best Dist:  0.13855589129285653\n",
      "Average Dist:  0.24518484042610544\n",
      "Best Adj Error:  18.0\n",
      "Average Adj Dist Error:  19.28\n"
     ]
    },
    {
     "name": "stderr",
     "output_type": "stream",
     "text": [
      " 48%|████▊     | 48/100 [01:55<02:06,  2.44s/it]"
     ]
    },
    {
     "name": "stdout",
     "output_type": "stream",
     "text": [
      "extreme\n",
      "Best Dist:  0.13855589129285653\n",
      "Average Dist:  0.14070652103742418\n",
      "Best Adj Error:  18.0\n",
      "Average Adj Dist Error:  18.16\n"
     ]
    },
    {
     "name": "stderr",
     "output_type": "stream",
     "text": [
      " 49%|████▉     | 49/100 [01:58<02:05,  2.46s/it]"
     ]
    },
    {
     "name": "stdout",
     "output_type": "stream",
     "text": [
      "extreme\n",
      "Best Dist:  0.13855589129285653\n",
      "Average Dist:  0.16634272429631078\n",
      "Best Adj Error:  18.0\n",
      "Average Adj Dist Error:  18.3\n"
     ]
    },
    {
     "name": "stderr",
     "output_type": "stream",
     "text": [
      " 50%|█████     | 50/100 [02:00<02:01,  2.44s/it]"
     ]
    },
    {
     "name": "stdout",
     "output_type": "stream",
     "text": [
      "extreme\n",
      "Best Dist:  0.13855589129285653\n",
      "Average Dist:  0.140643643046747\n",
      "Best Adj Error:  18.0\n",
      "Average Adj Dist Error:  18.03\n"
     ]
    },
    {
     "name": "stderr",
     "output_type": "stream",
     "text": [
      " 51%|█████     | 51/100 [02:03<01:58,  2.42s/it]"
     ]
    },
    {
     "name": "stdout",
     "output_type": "stream",
     "text": [
      "extreme\n",
      "Best Dist:  0.13855589129285653\n",
      "Average Dist:  0.17822443699087231\n",
      "Best Adj Error:  18.0\n",
      "Average Adj Dist Error:  18.23\n",
      "extreme\n"
     ]
    },
    {
     "name": "stderr",
     "output_type": "stream",
     "text": [
      " 52%|█████▏    | 52/100 [02:07<02:19,  2.90s/it]"
     ]
    },
    {
     "name": "stdout",
     "output_type": "stream",
     "text": [
      "Best Dist:  0.13855589129285653\n",
      "Average Dist:  0.5180874711383309\n",
      "Best Adj Error:  18.0\n",
      "Average Adj Dist Error:  36.34\n",
      "extreme\n"
     ]
    },
    {
     "name": "stderr",
     "output_type": "stream",
     "text": [
      " 53%|█████▎    | 53/100 [02:11<02:31,  3.21s/it]"
     ]
    },
    {
     "name": "stdout",
     "output_type": "stream",
     "text": [
      "Best Dist:  0.13855589129285653\n",
      "Average Dist:  0.5185885919587317\n",
      "Best Adj Error:  18.0\n",
      "Average Adj Dist Error:  35.86\n",
      "extreme\n"
     ]
    },
    {
     "name": "stderr",
     "output_type": "stream",
     "text": [
      " 54%|█████▍    | 54/100 [02:15<02:37,  3.42s/it]"
     ]
    },
    {
     "name": "stdout",
     "output_type": "stream",
     "text": [
      "Best Dist:  0.13855589129285653\n",
      "Average Dist:  0.5145260713414739\n",
      "Best Adj Error:  18.0\n",
      "Average Adj Dist Error:  36.51\n",
      "extreme\n"
     ]
    },
    {
     "name": "stderr",
     "output_type": "stream",
     "text": [
      " 55%|█████▌    | 55/100 [02:18<02:40,  3.57s/it]"
     ]
    },
    {
     "name": "stdout",
     "output_type": "stream",
     "text": [
      "new injection\n",
      "Best Dist:  0.13855589129285653\n",
      "Average Dist:  0.5252392697416624\n",
      "Best Adj Error:  18.0\n",
      "Average Adj Dist Error:  36.77\n",
      "extreme\n"
     ]
    },
    {
     "name": "stderr",
     "output_type": "stream",
     "text": [
      " 56%|█████▌    | 56/100 [02:22<02:41,  3.66s/it]"
     ]
    },
    {
     "name": "stdout",
     "output_type": "stream",
     "text": [
      "Best Dist:  0.13855589129285653\n",
      "Average Dist:  0.5177511989842337\n",
      "Best Adj Error:  18.0\n",
      "Average Adj Dist Error:  35.78\n",
      "extreme\n"
     ]
    },
    {
     "name": "stderr",
     "output_type": "stream",
     "text": [
      " 57%|█████▋    | 57/100 [02:26<02:39,  3.70s/it]"
     ]
    },
    {
     "name": "stdout",
     "output_type": "stream",
     "text": [
      "Best Dist:  0.13855589129285653\n",
      "Average Dist:  0.5341802445374908\n",
      "Best Adj Error:  18.0\n",
      "Average Adj Dist Error:  36.13\n",
      "extreme\n"
     ]
    },
    {
     "name": "stderr",
     "output_type": "stream",
     "text": [
      " 58%|█████▊    | 58/100 [02:30<02:38,  3.77s/it]"
     ]
    },
    {
     "name": "stdout",
     "output_type": "stream",
     "text": [
      "Best Dist:  0.13855589129285653\n",
      "Average Dist:  0.5197725973395988\n",
      "Best Adj Error:  18.0\n",
      "Average Adj Dist Error:  35.91\n",
      "extreme\n"
     ]
    },
    {
     "name": "stderr",
     "output_type": "stream",
     "text": [
      " 59%|█████▉    | 59/100 [02:34<02:37,  3.85s/it]"
     ]
    },
    {
     "name": "stdout",
     "output_type": "stream",
     "text": [
      "Best Dist:  0.13855589129285653\n",
      "Average Dist:  0.525295568463142\n",
      "Best Adj Error:  18.0\n",
      "Average Adj Dist Error:  36.46\n",
      "extreme\n"
     ]
    },
    {
     "name": "stderr",
     "output_type": "stream",
     "text": [
      " 60%|██████    | 60/100 [02:38<02:36,  3.91s/it]"
     ]
    },
    {
     "name": "stdout",
     "output_type": "stream",
     "text": [
      "new injection\n",
      "Best Dist:  0.13855589129285653\n",
      "Average Dist:  0.5259862950912241\n",
      "Best Adj Error:  18.0\n",
      "Average Adj Dist Error:  37.35\n",
      "extreme\n"
     ]
    },
    {
     "name": "stderr",
     "output_type": "stream",
     "text": [
      " 61%|██████    | 61/100 [02:42<02:32,  3.91s/it]"
     ]
    },
    {
     "name": "stdout",
     "output_type": "stream",
     "text": [
      "Best Dist:  0.13855589129285653\n",
      "Average Dist:  0.5380157007373932\n",
      "Best Adj Error:  18.0\n",
      "Average Adj Dist Error:  36.37\n",
      "extreme\n"
     ]
    },
    {
     "name": "stderr",
     "output_type": "stream",
     "text": [
      " 62%|██████▏   | 62/100 [02:46<02:25,  3.84s/it]"
     ]
    },
    {
     "name": "stdout",
     "output_type": "stream",
     "text": [
      "Best Dist:  0.13855589129285653\n",
      "Average Dist:  0.5230497303721516\n",
      "Best Adj Error:  18.0\n",
      "Average Adj Dist Error:  35.81\n",
      "extreme\n"
     ]
    },
    {
     "name": "stderr",
     "output_type": "stream",
     "text": [
      " 63%|██████▎   | 63/100 [02:50<02:22,  3.86s/it]"
     ]
    },
    {
     "name": "stdout",
     "output_type": "stream",
     "text": [
      "Best Dist:  0.13855589129285653\n",
      "Average Dist:  0.520475192659624\n",
      "Best Adj Error:  18.0\n",
      "Average Adj Dist Error:  35.88\n",
      "extreme\n"
     ]
    },
    {
     "name": "stderr",
     "output_type": "stream",
     "text": [
      " 64%|██████▍   | 64/100 [02:53<02:18,  3.85s/it]"
     ]
    },
    {
     "name": "stdout",
     "output_type": "stream",
     "text": [
      "Best Dist:  0.13855589129285653\n",
      "Average Dist:  0.5135566321246892\n",
      "Best Adj Error:  18.0\n",
      "Average Adj Dist Error:  35.82\n",
      "extreme\n"
     ]
    },
    {
     "name": "stderr",
     "output_type": "stream",
     "text": [
      " 65%|██████▌   | 65/100 [02:57<02:14,  3.84s/it]"
     ]
    },
    {
     "name": "stdout",
     "output_type": "stream",
     "text": [
      "new injection\n",
      "Best Dist:  0.13855589129285653\n",
      "Average Dist:  0.5274617444456821\n",
      "Best Adj Error:  18.0\n",
      "Average Adj Dist Error:  36.33\n",
      "extreme\n"
     ]
    },
    {
     "name": "stderr",
     "output_type": "stream",
     "text": [
      " 66%|██████▌   | 66/100 [03:01<02:12,  3.91s/it]"
     ]
    },
    {
     "name": "stdout",
     "output_type": "stream",
     "text": [
      "Best Dist:  0.13855589129285653\n",
      "Average Dist:  0.5233626354680804\n",
      "Best Adj Error:  18.0\n",
      "Average Adj Dist Error:  35.95\n",
      "extreme\n"
     ]
    },
    {
     "name": "stderr",
     "output_type": "stream",
     "text": [
      " 67%|██████▋   | 67/100 [03:05<02:06,  3.84s/it]"
     ]
    },
    {
     "name": "stdout",
     "output_type": "stream",
     "text": [
      "Best Dist:  0.13855589129285653\n",
      "Average Dist:  0.5170837829425171\n",
      "Best Adj Error:  18.0\n",
      "Average Adj Dist Error:  36.18\n",
      "extreme\n"
     ]
    },
    {
     "name": "stderr",
     "output_type": "stream",
     "text": [
      " 68%|██████▊   | 68/100 [03:09<02:03,  3.86s/it]"
     ]
    },
    {
     "name": "stdout",
     "output_type": "stream",
     "text": [
      "Best Dist:  0.13855589129285653\n",
      "Average Dist:  0.5267751818236046\n",
      "Best Adj Error:  18.0\n",
      "Average Adj Dist Error:  36.71\n",
      "extreme\n"
     ]
    },
    {
     "name": "stderr",
     "output_type": "stream",
     "text": [
      " 69%|██████▉   | 69/100 [03:13<02:00,  3.89s/it]"
     ]
    },
    {
     "name": "stdout",
     "output_type": "stream",
     "text": [
      "Best Dist:  0.13855589129285653\n",
      "Average Dist:  0.5284552748846992\n",
      "Best Adj Error:  18.0\n",
      "Average Adj Dist Error:  37.2\n",
      "extreme\n"
     ]
    },
    {
     "name": "stderr",
     "output_type": "stream",
     "text": [
      " 70%|███████   | 70/100 [03:17<01:54,  3.81s/it]"
     ]
    },
    {
     "name": "stdout",
     "output_type": "stream",
     "text": [
      "new injection\n",
      "Best Dist:  0.13855589129285653\n",
      "Average Dist:  0.53539014372514\n",
      "Best Adj Error:  18.0\n",
      "Average Adj Dist Error:  37.21\n",
      "extreme\n"
     ]
    },
    {
     "name": "stderr",
     "output_type": "stream",
     "text": [
      " 71%|███████   | 71/100 [03:20<01:51,  3.83s/it]"
     ]
    },
    {
     "name": "stdout",
     "output_type": "stream",
     "text": [
      "Best Dist:  0.13855589129285653\n",
      "Average Dist:  0.5271848468489705\n",
      "Best Adj Error:  18.0\n",
      "Average Adj Dist Error:  36.42\n",
      "extreme\n"
     ]
    },
    {
     "name": "stderr",
     "output_type": "stream",
     "text": [
      " 72%|███████▏  | 72/100 [03:24<01:47,  3.82s/it]"
     ]
    },
    {
     "name": "stdout",
     "output_type": "stream",
     "text": [
      "Best Dist:  0.13855589129285653\n",
      "Average Dist:  0.5259552100208954\n",
      "Best Adj Error:  18.0\n",
      "Average Adj Dist Error:  36.4\n",
      "extreme\n"
     ]
    },
    {
     "name": "stderr",
     "output_type": "stream",
     "text": [
      " 73%|███████▎  | 73/100 [03:28<01:45,  3.89s/it]"
     ]
    },
    {
     "name": "stdout",
     "output_type": "stream",
     "text": [
      "Best Dist:  0.13855589129285653\n",
      "Average Dist:  0.5214505043463158\n",
      "Best Adj Error:  18.0\n",
      "Average Adj Dist Error:  36.34\n",
      "extreme\n"
     ]
    },
    {
     "name": "stderr",
     "output_type": "stream",
     "text": [
      " 74%|███████▍  | 74/100 [03:32<01:40,  3.87s/it]"
     ]
    },
    {
     "name": "stdout",
     "output_type": "stream",
     "text": [
      "Best Dist:  0.13855589129285653\n",
      "Average Dist:  0.5193090777492594\n",
      "Best Adj Error:  18.0\n",
      "Average Adj Dist Error:  36.34\n",
      "extreme\n"
     ]
    },
    {
     "name": "stderr",
     "output_type": "stream",
     "text": [
      " 75%|███████▌  | 75/100 [03:36<01:37,  3.91s/it]"
     ]
    },
    {
     "name": "stdout",
     "output_type": "stream",
     "text": [
      "new injection\n",
      "Best Dist:  0.13855589129285653\n",
      "Average Dist:  0.5258769111712067\n",
      "Best Adj Error:  18.0\n",
      "Average Adj Dist Error:  36.58\n",
      "extreme\n"
     ]
    },
    {
     "name": "stderr",
     "output_type": "stream",
     "text": [
      " 76%|███████▌  | 76/100 [03:40<01:33,  3.90s/it]"
     ]
    },
    {
     "name": "stdout",
     "output_type": "stream",
     "text": [
      "Best Dist:  0.13855589129285653\n",
      "Average Dist:  0.5290117877257902\n",
      "Best Adj Error:  18.0\n",
      "Average Adj Dist Error:  36.47\n",
      "extreme\n"
     ]
    },
    {
     "name": "stderr",
     "output_type": "stream",
     "text": [
      " 77%|███████▋  | 77/100 [03:44<01:28,  3.85s/it]"
     ]
    },
    {
     "name": "stdout",
     "output_type": "stream",
     "text": [
      "Best Dist:  0.13855589129285653\n",
      "Average Dist:  0.5261831447348534\n",
      "Best Adj Error:  18.0\n",
      "Average Adj Dist Error:  35.87\n",
      "extreme\n"
     ]
    },
    {
     "name": "stderr",
     "output_type": "stream",
     "text": [
      " 78%|███████▊  | 78/100 [03:47<01:23,  3.80s/it]"
     ]
    },
    {
     "name": "stdout",
     "output_type": "stream",
     "text": [
      "Best Dist:  0.13855589129285653\n",
      "Average Dist:  0.5213676889406491\n",
      "Best Adj Error:  18.0\n",
      "Average Adj Dist Error:  36.64\n",
      "extreme\n"
     ]
    },
    {
     "name": "stderr",
     "output_type": "stream",
     "text": [
      " 79%|███████▉  | 79/100 [03:51<01:21,  3.87s/it]"
     ]
    },
    {
     "name": "stdout",
     "output_type": "stream",
     "text": [
      "Best Dist:  0.13855589129285653\n",
      "Average Dist:  0.5174960779673773\n",
      "Best Adj Error:  18.0\n",
      "Average Adj Dist Error:  36.1\n",
      "extreme\n"
     ]
    },
    {
     "name": "stderr",
     "output_type": "stream",
     "text": [
      " 80%|████████  | 80/100 [03:55<01:17,  3.85s/it]"
     ]
    },
    {
     "name": "stdout",
     "output_type": "stream",
     "text": [
      "new injection\n",
      "Best Dist:  0.13855589129285653\n",
      "Average Dist:  0.5343659405096561\n",
      "Best Adj Error:  18.0\n",
      "Average Adj Dist Error:  36.38\n",
      "extreme\n"
     ]
    },
    {
     "name": "stderr",
     "output_type": "stream",
     "text": [
      " 81%|████████  | 81/100 [03:59<01:12,  3.83s/it]"
     ]
    },
    {
     "name": "stdout",
     "output_type": "stream",
     "text": [
      "Best Dist:  0.13855589129285653\n",
      "Average Dist:  0.5285184666308134\n",
      "Best Adj Error:  18.0\n",
      "Average Adj Dist Error:  36.13\n",
      "extreme\n"
     ]
    },
    {
     "name": "stderr",
     "output_type": "stream",
     "text": [
      " 82%|████████▏ | 82/100 [04:03<01:09,  3.84s/it]"
     ]
    },
    {
     "name": "stdout",
     "output_type": "stream",
     "text": [
      "Best Dist:  0.13855589129285653\n",
      "Average Dist:  0.5171133793764262\n",
      "Best Adj Error:  18.0\n",
      "Average Adj Dist Error:  35.65\n",
      "extreme\n"
     ]
    },
    {
     "name": "stderr",
     "output_type": "stream",
     "text": [
      " 83%|████████▎ | 83/100 [04:07<01:04,  3.82s/it]"
     ]
    },
    {
     "name": "stdout",
     "output_type": "stream",
     "text": [
      "Best Dist:  0.13855589129285653\n",
      "Average Dist:  0.5197278195850018\n",
      "Best Adj Error:  18.0\n",
      "Average Adj Dist Error:  36.08\n",
      "extreme\n"
     ]
    },
    {
     "name": "stderr",
     "output_type": "stream",
     "text": [
      " 84%|████████▍ | 84/100 [04:11<01:01,  3.87s/it]"
     ]
    },
    {
     "name": "stdout",
     "output_type": "stream",
     "text": [
      "Best Dist:  0.13855589129285653\n",
      "Average Dist:  0.5189828790845508\n",
      "Best Adj Error:  18.0\n",
      "Average Adj Dist Error:  35.96\n",
      "extreme\n"
     ]
    },
    {
     "name": "stderr",
     "output_type": "stream",
     "text": [
      " 85%|████████▌ | 85/100 [04:15<00:58,  3.91s/it]"
     ]
    },
    {
     "name": "stdout",
     "output_type": "stream",
     "text": [
      "new injection\n",
      "Best Dist:  0.13855589129285653\n",
      "Average Dist:  0.5296645763612606\n",
      "Best Adj Error:  18.0\n",
      "Average Adj Dist Error:  36.06\n",
      "extreme\n"
     ]
    },
    {
     "name": "stderr",
     "output_type": "stream",
     "text": [
      " 86%|████████▌ | 86/100 [04:19<00:54,  3.91s/it]"
     ]
    },
    {
     "name": "stdout",
     "output_type": "stream",
     "text": [
      "Best Dist:  0.13855589129285653\n",
      "Average Dist:  0.513913951111261\n",
      "Best Adj Error:  18.0\n",
      "Average Adj Dist Error:  35.73\n",
      "extreme\n"
     ]
    },
    {
     "name": "stderr",
     "output_type": "stream",
     "text": [
      " 87%|████████▋ | 87/100 [04:22<00:50,  3.91s/it]"
     ]
    },
    {
     "name": "stdout",
     "output_type": "stream",
     "text": [
      "Best Dist:  0.13855589129285653\n",
      "Average Dist:  0.5254250439047158\n",
      "Best Adj Error:  18.0\n",
      "Average Adj Dist Error:  36.44\n",
      "extreme\n"
     ]
    },
    {
     "name": "stderr",
     "output_type": "stream",
     "text": [
      " 88%|████████▊ | 88/100 [04:26<00:46,  3.85s/it]"
     ]
    },
    {
     "name": "stdout",
     "output_type": "stream",
     "text": [
      "Best Dist:  0.13855589129285653\n",
      "Average Dist:  0.5219249950681852\n",
      "Best Adj Error:  18.0\n",
      "Average Adj Dist Error:  36.15\n",
      "extreme\n"
     ]
    },
    {
     "name": "stderr",
     "output_type": "stream",
     "text": [
      " 89%|████████▉ | 89/100 [04:30<00:43,  3.92s/it]"
     ]
    },
    {
     "name": "stdout",
     "output_type": "stream",
     "text": [
      "Best Dist:  0.13855589129285653\n",
      "Average Dist:  0.53094648327832\n",
      "Best Adj Error:  18.0\n",
      "Average Adj Dist Error:  36.01\n",
      "extreme\n"
     ]
    },
    {
     "name": "stderr",
     "output_type": "stream",
     "text": [
      " 90%|█████████ | 90/100 [04:34<00:38,  3.89s/it]"
     ]
    },
    {
     "name": "stdout",
     "output_type": "stream",
     "text": [
      "new injection\n",
      "Best Dist:  0.13855589129285653\n",
      "Average Dist:  0.5262854396890766\n",
      "Best Adj Error:  18.0\n",
      "Average Adj Dist Error:  36.79\n",
      "extreme\n"
     ]
    },
    {
     "name": "stderr",
     "output_type": "stream",
     "text": [
      " 91%|█████████ | 91/100 [04:38<00:34,  3.88s/it]"
     ]
    },
    {
     "name": "stdout",
     "output_type": "stream",
     "text": [
      "Best Dist:  0.13855589129285653\n",
      "Average Dist:  0.5298093575646806\n",
      "Best Adj Error:  18.0\n",
      "Average Adj Dist Error:  37.18\n",
      "extreme\n"
     ]
    },
    {
     "name": "stderr",
     "output_type": "stream",
     "text": [
      " 92%|█████████▏| 92/100 [04:42<00:30,  3.83s/it]"
     ]
    },
    {
     "name": "stdout",
     "output_type": "stream",
     "text": [
      "Best Dist:  0.13855589129285653\n",
      "Average Dist:  0.5261106965061022\n",
      "Best Adj Error:  18.0\n",
      "Average Adj Dist Error:  35.99\n",
      "extreme\n"
     ]
    },
    {
     "name": "stderr",
     "output_type": "stream",
     "text": [
      " 93%|█████████▎| 93/100 [04:45<00:26,  3.78s/it]"
     ]
    },
    {
     "name": "stdout",
     "output_type": "stream",
     "text": [
      "Best Dist:  0.13855589129285653\n",
      "Average Dist:  0.5192431416496092\n",
      "Best Adj Error:  18.0\n",
      "Average Adj Dist Error:  36.36\n",
      "extreme\n"
     ]
    },
    {
     "name": "stderr",
     "output_type": "stream",
     "text": [
      " 94%|█████████▍| 94/100 [04:49<00:22,  3.83s/it]"
     ]
    },
    {
     "name": "stdout",
     "output_type": "stream",
     "text": [
      "Best Dist:  0.13855589129285653\n",
      "Average Dist:  0.5235285328332694\n",
      "Best Adj Error:  18.0\n",
      "Average Adj Dist Error:  35.75\n",
      "extreme\n"
     ]
    },
    {
     "name": "stderr",
     "output_type": "stream",
     "text": [
      " 95%|█████████▌| 95/100 [04:53<00:19,  3.83s/it]"
     ]
    },
    {
     "name": "stdout",
     "output_type": "stream",
     "text": [
      "new injection\n",
      "Best Dist:  0.13855589129285653\n",
      "Average Dist:  0.5368614490530426\n",
      "Best Adj Error:  18.0\n",
      "Average Adj Dist Error:  36.04\n",
      "extreme\n"
     ]
    },
    {
     "name": "stderr",
     "output_type": "stream",
     "text": [
      " 96%|█████████▌| 96/100 [04:57<00:15,  3.84s/it]"
     ]
    },
    {
     "name": "stdout",
     "output_type": "stream",
     "text": [
      "Best Dist:  0.13855589129285653\n",
      "Average Dist:  0.528993807569469\n",
      "Best Adj Error:  18.0\n",
      "Average Adj Dist Error:  36.35\n",
      "extreme\n"
     ]
    },
    {
     "name": "stderr",
     "output_type": "stream",
     "text": [
      " 97%|█████████▋| 97/100 [05:01<00:11,  3.84s/it]"
     ]
    },
    {
     "name": "stdout",
     "output_type": "stream",
     "text": [
      "Best Dist:  0.13855589129285653\n",
      "Average Dist:  0.5250174589142539\n",
      "Best Adj Error:  18.0\n",
      "Average Adj Dist Error:  35.68\n",
      "extreme\n"
     ]
    },
    {
     "name": "stderr",
     "output_type": "stream",
     "text": [
      " 98%|█████████▊| 98/100 [05:05<00:07,  3.84s/it]"
     ]
    },
    {
     "name": "stdout",
     "output_type": "stream",
     "text": [
      "Best Dist:  0.13855589129285653\n",
      "Average Dist:  0.5276290313254173\n",
      "Best Adj Error:  18.0\n",
      "Average Adj Dist Error:  36.53\n",
      "extreme\n"
     ]
    },
    {
     "name": "stderr",
     "output_type": "stream",
     "text": [
      " 99%|█████████▉| 99/100 [05:08<00:03,  3.83s/it]"
     ]
    },
    {
     "name": "stdout",
     "output_type": "stream",
     "text": [
      "Best Dist:  0.13855589129285653\n",
      "Average Dist:  0.5281742478083207\n",
      "Best Adj Error:  18.0\n",
      "Average Adj Dist Error:  36.73\n",
      "extreme\n"
     ]
    },
    {
     "name": "stderr",
     "output_type": "stream",
     "text": [
      "100%|██████████| 100/100 [05:12<00:00,  3.13s/it]"
     ]
    },
    {
     "name": "stdout",
     "output_type": "stream",
     "text": [
      "new injection\n",
      "No fit individual found within iteration limit\n"
     ]
    },
    {
     "name": "stderr",
     "output_type": "stream",
     "text": [
      "\n",
      "  0%|          | 0/100 [00:00<?, ?it/s]"
     ]
    },
    {
     "name": "stdout",
     "output_type": "stream",
     "text": [
      "Best Dist:  0.4152549008929099\n",
      "Average Dist:  0.7078274955325591\n",
      "Best Adj Error:  32.0\n",
      "Average Adj Dist Error:  45.28\n"
     ]
    },
    {
     "name": "stderr",
     "output_type": "stream",
     "text": [
      "  1%|          | 1/100 [00:02<04:15,  2.58s/it]"
     ]
    },
    {
     "name": "stdout",
     "output_type": "stream",
     "text": [
      "Best Dist:  0.32859820397884787\n",
      "Average Dist:  0.6623784299252884\n",
      "Best Adj Error:  24.0\n",
      "Average Adj Dist Error:  42.48\n"
     ]
    },
    {
     "name": "stderr",
     "output_type": "stream",
     "text": [
      "  2%|▏         | 2/100 [00:04<03:55,  2.40s/it]"
     ]
    },
    {
     "name": "stdout",
     "output_type": "stream",
     "text": [
      "Best Dist:  0.32859820397884787\n",
      "Average Dist:  0.6164198120337622\n",
      "Best Adj Error:  24.0\n",
      "Average Adj Dist Error:  41.22\n"
     ]
    },
    {
     "name": "stderr",
     "output_type": "stream",
     "text": [
      "  3%|▎         | 3/100 [00:07<03:52,  2.39s/it]"
     ]
    },
    {
     "name": "stdout",
     "output_type": "stream",
     "text": [
      "Best Dist:  0.32859820397884787\n",
      "Average Dist:  0.5680350982302778\n",
      "Best Adj Error:  24.0\n",
      "Average Adj Dist Error:  38.31\n"
     ]
    },
    {
     "name": "stderr",
     "output_type": "stream",
     "text": [
      "  4%|▍         | 4/100 [00:09<03:54,  2.45s/it]"
     ]
    },
    {
     "name": "stdout",
     "output_type": "stream",
     "text": [
      "Best Dist:  0.2718713316505516\n",
      "Average Dist:  0.5234042006959545\n",
      "Best Adj Error:  20.0\n",
      "Average Adj Dist Error:  36.1\n"
     ]
    },
    {
     "name": "stderr",
     "output_type": "stream",
     "text": [
      "  5%|▌         | 5/100 [00:12<03:52,  2.45s/it]"
     ]
    },
    {
     "name": "stdout",
     "output_type": "stream",
     "text": [
      "Best Dist:  0.24559083657664338\n",
      "Average Dist:  0.475313220788248\n",
      "Best Adj Error:  34.0\n",
      "Average Adj Dist Error:  34.53\n"
     ]
    },
    {
     "name": "stderr",
     "output_type": "stream",
     "text": [
      "  6%|▌         | 6/100 [00:14<03:52,  2.47s/it]"
     ]
    },
    {
     "name": "stdout",
     "output_type": "stream",
     "text": [
      "Best Dist:  0.22514467134888314\n",
      "Average Dist:  0.401593507006581\n",
      "Best Adj Error:  28.0\n",
      "Average Adj Dist Error:  32.24\n"
     ]
    },
    {
     "name": "stderr",
     "output_type": "stream",
     "text": [
      "  7%|▋         | 7/100 [00:17<03:46,  2.44s/it]"
     ]
    },
    {
     "name": "stdout",
     "output_type": "stream",
     "text": [
      "extreme\n",
      "Best Dist:  0.22514467134888314\n",
      "Average Dist:  0.3542067675224409\n",
      "Best Adj Error:  28.0\n",
      "Average Adj Dist Error:  29.8\n"
     ]
    },
    {
     "name": "stderr",
     "output_type": "stream",
     "text": [
      "  8%|▊         | 8/100 [00:19<03:43,  2.43s/it]"
     ]
    },
    {
     "name": "stdout",
     "output_type": "stream",
     "text": [
      "extreme\n",
      "Best Dist:  0.22514467134888314\n",
      "Average Dist:  0.32276389501672836\n",
      "Best Adj Error:  28.0\n",
      "Average Adj Dist Error:  27.93\n"
     ]
    },
    {
     "name": "stderr",
     "output_type": "stream",
     "text": [
      "  9%|▉         | 9/100 [00:21<03:39,  2.41s/it]"
     ]
    },
    {
     "name": "stdout",
     "output_type": "stream",
     "text": [
      "extreme\n",
      "Best Dist:  0.17172652688067097\n",
      "Average Dist:  0.2999949201177114\n",
      "Best Adj Error:  20.0\n",
      "Average Adj Dist Error:  27.11\n"
     ]
    },
    {
     "name": "stderr",
     "output_type": "stream",
     "text": [
      " 10%|█         | 10/100 [00:24<03:32,  2.36s/it]"
     ]
    },
    {
     "name": "stdout",
     "output_type": "stream",
     "text": [
      "extreme\n",
      "Best Dist:  0.17009428129699125\n",
      "Average Dist:  0.2755391085871646\n",
      "Best Adj Error:  24.0\n",
      "Average Adj Dist Error:  26.25\n"
     ]
    },
    {
     "name": "stderr",
     "output_type": "stream",
     "text": [
      " 11%|█         | 11/100 [00:26<03:29,  2.35s/it]"
     ]
    },
    {
     "name": "stdout",
     "output_type": "stream",
     "text": [
      "extreme\n",
      "Best Dist:  0.17009428129699125\n",
      "Average Dist:  0.27540538290632866\n",
      "Best Adj Error:  24.0\n",
      "Average Adj Dist Error:  26.23\n"
     ]
    },
    {
     "name": "stderr",
     "output_type": "stream",
     "text": [
      " 12%|█▏        | 12/100 [00:28<03:22,  2.31s/it]"
     ]
    },
    {
     "name": "stdout",
     "output_type": "stream",
     "text": [
      "extreme\n",
      "Best Dist:  0.16508855943616552\n",
      "Average Dist:  0.2473148963226043\n",
      "Best Adj Error:  14.0\n",
      "Average Adj Dist Error:  25.18\n"
     ]
    },
    {
     "name": "stderr",
     "output_type": "stream",
     "text": [
      " 13%|█▎        | 13/100 [00:30<03:19,  2.30s/it]"
     ]
    },
    {
     "name": "stdout",
     "output_type": "stream",
     "text": [
      "extreme\n",
      "Best Dist:  0.16508855943616552\n",
      "Average Dist:  0.33414448272099906\n",
      "Best Adj Error:  14.0\n",
      "Average Adj Dist Error:  25.29\n"
     ]
    },
    {
     "name": "stderr",
     "output_type": "stream",
     "text": [
      " 14%|█▍        | 14/100 [00:33<03:20,  2.33s/it]"
     ]
    },
    {
     "name": "stdout",
     "output_type": "stream",
     "text": [
      "extreme\n",
      "Best Dist:  0.1564621083023003\n",
      "Average Dist:  0.22980470374813408\n",
      "Best Adj Error:  20.0\n",
      "Average Adj Dist Error:  23.3\n"
     ]
    },
    {
     "name": "stderr",
     "output_type": "stream",
     "text": [
      " 15%|█▌        | 15/100 [00:35<03:18,  2.33s/it]"
     ]
    },
    {
     "name": "stdout",
     "output_type": "stream",
     "text": [
      "extreme\n",
      "Best Dist:  0.1564621083023003\n",
      "Average Dist:  0.208031991275377\n",
      "Best Adj Error:  20.0\n",
      "Average Adj Dist Error:  22.07\n"
     ]
    },
    {
     "name": "stderr",
     "output_type": "stream",
     "text": [
      " 16%|█▌        | 16/100 [00:38<03:19,  2.37s/it]"
     ]
    },
    {
     "name": "stdout",
     "output_type": "stream",
     "text": [
      "extreme\n",
      "Best Dist:  0.1564621083023003\n",
      "Average Dist:  0.25435853006777764\n",
      "Best Adj Error:  20.0\n",
      "Average Adj Dist Error:  21.58\n"
     ]
    },
    {
     "name": "stderr",
     "output_type": "stream",
     "text": [
      " 17%|█▋        | 17/100 [00:40<03:15,  2.36s/it]"
     ]
    },
    {
     "name": "stdout",
     "output_type": "stream",
     "text": [
      "extreme\n",
      "Best Dist:  0.15393423509379103\n",
      "Average Dist:  0.24128786301176894\n",
      "Best Adj Error:  14.0\n",
      "Average Adj Dist Error:  20.87\n"
     ]
    },
    {
     "name": "stderr",
     "output_type": "stream",
     "text": [
      " 18%|█▊        | 18/100 [00:42<03:16,  2.40s/it]"
     ]
    },
    {
     "name": "stdout",
     "output_type": "stream",
     "text": [
      "extreme\n",
      "Best Dist:  0.15325784560733052\n",
      "Average Dist:  0.21970816529164522\n",
      "Best Adj Error:  22.0\n",
      "Average Adj Dist Error:  20.39\n"
     ]
    },
    {
     "name": "stderr",
     "output_type": "stream",
     "text": [
      " 19%|█▉        | 19/100 [00:45<03:12,  2.38s/it]"
     ]
    },
    {
     "name": "stdout",
     "output_type": "stream",
     "text": [
      "extreme\n",
      "Best Dist:  0.14550822436527766\n",
      "Average Dist:  0.18955074694443358\n",
      "Best Adj Error:  18.0\n",
      "Average Adj Dist Error:  19.69\n"
     ]
    },
    {
     "name": "stderr",
     "output_type": "stream",
     "text": [
      " 20%|██        | 20/100 [00:47<03:09,  2.37s/it]"
     ]
    },
    {
     "name": "stdout",
     "output_type": "stream",
     "text": [
      "extreme\n",
      "Best Dist:  0.14462915247470268\n",
      "Average Dist:  0.16676709510461507\n",
      "Best Adj Error:  20.0\n",
      "Average Adj Dist Error:  19.18\n"
     ]
    },
    {
     "name": "stderr",
     "output_type": "stream",
     "text": [
      " 21%|██        | 21/100 [00:50<03:06,  2.37s/it]"
     ]
    },
    {
     "name": "stdout",
     "output_type": "stream",
     "text": [
      "extreme\n",
      "Best Dist:  0.1262978378356492\n",
      "Average Dist:  0.1689662368873961\n",
      "Best Adj Error:  14.0\n",
      "Average Adj Dist Error:  19.48\n"
     ]
    },
    {
     "name": "stderr",
     "output_type": "stream",
     "text": [
      " 22%|██▏       | 22/100 [00:52<03:02,  2.34s/it]"
     ]
    },
    {
     "name": "stdout",
     "output_type": "stream",
     "text": [
      "extreme\n",
      "Best Dist:  0.1262978378356492\n",
      "Average Dist:  0.1785073861547736\n",
      "Best Adj Error:  14.0\n",
      "Average Adj Dist Error:  18.75\n"
     ]
    },
    {
     "name": "stderr",
     "output_type": "stream",
     "text": [
      " 23%|██▎       | 23/100 [00:54<02:59,  2.33s/it]"
     ]
    },
    {
     "name": "stdout",
     "output_type": "stream",
     "text": [
      "extreme\n",
      "Best Dist:  0.1262978378356492\n",
      "Average Dist:  0.18275387055882295\n",
      "Best Adj Error:  14.0\n",
      "Average Adj Dist Error:  18.85\n"
     ]
    },
    {
     "name": "stderr",
     "output_type": "stream",
     "text": [
      " 24%|██▍       | 24/100 [00:56<02:57,  2.34s/it]"
     ]
    },
    {
     "name": "stdout",
     "output_type": "stream",
     "text": [
      "extreme\n",
      "Best Dist:  0.1262978378356492\n",
      "Average Dist:  0.19029869069429034\n",
      "Best Adj Error:  14.0\n",
      "Average Adj Dist Error:  17.66\n"
     ]
    },
    {
     "name": "stderr",
     "output_type": "stream",
     "text": [
      " 25%|██▌       | 25/100 [00:59<02:54,  2.33s/it]"
     ]
    },
    {
     "name": "stdout",
     "output_type": "stream",
     "text": [
      "extreme\n",
      "Best Dist:  0.1262978378356492\n",
      "Average Dist:  0.21002460602634712\n",
      "Best Adj Error:  14.0\n",
      "Average Adj Dist Error:  18.19\n"
     ]
    },
    {
     "name": "stderr",
     "output_type": "stream",
     "text": [
      " 26%|██▌       | 26/100 [01:01<02:56,  2.39s/it]"
     ]
    },
    {
     "name": "stdout",
     "output_type": "stream",
     "text": [
      "extreme\n",
      "Best Dist:  0.11444454291256864\n",
      "Average Dist:  0.21912964522959108\n",
      "Best Adj Error:  10.0\n",
      "Average Adj Dist Error:  18.44\n"
     ]
    },
    {
     "name": "stderr",
     "output_type": "stream",
     "text": [
      " 27%|██▋       | 27/100 [01:04<02:53,  2.37s/it]"
     ]
    },
    {
     "name": "stdout",
     "output_type": "stream",
     "text": [
      "extreme\n",
      "Best Dist:  0.10348951399936\n",
      "Average Dist:  0.15279841315072193\n",
      "Best Adj Error:  10.0\n",
      "Average Adj Dist Error:  17.65\n"
     ]
    },
    {
     "name": "stderr",
     "output_type": "stream",
     "text": [
      " 28%|██▊       | 28/100 [01:06<02:49,  2.35s/it]"
     ]
    },
    {
     "name": "stdout",
     "output_type": "stream",
     "text": [
      "extreme\n",
      "Best Dist:  0.10348951399936\n",
      "Average Dist:  0.1697344500784104\n",
      "Best Adj Error:  10.0\n",
      "Average Adj Dist Error:  17.31\n"
     ]
    },
    {
     "name": "stderr",
     "output_type": "stream",
     "text": [
      " 29%|██▉       | 29/100 [01:08<02:46,  2.34s/it]"
     ]
    },
    {
     "name": "stdout",
     "output_type": "stream",
     "text": [
      "extreme\n",
      "Best Dist:  0.10348951399936\n",
      "Average Dist:  0.13819933696206532\n",
      "Best Adj Error:  10.0\n",
      "Average Adj Dist Error:  15.74\n"
     ]
    },
    {
     "name": "stderr",
     "output_type": "stream",
     "text": [
      " 30%|███       | 30/100 [01:11<02:43,  2.33s/it]"
     ]
    },
    {
     "name": "stdout",
     "output_type": "stream",
     "text": [
      "extreme\n",
      "Best Dist:  0.10348951399936\n",
      "Average Dist:  0.12729644935589263\n",
      "Best Adj Error:  10.0\n",
      "Average Adj Dist Error:  13.39\n"
     ]
    },
    {
     "name": "stderr",
     "output_type": "stream",
     "text": [
      " 31%|███       | 31/100 [01:13<02:43,  2.37s/it]"
     ]
    },
    {
     "name": "stdout",
     "output_type": "stream",
     "text": [
      "extreme\n",
      "Best Dist:  0.10348951399936\n",
      "Average Dist:  0.29032880060213156\n",
      "Best Adj Error:  10.0\n",
      "Average Adj Dist Error:  15.9\n"
     ]
    },
    {
     "name": "stderr",
     "output_type": "stream",
     "text": [
      " 32%|███▏      | 32/100 [01:15<02:38,  2.33s/it]"
     ]
    },
    {
     "name": "stdout",
     "output_type": "stream",
     "text": [
      "extreme\n",
      "Best Dist:  0.08598087521180417\n",
      "Average Dist:  0.18607789235810052\n",
      "Best Adj Error:  12.0\n",
      "Average Adj Dist Error:  14.68\n"
     ]
    },
    {
     "name": "stderr",
     "output_type": "stream",
     "text": [
      " 33%|███▎      | 33/100 [01:17<02:34,  2.31s/it]"
     ]
    },
    {
     "name": "stdout",
     "output_type": "stream",
     "text": [
      "extreme\n",
      "Best Dist:  0.08598087521180417\n",
      "Average Dist:  0.19561253547448615\n",
      "Best Adj Error:  12.0\n",
      "Average Adj Dist Error:  14.06\n"
     ]
    },
    {
     "name": "stderr",
     "output_type": "stream",
     "text": [
      " 34%|███▍      | 34/100 [01:20<02:33,  2.32s/it]"
     ]
    },
    {
     "name": "stdout",
     "output_type": "stream",
     "text": [
      "extreme\n",
      "Best Dist:  0.08598087521180417\n",
      "Average Dist:  0.1702118891492557\n",
      "Best Adj Error:  12.0\n",
      "Average Adj Dist Error:  13.28\n"
     ]
    },
    {
     "name": "stderr",
     "output_type": "stream",
     "text": [
      " 35%|███▌      | 35/100 [01:22<02:29,  2.30s/it]"
     ]
    },
    {
     "name": "stdout",
     "output_type": "stream",
     "text": [
      "extreme\n",
      "Best Dist:  0.08598087521180417\n",
      "Average Dist:  0.13997130628695323\n",
      "Best Adj Error:  12.0\n",
      "Average Adj Dist Error:  10.85\n"
     ]
    },
    {
     "name": "stderr",
     "output_type": "stream",
     "text": [
      " 36%|███▌      | 36/100 [01:24<02:25,  2.27s/it]"
     ]
    },
    {
     "name": "stdout",
     "output_type": "stream",
     "text": [
      "extreme\n",
      "Best Dist:  0.08598087521180417\n",
      "Average Dist:  0.16324098226438402\n",
      "Best Adj Error:  12.0\n",
      "Average Adj Dist Error:  10.47\n"
     ]
    },
    {
     "name": "stderr",
     "output_type": "stream",
     "text": [
      " 37%|███▋      | 37/100 [01:27<02:22,  2.26s/it]"
     ]
    },
    {
     "name": "stdout",
     "output_type": "stream",
     "text": [
      "extreme\n",
      "Best Dist:  0.08598087521180417\n",
      "Average Dist:  0.12973063083917313\n",
      "Best Adj Error:  12.0\n",
      "Average Adj Dist Error:  10.32\n"
     ]
    },
    {
     "name": "stderr",
     "output_type": "stream",
     "text": [
      " 38%|███▊      | 38/100 [01:29<02:19,  2.25s/it]"
     ]
    },
    {
     "name": "stdout",
     "output_type": "stream",
     "text": [
      "extreme\n",
      "Best Dist:  0.0806587671998746\n",
      "Average Dist:  0.10442779922898968\n",
      "Best Adj Error:  4.0\n",
      "Average Adj Dist Error:  10.09\n"
     ]
    },
    {
     "name": "stderr",
     "output_type": "stream",
     "text": [
      " 39%|███▉      | 39/100 [01:31<02:17,  2.25s/it]"
     ]
    },
    {
     "name": "stdout",
     "output_type": "stream",
     "text": [
      "extreme\n",
      "Best Dist:  0.0806587671998746\n",
      "Average Dist:  0.12414983462851258\n",
      "Best Adj Error:  4.0\n",
      "Average Adj Dist Error:  10.42\n"
     ]
    },
    {
     "name": "stderr",
     "output_type": "stream",
     "text": [
      " 40%|████      | 40/100 [01:33<02:16,  2.27s/it]"
     ]
    },
    {
     "name": "stdout",
     "output_type": "stream",
     "text": [
      "extreme\n",
      "Best Dist:  0.07536344192650496\n",
      "Average Dist:  0.15924600569614306\n",
      "Best Adj Error:  10.0\n",
      "Average Adj Dist Error:  10.96\n"
     ]
    },
    {
     "name": "stderr",
     "output_type": "stream",
     "text": [
      " 41%|████      | 41/100 [01:36<02:16,  2.32s/it]"
     ]
    },
    {
     "name": "stdout",
     "output_type": "stream",
     "text": [
      "extreme\n",
      "Best Dist:  0.07536344192650496\n",
      "Average Dist:  0.11874636783059468\n",
      "Best Adj Error:  10.0\n",
      "Average Adj Dist Error:  9.81\n"
     ]
    },
    {
     "name": "stderr",
     "output_type": "stream",
     "text": [
      " 42%|████▏     | 42/100 [01:38<02:15,  2.34s/it]"
     ]
    },
    {
     "name": "stdout",
     "output_type": "stream",
     "text": [
      "extreme\n",
      "Best Dist:  0.07536344192650496\n",
      "Average Dist:  0.10985054730839636\n",
      "Best Adj Error:  10.0\n",
      "Average Adj Dist Error:  8.93\n"
     ]
    },
    {
     "name": "stderr",
     "output_type": "stream",
     "text": [
      " 43%|████▎     | 43/100 [01:40<02:12,  2.32s/it]"
     ]
    },
    {
     "name": "stdout",
     "output_type": "stream",
     "text": [
      "extreme\n",
      "Best Dist:  0.07536344192650496\n",
      "Average Dist:  0.09987719829105217\n",
      "Best Adj Error:  10.0\n",
      "Average Adj Dist Error:  8.69\n"
     ]
    },
    {
     "name": "stderr",
     "output_type": "stream",
     "text": [
      " 44%|████▍     | 44/100 [01:43<02:11,  2.34s/it]"
     ]
    },
    {
     "name": "stdout",
     "output_type": "stream",
     "text": [
      "extreme\n",
      "Best Dist:  0.07536344192650496\n",
      "Average Dist:  0.10503015478400285\n",
      "Best Adj Error:  10.0\n",
      "Average Adj Dist Error:  8.3\n"
     ]
    },
    {
     "name": "stderr",
     "output_type": "stream",
     "text": [
      " 45%|████▌     | 45/100 [01:45<02:07,  2.33s/it]"
     ]
    },
    {
     "name": "stdout",
     "output_type": "stream",
     "text": [
      "extreme\n",
      "Best Dist:  0.07462219014477242\n",
      "Average Dist:  0.08740595892518259\n",
      "Best Adj Error:  4.0\n",
      "Average Adj Dist Error:  8.12\n"
     ]
    },
    {
     "name": "stderr",
     "output_type": "stream",
     "text": [
      " 46%|████▌     | 46/100 [01:47<02:06,  2.33s/it]"
     ]
    },
    {
     "name": "stdout",
     "output_type": "stream",
     "text": [
      "extreme\n",
      "Best Dist:  0.07462219014477242\n",
      "Average Dist:  0.10055154744814303\n",
      "Best Adj Error:  4.0\n",
      "Average Adj Dist Error:  4.55\n"
     ]
    },
    {
     "name": "stderr",
     "output_type": "stream",
     "text": [
      " 47%|████▋     | 47/100 [01:50<02:02,  2.32s/it]"
     ]
    },
    {
     "name": "stdout",
     "output_type": "stream",
     "text": [
      "extreme\n",
      "Best Dist:  0.07322387405973545\n",
      "Average Dist:  0.15938723717208853\n",
      "Best Adj Error:  2.0\n",
      "Average Adj Dist Error:  5.37\n"
     ]
    },
    {
     "name": "stderr",
     "output_type": "stream",
     "text": [
      " 48%|████▊     | 48/100 [01:52<01:59,  2.30s/it]"
     ]
    },
    {
     "name": "stdout",
     "output_type": "stream",
     "text": [
      "extreme\n",
      "Best Dist:  0.07322387405973545\n",
      "Average Dist:  0.11250859283409842\n",
      "Best Adj Error:  2.0\n",
      "Average Adj Dist Error:  4.37\n"
     ]
    },
    {
     "name": "stderr",
     "output_type": "stream",
     "text": [
      " 49%|████▉     | 49/100 [01:54<01:56,  2.29s/it]"
     ]
    },
    {
     "name": "stdout",
     "output_type": "stream",
     "text": [
      "extreme\n",
      "Best Dist:  0.07322387405973545\n",
      "Average Dist:  0.10200707281911278\n",
      "Best Adj Error:  2.0\n",
      "Average Adj Dist Error:  4.2\n"
     ]
    },
    {
     "name": "stderr",
     "output_type": "stream",
     "text": [
      " 50%|█████     | 50/100 [01:57<01:55,  2.31s/it]"
     ]
    },
    {
     "name": "stdout",
     "output_type": "stream",
     "text": [
      "extreme\n",
      "Best Dist:  0.07322387405973545\n",
      "Average Dist:  0.1359375635628467\n",
      "Best Adj Error:  2.0\n",
      "Average Adj Dist Error:  4.48\n"
     ]
    },
    {
     "name": "stderr",
     "output_type": "stream",
     "text": [
      " 51%|█████     | 51/100 [01:59<01:54,  2.33s/it]"
     ]
    },
    {
     "name": "stdout",
     "output_type": "stream",
     "text": [
      "extreme\n"
     ]
    },
    {
     "name": "stderr",
     "output_type": "stream",
     "text": [
      " 51%|█████     | 51/100 [02:00<01:55,  2.36s/it]"
     ]
    },
    {
     "name": "stdout",
     "output_type": "stream",
     "text": [
      "Best Dist:  0.0\n",
      "Average Dist:  0.17153115110041672\n",
      "Best Adj Error:  0.0\n",
      "Average Adj Dist Error:  4.7\n",
      "fit individual found\n"
     ]
    },
    {
     "name": "stderr",
     "output_type": "stream",
     "text": [
      "\n",
      "  0%|          | 0/100 [00:00<?, ?it/s]"
     ]
    },
    {
     "name": "stdout",
     "output_type": "stream",
     "text": [
      "Best Dist:  0.29886644782426897\n",
      "Average Dist:  0.5401563350438602\n",
      "Best Adj Error:  8.0\n",
      "Average Adj Dist Error:  27.48\n"
     ]
    },
    {
     "name": "stderr",
     "output_type": "stream",
     "text": [
      "  1%|          | 1/100 [00:02<04:14,  2.57s/it]"
     ]
    },
    {
     "name": "stdout",
     "output_type": "stream",
     "text": [
      "Best Dist:  0.2317710430453459\n",
      "Average Dist:  0.46780812916615744\n",
      "Best Adj Error:  12.0\n",
      "Average Adj Dist Error:  17.92\n"
     ]
    },
    {
     "name": "stderr",
     "output_type": "stream",
     "text": [
      "  2%|▏         | 2/100 [00:04<03:57,  2.42s/it]"
     ]
    },
    {
     "name": "stdout",
     "output_type": "stream",
     "text": [
      "Best Dist:  0.19707559423501986\n",
      "Average Dist:  0.41153147436320553\n",
      "Best Adj Error:  12.0\n",
      "Average Adj Dist Error:  12.45\n"
     ]
    },
    {
     "name": "stderr",
     "output_type": "stream",
     "text": [
      "  3%|▎         | 3/100 [00:07<03:52,  2.39s/it]"
     ]
    },
    {
     "name": "stdout",
     "output_type": "stream",
     "text": [
      "Best Dist:  0.19707559423501986\n",
      "Average Dist:  0.3749138390968939\n",
      "Best Adj Error:  12.0\n",
      "Average Adj Dist Error:  9.7\n"
     ]
    },
    {
     "name": "stderr",
     "output_type": "stream",
     "text": [
      "  4%|▍         | 4/100 [00:09<03:53,  2.43s/it]"
     ]
    },
    {
     "name": "stdout",
     "output_type": "stream",
     "text": [
      "Best Dist:  0.1970755942350133\n",
      "Average Dist:  0.35658126662449335\n",
      "Best Adj Error:  12.0\n",
      "Average Adj Dist Error:  10.64\n"
     ]
    },
    {
     "name": "stderr",
     "output_type": "stream",
     "text": [
      "  5%|▌         | 5/100 [00:12<03:47,  2.40s/it]"
     ]
    },
    {
     "name": "stdout",
     "output_type": "stream",
     "text": [
      "Best Dist:  0.1970755942350133\n",
      "Average Dist:  0.38234889401485966\n",
      "Best Adj Error:  12.0\n",
      "Average Adj Dist Error:  12.26\n"
     ]
    },
    {
     "name": "stderr",
     "output_type": "stream",
     "text": [
      "  6%|▌         | 6/100 [00:14<03:47,  2.42s/it]"
     ]
    },
    {
     "name": "stdout",
     "output_type": "stream",
     "text": [
      "Best Dist:  0.1970755942350133\n",
      "Average Dist:  0.34740303046566723\n",
      "Best Adj Error:  12.0\n",
      "Average Adj Dist Error:  11.41\n"
     ]
    },
    {
     "name": "stderr",
     "output_type": "stream",
     "text": [
      "  7%|▋         | 7/100 [00:17<03:48,  2.46s/it]"
     ]
    },
    {
     "name": "stdout",
     "output_type": "stream",
     "text": [
      "extreme\n",
      "Best Dist:  0.0995879290215409\n",
      "Average Dist:  0.3184053320446196\n",
      "Best Adj Error:  8.0\n",
      "Average Adj Dist Error:  10.64\n"
     ]
    },
    {
     "name": "stderr",
     "output_type": "stream",
     "text": [
      "  8%|▊         | 8/100 [00:19<03:43,  2.43s/it]"
     ]
    },
    {
     "name": "stdout",
     "output_type": "stream",
     "text": [
      "extreme\n",
      "Best Dist:  0.0995879290215409\n",
      "Average Dist:  0.32211215822614725\n",
      "Best Adj Error:  8.0\n",
      "Average Adj Dist Error:  10.77\n"
     ]
    },
    {
     "name": "stderr",
     "output_type": "stream",
     "text": [
      "  9%|▉         | 9/100 [00:21<03:37,  2.39s/it]"
     ]
    },
    {
     "name": "stdout",
     "output_type": "stream",
     "text": [
      "extreme\n",
      "Best Dist:  0.0995879290215409\n",
      "Average Dist:  0.3226432561319731\n",
      "Best Adj Error:  8.0\n",
      "Average Adj Dist Error:  11.59\n"
     ]
    },
    {
     "name": "stderr",
     "output_type": "stream",
     "text": [
      " 10%|█         | 10/100 [00:24<03:33,  2.37s/it]"
     ]
    },
    {
     "name": "stdout",
     "output_type": "stream",
     "text": [
      "extreme\n",
      "Best Dist:  0.0995879290215409\n",
      "Average Dist:  0.3205303748881098\n",
      "Best Adj Error:  8.0\n",
      "Average Adj Dist Error:  11.43\n"
     ]
    },
    {
     "name": "stderr",
     "output_type": "stream",
     "text": [
      " 11%|█         | 11/100 [00:26<03:32,  2.38s/it]"
     ]
    },
    {
     "name": "stdout",
     "output_type": "stream",
     "text": [
      "extreme\n",
      "Best Dist:  0.0995879290215409\n",
      "Average Dist:  0.276243123378993\n",
      "Best Adj Error:  8.0\n",
      "Average Adj Dist Error:  10.84\n"
     ]
    },
    {
     "name": "stderr",
     "output_type": "stream",
     "text": [
      " 12%|█▏        | 12/100 [00:28<03:27,  2.36s/it]"
     ]
    },
    {
     "name": "stdout",
     "output_type": "stream",
     "text": [
      "extreme\n",
      "Best Dist:  0.0995879290215409\n",
      "Average Dist:  0.26416449934793246\n",
      "Best Adj Error:  8.0\n",
      "Average Adj Dist Error:  10.81\n"
     ]
    },
    {
     "name": "stderr",
     "output_type": "stream",
     "text": [
      " 13%|█▎        | 13/100 [00:31<03:24,  2.35s/it]"
     ]
    },
    {
     "name": "stdout",
     "output_type": "stream",
     "text": [
      "extreme\n",
      "Best Dist:  0.0995879290215409\n",
      "Average Dist:  0.24414221084137375\n",
      "Best Adj Error:  8.0\n",
      "Average Adj Dist Error:  11.01\n"
     ]
    },
    {
     "name": "stderr",
     "output_type": "stream",
     "text": [
      " 14%|█▍        | 14/100 [00:33<03:23,  2.36s/it]"
     ]
    },
    {
     "name": "stdout",
     "output_type": "stream",
     "text": [
      "extreme\n",
      "Best Dist:  0.0995879290215409\n",
      "Average Dist:  0.21861012970246943\n",
      "Best Adj Error:  8.0\n",
      "Average Adj Dist Error:  10.88\n"
     ]
    },
    {
     "name": "stderr",
     "output_type": "stream",
     "text": [
      " 15%|█▌        | 15/100 [00:35<03:23,  2.39s/it]"
     ]
    },
    {
     "name": "stdout",
     "output_type": "stream",
     "text": [
      "extreme\n",
      "Best Dist:  0.0995879290215409\n",
      "Average Dist:  0.20943963968846602\n",
      "Best Adj Error:  8.0\n",
      "Average Adj Dist Error:  11.68\n"
     ]
    },
    {
     "name": "stderr",
     "output_type": "stream",
     "text": [
      " 16%|█▌        | 16/100 [00:38<03:22,  2.41s/it]"
     ]
    },
    {
     "name": "stdout",
     "output_type": "stream",
     "text": [
      "extreme\n",
      "Best Dist:  0.0995879290215409\n",
      "Average Dist:  0.16969162915078329\n",
      "Best Adj Error:  8.0\n",
      "Average Adj Dist Error:  10.96\n"
     ]
    },
    {
     "name": "stderr",
     "output_type": "stream",
     "text": [
      " 17%|█▋        | 17/100 [00:40<03:22,  2.44s/it]"
     ]
    },
    {
     "name": "stdout",
     "output_type": "stream",
     "text": [
      "extreme\n",
      "Best Dist:  0.0995879290215409\n",
      "Average Dist:  0.19394933813826373\n",
      "Best Adj Error:  8.0\n",
      "Average Adj Dist Error:  10.25\n"
     ]
    },
    {
     "name": "stderr",
     "output_type": "stream",
     "text": [
      " 18%|█▊        | 18/100 [00:43<03:18,  2.42s/it]"
     ]
    },
    {
     "name": "stdout",
     "output_type": "stream",
     "text": [
      "extreme\n",
      "Best Dist:  0.0995879290215409\n",
      "Average Dist:  0.2249901431956489\n",
      "Best Adj Error:  8.0\n",
      "Average Adj Dist Error:  9.49\n"
     ]
    },
    {
     "name": "stderr",
     "output_type": "stream",
     "text": [
      " 19%|█▉        | 19/100 [00:45<03:16,  2.43s/it]"
     ]
    },
    {
     "name": "stdout",
     "output_type": "stream",
     "text": [
      "extreme\n",
      "Best Dist:  0.0995879290215409\n",
      "Average Dist:  0.15715116882216404\n",
      "Best Adj Error:  8.0\n",
      "Average Adj Dist Error:  8.55\n"
     ]
    },
    {
     "name": "stderr",
     "output_type": "stream",
     "text": [
      " 20%|██        | 20/100 [00:48<03:12,  2.40s/it]"
     ]
    },
    {
     "name": "stdout",
     "output_type": "stream",
     "text": [
      "extreme\n",
      "Best Dist:  0.0995879290215409\n",
      "Average Dist:  0.1382846995068223\n",
      "Best Adj Error:  8.0\n",
      "Average Adj Dist Error:  8.23\n"
     ]
    },
    {
     "name": "stderr",
     "output_type": "stream",
     "text": [
      " 21%|██        | 21/100 [00:50<03:08,  2.38s/it]"
     ]
    },
    {
     "name": "stdout",
     "output_type": "stream",
     "text": [
      "extreme\n",
      "Best Dist:  0.0995879290215409\n",
      "Average Dist:  0.1619586700891613\n",
      "Best Adj Error:  8.0\n",
      "Average Adj Dist Error:  8.5\n",
      "extreme\n"
     ]
    },
    {
     "name": "stderr",
     "output_type": "stream",
     "text": [
      " 22%|██▏       | 22/100 [00:54<03:40,  2.83s/it]"
     ]
    },
    {
     "name": "stdout",
     "output_type": "stream",
     "text": [
      "Best Dist:  0.0995879290215409\n",
      "Average Dist:  0.517891755075471\n",
      "Best Adj Error:  8.0\n",
      "Average Adj Dist Error:  33.16\n",
      "extreme\n"
     ]
    },
    {
     "name": "stderr",
     "output_type": "stream",
     "text": [
      " 23%|██▎       | 23/100 [00:58<04:03,  3.16s/it]"
     ]
    },
    {
     "name": "stdout",
     "output_type": "stream",
     "text": [
      "Best Dist:  0.0995879290215409\n",
      "Average Dist:  0.5148650495514061\n",
      "Best Adj Error:  8.0\n",
      "Average Adj Dist Error:  33.05\n",
      "extreme\n"
     ]
    },
    {
     "name": "stderr",
     "output_type": "stream",
     "text": [
      " 24%|██▍       | 24/100 [01:02<04:15,  3.36s/it]"
     ]
    },
    {
     "name": "stdout",
     "output_type": "stream",
     "text": [
      "Best Dist:  0.0995879290215409\n",
      "Average Dist:  0.5220535947266437\n",
      "Best Adj Error:  8.0\n",
      "Average Adj Dist Error:  33.54\n",
      "extreme\n"
     ]
    },
    {
     "name": "stderr",
     "output_type": "stream",
     "text": [
      " 25%|██▌       | 25/100 [01:05<04:23,  3.51s/it]"
     ]
    },
    {
     "name": "stdout",
     "output_type": "stream",
     "text": [
      "Best Dist:  0.0995879290215409\n",
      "Average Dist:  0.5154637844775345\n",
      "Best Adj Error:  8.0\n",
      "Average Adj Dist Error:  33.03\n",
      "extreme\n"
     ]
    },
    {
     "name": "stderr",
     "output_type": "stream",
     "text": [
      " 26%|██▌       | 26/100 [01:10<04:32,  3.68s/it]"
     ]
    },
    {
     "name": "stdout",
     "output_type": "stream",
     "text": [
      "new injection\n",
      "Best Dist:  0.0995879290215409\n",
      "Average Dist:  0.521081852221753\n",
      "Best Adj Error:  8.0\n",
      "Average Adj Dist Error:  34.01\n",
      "extreme\n"
     ]
    },
    {
     "name": "stderr",
     "output_type": "stream",
     "text": [
      " 27%|██▋       | 27/100 [01:14<04:36,  3.79s/it]"
     ]
    },
    {
     "name": "stdout",
     "output_type": "stream",
     "text": [
      "Best Dist:  0.0995879290215409\n",
      "Average Dist:  0.5147744437762014\n",
      "Best Adj Error:  8.0\n",
      "Average Adj Dist Error:  32.78\n",
      "extreme\n"
     ]
    },
    {
     "name": "stderr",
     "output_type": "stream",
     "text": [
      " 28%|██▊       | 28/100 [01:18<04:36,  3.84s/it]"
     ]
    },
    {
     "name": "stdout",
     "output_type": "stream",
     "text": [
      "Best Dist:  0.0995879290215409\n",
      "Average Dist:  0.5221952014952982\n",
      "Best Adj Error:  8.0\n",
      "Average Adj Dist Error:  33.35\n",
      "extreme\n"
     ]
    },
    {
     "name": "stderr",
     "output_type": "stream",
     "text": [
      " 29%|██▉       | 29/100 [01:21<04:32,  3.84s/it]"
     ]
    },
    {
     "name": "stdout",
     "output_type": "stream",
     "text": [
      "Best Dist:  0.0995879290215409\n",
      "Average Dist:  0.5216369933760316\n",
      "Best Adj Error:  8.0\n",
      "Average Adj Dist Error:  33.24\n",
      "extreme\n"
     ]
    },
    {
     "name": "stderr",
     "output_type": "stream",
     "text": [
      " 30%|███       | 30/100 [01:25<04:29,  3.86s/it]"
     ]
    },
    {
     "name": "stdout",
     "output_type": "stream",
     "text": [
      "Best Dist:  0.0995879290215409\n",
      "Average Dist:  0.5240729178930589\n",
      "Best Adj Error:  8.0\n",
      "Average Adj Dist Error:  33.3\n",
      "extreme\n"
     ]
    },
    {
     "name": "stderr",
     "output_type": "stream",
     "text": [
      " 31%|███       | 31/100 [01:29<04:28,  3.89s/it]"
     ]
    },
    {
     "name": "stdout",
     "output_type": "stream",
     "text": [
      "new injection\n",
      "Best Dist:  0.0995879290215409\n",
      "Average Dist:  0.5158451115962345\n",
      "Best Adj Error:  8.0\n",
      "Average Adj Dist Error:  33.67\n",
      "extreme\n"
     ]
    },
    {
     "name": "stderr",
     "output_type": "stream",
     "text": [
      " 32%|███▏      | 32/100 [01:33<04:25,  3.91s/it]"
     ]
    },
    {
     "name": "stdout",
     "output_type": "stream",
     "text": [
      "Best Dist:  0.0995879290215409\n",
      "Average Dist:  0.5192646917925628\n",
      "Best Adj Error:  8.0\n",
      "Average Adj Dist Error:  33.18\n",
      "extreme\n"
     ]
    },
    {
     "name": "stderr",
     "output_type": "stream",
     "text": [
      " 33%|███▎      | 33/100 [01:37<04:23,  3.94s/it]"
     ]
    },
    {
     "name": "stdout",
     "output_type": "stream",
     "text": [
      "Best Dist:  0.0995879290215409\n",
      "Average Dist:  0.5141829261865388\n",
      "Best Adj Error:  8.0\n",
      "Average Adj Dist Error:  32.7\n",
      "extreme\n"
     ]
    },
    {
     "name": "stderr",
     "output_type": "stream",
     "text": [
      " 34%|███▍      | 34/100 [01:41<04:18,  3.91s/it]"
     ]
    },
    {
     "name": "stdout",
     "output_type": "stream",
     "text": [
      "Best Dist:  0.0995879290215409\n",
      "Average Dist:  0.5185780308738862\n",
      "Best Adj Error:  8.0\n",
      "Average Adj Dist Error:  33.59\n",
      "extreme\n"
     ]
    },
    {
     "name": "stderr",
     "output_type": "stream",
     "text": [
      " 35%|███▌      | 35/100 [01:45<04:17,  3.97s/it]"
     ]
    },
    {
     "name": "stdout",
     "output_type": "stream",
     "text": [
      "Best Dist:  0.0995879290215409\n",
      "Average Dist:  0.5193201458316693\n",
      "Best Adj Error:  8.0\n",
      "Average Adj Dist Error:  32.99\n",
      "extreme\n"
     ]
    },
    {
     "name": "stderr",
     "output_type": "stream",
     "text": [
      " 36%|███▌      | 36/100 [01:49<04:13,  3.96s/it]"
     ]
    },
    {
     "name": "stdout",
     "output_type": "stream",
     "text": [
      "new injection\n",
      "Best Dist:  0.0995879290215409\n",
      "Average Dist:  0.5311964142346558\n",
      "Best Adj Error:  8.0\n",
      "Average Adj Dist Error:  34.86\n",
      "extreme\n"
     ]
    },
    {
     "name": "stderr",
     "output_type": "stream",
     "text": [
      " 37%|███▋      | 37/100 [01:53<04:10,  3.97s/it]"
     ]
    },
    {
     "name": "stdout",
     "output_type": "stream",
     "text": [
      "Best Dist:  0.0995879290215409\n",
      "Average Dist:  0.5214692304242263\n",
      "Best Adj Error:  8.0\n",
      "Average Adj Dist Error:  33.15\n",
      "extreme\n"
     ]
    },
    {
     "name": "stderr",
     "output_type": "stream",
     "text": [
      " 38%|███▊      | 38/100 [01:57<04:05,  3.95s/it]"
     ]
    },
    {
     "name": "stdout",
     "output_type": "stream",
     "text": [
      "Best Dist:  0.0995879290215409\n",
      "Average Dist:  0.5206155976740717\n",
      "Best Adj Error:  8.0\n",
      "Average Adj Dist Error:  33.49\n",
      "extreme\n"
     ]
    },
    {
     "name": "stderr",
     "output_type": "stream",
     "text": [
      " 39%|███▉      | 39/100 [02:01<04:00,  3.95s/it]"
     ]
    },
    {
     "name": "stdout",
     "output_type": "stream",
     "text": [
      "Best Dist:  0.0995879290215409\n",
      "Average Dist:  0.5154858577430765\n",
      "Best Adj Error:  8.0\n",
      "Average Adj Dist Error:  33.12\n",
      "extreme\n"
     ]
    },
    {
     "name": "stderr",
     "output_type": "stream",
     "text": [
      " 40%|████      | 40/100 [02:05<03:57,  3.95s/it]"
     ]
    },
    {
     "name": "stdout",
     "output_type": "stream",
     "text": [
      "Best Dist:  0.0995879290215409\n",
      "Average Dist:  0.5191402863349388\n",
      "Best Adj Error:  8.0\n",
      "Average Adj Dist Error:  32.74\n",
      "extreme\n"
     ]
    },
    {
     "name": "stderr",
     "output_type": "stream",
     "text": [
      " 41%|████      | 41/100 [02:09<03:53,  3.95s/it]"
     ]
    },
    {
     "name": "stdout",
     "output_type": "stream",
     "text": [
      "new injection\n",
      "Best Dist:  0.0995879290215409\n",
      "Average Dist:  0.5276628856554945\n",
      "Best Adj Error:  8.0\n",
      "Average Adj Dist Error:  35.37\n",
      "extreme\n"
     ]
    },
    {
     "name": "stderr",
     "output_type": "stream",
     "text": [
      " 42%|████▏     | 42/100 [02:13<03:47,  3.92s/it]"
     ]
    },
    {
     "name": "stdout",
     "output_type": "stream",
     "text": [
      "Best Dist:  0.0995879290215409\n",
      "Average Dist:  0.5129462877740361\n",
      "Best Adj Error:  8.0\n",
      "Average Adj Dist Error:  33.21\n",
      "extreme\n"
     ]
    },
    {
     "name": "stderr",
     "output_type": "stream",
     "text": [
      " 43%|████▎     | 43/100 [02:17<03:46,  3.97s/it]"
     ]
    },
    {
     "name": "stdout",
     "output_type": "stream",
     "text": [
      "Best Dist:  0.0995879290215409\n",
      "Average Dist:  0.5164230685224667\n",
      "Best Adj Error:  8.0\n",
      "Average Adj Dist Error:  33.05\n",
      "extreme\n"
     ]
    },
    {
     "name": "stderr",
     "output_type": "stream",
     "text": [
      " 44%|████▍     | 44/100 [02:21<03:41,  3.96s/it]"
     ]
    },
    {
     "name": "stdout",
     "output_type": "stream",
     "text": [
      "Best Dist:  0.0995879290215409\n",
      "Average Dist:  0.5183176282776525\n",
      "Best Adj Error:  8.0\n",
      "Average Adj Dist Error:  32.52\n",
      "extreme\n"
     ]
    },
    {
     "name": "stderr",
     "output_type": "stream",
     "text": [
      " 45%|████▌     | 45/100 [02:25<03:37,  3.96s/it]"
     ]
    },
    {
     "name": "stdout",
     "output_type": "stream",
     "text": [
      "Best Dist:  0.0995879290215409\n",
      "Average Dist:  0.5120895269221981\n",
      "Best Adj Error:  8.0\n",
      "Average Adj Dist Error:  32.39\n",
      "extreme\n"
     ]
    },
    {
     "name": "stderr",
     "output_type": "stream",
     "text": [
      " 46%|████▌     | 46/100 [02:29<03:34,  3.96s/it]"
     ]
    },
    {
     "name": "stdout",
     "output_type": "stream",
     "text": [
      "new injection\n",
      "Best Dist:  0.0995879290215409\n",
      "Average Dist:  0.5063144083770708\n",
      "Best Adj Error:  8.0\n",
      "Average Adj Dist Error:  32.81\n",
      "extreme\n"
     ]
    },
    {
     "name": "stderr",
     "output_type": "stream",
     "text": [
      " 47%|████▋     | 47/100 [02:33<03:31,  3.99s/it]"
     ]
    },
    {
     "name": "stdout",
     "output_type": "stream",
     "text": [
      "Best Dist:  0.0995879290215409\n",
      "Average Dist:  0.5273757749347235\n",
      "Best Adj Error:  8.0\n",
      "Average Adj Dist Error:  33.35\n",
      "extreme\n"
     ]
    },
    {
     "name": "stderr",
     "output_type": "stream",
     "text": [
      " 48%|████▊     | 48/100 [02:37<03:26,  3.98s/it]"
     ]
    },
    {
     "name": "stdout",
     "output_type": "stream",
     "text": [
      "Best Dist:  0.0995879290215409\n",
      "Average Dist:  0.5099279114218056\n",
      "Best Adj Error:  8.0\n",
      "Average Adj Dist Error:  32.51\n",
      "extreme\n"
     ]
    },
    {
     "name": "stderr",
     "output_type": "stream",
     "text": [
      " 49%|████▉     | 49/100 [02:41<03:21,  3.95s/it]"
     ]
    },
    {
     "name": "stdout",
     "output_type": "stream",
     "text": [
      "Best Dist:  0.0995879290215409\n",
      "Average Dist:  0.5159263915285001\n",
      "Best Adj Error:  8.0\n",
      "Average Adj Dist Error:  32.91\n",
      "extreme\n"
     ]
    },
    {
     "name": "stderr",
     "output_type": "stream",
     "text": [
      " 50%|█████     | 50/100 [02:44<03:15,  3.92s/it]"
     ]
    },
    {
     "name": "stdout",
     "output_type": "stream",
     "text": [
      "Best Dist:  0.0995879290215409\n",
      "Average Dist:  0.5128669533899007\n",
      "Best Adj Error:  8.0\n",
      "Average Adj Dist Error:  32.53\n",
      "extreme\n"
     ]
    },
    {
     "name": "stderr",
     "output_type": "stream",
     "text": [
      " 51%|█████     | 51/100 [02:48<03:12,  3.93s/it]"
     ]
    },
    {
     "name": "stdout",
     "output_type": "stream",
     "text": [
      "new injection\n",
      "Best Dist:  0.0995879290215409\n",
      "Average Dist:  0.5221123005161771\n",
      "Best Adj Error:  8.0\n",
      "Average Adj Dist Error:  34.04\n",
      "extreme\n"
     ]
    },
    {
     "name": "stderr",
     "output_type": "stream",
     "text": [
      " 52%|█████▏    | 52/100 [02:52<03:08,  3.93s/it]"
     ]
    },
    {
     "name": "stdout",
     "output_type": "stream",
     "text": [
      "Best Dist:  0.0995879290215409\n",
      "Average Dist:  0.5116929597455301\n",
      "Best Adj Error:  8.0\n",
      "Average Adj Dist Error:  33.27\n",
      "extreme\n"
     ]
    },
    {
     "name": "stderr",
     "output_type": "stream",
     "text": [
      " 53%|█████▎    | 53/100 [02:56<03:03,  3.91s/it]"
     ]
    },
    {
     "name": "stdout",
     "output_type": "stream",
     "text": [
      "Best Dist:  0.0995879290215409\n",
      "Average Dist:  0.5209551141679404\n",
      "Best Adj Error:  8.0\n",
      "Average Adj Dist Error:  33.09\n",
      "extreme\n"
     ]
    },
    {
     "name": "stderr",
     "output_type": "stream",
     "text": [
      " 54%|█████▍    | 54/100 [03:00<02:59,  3.90s/it]"
     ]
    },
    {
     "name": "stdout",
     "output_type": "stream",
     "text": [
      "Best Dist:  0.0995879290215409\n",
      "Average Dist:  0.5183122864229595\n",
      "Best Adj Error:  8.0\n",
      "Average Adj Dist Error:  33.09\n",
      "extreme\n"
     ]
    },
    {
     "name": "stderr",
     "output_type": "stream",
     "text": [
      " 55%|█████▌    | 55/100 [03:04<02:56,  3.93s/it]"
     ]
    },
    {
     "name": "stdout",
     "output_type": "stream",
     "text": [
      "Best Dist:  0.0995879290215409\n",
      "Average Dist:  0.5149284381909944\n",
      "Best Adj Error:  8.0\n",
      "Average Adj Dist Error:  33.38\n",
      "extreme\n"
     ]
    },
    {
     "name": "stderr",
     "output_type": "stream",
     "text": [
      " 56%|█████▌    | 56/100 [03:08<02:51,  3.91s/it]"
     ]
    },
    {
     "name": "stdout",
     "output_type": "stream",
     "text": [
      "new injection\n",
      "Best Dist:  0.0995879290215409\n",
      "Average Dist:  0.5207998747826404\n",
      "Best Adj Error:  8.0\n",
      "Average Adj Dist Error:  33.29\n",
      "extreme\n"
     ]
    },
    {
     "name": "stderr",
     "output_type": "stream",
     "text": [
      " 57%|█████▋    | 57/100 [03:12<02:48,  3.92s/it]"
     ]
    },
    {
     "name": "stdout",
     "output_type": "stream",
     "text": [
      "Best Dist:  0.0995879290215409\n",
      "Average Dist:  0.5153797433310926\n",
      "Best Adj Error:  8.0\n",
      "Average Adj Dist Error:  33.01\n",
      "extreme\n"
     ]
    },
    {
     "name": "stderr",
     "output_type": "stream",
     "text": [
      " 58%|█████▊    | 58/100 [03:16<02:43,  3.89s/it]"
     ]
    },
    {
     "name": "stdout",
     "output_type": "stream",
     "text": [
      "Best Dist:  0.0995879290215409\n",
      "Average Dist:  0.5217576736965712\n",
      "Best Adj Error:  8.0\n",
      "Average Adj Dist Error:  33.6\n",
      "extreme\n"
     ]
    },
    {
     "name": "stderr",
     "output_type": "stream",
     "text": [
      " 59%|█████▉    | 59/100 [03:20<02:40,  3.91s/it]"
     ]
    },
    {
     "name": "stdout",
     "output_type": "stream",
     "text": [
      "Best Dist:  0.0995879290215409\n",
      "Average Dist:  0.5195647484721237\n",
      "Best Adj Error:  8.0\n",
      "Average Adj Dist Error:  33.35\n",
      "extreme\n"
     ]
    },
    {
     "name": "stderr",
     "output_type": "stream",
     "text": [
      " 60%|██████    | 60/100 [03:23<02:36,  3.91s/it]"
     ]
    },
    {
     "name": "stdout",
     "output_type": "stream",
     "text": [
      "Best Dist:  0.0995879290215409\n",
      "Average Dist:  0.5144828239133272\n",
      "Best Adj Error:  8.0\n",
      "Average Adj Dist Error:  33.2\n",
      "extreme\n"
     ]
    },
    {
     "name": "stderr",
     "output_type": "stream",
     "text": [
      " 61%|██████    | 61/100 [03:27<02:32,  3.91s/it]"
     ]
    },
    {
     "name": "stdout",
     "output_type": "stream",
     "text": [
      "new injection\n",
      "Best Dist:  0.0995879290215409\n",
      "Average Dist:  0.5178963059828786\n",
      "Best Adj Error:  8.0\n",
      "Average Adj Dist Error:  33.29\n",
      "extreme\n"
     ]
    },
    {
     "name": "stderr",
     "output_type": "stream",
     "text": [
      " 62%|██████▏   | 62/100 [03:31<02:29,  3.93s/it]"
     ]
    },
    {
     "name": "stdout",
     "output_type": "stream",
     "text": [
      "Best Dist:  0.0995879290215409\n",
      "Average Dist:  0.5153313191504261\n",
      "Best Adj Error:  8.0\n",
      "Average Adj Dist Error:  33.05\n",
      "extreme\n"
     ]
    },
    {
     "name": "stderr",
     "output_type": "stream",
     "text": [
      " 63%|██████▎   | 63/100 [03:35<02:25,  3.93s/it]"
     ]
    },
    {
     "name": "stdout",
     "output_type": "stream",
     "text": [
      "Best Dist:  0.0995879290215409\n",
      "Average Dist:  0.5138443748541901\n",
      "Best Adj Error:  8.0\n",
      "Average Adj Dist Error:  33.09\n",
      "extreme\n"
     ]
    },
    {
     "name": "stderr",
     "output_type": "stream",
     "text": [
      " 64%|██████▍   | 64/100 [03:39<02:22,  3.96s/it]"
     ]
    },
    {
     "name": "stdout",
     "output_type": "stream",
     "text": [
      "Best Dist:  0.0995879290215409\n",
      "Average Dist:  0.5076049135951909\n",
      "Best Adj Error:  8.0\n",
      "Average Adj Dist Error:  31.74\n",
      "extreme\n"
     ]
    },
    {
     "name": "stderr",
     "output_type": "stream",
     "text": [
      " 65%|██████▌   | 65/100 [03:43<02:17,  3.94s/it]"
     ]
    },
    {
     "name": "stdout",
     "output_type": "stream",
     "text": [
      "Best Dist:  0.0995879290215409\n",
      "Average Dist:  0.508119126436702\n",
      "Best Adj Error:  8.0\n",
      "Average Adj Dist Error:  32.41\n",
      "extreme\n"
     ]
    },
    {
     "name": "stderr",
     "output_type": "stream",
     "text": [
      " 66%|██████▌   | 66/100 [03:47<02:13,  3.92s/it]"
     ]
    },
    {
     "name": "stdout",
     "output_type": "stream",
     "text": [
      "new injection\n",
      "Best Dist:  0.0995879290215409\n",
      "Average Dist:  0.5185094225805393\n",
      "Best Adj Error:  8.0\n",
      "Average Adj Dist Error:  33.37\n",
      "extreme\n"
     ]
    },
    {
     "name": "stderr",
     "output_type": "stream",
     "text": [
      " 67%|██████▋   | 67/100 [03:51<02:09,  3.92s/it]"
     ]
    },
    {
     "name": "stdout",
     "output_type": "stream",
     "text": [
      "Best Dist:  0.0995879290215409\n",
      "Average Dist:  0.5213503825339438\n",
      "Best Adj Error:  8.0\n",
      "Average Adj Dist Error:  33.24\n",
      "extreme\n"
     ]
    },
    {
     "name": "stderr",
     "output_type": "stream",
     "text": [
      " 68%|██████▊   | 68/100 [03:55<02:05,  3.93s/it]"
     ]
    },
    {
     "name": "stdout",
     "output_type": "stream",
     "text": [
      "Best Dist:  0.0995879290215409\n",
      "Average Dist:  0.5128706572436826\n",
      "Best Adj Error:  8.0\n",
      "Average Adj Dist Error:  32.84\n",
      "extreme\n"
     ]
    },
    {
     "name": "stderr",
     "output_type": "stream",
     "text": [
      " 69%|██████▉   | 69/100 [03:59<02:01,  3.93s/it]"
     ]
    },
    {
     "name": "stdout",
     "output_type": "stream",
     "text": [
      "Best Dist:  0.0995879290215409\n",
      "Average Dist:  0.5227160097806242\n",
      "Best Adj Error:  8.0\n",
      "Average Adj Dist Error:  33.15\n",
      "extreme\n"
     ]
    },
    {
     "name": "stderr",
     "output_type": "stream",
     "text": [
      " 70%|███████   | 70/100 [04:03<01:57,  3.91s/it]"
     ]
    },
    {
     "name": "stdout",
     "output_type": "stream",
     "text": [
      "Best Dist:  0.0995879290215409\n",
      "Average Dist:  0.5264252995383409\n",
      "Best Adj Error:  8.0\n",
      "Average Adj Dist Error:  33.53\n",
      "extreme\n"
     ]
    },
    {
     "name": "stderr",
     "output_type": "stream",
     "text": [
      " 71%|███████   | 71/100 [04:07<01:53,  3.90s/it]"
     ]
    },
    {
     "name": "stdout",
     "output_type": "stream",
     "text": [
      "new injection\n",
      "Best Dist:  0.0995879290215409\n",
      "Average Dist:  0.5139179458294315\n",
      "Best Adj Error:  8.0\n",
      "Average Adj Dist Error:  32.85\n",
      "extreme\n"
     ]
    },
    {
     "name": "stderr",
     "output_type": "stream",
     "text": [
      " 72%|███████▏  | 72/100 [04:11<01:49,  3.92s/it]"
     ]
    },
    {
     "name": "stdout",
     "output_type": "stream",
     "text": [
      "Best Dist:  0.0995879290215409\n",
      "Average Dist:  0.519176737817076\n",
      "Best Adj Error:  8.0\n",
      "Average Adj Dist Error:  33.06\n",
      "extreme\n"
     ]
    },
    {
     "name": "stderr",
     "output_type": "stream",
     "text": [
      " 73%|███████▎  | 73/100 [04:14<01:45,  3.89s/it]"
     ]
    },
    {
     "name": "stdout",
     "output_type": "stream",
     "text": [
      "Best Dist:  0.0995879290215409\n",
      "Average Dist:  0.5228155969555583\n",
      "Best Adj Error:  8.0\n",
      "Average Adj Dist Error:  33.72\n",
      "extreme\n"
     ]
    },
    {
     "name": "stderr",
     "output_type": "stream",
     "text": [
      " 74%|███████▍  | 74/100 [04:19<01:43,  3.96s/it]"
     ]
    },
    {
     "name": "stdout",
     "output_type": "stream",
     "text": [
      "Best Dist:  0.0995879290215409\n",
      "Average Dist:  0.5246642651827578\n",
      "Best Adj Error:  8.0\n",
      "Average Adj Dist Error:  33.51\n",
      "extreme\n"
     ]
    },
    {
     "name": "stderr",
     "output_type": "stream",
     "text": [
      " 75%|███████▌  | 75/100 [04:22<01:39,  3.96s/it]"
     ]
    },
    {
     "name": "stdout",
     "output_type": "stream",
     "text": [
      "Best Dist:  0.0995879290215409\n",
      "Average Dist:  0.5096173215185884\n",
      "Best Adj Error:  8.0\n",
      "Average Adj Dist Error:  32.58\n",
      "extreme\n"
     ]
    },
    {
     "name": "stderr",
     "output_type": "stream",
     "text": [
      " 76%|███████▌  | 76/100 [04:26<01:34,  3.92s/it]"
     ]
    },
    {
     "name": "stdout",
     "output_type": "stream",
     "text": [
      "new injection\n",
      "Best Dist:  0.0995879290215409\n",
      "Average Dist:  0.5202404471980303\n",
      "Best Adj Error:  8.0\n",
      "Average Adj Dist Error:  34.27\n",
      "extreme\n"
     ]
    },
    {
     "name": "stderr",
     "output_type": "stream",
     "text": [
      " 77%|███████▋  | 77/100 [04:30<01:28,  3.86s/it]"
     ]
    },
    {
     "name": "stdout",
     "output_type": "stream",
     "text": [
      "Best Dist:  0.0995879290215409\n",
      "Average Dist:  0.5197412869497794\n",
      "Best Adj Error:  8.0\n",
      "Average Adj Dist Error:  33.82\n",
      "extreme\n"
     ]
    },
    {
     "name": "stderr",
     "output_type": "stream",
     "text": [
      " 78%|███████▊  | 78/100 [04:34<01:23,  3.79s/it]"
     ]
    },
    {
     "name": "stdout",
     "output_type": "stream",
     "text": [
      "Best Dist:  0.0995879290215409\n",
      "Average Dist:  0.5222645289425807\n",
      "Best Adj Error:  8.0\n",
      "Average Adj Dist Error:  33.4\n",
      "extreme\n"
     ]
    },
    {
     "name": "stderr",
     "output_type": "stream",
     "text": [
      " 79%|███████▉  | 79/100 [04:38<01:20,  3.83s/it]"
     ]
    },
    {
     "name": "stdout",
     "output_type": "stream",
     "text": [
      "Best Dist:  0.0995879290215409\n",
      "Average Dist:  0.5139813389703403\n",
      "Best Adj Error:  8.0\n",
      "Average Adj Dist Error:  33.12\n",
      "extreme\n"
     ]
    },
    {
     "name": "stderr",
     "output_type": "stream",
     "text": [
      " 80%|████████  | 80/100 [04:41<01:17,  3.85s/it]"
     ]
    },
    {
     "name": "stdout",
     "output_type": "stream",
     "text": [
      "Best Dist:  0.0995879290215409\n",
      "Average Dist:  0.5222556511449687\n",
      "Best Adj Error:  8.0\n",
      "Average Adj Dist Error:  33.82\n",
      "extreme\n"
     ]
    },
    {
     "name": "stderr",
     "output_type": "stream",
     "text": [
      " 81%|████████  | 81/100 [04:45<01:12,  3.83s/it]"
     ]
    },
    {
     "name": "stdout",
     "output_type": "stream",
     "text": [
      "new injection\n",
      "Best Dist:  0.0995879290215409\n",
      "Average Dist:  0.5345237975351892\n",
      "Best Adj Error:  8.0\n",
      "Average Adj Dist Error:  35.41\n",
      "extreme\n"
     ]
    },
    {
     "name": "stderr",
     "output_type": "stream",
     "text": [
      " 82%|████████▏ | 82/100 [04:49<01:08,  3.81s/it]"
     ]
    },
    {
     "name": "stdout",
     "output_type": "stream",
     "text": [
      "Best Dist:  0.0995879290215409\n",
      "Average Dist:  0.5086850334662344\n",
      "Best Adj Error:  8.0\n",
      "Average Adj Dist Error:  32.24\n",
      "extreme\n"
     ]
    },
    {
     "name": "stderr",
     "output_type": "stream",
     "text": [
      " 83%|████████▎ | 83/100 [04:53<01:05,  3.85s/it]"
     ]
    },
    {
     "name": "stdout",
     "output_type": "stream",
     "text": [
      "Best Dist:  0.0995879290215409\n",
      "Average Dist:  0.5121931670494684\n",
      "Best Adj Error:  8.0\n",
      "Average Adj Dist Error:  32.76\n",
      "extreme\n"
     ]
    },
    {
     "name": "stderr",
     "output_type": "stream",
     "text": [
      " 84%|████████▍ | 84/100 [04:57<01:01,  3.85s/it]"
     ]
    },
    {
     "name": "stdout",
     "output_type": "stream",
     "text": [
      "Best Dist:  0.0995879290215409\n",
      "Average Dist:  0.5123624732072259\n",
      "Best Adj Error:  8.0\n",
      "Average Adj Dist Error:  33.11\n",
      "extreme\n"
     ]
    },
    {
     "name": "stderr",
     "output_type": "stream",
     "text": [
      " 85%|████████▌ | 85/100 [05:01<00:57,  3.85s/it]"
     ]
    },
    {
     "name": "stdout",
     "output_type": "stream",
     "text": [
      "Best Dist:  0.0995879290215409\n",
      "Average Dist:  0.5145146636666295\n",
      "Best Adj Error:  8.0\n",
      "Average Adj Dist Error:  33.28\n",
      "extreme\n"
     ]
    },
    {
     "name": "stderr",
     "output_type": "stream",
     "text": [
      " 86%|████████▌ | 86/100 [05:05<00:53,  3.85s/it]"
     ]
    },
    {
     "name": "stdout",
     "output_type": "stream",
     "text": [
      "new injection\n",
      "Best Dist:  0.0995879290215409\n",
      "Average Dist:  0.5196296074342233\n",
      "Best Adj Error:  8.0\n",
      "Average Adj Dist Error:  34.76\n",
      "extreme\n"
     ]
    },
    {
     "name": "stderr",
     "output_type": "stream",
     "text": [
      " 87%|████████▋ | 87/100 [05:08<00:50,  3.85s/it]"
     ]
    },
    {
     "name": "stdout",
     "output_type": "stream",
     "text": [
      "Best Dist:  0.0995879290215409\n",
      "Average Dist:  0.513988353103535\n",
      "Best Adj Error:  8.0\n",
      "Average Adj Dist Error:  33.52\n",
      "extreme\n"
     ]
    },
    {
     "name": "stderr",
     "output_type": "stream",
     "text": [
      " 88%|████████▊ | 88/100 [05:12<00:46,  3.90s/it]"
     ]
    },
    {
     "name": "stdout",
     "output_type": "stream",
     "text": [
      "Best Dist:  0.0995879290215409\n",
      "Average Dist:  0.5107559688404362\n",
      "Best Adj Error:  8.0\n",
      "Average Adj Dist Error:  32.67\n",
      "extreme\n"
     ]
    },
    {
     "name": "stderr",
     "output_type": "stream",
     "text": [
      " 89%|████████▉ | 89/100 [05:16<00:43,  3.91s/it]"
     ]
    },
    {
     "name": "stdout",
     "output_type": "stream",
     "text": [
      "Best Dist:  0.0995879290215409\n",
      "Average Dist:  0.5133619176700922\n",
      "Best Adj Error:  8.0\n",
      "Average Adj Dist Error:  32.94\n",
      "extreme\n"
     ]
    },
    {
     "name": "stderr",
     "output_type": "stream",
     "text": [
      " 90%|█████████ | 90/100 [05:20<00:39,  3.93s/it]"
     ]
    },
    {
     "name": "stdout",
     "output_type": "stream",
     "text": [
      "Best Dist:  0.0995879290215409\n",
      "Average Dist:  0.5179426930052904\n",
      "Best Adj Error:  8.0\n",
      "Average Adj Dist Error:  32.75\n",
      "extreme\n"
     ]
    },
    {
     "name": "stderr",
     "output_type": "stream",
     "text": [
      " 91%|█████████ | 91/100 [05:24<00:35,  3.95s/it]"
     ]
    },
    {
     "name": "stdout",
     "output_type": "stream",
     "text": [
      "new injection\n",
      "Best Dist:  0.0995879290215409\n",
      "Average Dist:  0.5135340155719852\n",
      "Best Adj Error:  8.0\n",
      "Average Adj Dist Error:  33.24\n",
      "extreme\n"
     ]
    },
    {
     "name": "stderr",
     "output_type": "stream",
     "text": [
      " 92%|█████████▏| 92/100 [05:28<00:31,  3.99s/it]"
     ]
    },
    {
     "name": "stdout",
     "output_type": "stream",
     "text": [
      "Best Dist:  0.0995879290215409\n",
      "Average Dist:  0.5198340414953178\n",
      "Best Adj Error:  8.0\n",
      "Average Adj Dist Error:  32.53\n",
      "extreme\n"
     ]
    },
    {
     "name": "stderr",
     "output_type": "stream",
     "text": [
      " 93%|█████████▎| 93/100 [05:32<00:27,  3.97s/it]"
     ]
    },
    {
     "name": "stdout",
     "output_type": "stream",
     "text": [
      "Best Dist:  0.0995879290215409\n",
      "Average Dist:  0.5181863574872618\n",
      "Best Adj Error:  8.0\n",
      "Average Adj Dist Error:  33.55\n",
      "extreme\n"
     ]
    },
    {
     "name": "stderr",
     "output_type": "stream",
     "text": [
      " 94%|█████████▍| 94/100 [05:36<00:23,  3.94s/it]"
     ]
    },
    {
     "name": "stdout",
     "output_type": "stream",
     "text": [
      "Best Dist:  0.0995879290215409\n",
      "Average Dist:  0.5226013812762741\n",
      "Best Adj Error:  8.0\n",
      "Average Adj Dist Error:  33.77\n",
      "extreme\n"
     ]
    },
    {
     "name": "stderr",
     "output_type": "stream",
     "text": [
      " 95%|█████████▌| 95/100 [05:40<00:19,  3.94s/it]"
     ]
    },
    {
     "name": "stdout",
     "output_type": "stream",
     "text": [
      "Best Dist:  0.0995879290215409\n",
      "Average Dist:  0.5202524647639899\n",
      "Best Adj Error:  8.0\n",
      "Average Adj Dist Error:  32.99\n",
      "extreme\n"
     ]
    },
    {
     "name": "stderr",
     "output_type": "stream",
     "text": [
      " 96%|█████████▌| 96/100 [05:44<00:15,  3.92s/it]"
     ]
    },
    {
     "name": "stdout",
     "output_type": "stream",
     "text": [
      "new injection\n",
      "Best Dist:  0.0995879290215409\n",
      "Average Dist:  0.5198615285020307\n",
      "Best Adj Error:  8.0\n",
      "Average Adj Dist Error:  34.02\n",
      "extreme\n"
     ]
    },
    {
     "name": "stderr",
     "output_type": "stream",
     "text": [
      " 97%|█████████▋| 97/100 [05:48<00:11,  3.89s/it]"
     ]
    },
    {
     "name": "stdout",
     "output_type": "stream",
     "text": [
      "Best Dist:  0.0995879290215409\n",
      "Average Dist:  0.517515959729954\n",
      "Best Adj Error:  8.0\n",
      "Average Adj Dist Error:  32.41\n",
      "extreme\n"
     ]
    },
    {
     "name": "stderr",
     "output_type": "stream",
     "text": [
      " 98%|█████████▊| 98/100 [05:52<00:07,  3.92s/it]"
     ]
    },
    {
     "name": "stdout",
     "output_type": "stream",
     "text": [
      "Best Dist:  0.0995879290215409\n",
      "Average Dist:  0.5178729107255715\n",
      "Best Adj Error:  8.0\n",
      "Average Adj Dist Error:  33.12\n",
      "extreme\n"
     ]
    },
    {
     "name": "stderr",
     "output_type": "stream",
     "text": [
      " 99%|█████████▉| 99/100 [05:56<00:03,  3.95s/it]"
     ]
    },
    {
     "name": "stdout",
     "output_type": "stream",
     "text": [
      "Best Dist:  0.0995879290215409\n",
      "Average Dist:  0.5188124598094136\n",
      "Best Adj Error:  8.0\n",
      "Average Adj Dist Error:  33.59\n",
      "extreme\n"
     ]
    },
    {
     "name": "stderr",
     "output_type": "stream",
     "text": [
      "100%|██████████| 100/100 [06:00<00:00,  3.60s/it]\n"
     ]
    },
    {
     "name": "stdout",
     "output_type": "stream",
     "text": [
      "No fit individual found within iteration limit\n"
     ]
    },
    {
     "name": "stderr",
     "output_type": "stream",
     "text": [
      "  0%|          | 0/100 [00:00<?, ?it/s]"
     ]
    },
    {
     "name": "stdout",
     "output_type": "stream",
     "text": [
      "Best Dist:  0.4080356551624952\n",
      "Average Dist:  0.5527898774229372\n",
      "Best Adj Error:  26.0\n",
      "Average Adj Dist Error:  33.93\n"
     ]
    },
    {
     "name": "stderr",
     "output_type": "stream",
     "text": [
      "  1%|          | 1/100 [00:02<04:13,  2.57s/it]"
     ]
    },
    {
     "name": "stdout",
     "output_type": "stream",
     "text": [
      "Best Dist:  0.4080356551624952\n",
      "Average Dist:  0.5229786890719567\n",
      "Best Adj Error:  26.0\n",
      "Average Adj Dist Error:  30.27\n"
     ]
    },
    {
     "name": "stderr",
     "output_type": "stream",
     "text": [
      "  2%|▏         | 2/100 [00:05<04:12,  2.58s/it]"
     ]
    },
    {
     "name": "stdout",
     "output_type": "stream",
     "text": [
      "Best Dist:  0.40710828496336643\n",
      "Average Dist:  0.5073197567077802\n",
      "Best Adj Error:  28.0\n",
      "Average Adj Dist Error:  28.91\n"
     ]
    },
    {
     "name": "stderr",
     "output_type": "stream",
     "text": [
      "  3%|▎         | 3/100 [00:07<04:04,  2.52s/it]"
     ]
    },
    {
     "name": "stdout",
     "output_type": "stream",
     "text": [
      "Best Dist:  0.3548673943533825\n",
      "Average Dist:  0.4923322026878909\n",
      "Best Adj Error:  20.0\n",
      "Average Adj Dist Error:  28.34\n"
     ]
    },
    {
     "name": "stderr",
     "output_type": "stream",
     "text": [
      "  4%|▍         | 4/100 [00:10<03:59,  2.49s/it]"
     ]
    },
    {
     "name": "stdout",
     "output_type": "stream",
     "text": [
      "Best Dist:  0.3548673943533825\n",
      "Average Dist:  0.48168984344820065\n",
      "Best Adj Error:  20.0\n",
      "Average Adj Dist Error:  27.74\n"
     ]
    },
    {
     "name": "stderr",
     "output_type": "stream",
     "text": [
      "  5%|▌         | 5/100 [00:12<03:52,  2.45s/it]"
     ]
    },
    {
     "name": "stdout",
     "output_type": "stream",
     "text": [
      "Best Dist:  0.315304451885337\n",
      "Average Dist:  0.4569892739899302\n",
      "Best Adj Error:  22.0\n",
      "Average Adj Dist Error:  25.52\n"
     ]
    },
    {
     "name": "stderr",
     "output_type": "stream",
     "text": [
      "  6%|▌         | 6/100 [00:14<03:46,  2.41s/it]"
     ]
    },
    {
     "name": "stdout",
     "output_type": "stream",
     "text": [
      "Best Dist:  0.315304451885337\n",
      "Average Dist:  0.4568506277040035\n",
      "Best Adj Error:  22.0\n",
      "Average Adj Dist Error:  25.44\n"
     ]
    },
    {
     "name": "stderr",
     "output_type": "stream",
     "text": [
      "  7%|▋         | 7/100 [00:17<03:42,  2.40s/it]"
     ]
    },
    {
     "name": "stdout",
     "output_type": "stream",
     "text": [
      "extreme\n",
      "Best Dist:  0.31103554189299565\n",
      "Average Dist:  0.44534310903022734\n",
      "Best Adj Error:  24.0\n",
      "Average Adj Dist Error:  25.2\n"
     ]
    },
    {
     "name": "stderr",
     "output_type": "stream",
     "text": [
      "  8%|▊         | 8/100 [00:19<03:40,  2.40s/it]"
     ]
    },
    {
     "name": "stdout",
     "output_type": "stream",
     "text": [
      "extreme\n",
      "Best Dist:  0.22983733334312406\n",
      "Average Dist:  0.41394437380891685\n",
      "Best Adj Error:  20.0\n",
      "Average Adj Dist Error:  23.49\n"
     ]
    },
    {
     "name": "stderr",
     "output_type": "stream",
     "text": [
      "  9%|▉         | 9/100 [00:21<03:37,  2.39s/it]"
     ]
    },
    {
     "name": "stdout",
     "output_type": "stream",
     "text": [
      "extreme\n",
      "Best Dist:  0.22983733334312406\n",
      "Average Dist:  0.4025628526233778\n",
      "Best Adj Error:  20.0\n",
      "Average Adj Dist Error:  23.11\n"
     ]
    },
    {
     "name": "stderr",
     "output_type": "stream",
     "text": [
      " 10%|█         | 10/100 [00:24<03:36,  2.41s/it]"
     ]
    },
    {
     "name": "stdout",
     "output_type": "stream",
     "text": [
      "extreme\n",
      "Best Dist:  0.22983733334312406\n",
      "Average Dist:  0.3889134757110101\n",
      "Best Adj Error:  20.0\n",
      "Average Adj Dist Error:  22.26\n"
     ]
    },
    {
     "name": "stderr",
     "output_type": "stream",
     "text": [
      " 11%|█         | 11/100 [00:26<03:35,  2.42s/it]"
     ]
    },
    {
     "name": "stdout",
     "output_type": "stream",
     "text": [
      "extreme\n",
      "Best Dist:  0.22983733334312406\n",
      "Average Dist:  0.3622267017551471\n",
      "Best Adj Error:  20.0\n",
      "Average Adj Dist Error:  21.74\n"
     ]
    },
    {
     "name": "stderr",
     "output_type": "stream",
     "text": [
      " 12%|█▏        | 12/100 [00:29<03:33,  2.43s/it]"
     ]
    },
    {
     "name": "stdout",
     "output_type": "stream",
     "text": [
      "extreme\n",
      "Best Dist:  0.22983733334312406\n",
      "Average Dist:  0.362848394710244\n",
      "Best Adj Error:  20.0\n",
      "Average Adj Dist Error:  21.32\n"
     ]
    },
    {
     "name": "stderr",
     "output_type": "stream",
     "text": [
      " 13%|█▎        | 13/100 [00:31<03:33,  2.45s/it]"
     ]
    },
    {
     "name": "stdout",
     "output_type": "stream",
     "text": [
      "extreme\n",
      "Best Dist:  0.18878209491120604\n",
      "Average Dist:  0.3461692205439108\n",
      "Best Adj Error:  16.0\n",
      "Average Adj Dist Error:  20.62\n"
     ]
    },
    {
     "name": "stderr",
     "output_type": "stream",
     "text": [
      " 14%|█▍        | 14/100 [00:34<03:31,  2.46s/it]"
     ]
    },
    {
     "name": "stdout",
     "output_type": "stream",
     "text": [
      "extreme\n",
      "Best Dist:  0.18878209491120604\n",
      "Average Dist:  0.3294086362927586\n",
      "Best Adj Error:  16.0\n",
      "Average Adj Dist Error:  20.37\n"
     ]
    },
    {
     "name": "stderr",
     "output_type": "stream",
     "text": [
      " 15%|█▌        | 15/100 [00:36<03:29,  2.47s/it]"
     ]
    },
    {
     "name": "stdout",
     "output_type": "stream",
     "text": [
      "extreme\n",
      "Best Dist:  0.18878209491120604\n",
      "Average Dist:  0.34844699433977455\n",
      "Best Adj Error:  16.0\n",
      "Average Adj Dist Error:  21.51\n"
     ]
    },
    {
     "name": "stderr",
     "output_type": "stream",
     "text": [
      " 16%|█▌        | 16/100 [00:39<03:27,  2.47s/it]"
     ]
    },
    {
     "name": "stdout",
     "output_type": "stream",
     "text": [
      "extreme\n",
      "Best Dist:  0.18878209491120604\n",
      "Average Dist:  0.32452454806977554\n",
      "Best Adj Error:  16.0\n",
      "Average Adj Dist Error:  21.15\n"
     ]
    },
    {
     "name": "stderr",
     "output_type": "stream",
     "text": [
      " 17%|█▋        | 17/100 [00:41<03:23,  2.46s/it]"
     ]
    },
    {
     "name": "stdout",
     "output_type": "stream",
     "text": [
      "extreme\n",
      "Best Dist:  0.18878209491120604\n",
      "Average Dist:  0.2948662112473621\n",
      "Best Adj Error:  16.0\n",
      "Average Adj Dist Error:  20.78\n"
     ]
    },
    {
     "name": "stderr",
     "output_type": "stream",
     "text": [
      " 18%|█▊        | 18/100 [00:43<03:19,  2.43s/it]"
     ]
    },
    {
     "name": "stdout",
     "output_type": "stream",
     "text": [
      "extreme\n",
      "Best Dist:  0.18878209491120604\n",
      "Average Dist:  0.2691900077873465\n",
      "Best Adj Error:  16.0\n",
      "Average Adj Dist Error:  20.61\n"
     ]
    },
    {
     "name": "stderr",
     "output_type": "stream",
     "text": [
      " 19%|█▉        | 19/100 [00:46<03:13,  2.39s/it]"
     ]
    },
    {
     "name": "stdout",
     "output_type": "stream",
     "text": [
      "extreme\n",
      "Best Dist:  0.18878209491120604\n",
      "Average Dist:  0.26332116796923466\n",
      "Best Adj Error:  16.0\n",
      "Average Adj Dist Error:  20.23\n"
     ]
    },
    {
     "name": "stderr",
     "output_type": "stream",
     "text": [
      " 20%|██        | 20/100 [00:48<03:11,  2.39s/it]"
     ]
    },
    {
     "name": "stdout",
     "output_type": "stream",
     "text": [
      "extreme\n",
      "Best Dist:  0.18878209491120604\n",
      "Average Dist:  0.24496879146856834\n",
      "Best Adj Error:  16.0\n",
      "Average Adj Dist Error:  20.32\n"
     ]
    },
    {
     "name": "stderr",
     "output_type": "stream",
     "text": [
      " 21%|██        | 21/100 [00:51<03:12,  2.44s/it]"
     ]
    },
    {
     "name": "stdout",
     "output_type": "stream",
     "text": [
      "extreme\n",
      "Best Dist:  0.18878209491120604\n",
      "Average Dist:  0.24925475570810257\n",
      "Best Adj Error:  16.0\n",
      "Average Adj Dist Error:  20.5\n"
     ]
    },
    {
     "name": "stderr",
     "output_type": "stream",
     "text": [
      " 22%|██▏       | 22/100 [00:53<03:09,  2.43s/it]"
     ]
    },
    {
     "name": "stdout",
     "output_type": "stream",
     "text": [
      "extreme\n",
      "Best Dist:  0.18878209491120604\n",
      "Average Dist:  0.2543309544050482\n",
      "Best Adj Error:  16.0\n",
      "Average Adj Dist Error:  20.77\n"
     ]
    },
    {
     "name": "stderr",
     "output_type": "stream",
     "text": [
      " 23%|██▎       | 23/100 [00:56<03:07,  2.43s/it]"
     ]
    },
    {
     "name": "stdout",
     "output_type": "stream",
     "text": [
      "extreme\n",
      "Best Dist:  0.18878209491120604\n",
      "Average Dist:  0.2559136986275814\n",
      "Best Adj Error:  16.0\n",
      "Average Adj Dist Error:  21.49\n"
     ]
    },
    {
     "name": "stderr",
     "output_type": "stream",
     "text": [
      " 24%|██▍       | 24/100 [00:58<03:07,  2.46s/it]"
     ]
    },
    {
     "name": "stdout",
     "output_type": "stream",
     "text": [
      "extreme\n",
      "Best Dist:  0.18878209491120604\n",
      "Average Dist:  0.2517248554445984\n",
      "Best Adj Error:  16.0\n",
      "Average Adj Dist Error:  22.06\n"
     ]
    },
    {
     "name": "stderr",
     "output_type": "stream",
     "text": [
      " 25%|██▌       | 25/100 [01:01<03:05,  2.47s/it]"
     ]
    },
    {
     "name": "stdout",
     "output_type": "stream",
     "text": [
      "extreme\n",
      "Best Dist:  0.18878209491120604\n",
      "Average Dist:  0.3120883035349779\n",
      "Best Adj Error:  16.0\n",
      "Average Adj Dist Error:  24.26\n"
     ]
    },
    {
     "name": "stderr",
     "output_type": "stream",
     "text": [
      " 26%|██▌       | 26/100 [01:03<03:00,  2.44s/it]"
     ]
    },
    {
     "name": "stdout",
     "output_type": "stream",
     "text": [
      "extreme\n",
      "Best Dist:  0.18878209491120604\n",
      "Average Dist:  0.2453841810947553\n",
      "Best Adj Error:  16.0\n",
      "Average Adj Dist Error:  24.26\n"
     ]
    },
    {
     "name": "stderr",
     "output_type": "stream",
     "text": [
      " 27%|██▋       | 27/100 [01:05<02:56,  2.41s/it]"
     ]
    },
    {
     "name": "stdout",
     "output_type": "stream",
     "text": [
      "extreme\n",
      "Best Dist:  0.18878209491120604\n",
      "Average Dist:  0.320784519840659\n",
      "Best Adj Error:  16.0\n",
      "Average Adj Dist Error:  27.22\n"
     ]
    },
    {
     "name": "stderr",
     "output_type": "stream",
     "text": [
      " 28%|██▊       | 28/100 [01:08<02:55,  2.44s/it]"
     ]
    },
    {
     "name": "stdout",
     "output_type": "stream",
     "text": [
      "extreme\n",
      "Best Dist:  0.18878209491120604\n",
      "Average Dist:  0.28900197351094775\n",
      "Best Adj Error:  16.0\n",
      "Average Adj Dist Error:  26.5\n"
     ]
    },
    {
     "name": "stderr",
     "output_type": "stream",
     "text": [
      " 29%|██▉       | 29/100 [01:10<02:52,  2.43s/it]"
     ]
    },
    {
     "name": "stdout",
     "output_type": "stream",
     "text": [
      "extreme\n",
      "Best Dist:  0.18878209491120604\n",
      "Average Dist:  0.2531675610169237\n",
      "Best Adj Error:  16.0\n",
      "Average Adj Dist Error:  26.1\n"
     ]
    },
    {
     "name": "stderr",
     "output_type": "stream",
     "text": [
      " 30%|███       | 30/100 [01:13<02:49,  2.42s/it]"
     ]
    },
    {
     "name": "stdout",
     "output_type": "stream",
     "text": [
      "extreme\n",
      "Best Dist:  0.18572045320522665\n",
      "Average Dist:  0.25049683240662657\n",
      "Best Adj Error:  24.0\n",
      "Average Adj Dist Error:  26.28\n"
     ]
    },
    {
     "name": "stderr",
     "output_type": "stream",
     "text": [
      " 31%|███       | 31/100 [01:15<02:46,  2.42s/it]"
     ]
    },
    {
     "name": "stdout",
     "output_type": "stream",
     "text": [
      "extreme\n",
      "Best Dist:  0.18572045320522665\n",
      "Average Dist:  0.24452435411027118\n",
      "Best Adj Error:  24.0\n",
      "Average Adj Dist Error:  26.2\n"
     ]
    },
    {
     "name": "stderr",
     "output_type": "stream",
     "text": [
      " 32%|███▏      | 32/100 [01:17<02:44,  2.42s/it]"
     ]
    },
    {
     "name": "stdout",
     "output_type": "stream",
     "text": [
      "extreme\n",
      "Best Dist:  0.18572045320522665\n",
      "Average Dist:  0.23904988391544324\n",
      "Best Adj Error:  24.0\n",
      "Average Adj Dist Error:  26.36\n"
     ]
    },
    {
     "name": "stderr",
     "output_type": "stream",
     "text": [
      " 33%|███▎      | 33/100 [01:20<02:43,  2.44s/it]"
     ]
    },
    {
     "name": "stdout",
     "output_type": "stream",
     "text": [
      "extreme\n",
      "Best Dist:  0.18572045320522665\n",
      "Average Dist:  0.22926874051253526\n",
      "Best Adj Error:  24.0\n",
      "Average Adj Dist Error:  25.1\n"
     ]
    },
    {
     "name": "stderr",
     "output_type": "stream",
     "text": [
      " 34%|███▍      | 34/100 [01:22<02:41,  2.45s/it]"
     ]
    },
    {
     "name": "stdout",
     "output_type": "stream",
     "text": [
      "extreme\n",
      "Best Dist:  0.18572045320522665\n",
      "Average Dist:  0.22736947595601337\n",
      "Best Adj Error:  24.0\n",
      "Average Adj Dist Error:  24.27\n"
     ]
    },
    {
     "name": "stderr",
     "output_type": "stream",
     "text": [
      " 35%|███▌      | 35/100 [01:25<02:38,  2.44s/it]"
     ]
    },
    {
     "name": "stdout",
     "output_type": "stream",
     "text": [
      "extreme\n",
      "Best Dist:  0.18572045320522665\n",
      "Average Dist:  0.2165421760374523\n",
      "Best Adj Error:  24.0\n",
      "Average Adj Dist Error:  24.43\n"
     ]
    },
    {
     "name": "stderr",
     "output_type": "stream",
     "text": [
      " 36%|███▌      | 36/100 [01:27<02:35,  2.43s/it]"
     ]
    },
    {
     "name": "stdout",
     "output_type": "stream",
     "text": [
      "extreme\n",
      "Best Dist:  0.18572045320522665\n",
      "Average Dist:  0.20975272926683006\n",
      "Best Adj Error:  24.0\n",
      "Average Adj Dist Error:  24.7\n"
     ]
    },
    {
     "name": "stderr",
     "output_type": "stream",
     "text": [
      " 37%|███▋      | 37/100 [01:30<02:31,  2.41s/it]"
     ]
    },
    {
     "name": "stdout",
     "output_type": "stream",
     "text": [
      "extreme\n",
      "Best Dist:  0.18572045320522665\n",
      "Average Dist:  0.211421815198184\n",
      "Best Adj Error:  24.0\n",
      "Average Adj Dist Error:  25.67\n"
     ]
    },
    {
     "name": "stderr",
     "output_type": "stream",
     "text": [
      " 38%|███▊      | 38/100 [01:32<02:28,  2.39s/it]"
     ]
    },
    {
     "name": "stdout",
     "output_type": "stream",
     "text": [
      "extreme\n",
      "Best Dist:  0.18572045320522665\n",
      "Average Dist:  0.20991715377644013\n",
      "Best Adj Error:  24.0\n",
      "Average Adj Dist Error:  25.7\n"
     ]
    },
    {
     "name": "stderr",
     "output_type": "stream",
     "text": [
      " 39%|███▉      | 39/100 [01:34<02:26,  2.41s/it]"
     ]
    },
    {
     "name": "stdout",
     "output_type": "stream",
     "text": [
      "extreme\n",
      "Best Dist:  0.18572045320522665\n",
      "Average Dist:  0.2164574619584962\n",
      "Best Adj Error:  24.0\n",
      "Average Adj Dist Error:  25.75\n"
     ]
    },
    {
     "name": "stderr",
     "output_type": "stream",
     "text": [
      " 40%|████      | 40/100 [01:37<02:26,  2.44s/it]"
     ]
    },
    {
     "name": "stdout",
     "output_type": "stream",
     "text": [
      "extreme\n",
      "Best Dist:  0.18572045320522665\n",
      "Average Dist:  0.20518606162154987\n",
      "Best Adj Error:  24.0\n",
      "Average Adj Dist Error:  25.47\n"
     ]
    },
    {
     "name": "stderr",
     "output_type": "stream",
     "text": [
      " 41%|████      | 41/100 [01:39<02:23,  2.43s/it]"
     ]
    },
    {
     "name": "stdout",
     "output_type": "stream",
     "text": [
      "extreme\n",
      "Best Dist:  0.18572045320522665\n",
      "Average Dist:  0.25711747139393853\n",
      "Best Adj Error:  24.0\n",
      "Average Adj Dist Error:  25.83\n"
     ]
    },
    {
     "name": "stderr",
     "output_type": "stream",
     "text": [
      " 42%|████▏     | 42/100 [01:42<02:18,  2.40s/it]"
     ]
    },
    {
     "name": "stdout",
     "output_type": "stream",
     "text": [
      "extreme\n",
      "Best Dist:  0.18572045320522665\n",
      "Average Dist:  0.2191038097613677\n",
      "Best Adj Error:  24.0\n",
      "Average Adj Dist Error:  24.89\n"
     ]
    },
    {
     "name": "stderr",
     "output_type": "stream",
     "text": [
      " 43%|████▎     | 43/100 [01:44<02:18,  2.42s/it]"
     ]
    },
    {
     "name": "stdout",
     "output_type": "stream",
     "text": [
      "extreme\n",
      "Best Dist:  0.18572045320522665\n",
      "Average Dist:  0.2193013036295998\n",
      "Best Adj Error:  24.0\n",
      "Average Adj Dist Error:  24.28\n"
     ]
    },
    {
     "name": "stderr",
     "output_type": "stream",
     "text": [
      " 44%|████▍     | 44/100 [01:47<02:15,  2.43s/it]"
     ]
    },
    {
     "name": "stdout",
     "output_type": "stream",
     "text": [
      "extreme\n",
      "Best Dist:  0.18572045320522665\n",
      "Average Dist:  0.19410564396763624\n",
      "Best Adj Error:  24.0\n",
      "Average Adj Dist Error:  24.04\n"
     ]
    },
    {
     "name": "stderr",
     "output_type": "stream",
     "text": [
      " 45%|████▌     | 45/100 [01:49<02:14,  2.44s/it]"
     ]
    },
    {
     "name": "stdout",
     "output_type": "stream",
     "text": [
      "extreme\n",
      "Best Dist:  0.18572045320522665\n",
      "Average Dist:  0.22018148336762025\n",
      "Best Adj Error:  24.0\n",
      "Average Adj Dist Error:  24.23\n"
     ]
    },
    {
     "name": "stderr",
     "output_type": "stream",
     "text": [
      " 46%|████▌     | 46/100 [01:51<02:11,  2.43s/it]"
     ]
    },
    {
     "name": "stdout",
     "output_type": "stream",
     "text": [
      "extreme\n",
      "Best Dist:  0.18572045320522665\n",
      "Average Dist:  0.22242390324627181\n",
      "Best Adj Error:  24.0\n",
      "Average Adj Dist Error:  24.25\n",
      "extreme\n"
     ]
    },
    {
     "name": "stderr",
     "output_type": "stream",
     "text": [
      " 47%|████▋     | 47/100 [01:55<02:32,  2.88s/it]"
     ]
    },
    {
     "name": "stdout",
     "output_type": "stream",
     "text": [
      "new injection\n",
      "Best Dist:  0.18572045320522665\n",
      "Average Dist:  0.5398281762090604\n",
      "Best Adj Error:  24.0\n",
      "Average Adj Dist Error:  38.79\n",
      "extreme\n"
     ]
    },
    {
     "name": "stderr",
     "output_type": "stream",
     "text": [
      " 48%|████▊     | 48/100 [01:59<02:45,  3.18s/it]"
     ]
    },
    {
     "name": "stdout",
     "output_type": "stream",
     "text": [
      "Best Dist:  0.18572045320522665\n",
      "Average Dist:  0.5272975914260861\n",
      "Best Adj Error:  24.0\n",
      "Average Adj Dist Error:  37.8\n",
      "extreme\n"
     ]
    },
    {
     "name": "stderr",
     "output_type": "stream",
     "text": [
      " 49%|████▉     | 49/100 [02:03<02:54,  3.43s/it]"
     ]
    },
    {
     "name": "stdout",
     "output_type": "stream",
     "text": [
      "Best Dist:  0.18572045320522665\n",
      "Average Dist:  0.5304445079177937\n",
      "Best Adj Error:  24.0\n",
      "Average Adj Dist Error:  38.19\n",
      "extreme\n"
     ]
    },
    {
     "name": "stderr",
     "output_type": "stream",
     "text": [
      " 50%|█████     | 50/100 [02:07<03:00,  3.61s/it]"
     ]
    },
    {
     "name": "stdout",
     "output_type": "stream",
     "text": [
      "Best Dist:  0.18572045320522665\n",
      "Average Dist:  0.5274905957188206\n",
      "Best Adj Error:  24.0\n",
      "Average Adj Dist Error:  38.46\n",
      "extreme\n"
     ]
    },
    {
     "name": "stderr",
     "output_type": "stream",
     "text": [
      " 51%|█████     | 51/100 [02:11<03:00,  3.68s/it]"
     ]
    },
    {
     "name": "stdout",
     "output_type": "stream",
     "text": [
      "Best Dist:  0.18572045320522665\n",
      "Average Dist:  0.535002522746569\n",
      "Best Adj Error:  24.0\n",
      "Average Adj Dist Error:  39.01\n",
      "extreme\n"
     ]
    },
    {
     "name": "stderr",
     "output_type": "stream",
     "text": [
      " 52%|█████▏    | 52/100 [02:15<03:01,  3.78s/it]"
     ]
    },
    {
     "name": "stdout",
     "output_type": "stream",
     "text": [
      "new injection\n",
      "Best Dist:  0.18572045320522665\n",
      "Average Dist:  0.5435452742854783\n",
      "Best Adj Error:  24.0\n",
      "Average Adj Dist Error:  38.67\n",
      "extreme\n"
     ]
    },
    {
     "name": "stderr",
     "output_type": "stream",
     "text": [
      " 53%|█████▎    | 53/100 [02:19<03:00,  3.84s/it]"
     ]
    },
    {
     "name": "stdout",
     "output_type": "stream",
     "text": [
      "Best Dist:  0.18572045320522665\n",
      "Average Dist:  0.5431167572236845\n",
      "Best Adj Error:  24.0\n",
      "Average Adj Dist Error:  38.76\n",
      "extreme\n"
     ]
    },
    {
     "name": "stderr",
     "output_type": "stream",
     "text": [
      " 54%|█████▍    | 54/100 [02:23<02:57,  3.86s/it]"
     ]
    },
    {
     "name": "stdout",
     "output_type": "stream",
     "text": [
      "Best Dist:  0.18572045320522665\n",
      "Average Dist:  0.5278139457345749\n",
      "Best Adj Error:  24.0\n",
      "Average Adj Dist Error:  38.24\n",
      "extreme\n"
     ]
    },
    {
     "name": "stderr",
     "output_type": "stream",
     "text": [
      " 55%|█████▌    | 55/100 [02:27<02:55,  3.90s/it]"
     ]
    },
    {
     "name": "stdout",
     "output_type": "stream",
     "text": [
      "Best Dist:  0.18572045320522665\n",
      "Average Dist:  0.5356400743461017\n",
      "Best Adj Error:  24.0\n",
      "Average Adj Dist Error:  38.21\n",
      "extreme\n"
     ]
    },
    {
     "name": "stderr",
     "output_type": "stream",
     "text": [
      " 56%|█████▌    | 56/100 [02:31<02:49,  3.85s/it]"
     ]
    },
    {
     "name": "stdout",
     "output_type": "stream",
     "text": [
      "Best Dist:  0.18572045320522665\n",
      "Average Dist:  0.5278584335716721\n",
      "Best Adj Error:  24.0\n",
      "Average Adj Dist Error:  38.14\n",
      "extreme\n"
     ]
    },
    {
     "name": "stderr",
     "output_type": "stream",
     "text": [
      " 57%|█████▋    | 57/100 [02:34<02:44,  3.82s/it]"
     ]
    },
    {
     "name": "stdout",
     "output_type": "stream",
     "text": [
      "new injection\n",
      "Best Dist:  0.18572045320522665\n",
      "Average Dist:  0.5169460543563907\n",
      "Best Adj Error:  24.0\n",
      "Average Adj Dist Error:  37.36\n",
      "extreme\n"
     ]
    },
    {
     "name": "stderr",
     "output_type": "stream",
     "text": [
      " 58%|█████▊    | 58/100 [02:38<02:41,  3.84s/it]"
     ]
    },
    {
     "name": "stdout",
     "output_type": "stream",
     "text": [
      "Best Dist:  0.18572045320522665\n",
      "Average Dist:  0.5318618869880989\n",
      "Best Adj Error:  24.0\n",
      "Average Adj Dist Error:  38.37\n",
      "extreme\n"
     ]
    },
    {
     "name": "stderr",
     "output_type": "stream",
     "text": [
      " 59%|█████▉    | 59/100 [02:42<02:37,  3.85s/it]"
     ]
    },
    {
     "name": "stdout",
     "output_type": "stream",
     "text": [
      "Best Dist:  0.18572045320522665\n",
      "Average Dist:  0.5281125997224713\n",
      "Best Adj Error:  24.0\n",
      "Average Adj Dist Error:  38.09\n",
      "extreme\n"
     ]
    },
    {
     "name": "stderr",
     "output_type": "stream",
     "text": [
      " 60%|██████    | 60/100 [02:46<02:33,  3.83s/it]"
     ]
    },
    {
     "name": "stdout",
     "output_type": "stream",
     "text": [
      "Best Dist:  0.18572045320522665\n",
      "Average Dist:  0.532595811256496\n",
      "Best Adj Error:  24.0\n",
      "Average Adj Dist Error:  38.96\n",
      "extreme\n"
     ]
    },
    {
     "name": "stderr",
     "output_type": "stream",
     "text": [
      " 61%|██████    | 61/100 [02:50<02:28,  3.82s/it]"
     ]
    },
    {
     "name": "stdout",
     "output_type": "stream",
     "text": [
      "Best Dist:  0.18572045320522665\n",
      "Average Dist:  0.5296569681307719\n",
      "Best Adj Error:  24.0\n",
      "Average Adj Dist Error:  38.26\n",
      "extreme\n"
     ]
    },
    {
     "name": "stderr",
     "output_type": "stream",
     "text": [
      " 62%|██████▏   | 62/100 [02:54<02:25,  3.84s/it]"
     ]
    },
    {
     "name": "stdout",
     "output_type": "stream",
     "text": [
      "new injection\n",
      "Best Dist:  0.18572045320522665\n",
      "Average Dist:  0.5458468974105675\n",
      "Best Adj Error:  24.0\n",
      "Average Adj Dist Error:  38.32\n",
      "extreme\n"
     ]
    },
    {
     "name": "stderr",
     "output_type": "stream",
     "text": [
      " 63%|██████▎   | 63/100 [02:57<02:21,  3.82s/it]"
     ]
    },
    {
     "name": "stdout",
     "output_type": "stream",
     "text": [
      "Best Dist:  0.18572045320522665\n",
      "Average Dist:  0.527462936732297\n",
      "Best Adj Error:  24.0\n",
      "Average Adj Dist Error:  37.94\n",
      "extreme\n"
     ]
    },
    {
     "name": "stderr",
     "output_type": "stream",
     "text": [
      " 64%|██████▍   | 64/100 [03:01<02:19,  3.88s/it]"
     ]
    },
    {
     "name": "stdout",
     "output_type": "stream",
     "text": [
      "Best Dist:  0.18572045320522665\n",
      "Average Dist:  0.538599921567361\n",
      "Best Adj Error:  24.0\n",
      "Average Adj Dist Error:  38.74\n",
      "extreme\n"
     ]
    },
    {
     "name": "stderr",
     "output_type": "stream",
     "text": [
      " 65%|██████▌   | 65/100 [03:05<02:17,  3.92s/it]"
     ]
    },
    {
     "name": "stdout",
     "output_type": "stream",
     "text": [
      "Best Dist:  0.18572045320522665\n",
      "Average Dist:  0.534176557020053\n",
      "Best Adj Error:  24.0\n",
      "Average Adj Dist Error:  38.08\n",
      "extreme\n"
     ]
    },
    {
     "name": "stderr",
     "output_type": "stream",
     "text": [
      " 66%|██████▌   | 66/100 [03:10<02:15,  3.97s/it]"
     ]
    },
    {
     "name": "stdout",
     "output_type": "stream",
     "text": [
      "Best Dist:  0.18572045320522665\n",
      "Average Dist:  0.526015889450735\n",
      "Best Adj Error:  24.0\n",
      "Average Adj Dist Error:  36.58\n",
      "extreme\n"
     ]
    },
    {
     "name": "stderr",
     "output_type": "stream",
     "text": [
      " 67%|██████▋   | 67/100 [11:14<1:21:28, 148.14s/it]"
     ]
    },
    {
     "name": "stdout",
     "output_type": "stream",
     "text": [
      "new injection\n",
      "Best Dist:  0.18572045320522665\n",
      "Average Dist:  0.54338954802087\n",
      "Best Adj Error:  24.0\n",
      "Average Adj Dist Error:  38.92\n",
      "extreme\n"
     ]
    },
    {
     "name": "stderr",
     "output_type": "stream",
     "text": [
      " 68%|██████▊   | 68/100 [11:18<55:57, 104.91s/it]  "
     ]
    },
    {
     "name": "stdout",
     "output_type": "stream",
     "text": [
      "Best Dist:  0.18572045320522665\n",
      "Average Dist:  0.5334985485064501\n",
      "Best Adj Error:  24.0\n",
      "Average Adj Dist Error:  38.34\n",
      "extreme\n"
     ]
    },
    {
     "name": "stderr",
     "output_type": "stream",
     "text": [
      " 69%|██████▉   | 69/100 [11:22<38:30, 74.53s/it] "
     ]
    },
    {
     "name": "stdout",
     "output_type": "stream",
     "text": [
      "Best Dist:  0.18572045320522665\n",
      "Average Dist:  0.5237471628594648\n",
      "Best Adj Error:  24.0\n",
      "Average Adj Dist Error:  38.43\n",
      "extreme\n"
     ]
    },
    {
     "name": "stderr",
     "output_type": "stream",
     "text": [
      " 70%|███████   | 70/100 [11:26<26:39, 53.31s/it]"
     ]
    },
    {
     "name": "stdout",
     "output_type": "stream",
     "text": [
      "Best Dist:  0.18572045320522665\n",
      "Average Dist:  0.5276936881582367\n",
      "Best Adj Error:  24.0\n",
      "Average Adj Dist Error:  38.27\n",
      "extreme\n"
     ]
    },
    {
     "name": "stderr",
     "output_type": "stream",
     "text": [
      " 71%|███████   | 71/100 [11:29<18:34, 38.43s/it]"
     ]
    },
    {
     "name": "stdout",
     "output_type": "stream",
     "text": [
      "Best Dist:  0.18572045320522665\n",
      "Average Dist:  0.5289200601611699\n",
      "Best Adj Error:  24.0\n",
      "Average Adj Dist Error:  38.0\n",
      "extreme\n"
     ]
    },
    {
     "name": "stderr",
     "output_type": "stream",
     "text": [
      " 72%|███████▏  | 72/100 [11:33<13:05, 28.04s/it]"
     ]
    },
    {
     "name": "stdout",
     "output_type": "stream",
     "text": [
      "new injection\n",
      "Best Dist:  0.18572045320522665\n",
      "Average Dist:  0.5357417409876066\n",
      "Best Adj Error:  24.0\n",
      "Average Adj Dist Error:  38.36\n",
      "extreme\n"
     ]
    },
    {
     "name": "stderr",
     "output_type": "stream",
     "text": [
      " 73%|███████▎  | 73/100 [11:37<09:21, 20.81s/it]"
     ]
    },
    {
     "name": "stdout",
     "output_type": "stream",
     "text": [
      "Best Dist:  0.18572045320522665\n",
      "Average Dist:  0.537572409406953\n",
      "Best Adj Error:  24.0\n",
      "Average Adj Dist Error:  38.93\n",
      "extreme\n"
     ]
    },
    {
     "name": "stderr",
     "output_type": "stream",
     "text": [
      " 74%|███████▍  | 74/100 [11:41<06:49, 15.74s/it]"
     ]
    },
    {
     "name": "stdout",
     "output_type": "stream",
     "text": [
      "Best Dist:  0.18572045320522665\n",
      "Average Dist:  0.5362342433001775\n",
      "Best Adj Error:  24.0\n",
      "Average Adj Dist Error:  38.54\n",
      "extreme\n"
     ]
    },
    {
     "name": "stderr",
     "output_type": "stream",
     "text": [
      " 75%|███████▌  | 75/100 [11:45<05:03, 12.13s/it]"
     ]
    },
    {
     "name": "stdout",
     "output_type": "stream",
     "text": [
      "Best Dist:  0.18572045320522665\n",
      "Average Dist:  0.5281145947025007\n",
      "Best Adj Error:  24.0\n",
      "Average Adj Dist Error:  38.56\n",
      "extreme\n"
     ]
    },
    {
     "name": "stderr",
     "output_type": "stream",
     "text": [
      " 76%|███████▌  | 76/100 [11:49<03:52,  9.67s/it]"
     ]
    },
    {
     "name": "stdout",
     "output_type": "stream",
     "text": [
      "Best Dist:  0.18572045320522665\n",
      "Average Dist:  0.5216207737513441\n",
      "Best Adj Error:  24.0\n",
      "Average Adj Dist Error:  38.43\n",
      "extreme\n"
     ]
    },
    {
     "name": "stderr",
     "output_type": "stream",
     "text": [
      " 77%|███████▋  | 77/100 [11:52<03:01,  7.89s/it]"
     ]
    },
    {
     "name": "stdout",
     "output_type": "stream",
     "text": [
      "new injection\n",
      "Best Dist:  0.18572045320522665\n",
      "Average Dist:  0.5427548602032121\n",
      "Best Adj Error:  24.0\n",
      "Average Adj Dist Error:  39.1\n",
      "extreme\n"
     ]
    },
    {
     "name": "stderr",
     "output_type": "stream",
     "text": [
      " 78%|███████▊  | 78/100 [11:56<02:25,  6.60s/it]"
     ]
    },
    {
     "name": "stdout",
     "output_type": "stream",
     "text": [
      "Best Dist:  0.18572045320522665\n",
      "Average Dist:  0.5361795136283213\n",
      "Best Adj Error:  24.0\n",
      "Average Adj Dist Error:  38.89\n",
      "extreme\n"
     ]
    },
    {
     "name": "stderr",
     "output_type": "stream",
     "text": [
      " 79%|███████▉  | 79/100 [12:00<02:05,  5.96s/it]"
     ]
    },
    {
     "name": "stdout",
     "output_type": "stream",
     "text": [
      "Best Dist:  0.18572045320522665\n",
      "Average Dist:  0.5245155786218105\n",
      "Best Adj Error:  24.0\n",
      "Average Adj Dist Error:  38.19\n",
      "extreme\n"
     ]
    },
    {
     "name": "stderr",
     "output_type": "stream",
     "text": [
      " 80%|████████  | 80/100 [14:54<18:44, 56.21s/it]"
     ]
    },
    {
     "name": "stdout",
     "output_type": "stream",
     "text": [
      "Best Dist:  0.18572045320522665\n",
      "Average Dist:  0.5266157781662496\n",
      "Best Adj Error:  24.0\n",
      "Average Adj Dist Error:  37.76\n",
      "extreme\n"
     ]
    },
    {
     "name": "stderr",
     "output_type": "stream",
     "text": [
      " 81%|████████  | 81/100 [14:58<12:49, 40.48s/it]"
     ]
    },
    {
     "name": "stdout",
     "output_type": "stream",
     "text": [
      "Best Dist:  0.18572045320522665\n",
      "Average Dist:  0.5346095816140144\n",
      "Best Adj Error:  24.0\n",
      "Average Adj Dist Error:  38.9\n",
      "extreme\n"
     ]
    },
    {
     "name": "stderr",
     "output_type": "stream",
     "text": [
      " 82%|████████▏ | 82/100 [15:01<08:50, 29.46s/it]"
     ]
    },
    {
     "name": "stdout",
     "output_type": "stream",
     "text": [
      "new injection\n",
      "Best Dist:  0.18572045320522665\n",
      "Average Dist:  0.5357895253214519\n",
      "Best Adj Error:  24.0\n",
      "Average Adj Dist Error:  38.25\n",
      "extreme\n"
     ]
    },
    {
     "name": "stderr",
     "output_type": "stream",
     "text": [
      " 83%|████████▎ | 83/100 [15:05<06:09, 21.74s/it]"
     ]
    },
    {
     "name": "stdout",
     "output_type": "stream",
     "text": [
      "Best Dist:  0.18572045320522665\n",
      "Average Dist:  0.5307416384338717\n",
      "Best Adj Error:  24.0\n",
      "Average Adj Dist Error:  38.29\n",
      "extreme\n"
     ]
    },
    {
     "name": "stderr",
     "output_type": "stream",
     "text": [
      " 84%|████████▍ | 84/100 [15:09<04:21, 16.37s/it]"
     ]
    },
    {
     "name": "stdout",
     "output_type": "stream",
     "text": [
      "Best Dist:  0.18572045320522665\n",
      "Average Dist:  0.5314845029417667\n",
      "Best Adj Error:  24.0\n",
      "Average Adj Dist Error:  38.45\n",
      "extreme\n"
     ]
    },
    {
     "name": "stderr",
     "output_type": "stream",
     "text": [
      " 85%|████████▌ | 85/100 [15:13<03:09, 12.64s/it]"
     ]
    },
    {
     "name": "stdout",
     "output_type": "stream",
     "text": [
      "Best Dist:  0.18572045320522665\n",
      "Average Dist:  0.5336889932254683\n",
      "Best Adj Error:  24.0\n",
      "Average Adj Dist Error:  38.14\n",
      "extreme\n"
     ]
    },
    {
     "name": "stderr",
     "output_type": "stream",
     "text": [
      " 86%|████████▌ | 86/100 [15:17<02:20, 10.02s/it]"
     ]
    },
    {
     "name": "stdout",
     "output_type": "stream",
     "text": [
      "Best Dist:  0.18572045320522665\n",
      "Average Dist:  0.5261500537155821\n",
      "Best Adj Error:  24.0\n",
      "Average Adj Dist Error:  38.17\n",
      "extreme\n"
     ]
    },
    {
     "name": "stderr",
     "output_type": "stream",
     "text": [
      " 87%|████████▋ | 87/100 [15:20<01:45,  8.12s/it]"
     ]
    },
    {
     "name": "stdout",
     "output_type": "stream",
     "text": [
      "new injection\n",
      "Best Dist:  0.18572045320522665\n",
      "Average Dist:  0.5404865925100755\n",
      "Best Adj Error:  24.0\n",
      "Average Adj Dist Error:  39.22\n",
      "extreme\n"
     ]
    },
    {
     "name": "stderr",
     "output_type": "stream",
     "text": [
      " 88%|████████▊ | 88/100 [15:24<01:22,  6.85s/it]"
     ]
    },
    {
     "name": "stdout",
     "output_type": "stream",
     "text": [
      "Best Dist:  0.18572045320522665\n",
      "Average Dist:  0.5332829483406482\n",
      "Best Adj Error:  24.0\n",
      "Average Adj Dist Error:  37.95\n",
      "extreme\n"
     ]
    },
    {
     "name": "stderr",
     "output_type": "stream",
     "text": [
      " 89%|████████▉ | 89/100 [15:28<01:05,  5.92s/it]"
     ]
    },
    {
     "name": "stdout",
     "output_type": "stream",
     "text": [
      "Best Dist:  0.18572045320522665\n",
      "Average Dist:  0.5269509502947637\n",
      "Best Adj Error:  24.0\n",
      "Average Adj Dist Error:  37.88\n",
      "extreme\n"
     ]
    },
    {
     "name": "stderr",
     "output_type": "stream",
     "text": [
      " 90%|█████████ | 90/100 [15:32<00:52,  5.27s/it]"
     ]
    },
    {
     "name": "stdout",
     "output_type": "stream",
     "text": [
      "Best Dist:  0.18572045320522665\n",
      "Average Dist:  0.520131237196378\n",
      "Best Adj Error:  24.0\n",
      "Average Adj Dist Error:  37.37\n",
      "extreme\n"
     ]
    },
    {
     "name": "stderr",
     "output_type": "stream",
     "text": [
      " 91%|█████████ | 91/100 [15:36<00:45,  5.06s/it]"
     ]
    },
    {
     "name": "stdout",
     "output_type": "stream",
     "text": [
      "Best Dist:  0.18572045320522665\n",
      "Average Dist:  0.5305171005252393\n",
      "Best Adj Error:  24.0\n",
      "Average Adj Dist Error:  37.48\n",
      "extreme\n"
     ]
    },
    {
     "name": "stderr",
     "output_type": "stream",
     "text": [
      " 92%|█████████▏| 92/100 [15:53<01:08,  8.57s/it]"
     ]
    },
    {
     "name": "stdout",
     "output_type": "stream",
     "text": [
      "new injection\n",
      "Best Dist:  0.18572045320522665\n",
      "Average Dist:  0.5425804815274047\n",
      "Best Adj Error:  24.0\n",
      "Average Adj Dist Error:  39.11\n",
      "extreme\n"
     ]
    },
    {
     "name": "stderr",
     "output_type": "stream",
     "text": [
      " 93%|█████████▎| 93/100 [15:57<00:50,  7.21s/it]"
     ]
    },
    {
     "name": "stdout",
     "output_type": "stream",
     "text": [
      "Best Dist:  0.18572045320522665\n",
      "Average Dist:  0.5293609073698704\n",
      "Best Adj Error:  24.0\n",
      "Average Adj Dist Error:  38.3\n",
      "extreme\n"
     ]
    },
    {
     "name": "stderr",
     "output_type": "stream",
     "text": [
      " 94%|█████████▍| 94/100 [16:01<00:37,  6.17s/it]"
     ]
    },
    {
     "name": "stdout",
     "output_type": "stream",
     "text": [
      "Best Dist:  0.18572045320522665\n",
      "Average Dist:  0.539714211498552\n",
      "Best Adj Error:  24.0\n",
      "Average Adj Dist Error:  38.89\n",
      "extreme\n"
     ]
    },
    {
     "name": "stderr",
     "output_type": "stream",
     "text": [
      " 95%|█████████▌| 95/100 [16:05<00:27,  5.41s/it]"
     ]
    },
    {
     "name": "stdout",
     "output_type": "stream",
     "text": [
      "Best Dist:  0.18572045320522665\n",
      "Average Dist:  0.5242241930500947\n",
      "Best Adj Error:  24.0\n",
      "Average Adj Dist Error:  38.55\n",
      "extreme\n"
     ]
    },
    {
     "name": "stderr",
     "output_type": "stream",
     "text": [
      " 96%|█████████▌| 96/100 [16:08<00:19,  4.91s/it]"
     ]
    },
    {
     "name": "stdout",
     "output_type": "stream",
     "text": [
      "Best Dist:  0.18572045320522665\n",
      "Average Dist:  0.5330654521510226\n",
      "Best Adj Error:  24.0\n",
      "Average Adj Dist Error:  38.46\n",
      "extreme\n"
     ]
    },
    {
     "name": "stderr",
     "output_type": "stream",
     "text": [
      " 97%|█████████▋| 97/100 [16:12<00:13,  4.59s/it]"
     ]
    },
    {
     "name": "stdout",
     "output_type": "stream",
     "text": [
      "new injection\n",
      "Best Dist:  0.18572045320522665\n",
      "Average Dist:  0.5372160695294342\n",
      "Best Adj Error:  24.0\n",
      "Average Adj Dist Error:  38.56\n",
      "extreme\n"
     ]
    },
    {
     "name": "stderr",
     "output_type": "stream",
     "text": [
      " 98%|█████████▊| 98/100 [16:16<00:08,  4.38s/it]"
     ]
    },
    {
     "name": "stdout",
     "output_type": "stream",
     "text": [
      "Best Dist:  0.18572045320522665\n",
      "Average Dist:  0.523230091034543\n",
      "Best Adj Error:  24.0\n",
      "Average Adj Dist Error:  37.58\n",
      "extreme\n"
     ]
    },
    {
     "name": "stderr",
     "output_type": "stream",
     "text": [
      " 99%|█████████▉| 99/100 [16:20<00:04,  4.15s/it]"
     ]
    },
    {
     "name": "stdout",
     "output_type": "stream",
     "text": [
      "Best Dist:  0.18572045320522665\n",
      "Average Dist:  0.5205067572596722\n",
      "Best Adj Error:  24.0\n",
      "Average Adj Dist Error:  37.78\n",
      "extreme\n"
     ]
    },
    {
     "name": "stderr",
     "output_type": "stream",
     "text": [
      "100%|██████████| 100/100 [16:23<00:00,  9.84s/it]\n"
     ]
    },
    {
     "name": "stdout",
     "output_type": "stream",
     "text": [
      "No fit individual found within iteration limit\n"
     ]
    },
    {
     "name": "stderr",
     "output_type": "stream",
     "text": [
      "  0%|          | 0/100 [00:00<?, ?it/s]"
     ]
    },
    {
     "name": "stdout",
     "output_type": "stream",
     "text": [
      "Best Dist:  0.4256781625966816\n",
      "Average Dist:  0.5900428621879464\n",
      "Best Adj Error:  4.0\n",
      "Average Adj Dist Error:  25.44\n"
     ]
    },
    {
     "name": "stderr",
     "output_type": "stream",
     "text": [
      "  1%|          | 1/100 [00:02<04:05,  2.48s/it]"
     ]
    },
    {
     "name": "stdout",
     "output_type": "stream",
     "text": [
      "Best Dist:  0.4256781625966816\n",
      "Average Dist:  0.5471067417567778\n",
      "Best Adj Error:  4.0\n",
      "Average Adj Dist Error:  16.03\n"
     ]
    },
    {
     "name": "stderr",
     "output_type": "stream",
     "text": [
      "  2%|▏         | 2/100 [00:04<03:50,  2.35s/it]"
     ]
    },
    {
     "name": "stdout",
     "output_type": "stream",
     "text": [
      "Best Dist:  0.364247233357082\n",
      "Average Dist:  0.5208828328778481\n",
      "Best Adj Error:  12.0\n",
      "Average Adj Dist Error:  11.5\n"
     ]
    },
    {
     "name": "stderr",
     "output_type": "stream",
     "text": [
      "  3%|▎         | 3/100 [00:06<03:42,  2.29s/it]"
     ]
    },
    {
     "name": "stdout",
     "output_type": "stream",
     "text": [
      "Best Dist:  0.35660486121130397\n",
      "Average Dist:  0.505990163031192\n",
      "Best Adj Error:  8.0\n",
      "Average Adj Dist Error:  12.25\n"
     ]
    },
    {
     "name": "stderr",
     "output_type": "stream",
     "text": [
      "  4%|▍         | 4/100 [04:58<3:06:34, 116.61s/it]"
     ]
    },
    {
     "name": "stdout",
     "output_type": "stream",
     "text": [
      "Best Dist:  0.29942193528350336\n",
      "Average Dist:  0.4793226663747275\n",
      "Best Adj Error:  6.0\n",
      "Average Adj Dist Error:  12.51\n"
     ]
    },
    {
     "name": "stderr",
     "output_type": "stream",
     "text": [
      "  5%|▌         | 5/100 [05:03<2:00:42, 76.24s/it] "
     ]
    },
    {
     "name": "stdout",
     "output_type": "stream",
     "text": [
      "Best Dist:  0.2994219352835008\n",
      "Average Dist:  0.45982301932717434\n",
      "Best Adj Error:  6.0\n",
      "Average Adj Dist Error:  11.06\n"
     ]
    },
    {
     "name": "stderr",
     "output_type": "stream",
     "text": [
      "  6%|▌         | 6/100 [05:08<1:21:16, 51.88s/it]"
     ]
    },
    {
     "name": "stdout",
     "output_type": "stream",
     "text": [
      "Best Dist:  0.19019935029710608\n",
      "Average Dist:  0.4158594357916651\n",
      "Best Adj Error:  4.0\n",
      "Average Adj Dist Error:  8.44\n"
     ]
    },
    {
     "name": "stderr",
     "output_type": "stream",
     "text": [
      "  7%|▋         | 7/100 [05:14<57:12, 36.91s/it]  "
     ]
    },
    {
     "name": "stdout",
     "output_type": "stream",
     "text": [
      "extreme\n"
     ]
    },
    {
     "name": "stderr",
     "output_type": "stream",
     "text": [
      "  7%|▋         | 7/100 [05:15<1:09:51, 45.07s/it]"
     ]
    },
    {
     "name": "stdout",
     "output_type": "stream",
     "text": [
      "Best Dist:  0.0\n",
      "Average Dist:  0.38519090498930525\n",
      "Best Adj Error:  0.0\n",
      "Average Adj Dist Error:  7.94\n",
      "fit individual found\n"
     ]
    },
    {
     "name": "stderr",
     "output_type": "stream",
     "text": [
      "\n",
      "  0%|          | 0/100 [00:00<?, ?it/s]"
     ]
    },
    {
     "name": "stdout",
     "output_type": "stream",
     "text": [
      "Best Dist:  0.43318763736756727\n",
      "Average Dist:  0.609577365665804\n",
      "Best Adj Error:  40.0\n",
      "Average Adj Dist Error:  40.67\n"
     ]
    },
    {
     "name": "stderr",
     "output_type": "stream",
     "text": [
      "  1%|          | 1/100 [00:03<05:46,  3.50s/it]"
     ]
    },
    {
     "name": "stdout",
     "output_type": "stream",
     "text": [
      "Best Dist:  0.43318763736756727\n",
      "Average Dist:  0.5549645256814294\n",
      "Best Adj Error:  40.0\n",
      "Average Adj Dist Error:  38.76\n"
     ]
    },
    {
     "name": "stderr",
     "output_type": "stream",
     "text": [
      "  2%|▏         | 2/100 [00:07<06:17,  3.85s/it]"
     ]
    },
    {
     "name": "stdout",
     "output_type": "stream",
     "text": [
      "Best Dist:  0.4069142119991582\n",
      "Average Dist:  0.5244376953499404\n",
      "Best Adj Error:  28.0\n",
      "Average Adj Dist Error:  38.31\n"
     ]
    },
    {
     "name": "stderr",
     "output_type": "stream",
     "text": [
      "  3%|▎         | 3/100 [00:10<05:23,  3.34s/it]"
     ]
    },
    {
     "name": "stdout",
     "output_type": "stream",
     "text": [
      "Best Dist:  0.4069142119991582\n",
      "Average Dist:  0.4989486061219097\n",
      "Best Adj Error:  28.0\n",
      "Average Adj Dist Error:  37.0\n"
     ]
    },
    {
     "name": "stderr",
     "output_type": "stream",
     "text": [
      "  4%|▍         | 4/100 [00:13<05:01,  3.14s/it]"
     ]
    },
    {
     "name": "stdout",
     "output_type": "stream",
     "text": [
      "Best Dist:  0.35642984677299605\n",
      "Average Dist:  0.48356357067810335\n",
      "Best Adj Error:  26.0\n",
      "Average Adj Dist Error:  37.22\n"
     ]
    },
    {
     "name": "stderr",
     "output_type": "stream",
     "text": [
      "  5%|▌         | 5/100 [00:16<05:10,  3.27s/it]"
     ]
    },
    {
     "name": "stdout",
     "output_type": "stream",
     "text": [
      "Best Dist:  0.35642984677299605\n",
      "Average Dist:  0.4657054648871038\n",
      "Best Adj Error:  26.0\n",
      "Average Adj Dist Error:  37.66\n"
     ]
    },
    {
     "name": "stderr",
     "output_type": "stream",
     "text": [
      "  6%|▌         | 6/100 [00:19<05:03,  3.23s/it]"
     ]
    },
    {
     "name": "stdout",
     "output_type": "stream",
     "text": [
      "Best Dist:  0.35642984677299605\n",
      "Average Dist:  0.45320855990898645\n",
      "Best Adj Error:  26.0\n",
      "Average Adj Dist Error:  37.51\n"
     ]
    },
    {
     "name": "stderr",
     "output_type": "stream",
     "text": [
      "  7%|▋         | 7/100 [00:22<04:50,  3.12s/it]"
     ]
    },
    {
     "name": "stdout",
     "output_type": "stream",
     "text": [
      "extreme\n",
      "Best Dist:  0.35584793867249825\n",
      "Average Dist:  0.44784818796826853\n",
      "Best Adj Error:  28.0\n",
      "Average Adj Dist Error:  36.4\n"
     ]
    },
    {
     "name": "stderr",
     "output_type": "stream",
     "text": [
      "  8%|▊         | 8/100 [00:25<04:26,  2.89s/it]"
     ]
    },
    {
     "name": "stdout",
     "output_type": "stream",
     "text": [
      "extreme\n",
      "Best Dist:  0.3261038690538133\n",
      "Average Dist:  0.43619545267497495\n",
      "Best Adj Error:  30.0\n",
      "Average Adj Dist Error:  34.94\n"
     ]
    },
    {
     "name": "stderr",
     "output_type": "stream",
     "text": [
      "  9%|▉         | 9/100 [00:27<04:12,  2.77s/it]"
     ]
    },
    {
     "name": "stdout",
     "output_type": "stream",
     "text": [
      "extreme\n",
      "Best Dist:  0.2910174587429198\n",
      "Average Dist:  0.4244046620835821\n",
      "Best Adj Error:  20.0\n",
      "Average Adj Dist Error:  32.9\n"
     ]
    },
    {
     "name": "stderr",
     "output_type": "stream",
     "text": [
      " 10%|█         | 10/100 [00:30<04:02,  2.69s/it]"
     ]
    },
    {
     "name": "stdout",
     "output_type": "stream",
     "text": [
      "extreme\n",
      "Best Dist:  0.2910174587429198\n",
      "Average Dist:  0.41637408609683013\n",
      "Best Adj Error:  20.0\n",
      "Average Adj Dist Error:  31.02\n"
     ]
    },
    {
     "name": "stderr",
     "output_type": "stream",
     "text": [
      " 11%|█         | 11/100 [00:32<03:55,  2.65s/it]"
     ]
    },
    {
     "name": "stdout",
     "output_type": "stream",
     "text": [
      "extreme\n",
      "Best Dist:  0.2910174587429198\n",
      "Average Dist:  0.4064211634197407\n",
      "Best Adj Error:  20.0\n",
      "Average Adj Dist Error:  30.48\n"
     ]
    },
    {
     "name": "stderr",
     "output_type": "stream",
     "text": [
      " 12%|█▏        | 12/100 [00:35<03:44,  2.55s/it]"
     ]
    },
    {
     "name": "stdout",
     "output_type": "stream",
     "text": [
      "extreme\n",
      "Best Dist:  0.2910174587429198\n",
      "Average Dist:  0.3929011241021606\n",
      "Best Adj Error:  20.0\n",
      "Average Adj Dist Error:  29.6\n"
     ]
    },
    {
     "name": "stderr",
     "output_type": "stream",
     "text": [
      " 13%|█▎        | 13/100 [00:37<03:40,  2.53s/it]"
     ]
    },
    {
     "name": "stdout",
     "output_type": "stream",
     "text": [
      "extreme\n",
      "Best Dist:  0.2910174587429198\n",
      "Average Dist:  0.38559411210270234\n",
      "Best Adj Error:  20.0\n",
      "Average Adj Dist Error:  28.88\n"
     ]
    },
    {
     "name": "stderr",
     "output_type": "stream",
     "text": [
      " 14%|█▍        | 14/100 [00:40<03:37,  2.53s/it]"
     ]
    },
    {
     "name": "stdout",
     "output_type": "stream",
     "text": [
      "extreme\n",
      "Best Dist:  0.2910174587429198\n",
      "Average Dist:  0.39240425672087764\n",
      "Best Adj Error:  20.0\n",
      "Average Adj Dist Error:  28.49\n"
     ]
    },
    {
     "name": "stderr",
     "output_type": "stream",
     "text": [
      " 15%|█▌        | 15/100 [00:42<03:32,  2.50s/it]"
     ]
    },
    {
     "name": "stdout",
     "output_type": "stream",
     "text": [
      "extreme\n",
      "Best Dist:  0.28769546337940893\n",
      "Average Dist:  0.38258525475894767\n",
      "Best Adj Error:  26.0\n",
      "Average Adj Dist Error:  28.3\n"
     ]
    },
    {
     "name": "stderr",
     "output_type": "stream",
     "text": [
      " 16%|█▌        | 16/100 [00:44<03:29,  2.50s/it]"
     ]
    },
    {
     "name": "stdout",
     "output_type": "stream",
     "text": [
      "extreme\n",
      "Best Dist:  0.25103430011258127\n",
      "Average Dist:  0.3755368372393464\n",
      "Best Adj Error:  30.0\n",
      "Average Adj Dist Error:  28.23\n"
     ]
    },
    {
     "name": "stderr",
     "output_type": "stream",
     "text": [
      " 17%|█▋        | 17/100 [00:48<03:43,  2.69s/it]"
     ]
    },
    {
     "name": "stdout",
     "output_type": "stream",
     "text": [
      "extreme\n",
      "Best Dist:  0.25103430011258127\n",
      "Average Dist:  0.3666414333477025\n",
      "Best Adj Error:  30.0\n",
      "Average Adj Dist Error:  28.74\n"
     ]
    },
    {
     "name": "stderr",
     "output_type": "stream",
     "text": [
      " 18%|█▊        | 18/100 [00:51<03:55,  2.87s/it]"
     ]
    },
    {
     "name": "stdout",
     "output_type": "stream",
     "text": [
      "extreme\n",
      "Best Dist:  0.25103430011258127\n",
      "Average Dist:  0.349869699296138\n",
      "Best Adj Error:  30.0\n",
      "Average Adj Dist Error:  28.78\n"
     ]
    },
    {
     "name": "stderr",
     "output_type": "stream",
     "text": [
      " 19%|█▉        | 19/100 [00:54<03:48,  2.82s/it]"
     ]
    },
    {
     "name": "stdout",
     "output_type": "stream",
     "text": [
      "extreme\n",
      "Best Dist:  0.25103430011258127\n",
      "Average Dist:  0.3466263511290791\n",
      "Best Adj Error:  30.0\n",
      "Average Adj Dist Error:  28.8\n"
     ]
    },
    {
     "name": "stderr",
     "output_type": "stream",
     "text": [
      " 20%|██        | 20/100 [00:57<03:56,  2.96s/it]"
     ]
    },
    {
     "name": "stdout",
     "output_type": "stream",
     "text": [
      "extreme\n",
      "Best Dist:  0.25103430011258127\n",
      "Average Dist:  0.3315698148754925\n",
      "Best Adj Error:  30.0\n",
      "Average Adj Dist Error:  29.34\n"
     ]
    },
    {
     "name": "stderr",
     "output_type": "stream",
     "text": [
      " 21%|██        | 21/100 [01:00<03:48,  2.89s/it]"
     ]
    },
    {
     "name": "stdout",
     "output_type": "stream",
     "text": [
      "extreme\n",
      "Best Dist:  0.25103430011258127\n",
      "Average Dist:  0.3375019471416365\n",
      "Best Adj Error:  30.0\n",
      "Average Adj Dist Error:  30.12\n"
     ]
    },
    {
     "name": "stderr",
     "output_type": "stream",
     "text": [
      " 22%|██▏       | 22/100 [01:02<03:45,  2.89s/it]"
     ]
    },
    {
     "name": "stdout",
     "output_type": "stream",
     "text": [
      "extreme\n",
      "Best Dist:  0.25103430011258127\n",
      "Average Dist:  0.3258996461660301\n",
      "Best Adj Error:  30.0\n",
      "Average Adj Dist Error:  31.12\n"
     ]
    },
    {
     "name": "stderr",
     "output_type": "stream",
     "text": [
      " 23%|██▎       | 23/100 [01:05<03:37,  2.83s/it]"
     ]
    },
    {
     "name": "stdout",
     "output_type": "stream",
     "text": [
      "extreme\n",
      "Best Dist:  0.25103430011258127\n",
      "Average Dist:  0.3254117690870731\n",
      "Best Adj Error:  30.0\n",
      "Average Adj Dist Error:  31.35\n"
     ]
    },
    {
     "name": "stderr",
     "output_type": "stream",
     "text": [
      " 24%|██▍       | 24/100 [01:08<03:29,  2.76s/it]"
     ]
    },
    {
     "name": "stdout",
     "output_type": "stream",
     "text": [
      "extreme\n",
      "Best Dist:  0.25103430011258127\n",
      "Average Dist:  0.32092631386558623\n",
      "Best Adj Error:  30.0\n",
      "Average Adj Dist Error:  31.17\n"
     ]
    },
    {
     "name": "stderr",
     "output_type": "stream",
     "text": [
      " 25%|██▌       | 25/100 [01:12<03:59,  3.19s/it]"
     ]
    },
    {
     "name": "stdout",
     "output_type": "stream",
     "text": [
      "extreme\n",
      "Best Dist:  0.25103430011258127\n",
      "Average Dist:  0.332520773122316\n",
      "Best Adj Error:  30.0\n",
      "Average Adj Dist Error:  31.56\n"
     ]
    },
    {
     "name": "stderr",
     "output_type": "stream",
     "text": [
      " 26%|██▌       | 26/100 [01:15<03:52,  3.14s/it]"
     ]
    },
    {
     "name": "stdout",
     "output_type": "stream",
     "text": [
      "extreme\n",
      "Best Dist:  0.25103430011258127\n",
      "Average Dist:  0.341017160823083\n",
      "Best Adj Error:  30.0\n",
      "Average Adj Dist Error:  31.89\n"
     ]
    },
    {
     "name": "stderr",
     "output_type": "stream",
     "text": [
      " 27%|██▋       | 27/100 [01:18<03:42,  3.05s/it]"
     ]
    },
    {
     "name": "stdout",
     "output_type": "stream",
     "text": [
      "extreme\n",
      "Best Dist:  0.25103430011258127\n",
      "Average Dist:  0.32947037068744406\n",
      "Best Adj Error:  30.0\n",
      "Average Adj Dist Error:  31.99\n"
     ]
    },
    {
     "name": "stderr",
     "output_type": "stream",
     "text": [
      " 28%|██▊       | 28/100 [01:21<03:33,  2.97s/it]"
     ]
    },
    {
     "name": "stdout",
     "output_type": "stream",
     "text": [
      "extreme\n",
      "Best Dist:  0.25103430011258127\n",
      "Average Dist:  0.3213405434366146\n",
      "Best Adj Error:  30.0\n",
      "Average Adj Dist Error:  32.22\n"
     ]
    },
    {
     "name": "stderr",
     "output_type": "stream",
     "text": [
      " 29%|██▉       | 29/100 [01:23<03:20,  2.83s/it]"
     ]
    },
    {
     "name": "stdout",
     "output_type": "stream",
     "text": [
      "extreme\n",
      "Best Dist:  0.25103430011258127\n",
      "Average Dist:  0.3129206626425395\n",
      "Best Adj Error:  30.0\n",
      "Average Adj Dist Error:  32.68\n"
     ]
    },
    {
     "name": "stderr",
     "output_type": "stream",
     "text": [
      " 30%|███       | 30/100 [01:26<03:21,  2.88s/it]"
     ]
    },
    {
     "name": "stdout",
     "output_type": "stream",
     "text": [
      "extreme\n",
      "Best Dist:  0.25103430011258127\n",
      "Average Dist:  0.3222244393425243\n",
      "Best Adj Error:  30.0\n",
      "Average Adj Dist Error:  33.04\n"
     ]
    },
    {
     "name": "stderr",
     "output_type": "stream",
     "text": [
      " 31%|███       | 31/100 [01:29<03:20,  2.91s/it]"
     ]
    },
    {
     "name": "stdout",
     "output_type": "stream",
     "text": [
      "extreme\n",
      "Best Dist:  0.25103430011258127\n",
      "Average Dist:  0.3206028527731455\n",
      "Best Adj Error:  30.0\n",
      "Average Adj Dist Error:  32.9\n"
     ]
    },
    {
     "name": "stderr",
     "output_type": "stream",
     "text": [
      " 32%|███▏      | 32/100 [01:32<03:10,  2.80s/it]"
     ]
    },
    {
     "name": "stdout",
     "output_type": "stream",
     "text": [
      "extreme\n",
      "Best Dist:  0.25103430011258127\n",
      "Average Dist:  0.2796023539204786\n",
      "Best Adj Error:  30.0\n",
      "Average Adj Dist Error:  32.17\n"
     ]
    },
    {
     "name": "stderr",
     "output_type": "stream",
     "text": [
      " 33%|███▎      | 33/100 [01:34<03:00,  2.70s/it]"
     ]
    },
    {
     "name": "stdout",
     "output_type": "stream",
     "text": [
      "extreme\n",
      "Best Dist:  0.24263343571922102\n",
      "Average Dist:  0.2792952930669453\n",
      "Best Adj Error:  28.0\n",
      "Average Adj Dist Error:  30.42\n"
     ]
    },
    {
     "name": "stderr",
     "output_type": "stream",
     "text": [
      " 34%|███▍      | 34/100 [01:37<02:59,  2.72s/it]"
     ]
    },
    {
     "name": "stdout",
     "output_type": "stream",
     "text": [
      "extreme\n",
      "Best Dist:  0.24263343571922102\n",
      "Average Dist:  0.28530604628432493\n",
      "Best Adj Error:  28.0\n",
      "Average Adj Dist Error:  30.4\n"
     ]
    },
    {
     "name": "stderr",
     "output_type": "stream",
     "text": [
      " 35%|███▌      | 35/100 [01:40<02:56,  2.72s/it]"
     ]
    },
    {
     "name": "stdout",
     "output_type": "stream",
     "text": [
      "extreme\n",
      "Best Dist:  0.24263343571922102\n",
      "Average Dist:  0.2514279479611093\n",
      "Best Adj Error:  28.0\n",
      "Average Adj Dist Error:  29.99\n"
     ]
    },
    {
     "name": "stderr",
     "output_type": "stream",
     "text": [
      " 36%|███▌      | 36/100 [01:42<02:50,  2.66s/it]"
     ]
    },
    {
     "name": "stdout",
     "output_type": "stream",
     "text": [
      "extreme\n",
      "Best Dist:  0.24263343571922102\n",
      "Average Dist:  0.27670620799384\n",
      "Best Adj Error:  28.0\n",
      "Average Adj Dist Error:  30.19\n"
     ]
    },
    {
     "name": "stderr",
     "output_type": "stream",
     "text": [
      " 37%|███▋      | 37/100 [01:45<02:45,  2.62s/it]"
     ]
    },
    {
     "name": "stdout",
     "output_type": "stream",
     "text": [
      "extreme\n",
      "Best Dist:  0.24263343571922102\n",
      "Average Dist:  0.2634190802866709\n",
      "Best Adj Error:  28.0\n",
      "Average Adj Dist Error:  30.01\n"
     ]
    },
    {
     "name": "stderr",
     "output_type": "stream",
     "text": [
      " 38%|███▊      | 38/100 [01:47<02:44,  2.66s/it]"
     ]
    },
    {
     "name": "stdout",
     "output_type": "stream",
     "text": [
      "extreme\n",
      "Best Dist:  0.24263343571922102\n",
      "Average Dist:  0.3207912466381092\n",
      "Best Adj Error:  28.0\n",
      "Average Adj Dist Error:  30.36\n"
     ]
    },
    {
     "name": "stderr",
     "output_type": "stream",
     "text": [
      " 39%|███▉      | 39/100 [01:50<02:39,  2.61s/it]"
     ]
    },
    {
     "name": "stdout",
     "output_type": "stream",
     "text": [
      "extreme\n",
      "Best Dist:  0.24263343571922102\n",
      "Average Dist:  0.25988985490785377\n",
      "Best Adj Error:  28.0\n",
      "Average Adj Dist Error:  29.87\n"
     ]
    },
    {
     "name": "stderr",
     "output_type": "stream",
     "text": [
      " 40%|████      | 40/100 [01:52<02:35,  2.59s/it]"
     ]
    },
    {
     "name": "stdout",
     "output_type": "stream",
     "text": [
      "extreme\n",
      "Best Dist:  0.24263343571922102\n",
      "Average Dist:  0.2540264044099719\n",
      "Best Adj Error:  28.0\n",
      "Average Adj Dist Error:  29.49\n"
     ]
    },
    {
     "name": "stderr",
     "output_type": "stream",
     "text": [
      " 41%|████      | 41/100 [01:55<02:30,  2.55s/it]"
     ]
    },
    {
     "name": "stdout",
     "output_type": "stream",
     "text": [
      "extreme\n",
      "Best Dist:  0.24263343571922102\n",
      "Average Dist:  0.2834412126429734\n",
      "Best Adj Error:  28.0\n",
      "Average Adj Dist Error:  29.29\n"
     ]
    },
    {
     "name": "stderr",
     "output_type": "stream",
     "text": [
      " 42%|████▏     | 42/100 [01:57<02:28,  2.57s/it]"
     ]
    },
    {
     "name": "stdout",
     "output_type": "stream",
     "text": [
      "extreme\n",
      "Best Dist:  0.22027400360482488\n",
      "Average Dist:  0.28935827242026674\n",
      "Best Adj Error:  24.0\n",
      "Average Adj Dist Error:  28.69\n"
     ]
    },
    {
     "name": "stderr",
     "output_type": "stream",
     "text": [
      " 43%|████▎     | 43/100 [02:00<02:23,  2.52s/it]"
     ]
    },
    {
     "name": "stdout",
     "output_type": "stream",
     "text": [
      "extreme\n",
      "Best Dist:  0.22027400360482488\n",
      "Average Dist:  0.29781855133568613\n",
      "Best Adj Error:  24.0\n",
      "Average Adj Dist Error:  28.49\n"
     ]
    },
    {
     "name": "stderr",
     "output_type": "stream",
     "text": [
      " 44%|████▍     | 44/100 [02:02<02:20,  2.50s/it]"
     ]
    },
    {
     "name": "stdout",
     "output_type": "stream",
     "text": [
      "extreme\n",
      "Best Dist:  0.22027400360482488\n",
      "Average Dist:  0.25587108922457674\n",
      "Best Adj Error:  24.0\n",
      "Average Adj Dist Error:  28.08\n"
     ]
    },
    {
     "name": "stderr",
     "output_type": "stream",
     "text": [
      " 45%|████▌     | 45/100 [02:05<02:23,  2.61s/it]"
     ]
    },
    {
     "name": "stdout",
     "output_type": "stream",
     "text": [
      "extreme\n",
      "Best Dist:  0.22027400360482488\n",
      "Average Dist:  0.25004081262345035\n",
      "Best Adj Error:  24.0\n",
      "Average Adj Dist Error:  27.93\n"
     ]
    },
    {
     "name": "stderr",
     "output_type": "stream",
     "text": [
      " 46%|████▌     | 46/100 [02:08<02:21,  2.62s/it]"
     ]
    },
    {
     "name": "stdout",
     "output_type": "stream",
     "text": [
      "extreme\n",
      "Best Dist:  0.22027400360482488\n",
      "Average Dist:  0.24647225286042357\n",
      "Best Adj Error:  24.0\n",
      "Average Adj Dist Error:  27.86\n"
     ]
    },
    {
     "name": "stderr",
     "output_type": "stream",
     "text": [
      " 47%|████▋     | 47/100 [02:10<02:19,  2.63s/it]"
     ]
    },
    {
     "name": "stdout",
     "output_type": "stream",
     "text": [
      "extreme\n",
      "Best Dist:  0.22027400360482488\n",
      "Average Dist:  0.2864547462569653\n",
      "Best Adj Error:  24.0\n",
      "Average Adj Dist Error:  28.02\n"
     ]
    },
    {
     "name": "stderr",
     "output_type": "stream",
     "text": [
      " 48%|████▊     | 48/100 [02:13<02:15,  2.60s/it]"
     ]
    },
    {
     "name": "stdout",
     "output_type": "stream",
     "text": [
      "extreme\n",
      "Best Dist:  0.22027400360482488\n",
      "Average Dist:  0.2527363602426121\n",
      "Best Adj Error:  24.0\n",
      "Average Adj Dist Error:  27.53\n"
     ]
    },
    {
     "name": "stderr",
     "output_type": "stream",
     "text": [
      " 49%|████▉     | 49/100 [02:15<02:10,  2.55s/it]"
     ]
    },
    {
     "name": "stdout",
     "output_type": "stream",
     "text": [
      "extreme\n",
      "Best Dist:  0.22027400360482488\n",
      "Average Dist:  0.2743511557914467\n",
      "Best Adj Error:  24.0\n",
      "Average Adj Dist Error:  27.1\n"
     ]
    },
    {
     "name": "stderr",
     "output_type": "stream",
     "text": [
      " 50%|█████     | 50/100 [02:18<02:07,  2.56s/it]"
     ]
    },
    {
     "name": "stdout",
     "output_type": "stream",
     "text": [
      "extreme\n",
      "Best Dist:  0.22027400360482488\n",
      "Average Dist:  0.2923275323439027\n",
      "Best Adj Error:  24.0\n",
      "Average Adj Dist Error:  27.02\n"
     ]
    },
    {
     "name": "stderr",
     "output_type": "stream",
     "text": [
      " 51%|█████     | 51/100 [02:21<02:04,  2.54s/it]"
     ]
    },
    {
     "name": "stdout",
     "output_type": "stream",
     "text": [
      "extreme\n",
      "Best Dist:  0.22027400360482488\n",
      "Average Dist:  0.29307999135791435\n",
      "Best Adj Error:  24.0\n",
      "Average Adj Dist Error:  26.33\n"
     ]
    },
    {
     "name": "stderr",
     "output_type": "stream",
     "text": [
      " 52%|█████▏    | 52/100 [02:23<02:00,  2.51s/it]"
     ]
    },
    {
     "name": "stdout",
     "output_type": "stream",
     "text": [
      "extreme\n",
      "Best Dist:  0.22027400360482488\n",
      "Average Dist:  0.2547579968572526\n",
      "Best Adj Error:  24.0\n",
      "Average Adj Dist Error:  25.02\n"
     ]
    },
    {
     "name": "stderr",
     "output_type": "stream",
     "text": [
      " 53%|█████▎    | 53/100 [02:25<01:57,  2.50s/it]"
     ]
    },
    {
     "name": "stdout",
     "output_type": "stream",
     "text": [
      "extreme\n",
      "Best Dist:  0.22027400360482488\n",
      "Average Dist:  0.2327034275547448\n",
      "Best Adj Error:  24.0\n",
      "Average Adj Dist Error:  24.15\n"
     ]
    },
    {
     "name": "stderr",
     "output_type": "stream",
     "text": [
      " 54%|█████▍    | 54/100 [02:28<01:53,  2.47s/it]"
     ]
    },
    {
     "name": "stdout",
     "output_type": "stream",
     "text": [
      "extreme\n",
      "Best Dist:  0.22027400360482488\n",
      "Average Dist:  0.22807244209022812\n",
      "Best Adj Error:  24.0\n",
      "Average Adj Dist Error:  24.05\n"
     ]
    },
    {
     "name": "stderr",
     "output_type": "stream",
     "text": [
      " 55%|█████▌    | 55/100 [02:30<01:52,  2.50s/it]"
     ]
    },
    {
     "name": "stdout",
     "output_type": "stream",
     "text": [
      "extreme\n",
      "Best Dist:  0.22027400360482488\n",
      "Average Dist:  0.25325670256999755\n",
      "Best Adj Error:  24.0\n",
      "Average Adj Dist Error:  24.21\n",
      "extreme\n"
     ]
    },
    {
     "name": "stderr",
     "output_type": "stream",
     "text": [
      " 56%|█████▌    | 56/100 [02:34<02:09,  2.95s/it]"
     ]
    },
    {
     "name": "stdout",
     "output_type": "stream",
     "text": [
      "Best Dist:  0.22027400360482488\n",
      "Average Dist:  0.5628968886295574\n",
      "Best Adj Error:  24.0\n",
      "Average Adj Dist Error:  38.61\n",
      "extreme\n"
     ]
    },
    {
     "name": "stderr",
     "output_type": "stream",
     "text": [
      " 57%|█████▋    | 57/100 [02:39<02:23,  3.35s/it]"
     ]
    },
    {
     "name": "stdout",
     "output_type": "stream",
     "text": [
      "new injection\n",
      "Best Dist:  0.22027400360482488\n",
      "Average Dist:  0.5907680591447154\n",
      "Best Adj Error:  24.0\n",
      "Average Adj Dist Error:  38.11\n",
      "extreme\n"
     ]
    },
    {
     "name": "stderr",
     "output_type": "stream",
     "text": [
      " 58%|█████▊    | 58/100 [02:43<02:28,  3.53s/it]"
     ]
    },
    {
     "name": "stdout",
     "output_type": "stream",
     "text": [
      "Best Dist:  0.22027400360482488\n",
      "Average Dist:  0.5738743915929456\n",
      "Best Adj Error:  24.0\n",
      "Average Adj Dist Error:  38.5\n",
      "extreme\n"
     ]
    },
    {
     "name": "stderr",
     "output_type": "stream",
     "text": [
      " 59%|█████▉    | 59/100 [02:47<02:31,  3.69s/it]"
     ]
    },
    {
     "name": "stdout",
     "output_type": "stream",
     "text": [
      "Best Dist:  0.22027400360482488\n",
      "Average Dist:  0.5793286956669053\n",
      "Best Adj Error:  24.0\n",
      "Average Adj Dist Error:  38.23\n",
      "extreme\n"
     ]
    },
    {
     "name": "stderr",
     "output_type": "stream",
     "text": [
      " 60%|██████    | 60/100 [02:51<02:31,  3.79s/it]"
     ]
    },
    {
     "name": "stdout",
     "output_type": "stream",
     "text": [
      "Best Dist:  0.22027400360482488\n",
      "Average Dist:  0.5705652208339099\n",
      "Best Adj Error:  24.0\n",
      "Average Adj Dist Error:  37.7\n",
      "extreme\n"
     ]
    },
    {
     "name": "stderr",
     "output_type": "stream",
     "text": [
      " 61%|██████    | 61/100 [02:55<02:33,  3.94s/it]"
     ]
    },
    {
     "name": "stdout",
     "output_type": "stream",
     "text": [
      "Best Dist:  0.22027400360482488\n",
      "Average Dist:  0.56917473429102\n",
      "Best Adj Error:  24.0\n",
      "Average Adj Dist Error:  37.7\n",
      "extreme\n"
     ]
    },
    {
     "name": "stderr",
     "output_type": "stream",
     "text": [
      " 62%|██████▏   | 62/100 [02:59<02:31,  3.98s/it]"
     ]
    },
    {
     "name": "stdout",
     "output_type": "stream",
     "text": [
      "new injection\n",
      "Best Dist:  0.22027400360482488\n",
      "Average Dist:  0.58772298803901\n",
      "Best Adj Error:  24.0\n",
      "Average Adj Dist Error:  38.07\n",
      "extreme\n"
     ]
    },
    {
     "name": "stderr",
     "output_type": "stream",
     "text": [
      " 63%|██████▎   | 63/100 [03:03<02:28,  4.01s/it]"
     ]
    },
    {
     "name": "stdout",
     "output_type": "stream",
     "text": [
      "Best Dist:  0.22027400360482488\n",
      "Average Dist:  0.5584501573724951\n",
      "Best Adj Error:  24.0\n",
      "Average Adj Dist Error:  37.46\n",
      "extreme\n"
     ]
    },
    {
     "name": "stderr",
     "output_type": "stream",
     "text": [
      " 64%|██████▍   | 64/100 [03:07<02:26,  4.07s/it]"
     ]
    },
    {
     "name": "stdout",
     "output_type": "stream",
     "text": [
      "Best Dist:  0.22027400360482488\n",
      "Average Dist:  0.58674486381542\n",
      "Best Adj Error:  24.0\n",
      "Average Adj Dist Error:  39.19\n",
      "extreme\n"
     ]
    },
    {
     "name": "stderr",
     "output_type": "stream",
     "text": [
      " 65%|██████▌   | 65/100 [03:12<02:23,  4.11s/it]"
     ]
    },
    {
     "name": "stdout",
     "output_type": "stream",
     "text": [
      "Best Dist:  0.22027400360482488\n",
      "Average Dist:  0.5825717816185163\n",
      "Best Adj Error:  24.0\n",
      "Average Adj Dist Error:  38.28\n",
      "extreme\n"
     ]
    },
    {
     "name": "stderr",
     "output_type": "stream",
     "text": [
      " 66%|██████▌   | 66/100 [03:16<02:18,  4.09s/it]"
     ]
    },
    {
     "name": "stdout",
     "output_type": "stream",
     "text": [
      "Best Dist:  0.22027400360482488\n",
      "Average Dist:  0.5728134517556887\n",
      "Best Adj Error:  24.0\n",
      "Average Adj Dist Error:  37.18\n",
      "extreme\n"
     ]
    },
    {
     "name": "stderr",
     "output_type": "stream",
     "text": [
      " 67%|██████▋   | 67/100 [03:20<02:14,  4.07s/it]"
     ]
    },
    {
     "name": "stdout",
     "output_type": "stream",
     "text": [
      "new injection\n",
      "Best Dist:  0.22027400360482488\n",
      "Average Dist:  0.5742796647025993\n",
      "Best Adj Error:  24.0\n",
      "Average Adj Dist Error:  38.62\n",
      "extreme\n"
     ]
    },
    {
     "name": "stderr",
     "output_type": "stream",
     "text": [
      " 68%|██████▊   | 68/100 [03:24<02:09,  4.03s/it]"
     ]
    },
    {
     "name": "stdout",
     "output_type": "stream",
     "text": [
      "Best Dist:  0.22027400360482488\n",
      "Average Dist:  0.5705990818434166\n",
      "Best Adj Error:  24.0\n",
      "Average Adj Dist Error:  38.4\n",
      "extreme\n"
     ]
    },
    {
     "name": "stderr",
     "output_type": "stream",
     "text": [
      " 69%|██████▉   | 69/100 [03:28<02:04,  4.03s/it]"
     ]
    },
    {
     "name": "stdout",
     "output_type": "stream",
     "text": [
      "Best Dist:  0.22027400360482488\n",
      "Average Dist:  0.5850365924451618\n",
      "Best Adj Error:  24.0\n",
      "Average Adj Dist Error:  37.63\n",
      "extreme\n"
     ]
    },
    {
     "name": "stderr",
     "output_type": "stream",
     "text": [
      " 70%|███████   | 70/100 [03:32<01:59,  3.99s/it]"
     ]
    },
    {
     "name": "stdout",
     "output_type": "stream",
     "text": [
      "Best Dist:  0.22027400360482488\n",
      "Average Dist:  0.5688341257333408\n",
      "Best Adj Error:  24.0\n",
      "Average Adj Dist Error:  37.84\n",
      "extreme\n"
     ]
    },
    {
     "name": "stderr",
     "output_type": "stream",
     "text": [
      " 71%|███████   | 71/100 [03:36<01:57,  4.04s/it]"
     ]
    },
    {
     "name": "stdout",
     "output_type": "stream",
     "text": [
      "Best Dist:  0.22027400360482488\n",
      "Average Dist:  0.5734759407182866\n",
      "Best Adj Error:  24.0\n",
      "Average Adj Dist Error:  38.28\n",
      "extreme\n"
     ]
    },
    {
     "name": "stderr",
     "output_type": "stream",
     "text": [
      " 72%|███████▏  | 72/100 [03:40<01:53,  4.07s/it]"
     ]
    },
    {
     "name": "stdout",
     "output_type": "stream",
     "text": [
      "new injection\n",
      "Best Dist:  0.22027400360482488\n",
      "Average Dist:  0.5925921498139068\n",
      "Best Adj Error:  24.0\n",
      "Average Adj Dist Error:  39.39\n",
      "extreme\n"
     ]
    },
    {
     "name": "stderr",
     "output_type": "stream",
     "text": [
      " 73%|███████▎  | 73/100 [03:44<01:50,  4.07s/it]"
     ]
    },
    {
     "name": "stdout",
     "output_type": "stream",
     "text": [
      "Best Dist:  0.22027400360482488\n",
      "Average Dist:  0.5735557066416551\n",
      "Best Adj Error:  24.0\n",
      "Average Adj Dist Error:  38.53\n",
      "extreme\n"
     ]
    },
    {
     "name": "stderr",
     "output_type": "stream",
     "text": [
      " 74%|███████▍  | 74/100 [03:48<01:45,  4.06s/it]"
     ]
    },
    {
     "name": "stdout",
     "output_type": "stream",
     "text": [
      "Best Dist:  0.22027400360482488\n",
      "Average Dist:  0.5759727070545759\n",
      "Best Adj Error:  24.0\n",
      "Average Adj Dist Error:  38.28\n",
      "extreme\n"
     ]
    },
    {
     "name": "stderr",
     "output_type": "stream",
     "text": [
      " 75%|███████▌  | 75/100 [03:52<01:42,  4.10s/it]"
     ]
    },
    {
     "name": "stdout",
     "output_type": "stream",
     "text": [
      "Best Dist:  0.22027400360482488\n",
      "Average Dist:  0.5751297577777856\n",
      "Best Adj Error:  24.0\n",
      "Average Adj Dist Error:  38.13\n",
      "extreme\n"
     ]
    },
    {
     "name": "stderr",
     "output_type": "stream",
     "text": [
      " 76%|███████▌  | 76/100 [03:56<01:39,  4.15s/it]"
     ]
    },
    {
     "name": "stdout",
     "output_type": "stream",
     "text": [
      "Best Dist:  0.22027400360482488\n",
      "Average Dist:  0.5767659307400518\n",
      "Best Adj Error:  24.0\n",
      "Average Adj Dist Error:  39.18\n",
      "extreme\n"
     ]
    },
    {
     "name": "stderr",
     "output_type": "stream",
     "text": [
      " 77%|███████▋  | 77/100 [04:00<01:34,  4.13s/it]"
     ]
    },
    {
     "name": "stdout",
     "output_type": "stream",
     "text": [
      "new injection\n",
      "Best Dist:  0.22027400360482488\n",
      "Average Dist:  0.5855250687234319\n",
      "Best Adj Error:  24.0\n",
      "Average Adj Dist Error:  38.46\n",
      "extreme\n"
     ]
    },
    {
     "name": "stderr",
     "output_type": "stream",
     "text": [
      " 78%|███████▊  | 78/100 [04:04<01:29,  4.06s/it]"
     ]
    },
    {
     "name": "stdout",
     "output_type": "stream",
     "text": [
      "Best Dist:  0.22027400360482488\n",
      "Average Dist:  0.5848739473951983\n",
      "Best Adj Error:  24.0\n",
      "Average Adj Dist Error:  38.23\n",
      "extreme\n"
     ]
    },
    {
     "name": "stderr",
     "output_type": "stream",
     "text": [
      " 79%|███████▉  | 79/100 [04:08<01:25,  4.06s/it]"
     ]
    },
    {
     "name": "stdout",
     "output_type": "stream",
     "text": [
      "Best Dist:  0.22027400360482488\n",
      "Average Dist:  0.5739445154362461\n",
      "Best Adj Error:  24.0\n",
      "Average Adj Dist Error:  38.45\n",
      "extreme\n"
     ]
    },
    {
     "name": "stderr",
     "output_type": "stream",
     "text": [
      " 80%|████████  | 80/100 [04:13<01:21,  4.08s/it]"
     ]
    },
    {
     "name": "stdout",
     "output_type": "stream",
     "text": [
      "Best Dist:  0.22027400360482488\n",
      "Average Dist:  0.5734475278127877\n",
      "Best Adj Error:  24.0\n",
      "Average Adj Dist Error:  38.24\n",
      "extreme\n"
     ]
    },
    {
     "name": "stderr",
     "output_type": "stream",
     "text": [
      " 81%|████████  | 81/100 [04:17<01:16,  4.05s/it]"
     ]
    },
    {
     "name": "stdout",
     "output_type": "stream",
     "text": [
      "Best Dist:  0.22027400360482488\n",
      "Average Dist:  0.5609204692591702\n",
      "Best Adj Error:  24.0\n",
      "Average Adj Dist Error:  38.31\n",
      "extreme\n"
     ]
    },
    {
     "name": "stderr",
     "output_type": "stream",
     "text": [
      " 82%|████████▏ | 82/100 [04:21<01:13,  4.06s/it]"
     ]
    },
    {
     "name": "stdout",
     "output_type": "stream",
     "text": [
      "new injection\n",
      "Best Dist:  0.22027400360482488\n",
      "Average Dist:  0.5739115624383893\n",
      "Best Adj Error:  24.0\n",
      "Average Adj Dist Error:  38.79\n",
      "extreme\n"
     ]
    },
    {
     "name": "stderr",
     "output_type": "stream",
     "text": [
      " 83%|████████▎ | 83/100 [04:25<01:09,  4.12s/it]"
     ]
    },
    {
     "name": "stdout",
     "output_type": "stream",
     "text": [
      "Best Dist:  0.22027400360482488\n",
      "Average Dist:  0.5707759193317178\n",
      "Best Adj Error:  24.0\n",
      "Average Adj Dist Error:  38.14\n",
      "extreme\n"
     ]
    },
    {
     "name": "stderr",
     "output_type": "stream",
     "text": [
      " 84%|████████▍ | 84/100 [04:29<01:05,  4.11s/it]"
     ]
    },
    {
     "name": "stdout",
     "output_type": "stream",
     "text": [
      "Best Dist:  0.22027400360482488\n",
      "Average Dist:  0.5741730709273074\n",
      "Best Adj Error:  24.0\n",
      "Average Adj Dist Error:  38.61\n",
      "extreme\n"
     ]
    },
    {
     "name": "stderr",
     "output_type": "stream",
     "text": [
      " 85%|████████▌ | 85/100 [04:33<01:01,  4.10s/it]"
     ]
    },
    {
     "name": "stdout",
     "output_type": "stream",
     "text": [
      "Best Dist:  0.22027400360482488\n",
      "Average Dist:  0.5789794214087318\n",
      "Best Adj Error:  24.0\n",
      "Average Adj Dist Error:  38.25\n",
      "extreme\n"
     ]
    },
    {
     "name": "stderr",
     "output_type": "stream",
     "text": [
      " 86%|████████▌ | 86/100 [04:37<00:57,  4.13s/it]"
     ]
    },
    {
     "name": "stdout",
     "output_type": "stream",
     "text": [
      "Best Dist:  0.22027400360482488\n",
      "Average Dist:  0.5721366123671539\n",
      "Best Adj Error:  24.0\n",
      "Average Adj Dist Error:  38.66\n",
      "extreme\n"
     ]
    },
    {
     "name": "stderr",
     "output_type": "stream",
     "text": [
      " 87%|████████▋ | 87/100 [04:41<00:53,  4.11s/it]"
     ]
    },
    {
     "name": "stdout",
     "output_type": "stream",
     "text": [
      "new injection\n",
      "Best Dist:  0.22027400360482488\n",
      "Average Dist:  0.5768849961920242\n",
      "Best Adj Error:  24.0\n",
      "Average Adj Dist Error:  38.48\n",
      "extreme\n"
     ]
    },
    {
     "name": "stderr",
     "output_type": "stream",
     "text": [
      " 88%|████████▊ | 88/100 [04:45<00:48,  4.07s/it]"
     ]
    },
    {
     "name": "stdout",
     "output_type": "stream",
     "text": [
      "Best Dist:  0.22027400360482488\n",
      "Average Dist:  0.5752084384705954\n",
      "Best Adj Error:  24.0\n",
      "Average Adj Dist Error:  38.33\n",
      "extreme\n"
     ]
    },
    {
     "name": "stderr",
     "output_type": "stream",
     "text": [
      " 89%|████████▉ | 89/100 [04:49<00:45,  4.11s/it]"
     ]
    },
    {
     "name": "stdout",
     "output_type": "stream",
     "text": [
      "Best Dist:  0.22027400360482488\n",
      "Average Dist:  0.5728336557896414\n",
      "Best Adj Error:  24.0\n",
      "Average Adj Dist Error:  38.11\n",
      "extreme\n"
     ]
    },
    {
     "name": "stderr",
     "output_type": "stream",
     "text": [
      " 90%|█████████ | 90/100 [04:53<00:40,  4.07s/it]"
     ]
    },
    {
     "name": "stdout",
     "output_type": "stream",
     "text": [
      "Best Dist:  0.22027400360482488\n",
      "Average Dist:  0.5745332436818364\n",
      "Best Adj Error:  24.0\n",
      "Average Adj Dist Error:  38.05\n",
      "extreme\n"
     ]
    },
    {
     "name": "stderr",
     "output_type": "stream",
     "text": [
      " 91%|█████████ | 91/100 [04:57<00:36,  4.06s/it]"
     ]
    },
    {
     "name": "stdout",
     "output_type": "stream",
     "text": [
      "Best Dist:  0.22027400360482488\n",
      "Average Dist:  0.5725126386857512\n",
      "Best Adj Error:  24.0\n",
      "Average Adj Dist Error:  38.39\n",
      "extreme\n"
     ]
    },
    {
     "name": "stderr",
     "output_type": "stream",
     "text": [
      " 92%|█████████▏| 92/100 [05:02<00:32,  4.10s/it]"
     ]
    },
    {
     "name": "stdout",
     "output_type": "stream",
     "text": [
      "new injection\n",
      "Best Dist:  0.22027400360482488\n",
      "Average Dist:  0.5754671075885937\n",
      "Best Adj Error:  24.0\n",
      "Average Adj Dist Error:  38.72\n",
      "extreme\n"
     ]
    },
    {
     "name": "stderr",
     "output_type": "stream",
     "text": [
      " 93%|█████████▎| 93/100 [05:06<00:28,  4.08s/it]"
     ]
    },
    {
     "name": "stdout",
     "output_type": "stream",
     "text": [
      "Best Dist:  0.22027400360482488\n",
      "Average Dist:  0.580784885556588\n",
      "Best Adj Error:  24.0\n",
      "Average Adj Dist Error:  38.52\n",
      "extreme\n"
     ]
    },
    {
     "name": "stderr",
     "output_type": "stream",
     "text": [
      " 94%|█████████▍| 94/100 [05:10<00:24,  4.07s/it]"
     ]
    },
    {
     "name": "stdout",
     "output_type": "stream",
     "text": [
      "Best Dist:  0.22027400360482488\n",
      "Average Dist:  0.5746744993722085\n",
      "Best Adj Error:  24.0\n",
      "Average Adj Dist Error:  38.86\n",
      "extreme\n"
     ]
    },
    {
     "name": "stderr",
     "output_type": "stream",
     "text": [
      " 95%|█████████▌| 95/100 [05:14<00:20,  4.10s/it]"
     ]
    },
    {
     "name": "stdout",
     "output_type": "stream",
     "text": [
      "Best Dist:  0.22027400360482488\n",
      "Average Dist:  0.5750613137674259\n",
      "Best Adj Error:  24.0\n",
      "Average Adj Dist Error:  37.99\n",
      "extreme\n"
     ]
    },
    {
     "name": "stderr",
     "output_type": "stream",
     "text": [
      " 96%|█████████▌| 96/100 [05:18<00:16,  4.08s/it]"
     ]
    },
    {
     "name": "stdout",
     "output_type": "stream",
     "text": [
      "Best Dist:  0.22027400360482488\n",
      "Average Dist:  0.5704227664069778\n",
      "Best Adj Error:  24.0\n",
      "Average Adj Dist Error:  38.18\n",
      "extreme\n"
     ]
    },
    {
     "name": "stderr",
     "output_type": "stream",
     "text": [
      " 97%|█████████▋| 97/100 [05:22<00:12,  4.10s/it]"
     ]
    },
    {
     "name": "stdout",
     "output_type": "stream",
     "text": [
      "new injection\n",
      "Best Dist:  0.22027400360482488\n",
      "Average Dist:  0.6000432050129292\n",
      "Best Adj Error:  24.0\n",
      "Average Adj Dist Error:  38.93\n",
      "extreme\n"
     ]
    },
    {
     "name": "stderr",
     "output_type": "stream",
     "text": [
      " 98%|█████████▊| 98/100 [05:26<00:08,  4.08s/it]"
     ]
    },
    {
     "name": "stdout",
     "output_type": "stream",
     "text": [
      "Best Dist:  0.22027400360482488\n",
      "Average Dist:  0.5681926272915873\n",
      "Best Adj Error:  24.0\n",
      "Average Adj Dist Error:  37.59\n",
      "extreme\n"
     ]
    },
    {
     "name": "stderr",
     "output_type": "stream",
     "text": [
      " 99%|█████████▉| 99/100 [05:30<00:04,  4.10s/it]"
     ]
    },
    {
     "name": "stdout",
     "output_type": "stream",
     "text": [
      "Best Dist:  0.22027400360482488\n",
      "Average Dist:  0.5704092460178345\n",
      "Best Adj Error:  24.0\n",
      "Average Adj Dist Error:  38.71\n",
      "extreme\n"
     ]
    },
    {
     "name": "stderr",
     "output_type": "stream",
     "text": [
      "100%|██████████| 100/100 [05:35<00:00,  3.35s/it]\n"
     ]
    },
    {
     "name": "stdout",
     "output_type": "stream",
     "text": [
      "No fit individual found within iteration limit\n"
     ]
    },
    {
     "name": "stderr",
     "output_type": "stream",
     "text": [
      "  0%|          | 0/100 [00:00<?, ?it/s]"
     ]
    },
    {
     "name": "stdout",
     "output_type": "stream",
     "text": [
      "Best Dist:  0.5148253662463419\n",
      "Average Dist:  0.7000552484526783\n",
      "Best Adj Error:  40.0\n",
      "Average Adj Dist Error:  43.98\n"
     ]
    },
    {
     "name": "stderr",
     "output_type": "stream",
     "text": [
      "  1%|          | 1/100 [00:03<05:20,  3.24s/it]"
     ]
    },
    {
     "name": "stdout",
     "output_type": "stream",
     "text": [
      "Best Dist:  0.5071316769188045\n",
      "Average Dist:  0.6501312215124095\n",
      "Best Adj Error:  36.0\n",
      "Average Adj Dist Error:  44.0\n"
     ]
    },
    {
     "name": "stderr",
     "output_type": "stream",
     "text": [
      "  2%|▏         | 2/100 [00:06<04:55,  3.02s/it]"
     ]
    },
    {
     "name": "stdout",
     "output_type": "stream",
     "text": [
      "Best Dist:  0.2777424367963618\n",
      "Average Dist:  0.6056168219352929\n",
      "Best Adj Error:  30.0\n",
      "Average Adj Dist Error:  42.4\n"
     ]
    },
    {
     "name": "stderr",
     "output_type": "stream",
     "text": [
      "  3%|▎         | 3/100 [00:09<05:29,  3.39s/it]"
     ]
    },
    {
     "name": "stdout",
     "output_type": "stream",
     "text": [
      "Best Dist:  0.2777424367963618\n",
      "Average Dist:  0.5495632130249998\n",
      "Best Adj Error:  30.0\n",
      "Average Adj Dist Error:  41.15\n"
     ]
    },
    {
     "name": "stderr",
     "output_type": "stream",
     "text": [
      "  4%|▍         | 4/100 [00:12<04:49,  3.01s/it]"
     ]
    },
    {
     "name": "stdout",
     "output_type": "stream",
     "text": [
      "Best Dist:  0.2574053638912083\n",
      "Average Dist:  0.5094447178212232\n",
      "Best Adj Error:  48.0\n",
      "Average Adj Dist Error:  39.95\n"
     ]
    },
    {
     "name": "stderr",
     "output_type": "stream",
     "text": [
      "  5%|▌         | 5/100 [00:15<04:36,  2.91s/it]"
     ]
    },
    {
     "name": "stdout",
     "output_type": "stream",
     "text": [
      "Best Dist:  0.2235867919632997\n",
      "Average Dist:  0.47483511968552605\n",
      "Best Adj Error:  38.0\n",
      "Average Adj Dist Error:  39.19\n"
     ]
    },
    {
     "name": "stderr",
     "output_type": "stream",
     "text": [
      "  6%|▌         | 6/100 [00:17<04:21,  2.78s/it]"
     ]
    },
    {
     "name": "stdout",
     "output_type": "stream",
     "text": [
      "Best Dist:  0.2235867919632997\n",
      "Average Dist:  0.4056603458444822\n",
      "Best Adj Error:  38.0\n",
      "Average Adj Dist Error:  38.57\n"
     ]
    },
    {
     "name": "stderr",
     "output_type": "stream",
     "text": [
      "  7%|▋         | 7/100 [00:20<04:11,  2.70s/it]"
     ]
    },
    {
     "name": "stdout",
     "output_type": "stream",
     "text": [
      "extreme\n",
      "Best Dist:  0.21504610720927125\n",
      "Average Dist:  0.37712250723163565\n",
      "Best Adj Error:  32.0\n",
      "Average Adj Dist Error:  38.15\n"
     ]
    },
    {
     "name": "stderr",
     "output_type": "stream",
     "text": [
      "  8%|▊         | 8/100 [00:22<04:08,  2.70s/it]"
     ]
    },
    {
     "name": "stdout",
     "output_type": "stream",
     "text": [
      "extreme\n",
      "Best Dist:  0.20758734741587256\n",
      "Average Dist:  0.37085878697098545\n",
      "Best Adj Error:  34.0\n",
      "Average Adj Dist Error:  37.67\n"
     ]
    },
    {
     "name": "stderr",
     "output_type": "stream",
     "text": [
      "  9%|▉         | 9/100 [00:25<04:06,  2.71s/it]"
     ]
    },
    {
     "name": "stdout",
     "output_type": "stream",
     "text": [
      "extreme\n",
      "Best Dist:  0.20758734741587256\n",
      "Average Dist:  0.329055653730825\n",
      "Best Adj Error:  34.0\n",
      "Average Adj Dist Error:  36.67\n"
     ]
    },
    {
     "name": "stderr",
     "output_type": "stream",
     "text": [
      " 10%|█         | 10/100 [00:28<03:59,  2.66s/it]"
     ]
    },
    {
     "name": "stdout",
     "output_type": "stream",
     "text": [
      "extreme\n",
      "Best Dist:  0.20758734741587256\n",
      "Average Dist:  0.28790922161745813\n",
      "Best Adj Error:  34.0\n",
      "Average Adj Dist Error:  36.36\n"
     ]
    },
    {
     "name": "stderr",
     "output_type": "stream",
     "text": [
      " 11%|█         | 11/100 [00:36<06:21,  4.28s/it]"
     ]
    },
    {
     "name": "stdout",
     "output_type": "stream",
     "text": [
      "extreme\n",
      "Best Dist:  0.1862978773294917\n",
      "Average Dist:  0.3043935648492903\n",
      "Best Adj Error:  34.0\n",
      "Average Adj Dist Error:  36.83\n"
     ]
    },
    {
     "name": "stderr",
     "output_type": "stream",
     "text": [
      " 12%|█▏        | 12/100 [00:43<07:35,  5.18s/it]"
     ]
    },
    {
     "name": "stdout",
     "output_type": "stream",
     "text": [
      "extreme\n",
      "Best Dist:  0.1862978773294917\n",
      "Average Dist:  0.27150180923804224\n",
      "Best Adj Error:  34.0\n",
      "Average Adj Dist Error:  36.36\n"
     ]
    },
    {
     "name": "stderr",
     "output_type": "stream",
     "text": [
      " 13%|█▎        | 13/100 [00:45<06:14,  4.30s/it]"
     ]
    },
    {
     "name": "stdout",
     "output_type": "stream",
     "text": [
      "extreme\n",
      "Best Dist:  0.1862978773294917\n",
      "Average Dist:  0.2872416877797566\n",
      "Best Adj Error:  34.0\n",
      "Average Adj Dist Error:  36.68\n"
     ]
    },
    {
     "name": "stderr",
     "output_type": "stream",
     "text": [
      " 14%|█▍        | 14/100 [00:48<05:26,  3.80s/it]"
     ]
    },
    {
     "name": "stdout",
     "output_type": "stream",
     "text": [
      "extreme\n",
      "Best Dist:  0.15964400962006484\n",
      "Average Dist:  0.2558010393244804\n",
      "Best Adj Error:  44.0\n",
      "Average Adj Dist Error:  36.7\n"
     ]
    },
    {
     "name": "stderr",
     "output_type": "stream",
     "text": [
      " 15%|█▌        | 15/100 [00:51<05:04,  3.58s/it]"
     ]
    },
    {
     "name": "stdout",
     "output_type": "stream",
     "text": [
      "extreme\n",
      "Best Dist:  0.15964400962006484\n",
      "Average Dist:  0.25167779375780575\n",
      "Best Adj Error:  44.0\n",
      "Average Adj Dist Error:  36.44\n"
     ]
    },
    {
     "name": "stderr",
     "output_type": "stream",
     "text": [
      " 16%|█▌        | 16/100 [00:55<05:10,  3.69s/it]"
     ]
    },
    {
     "name": "stdout",
     "output_type": "stream",
     "text": [
      "extreme\n",
      "Best Dist:  0.15964400962006484\n",
      "Average Dist:  0.2848022673025602\n",
      "Best Adj Error:  44.0\n",
      "Average Adj Dist Error:  36.46\n"
     ]
    },
    {
     "name": "stderr",
     "output_type": "stream",
     "text": [
      " 17%|█▋        | 17/100 [01:00<05:33,  4.01s/it]"
     ]
    },
    {
     "name": "stdout",
     "output_type": "stream",
     "text": [
      "extreme\n",
      "Best Dist:  0.15964400962006484\n",
      "Average Dist:  0.24436690471543102\n",
      "Best Adj Error:  44.0\n",
      "Average Adj Dist Error:  36.27\n"
     ]
    },
    {
     "name": "stderr",
     "output_type": "stream",
     "text": [
      " 18%|█▊        | 18/100 [01:03<05:07,  3.76s/it]"
     ]
    },
    {
     "name": "stdout",
     "output_type": "stream",
     "text": [
      "extreme\n",
      "Best Dist:  0.15964400962006484\n",
      "Average Dist:  0.22508487783796938\n",
      "Best Adj Error:  44.0\n",
      "Average Adj Dist Error:  36.23\n"
     ]
    },
    {
     "name": "stderr",
     "output_type": "stream",
     "text": [
      " 19%|█▉        | 19/100 [01:06<04:53,  3.63s/it]"
     ]
    },
    {
     "name": "stdout",
     "output_type": "stream",
     "text": [
      "extreme\n",
      "Best Dist:  0.1593510447946663\n",
      "Average Dist:  0.22171664671852612\n",
      "Best Adj Error:  36.0\n",
      "Average Adj Dist Error:  35.76\n"
     ]
    },
    {
     "name": "stderr",
     "output_type": "stream",
     "text": [
      " 20%|██        | 20/100 [01:41<17:29, 13.11s/it]"
     ]
    },
    {
     "name": "stdout",
     "output_type": "stream",
     "text": [
      "extreme\n",
      "Best Dist:  0.1593510447946663\n",
      "Average Dist:  0.23746942813336486\n",
      "Best Adj Error:  36.0\n",
      "Average Adj Dist Error:  36.39\n"
     ]
    },
    {
     "name": "stderr",
     "output_type": "stream",
     "text": [
      " 21%|██        | 21/100 [02:31<31:50, 24.18s/it]"
     ]
    },
    {
     "name": "stdout",
     "output_type": "stream",
     "text": [
      "extreme\n",
      "Best Dist:  0.15514309943871957\n",
      "Average Dist:  0.2047656425807194\n",
      "Best Adj Error:  36.0\n",
      "Average Adj Dist Error:  36.37\n"
     ]
    },
    {
     "name": "stderr",
     "output_type": "stream",
     "text": [
      " 22%|██▏       | 22/100 [02:38<24:32, 18.88s/it]"
     ]
    },
    {
     "name": "stdout",
     "output_type": "stream",
     "text": [
      "extreme\n",
      "Best Dist:  0.14434495627992952\n",
      "Average Dist:  0.23302715418512382\n",
      "Best Adj Error:  36.0\n",
      "Average Adj Dist Error:  36.31\n"
     ]
    },
    {
     "name": "stderr",
     "output_type": "stream",
     "text": [
      " 23%|██▎       | 23/100 [02:42<18:41, 14.56s/it]"
     ]
    },
    {
     "name": "stdout",
     "output_type": "stream",
     "text": [
      "extreme\n",
      "Best Dist:  0.14434495627992952\n",
      "Average Dist:  0.19762789488079197\n",
      "Best Adj Error:  36.0\n",
      "Average Adj Dist Error:  35.67\n"
     ]
    },
    {
     "name": "stderr",
     "output_type": "stream",
     "text": [
      " 24%|██▍       | 24/100 [02:46<14:13, 11.23s/it]"
     ]
    },
    {
     "name": "stdout",
     "output_type": "stream",
     "text": [
      "extreme\n",
      "Best Dist:  0.1392806107091209\n",
      "Average Dist:  0.19418687666184467\n",
      "Best Adj Error:  36.0\n",
      "Average Adj Dist Error:  34.79\n"
     ]
    },
    {
     "name": "stderr",
     "output_type": "stream",
     "text": [
      " 25%|██▌       | 25/100 [02:49<11:11,  8.96s/it]"
     ]
    },
    {
     "name": "stdout",
     "output_type": "stream",
     "text": [
      "extreme\n",
      "Best Dist:  0.1392806107091209\n",
      "Average Dist:  0.20477718019815833\n",
      "Best Adj Error:  36.0\n",
      "Average Adj Dist Error:  34.87\n"
     ]
    },
    {
     "name": "stderr",
     "output_type": "stream",
     "text": [
      " 26%|██▌       | 26/100 [02:53<08:55,  7.24s/it]"
     ]
    },
    {
     "name": "stdout",
     "output_type": "stream",
     "text": [
      "extreme\n",
      "Best Dist:  0.1392806107091209\n",
      "Average Dist:  0.24388424374660556\n",
      "Best Adj Error:  36.0\n",
      "Average Adj Dist Error:  34.93\n"
     ]
    },
    {
     "name": "stderr",
     "output_type": "stream",
     "text": [
      " 27%|██▋       | 27/100 [02:56<07:20,  6.04s/it]"
     ]
    },
    {
     "name": "stdout",
     "output_type": "stream",
     "text": [
      "extreme\n",
      "Best Dist:  0.13670315728632568\n",
      "Average Dist:  0.18632513148770272\n",
      "Best Adj Error:  38.0\n",
      "Average Adj Dist Error:  34.69\n"
     ]
    },
    {
     "name": "stderr",
     "output_type": "stream",
     "text": [
      " 28%|██▊       | 28/100 [02:59<06:07,  5.11s/it]"
     ]
    },
    {
     "name": "stdout",
     "output_type": "stream",
     "text": [
      "extreme\n",
      "Best Dist:  0.13670315728632568\n",
      "Average Dist:  0.18714663061226644\n",
      "Best Adj Error:  38.0\n",
      "Average Adj Dist Error:  35.55\n"
     ]
    },
    {
     "name": "stderr",
     "output_type": "stream",
     "text": [
      " 29%|██▉       | 29/100 [03:02<05:29,  4.64s/it]"
     ]
    },
    {
     "name": "stdout",
     "output_type": "stream",
     "text": [
      "extreme\n",
      "Best Dist:  0.13670315728632568\n",
      "Average Dist:  0.1689310417975722\n",
      "Best Adj Error:  38.0\n",
      "Average Adj Dist Error:  36.47\n"
     ]
    },
    {
     "name": "stderr",
     "output_type": "stream",
     "text": [
      " 30%|███       | 30/100 [03:06<05:02,  4.32s/it]"
     ]
    },
    {
     "name": "stdout",
     "output_type": "stream",
     "text": [
      "extreme\n",
      "Best Dist:  0.13670315728632568\n",
      "Average Dist:  0.24006727607140202\n",
      "Best Adj Error:  38.0\n",
      "Average Adj Dist Error:  36.69\n"
     ]
    },
    {
     "name": "stderr",
     "output_type": "stream",
     "text": [
      " 31%|███       | 31/100 [03:09<04:31,  3.93s/it]"
     ]
    },
    {
     "name": "stdout",
     "output_type": "stream",
     "text": [
      "extreme\n",
      "Best Dist:  0.13670315728632568\n",
      "Average Dist:  0.15662878315701628\n",
      "Best Adj Error:  38.0\n",
      "Average Adj Dist Error:  35.76\n"
     ]
    },
    {
     "name": "stderr",
     "output_type": "stream",
     "text": [
      " 32%|███▏      | 32/100 [03:12<04:06,  3.62s/it]"
     ]
    },
    {
     "name": "stdout",
     "output_type": "stream",
     "text": [
      "extreme\n",
      "Best Dist:  0.13670315728632568\n",
      "Average Dist:  0.1430150777350168\n",
      "Best Adj Error:  38.0\n",
      "Average Adj Dist Error:  36.88\n"
     ]
    },
    {
     "name": "stderr",
     "output_type": "stream",
     "text": [
      " 33%|███▎      | 33/100 [03:15<04:01,  3.60s/it]"
     ]
    },
    {
     "name": "stdout",
     "output_type": "stream",
     "text": [
      "extreme\n",
      "Best Dist:  0.13394409881302916\n",
      "Average Dist:  0.18483029270077142\n",
      "Best Adj Error:  36.0\n",
      "Average Adj Dist Error:  36.52\n"
     ]
    },
    {
     "name": "stderr",
     "output_type": "stream",
     "text": [
      " 34%|███▍      | 34/100 [03:18<03:39,  3.32s/it]"
     ]
    },
    {
     "name": "stdout",
     "output_type": "stream",
     "text": [
      "extreme\n",
      "Best Dist:  0.13394409881302916\n",
      "Average Dist:  0.14076474153215318\n",
      "Best Adj Error:  36.0\n",
      "Average Adj Dist Error:  35.98\n"
     ]
    },
    {
     "name": "stderr",
     "output_type": "stream",
     "text": [
      " 35%|███▌      | 35/100 [03:21<03:27,  3.19s/it]"
     ]
    },
    {
     "name": "stdout",
     "output_type": "stream",
     "text": [
      "extreme\n",
      "Best Dist:  0.13394409881302916\n",
      "Average Dist:  0.14393991606570275\n",
      "Best Adj Error:  36.0\n",
      "Average Adj Dist Error:  36.18\n"
     ]
    },
    {
     "name": "stderr",
     "output_type": "stream",
     "text": [
      " 36%|███▌      | 36/100 [03:24<03:21,  3.15s/it]"
     ]
    },
    {
     "name": "stdout",
     "output_type": "stream",
     "text": [
      "extreme\n",
      "Best Dist:  0.1323492642492299\n",
      "Average Dist:  0.23850169977823066\n",
      "Best Adj Error:  40.0\n",
      "Average Adj Dist Error:  38.27\n"
     ]
    },
    {
     "name": "stderr",
     "output_type": "stream",
     "text": [
      " 37%|███▋      | 37/100 [03:26<03:04,  2.93s/it]"
     ]
    },
    {
     "name": "stdout",
     "output_type": "stream",
     "text": [
      "extreme\n",
      "Best Dist:  0.1323492642492299\n",
      "Average Dist:  0.20720709513504076\n",
      "Best Adj Error:  40.0\n",
      "Average Adj Dist Error:  38.17\n"
     ]
    },
    {
     "name": "stderr",
     "output_type": "stream",
     "text": [
      " 38%|███▊      | 38/100 [03:32<03:44,  3.62s/it]"
     ]
    },
    {
     "name": "stdout",
     "output_type": "stream",
     "text": [
      "extreme\n",
      "Best Dist:  0.1323492642492299\n",
      "Average Dist:  0.1490759782539628\n",
      "Best Adj Error:  40.0\n",
      "Average Adj Dist Error:  38.11\n"
     ]
    },
    {
     "name": "stderr",
     "output_type": "stream",
     "text": [
      " 39%|███▉      | 39/100 [03:34<03:25,  3.37s/it]"
     ]
    },
    {
     "name": "stdout",
     "output_type": "stream",
     "text": [
      "extreme\n",
      "Best Dist:  0.1323492642492299\n",
      "Average Dist:  0.1507958285530792\n",
      "Best Adj Error:  40.0\n",
      "Average Adj Dist Error:  38.09\n"
     ]
    },
    {
     "name": "stderr",
     "output_type": "stream",
     "text": [
      " 40%|████      | 40/100 [03:37<03:10,  3.18s/it]"
     ]
    },
    {
     "name": "stdout",
     "output_type": "stream",
     "text": [
      "extreme\n",
      "Best Dist:  0.1323492642492299\n",
      "Average Dist:  0.13982028118005518\n",
      "Best Adj Error:  40.0\n",
      "Average Adj Dist Error:  38.21\n"
     ]
    },
    {
     "name": "stderr",
     "output_type": "stream",
     "text": [
      " 41%|████      | 41/100 [03:40<02:57,  3.00s/it]"
     ]
    },
    {
     "name": "stdout",
     "output_type": "stream",
     "text": [
      "extreme\n",
      "Best Dist:  0.1323492642492299\n",
      "Average Dist:  0.2138075586033428\n",
      "Best Adj Error:  40.0\n",
      "Average Adj Dist Error:  38.89\n"
     ]
    },
    {
     "name": "stderr",
     "output_type": "stream",
     "text": [
      " 42%|████▏     | 42/100 [03:44<03:10,  3.29s/it]"
     ]
    },
    {
     "name": "stdout",
     "output_type": "stream",
     "text": [
      "extreme\n",
      "Best Dist:  0.1323492642492299\n",
      "Average Dist:  0.23048821519112717\n",
      "Best Adj Error:  40.0\n",
      "Average Adj Dist Error:  39.4\n"
     ]
    },
    {
     "name": "stderr",
     "output_type": "stream",
     "text": [
      " 43%|████▎     | 43/100 [03:48<03:26,  3.62s/it]"
     ]
    },
    {
     "name": "stdout",
     "output_type": "stream",
     "text": [
      "extreme\n",
      "Best Dist:  0.1323492642492299\n",
      "Average Dist:  0.2524508014169341\n",
      "Best Adj Error:  40.0\n",
      "Average Adj Dist Error:  39.3\n"
     ]
    },
    {
     "name": "stderr",
     "output_type": "stream",
     "text": [
      " 44%|████▍     | 44/100 [03:51<03:05,  3.32s/it]"
     ]
    },
    {
     "name": "stdout",
     "output_type": "stream",
     "text": [
      "extreme\n",
      "Best Dist:  0.1323492642492299\n",
      "Average Dist:  0.18640177892016674\n",
      "Best Adj Error:  40.0\n",
      "Average Adj Dist Error:  39.6\n"
     ]
    },
    {
     "name": "stderr",
     "output_type": "stream",
     "text": [
      " 45%|████▌     | 45/100 [03:53<02:52,  3.14s/it]"
     ]
    },
    {
     "name": "stdout",
     "output_type": "stream",
     "text": [
      "extreme\n",
      "Best Dist:  0.1323492642492299\n",
      "Average Dist:  0.2101057709561945\n",
      "Best Adj Error:  40.0\n",
      "Average Adj Dist Error:  39.95\n",
      "extreme\n"
     ]
    },
    {
     "name": "stderr",
     "output_type": "stream",
     "text": [
      " 46%|████▌     | 46/100 [03:58<03:10,  3.52s/it]"
     ]
    },
    {
     "name": "stdout",
     "output_type": "stream",
     "text": [
      "Best Dist:  0.1323492642492299\n",
      "Average Dist:  0.5644153331532984\n",
      "Best Adj Error:  40.0\n",
      "Average Adj Dist Error:  43.45\n",
      "extreme\n"
     ]
    },
    {
     "name": "stderr",
     "output_type": "stream",
     "text": [
      " 47%|████▋     | 47/100 [04:02<03:17,  3.72s/it]"
     ]
    },
    {
     "name": "stdout",
     "output_type": "stream",
     "text": [
      "new injection\n",
      "Best Dist:  0.1323492642492299\n",
      "Average Dist:  0.570633618697236\n",
      "Best Adj Error:  40.0\n",
      "Average Adj Dist Error:  43.4\n",
      "extreme\n"
     ]
    },
    {
     "name": "stderr",
     "output_type": "stream",
     "text": [
      " 48%|████▊     | 48/100 [04:08<03:42,  4.27s/it]"
     ]
    },
    {
     "name": "stdout",
     "output_type": "stream",
     "text": [
      "Best Dist:  0.1323492642492299\n",
      "Average Dist:  0.563358681227052\n",
      "Best Adj Error:  40.0\n",
      "Average Adj Dist Error:  43.04\n",
      "extreme\n"
     ]
    },
    {
     "name": "stderr",
     "output_type": "stream",
     "text": [
      " 49%|████▉     | 49/100 [04:13<03:53,  4.58s/it]"
     ]
    },
    {
     "name": "stdout",
     "output_type": "stream",
     "text": [
      "Best Dist:  0.1323492642492299\n",
      "Average Dist:  0.5623095346876048\n",
      "Best Adj Error:  40.0\n",
      "Average Adj Dist Error:  43.67\n",
      "extreme\n"
     ]
    },
    {
     "name": "stderr",
     "output_type": "stream",
     "text": [
      " 50%|█████     | 50/100 [04:17<03:47,  4.55s/it]"
     ]
    },
    {
     "name": "stdout",
     "output_type": "stream",
     "text": [
      "Best Dist:  0.1323492642492299\n",
      "Average Dist:  0.5588903971807626\n",
      "Best Adj Error:  40.0\n",
      "Average Adj Dist Error:  43.39\n",
      "extreme\n"
     ]
    },
    {
     "name": "stderr",
     "output_type": "stream",
     "text": [
      " 51%|█████     | 51/100 [04:21<03:35,  4.40s/it]"
     ]
    },
    {
     "name": "stdout",
     "output_type": "stream",
     "text": [
      "Best Dist:  0.1323492642492299\n",
      "Average Dist:  0.5674305376944919\n",
      "Best Adj Error:  40.0\n",
      "Average Adj Dist Error:  43.21\n",
      "extreme\n"
     ]
    },
    {
     "name": "stderr",
     "output_type": "stream",
     "text": [
      " 52%|█████▏    | 52/100 [04:26<03:28,  4.34s/it]"
     ]
    },
    {
     "name": "stdout",
     "output_type": "stream",
     "text": [
      "new injection\n",
      "Best Dist:  0.1323492642492299\n",
      "Average Dist:  0.5726101273948895\n",
      "Best Adj Error:  40.0\n",
      "Average Adj Dist Error:  43.34\n",
      "extreme\n"
     ]
    },
    {
     "name": "stderr",
     "output_type": "stream",
     "text": [
      " 53%|█████▎    | 53/100 [04:30<03:21,  4.28s/it]"
     ]
    },
    {
     "name": "stdout",
     "output_type": "stream",
     "text": [
      "Best Dist:  0.1323492642492299\n",
      "Average Dist:  0.5693818343741281\n",
      "Best Adj Error:  40.0\n",
      "Average Adj Dist Error:  43.84\n",
      "extreme\n"
     ]
    },
    {
     "name": "stderr",
     "output_type": "stream",
     "text": [
      " 54%|█████▍    | 54/100 [04:34<03:15,  4.25s/it]"
     ]
    },
    {
     "name": "stdout",
     "output_type": "stream",
     "text": [
      "Best Dist:  0.1323492642492299\n",
      "Average Dist:  0.5672675747943139\n",
      "Best Adj Error:  40.0\n",
      "Average Adj Dist Error:  43.41\n",
      "extreme\n"
     ]
    },
    {
     "name": "stderr",
     "output_type": "stream",
     "text": [
      " 55%|█████▌    | 55/100 [04:38<03:07,  4.17s/it]"
     ]
    },
    {
     "name": "stdout",
     "output_type": "stream",
     "text": [
      "Best Dist:  0.1323492642492299\n",
      "Average Dist:  0.5668376953270201\n",
      "Best Adj Error:  40.0\n",
      "Average Adj Dist Error:  43.57\n",
      "extreme\n"
     ]
    },
    {
     "name": "stderr",
     "output_type": "stream",
     "text": [
      " 56%|█████▌    | 56/100 [04:43<03:13,  4.39s/it]"
     ]
    },
    {
     "name": "stdout",
     "output_type": "stream",
     "text": [
      "Best Dist:  0.1323492642492299\n",
      "Average Dist:  0.5630437384147853\n",
      "Best Adj Error:  40.0\n",
      "Average Adj Dist Error:  42.83\n",
      "extreme\n"
     ]
    },
    {
     "name": "stderr",
     "output_type": "stream",
     "text": [
      " 57%|█████▋    | 57/100 [04:47<03:07,  4.36s/it]"
     ]
    },
    {
     "name": "stdout",
     "output_type": "stream",
     "text": [
      "new injection\n",
      "Best Dist:  0.1323492642492299\n",
      "Average Dist:  0.5729361613368561\n",
      "Best Adj Error:  40.0\n",
      "Average Adj Dist Error:  42.98\n",
      "extreme\n"
     ]
    },
    {
     "name": "stderr",
     "output_type": "stream",
     "text": [
      " 58%|█████▊    | 58/100 [04:51<02:58,  4.25s/it]"
     ]
    },
    {
     "name": "stdout",
     "output_type": "stream",
     "text": [
      "Best Dist:  0.1323492642492299\n",
      "Average Dist:  0.5635293294190588\n",
      "Best Adj Error:  40.0\n",
      "Average Adj Dist Error:  43.14\n",
      "extreme\n"
     ]
    },
    {
     "name": "stderr",
     "output_type": "stream",
     "text": [
      " 59%|█████▉    | 59/100 [04:55<02:52,  4.20s/it]"
     ]
    },
    {
     "name": "stdout",
     "output_type": "stream",
     "text": [
      "Best Dist:  0.1323492642492299\n",
      "Average Dist:  0.5655207791194008\n",
      "Best Adj Error:  40.0\n",
      "Average Adj Dist Error:  43.83\n",
      "extreme\n"
     ]
    },
    {
     "name": "stderr",
     "output_type": "stream",
     "text": [
      " 60%|██████    | 60/100 [04:59<02:44,  4.12s/it]"
     ]
    },
    {
     "name": "stdout",
     "output_type": "stream",
     "text": [
      "Best Dist:  0.1323492642492299\n",
      "Average Dist:  0.5613586242577194\n",
      "Best Adj Error:  40.0\n",
      "Average Adj Dist Error:  43.3\n",
      "extreme\n"
     ]
    },
    {
     "name": "stderr",
     "output_type": "stream",
     "text": [
      " 61%|██████    | 61/100 [05:03<02:41,  4.14s/it]"
     ]
    },
    {
     "name": "stdout",
     "output_type": "stream",
     "text": [
      "Best Dist:  0.1323492642492299\n",
      "Average Dist:  0.5618772416400264\n",
      "Best Adj Error:  40.0\n",
      "Average Adj Dist Error:  43.46\n",
      "extreme\n"
     ]
    },
    {
     "name": "stderr",
     "output_type": "stream",
     "text": [
      " 62%|██████▏   | 62/100 [05:07<02:35,  4.08s/it]"
     ]
    },
    {
     "name": "stdout",
     "output_type": "stream",
     "text": [
      "new injection\n",
      "Best Dist:  0.1323492642492299\n",
      "Average Dist:  0.5721991410201458\n",
      "Best Adj Error:  40.0\n",
      "Average Adj Dist Error:  43.66\n",
      "extreme\n"
     ]
    },
    {
     "name": "stderr",
     "output_type": "stream",
     "text": [
      " 63%|██████▎   | 63/100 [05:12<02:39,  4.30s/it]"
     ]
    },
    {
     "name": "stdout",
     "output_type": "stream",
     "text": [
      "Best Dist:  0.1323492642492299\n",
      "Average Dist:  0.562641033968146\n",
      "Best Adj Error:  40.0\n",
      "Average Adj Dist Error:  43.58\n",
      "extreme\n"
     ]
    },
    {
     "name": "stderr",
     "output_type": "stream",
     "text": [
      " 64%|██████▍   | 64/100 [05:17<02:39,  4.43s/it]"
     ]
    },
    {
     "name": "stdout",
     "output_type": "stream",
     "text": [
      "Best Dist:  0.1323492642492299\n",
      "Average Dist:  0.5695834049387005\n",
      "Best Adj Error:  40.0\n",
      "Average Adj Dist Error:  44.23\n",
      "extreme\n"
     ]
    },
    {
     "name": "stderr",
     "output_type": "stream",
     "text": [
      " 65%|██████▌   | 65/100 [05:21<02:38,  4.52s/it]"
     ]
    },
    {
     "name": "stdout",
     "output_type": "stream",
     "text": [
      "Best Dist:  0.1323492642492299\n",
      "Average Dist:  0.5637087586882061\n",
      "Best Adj Error:  40.0\n",
      "Average Adj Dist Error:  43.56\n",
      "extreme\n"
     ]
    },
    {
     "name": "stderr",
     "output_type": "stream",
     "text": [
      " 66%|██████▌   | 66/100 [05:25<02:27,  4.34s/it]"
     ]
    },
    {
     "name": "stdout",
     "output_type": "stream",
     "text": [
      "Best Dist:  0.1323492642492299\n",
      "Average Dist:  0.5631112185587092\n",
      "Best Adj Error:  40.0\n",
      "Average Adj Dist Error:  43.53\n",
      "extreme\n"
     ]
    },
    {
     "name": "stderr",
     "output_type": "stream",
     "text": [
      " 67%|██████▋   | 67/100 [05:30<02:22,  4.31s/it]"
     ]
    },
    {
     "name": "stdout",
     "output_type": "stream",
     "text": [
      "new injection\n",
      "Best Dist:  0.1323492642492299\n",
      "Average Dist:  0.5618789007551661\n",
      "Best Adj Error:  40.0\n",
      "Average Adj Dist Error:  42.62\n",
      "extreme\n"
     ]
    },
    {
     "name": "stderr",
     "output_type": "stream",
     "text": [
      " 68%|██████▊   | 68/100 [05:55<05:41, 10.67s/it]"
     ]
    },
    {
     "name": "stdout",
     "output_type": "stream",
     "text": [
      "Best Dist:  0.1323492642492299\n",
      "Average Dist:  0.5624025738382037\n",
      "Best Adj Error:  40.0\n",
      "Average Adj Dist Error:  43.26\n",
      "extreme\n"
     ]
    },
    {
     "name": "stderr",
     "output_type": "stream",
     "text": [
      " 69%|██████▉   | 69/100 [06:08<05:52, 11.38s/it]"
     ]
    },
    {
     "name": "stdout",
     "output_type": "stream",
     "text": [
      "Best Dist:  0.1323492642492299\n",
      "Average Dist:  0.5636661878997539\n",
      "Best Adj Error:  40.0\n",
      "Average Adj Dist Error:  43.62\n",
      "extreme\n"
     ]
    },
    {
     "name": "stderr",
     "output_type": "stream",
     "text": [
      " 70%|███████   | 70/100 [06:13<04:43,  9.46s/it]"
     ]
    },
    {
     "name": "stdout",
     "output_type": "stream",
     "text": [
      "Best Dist:  0.1323492642492299\n",
      "Average Dist:  0.562616421990376\n",
      "Best Adj Error:  40.0\n",
      "Average Adj Dist Error:  42.67\n",
      "extreme\n"
     ]
    },
    {
     "name": "stderr",
     "output_type": "stream",
     "text": [
      " 71%|███████   | 71/100 [06:18<03:51,  7.97s/it]"
     ]
    },
    {
     "name": "stdout",
     "output_type": "stream",
     "text": [
      "Best Dist:  0.1323492642492299\n",
      "Average Dist:  0.5516865580353258\n",
      "Best Adj Error:  40.0\n",
      "Average Adj Dist Error:  42.87\n",
      "extreme\n"
     ]
    },
    {
     "name": "stderr",
     "output_type": "stream",
     "text": [
      " 72%|███████▏  | 72/100 [06:22<03:14,  6.95s/it]"
     ]
    },
    {
     "name": "stdout",
     "output_type": "stream",
     "text": [
      "new injection\n",
      "Best Dist:  0.1323492642492299\n",
      "Average Dist:  0.5685975032511174\n",
      "Best Adj Error:  40.0\n",
      "Average Adj Dist Error:  43.84\n",
      "extreme\n"
     ]
    },
    {
     "name": "stderr",
     "output_type": "stream",
     "text": [
      " 73%|███████▎  | 73/100 [06:26<02:45,  6.12s/it]"
     ]
    },
    {
     "name": "stdout",
     "output_type": "stream",
     "text": [
      "Best Dist:  0.1323492642492299\n",
      "Average Dist:  0.5618692334298074\n",
      "Best Adj Error:  40.0\n",
      "Average Adj Dist Error:  43.05\n",
      "extreme\n"
     ]
    },
    {
     "name": "stderr",
     "output_type": "stream",
     "text": [
      " 74%|███████▍  | 74/100 [06:31<02:24,  5.55s/it]"
     ]
    },
    {
     "name": "stdout",
     "output_type": "stream",
     "text": [
      "Best Dist:  0.1323492642492299\n",
      "Average Dist:  0.5696510444867022\n",
      "Best Adj Error:  40.0\n",
      "Average Adj Dist Error:  43.31\n",
      "extreme\n"
     ]
    },
    {
     "name": "stderr",
     "output_type": "stream",
     "text": [
      " 75%|███████▌  | 75/100 [06:35<02:06,  5.06s/it]"
     ]
    },
    {
     "name": "stdout",
     "output_type": "stream",
     "text": [
      "Best Dist:  0.1323492642492299\n",
      "Average Dist:  0.5634115729907654\n",
      "Best Adj Error:  40.0\n",
      "Average Adj Dist Error:  43.4\n",
      "extreme\n"
     ]
    },
    {
     "name": "stderr",
     "output_type": "stream",
     "text": [
      " 76%|███████▌  | 76/100 [06:38<01:51,  4.66s/it]"
     ]
    },
    {
     "name": "stdout",
     "output_type": "stream",
     "text": [
      "Best Dist:  0.1323492642492299\n",
      "Average Dist:  0.5575928279609788\n",
      "Best Adj Error:  40.0\n",
      "Average Adj Dist Error:  43.37\n",
      "extreme\n"
     ]
    },
    {
     "name": "stderr",
     "output_type": "stream",
     "text": [
      " 77%|███████▋  | 77/100 [06:43<01:45,  4.57s/it]"
     ]
    },
    {
     "name": "stdout",
     "output_type": "stream",
     "text": [
      "new injection\n",
      "Best Dist:  0.1323492642492299\n",
      "Average Dist:  0.5752781356109802\n",
      "Best Adj Error:  40.0\n",
      "Average Adj Dist Error:  43.71\n",
      "extreme\n"
     ]
    },
    {
     "name": "stderr",
     "output_type": "stream",
     "text": [
      " 78%|███████▊  | 78/100 [06:47<01:37,  4.45s/it]"
     ]
    },
    {
     "name": "stdout",
     "output_type": "stream",
     "text": [
      "Best Dist:  0.1323492642492299\n",
      "Average Dist:  0.5660404439429105\n",
      "Best Adj Error:  40.0\n",
      "Average Adj Dist Error:  43.95\n",
      "extreme\n"
     ]
    },
    {
     "name": "stderr",
     "output_type": "stream",
     "text": [
      " 79%|███████▉  | 79/100 [06:51<01:34,  4.49s/it]"
     ]
    },
    {
     "name": "stdout",
     "output_type": "stream",
     "text": [
      "Best Dist:  0.1323492642492299\n",
      "Average Dist:  0.5605918521969041\n",
      "Best Adj Error:  40.0\n",
      "Average Adj Dist Error:  43.84\n",
      "extreme\n"
     ]
    },
    {
     "name": "stderr",
     "output_type": "stream",
     "text": [
      " 80%|████████  | 80/100 [06:55<01:26,  4.32s/it]"
     ]
    },
    {
     "name": "stdout",
     "output_type": "stream",
     "text": [
      "Best Dist:  0.1323492642492299\n",
      "Average Dist:  0.5571224111551869\n",
      "Best Adj Error:  40.0\n",
      "Average Adj Dist Error:  43.53\n",
      "extreme\n"
     ]
    },
    {
     "name": "stderr",
     "output_type": "stream",
     "text": [
      " 81%|████████  | 81/100 [06:59<01:21,  4.26s/it]"
     ]
    },
    {
     "name": "stdout",
     "output_type": "stream",
     "text": [
      "Best Dist:  0.1323492642492299\n",
      "Average Dist:  0.5617463497867382\n",
      "Best Adj Error:  40.0\n",
      "Average Adj Dist Error:  43.82\n",
      "extreme\n"
     ]
    },
    {
     "name": "stderr",
     "output_type": "stream",
     "text": [
      " 82%|████████▏ | 82/100 [07:04<01:18,  4.33s/it]"
     ]
    },
    {
     "name": "stdout",
     "output_type": "stream",
     "text": [
      "new injection\n",
      "Best Dist:  0.1323492642492299\n",
      "Average Dist:  0.5710405936902148\n",
      "Best Adj Error:  40.0\n",
      "Average Adj Dist Error:  43.51\n",
      "extreme\n"
     ]
    },
    {
     "name": "stderr",
     "output_type": "stream",
     "text": [
      " 83%|████████▎ | 83/100 [07:08<01:12,  4.24s/it]"
     ]
    },
    {
     "name": "stdout",
     "output_type": "stream",
     "text": [
      "Best Dist:  0.1323492642492299\n",
      "Average Dist:  0.5617078598569736\n",
      "Best Adj Error:  40.0\n",
      "Average Adj Dist Error:  43.37\n",
      "extreme\n"
     ]
    },
    {
     "name": "stderr",
     "output_type": "stream",
     "text": [
      " 84%|████████▍ | 84/100 [07:12<01:05,  4.10s/it]"
     ]
    },
    {
     "name": "stdout",
     "output_type": "stream",
     "text": [
      "Best Dist:  0.1323492642492299\n",
      "Average Dist:  0.5664189225327134\n",
      "Best Adj Error:  40.0\n",
      "Average Adj Dist Error:  44.0\n",
      "extreme\n"
     ]
    },
    {
     "name": "stderr",
     "output_type": "stream",
     "text": [
      " 85%|████████▌ | 85/100 [07:16<01:03,  4.20s/it]"
     ]
    },
    {
     "name": "stdout",
     "output_type": "stream",
     "text": [
      "Best Dist:  0.1323492642492299\n",
      "Average Dist:  0.5587285135940527\n",
      "Best Adj Error:  40.0\n",
      "Average Adj Dist Error:  43.45\n",
      "extreme\n"
     ]
    },
    {
     "name": "stderr",
     "output_type": "stream",
     "text": [
      " 86%|████████▌ | 86/100 [07:20<00:57,  4.12s/it]"
     ]
    },
    {
     "name": "stdout",
     "output_type": "stream",
     "text": [
      "Best Dist:  0.1323492642492299\n",
      "Average Dist:  0.5596462801509167\n",
      "Best Adj Error:  40.0\n",
      "Average Adj Dist Error:  42.3\n",
      "extreme\n"
     ]
    },
    {
     "name": "stderr",
     "output_type": "stream",
     "text": [
      " 87%|████████▋ | 87/100 [07:24<00:53,  4.10s/it]"
     ]
    },
    {
     "name": "stdout",
     "output_type": "stream",
     "text": [
      "new injection\n",
      "Best Dist:  0.1323492642492299\n",
      "Average Dist:  0.5741345761342916\n",
      "Best Adj Error:  40.0\n",
      "Average Adj Dist Error:  43.91\n",
      "extreme\n"
     ]
    },
    {
     "name": "stderr",
     "output_type": "stream",
     "text": [
      " 88%|████████▊ | 88/100 [07:28<00:49,  4.12s/it]"
     ]
    },
    {
     "name": "stdout",
     "output_type": "stream",
     "text": [
      "Best Dist:  0.1323492642492299\n",
      "Average Dist:  0.5562381364155223\n",
      "Best Adj Error:  40.0\n",
      "Average Adj Dist Error:  43.61\n",
      "extreme\n"
     ]
    },
    {
     "name": "stderr",
     "output_type": "stream",
     "text": [
      " 89%|████████▉ | 89/100 [07:33<00:46,  4.21s/it]"
     ]
    },
    {
     "name": "stdout",
     "output_type": "stream",
     "text": [
      "Best Dist:  0.1323492642492299\n",
      "Average Dist:  0.5585843066902335\n",
      "Best Adj Error:  40.0\n",
      "Average Adj Dist Error:  43.21\n",
      "extreme\n"
     ]
    },
    {
     "name": "stderr",
     "output_type": "stream",
     "text": [
      " 90%|█████████ | 90/100 [07:37<00:42,  4.24s/it]"
     ]
    },
    {
     "name": "stdout",
     "output_type": "stream",
     "text": [
      "Best Dist:  0.1323492642492299\n",
      "Average Dist:  0.5602889732842601\n",
      "Best Adj Error:  40.0\n",
      "Average Adj Dist Error:  43.81\n",
      "extreme\n"
     ]
    },
    {
     "name": "stderr",
     "output_type": "stream",
     "text": [
      " 91%|█████████ | 91/100 [07:41<00:37,  4.20s/it]"
     ]
    },
    {
     "name": "stdout",
     "output_type": "stream",
     "text": [
      "Best Dist:  0.1323492642492299\n",
      "Average Dist:  0.5607768555888825\n",
      "Best Adj Error:  40.0\n",
      "Average Adj Dist Error:  43.59\n",
      "extreme\n"
     ]
    },
    {
     "name": "stderr",
     "output_type": "stream",
     "text": [
      " 92%|█████████▏| 92/100 [07:45<00:33,  4.16s/it]"
     ]
    },
    {
     "name": "stdout",
     "output_type": "stream",
     "text": [
      "new injection\n",
      "Best Dist:  0.1323492642492299\n",
      "Average Dist:  0.5679368297743138\n",
      "Best Adj Error:  40.0\n",
      "Average Adj Dist Error:  43.44\n",
      "extreme\n"
     ]
    },
    {
     "name": "stderr",
     "output_type": "stream",
     "text": [
      " 93%|█████████▎| 93/100 [07:50<00:29,  4.22s/it]"
     ]
    },
    {
     "name": "stdout",
     "output_type": "stream",
     "text": [
      "Best Dist:  0.1323492642492299\n",
      "Average Dist:  0.567894371663944\n",
      "Best Adj Error:  40.0\n",
      "Average Adj Dist Error:  43.77\n",
      "extreme\n"
     ]
    },
    {
     "name": "stderr",
     "output_type": "stream",
     "text": [
      " 94%|█████████▍| 94/100 [07:53<00:24,  4.10s/it]"
     ]
    },
    {
     "name": "stdout",
     "output_type": "stream",
     "text": [
      "Best Dist:  0.1323492642492299\n",
      "Average Dist:  0.5584170599785074\n",
      "Best Adj Error:  40.0\n",
      "Average Adj Dist Error:  43.47\n",
      "extreme\n"
     ]
    },
    {
     "name": "stderr",
     "output_type": "stream",
     "text": [
      " 95%|█████████▌| 95/100 [07:58<00:21,  4.25s/it]"
     ]
    },
    {
     "name": "stdout",
     "output_type": "stream",
     "text": [
      "Best Dist:  0.1323492642492299\n",
      "Average Dist:  0.5579431263769624\n",
      "Best Adj Error:  40.0\n",
      "Average Adj Dist Error:  43.58\n",
      "extreme\n"
     ]
    },
    {
     "name": "stderr",
     "output_type": "stream",
     "text": [
      " 96%|█████████▌| 96/100 [08:02<00:16,  4.15s/it]"
     ]
    },
    {
     "name": "stdout",
     "output_type": "stream",
     "text": [
      "Best Dist:  0.1323492642492299\n",
      "Average Dist:  0.5586265865402421\n",
      "Best Adj Error:  40.0\n",
      "Average Adj Dist Error:  43.07\n",
      "extreme\n"
     ]
    },
    {
     "name": "stderr",
     "output_type": "stream",
     "text": [
      " 97%|█████████▋| 97/100 [08:06<00:12,  4.21s/it]"
     ]
    },
    {
     "name": "stdout",
     "output_type": "stream",
     "text": [
      "new injection\n",
      "Best Dist:  0.1323492642492299\n",
      "Average Dist:  0.5710850622754373\n",
      "Best Adj Error:  40.0\n",
      "Average Adj Dist Error:  43.29\n",
      "extreme\n"
     ]
    },
    {
     "name": "stderr",
     "output_type": "stream",
     "text": [
      " 98%|█████████▊| 98/100 [08:10<00:08,  4.17s/it]"
     ]
    },
    {
     "name": "stdout",
     "output_type": "stream",
     "text": [
      "Best Dist:  0.1323492642492299\n",
      "Average Dist:  0.5654968645531784\n",
      "Best Adj Error:  40.0\n",
      "Average Adj Dist Error:  43.7\n",
      "extreme\n"
     ]
    },
    {
     "name": "stderr",
     "output_type": "stream",
     "text": [
      " 99%|█████████▉| 99/100 [08:18<00:05,  5.15s/it]"
     ]
    },
    {
     "name": "stdout",
     "output_type": "stream",
     "text": [
      "Best Dist:  0.1323492642492299\n",
      "Average Dist:  0.5623173432835338\n",
      "Best Adj Error:  40.0\n",
      "Average Adj Dist Error:  43.57\n",
      "extreme\n"
     ]
    },
    {
     "name": "stderr",
     "output_type": "stream",
     "text": [
      "100%|██████████| 100/100 [08:22<00:00,  5.03s/it]\n"
     ]
    },
    {
     "name": "stdout",
     "output_type": "stream",
     "text": [
      "No fit individual found within iteration limit\n"
     ]
    },
    {
     "name": "stderr",
     "output_type": "stream",
     "text": [
      "  0%|          | 0/100 [00:00<?, ?it/s]"
     ]
    },
    {
     "name": "stdout",
     "output_type": "stream",
     "text": [
      "Best Dist:  0.44655370413107587\n",
      "Average Dist:  0.5985090640140242\n",
      "Best Adj Error:  36.0\n",
      "Average Adj Dist Error:  37.51\n"
     ]
    },
    {
     "name": "stderr",
     "output_type": "stream",
     "text": [
      "  1%|          | 1/100 [00:04<07:08,  4.33s/it]"
     ]
    },
    {
     "name": "stdout",
     "output_type": "stream",
     "text": [
      "Best Dist:  0.43142684802153\n",
      "Average Dist:  0.5548221197143335\n",
      "Best Adj Error:  34.0\n",
      "Average Adj Dist Error:  35.88\n"
     ]
    },
    {
     "name": "stderr",
     "output_type": "stream",
     "text": [
      "  2%|▏         | 2/100 [00:08<06:40,  4.09s/it]"
     ]
    },
    {
     "name": "stdout",
     "output_type": "stream",
     "text": [
      "Best Dist:  0.41483774928726563\n",
      "Average Dist:  0.5260340363529564\n",
      "Best Adj Error:  46.0\n",
      "Average Adj Dist Error:  36.2\n"
     ]
    },
    {
     "name": "stderr",
     "output_type": "stream",
     "text": [
      "  3%|▎         | 3/100 [00:12<06:25,  3.98s/it]"
     ]
    },
    {
     "name": "stdout",
     "output_type": "stream",
     "text": [
      "Best Dist:  0.3934179400059637\n",
      "Average Dist:  0.5050917698307904\n",
      "Best Adj Error:  30.0\n",
      "Average Adj Dist Error:  36.39\n"
     ]
    },
    {
     "name": "stderr",
     "output_type": "stream",
     "text": [
      "  4%|▍         | 4/100 [00:15<06:10,  3.86s/it]"
     ]
    },
    {
     "name": "stdout",
     "output_type": "stream",
     "text": [
      "Best Dist:  0.3934179400059637\n",
      "Average Dist:  0.48573470249234335\n",
      "Best Adj Error:  30.0\n",
      "Average Adj Dist Error:  35.66\n"
     ]
    },
    {
     "name": "stderr",
     "output_type": "stream",
     "text": [
      "  5%|▌         | 5/100 [00:19<06:06,  3.86s/it]"
     ]
    },
    {
     "name": "stdout",
     "output_type": "stream",
     "text": [
      "Best Dist:  0.38269762854417516\n",
      "Average Dist:  0.47423230293044305\n",
      "Best Adj Error:  36.0\n",
      "Average Adj Dist Error:  35.73\n"
     ]
    },
    {
     "name": "stderr",
     "output_type": "stream",
     "text": [
      "  6%|▌         | 6/100 [00:23<05:55,  3.78s/it]"
     ]
    },
    {
     "name": "stdout",
     "output_type": "stream",
     "text": [
      "Best Dist:  0.38248087684171744\n",
      "Average Dist:  0.46141566081164337\n",
      "Best Adj Error:  34.0\n",
      "Average Adj Dist Error:  34.8\n"
     ]
    },
    {
     "name": "stderr",
     "output_type": "stream",
     "text": [
      "  7%|▋         | 7/100 [00:26<05:43,  3.70s/it]"
     ]
    },
    {
     "name": "stdout",
     "output_type": "stream",
     "text": [
      "extreme\n",
      "Best Dist:  0.3795974236253518\n",
      "Average Dist:  0.44972566740742764\n",
      "Best Adj Error:  34.0\n",
      "Average Adj Dist Error:  34.52\n"
     ]
    },
    {
     "name": "stderr",
     "output_type": "stream",
     "text": [
      "  8%|▊         | 8/100 [00:30<05:42,  3.72s/it]"
     ]
    },
    {
     "name": "stdout",
     "output_type": "stream",
     "text": [
      "extreme\n",
      "Best Dist:  0.3458634894244529\n",
      "Average Dist:  0.44326183826892773\n",
      "Best Adj Error:  38.0\n",
      "Average Adj Dist Error:  33.7\n"
     ]
    },
    {
     "name": "stderr",
     "output_type": "stream",
     "text": [
      "  9%|▉         | 9/100 [00:34<05:39,  3.73s/it]"
     ]
    },
    {
     "name": "stdout",
     "output_type": "stream",
     "text": [
      "extreme\n",
      "Best Dist:  0.3458634894244529\n",
      "Average Dist:  0.4454700580084179\n",
      "Best Adj Error:  38.0\n",
      "Average Adj Dist Error:  33.86\n"
     ]
    },
    {
     "name": "stderr",
     "output_type": "stream",
     "text": [
      " 10%|█         | 10/100 [00:38<05:54,  3.94s/it]"
     ]
    },
    {
     "name": "stdout",
     "output_type": "stream",
     "text": [
      "extreme\n",
      "Best Dist:  0.3458634894244529\n",
      "Average Dist:  0.4392137339865063\n",
      "Best Adj Error:  38.0\n",
      "Average Adj Dist Error:  33.57\n"
     ]
    },
    {
     "name": "stderr",
     "output_type": "stream",
     "text": [
      " 11%|█         | 11/100 [00:42<05:52,  3.96s/it]"
     ]
    },
    {
     "name": "stdout",
     "output_type": "stream",
     "text": [
      "extreme\n",
      "Best Dist:  0.3458634894244529\n",
      "Average Dist:  0.4279392225156555\n",
      "Best Adj Error:  38.0\n",
      "Average Adj Dist Error:  33.35\n"
     ]
    },
    {
     "name": "stderr",
     "output_type": "stream",
     "text": [
      " 12%|█▏        | 12/100 [00:46<05:37,  3.83s/it]"
     ]
    },
    {
     "name": "stdout",
     "output_type": "stream",
     "text": [
      "extreme\n",
      "Best Dist:  0.3356480250063961\n",
      "Average Dist:  0.42160871676397976\n",
      "Best Adj Error:  30.0\n",
      "Average Adj Dist Error:  32.6\n"
     ]
    },
    {
     "name": "stderr",
     "output_type": "stream",
     "text": [
      " 13%|█▎        | 13/100 [00:49<05:16,  3.64s/it]"
     ]
    },
    {
     "name": "stdout",
     "output_type": "stream",
     "text": [
      "extreme\n",
      "Best Dist:  0.3257744446618874\n",
      "Average Dist:  0.41669744458679375\n",
      "Best Adj Error:  20.0\n",
      "Average Adj Dist Error:  31.58\n"
     ]
    },
    {
     "name": "stderr",
     "output_type": "stream",
     "text": [
      " 14%|█▍        | 14/100 [00:52<04:45,  3.31s/it]"
     ]
    },
    {
     "name": "stdout",
     "output_type": "stream",
     "text": [
      "extreme\n",
      "Best Dist:  0.2759774507049736\n",
      "Average Dist:  0.416477450482081\n",
      "Best Adj Error:  28.0\n",
      "Average Adj Dist Error:  30.9\n"
     ]
    },
    {
     "name": "stderr",
     "output_type": "stream",
     "text": [
      " 15%|█▌        | 15/100 [00:54<04:17,  3.03s/it]"
     ]
    },
    {
     "name": "stdout",
     "output_type": "stream",
     "text": [
      "extreme\n",
      "Best Dist:  0.2759774507049736\n",
      "Average Dist:  0.39873420271367804\n",
      "Best Adj Error:  28.0\n",
      "Average Adj Dist Error:  30.19\n"
     ]
    },
    {
     "name": "stderr",
     "output_type": "stream",
     "text": [
      " 16%|█▌        | 16/100 [00:57<04:05,  2.92s/it]"
     ]
    },
    {
     "name": "stdout",
     "output_type": "stream",
     "text": [
      "extreme\n",
      "Best Dist:  0.2759774507049736\n",
      "Average Dist:  0.3914080332751787\n",
      "Best Adj Error:  28.0\n",
      "Average Adj Dist Error:  28.95\n"
     ]
    },
    {
     "name": "stderr",
     "output_type": "stream",
     "text": [
      " 17%|█▋        | 17/100 [01:01<04:44,  3.43s/it]"
     ]
    },
    {
     "name": "stdout",
     "output_type": "stream",
     "text": [
      "extreme\n",
      "Best Dist:  0.2759774507049736\n",
      "Average Dist:  0.3792194107059704\n",
      "Best Adj Error:  28.0\n",
      "Average Adj Dist Error:  28.18\n"
     ]
    },
    {
     "name": "stderr",
     "output_type": "stream",
     "text": [
      " 18%|█▊        | 18/100 [01:04<04:22,  3.20s/it]"
     ]
    },
    {
     "name": "stdout",
     "output_type": "stream",
     "text": [
      "extreme\n",
      "Best Dist:  0.27576922724962327\n",
      "Average Dist:  0.3819257122640448\n",
      "Best Adj Error:  24.0\n",
      "Average Adj Dist Error:  28.23\n"
     ]
    },
    {
     "name": "stderr",
     "output_type": "stream",
     "text": [
      " 19%|█▉        | 19/100 [01:06<03:59,  2.95s/it]"
     ]
    },
    {
     "name": "stdout",
     "output_type": "stream",
     "text": [
      "extreme\n",
      "Best Dist:  0.2689841366767707\n",
      "Average Dist:  0.3818551922436832\n",
      "Best Adj Error:  24.0\n",
      "Average Adj Dist Error:  27.27\n"
     ]
    },
    {
     "name": "stderr",
     "output_type": "stream",
     "text": [
      " 20%|██        | 20/100 [01:09<03:41,  2.77s/it]"
     ]
    },
    {
     "name": "stdout",
     "output_type": "stream",
     "text": [
      "extreme\n",
      "Best Dist:  0.2689841366767707\n",
      "Average Dist:  0.36080309658674226\n",
      "Best Adj Error:  24.0\n",
      "Average Adj Dist Error:  26.17\n"
     ]
    },
    {
     "name": "stderr",
     "output_type": "stream",
     "text": [
      " 21%|██        | 21/100 [01:11<03:28,  2.64s/it]"
     ]
    },
    {
     "name": "stdout",
     "output_type": "stream",
     "text": [
      "extreme\n",
      "Best Dist:  0.2689841366767707\n",
      "Average Dist:  0.3551743685514977\n",
      "Best Adj Error:  24.0\n",
      "Average Adj Dist Error:  26.23\n"
     ]
    },
    {
     "name": "stderr",
     "output_type": "stream",
     "text": [
      " 22%|██▏       | 22/100 [01:13<03:18,  2.55s/it]"
     ]
    },
    {
     "name": "stdout",
     "output_type": "stream",
     "text": [
      "extreme\n",
      "Best Dist:  0.25506675598752404\n",
      "Average Dist:  0.35617046051782625\n",
      "Best Adj Error:  24.0\n",
      "Average Adj Dist Error:  25.9\n"
     ]
    },
    {
     "name": "stderr",
     "output_type": "stream",
     "text": [
      " 23%|██▎       | 23/100 [01:15<03:09,  2.46s/it]"
     ]
    },
    {
     "name": "stdout",
     "output_type": "stream",
     "text": [
      "extreme\n",
      "Best Dist:  0.25506675598752404\n",
      "Average Dist:  0.34811080701914504\n",
      "Best Adj Error:  24.0\n",
      "Average Adj Dist Error:  25.76\n"
     ]
    },
    {
     "name": "stderr",
     "output_type": "stream",
     "text": [
      " 24%|██▍       | 24/100 [01:18<03:04,  2.43s/it]"
     ]
    },
    {
     "name": "stdout",
     "output_type": "stream",
     "text": [
      "extreme\n",
      "Best Dist:  0.24523677904884705\n",
      "Average Dist:  0.34366278879202605\n",
      "Best Adj Error:  28.0\n",
      "Average Adj Dist Error:  25.87\n"
     ]
    },
    {
     "name": "stderr",
     "output_type": "stream",
     "text": [
      " 25%|██▌       | 25/100 [01:21<03:17,  2.64s/it]"
     ]
    },
    {
     "name": "stdout",
     "output_type": "stream",
     "text": [
      "extreme\n",
      "Best Dist:  0.24523677904884705\n",
      "Average Dist:  0.3709604853360854\n",
      "Best Adj Error:  28.0\n",
      "Average Adj Dist Error:  27.04\n"
     ]
    },
    {
     "name": "stderr",
     "output_type": "stream",
     "text": [
      " 26%|██▌       | 26/100 [01:24<03:18,  2.69s/it]"
     ]
    },
    {
     "name": "stdout",
     "output_type": "stream",
     "text": [
      "extreme\n",
      "Best Dist:  0.24523677904884705\n",
      "Average Dist:  0.329827573292995\n",
      "Best Adj Error:  28.0\n",
      "Average Adj Dist Error:  25.83\n"
     ]
    },
    {
     "name": "stderr",
     "output_type": "stream",
     "text": [
      " 27%|██▋       | 27/100 [01:26<03:10,  2.62s/it]"
     ]
    },
    {
     "name": "stdout",
     "output_type": "stream",
     "text": [
      "extreme\n",
      "Best Dist:  0.24523677904884705\n",
      "Average Dist:  0.3246005185324913\n",
      "Best Adj Error:  28.0\n",
      "Average Adj Dist Error:  25.76\n"
     ]
    },
    {
     "name": "stderr",
     "output_type": "stream",
     "text": [
      " 28%|██▊       | 28/100 [01:29<03:09,  2.63s/it]"
     ]
    },
    {
     "name": "stdout",
     "output_type": "stream",
     "text": [
      "extreme\n",
      "Best Dist:  0.24523677904884705\n",
      "Average Dist:  0.30402865650820965\n",
      "Best Adj Error:  28.0\n",
      "Average Adj Dist Error:  25.12\n"
     ]
    },
    {
     "name": "stderr",
     "output_type": "stream",
     "text": [
      " 29%|██▉       | 29/100 [01:31<03:04,  2.60s/it]"
     ]
    },
    {
     "name": "stdout",
     "output_type": "stream",
     "text": [
      "extreme\n",
      "Best Dist:  0.2345582170487183\n",
      "Average Dist:  0.2915109438828156\n",
      "Best Adj Error:  32.0\n",
      "Average Adj Dist Error:  25.18\n"
     ]
    },
    {
     "name": "stderr",
     "output_type": "stream",
     "text": [
      " 30%|███       | 30/100 [01:34<03:01,  2.59s/it]"
     ]
    },
    {
     "name": "stdout",
     "output_type": "stream",
     "text": [
      "extreme\n",
      "Best Dist:  0.20977690184169315\n",
      "Average Dist:  0.33231884264894324\n",
      "Best Adj Error:  24.0\n",
      "Average Adj Dist Error:  25.82\n"
     ]
    },
    {
     "name": "stderr",
     "output_type": "stream",
     "text": [
      " 31%|███       | 31/100 [01:37<02:58,  2.59s/it]"
     ]
    },
    {
     "name": "stdout",
     "output_type": "stream",
     "text": [
      "extreme\n",
      "Best Dist:  0.20977690184169315\n",
      "Average Dist:  0.2908591634905598\n",
      "Best Adj Error:  24.0\n",
      "Average Adj Dist Error:  24.94\n"
     ]
    },
    {
     "name": "stderr",
     "output_type": "stream",
     "text": [
      " 32%|███▏      | 32/100 [01:40<03:06,  2.74s/it]"
     ]
    },
    {
     "name": "stdout",
     "output_type": "stream",
     "text": [
      "extreme\n",
      "Best Dist:  0.20977690184169315\n",
      "Average Dist:  0.29471512416340817\n",
      "Best Adj Error:  24.0\n",
      "Average Adj Dist Error:  24.18\n"
     ]
    },
    {
     "name": "stderr",
     "output_type": "stream",
     "text": [
      " 33%|███▎      | 33/100 [01:43<03:12,  2.87s/it]"
     ]
    },
    {
     "name": "stdout",
     "output_type": "stream",
     "text": [
      "extreme\n",
      "Best Dist:  0.20977690184169315\n",
      "Average Dist:  0.2869330034143953\n",
      "Best Adj Error:  24.0\n",
      "Average Adj Dist Error:  24.57\n"
     ]
    },
    {
     "name": "stderr",
     "output_type": "stream",
     "text": [
      " 34%|███▍      | 34/100 [01:46<03:20,  3.04s/it]"
     ]
    },
    {
     "name": "stdout",
     "output_type": "stream",
     "text": [
      "extreme\n",
      "Best Dist:  0.20977690184169315\n",
      "Average Dist:  0.30009918318225376\n",
      "Best Adj Error:  24.0\n",
      "Average Adj Dist Error:  25.16\n"
     ]
    },
    {
     "name": "stderr",
     "output_type": "stream",
     "text": [
      " 35%|███▌      | 35/100 [01:49<03:06,  2.87s/it]"
     ]
    },
    {
     "name": "stdout",
     "output_type": "stream",
     "text": [
      "extreme\n",
      "Best Dist:  0.20977690184169315\n",
      "Average Dist:  0.3033658776270891\n",
      "Best Adj Error:  24.0\n",
      "Average Adj Dist Error:  25.83\n"
     ]
    },
    {
     "name": "stderr",
     "output_type": "stream",
     "text": [
      " 36%|███▌      | 36/100 [01:52<03:01,  2.83s/it]"
     ]
    },
    {
     "name": "stdout",
     "output_type": "stream",
     "text": [
      "extreme\n",
      "Best Dist:  0.20977690184169315\n",
      "Average Dist:  0.26918030672778426\n",
      "Best Adj Error:  24.0\n",
      "Average Adj Dist Error:  25.73\n"
     ]
    },
    {
     "name": "stderr",
     "output_type": "stream",
     "text": [
      " 37%|███▋      | 37/100 [01:54<02:53,  2.76s/it]"
     ]
    },
    {
     "name": "stdout",
     "output_type": "stream",
     "text": [
      "extreme\n",
      "Best Dist:  0.20977690184169315\n",
      "Average Dist:  0.25844724321795765\n",
      "Best Adj Error:  24.0\n",
      "Average Adj Dist Error:  26.74\n"
     ]
    },
    {
     "name": "stderr",
     "output_type": "stream",
     "text": [
      " 38%|███▊      | 38/100 [01:57<02:45,  2.67s/it]"
     ]
    },
    {
     "name": "stdout",
     "output_type": "stream",
     "text": [
      "extreme\n",
      "Best Dist:  0.20977690184169315\n",
      "Average Dist:  0.2688642988477307\n",
      "Best Adj Error:  24.0\n",
      "Average Adj Dist Error:  27.88\n"
     ]
    },
    {
     "name": "stderr",
     "output_type": "stream",
     "text": [
      " 39%|███▉      | 39/100 [01:59<02:37,  2.58s/it]"
     ]
    },
    {
     "name": "stdout",
     "output_type": "stream",
     "text": [
      "extreme\n",
      "Best Dist:  0.20977690184169315\n",
      "Average Dist:  0.27608101065980806\n",
      "Best Adj Error:  24.0\n",
      "Average Adj Dist Error:  27.65\n"
     ]
    },
    {
     "name": "stderr",
     "output_type": "stream",
     "text": [
      " 40%|████      | 40/100 [02:01<02:32,  2.54s/it]"
     ]
    },
    {
     "name": "stdout",
     "output_type": "stream",
     "text": [
      "extreme\n",
      "Best Dist:  0.20977690184169315\n",
      "Average Dist:  0.24386201213875797\n",
      "Best Adj Error:  24.0\n",
      "Average Adj Dist Error:  27.12\n"
     ]
    },
    {
     "name": "stderr",
     "output_type": "stream",
     "text": [
      " 41%|████      | 41/100 [02:04<02:27,  2.50s/it]"
     ]
    },
    {
     "name": "stdout",
     "output_type": "stream",
     "text": [
      "extreme\n",
      "Best Dist:  0.20977690184169315\n",
      "Average Dist:  0.30013885922580874\n",
      "Best Adj Error:  24.0\n",
      "Average Adj Dist Error:  27.21\n"
     ]
    },
    {
     "name": "stderr",
     "output_type": "stream",
     "text": [
      " 42%|████▏     | 42/100 [02:06<02:24,  2.49s/it]"
     ]
    },
    {
     "name": "stdout",
     "output_type": "stream",
     "text": [
      "extreme\n",
      "Best Dist:  0.20977690184169315\n",
      "Average Dist:  0.24066129834723285\n",
      "Best Adj Error:  24.0\n",
      "Average Adj Dist Error:  26.15\n"
     ]
    },
    {
     "name": "stderr",
     "output_type": "stream",
     "text": [
      " 43%|████▎     | 43/100 [02:09<02:18,  2.43s/it]"
     ]
    },
    {
     "name": "stdout",
     "output_type": "stream",
     "text": [
      "extreme\n",
      "Best Dist:  0.20977690184169315\n",
      "Average Dist:  0.2317566891061636\n",
      "Best Adj Error:  24.0\n",
      "Average Adj Dist Error:  24.59\n"
     ]
    },
    {
     "name": "stderr",
     "output_type": "stream",
     "text": [
      " 44%|████▍     | 44/100 [02:11<02:15,  2.42s/it]"
     ]
    },
    {
     "name": "stdout",
     "output_type": "stream",
     "text": [
      "extreme\n",
      "Best Dist:  0.20977690184169315\n",
      "Average Dist:  0.2840832724713508\n",
      "Best Adj Error:  24.0\n",
      "Average Adj Dist Error:  24.88\n"
     ]
    },
    {
     "name": "stderr",
     "output_type": "stream",
     "text": [
      " 45%|████▌     | 45/100 [02:13<02:11,  2.40s/it]"
     ]
    },
    {
     "name": "stdout",
     "output_type": "stream",
     "text": [
      "extreme\n",
      "Best Dist:  0.20977690184169315\n",
      "Average Dist:  0.22653068138178953\n",
      "Best Adj Error:  24.0\n",
      "Average Adj Dist Error:  24.07\n"
     ]
    },
    {
     "name": "stderr",
     "output_type": "stream",
     "text": [
      " 46%|████▌     | 46/100 [02:16<02:08,  2.37s/it]"
     ]
    },
    {
     "name": "stdout",
     "output_type": "stream",
     "text": [
      "extreme\n",
      "Best Dist:  0.20977690184169315\n",
      "Average Dist:  0.2144387680502198\n",
      "Best Adj Error:  24.0\n",
      "Average Adj Dist Error:  24.06\n"
     ]
    },
    {
     "name": "stderr",
     "output_type": "stream",
     "text": [
      " 47%|████▋     | 47/100 [02:18<02:07,  2.40s/it]"
     ]
    },
    {
     "name": "stdout",
     "output_type": "stream",
     "text": [
      "extreme\n",
      "Best Dist:  0.20977690184169315\n",
      "Average Dist:  0.22328905220415515\n",
      "Best Adj Error:  24.0\n",
      "Average Adj Dist Error:  24.11\n",
      "extreme\n"
     ]
    },
    {
     "name": "stderr",
     "output_type": "stream",
     "text": [
      " 48%|████▊     | 48/100 [02:22<02:24,  2.79s/it]"
     ]
    },
    {
     "name": "stdout",
     "output_type": "stream",
     "text": [
      "Best Dist:  0.20977690184169315\n",
      "Average Dist:  0.5777589890465545\n",
      "Best Adj Error:  24.0\n",
      "Average Adj Dist Error:  38.18\n",
      "extreme\n"
     ]
    },
    {
     "name": "stderr",
     "output_type": "stream",
     "text": [
      " 49%|████▉     | 49/100 [02:26<02:37,  3.09s/it]"
     ]
    },
    {
     "name": "stdout",
     "output_type": "stream",
     "text": [
      "new injection\n",
      "Best Dist:  0.20977690184169315\n",
      "Average Dist:  0.5896032780521671\n",
      "Best Adj Error:  24.0\n",
      "Average Adj Dist Error:  38.76\n",
      "extreme\n"
     ]
    },
    {
     "name": "stderr",
     "output_type": "stream",
     "text": [
      " 50%|█████     | 50/100 [02:29<02:47,  3.34s/it]"
     ]
    },
    {
     "name": "stdout",
     "output_type": "stream",
     "text": [
      "Best Dist:  0.20977690184169315\n",
      "Average Dist:  0.5629084253020401\n",
      "Best Adj Error:  24.0\n",
      "Average Adj Dist Error:  38.37\n",
      "extreme\n"
     ]
    },
    {
     "name": "stderr",
     "output_type": "stream",
     "text": [
      " 51%|█████     | 51/100 [02:34<02:54,  3.56s/it]"
     ]
    },
    {
     "name": "stdout",
     "output_type": "stream",
     "text": [
      "Best Dist:  0.20977690184169315\n",
      "Average Dist:  0.572923190656455\n",
      "Best Adj Error:  24.0\n",
      "Average Adj Dist Error:  38.62\n",
      "extreme\n"
     ]
    },
    {
     "name": "stderr",
     "output_type": "stream",
     "text": [
      " 52%|█████▏    | 52/100 [02:37<02:53,  3.61s/it]"
     ]
    },
    {
     "name": "stdout",
     "output_type": "stream",
     "text": [
      "Best Dist:  0.20977690184169315\n",
      "Average Dist:  0.56297024305202\n",
      "Best Adj Error:  24.0\n",
      "Average Adj Dist Error:  37.89\n",
      "extreme\n"
     ]
    },
    {
     "name": "stderr",
     "output_type": "stream",
     "text": [
      " 53%|█████▎    | 53/100 [02:41<02:52,  3.67s/it]"
     ]
    },
    {
     "name": "stdout",
     "output_type": "stream",
     "text": [
      "Best Dist:  0.20977690184169315\n",
      "Average Dist:  0.5695816943920302\n",
      "Best Adj Error:  24.0\n",
      "Average Adj Dist Error:  37.83\n",
      "extreme\n"
     ]
    },
    {
     "name": "stderr",
     "output_type": "stream",
     "text": [
      " 54%|█████▍    | 54/100 [02:45<02:49,  3.69s/it]"
     ]
    },
    {
     "name": "stdout",
     "output_type": "stream",
     "text": [
      "new injection\n",
      "Best Dist:  0.20977690184169315\n",
      "Average Dist:  0.5843888517728303\n",
      "Best Adj Error:  24.0\n",
      "Average Adj Dist Error:  38.69\n",
      "extreme\n"
     ]
    },
    {
     "name": "stderr",
     "output_type": "stream",
     "text": [
      " 55%|█████▌    | 55/100 [02:49<02:46,  3.70s/it]"
     ]
    },
    {
     "name": "stdout",
     "output_type": "stream",
     "text": [
      "Best Dist:  0.20977690184169315\n",
      "Average Dist:  0.5759805980310195\n",
      "Best Adj Error:  24.0\n",
      "Average Adj Dist Error:  38.26\n",
      "extreme\n"
     ]
    },
    {
     "name": "stderr",
     "output_type": "stream",
     "text": [
      " 56%|█████▌    | 56/100 [02:52<02:44,  3.75s/it]"
     ]
    },
    {
     "name": "stdout",
     "output_type": "stream",
     "text": [
      "Best Dist:  0.20977690184169315\n",
      "Average Dist:  0.5713133979250118\n",
      "Best Adj Error:  24.0\n",
      "Average Adj Dist Error:  38.5\n",
      "extreme\n"
     ]
    },
    {
     "name": "stderr",
     "output_type": "stream",
     "text": [
      " 57%|█████▋    | 57/100 [02:56<02:40,  3.74s/it]"
     ]
    },
    {
     "name": "stdout",
     "output_type": "stream",
     "text": [
      "Best Dist:  0.20977690184169315\n",
      "Average Dist:  0.5742336703994567\n",
      "Best Adj Error:  24.0\n",
      "Average Adj Dist Error:  37.97\n",
      "extreme\n"
     ]
    },
    {
     "name": "stderr",
     "output_type": "stream",
     "text": [
      " 58%|█████▊    | 58/100 [03:00<02:37,  3.75s/it]"
     ]
    },
    {
     "name": "stdout",
     "output_type": "stream",
     "text": [
      "Best Dist:  0.20977690184169315\n",
      "Average Dist:  0.566433285997484\n",
      "Best Adj Error:  24.0\n",
      "Average Adj Dist Error:  38.29\n",
      "extreme\n"
     ]
    },
    {
     "name": "stderr",
     "output_type": "stream",
     "text": [
      " 59%|█████▉    | 59/100 [03:04<02:35,  3.78s/it]"
     ]
    },
    {
     "name": "stdout",
     "output_type": "stream",
     "text": [
      "new injection\n",
      "Best Dist:  0.20977690184169315\n",
      "Average Dist:  0.5952659311734189\n",
      "Best Adj Error:  24.0\n",
      "Average Adj Dist Error:  39.3\n",
      "extreme\n"
     ]
    },
    {
     "name": "stderr",
     "output_type": "stream",
     "text": [
      " 60%|██████    | 60/100 [03:08<02:32,  3.80s/it]"
     ]
    },
    {
     "name": "stdout",
     "output_type": "stream",
     "text": [
      "Best Dist:  0.20977690184169315\n",
      "Average Dist:  0.5636319031467723\n",
      "Best Adj Error:  24.0\n",
      "Average Adj Dist Error:  38.31\n",
      "extreme\n"
     ]
    },
    {
     "name": "stderr",
     "output_type": "stream",
     "text": [
      " 61%|██████    | 61/100 [03:12<02:30,  3.85s/it]"
     ]
    },
    {
     "name": "stdout",
     "output_type": "stream",
     "text": [
      "Best Dist:  0.20977690184169315\n",
      "Average Dist:  0.5761595688077521\n",
      "Best Adj Error:  24.0\n",
      "Average Adj Dist Error:  38.03\n",
      "extreme\n"
     ]
    },
    {
     "name": "stderr",
     "output_type": "stream",
     "text": [
      " 62%|██████▏   | 62/100 [03:15<02:26,  3.85s/it]"
     ]
    },
    {
     "name": "stdout",
     "output_type": "stream",
     "text": [
      "Best Dist:  0.20977690184169315\n",
      "Average Dist:  0.5650750119529969\n",
      "Best Adj Error:  24.0\n",
      "Average Adj Dist Error:  38.38\n",
      "extreme\n"
     ]
    },
    {
     "name": "stderr",
     "output_type": "stream",
     "text": [
      " 63%|██████▎   | 63/100 [03:19<02:21,  3.82s/it]"
     ]
    },
    {
     "name": "stdout",
     "output_type": "stream",
     "text": [
      "Best Dist:  0.20977690184169315\n",
      "Average Dist:  0.5611498613810345\n",
      "Best Adj Error:  24.0\n",
      "Average Adj Dist Error:  38.26\n",
      "extreme\n"
     ]
    },
    {
     "name": "stderr",
     "output_type": "stream",
     "text": [
      " 64%|██████▍   | 64/100 [03:23<02:17,  3.81s/it]"
     ]
    },
    {
     "name": "stdout",
     "output_type": "stream",
     "text": [
      "new injection\n",
      "Best Dist:  0.20977690184169315\n",
      "Average Dist:  0.5844017499804264\n",
      "Best Adj Error:  24.0\n",
      "Average Adj Dist Error:  39.76\n",
      "extreme\n"
     ]
    },
    {
     "name": "stderr",
     "output_type": "stream",
     "text": [
      " 65%|██████▌   | 65/100 [03:27<02:14,  3.84s/it]"
     ]
    },
    {
     "name": "stdout",
     "output_type": "stream",
     "text": [
      "Best Dist:  0.20977690184169315\n",
      "Average Dist:  0.5665733595076929\n",
      "Best Adj Error:  24.0\n",
      "Average Adj Dist Error:  38.5\n",
      "extreme\n"
     ]
    },
    {
     "name": "stderr",
     "output_type": "stream",
     "text": [
      " 66%|██████▌   | 66/100 [03:31<02:10,  3.84s/it]"
     ]
    },
    {
     "name": "stdout",
     "output_type": "stream",
     "text": [
      "Best Dist:  0.20977690184169315\n",
      "Average Dist:  0.5602680514489258\n",
      "Best Adj Error:  24.0\n",
      "Average Adj Dist Error:  38.45\n",
      "extreme\n"
     ]
    },
    {
     "name": "stderr",
     "output_type": "stream",
     "text": [
      " 67%|██████▋   | 67/100 [03:35<02:13,  4.04s/it]"
     ]
    },
    {
     "name": "stdout",
     "output_type": "stream",
     "text": [
      "Best Dist:  0.20977690184169315\n",
      "Average Dist:  0.5728941405545178\n",
      "Best Adj Error:  24.0\n",
      "Average Adj Dist Error:  38.13\n",
      "extreme\n"
     ]
    },
    {
     "name": "stderr",
     "output_type": "stream",
     "text": [
      " 68%|██████▊   | 68/100 [03:39<02:10,  4.09s/it]"
     ]
    },
    {
     "name": "stdout",
     "output_type": "stream",
     "text": [
      "Best Dist:  0.20977690184169315\n",
      "Average Dist:  0.5732470819393217\n",
      "Best Adj Error:  24.0\n",
      "Average Adj Dist Error:  38.68\n",
      "extreme\n"
     ]
    },
    {
     "name": "stderr",
     "output_type": "stream",
     "text": [
      " 69%|██████▉   | 69/100 [03:43<02:03,  3.98s/it]"
     ]
    },
    {
     "name": "stdout",
     "output_type": "stream",
     "text": [
      "new injection\n",
      "Best Dist:  0.20977690184169315\n",
      "Average Dist:  0.5763126460610206\n",
      "Best Adj Error:  24.0\n",
      "Average Adj Dist Error:  38.2\n",
      "extreme\n"
     ]
    },
    {
     "name": "stderr",
     "output_type": "stream",
     "text": [
      " 70%|███████   | 70/100 [03:47<01:58,  3.94s/it]"
     ]
    },
    {
     "name": "stdout",
     "output_type": "stream",
     "text": [
      "Best Dist:  0.20977690184169315\n",
      "Average Dist:  0.5654909468202208\n",
      "Best Adj Error:  24.0\n",
      "Average Adj Dist Error:  37.8\n",
      "extreme\n"
     ]
    },
    {
     "name": "stderr",
     "output_type": "stream",
     "text": [
      " 71%|███████   | 71/100 [03:51<01:53,  3.90s/it]"
     ]
    },
    {
     "name": "stdout",
     "output_type": "stream",
     "text": [
      "Best Dist:  0.20977690184169315\n",
      "Average Dist:  0.5717213968268169\n",
      "Best Adj Error:  24.0\n",
      "Average Adj Dist Error:  37.72\n",
      "extreme\n"
     ]
    },
    {
     "name": "stderr",
     "output_type": "stream",
     "text": [
      " 72%|███████▏  | 72/100 [03:55<01:48,  3.89s/it]"
     ]
    },
    {
     "name": "stdout",
     "output_type": "stream",
     "text": [
      "Best Dist:  0.20977690184169315\n",
      "Average Dist:  0.5807402067542933\n",
      "Best Adj Error:  24.0\n",
      "Average Adj Dist Error:  39.08\n",
      "extreme\n"
     ]
    },
    {
     "name": "stderr",
     "output_type": "stream",
     "text": [
      " 73%|███████▎  | 73/100 [03:58<01:43,  3.85s/it]"
     ]
    },
    {
     "name": "stdout",
     "output_type": "stream",
     "text": [
      "Best Dist:  0.20977690184169315\n",
      "Average Dist:  0.5735657195251319\n",
      "Best Adj Error:  24.0\n",
      "Average Adj Dist Error:  37.99\n",
      "extreme\n"
     ]
    },
    {
     "name": "stderr",
     "output_type": "stream",
     "text": [
      " 74%|███████▍  | 74/100 [04:02<01:40,  3.87s/it]"
     ]
    },
    {
     "name": "stdout",
     "output_type": "stream",
     "text": [
      "new injection\n",
      "Best Dist:  0.20977690184169315\n",
      "Average Dist:  0.5875433041594348\n",
      "Best Adj Error:  24.0\n",
      "Average Adj Dist Error:  38.6\n",
      "extreme\n"
     ]
    },
    {
     "name": "stderr",
     "output_type": "stream",
     "text": [
      " 75%|███████▌  | 75/100 [04:06<01:36,  3.87s/it]"
     ]
    },
    {
     "name": "stdout",
     "output_type": "stream",
     "text": [
      "Best Dist:  0.20977690184169315\n",
      "Average Dist:  0.5812592684490481\n",
      "Best Adj Error:  24.0\n",
      "Average Adj Dist Error:  38.69\n",
      "extreme\n"
     ]
    },
    {
     "name": "stderr",
     "output_type": "stream",
     "text": [
      " 76%|███████▌  | 76/100 [04:10<01:32,  3.84s/it]"
     ]
    },
    {
     "name": "stdout",
     "output_type": "stream",
     "text": [
      "Best Dist:  0.20977690184169315\n",
      "Average Dist:  0.5629511683677185\n",
      "Best Adj Error:  24.0\n",
      "Average Adj Dist Error:  38.16\n",
      "extreme\n"
     ]
    },
    {
     "name": "stderr",
     "output_type": "stream",
     "text": [
      " 77%|███████▋  | 77/100 [04:14<01:29,  3.91s/it]"
     ]
    },
    {
     "name": "stdout",
     "output_type": "stream",
     "text": [
      "Best Dist:  0.20977690184169315\n",
      "Average Dist:  0.5654581847565494\n",
      "Best Adj Error:  24.0\n",
      "Average Adj Dist Error:  37.83\n",
      "extreme\n"
     ]
    },
    {
     "name": "stderr",
     "output_type": "stream",
     "text": [
      " 78%|███████▊  | 78/100 [04:18<01:27,  3.96s/it]"
     ]
    },
    {
     "name": "stdout",
     "output_type": "stream",
     "text": [
      "Best Dist:  0.20977690184169315\n",
      "Average Dist:  0.5779141772197489\n",
      "Best Adj Error:  24.0\n",
      "Average Adj Dist Error:  38.73\n",
      "extreme\n"
     ]
    },
    {
     "name": "stderr",
     "output_type": "stream",
     "text": [
      " 79%|███████▉  | 79/100 [04:22<01:21,  3.89s/it]"
     ]
    },
    {
     "name": "stdout",
     "output_type": "stream",
     "text": [
      "new injection\n",
      "Best Dist:  0.20977690184169315\n",
      "Average Dist:  0.5905959655310437\n",
      "Best Adj Error:  24.0\n",
      "Average Adj Dist Error:  39.59\n",
      "extreme\n"
     ]
    },
    {
     "name": "stderr",
     "output_type": "stream",
     "text": [
      " 80%|████████  | 80/100 [04:26<01:17,  3.89s/it]"
     ]
    },
    {
     "name": "stdout",
     "output_type": "stream",
     "text": [
      "Best Dist:  0.20977690184169315\n",
      "Average Dist:  0.5751974115569959\n",
      "Best Adj Error:  24.0\n",
      "Average Adj Dist Error:  38.6\n",
      "extreme\n"
     ]
    },
    {
     "name": "stderr",
     "output_type": "stream",
     "text": [
      " 81%|████████  | 81/100 [04:29<01:13,  3.85s/it]"
     ]
    },
    {
     "name": "stdout",
     "output_type": "stream",
     "text": [
      "Best Dist:  0.20977690184169315\n",
      "Average Dist:  0.5589833246068827\n",
      "Best Adj Error:  24.0\n",
      "Average Adj Dist Error:  37.68\n",
      "extreme\n"
     ]
    },
    {
     "name": "stderr",
     "output_type": "stream",
     "text": [
      " 82%|████████▏ | 82/100 [04:33<01:09,  3.87s/it]"
     ]
    },
    {
     "name": "stdout",
     "output_type": "stream",
     "text": [
      "Best Dist:  0.20977690184169315\n",
      "Average Dist:  0.5696262255498363\n",
      "Best Adj Error:  24.0\n",
      "Average Adj Dist Error:  37.86\n",
      "extreme\n"
     ]
    },
    {
     "name": "stderr",
     "output_type": "stream",
     "text": [
      " 83%|████████▎ | 83/100 [04:37<01:05,  3.88s/it]"
     ]
    },
    {
     "name": "stdout",
     "output_type": "stream",
     "text": [
      "Best Dist:  0.20977690184169315\n",
      "Average Dist:  0.572687511345016\n",
      "Best Adj Error:  24.0\n",
      "Average Adj Dist Error:  38.14\n",
      "extreme\n"
     ]
    },
    {
     "name": "stderr",
     "output_type": "stream",
     "text": [
      " 84%|████████▍ | 84/100 [04:41<01:02,  3.90s/it]"
     ]
    },
    {
     "name": "stdout",
     "output_type": "stream",
     "text": [
      "new injection\n",
      "Best Dist:  0.20977690184169315\n",
      "Average Dist:  0.57799549772428\n",
      "Best Adj Error:  24.0\n",
      "Average Adj Dist Error:  38.18\n",
      "extreme\n"
     ]
    },
    {
     "name": "stderr",
     "output_type": "stream",
     "text": [
      " 85%|████████▌ | 85/100 [04:45<00:59,  3.97s/it]"
     ]
    },
    {
     "name": "stdout",
     "output_type": "stream",
     "text": [
      "Best Dist:  0.20977690184169315\n",
      "Average Dist:  0.566886736722037\n",
      "Best Adj Error:  24.0\n",
      "Average Adj Dist Error:  37.79\n",
      "extreme\n"
     ]
    },
    {
     "name": "stderr",
     "output_type": "stream",
     "text": [
      " 86%|████████▌ | 86/100 [04:49<00:56,  4.00s/it]"
     ]
    },
    {
     "name": "stdout",
     "output_type": "stream",
     "text": [
      "Best Dist:  0.20977690184169315\n",
      "Average Dist:  0.5796430522002951\n",
      "Best Adj Error:  24.0\n",
      "Average Adj Dist Error:  38.57\n",
      "extreme\n"
     ]
    },
    {
     "name": "stderr",
     "output_type": "stream",
     "text": [
      " 87%|████████▋ | 87/100 [04:54<00:52,  4.05s/it]"
     ]
    },
    {
     "name": "stdout",
     "output_type": "stream",
     "text": [
      "Best Dist:  0.20977690184169315\n",
      "Average Dist:  0.5732024626324969\n",
      "Best Adj Error:  24.0\n",
      "Average Adj Dist Error:  38.42\n",
      "extreme\n"
     ]
    },
    {
     "name": "stderr",
     "output_type": "stream",
     "text": [
      " 88%|████████▊ | 88/100 [04:57<00:47,  3.97s/it]"
     ]
    },
    {
     "name": "stdout",
     "output_type": "stream",
     "text": [
      "Best Dist:  0.20977690184169315\n",
      "Average Dist:  0.5622063270978593\n",
      "Best Adj Error:  24.0\n",
      "Average Adj Dist Error:  38.09\n",
      "extreme\n"
     ]
    },
    {
     "name": "stderr",
     "output_type": "stream",
     "text": [
      " 89%|████████▉ | 89/100 [05:01<00:43,  3.96s/it]"
     ]
    },
    {
     "name": "stdout",
     "output_type": "stream",
     "text": [
      "new injection\n",
      "Best Dist:  0.20977690184169315\n",
      "Average Dist:  0.5809936574070946\n",
      "Best Adj Error:  24.0\n",
      "Average Adj Dist Error:  37.69\n",
      "extreme\n"
     ]
    },
    {
     "name": "stderr",
     "output_type": "stream",
     "text": [
      " 90%|█████████ | 90/100 [05:05<00:38,  3.86s/it]"
     ]
    },
    {
     "name": "stdout",
     "output_type": "stream",
     "text": [
      "Best Dist:  0.20977690184169315\n",
      "Average Dist:  0.5686890536901644\n",
      "Best Adj Error:  24.0\n",
      "Average Adj Dist Error:  38.88\n",
      "extreme\n"
     ]
    },
    {
     "name": "stderr",
     "output_type": "stream",
     "text": [
      " 91%|█████████ | 91/100 [05:09<00:34,  3.87s/it]"
     ]
    },
    {
     "name": "stdout",
     "output_type": "stream",
     "text": [
      "Best Dist:  0.20977690184169315\n",
      "Average Dist:  0.5642678875069744\n",
      "Best Adj Error:  24.0\n",
      "Average Adj Dist Error:  38.37\n",
      "extreme\n"
     ]
    },
    {
     "name": "stderr",
     "output_type": "stream",
     "text": [
      " 92%|█████████▏| 92/100 [05:13<00:30,  3.86s/it]"
     ]
    },
    {
     "name": "stdout",
     "output_type": "stream",
     "text": [
      "Best Dist:  0.20977690184169315\n",
      "Average Dist:  0.581981679362458\n",
      "Best Adj Error:  24.0\n",
      "Average Adj Dist Error:  39.08\n",
      "extreme\n"
     ]
    },
    {
     "name": "stderr",
     "output_type": "stream",
     "text": [
      " 93%|█████████▎| 93/100 [05:17<00:26,  3.84s/it]"
     ]
    },
    {
     "name": "stdout",
     "output_type": "stream",
     "text": [
      "Best Dist:  0.20977690184169315\n",
      "Average Dist:  0.5703661260340437\n",
      "Best Adj Error:  24.0\n",
      "Average Adj Dist Error:  38.17\n",
      "extreme\n"
     ]
    },
    {
     "name": "stderr",
     "output_type": "stream",
     "text": [
      " 94%|█████████▍| 94/100 [05:20<00:22,  3.83s/it]"
     ]
    },
    {
     "name": "stdout",
     "output_type": "stream",
     "text": [
      "new injection\n",
      "Best Dist:  0.20977690184169315\n",
      "Average Dist:  0.5779286882358514\n",
      "Best Adj Error:  24.0\n",
      "Average Adj Dist Error:  38.26\n",
      "extreme\n"
     ]
    },
    {
     "name": "stderr",
     "output_type": "stream",
     "text": [
      " 95%|█████████▌| 95/100 [05:24<00:19,  3.85s/it]"
     ]
    },
    {
     "name": "stdout",
     "output_type": "stream",
     "text": [
      "Best Dist:  0.20977690184169315\n",
      "Average Dist:  0.5678264416378894\n",
      "Best Adj Error:  24.0\n",
      "Average Adj Dist Error:  37.81\n",
      "extreme\n"
     ]
    },
    {
     "name": "stderr",
     "output_type": "stream",
     "text": [
      " 96%|█████████▌| 96/100 [05:28<00:15,  3.83s/it]"
     ]
    },
    {
     "name": "stdout",
     "output_type": "stream",
     "text": [
      "Best Dist:  0.20977690184169315\n",
      "Average Dist:  0.5722284695506764\n",
      "Best Adj Error:  24.0\n",
      "Average Adj Dist Error:  37.99\n",
      "extreme\n"
     ]
    },
    {
     "name": "stderr",
     "output_type": "stream",
     "text": [
      " 97%|█████████▋| 97/100 [05:32<00:11,  3.81s/it]"
     ]
    },
    {
     "name": "stdout",
     "output_type": "stream",
     "text": [
      "Best Dist:  0.20977690184169315\n",
      "Average Dist:  0.5656330926631997\n",
      "Best Adj Error:  24.0\n",
      "Average Adj Dist Error:  37.43\n",
      "extreme\n"
     ]
    },
    {
     "name": "stderr",
     "output_type": "stream",
     "text": [
      " 98%|█████████▊| 98/100 [05:36<00:07,  3.83s/it]"
     ]
    },
    {
     "name": "stdout",
     "output_type": "stream",
     "text": [
      "Best Dist:  0.20977690184169315\n",
      "Average Dist:  0.5781443668425491\n",
      "Best Adj Error:  24.0\n",
      "Average Adj Dist Error:  38.78\n",
      "extreme\n"
     ]
    },
    {
     "name": "stderr",
     "output_type": "stream",
     "text": [
      " 99%|█████████▉| 99/100 [05:39<00:03,  3.81s/it]"
     ]
    },
    {
     "name": "stdout",
     "output_type": "stream",
     "text": [
      "new injection\n",
      "Best Dist:  0.20977690184169315\n",
      "Average Dist:  0.5798924453822453\n",
      "Best Adj Error:  24.0\n",
      "Average Adj Dist Error:  38.36\n",
      "extreme\n"
     ]
    },
    {
     "name": "stderr",
     "output_type": "stream",
     "text": [
      "100%|██████████| 100/100 [05:43<00:00,  3.44s/it]\n"
     ]
    },
    {
     "name": "stdout",
     "output_type": "stream",
     "text": [
      "No fit individual found within iteration limit\n"
     ]
    },
    {
     "name": "stderr",
     "output_type": "stream",
     "text": [
      "  0%|          | 0/100 [00:00<?, ?it/s]"
     ]
    },
    {
     "name": "stdout",
     "output_type": "stream",
     "text": [
      "Best Dist:  0.3511049129960177\n",
      "Average Dist:  0.5677929230804937\n",
      "Best Adj Error:  6.0\n",
      "Average Adj Dist Error:  24.55\n"
     ]
    },
    {
     "name": "stderr",
     "output_type": "stream",
     "text": [
      "  1%|          | 1/100 [00:02<04:25,  2.68s/it]"
     ]
    },
    {
     "name": "stdout",
     "output_type": "stream",
     "text": [
      "Best Dist:  0.30529346908921934\n",
      "Average Dist:  0.5158650267414059\n",
      "Best Adj Error:  8.0\n",
      "Average Adj Dist Error:  16.28\n"
     ]
    },
    {
     "name": "stderr",
     "output_type": "stream",
     "text": [
      "  2%|▏         | 2/100 [00:05<04:03,  2.48s/it]"
     ]
    },
    {
     "name": "stdout",
     "output_type": "stream",
     "text": [
      "Best Dist:  0.274007730496323\n",
      "Average Dist:  0.483534959993124\n",
      "Best Adj Error:  8.0\n",
      "Average Adj Dist Error:  11.94\n"
     ]
    },
    {
     "name": "stderr",
     "output_type": "stream",
     "text": [
      "  3%|▎         | 3/100 [00:07<03:56,  2.44s/it]"
     ]
    },
    {
     "name": "stdout",
     "output_type": "stream",
     "text": [
      "Best Dist:  0.21384234968329166\n",
      "Average Dist:  0.45214108705460776\n",
      "Best Adj Error:  8.0\n",
      "Average Adj Dist Error:  8.77\n"
     ]
    },
    {
     "name": "stderr",
     "output_type": "stream",
     "text": [
      "  4%|▍         | 4/100 [00:09<03:51,  2.41s/it]"
     ]
    },
    {
     "name": "stdout",
     "output_type": "stream",
     "text": [
      "Best Dist:  0.21384234968329166\n",
      "Average Dist:  0.4474067122567254\n",
      "Best Adj Error:  8.0\n",
      "Average Adj Dist Error:  10.71\n"
     ]
    },
    {
     "name": "stderr",
     "output_type": "stream",
     "text": [
      "  5%|▌         | 5/100 [00:12<03:49,  2.41s/it]"
     ]
    },
    {
     "name": "stdout",
     "output_type": "stream",
     "text": [
      "Best Dist:  0.21384234968329166\n",
      "Average Dist:  0.39816806937640153\n",
      "Best Adj Error:  8.0\n",
      "Average Adj Dist Error:  9.32\n"
     ]
    },
    {
     "name": "stderr",
     "output_type": "stream",
     "text": [
      "  6%|▌         | 6/100 [00:14<03:54,  2.50s/it]"
     ]
    },
    {
     "name": "stdout",
     "output_type": "stream",
     "text": [
      "Best Dist:  0.21384234968329166\n",
      "Average Dist:  0.345062744722067\n",
      "Best Adj Error:  8.0\n",
      "Average Adj Dist Error:  8.14\n"
     ]
    },
    {
     "name": "stderr",
     "output_type": "stream",
     "text": [
      "  7%|▋         | 7/100 [00:17<03:48,  2.46s/it]"
     ]
    },
    {
     "name": "stdout",
     "output_type": "stream",
     "text": [
      "extreme\n",
      "Best Dist:  0.21384234968329166\n",
      "Average Dist:  0.33337849977821593\n",
      "Best Adj Error:  8.0\n",
      "Average Adj Dist Error:  8.26\n"
     ]
    },
    {
     "name": "stderr",
     "output_type": "stream",
     "text": [
      "  8%|▊         | 8/100 [00:19<03:46,  2.46s/it]"
     ]
    },
    {
     "name": "stdout",
     "output_type": "stream",
     "text": [
      "extreme\n",
      "Best Dist:  0.15837978209004483\n",
      "Average Dist:  0.3027428213413426\n",
      "Best Adj Error:  4.0\n",
      "Average Adj Dist Error:  7.73\n"
     ]
    },
    {
     "name": "stderr",
     "output_type": "stream",
     "text": [
      "  9%|▉         | 9/100 [00:22<03:39,  2.41s/it]"
     ]
    },
    {
     "name": "stdout",
     "output_type": "stream",
     "text": [
      "extreme\n",
      "Best Dist:  0.15837978209004483\n",
      "Average Dist:  0.28356790210947297\n",
      "Best Adj Error:  4.0\n",
      "Average Adj Dist Error:  7.22\n"
     ]
    },
    {
     "name": "stderr",
     "output_type": "stream",
     "text": [
      " 10%|█         | 10/100 [00:24<03:35,  2.40s/it]"
     ]
    },
    {
     "name": "stdout",
     "output_type": "stream",
     "text": [
      "extreme\n",
      "Best Dist:  0.15837978209004483\n",
      "Average Dist:  0.30636436837580344\n",
      "Best Adj Error:  4.0\n",
      "Average Adj Dist Error:  8.03\n"
     ]
    },
    {
     "name": "stderr",
     "output_type": "stream",
     "text": [
      " 11%|█         | 11/100 [00:26<03:35,  2.42s/it]"
     ]
    },
    {
     "name": "stdout",
     "output_type": "stream",
     "text": [
      "extreme\n",
      "Best Dist:  0.15837978209004483\n",
      "Average Dist:  0.24716666112970437\n",
      "Best Adj Error:  4.0\n",
      "Average Adj Dist Error:  6.95\n"
     ]
    },
    {
     "name": "stderr",
     "output_type": "stream",
     "text": [
      " 12%|█▏        | 12/100 [00:29<03:31,  2.40s/it]"
     ]
    },
    {
     "name": "stdout",
     "output_type": "stream",
     "text": [
      "extreme\n",
      "Best Dist:  0.15837978209004483\n",
      "Average Dist:  0.25077976484163317\n",
      "Best Adj Error:  4.0\n",
      "Average Adj Dist Error:  7.69\n"
     ]
    },
    {
     "name": "stderr",
     "output_type": "stream",
     "text": [
      " 13%|█▎        | 13/100 [00:31<03:28,  2.40s/it]"
     ]
    },
    {
     "name": "stdout",
     "output_type": "stream",
     "text": [
      "extreme\n",
      "Best Dist:  0.15837978209004483\n",
      "Average Dist:  0.21737379128972362\n",
      "Best Adj Error:  4.0\n",
      "Average Adj Dist Error:  7.55\n"
     ]
    },
    {
     "name": "stderr",
     "output_type": "stream",
     "text": [
      " 14%|█▍        | 14/100 [00:33<03:25,  2.39s/it]"
     ]
    },
    {
     "name": "stdout",
     "output_type": "stream",
     "text": [
      "extreme\n",
      "Best Dist:  0.15837978209004483\n",
      "Average Dist:  0.2339088594709974\n",
      "Best Adj Error:  4.0\n",
      "Average Adj Dist Error:  7.42\n"
     ]
    },
    {
     "name": "stderr",
     "output_type": "stream",
     "text": [
      " 15%|█▌        | 15/100 [00:36<03:30,  2.48s/it]"
     ]
    },
    {
     "name": "stdout",
     "output_type": "stream",
     "text": [
      "extreme\n",
      "Best Dist:  0.15837978209004483\n",
      "Average Dist:  0.219965446623487\n",
      "Best Adj Error:  4.0\n",
      "Average Adj Dist Error:  6.58\n"
     ]
    },
    {
     "name": "stderr",
     "output_type": "stream",
     "text": [
      " 16%|█▌        | 16/100 [00:39<03:31,  2.51s/it]"
     ]
    },
    {
     "name": "stdout",
     "output_type": "stream",
     "text": [
      "extreme\n",
      "Best Dist:  0.15837978209004483\n",
      "Average Dist:  0.22794250149391096\n",
      "Best Adj Error:  4.0\n",
      "Average Adj Dist Error:  5.8\n"
     ]
    },
    {
     "name": "stderr",
     "output_type": "stream",
     "text": [
      " 17%|█▋        | 17/100 [00:41<03:32,  2.57s/it]"
     ]
    },
    {
     "name": "stdout",
     "output_type": "stream",
     "text": [
      "extreme\n",
      "Best Dist:  0.15837978209004483\n",
      "Average Dist:  0.16674197452743453\n",
      "Best Adj Error:  4.0\n",
      "Average Adj Dist Error:  4.09\n"
     ]
    },
    {
     "name": "stderr",
     "output_type": "stream",
     "text": [
      " 18%|█▊        | 18/100 [00:44<03:28,  2.54s/it]"
     ]
    },
    {
     "name": "stdout",
     "output_type": "stream",
     "text": [
      "extreme\n",
      "Best Dist:  0.15837978209004483\n",
      "Average Dist:  0.20530060983340181\n",
      "Best Adj Error:  4.0\n",
      "Average Adj Dist Error:  4.57\n"
     ]
    },
    {
     "name": "stderr",
     "output_type": "stream",
     "text": [
      " 19%|█▉        | 19/100 [00:47<03:29,  2.59s/it]"
     ]
    },
    {
     "name": "stdout",
     "output_type": "stream",
     "text": [
      "extreme\n",
      "Best Dist:  0.15837978209004483\n",
      "Average Dist:  0.16068236342698025\n",
      "Best Adj Error:  4.0\n",
      "Average Adj Dist Error:  4.03\n"
     ]
    },
    {
     "name": "stderr",
     "output_type": "stream",
     "text": [
      " 20%|██        | 20/100 [00:49<03:26,  2.58s/it]"
     ]
    },
    {
     "name": "stdout",
     "output_type": "stream",
     "text": [
      "extreme\n",
      "Best Dist:  0.15837978209004483\n",
      "Average Dist:  0.18656395824524633\n",
      "Best Adj Error:  4.0\n",
      "Average Adj Dist Error:  4.32\n",
      "extreme\n"
     ]
    },
    {
     "name": "stderr",
     "output_type": "stream",
     "text": [
      " 21%|██        | 21/100 [00:53<04:00,  3.04s/it]"
     ]
    },
    {
     "name": "stdout",
     "output_type": "stream",
     "text": [
      "Best Dist:  0.15837978209004483\n",
      "Average Dist:  0.5550678796482267\n",
      "Best Adj Error:  4.0\n",
      "Average Adj Dist Error:  31.72\n",
      "extreme\n"
     ]
    },
    {
     "name": "stderr",
     "output_type": "stream",
     "text": [
      " 22%|██▏       | 22/100 [00:57<04:15,  3.28s/it]"
     ]
    },
    {
     "name": "stdout",
     "output_type": "stream",
     "text": [
      "Best Dist:  0.15837978209004483\n",
      "Average Dist:  0.5513426300247052\n",
      "Best Adj Error:  4.0\n",
      "Average Adj Dist Error:  31.6\n",
      "extreme\n"
     ]
    },
    {
     "name": "stderr",
     "output_type": "stream",
     "text": [
      " 23%|██▎       | 23/100 [01:01<04:27,  3.47s/it]"
     ]
    },
    {
     "name": "stdout",
     "output_type": "stream",
     "text": [
      "Best Dist:  0.15837978209004483\n",
      "Average Dist:  0.5544867426686687\n",
      "Best Adj Error:  4.0\n",
      "Average Adj Dist Error:  31.72\n",
      "extreme\n"
     ]
    },
    {
     "name": "stderr",
     "output_type": "stream",
     "text": [
      " 24%|██▍       | 24/100 [01:05<04:29,  3.54s/it]"
     ]
    },
    {
     "name": "stdout",
     "output_type": "stream",
     "text": [
      "new injection\n",
      "Best Dist:  0.15837978209004483\n",
      "Average Dist:  0.543456257385692\n",
      "Best Adj Error:  4.0\n",
      "Average Adj Dist Error:  30.71\n",
      "extreme\n"
     ]
    },
    {
     "name": "stderr",
     "output_type": "stream",
     "text": [
      " 25%|██▌       | 25/100 [01:09<04:42,  3.77s/it]"
     ]
    },
    {
     "name": "stdout",
     "output_type": "stream",
     "text": [
      "Best Dist:  0.15837978209004483\n",
      "Average Dist:  0.5457866766221098\n",
      "Best Adj Error:  4.0\n",
      "Average Adj Dist Error:  31.47\n",
      "extreme\n"
     ]
    },
    {
     "name": "stderr",
     "output_type": "stream",
     "text": [
      " 26%|██▌       | 26/100 [01:13<04:41,  3.80s/it]"
     ]
    },
    {
     "name": "stdout",
     "output_type": "stream",
     "text": [
      "Best Dist:  0.15837978209004483\n",
      "Average Dist:  0.5522480914726107\n",
      "Best Adj Error:  4.0\n",
      "Average Adj Dist Error:  31.14\n",
      "extreme\n"
     ]
    },
    {
     "name": "stderr",
     "output_type": "stream",
     "text": [
      " 27%|██▋       | 27/100 [01:20<05:39,  4.65s/it]"
     ]
    },
    {
     "name": "stdout",
     "output_type": "stream",
     "text": [
      "Best Dist:  0.15837978209004483\n",
      "Average Dist:  0.5542917251943145\n",
      "Best Adj Error:  4.0\n",
      "Average Adj Dist Error:  31.8\n",
      "extreme\n"
     ]
    },
    {
     "name": "stderr",
     "output_type": "stream",
     "text": [
      " 28%|██▊       | 28/100 [01:25<05:45,  4.79s/it]"
     ]
    },
    {
     "name": "stdout",
     "output_type": "stream",
     "text": [
      "Best Dist:  0.15837978209004483\n",
      "Average Dist:  0.5538441016439574\n",
      "Best Adj Error:  4.0\n",
      "Average Adj Dist Error:  31.71\n",
      "extreme\n"
     ]
    },
    {
     "name": "stderr",
     "output_type": "stream",
     "text": [
      " 29%|██▉       | 29/100 [01:29<05:37,  4.76s/it]"
     ]
    },
    {
     "name": "stdout",
     "output_type": "stream",
     "text": [
      "new injection\n",
      "Best Dist:  0.15837978209004483\n",
      "Average Dist:  0.553546176328254\n",
      "Best Adj Error:  4.0\n",
      "Average Adj Dist Error:  32.28\n",
      "extreme\n"
     ]
    },
    {
     "name": "stderr",
     "output_type": "stream",
     "text": [
      " 30%|███       | 30/100 [01:34<05:21,  4.60s/it]"
     ]
    },
    {
     "name": "stdout",
     "output_type": "stream",
     "text": [
      "Best Dist:  0.15837978209004483\n",
      "Average Dist:  0.5521154937835259\n",
      "Best Adj Error:  4.0\n",
      "Average Adj Dist Error:  32.4\n",
      "extreme\n"
     ]
    },
    {
     "name": "stderr",
     "output_type": "stream",
     "text": [
      " 31%|███       | 31/100 [01:38<05:11,  4.51s/it]"
     ]
    },
    {
     "name": "stdout",
     "output_type": "stream",
     "text": [
      "Best Dist:  0.15837978209004483\n",
      "Average Dist:  0.5445638085118749\n",
      "Best Adj Error:  4.0\n",
      "Average Adj Dist Error:  31.66\n",
      "extreme\n"
     ]
    },
    {
     "name": "stderr",
     "output_type": "stream",
     "text": [
      " 32%|███▏      | 32/100 [01:42<04:58,  4.40s/it]"
     ]
    },
    {
     "name": "stdout",
     "output_type": "stream",
     "text": [
      "Best Dist:  0.15837978209004483\n",
      "Average Dist:  0.549778903420191\n",
      "Best Adj Error:  4.0\n",
      "Average Adj Dist Error:  30.97\n",
      "extreme\n"
     ]
    },
    {
     "name": "stderr",
     "output_type": "stream",
     "text": [
      " 33%|███▎      | 33/100 [01:47<04:58,  4.45s/it]"
     ]
    },
    {
     "name": "stdout",
     "output_type": "stream",
     "text": [
      "Best Dist:  0.15837978209004483\n",
      "Average Dist:  0.5479257924111041\n",
      "Best Adj Error:  4.0\n",
      "Average Adj Dist Error:  31.97\n",
      "extreme\n"
     ]
    },
    {
     "name": "stderr",
     "output_type": "stream",
     "text": [
      " 34%|███▍      | 34/100 [01:51<04:46,  4.33s/it]"
     ]
    },
    {
     "name": "stdout",
     "output_type": "stream",
     "text": [
      "new injection\n",
      "Best Dist:  0.15837978209004483\n",
      "Average Dist:  0.5606479600819955\n",
      "Best Adj Error:  4.0\n",
      "Average Adj Dist Error:  32.82\n",
      "extreme\n"
     ]
    },
    {
     "name": "stderr",
     "output_type": "stream",
     "text": [
      " 35%|███▌      | 35/100 [01:55<04:35,  4.25s/it]"
     ]
    },
    {
     "name": "stdout",
     "output_type": "stream",
     "text": [
      "Best Dist:  0.15837978209004483\n",
      "Average Dist:  0.5519621604650901\n",
      "Best Adj Error:  4.0\n",
      "Average Adj Dist Error:  31.38\n",
      "extreme\n"
     ]
    },
    {
     "name": "stderr",
     "output_type": "stream",
     "text": [
      " 36%|███▌      | 36/100 [01:59<04:26,  4.16s/it]"
     ]
    },
    {
     "name": "stdout",
     "output_type": "stream",
     "text": [
      "Best Dist:  0.15837978209004483\n",
      "Average Dist:  0.5511058881723718\n",
      "Best Adj Error:  4.0\n",
      "Average Adj Dist Error:  31.47\n",
      "extreme\n"
     ]
    },
    {
     "name": "stderr",
     "output_type": "stream",
     "text": [
      " 37%|███▋      | 37/100 [02:03<04:16,  4.08s/it]"
     ]
    },
    {
     "name": "stdout",
     "output_type": "stream",
     "text": [
      "Best Dist:  0.15837978209004483\n",
      "Average Dist:  0.5557348600759808\n",
      "Best Adj Error:  4.0\n",
      "Average Adj Dist Error:  31.25\n",
      "extreme\n"
     ]
    },
    {
     "name": "stderr",
     "output_type": "stream",
     "text": [
      " 38%|███▊      | 38/100 [02:07<04:16,  4.14s/it]"
     ]
    },
    {
     "name": "stdout",
     "output_type": "stream",
     "text": [
      "Best Dist:  0.15837978209004483\n",
      "Average Dist:  0.5538580284253318\n",
      "Best Adj Error:  4.0\n",
      "Average Adj Dist Error:  31.65\n",
      "extreme\n"
     ]
    },
    {
     "name": "stderr",
     "output_type": "stream",
     "text": [
      " 39%|███▉      | 39/100 [02:11<04:06,  4.05s/it]"
     ]
    },
    {
     "name": "stdout",
     "output_type": "stream",
     "text": [
      "new injection\n",
      "Best Dist:  0.15837978209004483\n",
      "Average Dist:  0.559585963348188\n",
      "Best Adj Error:  4.0\n",
      "Average Adj Dist Error:  33.1\n",
      "extreme\n"
     ]
    },
    {
     "name": "stderr",
     "output_type": "stream",
     "text": [
      " 40%|████      | 40/100 [02:15<04:01,  4.02s/it]"
     ]
    },
    {
     "name": "stdout",
     "output_type": "stream",
     "text": [
      "Best Dist:  0.15837978209004483\n",
      "Average Dist:  0.5611480106148032\n",
      "Best Adj Error:  4.0\n",
      "Average Adj Dist Error:  32.44\n",
      "extreme\n"
     ]
    },
    {
     "name": "stderr",
     "output_type": "stream",
     "text": [
      " 41%|████      | 41/100 [02:19<04:04,  4.14s/it]"
     ]
    },
    {
     "name": "stdout",
     "output_type": "stream",
     "text": [
      "Best Dist:  0.15837978209004483\n",
      "Average Dist:  0.5483881111868928\n",
      "Best Adj Error:  4.0\n",
      "Average Adj Dist Error:  31.52\n",
      "extreme\n"
     ]
    },
    {
     "name": "stderr",
     "output_type": "stream",
     "text": [
      " 42%|████▏     | 42/100 [02:23<03:55,  4.06s/it]"
     ]
    },
    {
     "name": "stdout",
     "output_type": "stream",
     "text": [
      "Best Dist:  0.15837978209004483\n",
      "Average Dist:  0.5449654793569738\n",
      "Best Adj Error:  4.0\n",
      "Average Adj Dist Error:  31.38\n",
      "extreme\n"
     ]
    },
    {
     "name": "stderr",
     "output_type": "stream",
     "text": [
      " 43%|████▎     | 43/100 [02:27<03:49,  4.03s/it]"
     ]
    },
    {
     "name": "stdout",
     "output_type": "stream",
     "text": [
      "Best Dist:  0.15837978209004483\n",
      "Average Dist:  0.5543821909491669\n",
      "Best Adj Error:  4.0\n",
      "Average Adj Dist Error:  32.42\n",
      "extreme\n"
     ]
    },
    {
     "name": "stderr",
     "output_type": "stream",
     "text": [
      " 44%|████▍     | 44/100 [02:31<03:43,  4.00s/it]"
     ]
    },
    {
     "name": "stdout",
     "output_type": "stream",
     "text": [
      "new injection\n",
      "Best Dist:  0.15837978209004483\n",
      "Average Dist:  0.551540736469692\n",
      "Best Adj Error:  4.0\n",
      "Average Adj Dist Error:  32.22\n",
      "extreme\n"
     ]
    },
    {
     "name": "stderr",
     "output_type": "stream",
     "text": [
      " 45%|████▌     | 45/100 [02:35<03:37,  3.95s/it]"
     ]
    },
    {
     "name": "stdout",
     "output_type": "stream",
     "text": [
      "Best Dist:  0.15837978209004483\n",
      "Average Dist:  0.5509926617507401\n",
      "Best Adj Error:  4.0\n",
      "Average Adj Dist Error:  32.35\n",
      "extreme\n"
     ]
    },
    {
     "name": "stderr",
     "output_type": "stream",
     "text": [
      " 46%|████▌     | 46/100 [02:39<03:33,  3.95s/it]"
     ]
    },
    {
     "name": "stdout",
     "output_type": "stream",
     "text": [
      "Best Dist:  0.15837978209004483\n",
      "Average Dist:  0.5582026932207075\n",
      "Best Adj Error:  4.0\n",
      "Average Adj Dist Error:  31.81\n",
      "extreme\n"
     ]
    },
    {
     "name": "stderr",
     "output_type": "stream",
     "text": [
      " 47%|████▋     | 47/100 [02:42<03:26,  3.90s/it]"
     ]
    },
    {
     "name": "stdout",
     "output_type": "stream",
     "text": [
      "Best Dist:  0.15837978209004483\n",
      "Average Dist:  0.5480928183543833\n",
      "Best Adj Error:  4.0\n",
      "Average Adj Dist Error:  31.51\n",
      "extreme\n"
     ]
    },
    {
     "name": "stderr",
     "output_type": "stream",
     "text": [
      " 48%|████▊     | 48/100 [02:46<03:23,  3.92s/it]"
     ]
    },
    {
     "name": "stdout",
     "output_type": "stream",
     "text": [
      "Best Dist:  0.15837978209004483\n",
      "Average Dist:  0.5580748642852312\n",
      "Best Adj Error:  4.0\n",
      "Average Adj Dist Error:  31.49\n",
      "extreme\n"
     ]
    },
    {
     "name": "stderr",
     "output_type": "stream",
     "text": [
      " 49%|████▉     | 49/100 [02:50<03:17,  3.87s/it]"
     ]
    },
    {
     "name": "stdout",
     "output_type": "stream",
     "text": [
      "new injection\n",
      "Best Dist:  0.15837978209004483\n",
      "Average Dist:  0.5544166143233815\n",
      "Best Adj Error:  4.0\n",
      "Average Adj Dist Error:  31.87\n",
      "extreme\n"
     ]
    },
    {
     "name": "stderr",
     "output_type": "stream",
     "text": [
      " 50%|█████     | 50/100 [02:54<03:15,  3.91s/it]"
     ]
    },
    {
     "name": "stdout",
     "output_type": "stream",
     "text": [
      "Best Dist:  0.15837978209004483\n",
      "Average Dist:  0.5501964653335647\n",
      "Best Adj Error:  4.0\n",
      "Average Adj Dist Error:  31.05\n",
      "extreme\n"
     ]
    },
    {
     "name": "stderr",
     "output_type": "stream",
     "text": [
      " 51%|█████     | 51/100 [02:58<03:10,  3.89s/it]"
     ]
    },
    {
     "name": "stdout",
     "output_type": "stream",
     "text": [
      "Best Dist:  0.15837978209004483\n",
      "Average Dist:  0.5559008538065998\n",
      "Best Adj Error:  4.0\n",
      "Average Adj Dist Error:  31.38\n",
      "extreme\n"
     ]
    },
    {
     "name": "stderr",
     "output_type": "stream",
     "text": [
      " 52%|█████▏    | 52/100 [03:02<03:09,  3.96s/it]"
     ]
    },
    {
     "name": "stdout",
     "output_type": "stream",
     "text": [
      "Best Dist:  0.15837978209004483\n",
      "Average Dist:  0.5632512983931666\n",
      "Best Adj Error:  4.0\n",
      "Average Adj Dist Error:  32.0\n",
      "extreme\n"
     ]
    },
    {
     "name": "stderr",
     "output_type": "stream",
     "text": [
      " 53%|█████▎    | 53/100 [03:06<03:04,  3.92s/it]"
     ]
    },
    {
     "name": "stdout",
     "output_type": "stream",
     "text": [
      "Best Dist:  0.15837978209004483\n",
      "Average Dist:  0.5504110246097581\n",
      "Best Adj Error:  4.0\n",
      "Average Adj Dist Error:  32.0\n",
      "extreme\n"
     ]
    },
    {
     "name": "stderr",
     "output_type": "stream",
     "text": [
      " 54%|█████▍    | 54/100 [03:10<02:59,  3.90s/it]"
     ]
    },
    {
     "name": "stdout",
     "output_type": "stream",
     "text": [
      "new injection\n",
      "Best Dist:  0.15837978209004483\n",
      "Average Dist:  0.5508687919834341\n",
      "Best Adj Error:  4.0\n",
      "Average Adj Dist Error:  32.19\n",
      "extreme\n"
     ]
    },
    {
     "name": "stderr",
     "output_type": "stream",
     "text": [
      " 55%|█████▌    | 55/100 [03:14<02:53,  3.86s/it]"
     ]
    },
    {
     "name": "stdout",
     "output_type": "stream",
     "text": [
      "Best Dist:  0.15837978209004483\n",
      "Average Dist:  0.5480786534057248\n",
      "Best Adj Error:  4.0\n",
      "Average Adj Dist Error:  31.63\n",
      "extreme\n"
     ]
    },
    {
     "name": "stderr",
     "output_type": "stream",
     "text": [
      " 56%|█████▌    | 56/100 [03:17<02:51,  3.89s/it]"
     ]
    },
    {
     "name": "stdout",
     "output_type": "stream",
     "text": [
      "Best Dist:  0.15837978209004483\n",
      "Average Dist:  0.5491569111231633\n",
      "Best Adj Error:  4.0\n",
      "Average Adj Dist Error:  31.39\n",
      "extreme\n"
     ]
    },
    {
     "name": "stderr",
     "output_type": "stream",
     "text": [
      " 57%|█████▋    | 57/100 [03:21<02:47,  3.90s/it]"
     ]
    },
    {
     "name": "stdout",
     "output_type": "stream",
     "text": [
      "Best Dist:  0.15837978209004483\n",
      "Average Dist:  0.5484286880790653\n",
      "Best Adj Error:  4.0\n",
      "Average Adj Dist Error:  31.23\n",
      "extreme\n"
     ]
    },
    {
     "name": "stderr",
     "output_type": "stream",
     "text": [
      " 58%|█████▊    | 58/100 [03:25<02:42,  3.88s/it]"
     ]
    },
    {
     "name": "stdout",
     "output_type": "stream",
     "text": [
      "Best Dist:  0.15837978209004483\n",
      "Average Dist:  0.5542824442409104\n",
      "Best Adj Error:  4.0\n",
      "Average Adj Dist Error:  32.37\n",
      "extreme\n"
     ]
    },
    {
     "name": "stderr",
     "output_type": "stream",
     "text": [
      " 59%|█████▉    | 59/100 [03:29<02:40,  3.91s/it]"
     ]
    },
    {
     "name": "stdout",
     "output_type": "stream",
     "text": [
      "new injection\n",
      "Best Dist:  0.15837978209004483\n",
      "Average Dist:  0.5554982775606239\n",
      "Best Adj Error:  4.0\n",
      "Average Adj Dist Error:  32.04\n",
      "extreme\n"
     ]
    },
    {
     "name": "stderr",
     "output_type": "stream",
     "text": [
      " 60%|██████    | 60/100 [03:33<02:37,  3.93s/it]"
     ]
    },
    {
     "name": "stdout",
     "output_type": "stream",
     "text": [
      "Best Dist:  0.15837978209004483\n",
      "Average Dist:  0.5499359019932668\n",
      "Best Adj Error:  4.0\n",
      "Average Adj Dist Error:  31.55\n",
      "extreme\n"
     ]
    },
    {
     "name": "stderr",
     "output_type": "stream",
     "text": [
      " 61%|██████    | 61/100 [03:37<02:33,  3.94s/it]"
     ]
    },
    {
     "name": "stdout",
     "output_type": "stream",
     "text": [
      "Best Dist:  0.15837978209004483\n",
      "Average Dist:  0.5544726875172761\n",
      "Best Adj Error:  4.0\n",
      "Average Adj Dist Error:  31.65\n",
      "extreme\n"
     ]
    },
    {
     "name": "stderr",
     "output_type": "stream",
     "text": [
      " 62%|██████▏   | 62/100 [03:41<02:27,  3.88s/it]"
     ]
    },
    {
     "name": "stdout",
     "output_type": "stream",
     "text": [
      "Best Dist:  0.15837978209004483\n",
      "Average Dist:  0.5564037934785805\n",
      "Best Adj Error:  4.0\n",
      "Average Adj Dist Error:  32.07\n",
      "extreme\n"
     ]
    },
    {
     "name": "stderr",
     "output_type": "stream",
     "text": [
      " 63%|██████▎   | 63/100 [03:45<02:24,  3.89s/it]"
     ]
    },
    {
     "name": "stdout",
     "output_type": "stream",
     "text": [
      "Best Dist:  0.15837978209004483\n",
      "Average Dist:  0.5540721328353094\n",
      "Best Adj Error:  4.0\n",
      "Average Adj Dist Error:  31.96\n",
      "extreme\n"
     ]
    },
    {
     "name": "stderr",
     "output_type": "stream",
     "text": [
      " 64%|██████▍   | 64/100 [03:49<02:19,  3.88s/it]"
     ]
    },
    {
     "name": "stdout",
     "output_type": "stream",
     "text": [
      "new injection\n",
      "Best Dist:  0.15837978209004483\n",
      "Average Dist:  0.5467984265043931\n",
      "Best Adj Error:  4.0\n",
      "Average Adj Dist Error:  31.68\n",
      "extreme\n"
     ]
    },
    {
     "name": "stderr",
     "output_type": "stream",
     "text": [
      " 65%|██████▌   | 65/100 [03:52<02:14,  3.83s/it]"
     ]
    },
    {
     "name": "stdout",
     "output_type": "stream",
     "text": [
      "Best Dist:  0.15837978209004483\n",
      "Average Dist:  0.5503429163627608\n",
      "Best Adj Error:  4.0\n",
      "Average Adj Dist Error:  32.47\n",
      "extreme\n"
     ]
    },
    {
     "name": "stderr",
     "output_type": "stream",
     "text": [
      " 66%|██████▌   | 66/100 [03:56<02:10,  3.84s/it]"
     ]
    },
    {
     "name": "stdout",
     "output_type": "stream",
     "text": [
      "Best Dist:  0.15837978209004483\n",
      "Average Dist:  0.5578441549116177\n",
      "Best Adj Error:  4.0\n",
      "Average Adj Dist Error:  32.14\n",
      "extreme\n"
     ]
    },
    {
     "name": "stderr",
     "output_type": "stream",
     "text": [
      " 67%|██████▋   | 67/100 [04:00<02:09,  3.92s/it]"
     ]
    },
    {
     "name": "stdout",
     "output_type": "stream",
     "text": [
      "Best Dist:  0.15837978209004483\n",
      "Average Dist:  0.5535044642272818\n",
      "Best Adj Error:  4.0\n",
      "Average Adj Dist Error:  31.38\n",
      "extreme\n"
     ]
    },
    {
     "name": "stderr",
     "output_type": "stream",
     "text": [
      " 68%|██████▊   | 68/100 [04:04<02:04,  3.88s/it]"
     ]
    },
    {
     "name": "stdout",
     "output_type": "stream",
     "text": [
      "Best Dist:  0.15837978209004483\n",
      "Average Dist:  0.5573416996809913\n",
      "Best Adj Error:  4.0\n",
      "Average Adj Dist Error:  32.24\n",
      "extreme\n"
     ]
    },
    {
     "name": "stderr",
     "output_type": "stream",
     "text": [
      " 69%|██████▉   | 69/100 [04:08<02:00,  3.88s/it]"
     ]
    },
    {
     "name": "stdout",
     "output_type": "stream",
     "text": [
      "new injection\n",
      "Best Dist:  0.15837978209004483\n",
      "Average Dist:  0.56100802652298\n",
      "Best Adj Error:  4.0\n",
      "Average Adj Dist Error:  33.03\n",
      "extreme\n"
     ]
    },
    {
     "name": "stderr",
     "output_type": "stream",
     "text": [
      " 70%|███████   | 70/100 [04:12<01:57,  3.92s/it]"
     ]
    },
    {
     "name": "stdout",
     "output_type": "stream",
     "text": [
      "Best Dist:  0.15837978209004483\n",
      "Average Dist:  0.552703942273547\n",
      "Best Adj Error:  4.0\n",
      "Average Adj Dist Error:  31.52\n",
      "extreme\n"
     ]
    },
    {
     "name": "stderr",
     "output_type": "stream",
     "text": [
      " 71%|███████   | 71/100 [04:16<01:56,  4.00s/it]"
     ]
    },
    {
     "name": "stdout",
     "output_type": "stream",
     "text": [
      "Best Dist:  0.15837978209004483\n",
      "Average Dist:  0.5539994160428052\n",
      "Best Adj Error:  4.0\n",
      "Average Adj Dist Error:  31.63\n",
      "extreme\n"
     ]
    },
    {
     "name": "stderr",
     "output_type": "stream",
     "text": [
      " 72%|███████▏  | 72/100 [04:20<01:53,  4.05s/it]"
     ]
    },
    {
     "name": "stdout",
     "output_type": "stream",
     "text": [
      "Best Dist:  0.15837978209004483\n",
      "Average Dist:  0.549261368578216\n",
      "Best Adj Error:  4.0\n",
      "Average Adj Dist Error:  31.62\n",
      "extreme\n"
     ]
    },
    {
     "name": "stderr",
     "output_type": "stream",
     "text": [
      " 73%|███████▎  | 73/100 [04:24<01:47,  3.99s/it]"
     ]
    },
    {
     "name": "stdout",
     "output_type": "stream",
     "text": [
      "Best Dist:  0.15837978209004483\n",
      "Average Dist:  0.5465502431738355\n",
      "Best Adj Error:  4.0\n",
      "Average Adj Dist Error:  32.0\n",
      "extreme\n"
     ]
    },
    {
     "name": "stderr",
     "output_type": "stream",
     "text": [
      " 74%|███████▍  | 74/100 [04:28<01:41,  3.92s/it]"
     ]
    },
    {
     "name": "stdout",
     "output_type": "stream",
     "text": [
      "new injection\n",
      "Best Dist:  0.15837978209004483\n",
      "Average Dist:  0.5471293728717357\n",
      "Best Adj Error:  4.0\n",
      "Average Adj Dist Error:  32.33\n",
      "extreme\n"
     ]
    },
    {
     "name": "stderr",
     "output_type": "stream",
     "text": [
      " 75%|███████▌  | 75/100 [04:32<01:36,  3.87s/it]"
     ]
    },
    {
     "name": "stdout",
     "output_type": "stream",
     "text": [
      "Best Dist:  0.15837978209004483\n",
      "Average Dist:  0.5543656845013681\n",
      "Best Adj Error:  4.0\n",
      "Average Adj Dist Error:  31.52\n",
      "extreme\n"
     ]
    },
    {
     "name": "stderr",
     "output_type": "stream",
     "text": [
      " 76%|███████▌  | 76/100 [04:35<01:32,  3.83s/it]"
     ]
    },
    {
     "name": "stdout",
     "output_type": "stream",
     "text": [
      "Best Dist:  0.15837978209004483\n",
      "Average Dist:  0.5521216116687918\n",
      "Best Adj Error:  4.0\n",
      "Average Adj Dist Error:  30.98\n",
      "extreme\n"
     ]
    },
    {
     "name": "stderr",
     "output_type": "stream",
     "text": [
      " 77%|███████▋  | 77/100 [04:39<01:29,  3.87s/it]"
     ]
    },
    {
     "name": "stdout",
     "output_type": "stream",
     "text": [
      "Best Dist:  0.15837978209004483\n",
      "Average Dist:  0.5591584068362404\n",
      "Best Adj Error:  4.0\n",
      "Average Adj Dist Error:  32.18\n",
      "extreme\n"
     ]
    },
    {
     "name": "stderr",
     "output_type": "stream",
     "text": [
      " 78%|███████▊  | 78/100 [04:43<01:26,  3.91s/it]"
     ]
    },
    {
     "name": "stdout",
     "output_type": "stream",
     "text": [
      "Best Dist:  0.15837978209004483\n",
      "Average Dist:  0.5540420748386878\n",
      "Best Adj Error:  4.0\n",
      "Average Adj Dist Error:  32.11\n",
      "extreme\n"
     ]
    },
    {
     "name": "stderr",
     "output_type": "stream",
     "text": [
      " 79%|███████▉  | 79/100 [04:47<01:22,  3.91s/it]"
     ]
    },
    {
     "name": "stdout",
     "output_type": "stream",
     "text": [
      "new injection\n",
      "Best Dist:  0.15837978209004483\n",
      "Average Dist:  0.5562200069991036\n",
      "Best Adj Error:  4.0\n",
      "Average Adj Dist Error:  33.36\n",
      "extreme\n"
     ]
    },
    {
     "name": "stderr",
     "output_type": "stream",
     "text": [
      " 80%|████████  | 80/100 [04:51<01:17,  3.87s/it]"
     ]
    },
    {
     "name": "stdout",
     "output_type": "stream",
     "text": [
      "Best Dist:  0.15837978209004483\n",
      "Average Dist:  0.5521806776599137\n",
      "Best Adj Error:  4.0\n",
      "Average Adj Dist Error:  31.83\n",
      "extreme\n"
     ]
    },
    {
     "name": "stderr",
     "output_type": "stream",
     "text": [
      " 81%|████████  | 81/100 [04:55<01:13,  3.85s/it]"
     ]
    },
    {
     "name": "stdout",
     "output_type": "stream",
     "text": [
      "Best Dist:  0.15837978209004483\n",
      "Average Dist:  0.5578410498753628\n",
      "Best Adj Error:  4.0\n",
      "Average Adj Dist Error:  31.89\n",
      "extreme\n"
     ]
    },
    {
     "name": "stderr",
     "output_type": "stream",
     "text": [
      " 82%|████████▏ | 82/100 [04:59<01:08,  3.82s/it]"
     ]
    },
    {
     "name": "stdout",
     "output_type": "stream",
     "text": [
      "Best Dist:  0.15837978209004483\n",
      "Average Dist:  0.5562818638901417\n",
      "Best Adj Error:  4.0\n",
      "Average Adj Dist Error:  32.24\n",
      "extreme\n"
     ]
    },
    {
     "name": "stderr",
     "output_type": "stream",
     "text": [
      " 83%|████████▎ | 83/100 [05:03<01:05,  3.83s/it]"
     ]
    },
    {
     "name": "stdout",
     "output_type": "stream",
     "text": [
      "Best Dist:  0.15837978209004483\n",
      "Average Dist:  0.5513071127849578\n",
      "Best Adj Error:  4.0\n",
      "Average Adj Dist Error:  32.69\n",
      "extreme\n"
     ]
    },
    {
     "name": "stderr",
     "output_type": "stream",
     "text": [
      " 84%|████████▍ | 84/100 [05:06<01:01,  3.84s/it]"
     ]
    },
    {
     "name": "stdout",
     "output_type": "stream",
     "text": [
      "new injection\n",
      "Best Dist:  0.15837978209004483\n",
      "Average Dist:  0.5592181426927144\n",
      "Best Adj Error:  4.0\n",
      "Average Adj Dist Error:  32.49\n",
      "extreme\n"
     ]
    },
    {
     "name": "stderr",
     "output_type": "stream",
     "text": [
      " 85%|████████▌ | 85/100 [05:10<00:57,  3.85s/it]"
     ]
    },
    {
     "name": "stdout",
     "output_type": "stream",
     "text": [
      "Best Dist:  0.15837978209004483\n",
      "Average Dist:  0.5514763726890985\n",
      "Best Adj Error:  4.0\n",
      "Average Adj Dist Error:  31.82\n",
      "extreme\n"
     ]
    },
    {
     "name": "stderr",
     "output_type": "stream",
     "text": [
      " 86%|████████▌ | 86/100 [05:14<00:53,  3.84s/it]"
     ]
    },
    {
     "name": "stdout",
     "output_type": "stream",
     "text": [
      "Best Dist:  0.15837978209004483\n",
      "Average Dist:  0.5601470505278806\n",
      "Best Adj Error:  4.0\n",
      "Average Adj Dist Error:  32.27\n",
      "extreme\n"
     ]
    },
    {
     "name": "stderr",
     "output_type": "stream",
     "text": [
      " 87%|████████▋ | 87/100 [05:18<00:49,  3.84s/it]"
     ]
    },
    {
     "name": "stdout",
     "output_type": "stream",
     "text": [
      "Best Dist:  0.15837978209004483\n",
      "Average Dist:  0.5554109489201868\n",
      "Best Adj Error:  4.0\n",
      "Average Adj Dist Error:  31.65\n",
      "extreme\n"
     ]
    },
    {
     "name": "stderr",
     "output_type": "stream",
     "text": [
      " 88%|████████▊ | 88/100 [05:22<00:46,  3.85s/it]"
     ]
    },
    {
     "name": "stdout",
     "output_type": "stream",
     "text": [
      "Best Dist:  0.15837978209004483\n",
      "Average Dist:  0.5551013911643143\n",
      "Best Adj Error:  4.0\n",
      "Average Adj Dist Error:  31.42\n",
      "extreme\n"
     ]
    },
    {
     "name": "stderr",
     "output_type": "stream",
     "text": [
      " 89%|████████▉ | 89/100 [05:26<00:42,  3.85s/it]"
     ]
    },
    {
     "name": "stdout",
     "output_type": "stream",
     "text": [
      "new injection\n",
      "Best Dist:  0.15837978209004483\n",
      "Average Dist:  0.5590788563688468\n",
      "Best Adj Error:  4.0\n",
      "Average Adj Dist Error:  33.18\n",
      "extreme\n"
     ]
    },
    {
     "name": "stderr",
     "output_type": "stream",
     "text": [
      " 90%|█████████ | 90/100 [05:29<00:37,  3.79s/it]"
     ]
    },
    {
     "name": "stdout",
     "output_type": "stream",
     "text": [
      "Best Dist:  0.15837978209004483\n",
      "Average Dist:  0.5559826155769284\n",
      "Best Adj Error:  4.0\n",
      "Average Adj Dist Error:  31.99\n",
      "extreme\n"
     ]
    },
    {
     "name": "stderr",
     "output_type": "stream",
     "text": [
      " 91%|█████████ | 91/100 [05:33<00:34,  3.78s/it]"
     ]
    },
    {
     "name": "stdout",
     "output_type": "stream",
     "text": [
      "Best Dist:  0.15837978209004483\n",
      "Average Dist:  0.5449576651500628\n",
      "Best Adj Error:  4.0\n",
      "Average Adj Dist Error:  30.85\n",
      "extreme\n"
     ]
    },
    {
     "name": "stderr",
     "output_type": "stream",
     "text": [
      " 92%|█████████▏| 92/100 [05:37<00:30,  3.83s/it]"
     ]
    },
    {
     "name": "stdout",
     "output_type": "stream",
     "text": [
      "Best Dist:  0.15837978209004483\n",
      "Average Dist:  0.5533940669321031\n",
      "Best Adj Error:  4.0\n",
      "Average Adj Dist Error:  31.48\n",
      "extreme\n"
     ]
    },
    {
     "name": "stderr",
     "output_type": "stream",
     "text": [
      " 93%|█████████▎| 93/100 [05:41<00:26,  3.85s/it]"
     ]
    },
    {
     "name": "stdout",
     "output_type": "stream",
     "text": [
      "Best Dist:  0.15837978209004483\n",
      "Average Dist:  0.5555277359227001\n",
      "Best Adj Error:  4.0\n",
      "Average Adj Dist Error:  32.11\n",
      "extreme\n"
     ]
    },
    {
     "name": "stderr",
     "output_type": "stream",
     "text": [
      " 94%|█████████▍| 94/100 [05:45<00:23,  3.88s/it]"
     ]
    },
    {
     "name": "stdout",
     "output_type": "stream",
     "text": [
      "new injection\n",
      "Best Dist:  0.15837978209004483\n",
      "Average Dist:  0.557079717277425\n",
      "Best Adj Error:  4.0\n",
      "Average Adj Dist Error:  32.67\n",
      "extreme\n"
     ]
    },
    {
     "name": "stderr",
     "output_type": "stream",
     "text": [
      " 95%|█████████▌| 95/100 [05:49<00:19,  3.88s/it]"
     ]
    },
    {
     "name": "stdout",
     "output_type": "stream",
     "text": [
      "Best Dist:  0.15837978209004483\n",
      "Average Dist:  0.5543597925446307\n",
      "Best Adj Error:  4.0\n",
      "Average Adj Dist Error:  32.13\n",
      "extreme\n"
     ]
    },
    {
     "name": "stderr",
     "output_type": "stream",
     "text": [
      " 96%|█████████▌| 96/100 [05:53<00:15,  3.88s/it]"
     ]
    },
    {
     "name": "stdout",
     "output_type": "stream",
     "text": [
      "Best Dist:  0.15837978209004483\n",
      "Average Dist:  0.5494242327747351\n",
      "Best Adj Error:  4.0\n",
      "Average Adj Dist Error:  31.63\n",
      "extreme\n"
     ]
    },
    {
     "name": "stderr",
     "output_type": "stream",
     "text": [
      " 97%|█████████▋| 97/100 [05:56<00:11,  3.85s/it]"
     ]
    },
    {
     "name": "stdout",
     "output_type": "stream",
     "text": [
      "Best Dist:  0.15837978209004483\n",
      "Average Dist:  0.5505599263768989\n",
      "Best Adj Error:  4.0\n",
      "Average Adj Dist Error:  30.88\n",
      "extreme\n"
     ]
    },
    {
     "name": "stderr",
     "output_type": "stream",
     "text": [
      " 98%|█████████▊| 98/100 [06:00<00:07,  3.87s/it]"
     ]
    },
    {
     "name": "stdout",
     "output_type": "stream",
     "text": [
      "Best Dist:  0.15837978209004483\n",
      "Average Dist:  0.5530610182748691\n",
      "Best Adj Error:  4.0\n",
      "Average Adj Dist Error:  31.28\n",
      "extreme\n"
     ]
    },
    {
     "name": "stderr",
     "output_type": "stream",
     "text": [
      " 99%|█████████▉| 99/100 [06:04<00:03,  3.86s/it]"
     ]
    },
    {
     "name": "stdout",
     "output_type": "stream",
     "text": [
      "new injection\n",
      "Best Dist:  0.15837978209004483\n",
      "Average Dist:  0.5506148380041196\n",
      "Best Adj Error:  4.0\n",
      "Average Adj Dist Error:  31.97\n",
      "extreme\n"
     ]
    },
    {
     "name": "stderr",
     "output_type": "stream",
     "text": [
      "100%|██████████| 100/100 [06:08<00:00,  3.68s/it]\n"
     ]
    },
    {
     "name": "stdout",
     "output_type": "stream",
     "text": [
      "No fit individual found within iteration limit\n"
     ]
    },
    {
     "name": "stderr",
     "output_type": "stream",
     "text": [
      "  0%|          | 0/100 [00:00<?, ?it/s]"
     ]
    },
    {
     "name": "stdout",
     "output_type": "stream",
     "text": [
      "Best Dist:  0.3539414562198862\n",
      "Average Dist:  0.6005638304983997\n",
      "Best Adj Error:  10.0\n",
      "Average Adj Dist Error:  30.05\n"
     ]
    },
    {
     "name": "stderr",
     "output_type": "stream",
     "text": [
      "  1%|          | 1/100 [00:02<04:30,  2.73s/it]"
     ]
    },
    {
     "name": "stdout",
     "output_type": "stream",
     "text": [
      "Best Dist:  0.3539414562198862\n",
      "Average Dist:  0.5266351579948116\n",
      "Best Adj Error:  10.0\n",
      "Average Adj Dist Error:  19.46\n"
     ]
    },
    {
     "name": "stderr",
     "output_type": "stream",
     "text": [
      "  2%|▏         | 2/100 [00:05<04:20,  2.66s/it]"
     ]
    },
    {
     "name": "stdout",
     "output_type": "stream",
     "text": [
      "Best Dist:  0.29782886726920227\n",
      "Average Dist:  0.49031948900520134\n",
      "Best Adj Error:  8.0\n",
      "Average Adj Dist Error:  14.73\n"
     ]
    },
    {
     "name": "stderr",
     "output_type": "stream",
     "text": [
      "  3%|▎         | 3/100 [00:07<04:09,  2.57s/it]"
     ]
    },
    {
     "name": "stdout",
     "output_type": "stream",
     "text": [
      "Best Dist:  0.29782886726920227\n",
      "Average Dist:  0.4586776888526626\n",
      "Best Adj Error:  8.0\n",
      "Average Adj Dist Error:  12.99\n"
     ]
    },
    {
     "name": "stderr",
     "output_type": "stream",
     "text": [
      "  4%|▍         | 4/100 [00:10<04:05,  2.56s/it]"
     ]
    },
    {
     "name": "stdout",
     "output_type": "stream",
     "text": [
      "Best Dist:  0.29782886726920227\n",
      "Average Dist:  0.44009393793258894\n",
      "Best Adj Error:  8.0\n",
      "Average Adj Dist Error:  13.33\n"
     ]
    },
    {
     "name": "stderr",
     "output_type": "stream",
     "text": [
      "  5%|▌         | 5/100 [00:12<04:05,  2.58s/it]"
     ]
    },
    {
     "name": "stdout",
     "output_type": "stream",
     "text": [
      "Best Dist:  0.25855425837100043\n",
      "Average Dist:  0.394041760705209\n",
      "Best Adj Error:  8.0\n",
      "Average Adj Dist Error:  12.24\n"
     ]
    },
    {
     "name": "stderr",
     "output_type": "stream",
     "text": [
      "  6%|▌         | 6/100 [00:15<03:58,  2.53s/it]"
     ]
    },
    {
     "name": "stdout",
     "output_type": "stream",
     "text": [
      "Best Dist:  0.10060415204981991\n",
      "Average Dist:  0.3558573078227775\n",
      "Best Adj Error:  8.0\n",
      "Average Adj Dist Error:  10.72\n"
     ]
    },
    {
     "name": "stderr",
     "output_type": "stream",
     "text": [
      "  7%|▋         | 7/100 [00:17<03:54,  2.53s/it]"
     ]
    },
    {
     "name": "stdout",
     "output_type": "stream",
     "text": [
      "extreme\n",
      "Best Dist:  0.10060415204981991\n",
      "Average Dist:  0.3423426415770837\n",
      "Best Adj Error:  8.0\n",
      "Average Adj Dist Error:  10.11\n"
     ]
    },
    {
     "name": "stderr",
     "output_type": "stream",
     "text": [
      "  8%|▊         | 8/100 [00:20<03:49,  2.49s/it]"
     ]
    },
    {
     "name": "stdout",
     "output_type": "stream",
     "text": [
      "extreme\n",
      "Best Dist:  0.10060415204981991\n",
      "Average Dist:  0.31993914685520847\n",
      "Best Adj Error:  8.0\n",
      "Average Adj Dist Error:  9.43\n"
     ]
    },
    {
     "name": "stderr",
     "output_type": "stream",
     "text": [
      "  9%|▉         | 9/100 [00:22<03:44,  2.46s/it]"
     ]
    },
    {
     "name": "stdout",
     "output_type": "stream",
     "text": [
      "extreme\n",
      "Best Dist:  0.10060415204981991\n",
      "Average Dist:  0.30642277609353435\n",
      "Best Adj Error:  8.0\n",
      "Average Adj Dist Error:  9.31\n"
     ]
    },
    {
     "name": "stderr",
     "output_type": "stream",
     "text": [
      " 10%|█         | 10/100 [00:25<03:40,  2.45s/it]"
     ]
    },
    {
     "name": "stdout",
     "output_type": "stream",
     "text": [
      "extreme\n",
      "Best Dist:  0.10060415204981991\n",
      "Average Dist:  0.3030854448883521\n",
      "Best Adj Error:  8.0\n",
      "Average Adj Dist Error:  9.5\n"
     ]
    },
    {
     "name": "stderr",
     "output_type": "stream",
     "text": [
      " 11%|█         | 11/100 [00:27<03:34,  2.41s/it]"
     ]
    },
    {
     "name": "stdout",
     "output_type": "stream",
     "text": [
      "extreme\n",
      "Best Dist:  0.10060415204981991\n",
      "Average Dist:  0.2731542148176884\n",
      "Best Adj Error:  8.0\n",
      "Average Adj Dist Error:  8.59\n"
     ]
    },
    {
     "name": "stderr",
     "output_type": "stream",
     "text": [
      " 12%|█▏        | 12/100 [00:29<03:29,  2.38s/it]"
     ]
    },
    {
     "name": "stdout",
     "output_type": "stream",
     "text": [
      "extreme\n",
      "Best Dist:  0.10060415204981991\n",
      "Average Dist:  0.30107454730623934\n",
      "Best Adj Error:  8.0\n",
      "Average Adj Dist Error:  9.74\n"
     ]
    },
    {
     "name": "stderr",
     "output_type": "stream",
     "text": [
      " 13%|█▎        | 13/100 [00:32<03:29,  2.40s/it]"
     ]
    },
    {
     "name": "stdout",
     "output_type": "stream",
     "text": [
      "extreme\n",
      "Best Dist:  0.10060415204981991\n",
      "Average Dist:  0.30296330217844564\n",
      "Best Adj Error:  8.0\n",
      "Average Adj Dist Error:  9.99\n"
     ]
    },
    {
     "name": "stderr",
     "output_type": "stream",
     "text": [
      " 14%|█▍        | 14/100 [00:34<03:28,  2.43s/it]"
     ]
    },
    {
     "name": "stdout",
     "output_type": "stream",
     "text": [
      "extreme\n"
     ]
    },
    {
     "name": "stderr",
     "output_type": "stream",
     "text": [
      " 14%|█▍        | 14/100 [00:35<03:38,  2.54s/it]"
     ]
    },
    {
     "name": "stdout",
     "output_type": "stream",
     "text": [
      "Best Dist:  0.0\n",
      "Average Dist:  0.2325230639400009\n",
      "Best Adj Error:  0.0\n",
      "Average Adj Dist Error:  8.68\n",
      "fit individual found\n"
     ]
    },
    {
     "name": "stderr",
     "output_type": "stream",
     "text": [
      "\n",
      "  0%|          | 0/100 [00:01<?, ?it/s]"
     ]
    },
    {
     "name": "stdout",
     "output_type": "stream",
     "text": [
      "Best Dist:  0.0\n",
      "Average Dist:  0.5759029608177032\n",
      "Best Adj Error:  8.0\n",
      "Average Adj Dist Error:  28.52\n",
      "fit individual found\n"
     ]
    },
    {
     "name": "stderr",
     "output_type": "stream",
     "text": [
      "\n",
      "  0%|          | 0/100 [00:00<?, ?it/s]"
     ]
    },
    {
     "name": "stdout",
     "output_type": "stream",
     "text": [
      "Best Dist:  0.20752715557082455\n",
      "Average Dist:  0.6551797607388562\n",
      "Best Adj Error:  36.0\n",
      "Average Adj Dist Error:  39.12\n"
     ]
    },
    {
     "name": "stderr",
     "output_type": "stream",
     "text": [
      "  1%|          | 1/100 [00:02<04:15,  2.58s/it]"
     ]
    },
    {
     "name": "stdout",
     "output_type": "stream",
     "text": [
      "Best Dist:  0.19786817142052127\n",
      "Average Dist:  0.5367232473524133\n",
      "Best Adj Error:  42.0\n",
      "Average Adj Dist Error:  36.13\n"
     ]
    },
    {
     "name": "stderr",
     "output_type": "stream",
     "text": [
      "  2%|▏         | 2/100 [00:04<03:55,  2.40s/it]"
     ]
    },
    {
     "name": "stdout",
     "output_type": "stream",
     "text": [
      "Best Dist:  0.19786817142052127\n",
      "Average Dist:  0.5087768175504417\n",
      "Best Adj Error:  42.0\n",
      "Average Adj Dist Error:  34.82\n"
     ]
    },
    {
     "name": "stderr",
     "output_type": "stream",
     "text": [
      "  3%|▎         | 3/100 [00:07<03:43,  2.30s/it]"
     ]
    },
    {
     "name": "stdout",
     "output_type": "stream",
     "text": [
      "Best Dist:  0.1907044717633037\n",
      "Average Dist:  0.48032158896285\n",
      "Best Adj Error:  38.0\n",
      "Average Adj Dist Error:  35.12\n"
     ]
    },
    {
     "name": "stderr",
     "output_type": "stream",
     "text": [
      "  4%|▍         | 4/100 [00:09<03:38,  2.27s/it]"
     ]
    },
    {
     "name": "stdout",
     "output_type": "stream",
     "text": [
      "Best Dist:  0.1907044717633037\n",
      "Average Dist:  0.42136405124191084\n",
      "Best Adj Error:  38.0\n",
      "Average Adj Dist Error:  35.51\n"
     ]
    },
    {
     "name": "stderr",
     "output_type": "stream",
     "text": [
      "  5%|▌         | 5/100 [00:11<03:38,  2.30s/it]"
     ]
    },
    {
     "name": "stdout",
     "output_type": "stream",
     "text": [
      "Best Dist:  0.18473913307367487\n",
      "Average Dist:  0.30355991570412066\n",
      "Best Adj Error:  38.0\n",
      "Average Adj Dist Error:  35.71\n"
     ]
    },
    {
     "name": "stderr",
     "output_type": "stream",
     "text": [
      "  6%|▌         | 6/100 [00:14<03:39,  2.33s/it]"
     ]
    },
    {
     "name": "stdout",
     "output_type": "stream",
     "text": [
      "Best Dist:  0.1585884905301053\n",
      "Average Dist:  0.22282139180342447\n",
      "Best Adj Error:  32.0\n",
      "Average Adj Dist Error:  36.2\n"
     ]
    },
    {
     "name": "stderr",
     "output_type": "stream",
     "text": [
      "  7%|▋         | 7/100 [00:16<03:31,  2.27s/it]"
     ]
    },
    {
     "name": "stdout",
     "output_type": "stream",
     "text": [
      "extreme\n",
      "Best Dist:  0.08992274715472466\n",
      "Average Dist:  0.20715670881115877\n",
      "Best Adj Error:  26.0\n",
      "Average Adj Dist Error:  35.99\n"
     ]
    },
    {
     "name": "stderr",
     "output_type": "stream",
     "text": [
      "  8%|▊         | 8/100 [00:18<03:29,  2.27s/it]"
     ]
    },
    {
     "name": "stdout",
     "output_type": "stream",
     "text": [
      "extreme\n",
      "Best Dist:  0.08992274715472466\n",
      "Average Dist:  0.21364792603060048\n",
      "Best Adj Error:  26.0\n",
      "Average Adj Dist Error:  36.21\n"
     ]
    },
    {
     "name": "stderr",
     "output_type": "stream",
     "text": [
      "  9%|▉         | 9/100 [00:20<03:26,  2.27s/it]"
     ]
    },
    {
     "name": "stdout",
     "output_type": "stream",
     "text": [
      "extreme\n",
      "Best Dist:  0.07649403961139832\n",
      "Average Dist:  0.23086080917181726\n",
      "Best Adj Error:  28.0\n",
      "Average Adj Dist Error:  36.73\n"
     ]
    },
    {
     "name": "stderr",
     "output_type": "stream",
     "text": [
      " 10%|█         | 10/100 [00:23<03:31,  2.35s/it]"
     ]
    },
    {
     "name": "stdout",
     "output_type": "stream",
     "text": [
      "extreme\n",
      "Best Dist:  0.07649403961139832\n",
      "Average Dist:  0.191242447820885\n",
      "Best Adj Error:  28.0\n",
      "Average Adj Dist Error:  36.2\n"
     ]
    },
    {
     "name": "stderr",
     "output_type": "stream",
     "text": [
      " 11%|█         | 11/100 [00:25<03:26,  2.32s/it]"
     ]
    },
    {
     "name": "stdout",
     "output_type": "stream",
     "text": [
      "extreme\n",
      "Best Dist:  0.07649403961139832\n",
      "Average Dist:  0.18962560108080062\n",
      "Best Adj Error:  28.0\n",
      "Average Adj Dist Error:  35.99\n"
     ]
    },
    {
     "name": "stderr",
     "output_type": "stream",
     "text": [
      " 12%|█▏        | 12/100 [00:27<03:20,  2.28s/it]"
     ]
    },
    {
     "name": "stdout",
     "output_type": "stream",
     "text": [
      "extreme\n",
      "Best Dist:  0.07649403961139832\n",
      "Average Dist:  0.16319082316050107\n",
      "Best Adj Error:  28.0\n",
      "Average Adj Dist Error:  33.85\n"
     ]
    },
    {
     "name": "stderr",
     "output_type": "stream",
     "text": [
      " 13%|█▎        | 13/100 [00:29<03:18,  2.28s/it]"
     ]
    },
    {
     "name": "stdout",
     "output_type": "stream",
     "text": [
      "extreme\n",
      "Best Dist:  0.06692248179590757\n",
      "Average Dist:  0.17309564387633258\n",
      "Best Adj Error:  22.0\n",
      "Average Adj Dist Error:  32.32\n"
     ]
    },
    {
     "name": "stderr",
     "output_type": "stream",
     "text": [
      " 14%|█▍        | 14/100 [00:32<03:14,  2.26s/it]"
     ]
    },
    {
     "name": "stdout",
     "output_type": "stream",
     "text": [
      "extreme\n",
      "Best Dist:  0.06692248179590757\n",
      "Average Dist:  0.14085100256295255\n",
      "Best Adj Error:  22.0\n",
      "Average Adj Dist Error:  31.2\n"
     ]
    },
    {
     "name": "stderr",
     "output_type": "stream",
     "text": [
      " 15%|█▌        | 15/100 [00:34<03:14,  2.29s/it]"
     ]
    },
    {
     "name": "stdout",
     "output_type": "stream",
     "text": [
      "extreme\n",
      "Best Dist:  0.06692248179590757\n",
      "Average Dist:  0.106664858775945\n",
      "Best Adj Error:  22.0\n",
      "Average Adj Dist Error:  29.57\n"
     ]
    },
    {
     "name": "stderr",
     "output_type": "stream",
     "text": [
      " 16%|█▌        | 16/100 [00:36<03:10,  2.27s/it]"
     ]
    },
    {
     "name": "stdout",
     "output_type": "stream",
     "text": [
      "extreme\n",
      "Best Dist:  0.06692248179590757\n",
      "Average Dist:  0.10570440417471094\n",
      "Best Adj Error:  22.0\n",
      "Average Adj Dist Error:  27.36\n"
     ]
    },
    {
     "name": "stderr",
     "output_type": "stream",
     "text": [
      " 17%|█▋        | 17/100 [00:38<03:07,  2.26s/it]"
     ]
    },
    {
     "name": "stdout",
     "output_type": "stream",
     "text": [
      "extreme\n",
      "Best Dist:  0.06503397736298959\n",
      "Average Dist:  0.07748673417855897\n",
      "Best Adj Error:  22.0\n",
      "Average Adj Dist Error:  27.51\n"
     ]
    },
    {
     "name": "stderr",
     "output_type": "stream",
     "text": [
      " 18%|█▊        | 18/100 [00:41<03:06,  2.27s/it]"
     ]
    },
    {
     "name": "stdout",
     "output_type": "stream",
     "text": [
      "extreme\n",
      "Best Dist:  0.05866032439175121\n",
      "Average Dist:  0.09521355139458254\n",
      "Best Adj Error:  32.0\n",
      "Average Adj Dist Error:  27.53\n"
     ]
    },
    {
     "name": "stderr",
     "output_type": "stream",
     "text": [
      " 19%|█▉        | 19/100 [00:43<03:04,  2.28s/it]"
     ]
    },
    {
     "name": "stdout",
     "output_type": "stream",
     "text": [
      "extreme\n",
      "Best Dist:  0.05593755090215918\n",
      "Average Dist:  0.0976573713519213\n",
      "Best Adj Error:  22.0\n",
      "Average Adj Dist Error:  27.34\n"
     ]
    },
    {
     "name": "stderr",
     "output_type": "stream",
     "text": [
      " 20%|██        | 20/100 [00:45<03:02,  2.28s/it]"
     ]
    },
    {
     "name": "stdout",
     "output_type": "stream",
     "text": [
      "extreme\n",
      "Best Dist:  0.05593755090215918\n",
      "Average Dist:  0.07325794033508762\n",
      "Best Adj Error:  22.0\n",
      "Average Adj Dist Error:  26.66\n"
     ]
    },
    {
     "name": "stderr",
     "output_type": "stream",
     "text": [
      " 21%|██        | 21/100 [00:48<03:01,  2.30s/it]"
     ]
    },
    {
     "name": "stdout",
     "output_type": "stream",
     "text": [
      "extreme\n",
      "Best Dist:  0.05593755090215918\n",
      "Average Dist:  0.07092969651485807\n",
      "Best Adj Error:  22.0\n",
      "Average Adj Dist Error:  25.3\n"
     ]
    },
    {
     "name": "stderr",
     "output_type": "stream",
     "text": [
      " 22%|██▏       | 22/100 [00:50<02:56,  2.27s/it]"
     ]
    },
    {
     "name": "stdout",
     "output_type": "stream",
     "text": [
      "extreme\n",
      "Best Dist:  0.05593755090215918\n",
      "Average Dist:  0.1231547382357912\n",
      "Best Adj Error:  22.0\n",
      "Average Adj Dist Error:  24.56\n"
     ]
    },
    {
     "name": "stderr",
     "output_type": "stream",
     "text": [
      " 23%|██▎       | 23/100 [00:52<02:56,  2.29s/it]"
     ]
    },
    {
     "name": "stdout",
     "output_type": "stream",
     "text": [
      "extreme\n",
      "Best Dist:  0.05593755090215918\n",
      "Average Dist:  0.09911243762443508\n",
      "Best Adj Error:  22.0\n",
      "Average Adj Dist Error:  24.68\n"
     ]
    },
    {
     "name": "stderr",
     "output_type": "stream",
     "text": [
      " 24%|██▍       | 24/100 [00:55<02:53,  2.29s/it]"
     ]
    },
    {
     "name": "stdout",
     "output_type": "stream",
     "text": [
      "extreme\n",
      "Best Dist:  0.051865583216894766\n",
      "Average Dist:  0.0846209213187255\n",
      "Best Adj Error:  22.0\n",
      "Average Adj Dist Error:  25.6\n"
     ]
    },
    {
     "name": "stderr",
     "output_type": "stream",
     "text": [
      " 25%|██▌       | 25/100 [00:57<02:52,  2.30s/it]"
     ]
    },
    {
     "name": "stdout",
     "output_type": "stream",
     "text": [
      "extreme\n",
      "Best Dist:  0.051865583216894766\n",
      "Average Dist:  0.13046097639453536\n",
      "Best Adj Error:  22.0\n",
      "Average Adj Dist Error:  26.02\n"
     ]
    },
    {
     "name": "stderr",
     "output_type": "stream",
     "text": [
      " 26%|██▌       | 26/100 [00:59<02:48,  2.27s/it]"
     ]
    },
    {
     "name": "stdout",
     "output_type": "stream",
     "text": [
      "extreme\n",
      "Best Dist:  0.051865583216894766\n",
      "Average Dist:  0.061251289996730345\n",
      "Best Adj Error:  22.0\n",
      "Average Adj Dist Error:  25.12\n"
     ]
    },
    {
     "name": "stderr",
     "output_type": "stream",
     "text": [
      " 27%|██▋       | 27/100 [01:01<02:45,  2.26s/it]"
     ]
    },
    {
     "name": "stdout",
     "output_type": "stream",
     "text": [
      "extreme\n",
      "Best Dist:  0.043353372932621835\n",
      "Average Dist:  0.07194531156502404\n",
      "Best Adj Error:  24.0\n",
      "Average Adj Dist Error:  25.03\n"
     ]
    },
    {
     "name": "stderr",
     "output_type": "stream",
     "text": [
      " 28%|██▊       | 28/100 [01:04<02:44,  2.28s/it]"
     ]
    },
    {
     "name": "stdout",
     "output_type": "stream",
     "text": [
      "extreme\n",
      "Best Dist:  0.043353372932621835\n",
      "Average Dist:  0.0667317118212741\n",
      "Best Adj Error:  24.0\n",
      "Average Adj Dist Error:  23.17\n"
     ]
    },
    {
     "name": "stderr",
     "output_type": "stream",
     "text": [
      " 29%|██▉       | 29/100 [01:06<02:42,  2.28s/it]"
     ]
    },
    {
     "name": "stdout",
     "output_type": "stream",
     "text": [
      "extreme\n",
      "Best Dist:  0.043353372932621835\n",
      "Average Dist:  0.14002695935104764\n",
      "Best Adj Error:  24.0\n",
      "Average Adj Dist Error:  22.68\n"
     ]
    },
    {
     "name": "stderr",
     "output_type": "stream",
     "text": [
      " 30%|███       | 30/100 [01:08<02:39,  2.28s/it]"
     ]
    },
    {
     "name": "stdout",
     "output_type": "stream",
     "text": [
      "extreme\n",
      "Best Dist:  0.043353372932621835\n",
      "Average Dist:  0.07119017505325394\n",
      "Best Adj Error:  24.0\n",
      "Average Adj Dist Error:  21.78\n"
     ]
    },
    {
     "name": "stderr",
     "output_type": "stream",
     "text": [
      " 31%|███       | 31/100 [01:10<02:37,  2.28s/it]"
     ]
    },
    {
     "name": "stdout",
     "output_type": "stream",
     "text": [
      "extreme\n",
      "Best Dist:  0.043353372932621835\n",
      "Average Dist:  0.09918435280390411\n",
      "Best Adj Error:  24.0\n",
      "Average Adj Dist Error:  21.68\n"
     ]
    },
    {
     "name": "stderr",
     "output_type": "stream",
     "text": [
      " 32%|███▏      | 32/100 [01:13<02:33,  2.26s/it]"
     ]
    },
    {
     "name": "stdout",
     "output_type": "stream",
     "text": [
      "extreme\n",
      "Best Dist:  0.043353372932621835\n",
      "Average Dist:  0.06089013032984651\n",
      "Best Adj Error:  24.0\n",
      "Average Adj Dist Error:  20.66\n"
     ]
    },
    {
     "name": "stderr",
     "output_type": "stream",
     "text": [
      " 33%|███▎      | 33/100 [01:15<02:30,  2.25s/it]"
     ]
    },
    {
     "name": "stdout",
     "output_type": "stream",
     "text": [
      "extreme\n",
      "Best Dist:  0.043353372932621835\n",
      "Average Dist:  0.09765027094990777\n",
      "Best Adj Error:  24.0\n",
      "Average Adj Dist Error:  21.0\n"
     ]
    },
    {
     "name": "stderr",
     "output_type": "stream",
     "text": [
      " 34%|███▍      | 34/100 [01:17<02:27,  2.24s/it]"
     ]
    },
    {
     "name": "stdout",
     "output_type": "stream",
     "text": [
      "extreme\n",
      "Best Dist:  0.043353372932621835\n",
      "Average Dist:  0.05393088582283664\n",
      "Best Adj Error:  24.0\n",
      "Average Adj Dist Error:  21.33\n"
     ]
    },
    {
     "name": "stderr",
     "output_type": "stream",
     "text": [
      " 35%|███▌      | 35/100 [01:19<02:25,  2.23s/it]"
     ]
    },
    {
     "name": "stdout",
     "output_type": "stream",
     "text": [
      "extreme\n",
      "Best Dist:  0.043353372932621835\n",
      "Average Dist:  0.12022079909474993\n",
      "Best Adj Error:  24.0\n",
      "Average Adj Dist Error:  20.77\n"
     ]
    },
    {
     "name": "stderr",
     "output_type": "stream",
     "text": [
      " 36%|███▌      | 36/100 [01:22<02:25,  2.28s/it]"
     ]
    },
    {
     "name": "stdout",
     "output_type": "stream",
     "text": [
      "extreme\n",
      "Best Dist:  0.04018401410381454\n",
      "Average Dist:  0.1717234739544549\n",
      "Best Adj Error:  16.0\n",
      "Average Adj Dist Error:  20.65\n"
     ]
    },
    {
     "name": "stderr",
     "output_type": "stream",
     "text": [
      " 37%|███▋      | 37/100 [01:24<02:22,  2.26s/it]"
     ]
    },
    {
     "name": "stdout",
     "output_type": "stream",
     "text": [
      "extreme\n",
      "Best Dist:  0.04018401410381454\n",
      "Average Dist:  0.1162523839592512\n",
      "Best Adj Error:  16.0\n",
      "Average Adj Dist Error:  20.3\n"
     ]
    },
    {
     "name": "stderr",
     "output_type": "stream",
     "text": [
      " 38%|███▊      | 38/100 [01:26<02:20,  2.26s/it]"
     ]
    },
    {
     "name": "stdout",
     "output_type": "stream",
     "text": [
      "extreme\n",
      "Best Dist:  0.04018401410381454\n",
      "Average Dist:  0.06875854545775122\n",
      "Best Adj Error:  16.0\n",
      "Average Adj Dist Error:  20.48\n"
     ]
    },
    {
     "name": "stderr",
     "output_type": "stream",
     "text": [
      " 39%|███▉      | 39/100 [01:28<02:17,  2.26s/it]"
     ]
    },
    {
     "name": "stdout",
     "output_type": "stream",
     "text": [
      "extreme\n",
      "Best Dist:  0.04018401410381454\n",
      "Average Dist:  0.05894749089391601\n",
      "Best Adj Error:  16.0\n",
      "Average Adj Dist Error:  20.33\n"
     ]
    },
    {
     "name": "stderr",
     "output_type": "stream",
     "text": [
      " 40%|████      | 40/100 [01:31<02:15,  2.26s/it]"
     ]
    },
    {
     "name": "stdout",
     "output_type": "stream",
     "text": [
      "extreme\n",
      "Best Dist:  0.039728367032703896\n",
      "Average Dist:  0.1008662639899102\n",
      "Best Adj Error:  26.0\n",
      "Average Adj Dist Error:  22.14\n"
     ]
    },
    {
     "name": "stderr",
     "output_type": "stream",
     "text": [
      " 41%|████      | 41/100 [01:33<02:14,  2.28s/it]"
     ]
    },
    {
     "name": "stdout",
     "output_type": "stream",
     "text": [
      "extreme\n",
      "Best Dist:  0.039728367032703896\n",
      "Average Dist:  0.0721168432252989\n",
      "Best Adj Error:  26.0\n",
      "Average Adj Dist Error:  21.33\n"
     ]
    },
    {
     "name": "stderr",
     "output_type": "stream",
     "text": [
      " 42%|████▏     | 42/100 [01:35<02:11,  2.27s/it]"
     ]
    },
    {
     "name": "stdout",
     "output_type": "stream",
     "text": [
      "extreme\n",
      "Best Dist:  0.039728367032703896\n",
      "Average Dist:  0.06904125180056041\n",
      "Best Adj Error:  26.0\n",
      "Average Adj Dist Error:  19.23\n"
     ]
    },
    {
     "name": "stderr",
     "output_type": "stream",
     "text": [
      " 43%|████▎     | 43/100 [01:38<02:10,  2.29s/it]"
     ]
    },
    {
     "name": "stdout",
     "output_type": "stream",
     "text": [
      "extreme\n",
      "Best Dist:  0.038507487527865224\n",
      "Average Dist:  0.0829812520145918\n",
      "Best Adj Error:  10.0\n",
      "Average Adj Dist Error:  17.77\n"
     ]
    },
    {
     "name": "stderr",
     "output_type": "stream",
     "text": [
      " 44%|████▍     | 44/100 [01:40<02:07,  2.28s/it]"
     ]
    },
    {
     "name": "stdout",
     "output_type": "stream",
     "text": [
      "extreme\n",
      "Best Dist:  0.038507487527865224\n",
      "Average Dist:  0.06349447977210182\n",
      "Best Adj Error:  10.0\n",
      "Average Adj Dist Error:  17.6\n"
     ]
    },
    {
     "name": "stderr",
     "output_type": "stream",
     "text": [
      " 45%|████▌     | 45/100 [01:42<02:04,  2.27s/it]"
     ]
    },
    {
     "name": "stdout",
     "output_type": "stream",
     "text": [
      "extreme\n",
      "Best Dist:  0.038356327085445494\n",
      "Average Dist:  0.10185982013684963\n",
      "Best Adj Error:  10.0\n",
      "Average Adj Dist Error:  16.92\n"
     ]
    },
    {
     "name": "stderr",
     "output_type": "stream",
     "text": [
      " 46%|████▌     | 46/100 [01:44<02:02,  2.27s/it]"
     ]
    },
    {
     "name": "stdout",
     "output_type": "stream",
     "text": [
      "extreme\n",
      "Best Dist:  0.03805127768130699\n",
      "Average Dist:  0.04991379664372224\n",
      "Best Adj Error:  10.0\n",
      "Average Adj Dist Error:  16.32\n"
     ]
    },
    {
     "name": "stderr",
     "output_type": "stream",
     "text": [
      " 47%|████▋     | 47/100 [01:47<01:59,  2.26s/it]"
     ]
    },
    {
     "name": "stdout",
     "output_type": "stream",
     "text": [
      "extreme\n",
      "Best Dist:  0.03805127768130699\n",
      "Average Dist:  0.04297234592785511\n",
      "Best Adj Error:  10.0\n",
      "Average Adj Dist Error:  16.15\n"
     ]
    },
    {
     "name": "stderr",
     "output_type": "stream",
     "text": [
      " 48%|████▊     | 48/100 [01:49<01:58,  2.27s/it]"
     ]
    },
    {
     "name": "stdout",
     "output_type": "stream",
     "text": [
      "extreme\n",
      "Best Dist:  0.03805127768130699\n",
      "Average Dist:  0.12362205797876193\n",
      "Best Adj Error:  10.0\n",
      "Average Adj Dist Error:  16.02\n"
     ]
    },
    {
     "name": "stderr",
     "output_type": "stream",
     "text": [
      " 49%|████▉     | 49/100 [01:51<01:55,  2.27s/it]"
     ]
    },
    {
     "name": "stdout",
     "output_type": "stream",
     "text": [
      "extreme\n",
      "Best Dist:  0.03805127768130699\n",
      "Average Dist:  0.05910016667229668\n",
      "Best Adj Error:  10.0\n",
      "Average Adj Dist Error:  14.78\n"
     ]
    },
    {
     "name": "stderr",
     "output_type": "stream",
     "text": [
      " 50%|█████     | 50/100 [01:53<01:53,  2.28s/it]"
     ]
    },
    {
     "name": "stdout",
     "output_type": "stream",
     "text": [
      "extreme\n",
      "Best Dist:  0.03805127768130699\n",
      "Average Dist:  0.05150887077716572\n",
      "Best Adj Error:  10.0\n",
      "Average Adj Dist Error:  13.89\n"
     ]
    },
    {
     "name": "stderr",
     "output_type": "stream",
     "text": [
      " 51%|█████     | 51/100 [01:56<01:51,  2.28s/it]"
     ]
    },
    {
     "name": "stdout",
     "output_type": "stream",
     "text": [
      "extreme\n",
      "Best Dist:  0.021921946471493453\n",
      "Average Dist:  0.07992892975985347\n",
      "Best Adj Error:  10.0\n",
      "Average Adj Dist Error:  12.72\n"
     ]
    },
    {
     "name": "stderr",
     "output_type": "stream",
     "text": [
      " 52%|█████▏    | 52/100 [01:58<01:48,  2.27s/it]"
     ]
    },
    {
     "name": "stdout",
     "output_type": "stream",
     "text": [
      "extreme\n",
      "Best Dist:  0.021921946471493453\n",
      "Average Dist:  0.04099937053503183\n",
      "Best Adj Error:  10.0\n",
      "Average Adj Dist Error:  11.92\n"
     ]
    },
    {
     "name": "stderr",
     "output_type": "stream",
     "text": [
      " 53%|█████▎    | 53/100 [02:00<01:46,  2.26s/it]"
     ]
    },
    {
     "name": "stdout",
     "output_type": "stream",
     "text": [
      "extreme\n",
      "Best Dist:  0.021921946471493453\n",
      "Average Dist:  0.06727285899865626\n",
      "Best Adj Error:  10.0\n",
      "Average Adj Dist Error:  11.7\n"
     ]
    },
    {
     "name": "stderr",
     "output_type": "stream",
     "text": [
      " 54%|█████▍    | 54/100 [02:03<01:44,  2.26s/it]"
     ]
    },
    {
     "name": "stdout",
     "output_type": "stream",
     "text": [
      "extreme\n",
      "Best Dist:  0.021921946471493453\n",
      "Average Dist:  0.08418715250435241\n",
      "Best Adj Error:  10.0\n",
      "Average Adj Dist Error:  11.42\n"
     ]
    },
    {
     "name": "stderr",
     "output_type": "stream",
     "text": [
      " 55%|█████▌    | 55/100 [02:05<01:42,  2.28s/it]"
     ]
    },
    {
     "name": "stdout",
     "output_type": "stream",
     "text": [
      "extreme\n",
      "Best Dist:  0.017731253861471535\n",
      "Average Dist:  0.042527174026292656\n",
      "Best Adj Error:  8.0\n",
      "Average Adj Dist Error:  10.2\n"
     ]
    },
    {
     "name": "stderr",
     "output_type": "stream",
     "text": [
      " 56%|█████▌    | 56/100 [02:07<01:40,  2.28s/it]"
     ]
    },
    {
     "name": "stdout",
     "output_type": "stream",
     "text": [
      "extreme\n",
      "Best Dist:  0.017731253861471535\n",
      "Average Dist:  0.03559104396833539\n",
      "Best Adj Error:  8.0\n",
      "Average Adj Dist Error:  9.74\n"
     ]
    },
    {
     "name": "stderr",
     "output_type": "stream",
     "text": [
      " 57%|█████▋    | 57/100 [02:09<01:37,  2.27s/it]"
     ]
    },
    {
     "name": "stdout",
     "output_type": "stream",
     "text": [
      "extreme\n",
      "Best Dist:  0.017731253861471535\n",
      "Average Dist:  0.05365854426444051\n",
      "Best Adj Error:  8.0\n",
      "Average Adj Dist Error:  9.78\n"
     ]
    },
    {
     "name": "stderr",
     "output_type": "stream",
     "text": [
      " 58%|█████▊    | 58/100 [02:12<01:35,  2.27s/it]"
     ]
    },
    {
     "name": "stdout",
     "output_type": "stream",
     "text": [
      "extreme\n",
      "Best Dist:  0.017691276105339732\n",
      "Average Dist:  0.031676108262778925\n",
      "Best Adj Error:  6.0\n",
      "Average Adj Dist Error:  9.37\n"
     ]
    },
    {
     "name": "stderr",
     "output_type": "stream",
     "text": [
      " 59%|█████▉    | 59/100 [02:14<01:32,  2.25s/it]"
     ]
    },
    {
     "name": "stdout",
     "output_type": "stream",
     "text": [
      "extreme\n",
      "Best Dist:  0.017691276105339732\n",
      "Average Dist:  0.13102500679710716\n",
      "Best Adj Error:  6.0\n",
      "Average Adj Dist Error:  10.32\n"
     ]
    },
    {
     "name": "stderr",
     "output_type": "stream",
     "text": [
      " 60%|██████    | 60/100 [02:16<01:30,  2.27s/it]"
     ]
    },
    {
     "name": "stdout",
     "output_type": "stream",
     "text": [
      "extreme\n",
      "Best Dist:  0.017691276105339732\n",
      "Average Dist:  0.08023253943691952\n",
      "Best Adj Error:  6.0\n",
      "Average Adj Dist Error:  9.84\n"
     ]
    },
    {
     "name": "stderr",
     "output_type": "stream",
     "text": [
      " 61%|██████    | 61/100 [02:18<01:28,  2.26s/it]"
     ]
    },
    {
     "name": "stdout",
     "output_type": "stream",
     "text": [
      "extreme\n",
      "Best Dist:  0.017691276105339732\n",
      "Average Dist:  0.03264562293596934\n",
      "Best Adj Error:  6.0\n",
      "Average Adj Dist Error:  9.2\n"
     ]
    },
    {
     "name": "stderr",
     "output_type": "stream",
     "text": [
      " 62%|██████▏   | 62/100 [02:21<01:24,  2.24s/it]"
     ]
    },
    {
     "name": "stdout",
     "output_type": "stream",
     "text": [
      "extreme\n",
      "Best Dist:  0.017691276105339732\n",
      "Average Dist:  0.058601154157552966\n",
      "Best Adj Error:  6.0\n",
      "Average Adj Dist Error:  8.68\n"
     ]
    },
    {
     "name": "stderr",
     "output_type": "stream",
     "text": [
      " 63%|██████▎   | 63/100 [02:23<01:24,  2.28s/it]"
     ]
    },
    {
     "name": "stdout",
     "output_type": "stream",
     "text": [
      "extreme\n",
      "Best Dist:  0.017691276105339732\n",
      "Average Dist:  0.029256882144874107\n",
      "Best Adj Error:  6.0\n",
      "Average Adj Dist Error:  7.93\n"
     ]
    },
    {
     "name": "stderr",
     "output_type": "stream",
     "text": [
      " 64%|██████▍   | 64/100 [02:25<01:22,  2.28s/it]"
     ]
    },
    {
     "name": "stdout",
     "output_type": "stream",
     "text": [
      "extreme\n",
      "Best Dist:  0.017691276105339732\n",
      "Average Dist:  0.2314517590250689\n",
      "Best Adj Error:  6.0\n",
      "Average Adj Dist Error:  10.5\n"
     ]
    },
    {
     "name": "stderr",
     "output_type": "stream",
     "text": [
      " 65%|██████▌   | 65/100 [02:28<01:19,  2.28s/it]"
     ]
    },
    {
     "name": "stdout",
     "output_type": "stream",
     "text": [
      "extreme\n",
      "Best Dist:  0.007848132067064004\n",
      "Average Dist:  0.045116162868479324\n",
      "Best Adj Error:  4.0\n",
      "Average Adj Dist Error:  8.35\n"
     ]
    },
    {
     "name": "stderr",
     "output_type": "stream",
     "text": [
      " 66%|██████▌   | 66/100 [02:30<01:18,  2.31s/it]"
     ]
    },
    {
     "name": "stdout",
     "output_type": "stream",
     "text": [
      "extreme\n",
      "Best Dist:  0.007848132067064004\n",
      "Average Dist:  0.04981173915191342\n",
      "Best Adj Error:  4.0\n",
      "Average Adj Dist Error:  7.37\n"
     ]
    },
    {
     "name": "stderr",
     "output_type": "stream",
     "text": [
      " 67%|██████▋   | 67/100 [02:32<01:15,  2.30s/it]"
     ]
    },
    {
     "name": "stdout",
     "output_type": "stream",
     "text": [
      "extreme\n",
      "Best Dist:  0.007848132067064004\n",
      "Average Dist:  0.12091566321473447\n",
      "Best Adj Error:  4.0\n",
      "Average Adj Dist Error:  7.49\n"
     ]
    },
    {
     "name": "stderr",
     "output_type": "stream",
     "text": [
      " 68%|██████▊   | 68/100 [02:34<01:12,  2.28s/it]"
     ]
    },
    {
     "name": "stdout",
     "output_type": "stream",
     "text": [
      "extreme\n",
      "Best Dist:  0.007848132067064004\n",
      "Average Dist:  0.03869642716658952\n",
      "Best Adj Error:  4.0\n",
      "Average Adj Dist Error:  6.26\n"
     ]
    },
    {
     "name": "stderr",
     "output_type": "stream",
     "text": [
      " 69%|██████▉   | 69/100 [02:37<01:11,  2.30s/it]"
     ]
    },
    {
     "name": "stdout",
     "output_type": "stream",
     "text": [
      "extreme\n",
      "Best Dist:  0.007848132067064004\n",
      "Average Dist:  0.05588411061548202\n",
      "Best Adj Error:  4.0\n",
      "Average Adj Dist Error:  6.45\n"
     ]
    },
    {
     "name": "stderr",
     "output_type": "stream",
     "text": [
      " 70%|███████   | 70/100 [02:39<01:08,  2.27s/it]"
     ]
    },
    {
     "name": "stdout",
     "output_type": "stream",
     "text": [
      "extreme\n",
      "Best Dist:  0.007848132067064004\n",
      "Average Dist:  0.05924458803712887\n",
      "Best Adj Error:  4.0\n",
      "Average Adj Dist Error:  6.21\n"
     ]
    },
    {
     "name": "stderr",
     "output_type": "stream",
     "text": [
      " 71%|███████   | 71/100 [02:41<01:06,  2.28s/it]"
     ]
    },
    {
     "name": "stdout",
     "output_type": "stream",
     "text": [
      "extreme\n",
      "Best Dist:  0.007848132067064004\n",
      "Average Dist:  0.046103031667293834\n",
      "Best Adj Error:  4.0\n",
      "Average Adj Dist Error:  5.93\n"
     ]
    },
    {
     "name": "stderr",
     "output_type": "stream",
     "text": [
      " 72%|███████▏  | 72/100 [02:44<01:05,  2.33s/it]"
     ]
    },
    {
     "name": "stdout",
     "output_type": "stream",
     "text": [
      "extreme\n",
      "Best Dist:  0.007848132067064004\n",
      "Average Dist:  0.03362249516154441\n",
      "Best Adj Error:  4.0\n",
      "Average Adj Dist Error:  5.47\n"
     ]
    },
    {
     "name": "stderr",
     "output_type": "stream",
     "text": [
      " 73%|███████▎  | 73/100 [02:46<01:02,  2.32s/it]"
     ]
    },
    {
     "name": "stdout",
     "output_type": "stream",
     "text": [
      "extreme\n",
      "Best Dist:  0.007848132067064004\n",
      "Average Dist:  0.07638029306934133\n",
      "Best Adj Error:  4.0\n",
      "Average Adj Dist Error:  6.27\n"
     ]
    },
    {
     "name": "stderr",
     "output_type": "stream",
     "text": [
      " 74%|███████▍  | 74/100 [02:48<01:00,  2.33s/it]"
     ]
    },
    {
     "name": "stdout",
     "output_type": "stream",
     "text": [
      "extreme\n",
      "Best Dist:  0.007848132067064004\n",
      "Average Dist:  0.043829673847472314\n",
      "Best Adj Error:  4.0\n",
      "Average Adj Dist Error:  6.91\n"
     ]
    },
    {
     "name": "stderr",
     "output_type": "stream",
     "text": [
      " 75%|███████▌  | 75/100 [02:51<00:58,  2.36s/it]"
     ]
    },
    {
     "name": "stdout",
     "output_type": "stream",
     "text": [
      "extreme\n",
      "Best Dist:  0.007848132067064004\n",
      "Average Dist:  0.014672702615920621\n",
      "Best Adj Error:  4.0\n",
      "Average Adj Dist Error:  5.53\n"
     ]
    },
    {
     "name": "stderr",
     "output_type": "stream",
     "text": [
      " 76%|███████▌  | 76/100 [02:53<00:59,  2.47s/it]"
     ]
    },
    {
     "name": "stdout",
     "output_type": "stream",
     "text": [
      "extreme\n",
      "Best Dist:  0.007848132067064004\n",
      "Average Dist:  0.05626624491365285\n",
      "Best Adj Error:  4.0\n",
      "Average Adj Dist Error:  4.36\n"
     ]
    },
    {
     "name": "stderr",
     "output_type": "stream",
     "text": [
      " 77%|███████▋  | 77/100 [02:56<00:56,  2.44s/it]"
     ]
    },
    {
     "name": "stdout",
     "output_type": "stream",
     "text": [
      "extreme\n",
      "Best Dist:  0.007848132067064004\n",
      "Average Dist:  0.09640689882107877\n",
      "Best Adj Error:  4.0\n",
      "Average Adj Dist Error:  5.33\n"
     ]
    },
    {
     "name": "stderr",
     "output_type": "stream",
     "text": [
      " 78%|███████▊  | 78/100 [02:58<00:52,  2.38s/it]"
     ]
    },
    {
     "name": "stdout",
     "output_type": "stream",
     "text": [
      "extreme\n",
      "Best Dist:  0.007848132067064004\n",
      "Average Dist:  0.018507810250096974\n",
      "Best Adj Error:  4.0\n",
      "Average Adj Dist Error:  4.09\n"
     ]
    },
    {
     "name": "stderr",
     "output_type": "stream",
     "text": [
      " 79%|███████▉  | 79/100 [03:01<00:50,  2.42s/it]"
     ]
    },
    {
     "name": "stdout",
     "output_type": "stream",
     "text": [
      "extreme\n",
      "Best Dist:  0.007848132067064004\n",
      "Average Dist:  0.01892914665230722\n",
      "Best Adj Error:  4.0\n",
      "Average Adj Dist Error:  4.16\n"
     ]
    },
    {
     "name": "stderr",
     "output_type": "stream",
     "text": [
      " 80%|████████  | 80/100 [03:04<00:53,  2.67s/it]"
     ]
    },
    {
     "name": "stdout",
     "output_type": "stream",
     "text": [
      "extreme\n",
      "Best Dist:  0.007848132067064004\n",
      "Average Dist:  0.016773857372706046\n",
      "Best Adj Error:  4.0\n",
      "Average Adj Dist Error:  4.14\n",
      "extreme\n"
     ]
    },
    {
     "name": "stderr",
     "output_type": "stream",
     "text": [
      " 81%|████████  | 81/100 [03:08<00:58,  3.10s/it]"
     ]
    },
    {
     "name": "stdout",
     "output_type": "stream",
     "text": [
      "Best Dist:  0.007848132067064004\n",
      "Average Dist:  0.6004798524471263\n",
      "Best Adj Error:  4.0\n",
      "Average Adj Dist Error:  32.3\n",
      "extreme\n"
     ]
    },
    {
     "name": "stderr",
     "output_type": "stream",
     "text": [
      " 82%|████████▏ | 82/100 [03:12<01:01,  3.39s/it]"
     ]
    },
    {
     "name": "stdout",
     "output_type": "stream",
     "text": [
      "Best Dist:  0.007848132067064004\n",
      "Average Dist:  0.5975131813384144\n",
      "Best Adj Error:  4.0\n",
      "Average Adj Dist Error:  31.52\n",
      "extreme\n"
     ]
    },
    {
     "name": "stderr",
     "output_type": "stream",
     "text": [
      " 83%|████████▎ | 83/100 [03:16<00:59,  3.53s/it]"
     ]
    },
    {
     "name": "stdout",
     "output_type": "stream",
     "text": [
      "Best Dist:  0.007848132067064004\n",
      "Average Dist:  0.590011166931233\n",
      "Best Adj Error:  4.0\n",
      "Average Adj Dist Error:  31.99\n",
      "extreme\n"
     ]
    },
    {
     "name": "stderr",
     "output_type": "stream",
     "text": [
      " 84%|████████▍ | 84/100 [03:20<00:58,  3.63s/it]"
     ]
    },
    {
     "name": "stdout",
     "output_type": "stream",
     "text": [
      "new injection\n",
      "Best Dist:  0.007848132067064004\n",
      "Average Dist:  0.5990892768327367\n",
      "Best Adj Error:  4.0\n",
      "Average Adj Dist Error:  33.67\n",
      "extreme\n"
     ]
    },
    {
     "name": "stderr",
     "output_type": "stream",
     "text": [
      " 85%|████████▌ | 85/100 [03:24<00:55,  3.69s/it]"
     ]
    },
    {
     "name": "stdout",
     "output_type": "stream",
     "text": [
      "Best Dist:  0.007848132067064004\n",
      "Average Dist:  0.6033205736439887\n",
      "Best Adj Error:  4.0\n",
      "Average Adj Dist Error:  31.73\n",
      "extreme\n"
     ]
    },
    {
     "name": "stderr",
     "output_type": "stream",
     "text": [
      " 86%|████████▌ | 86/100 [03:27<00:52,  3.75s/it]"
     ]
    },
    {
     "name": "stdout",
     "output_type": "stream",
     "text": [
      "Best Dist:  0.007848132067064004\n",
      "Average Dist:  0.5929872120865717\n",
      "Best Adj Error:  4.0\n",
      "Average Adj Dist Error:  31.73\n",
      "extreme\n"
     ]
    },
    {
     "name": "stderr",
     "output_type": "stream",
     "text": [
      " 87%|████████▋ | 87/100 [03:31<00:49,  3.80s/it]"
     ]
    },
    {
     "name": "stdout",
     "output_type": "stream",
     "text": [
      "Best Dist:  0.007848132067064004\n",
      "Average Dist:  0.5986087349073257\n",
      "Best Adj Error:  4.0\n",
      "Average Adj Dist Error:  31.99\n",
      "extreme\n"
     ]
    },
    {
     "name": "stderr",
     "output_type": "stream",
     "text": [
      " 88%|████████▊ | 88/100 [03:35<00:45,  3.78s/it]"
     ]
    },
    {
     "name": "stdout",
     "output_type": "stream",
     "text": [
      "Best Dist:  0.007848132067064004\n",
      "Average Dist:  0.601152497032719\n",
      "Best Adj Error:  4.0\n",
      "Average Adj Dist Error:  31.49\n",
      "extreme\n"
     ]
    },
    {
     "name": "stderr",
     "output_type": "stream",
     "text": [
      " 89%|████████▉ | 89/100 [03:39<00:42,  3.83s/it]"
     ]
    },
    {
     "name": "stdout",
     "output_type": "stream",
     "text": [
      "new injection\n",
      "Best Dist:  0.007848132067064004\n",
      "Average Dist:  0.5942503678214122\n",
      "Best Adj Error:  4.0\n",
      "Average Adj Dist Error:  32.31\n",
      "extreme\n"
     ]
    },
    {
     "name": "stderr",
     "output_type": "stream",
     "text": [
      " 90%|█████████ | 90/100 [03:43<00:39,  3.94s/it]"
     ]
    },
    {
     "name": "stdout",
     "output_type": "stream",
     "text": [
      "Best Dist:  0.007848132067064004\n",
      "Average Dist:  0.599506834025178\n",
      "Best Adj Error:  4.0\n",
      "Average Adj Dist Error:  32.29\n",
      "extreme\n"
     ]
    },
    {
     "name": "stderr",
     "output_type": "stream",
     "text": [
      " 91%|█████████ | 91/100 [03:48<00:37,  4.14s/it]"
     ]
    },
    {
     "name": "stdout",
     "output_type": "stream",
     "text": [
      "Best Dist:  0.007848132067064004\n",
      "Average Dist:  0.602208095024962\n",
      "Best Adj Error:  4.0\n",
      "Average Adj Dist Error:  31.95\n",
      "extreme\n"
     ]
    },
    {
     "name": "stderr",
     "output_type": "stream",
     "text": [
      " 92%|█████████▏| 92/100 [03:53<00:35,  4.39s/it]"
     ]
    },
    {
     "name": "stdout",
     "output_type": "stream",
     "text": [
      "Best Dist:  0.007848132067064004\n",
      "Average Dist:  0.58522093257245\n",
      "Best Adj Error:  4.0\n",
      "Average Adj Dist Error:  32.06\n",
      "extreme\n"
     ]
    },
    {
     "name": "stderr",
     "output_type": "stream",
     "text": [
      " 93%|█████████▎| 93/100 [03:57<00:30,  4.40s/it]"
     ]
    },
    {
     "name": "stdout",
     "output_type": "stream",
     "text": [
      "Best Dist:  0.007848132067064004\n",
      "Average Dist:  0.6092199750527247\n",
      "Best Adj Error:  4.0\n",
      "Average Adj Dist Error:  32.28\n",
      "extreme\n"
     ]
    },
    {
     "name": "stderr",
     "output_type": "stream",
     "text": [
      " 94%|█████████▍| 94/100 [04:02<00:26,  4.49s/it]"
     ]
    },
    {
     "name": "stdout",
     "output_type": "stream",
     "text": [
      "new injection\n",
      "Best Dist:  0.007848132067064004\n",
      "Average Dist:  0.5958613784059414\n",
      "Best Adj Error:  4.0\n",
      "Average Adj Dist Error:  33.64\n",
      "extreme\n"
     ]
    },
    {
     "name": "stderr",
     "output_type": "stream",
     "text": [
      " 95%|█████████▌| 95/100 [04:06<00:21,  4.36s/it]"
     ]
    },
    {
     "name": "stdout",
     "output_type": "stream",
     "text": [
      "Best Dist:  0.007848132067064004\n",
      "Average Dist:  0.587955894675529\n",
      "Best Adj Error:  4.0\n",
      "Average Adj Dist Error:  31.02\n",
      "extreme\n"
     ]
    },
    {
     "name": "stderr",
     "output_type": "stream",
     "text": [
      " 96%|█████████▌| 96/100 [04:10<00:16,  4.24s/it]"
     ]
    },
    {
     "name": "stdout",
     "output_type": "stream",
     "text": [
      "Best Dist:  0.007848132067064004\n",
      "Average Dist:  0.5951423596626015\n",
      "Best Adj Error:  4.0\n",
      "Average Adj Dist Error:  31.77\n",
      "extreme\n"
     ]
    },
    {
     "name": "stderr",
     "output_type": "stream",
     "text": [
      " 97%|█████████▋| 97/100 [04:14<00:12,  4.19s/it]"
     ]
    },
    {
     "name": "stdout",
     "output_type": "stream",
     "text": [
      "Best Dist:  0.007848132067064004\n",
      "Average Dist:  0.5918898469491795\n",
      "Best Adj Error:  4.0\n",
      "Average Adj Dist Error:  32.01\n",
      "extreme\n"
     ]
    },
    {
     "name": "stderr",
     "output_type": "stream",
     "text": [
      " 98%|█████████▊| 98/100 [04:22<00:10,  5.42s/it]"
     ]
    },
    {
     "name": "stdout",
     "output_type": "stream",
     "text": [
      "Best Dist:  0.007848132067064004\n",
      "Average Dist:  0.6093224279920655\n",
      "Best Adj Error:  4.0\n",
      "Average Adj Dist Error:  32.47\n",
      "extreme\n"
     ]
    },
    {
     "name": "stderr",
     "output_type": "stream",
     "text": [
      " 99%|█████████▉| 99/100 [04:27<00:05,  5.12s/it]"
     ]
    },
    {
     "name": "stdout",
     "output_type": "stream",
     "text": [
      "new injection\n",
      "Best Dist:  0.007848132067064004\n",
      "Average Dist:  0.5746725263884238\n",
      "Best Adj Error:  4.0\n",
      "Average Adj Dist Error:  32.37\n",
      "extreme\n"
     ]
    },
    {
     "name": "stderr",
     "output_type": "stream",
     "text": [
      "100%|██████████| 100/100 [04:33<00:00,  2.74s/it]\n"
     ]
    },
    {
     "name": "stdout",
     "output_type": "stream",
     "text": [
      "No fit individual found within iteration limit\n"
     ]
    },
    {
     "name": "stderr",
     "output_type": "stream",
     "text": [
      "  0%|          | 0/100 [00:00<?, ?it/s]"
     ]
    },
    {
     "name": "stdout",
     "output_type": "stream",
     "text": [
      "Best Dist:  0.4016079957611601\n",
      "Average Dist:  0.641459870328668\n",
      "Best Adj Error:  40.0\n",
      "Average Adj Dist Error:  40.39\n"
     ]
    },
    {
     "name": "stderr",
     "output_type": "stream",
     "text": [
      "  1%|          | 1/100 [00:03<05:49,  3.53s/it]"
     ]
    },
    {
     "name": "stdout",
     "output_type": "stream",
     "text": [
      "Best Dist:  0.4016079957611601\n",
      "Average Dist:  0.6155016156535054\n",
      "Best Adj Error:  40.0\n",
      "Average Adj Dist Error:  39.5\n"
     ]
    },
    {
     "name": "stderr",
     "output_type": "stream",
     "text": [
      "  2%|▏         | 2/100 [00:06<05:33,  3.41s/it]"
     ]
    },
    {
     "name": "stdout",
     "output_type": "stream",
     "text": [
      "Best Dist:  0.4016079957611601\n",
      "Average Dist:  0.5890583356632532\n",
      "Best Adj Error:  40.0\n",
      "Average Adj Dist Error:  39.49\n"
     ]
    },
    {
     "name": "stderr",
     "output_type": "stream",
     "text": [
      "  3%|▎         | 3/100 [00:09<04:52,  3.01s/it]"
     ]
    },
    {
     "name": "stdout",
     "output_type": "stream",
     "text": [
      "Best Dist:  0.37694595615108417\n",
      "Average Dist:  0.5611532696769381\n",
      "Best Adj Error:  32.0\n",
      "Average Adj Dist Error:  39.54\n"
     ]
    },
    {
     "name": "stderr",
     "output_type": "stream",
     "text": [
      "  4%|▍         | 4/100 [00:12<04:42,  2.95s/it]"
     ]
    },
    {
     "name": "stdout",
     "output_type": "stream",
     "text": [
      "Best Dist:  0.2961134857792453\n",
      "Average Dist:  0.5386138878216706\n",
      "Best Adj Error:  30.0\n",
      "Average Adj Dist Error:  39.55\n"
     ]
    },
    {
     "name": "stderr",
     "output_type": "stream",
     "text": [
      "  5%|▌         | 5/100 [00:14<04:31,  2.86s/it]"
     ]
    },
    {
     "name": "stdout",
     "output_type": "stream",
     "text": [
      "Best Dist:  0.2961134857792453\n",
      "Average Dist:  0.49840276666889527\n",
      "Best Adj Error:  30.0\n",
      "Average Adj Dist Error:  37.53\n"
     ]
    },
    {
     "name": "stderr",
     "output_type": "stream",
     "text": [
      "  6%|▌         | 6/100 [00:17<04:20,  2.77s/it]"
     ]
    },
    {
     "name": "stdout",
     "output_type": "stream",
     "text": [
      "Best Dist:  0.24292050857100425\n",
      "Average Dist:  0.4750031758928952\n",
      "Best Adj Error:  24.0\n",
      "Average Adj Dist Error:  36.53\n"
     ]
    },
    {
     "name": "stderr",
     "output_type": "stream",
     "text": [
      "  7%|▋         | 7/100 [00:20<04:15,  2.75s/it]"
     ]
    },
    {
     "name": "stdout",
     "output_type": "stream",
     "text": [
      "extreme\n",
      "Best Dist:  0.23045178917786446\n",
      "Average Dist:  0.4461427544235865\n",
      "Best Adj Error:  32.0\n",
      "Average Adj Dist Error:  35.0\n"
     ]
    },
    {
     "name": "stderr",
     "output_type": "stream",
     "text": [
      "  8%|▊         | 8/100 [00:22<04:06,  2.68s/it]"
     ]
    },
    {
     "name": "stdout",
     "output_type": "stream",
     "text": [
      "extreme\n",
      "Best Dist:  0.22398657050523987\n",
      "Average Dist:  0.39520692869321755\n",
      "Best Adj Error:  24.0\n",
      "Average Adj Dist Error:  32.42\n"
     ]
    },
    {
     "name": "stderr",
     "output_type": "stream",
     "text": [
      "  9%|▉         | 9/100 [00:25<04:05,  2.70s/it]"
     ]
    },
    {
     "name": "stdout",
     "output_type": "stream",
     "text": [
      "extreme\n",
      "Best Dist:  0.22398657050523987\n",
      "Average Dist:  0.371321229595751\n",
      "Best Adj Error:  24.0\n",
      "Average Adj Dist Error:  31.07\n"
     ]
    },
    {
     "name": "stderr",
     "output_type": "stream",
     "text": [
      " 10%|█         | 10/100 [00:28<04:08,  2.76s/it]"
     ]
    },
    {
     "name": "stdout",
     "output_type": "stream",
     "text": [
      "extreme\n",
      "Best Dist:  0.21561564931157728\n",
      "Average Dist:  0.34155670581613984\n",
      "Best Adj Error:  26.0\n",
      "Average Adj Dist Error:  29.46\n"
     ]
    },
    {
     "name": "stderr",
     "output_type": "stream",
     "text": [
      " 11%|█         | 11/100 [00:31<04:02,  2.73s/it]"
     ]
    },
    {
     "name": "stdout",
     "output_type": "stream",
     "text": [
      "extreme\n",
      "Best Dist:  0.21067012637273616\n",
      "Average Dist:  0.32733356559952964\n",
      "Best Adj Error:  24.0\n",
      "Average Adj Dist Error:  28.37\n"
     ]
    },
    {
     "name": "stderr",
     "output_type": "stream",
     "text": [
      " 12%|█▏        | 12/100 [00:34<04:07,  2.82s/it]"
     ]
    },
    {
     "name": "stdout",
     "output_type": "stream",
     "text": [
      "extreme\n",
      "Best Dist:  0.21067012637273616\n",
      "Average Dist:  0.2985820666982437\n",
      "Best Adj Error:  24.0\n",
      "Average Adj Dist Error:  26.81\n"
     ]
    },
    {
     "name": "stderr",
     "output_type": "stream",
     "text": [
      " 13%|█▎        | 13/100 [00:36<03:58,  2.74s/it]"
     ]
    },
    {
     "name": "stdout",
     "output_type": "stream",
     "text": [
      "extreme\n",
      "Best Dist:  0.21066331227541893\n",
      "Average Dist:  0.28445251704711316\n",
      "Best Adj Error:  26.0\n",
      "Average Adj Dist Error:  26.05\n"
     ]
    },
    {
     "name": "stderr",
     "output_type": "stream",
     "text": [
      " 14%|█▍        | 14/100 [00:39<04:07,  2.88s/it]"
     ]
    },
    {
     "name": "stdout",
     "output_type": "stream",
     "text": [
      "extreme\n",
      "Best Dist:  0.19912136402208117\n",
      "Average Dist:  0.2606054778994785\n",
      "Best Adj Error:  22.0\n",
      "Average Adj Dist Error:  25.45\n"
     ]
    },
    {
     "name": "stderr",
     "output_type": "stream",
     "text": [
      " 15%|█▌        | 15/100 [00:42<04:05,  2.89s/it]"
     ]
    },
    {
     "name": "stdout",
     "output_type": "stream",
     "text": [
      "extreme\n",
      "Best Dist:  0.19564710675542482\n",
      "Average Dist:  0.2567651530496515\n",
      "Best Adj Error:  24.0\n",
      "Average Adj Dist Error:  25.87\n"
     ]
    },
    {
     "name": "stderr",
     "output_type": "stream",
     "text": [
      " 16%|█▌        | 16/100 [00:45<03:55,  2.80s/it]"
     ]
    },
    {
     "name": "stdout",
     "output_type": "stream",
     "text": [
      "extreme\n",
      "Best Dist:  0.19564710675542482\n",
      "Average Dist:  0.24470497583327436\n",
      "Best Adj Error:  24.0\n",
      "Average Adj Dist Error:  26.03\n"
     ]
    },
    {
     "name": "stderr",
     "output_type": "stream",
     "text": [
      " 17%|█▋        | 17/100 [00:48<03:55,  2.84s/it]"
     ]
    },
    {
     "name": "stdout",
     "output_type": "stream",
     "text": [
      "extreme\n",
      "Best Dist:  0.19564710675542482\n",
      "Average Dist:  0.25392736811920874\n",
      "Best Adj Error:  24.0\n",
      "Average Adj Dist Error:  25.88\n"
     ]
    },
    {
     "name": "stderr",
     "output_type": "stream",
     "text": [
      " 18%|█▊        | 18/100 [00:52<04:23,  3.21s/it]"
     ]
    },
    {
     "name": "stdout",
     "output_type": "stream",
     "text": [
      "extreme\n",
      "Best Dist:  0.19564710675542482\n",
      "Average Dist:  0.24548232427212205\n",
      "Best Adj Error:  24.0\n",
      "Average Adj Dist Error:  25.18\n"
     ]
    },
    {
     "name": "stderr",
     "output_type": "stream",
     "text": [
      " 19%|█▉        | 19/100 [00:55<04:15,  3.15s/it]"
     ]
    },
    {
     "name": "stdout",
     "output_type": "stream",
     "text": [
      "extreme\n",
      "Best Dist:  0.19564710675542482\n",
      "Average Dist:  0.21144471815836474\n",
      "Best Adj Error:  24.0\n",
      "Average Adj Dist Error:  24.32\n"
     ]
    },
    {
     "name": "stderr",
     "output_type": "stream",
     "text": [
      " 20%|██        | 20/100 [00:58<04:04,  3.05s/it]"
     ]
    },
    {
     "name": "stdout",
     "output_type": "stream",
     "text": [
      "extreme\n",
      "Best Dist:  0.19564710675542482\n",
      "Average Dist:  0.22980054703539687\n",
      "Best Adj Error:  24.0\n",
      "Average Adj Dist Error:  24.18\n"
     ]
    },
    {
     "name": "stderr",
     "output_type": "stream",
     "text": [
      " 21%|██        | 21/100 [01:00<03:50,  2.92s/it]"
     ]
    },
    {
     "name": "stdout",
     "output_type": "stream",
     "text": [
      "extreme\n",
      "Best Dist:  0.19564710675542482\n",
      "Average Dist:  0.222981712439858\n",
      "Best Adj Error:  24.0\n",
      "Average Adj Dist Error:  23.97\n"
     ]
    },
    {
     "name": "stderr",
     "output_type": "stream",
     "text": [
      " 22%|██▏       | 22/100 [01:03<03:37,  2.79s/it]"
     ]
    },
    {
     "name": "stdout",
     "output_type": "stream",
     "text": [
      "extreme\n",
      "Best Dist:  0.18772799731169973\n",
      "Average Dist:  0.2332873645807904\n",
      "Best Adj Error:  20.0\n",
      "Average Adj Dist Error:  23.15\n"
     ]
    },
    {
     "name": "stderr",
     "output_type": "stream",
     "text": [
      " 23%|██▎       | 23/100 [01:05<03:26,  2.68s/it]"
     ]
    },
    {
     "name": "stdout",
     "output_type": "stream",
     "text": [
      "extreme\n",
      "Best Dist:  0.18772799731169973\n",
      "Average Dist:  0.22530270792731638\n",
      "Best Adj Error:  20.0\n",
      "Average Adj Dist Error:  23.26\n"
     ]
    },
    {
     "name": "stderr",
     "output_type": "stream",
     "text": [
      " 24%|██▍       | 24/100 [01:08<03:19,  2.62s/it]"
     ]
    },
    {
     "name": "stdout",
     "output_type": "stream",
     "text": [
      "extreme\n",
      "Best Dist:  0.18772799731169973\n",
      "Average Dist:  0.20260928420484986\n",
      "Best Adj Error:  20.0\n",
      "Average Adj Dist Error:  22.92\n"
     ]
    },
    {
     "name": "stderr",
     "output_type": "stream",
     "text": [
      " 25%|██▌       | 25/100 [01:10<03:18,  2.65s/it]"
     ]
    },
    {
     "name": "stdout",
     "output_type": "stream",
     "text": [
      "extreme\n",
      "Best Dist:  0.18772799731169973\n",
      "Average Dist:  0.20748649856793427\n",
      "Best Adj Error:  20.0\n",
      "Average Adj Dist Error:  23.73\n"
     ]
    },
    {
     "name": "stderr",
     "output_type": "stream",
     "text": [
      " 26%|██▌       | 26/100 [01:13<03:16,  2.66s/it]"
     ]
    },
    {
     "name": "stdout",
     "output_type": "stream",
     "text": [
      "extreme\n",
      "Best Dist:  0.18772799731169973\n",
      "Average Dist:  0.22431238557360658\n",
      "Best Adj Error:  20.0\n",
      "Average Adj Dist Error:  23.92\n"
     ]
    },
    {
     "name": "stderr",
     "output_type": "stream",
     "text": [
      " 27%|██▋       | 27/100 [01:16<03:15,  2.68s/it]"
     ]
    },
    {
     "name": "stdout",
     "output_type": "stream",
     "text": [
      "extreme\n",
      "Best Dist:  0.18772799731169973\n",
      "Average Dist:  0.20158551301436362\n",
      "Best Adj Error:  20.0\n",
      "Average Adj Dist Error:  23.73\n"
     ]
    },
    {
     "name": "stderr",
     "output_type": "stream",
     "text": [
      " 28%|██▊       | 28/100 [01:18<03:10,  2.64s/it]"
     ]
    },
    {
     "name": "stdout",
     "output_type": "stream",
     "text": [
      "extreme\n",
      "Best Dist:  0.18772799731169973\n",
      "Average Dist:  0.2677339538533603\n",
      "Best Adj Error:  20.0\n",
      "Average Adj Dist Error:  24.67\n"
     ]
    },
    {
     "name": "stderr",
     "output_type": "stream",
     "text": [
      " 29%|██▉       | 29/100 [01:21<03:16,  2.77s/it]"
     ]
    },
    {
     "name": "stdout",
     "output_type": "stream",
     "text": [
      "extreme\n",
      "Best Dist:  0.18772799731169973\n",
      "Average Dist:  0.19397155044684974\n",
      "Best Adj Error:  20.0\n",
      "Average Adj Dist Error:  23.05\n"
     ]
    },
    {
     "name": "stderr",
     "output_type": "stream",
     "text": [
      " 30%|███       | 30/100 [01:24<03:13,  2.76s/it]"
     ]
    },
    {
     "name": "stdout",
     "output_type": "stream",
     "text": [
      "extreme\n",
      "Best Dist:  0.18772799731169973\n",
      "Average Dist:  0.1951954045324645\n",
      "Best Adj Error:  20.0\n",
      "Average Adj Dist Error:  20.99\n"
     ]
    },
    {
     "name": "stderr",
     "output_type": "stream",
     "text": [
      " 31%|███       | 31/100 [01:27<03:05,  2.68s/it]"
     ]
    },
    {
     "name": "stdout",
     "output_type": "stream",
     "text": [
      "extreme\n",
      "Best Dist:  0.18157942088231221\n",
      "Average Dist:  0.2495137128986726\n",
      "Best Adj Error:  20.0\n",
      "Average Adj Dist Error:  21.19\n"
     ]
    },
    {
     "name": "stderr",
     "output_type": "stream",
     "text": [
      " 32%|███▏      | 32/100 [01:31<03:37,  3.20s/it]"
     ]
    },
    {
     "name": "stdout",
     "output_type": "stream",
     "text": [
      "extreme\n",
      "Best Dist:  0.18157942088231221\n",
      "Average Dist:  0.30298146066897336\n",
      "Best Adj Error:  20.0\n",
      "Average Adj Dist Error:  21.44\n"
     ]
    },
    {
     "name": "stderr",
     "output_type": "stream",
     "text": [
      " 33%|███▎      | 33/100 [01:34<03:35,  3.21s/it]"
     ]
    },
    {
     "name": "stdout",
     "output_type": "stream",
     "text": [
      "extreme\n",
      "Best Dist:  0.18157942088231221\n",
      "Average Dist:  0.214168674378716\n",
      "Best Adj Error:  20.0\n",
      "Average Adj Dist Error:  20.42\n"
     ]
    },
    {
     "name": "stderr",
     "output_type": "stream",
     "text": [
      " 34%|███▍      | 34/100 [01:39<03:52,  3.53s/it]"
     ]
    },
    {
     "name": "stdout",
     "output_type": "stream",
     "text": [
      "extreme\n",
      "Best Dist:  0.18157942088231221\n",
      "Average Dist:  0.19116502584378928\n",
      "Best Adj Error:  20.0\n",
      "Average Adj Dist Error:  20.3\n"
     ]
    },
    {
     "name": "stderr",
     "output_type": "stream",
     "text": [
      " 35%|███▌      | 35/100 [01:42<03:55,  3.63s/it]"
     ]
    },
    {
     "name": "stdout",
     "output_type": "stream",
     "text": [
      "extreme\n",
      "Best Dist:  0.18157942088231221\n",
      "Average Dist:  0.221400744811533\n",
      "Best Adj Error:  20.0\n",
      "Average Adj Dist Error:  20.37\n"
     ]
    },
    {
     "name": "stderr",
     "output_type": "stream",
     "text": [
      " 36%|███▌      | 36/100 [01:46<03:46,  3.54s/it]"
     ]
    },
    {
     "name": "stdout",
     "output_type": "stream",
     "text": [
      "extreme\n",
      "Best Dist:  0.18157942088231221\n",
      "Average Dist:  0.2765097087609751\n",
      "Best Adj Error:  20.0\n",
      "Average Adj Dist Error:  21.15\n"
     ]
    },
    {
     "name": "stderr",
     "output_type": "stream",
     "text": [
      " 37%|███▋      | 37/100 [01:49<03:33,  3.38s/it]"
     ]
    },
    {
     "name": "stdout",
     "output_type": "stream",
     "text": [
      "extreme\n",
      "Best Dist:  0.18157942088231221\n",
      "Average Dist:  0.19008464031055616\n",
      "Best Adj Error:  20.0\n",
      "Average Adj Dist Error:  20.14\n"
     ]
    },
    {
     "name": "stderr",
     "output_type": "stream",
     "text": [
      " 38%|███▊      | 38/100 [01:52<03:23,  3.29s/it]"
     ]
    },
    {
     "name": "stdout",
     "output_type": "stream",
     "text": [
      "extreme\n",
      "Best Dist:  0.18157942088231221\n",
      "Average Dist:  0.2191201707854789\n",
      "Best Adj Error:  20.0\n",
      "Average Adj Dist Error:  20.47\n"
     ]
    },
    {
     "name": "stderr",
     "output_type": "stream",
     "text": [
      " 39%|███▉      | 39/100 [01:55<03:15,  3.21s/it]"
     ]
    },
    {
     "name": "stdout",
     "output_type": "stream",
     "text": [
      "extreme\n",
      "Best Dist:  0.18157942088231221\n",
      "Average Dist:  0.19128767760465543\n",
      "Best Adj Error:  20.0\n",
      "Average Adj Dist Error:  20.06\n"
     ]
    },
    {
     "name": "stderr",
     "output_type": "stream",
     "text": [
      " 40%|████      | 40/100 [01:58<03:09,  3.16s/it]"
     ]
    },
    {
     "name": "stdout",
     "output_type": "stream",
     "text": [
      "extreme\n",
      "Best Dist:  0.18157942088231221\n",
      "Average Dist:  0.18987859110675076\n",
      "Best Adj Error:  20.0\n",
      "Average Adj Dist Error:  20.13\n"
     ]
    },
    {
     "name": "stderr",
     "output_type": "stream",
     "text": [
      " 41%|████      | 41/100 [02:01<03:02,  3.09s/it]"
     ]
    },
    {
     "name": "stdout",
     "output_type": "stream",
     "text": [
      "extreme\n",
      "Best Dist:  0.18157942088231221\n",
      "Average Dist:  0.20650627748853467\n",
      "Best Adj Error:  20.0\n",
      "Average Adj Dist Error:  20.32\n"
     ]
    },
    {
     "name": "stderr",
     "output_type": "stream",
     "text": [
      " 42%|████▏     | 42/100 [02:04<02:53,  2.99s/it]"
     ]
    },
    {
     "name": "stdout",
     "output_type": "stream",
     "text": [
      "extreme\n",
      "Best Dist:  0.18157942088231221\n",
      "Average Dist:  0.20259247001601297\n",
      "Best Adj Error:  20.0\n",
      "Average Adj Dist Error:  20.25\n"
     ]
    },
    {
     "name": "stderr",
     "output_type": "stream",
     "text": [
      " 43%|████▎     | 43/100 [02:07<02:57,  3.12s/it]"
     ]
    },
    {
     "name": "stdout",
     "output_type": "stream",
     "text": [
      "extreme\n",
      "Best Dist:  0.18157942088231221\n",
      "Average Dist:  0.2196088095618852\n",
      "Best Adj Error:  20.0\n",
      "Average Adj Dist Error:  20.37\n"
     ]
    },
    {
     "name": "stderr",
     "output_type": "stream",
     "text": [
      " 44%|████▍     | 44/100 [02:10<02:44,  2.93s/it]"
     ]
    },
    {
     "name": "stdout",
     "output_type": "stream",
     "text": [
      "extreme\n",
      "Best Dist:  0.18157942088231221\n",
      "Average Dist:  0.19592288102762645\n",
      "Best Adj Error:  20.0\n",
      "Average Adj Dist Error:  20.16\n"
     ]
    },
    {
     "name": "stderr",
     "output_type": "stream",
     "text": [
      " 45%|████▌     | 45/100 [02:12<02:40,  2.92s/it]"
     ]
    },
    {
     "name": "stdout",
     "output_type": "stream",
     "text": [
      "extreme\n",
      "Best Dist:  0.18157942088231221\n",
      "Average Dist:  0.18157942088231224\n",
      "Best Adj Error:  20.0\n",
      "Average Adj Dist Error:  20.0\n",
      "extreme\n"
     ]
    },
    {
     "name": "stderr",
     "output_type": "stream",
     "text": [
      " 46%|████▌     | 46/100 [02:16<02:53,  3.21s/it]"
     ]
    },
    {
     "name": "stdout",
     "output_type": "stream",
     "text": [
      "Best Dist:  0.18157942088231221\n",
      "Average Dist:  0.5356624530064201\n",
      "Best Adj Error:  20.0\n",
      "Average Adj Dist Error:  36.44\n",
      "extreme\n"
     ]
    },
    {
     "name": "stderr",
     "output_type": "stream",
     "text": [
      " 47%|████▋     | 47/100 [02:20<03:02,  3.44s/it]"
     ]
    },
    {
     "name": "stdout",
     "output_type": "stream",
     "text": [
      "Best Dist:  0.18157942088231221\n",
      "Average Dist:  0.5386524425337658\n",
      "Best Adj Error:  20.0\n",
      "Average Adj Dist Error:  36.46\n",
      "extreme\n"
     ]
    },
    {
     "name": "stderr",
     "output_type": "stream",
     "text": [
      " 48%|████▊     | 48/100 [02:24<03:07,  3.60s/it]"
     ]
    },
    {
     "name": "stdout",
     "output_type": "stream",
     "text": [
      "Best Dist:  0.18157942088231221\n",
      "Average Dist:  0.5470695462924049\n",
      "Best Adj Error:  20.0\n",
      "Average Adj Dist Error:  37.12\n",
      "extreme\n"
     ]
    },
    {
     "name": "stderr",
     "output_type": "stream",
     "text": [
      " 49%|████▉     | 49/100 [02:28<03:12,  3.76s/it]"
     ]
    },
    {
     "name": "stdout",
     "output_type": "stream",
     "text": [
      "new injection\n",
      "Best Dist:  0.18157942088231221\n",
      "Average Dist:  0.5489636395095946\n",
      "Best Adj Error:  20.0\n",
      "Average Adj Dist Error:  37.25\n",
      "extreme\n"
     ]
    },
    {
     "name": "stderr",
     "output_type": "stream",
     "text": [
      " 50%|█████     | 50/100 [02:33<03:16,  3.93s/it]"
     ]
    },
    {
     "name": "stdout",
     "output_type": "stream",
     "text": [
      "Best Dist:  0.18157942088231221\n",
      "Average Dist:  0.5440921234622923\n",
      "Best Adj Error:  20.0\n",
      "Average Adj Dist Error:  37.15\n",
      "extreme\n"
     ]
    },
    {
     "name": "stderr",
     "output_type": "stream",
     "text": [
      " 51%|█████     | 51/100 [02:37<03:16,  4.00s/it]"
     ]
    },
    {
     "name": "stdout",
     "output_type": "stream",
     "text": [
      "Best Dist:  0.18157942088231221\n",
      "Average Dist:  0.5381006263504597\n",
      "Best Adj Error:  20.0\n",
      "Average Adj Dist Error:  36.39\n",
      "extreme\n"
     ]
    },
    {
     "name": "stderr",
     "output_type": "stream",
     "text": [
      " 52%|█████▏    | 52/100 [02:41<03:18,  4.13s/it]"
     ]
    },
    {
     "name": "stdout",
     "output_type": "stream",
     "text": [
      "Best Dist:  0.18157942088231221\n",
      "Average Dist:  0.5468703195593264\n",
      "Best Adj Error:  20.0\n",
      "Average Adj Dist Error:  36.86\n",
      "extreme\n"
     ]
    },
    {
     "name": "stderr",
     "output_type": "stream",
     "text": [
      " 53%|█████▎    | 53/100 [02:45<03:12,  4.09s/it]"
     ]
    },
    {
     "name": "stdout",
     "output_type": "stream",
     "text": [
      "Best Dist:  0.18157942088231221\n",
      "Average Dist:  0.5412301139164789\n",
      "Best Adj Error:  20.0\n",
      "Average Adj Dist Error:  36.41\n",
      "extreme\n"
     ]
    },
    {
     "name": "stderr",
     "output_type": "stream",
     "text": [
      " 54%|█████▍    | 54/100 [02:49<03:05,  4.03s/it]"
     ]
    },
    {
     "name": "stdout",
     "output_type": "stream",
     "text": [
      "new injection\n",
      "Best Dist:  0.18157942088231221\n",
      "Average Dist:  0.5472854116910095\n",
      "Best Adj Error:  20.0\n",
      "Average Adj Dist Error:  36.87\n",
      "extreme\n"
     ]
    },
    {
     "name": "stderr",
     "output_type": "stream",
     "text": [
      " 55%|█████▌    | 55/100 [02:53<02:58,  3.97s/it]"
     ]
    },
    {
     "name": "stdout",
     "output_type": "stream",
     "text": [
      "Best Dist:  0.18157942088231221\n",
      "Average Dist:  0.545968111389501\n",
      "Best Adj Error:  20.0\n",
      "Average Adj Dist Error:  38.08\n",
      "extreme\n"
     ]
    },
    {
     "name": "stderr",
     "output_type": "stream",
     "text": [
      " 56%|█████▌    | 56/100 [02:57<02:52,  3.93s/it]"
     ]
    },
    {
     "name": "stdout",
     "output_type": "stream",
     "text": [
      "Best Dist:  0.18157942088231221\n",
      "Average Dist:  0.5377465445421635\n",
      "Best Adj Error:  20.0\n",
      "Average Adj Dist Error:  36.37\n",
      "extreme\n"
     ]
    },
    {
     "name": "stderr",
     "output_type": "stream",
     "text": [
      " 57%|█████▋    | 57/100 [03:01<02:48,  3.92s/it]"
     ]
    },
    {
     "name": "stdout",
     "output_type": "stream",
     "text": [
      "Best Dist:  0.18157942088231221\n",
      "Average Dist:  0.5478604948360903\n",
      "Best Adj Error:  20.0\n",
      "Average Adj Dist Error:  37.27\n",
      "extreme\n"
     ]
    },
    {
     "name": "stderr",
     "output_type": "stream",
     "text": [
      " 58%|█████▊    | 58/100 [03:05<02:42,  3.87s/it]"
     ]
    },
    {
     "name": "stdout",
     "output_type": "stream",
     "text": [
      "Best Dist:  0.18157942088231221\n",
      "Average Dist:  0.5412293419529313\n",
      "Best Adj Error:  20.0\n",
      "Average Adj Dist Error:  37.1\n",
      "extreme\n"
     ]
    },
    {
     "name": "stderr",
     "output_type": "stream",
     "text": [
      " 59%|█████▉    | 59/100 [03:08<02:36,  3.83s/it]"
     ]
    },
    {
     "name": "stdout",
     "output_type": "stream",
     "text": [
      "new injection\n",
      "Best Dist:  0.18157942088231221\n",
      "Average Dist:  0.5603858762051035\n",
      "Best Adj Error:  20.0\n",
      "Average Adj Dist Error:  37.95\n",
      "extreme\n"
     ]
    },
    {
     "name": "stderr",
     "output_type": "stream",
     "text": [
      " 60%|██████    | 60/100 [03:12<02:36,  3.90s/it]"
     ]
    },
    {
     "name": "stdout",
     "output_type": "stream",
     "text": [
      "Best Dist:  0.18157942088231221\n",
      "Average Dist:  0.5439207579070416\n",
      "Best Adj Error:  20.0\n",
      "Average Adj Dist Error:  36.85\n",
      "extreme\n"
     ]
    },
    {
     "name": "stderr",
     "output_type": "stream",
     "text": [
      " 61%|██████    | 61/100 [03:16<02:32,  3.90s/it]"
     ]
    },
    {
     "name": "stdout",
     "output_type": "stream",
     "text": [
      "Best Dist:  0.18157942088231221\n",
      "Average Dist:  0.5420104431001819\n",
      "Best Adj Error:  20.0\n",
      "Average Adj Dist Error:  36.81\n",
      "extreme\n"
     ]
    },
    {
     "name": "stderr",
     "output_type": "stream",
     "text": [
      " 62%|██████▏   | 62/100 [03:21<02:38,  4.16s/it]"
     ]
    },
    {
     "name": "stdout",
     "output_type": "stream",
     "text": [
      "Best Dist:  0.18157942088231221\n",
      "Average Dist:  0.5435729442248902\n",
      "Best Adj Error:  20.0\n",
      "Average Adj Dist Error:  37.34\n",
      "extreme\n"
     ]
    },
    {
     "name": "stderr",
     "output_type": "stream",
     "text": [
      " 63%|██████▎   | 63/100 [03:27<02:51,  4.63s/it]"
     ]
    },
    {
     "name": "stdout",
     "output_type": "stream",
     "text": [
      "Best Dist:  0.18157942088231221\n",
      "Average Dist:  0.5411286699595457\n",
      "Best Adj Error:  20.0\n",
      "Average Adj Dist Error:  37.2\n",
      "extreme\n"
     ]
    },
    {
     "name": "stderr",
     "output_type": "stream",
     "text": [
      " 64%|██████▍   | 64/100 [03:32<02:52,  4.79s/it]"
     ]
    },
    {
     "name": "stdout",
     "output_type": "stream",
     "text": [
      "new injection\n",
      "Best Dist:  0.18157942088231221\n",
      "Average Dist:  0.5497197054660796\n",
      "Best Adj Error:  20.0\n",
      "Average Adj Dist Error:  37.39\n",
      "extreme\n"
     ]
    },
    {
     "name": "stderr",
     "output_type": "stream",
     "text": [
      " 65%|██████▌   | 65/100 [03:37<02:50,  4.86s/it]"
     ]
    },
    {
     "name": "stdout",
     "output_type": "stream",
     "text": [
      "Best Dist:  0.18157942088231221\n",
      "Average Dist:  0.5400605844242199\n",
      "Best Adj Error:  20.0\n",
      "Average Adj Dist Error:  36.34\n",
      "extreme\n"
     ]
    },
    {
     "name": "stderr",
     "output_type": "stream",
     "text": [
      " 66%|██████▌   | 66/100 [03:43<02:57,  5.22s/it]"
     ]
    },
    {
     "name": "stdout",
     "output_type": "stream",
     "text": [
      "Best Dist:  0.18157942088231221\n",
      "Average Dist:  0.5468087875890378\n",
      "Best Adj Error:  20.0\n",
      "Average Adj Dist Error:  36.87\n",
      "extreme\n"
     ]
    },
    {
     "name": "stderr",
     "output_type": "stream",
     "text": [
      " 67%|██████▋   | 67/100 [03:48<02:46,  5.05s/it]"
     ]
    },
    {
     "name": "stdout",
     "output_type": "stream",
     "text": [
      "Best Dist:  0.18157942088231221\n",
      "Average Dist:  0.5468388159483474\n",
      "Best Adj Error:  20.0\n",
      "Average Adj Dist Error:  37.37\n",
      "extreme\n"
     ]
    },
    {
     "name": "stderr",
     "output_type": "stream",
     "text": [
      " 68%|██████▊   | 68/100 [03:52<02:36,  4.88s/it]"
     ]
    },
    {
     "name": "stdout",
     "output_type": "stream",
     "text": [
      "Best Dist:  0.18157942088231221\n",
      "Average Dist:  0.5416802831398614\n",
      "Best Adj Error:  20.0\n",
      "Average Adj Dist Error:  37.53\n",
      "extreme\n"
     ]
    },
    {
     "name": "stderr",
     "output_type": "stream",
     "text": [
      " 69%|██████▉   | 69/100 [03:56<02:26,  4.72s/it]"
     ]
    },
    {
     "name": "stdout",
     "output_type": "stream",
     "text": [
      "new injection\n",
      "Best Dist:  0.18157942088231221\n",
      "Average Dist:  0.5505447517751113\n",
      "Best Adj Error:  20.0\n",
      "Average Adj Dist Error:  37.73\n",
      "extreme\n"
     ]
    },
    {
     "name": "stderr",
     "output_type": "stream",
     "text": [
      " 70%|███████   | 70/100 [04:01<02:19,  4.63s/it]"
     ]
    },
    {
     "name": "stdout",
     "output_type": "stream",
     "text": [
      "Best Dist:  0.18157942088231221\n",
      "Average Dist:  0.5420806759979307\n",
      "Best Adj Error:  20.0\n",
      "Average Adj Dist Error:  37.2\n",
      "extreme\n"
     ]
    },
    {
     "name": "stderr",
     "output_type": "stream",
     "text": [
      " 71%|███████   | 71/100 [04:06<02:18,  4.76s/it]"
     ]
    },
    {
     "name": "stdout",
     "output_type": "stream",
     "text": [
      "Best Dist:  0.18157942088231221\n",
      "Average Dist:  0.543795215700251\n",
      "Best Adj Error:  20.0\n",
      "Average Adj Dist Error:  37.15\n",
      "extreme\n"
     ]
    },
    {
     "name": "stderr",
     "output_type": "stream",
     "text": [
      " 72%|███████▏  | 72/100 [04:11<02:15,  4.85s/it]"
     ]
    },
    {
     "name": "stdout",
     "output_type": "stream",
     "text": [
      "Best Dist:  0.18157942088231221\n",
      "Average Dist:  0.539769567600706\n",
      "Best Adj Error:  20.0\n",
      "Average Adj Dist Error:  36.3\n",
      "extreme\n"
     ]
    },
    {
     "name": "stderr",
     "output_type": "stream",
     "text": [
      " 73%|███████▎  | 73/100 [04:16<02:09,  4.81s/it]"
     ]
    },
    {
     "name": "stdout",
     "output_type": "stream",
     "text": [
      "Best Dist:  0.18157942088231221\n",
      "Average Dist:  0.539274904053593\n",
      "Best Adj Error:  20.0\n",
      "Average Adj Dist Error:  37.21\n",
      "extreme\n"
     ]
    },
    {
     "name": "stderr",
     "output_type": "stream",
     "text": [
      " 74%|███████▍  | 74/100 [04:20<02:03,  4.73s/it]"
     ]
    },
    {
     "name": "stdout",
     "output_type": "stream",
     "text": [
      "new injection\n",
      "Best Dist:  0.18157942088231221\n",
      "Average Dist:  0.55034116614358\n",
      "Best Adj Error:  20.0\n",
      "Average Adj Dist Error:  37.41\n",
      "extreme\n"
     ]
    },
    {
     "name": "stderr",
     "output_type": "stream",
     "text": [
      " 75%|███████▌  | 75/100 [04:25<01:59,  4.78s/it]"
     ]
    },
    {
     "name": "stdout",
     "output_type": "stream",
     "text": [
      "Best Dist:  0.18157942088231221\n",
      "Average Dist:  0.5431225057570016\n",
      "Best Adj Error:  20.0\n",
      "Average Adj Dist Error:  36.55\n",
      "extreme\n"
     ]
    },
    {
     "name": "stderr",
     "output_type": "stream",
     "text": [
      " 76%|███████▌  | 76/100 [04:30<01:54,  4.77s/it]"
     ]
    },
    {
     "name": "stdout",
     "output_type": "stream",
     "text": [
      "Best Dist:  0.18157942088231221\n",
      "Average Dist:  0.5472257580669568\n",
      "Best Adj Error:  20.0\n",
      "Average Adj Dist Error:  36.92\n",
      "extreme\n"
     ]
    },
    {
     "name": "stderr",
     "output_type": "stream",
     "text": [
      " 77%|███████▋  | 77/100 [04:35<01:50,  4.79s/it]"
     ]
    },
    {
     "name": "stdout",
     "output_type": "stream",
     "text": [
      "Best Dist:  0.18157942088231221\n",
      "Average Dist:  0.5452472282636496\n",
      "Best Adj Error:  20.0\n",
      "Average Adj Dist Error:  37.1\n",
      "extreme\n"
     ]
    },
    {
     "name": "stderr",
     "output_type": "stream",
     "text": [
      " 78%|███████▊  | 78/100 [04:40<01:47,  4.87s/it]"
     ]
    },
    {
     "name": "stdout",
     "output_type": "stream",
     "text": [
      "Best Dist:  0.18157942088231221\n",
      "Average Dist:  0.5431879568609962\n",
      "Best Adj Error:  20.0\n",
      "Average Adj Dist Error:  37.36\n",
      "extreme\n"
     ]
    },
    {
     "name": "stderr",
     "output_type": "stream",
     "text": [
      " 79%|███████▉  | 79/100 [04:46<01:53,  5.40s/it]"
     ]
    },
    {
     "name": "stdout",
     "output_type": "stream",
     "text": [
      "new injection\n",
      "Best Dist:  0.18157942088231221\n",
      "Average Dist:  0.5494968625049834\n",
      "Best Adj Error:  20.0\n",
      "Average Adj Dist Error:  37.21\n",
      "extreme\n"
     ]
    },
    {
     "name": "stderr",
     "output_type": "stream",
     "text": [
      " 80%|████████  | 80/100 [04:52<01:47,  5.39s/it]"
     ]
    },
    {
     "name": "stdout",
     "output_type": "stream",
     "text": [
      "Best Dist:  0.18157942088231221\n",
      "Average Dist:  0.54284268860863\n",
      "Best Adj Error:  20.0\n",
      "Average Adj Dist Error:  36.83\n",
      "extreme\n"
     ]
    },
    {
     "name": "stderr",
     "output_type": "stream",
     "text": [
      " 81%|████████  | 81/100 [04:57<01:43,  5.44s/it]"
     ]
    },
    {
     "name": "stdout",
     "output_type": "stream",
     "text": [
      "Best Dist:  0.18157942088231221\n",
      "Average Dist:  0.5388129359887877\n",
      "Best Adj Error:  20.0\n",
      "Average Adj Dist Error:  36.7\n",
      "extreme\n"
     ]
    },
    {
     "name": "stderr",
     "output_type": "stream",
     "text": [
      " 82%|████████▏ | 82/100 [05:02<01:32,  5.15s/it]"
     ]
    },
    {
     "name": "stdout",
     "output_type": "stream",
     "text": [
      "Best Dist:  0.18157942088231221\n",
      "Average Dist:  0.5439598680618033\n",
      "Best Adj Error:  20.0\n",
      "Average Adj Dist Error:  37.2\n",
      "extreme\n"
     ]
    },
    {
     "name": "stderr",
     "output_type": "stream",
     "text": [
      " 83%|████████▎ | 83/100 [05:08<01:30,  5.35s/it]"
     ]
    },
    {
     "name": "stdout",
     "output_type": "stream",
     "text": [
      "Best Dist:  0.18157942088231221\n",
      "Average Dist:  0.5352269389357523\n",
      "Best Adj Error:  20.0\n",
      "Average Adj Dist Error:  36.66\n",
      "extreme\n"
     ]
    },
    {
     "name": "stderr",
     "output_type": "stream",
     "text": [
      " 84%|████████▍ | 84/100 [05:29<02:40, 10.04s/it]"
     ]
    },
    {
     "name": "stdout",
     "output_type": "stream",
     "text": [
      "new injection\n",
      "Best Dist:  0.18157942088231221\n",
      "Average Dist:  0.5468648473360668\n",
      "Best Adj Error:  20.0\n",
      "Average Adj Dist Error:  37.12\n",
      "extreme\n"
     ]
    },
    {
     "name": "stderr",
     "output_type": "stream",
     "text": [
      " 85%|████████▌ | 85/100 [05:33<02:05,  8.36s/it]"
     ]
    },
    {
     "name": "stdout",
     "output_type": "stream",
     "text": [
      "Best Dist:  0.18157942088231221\n",
      "Average Dist:  0.5527913689964792\n",
      "Best Adj Error:  20.0\n",
      "Average Adj Dist Error:  36.7\n",
      "extreme\n"
     ]
    },
    {
     "name": "stderr",
     "output_type": "stream",
     "text": [
      " 86%|████████▌ | 86/100 [05:38<01:42,  7.29s/it]"
     ]
    },
    {
     "name": "stdout",
     "output_type": "stream",
     "text": [
      "Best Dist:  0.18157942088231221\n",
      "Average Dist:  0.5366424268380288\n",
      "Best Adj Error:  20.0\n",
      "Average Adj Dist Error:  37.38\n",
      "extreme\n"
     ]
    },
    {
     "name": "stderr",
     "output_type": "stream",
     "text": [
      " 87%|████████▋ | 87/100 [05:42<01:22,  6.31s/it]"
     ]
    },
    {
     "name": "stdout",
     "output_type": "stream",
     "text": [
      "Best Dist:  0.18157942088231221\n",
      "Average Dist:  0.5411313973232386\n",
      "Best Adj Error:  20.0\n",
      "Average Adj Dist Error:  37.31\n",
      "extreme\n"
     ]
    },
    {
     "name": "stderr",
     "output_type": "stream",
     "text": [
      " 88%|████████▊ | 88/100 [05:46<01:08,  5.73s/it]"
     ]
    },
    {
     "name": "stdout",
     "output_type": "stream",
     "text": [
      "Best Dist:  0.18157942088231221\n",
      "Average Dist:  0.5413951404538003\n",
      "Best Adj Error:  20.0\n",
      "Average Adj Dist Error:  37.0\n",
      "extreme\n"
     ]
    },
    {
     "name": "stderr",
     "output_type": "stream",
     "text": [
      " 89%|████████▉ | 89/100 [05:50<00:56,  5.17s/it]"
     ]
    },
    {
     "name": "stdout",
     "output_type": "stream",
     "text": [
      "new injection\n",
      "Best Dist:  0.18157942088231221\n",
      "Average Dist:  0.5546767466464944\n",
      "Best Adj Error:  20.0\n",
      "Average Adj Dist Error:  37.5\n",
      "extreme\n"
     ]
    },
    {
     "name": "stderr",
     "output_type": "stream",
     "text": [
      " 90%|█████████ | 90/100 [06:03<01:15,  7.51s/it]"
     ]
    },
    {
     "name": "stdout",
     "output_type": "stream",
     "text": [
      "Best Dist:  0.18157942088231221\n",
      "Average Dist:  0.5399962322129194\n",
      "Best Adj Error:  20.0\n",
      "Average Adj Dist Error:  37.03\n",
      "extreme\n"
     ]
    },
    {
     "name": "stderr",
     "output_type": "stream",
     "text": [
      " 91%|█████████ | 91/100 [06:09<01:02,  7.00s/it]"
     ]
    },
    {
     "name": "stdout",
     "output_type": "stream",
     "text": [
      "Best Dist:  0.18157942088231221\n",
      "Average Dist:  0.5443806645916196\n",
      "Best Adj Error:  20.0\n",
      "Average Adj Dist Error:  37.23\n",
      "extreme\n"
     ]
    },
    {
     "name": "stderr",
     "output_type": "stream",
     "text": [
      " 92%|█████████▏| 92/100 [06:14<00:50,  6.33s/it]"
     ]
    },
    {
     "name": "stdout",
     "output_type": "stream",
     "text": [
      "Best Dist:  0.18157942088231221\n",
      "Average Dist:  0.5395262721323723\n",
      "Best Adj Error:  20.0\n",
      "Average Adj Dist Error:  36.28\n",
      "extreme\n"
     ]
    },
    {
     "name": "stderr",
     "output_type": "stream",
     "text": [
      " 93%|█████████▎| 93/100 [06:18<00:39,  5.64s/it]"
     ]
    },
    {
     "name": "stdout",
     "output_type": "stream",
     "text": [
      "Best Dist:  0.18157942088231221\n",
      "Average Dist:  0.5370577560181384\n",
      "Best Adj Error:  20.0\n",
      "Average Adj Dist Error:  36.44\n",
      "extreme\n"
     ]
    },
    {
     "name": "stderr",
     "output_type": "stream",
     "text": [
      " 94%|█████████▍| 94/100 [06:22<00:30,  5.16s/it]"
     ]
    },
    {
     "name": "stdout",
     "output_type": "stream",
     "text": [
      "new injection\n",
      "Best Dist:  0.18157942088231221\n",
      "Average Dist:  0.5494055678130771\n",
      "Best Adj Error:  20.0\n",
      "Average Adj Dist Error:  37.11\n",
      "extreme\n"
     ]
    },
    {
     "name": "stderr",
     "output_type": "stream",
     "text": [
      " 95%|█████████▌| 95/100 [06:26<00:24,  4.81s/it]"
     ]
    },
    {
     "name": "stdout",
     "output_type": "stream",
     "text": [
      "Best Dist:  0.18157942088231221\n",
      "Average Dist:  0.5377703098082026\n",
      "Best Adj Error:  20.0\n",
      "Average Adj Dist Error:  37.31\n",
      "extreme\n"
     ]
    },
    {
     "name": "stderr",
     "output_type": "stream",
     "text": [
      " 96%|█████████▌| 96/100 [06:30<00:18,  4.56s/it]"
     ]
    },
    {
     "name": "stdout",
     "output_type": "stream",
     "text": [
      "Best Dist:  0.18157942088231221\n",
      "Average Dist:  0.5388663944723433\n",
      "Best Adj Error:  20.0\n",
      "Average Adj Dist Error:  37.21\n",
      "extreme\n"
     ]
    },
    {
     "name": "stderr",
     "output_type": "stream",
     "text": [
      " 97%|█████████▋| 97/100 [06:34<00:13,  4.43s/it]"
     ]
    },
    {
     "name": "stdout",
     "output_type": "stream",
     "text": [
      "Best Dist:  0.18157942088231221\n",
      "Average Dist:  0.5353088616385291\n",
      "Best Adj Error:  20.0\n",
      "Average Adj Dist Error:  36.94\n",
      "extreme\n"
     ]
    },
    {
     "name": "stderr",
     "output_type": "stream",
     "text": [
      " 98%|█████████▊| 98/100 [06:38<00:08,  4.44s/it]"
     ]
    },
    {
     "name": "stdout",
     "output_type": "stream",
     "text": [
      "Best Dist:  0.18157942088231221\n",
      "Average Dist:  0.5437873190004477\n",
      "Best Adj Error:  20.0\n",
      "Average Adj Dist Error:  37.37\n",
      "extreme\n"
     ]
    },
    {
     "name": "stderr",
     "output_type": "stream",
     "text": [
      " 99%|█████████▉| 99/100 [06:59<00:09,  9.33s/it]"
     ]
    },
    {
     "name": "stdout",
     "output_type": "stream",
     "text": [
      "new injection\n",
      "Best Dist:  0.18157942088231221\n",
      "Average Dist:  0.5567045119107796\n",
      "Best Adj Error:  20.0\n",
      "Average Adj Dist Error:  37.77\n",
      "extreme\n"
     ]
    },
    {
     "name": "stderr",
     "output_type": "stream",
     "text": [
      "100%|██████████| 100/100 [07:04<00:00,  4.25s/it]\n"
     ]
    },
    {
     "name": "stdout",
     "output_type": "stream",
     "text": [
      "No fit individual found within iteration limit\n"
     ]
    },
    {
     "name": "stderr",
     "output_type": "stream",
     "text": [
      "  0%|          | 0/100 [00:00<?, ?it/s]"
     ]
    },
    {
     "name": "stdout",
     "output_type": "stream",
     "text": [
      "Best Dist:  0.16582262288648064\n",
      "Average Dist:  0.6602824552860713\n",
      "Best Adj Error:  16.0\n",
      "Average Adj Dist Error:  25.15\n"
     ]
    },
    {
     "name": "stderr",
     "output_type": "stream",
     "text": [
      "  1%|          | 1/100 [00:03<06:22,  3.86s/it]"
     ]
    },
    {
     "name": "stdout",
     "output_type": "stream",
     "text": [
      "Best Dist:  0.0\n",
      "Average Dist:  0.5432299234362299\n",
      "Best Adj Error:  2.0\n",
      "Average Adj Dist Error:  13.6\n",
      "fit individual found\n"
     ]
    },
    {
     "name": "stderr",
     "output_type": "stream",
     "text": [
      "\n",
      "  0%|          | 0/100 [00:00<?, ?it/s]"
     ]
    },
    {
     "name": "stdout",
     "output_type": "stream",
     "text": [
      "Best Dist:  0.25412290070519156\n",
      "Average Dist:  0.6981071216605759\n",
      "Best Adj Error:  36.0\n",
      "Average Adj Dist Error:  35.15\n"
     ]
    },
    {
     "name": "stderr",
     "output_type": "stream",
     "text": [
      "  1%|          | 1/100 [00:02<04:36,  2.80s/it]"
     ]
    },
    {
     "name": "stdout",
     "output_type": "stream",
     "text": [
      "Best Dist:  0.25412290070519156\n",
      "Average Dist:  0.6393011236854994\n",
      "Best Adj Error:  36.0\n",
      "Average Adj Dist Error:  30.97\n"
     ]
    },
    {
     "name": "stderr",
     "output_type": "stream",
     "text": [
      "  2%|▏         | 2/100 [00:05<04:16,  2.62s/it]"
     ]
    },
    {
     "name": "stdout",
     "output_type": "stream",
     "text": [
      "Best Dist:  0.2540756519788344\n",
      "Average Dist:  0.5908464108005385\n",
      "Best Adj Error:  34.0\n",
      "Average Adj Dist Error:  34.64\n"
     ]
    },
    {
     "name": "stderr",
     "output_type": "stream",
     "text": [
      "  3%|▎         | 3/100 [00:07<04:01,  2.49s/it]"
     ]
    },
    {
     "name": "stdout",
     "output_type": "stream",
     "text": [
      "Best Dist:  0.25405181833455587\n",
      "Average Dist:  0.527820927460767\n",
      "Best Adj Error:  32.0\n",
      "Average Adj Dist Error:  31.65\n"
     ]
    },
    {
     "name": "stderr",
     "output_type": "stream",
     "text": [
      "  4%|▍         | 4/100 [00:10<04:05,  2.55s/it]"
     ]
    },
    {
     "name": "stdout",
     "output_type": "stream",
     "text": [
      "Best Dist:  0.23244040573799893\n",
      "Average Dist:  0.4857804043454508\n",
      "Best Adj Error:  26.0\n",
      "Average Adj Dist Error:  31.07\n"
     ]
    },
    {
     "name": "stderr",
     "output_type": "stream",
     "text": [
      "  5%|▌         | 5/100 [00:13<04:32,  2.86s/it]"
     ]
    },
    {
     "name": "stdout",
     "output_type": "stream",
     "text": [
      "Best Dist:  0.23244040573799893\n",
      "Average Dist:  0.4257806844339693\n",
      "Best Adj Error:  26.0\n",
      "Average Adj Dist Error:  31.44\n"
     ]
    },
    {
     "name": "stderr",
     "output_type": "stream",
     "text": [
      "  6%|▌         | 6/100 [00:20<06:33,  4.19s/it]"
     ]
    },
    {
     "name": "stdout",
     "output_type": "stream",
     "text": [
      "Best Dist:  0.20778599941520623\n",
      "Average Dist:  0.3010622050288275\n",
      "Best Adj Error:  16.0\n",
      "Average Adj Dist Error:  32.27\n"
     ]
    },
    {
     "name": "stderr",
     "output_type": "stream",
     "text": [
      "  7%|▋         | 7/100 [00:25<06:46,  4.37s/it]"
     ]
    },
    {
     "name": "stdout",
     "output_type": "stream",
     "text": [
      "extreme\n",
      "Best Dist:  0.20778599941520623\n",
      "Average Dist:  0.2769274679177503\n",
      "Best Adj Error:  16.0\n",
      "Average Adj Dist Error:  30.22\n"
     ]
    },
    {
     "name": "stderr",
     "output_type": "stream",
     "text": [
      "  8%|▊         | 8/100 [00:30<06:57,  4.54s/it]"
     ]
    },
    {
     "name": "stdout",
     "output_type": "stream",
     "text": [
      "extreme\n",
      "Best Dist:  0.18320012131690333\n",
      "Average Dist:  0.2628101425426881\n",
      "Best Adj Error:  26.0\n",
      "Average Adj Dist Error:  30.43\n"
     ]
    },
    {
     "name": "stderr",
     "output_type": "stream",
     "text": [
      "  9%|▉         | 9/100 [00:51<15:06,  9.96s/it]"
     ]
    },
    {
     "name": "stdout",
     "output_type": "stream",
     "text": [
      "extreme\n",
      "Best Dist:  0.16605878940392355\n",
      "Average Dist:  0.2619402533192675\n",
      "Best Adj Error:  18.0\n",
      "Average Adj Dist Error:  28.33\n"
     ]
    },
    {
     "name": "stderr",
     "output_type": "stream",
     "text": [
      " 10%|█         | 10/100 [00:58<13:24,  8.94s/it]"
     ]
    },
    {
     "name": "stdout",
     "output_type": "stream",
     "text": [
      "extreme\n",
      "Best Dist:  0.12401740731888397\n",
      "Average Dist:  0.31934497944356166\n",
      "Best Adj Error:  24.0\n",
      "Average Adj Dist Error:  28.0\n"
     ]
    },
    {
     "name": "stderr",
     "output_type": "stream",
     "text": [
      " 11%|█         | 11/100 [01:01<10:33,  7.12s/it]"
     ]
    },
    {
     "name": "stdout",
     "output_type": "stream",
     "text": [
      "extreme\n",
      "Best Dist:  0.12401740731888397\n",
      "Average Dist:  0.2391585970405039\n",
      "Best Adj Error:  24.0\n",
      "Average Adj Dist Error:  26.77\n"
     ]
    },
    {
     "name": "stderr",
     "output_type": "stream",
     "text": [
      " 12%|█▏        | 12/100 [01:04<08:40,  5.92s/it]"
     ]
    },
    {
     "name": "stdout",
     "output_type": "stream",
     "text": [
      "extreme\n",
      "Best Dist:  0.07925078421814966\n",
      "Average Dist:  0.23576753378722706\n",
      "Best Adj Error:  20.0\n",
      "Average Adj Dist Error:  25.86\n"
     ]
    },
    {
     "name": "stderr",
     "output_type": "stream",
     "text": [
      " 13%|█▎        | 13/100 [01:07<07:14,  4.99s/it]"
     ]
    },
    {
     "name": "stdout",
     "output_type": "stream",
     "text": [
      "extreme\n",
      "Best Dist:  0.07882577569845442\n",
      "Average Dist:  0.20955772292857308\n",
      "Best Adj Error:  16.0\n",
      "Average Adj Dist Error:  24.96\n"
     ]
    },
    {
     "name": "stderr",
     "output_type": "stream",
     "text": [
      " 14%|█▍        | 14/100 [01:10<06:14,  4.36s/it]"
     ]
    },
    {
     "name": "stdout",
     "output_type": "stream",
     "text": [
      "extreme\n",
      "Best Dist:  0.0662361056416107\n",
      "Average Dist:  0.1973988991873049\n",
      "Best Adj Error:  16.0\n",
      "Average Adj Dist Error:  23.35\n"
     ]
    },
    {
     "name": "stderr",
     "output_type": "stream",
     "text": [
      " 15%|█▌        | 15/100 [01:13<05:25,  3.82s/it]"
     ]
    },
    {
     "name": "stdout",
     "output_type": "stream",
     "text": [
      "extreme\n",
      "Best Dist:  0.015470590887299508\n",
      "Average Dist:  0.18151520890959041\n",
      "Best Adj Error:  12.0\n",
      "Average Adj Dist Error:  22.51\n"
     ]
    },
    {
     "name": "stderr",
     "output_type": "stream",
     "text": [
      " 16%|█▌        | 16/100 [01:15<04:43,  3.38s/it]"
     ]
    },
    {
     "name": "stdout",
     "output_type": "stream",
     "text": [
      "extreme\n",
      "Best Dist:  0.015470590887299508\n",
      "Average Dist:  0.16448862875809206\n",
      "Best Adj Error:  12.0\n",
      "Average Adj Dist Error:  21.54\n"
     ]
    },
    {
     "name": "stderr",
     "output_type": "stream",
     "text": [
      " 17%|█▋        | 17/100 [01:17<04:14,  3.07s/it]"
     ]
    },
    {
     "name": "stdout",
     "output_type": "stream",
     "text": [
      "extreme\n",
      "Best Dist:  0.015470590887299508\n",
      "Average Dist:  0.11313694925170242\n",
      "Best Adj Error:  12.0\n",
      "Average Adj Dist Error:  20.02\n"
     ]
    },
    {
     "name": "stderr",
     "output_type": "stream",
     "text": [
      " 18%|█▊        | 18/100 [01:22<04:50,  3.54s/it]"
     ]
    },
    {
     "name": "stdout",
     "output_type": "stream",
     "text": [
      "extreme\n",
      "Best Dist:  0.015470590887299508\n",
      "Average Dist:  0.18758824986326772\n",
      "Best Adj Error:  12.0\n",
      "Average Adj Dist Error:  18.86\n"
     ]
    },
    {
     "name": "stderr",
     "output_type": "stream",
     "text": [
      " 19%|█▉        | 19/100 [01:30<06:47,  5.03s/it]"
     ]
    },
    {
     "name": "stdout",
     "output_type": "stream",
     "text": [
      "extreme\n",
      "Best Dist:  0.015469838822063786\n",
      "Average Dist:  0.07758359327372945\n",
      "Best Adj Error:  16.0\n",
      "Average Adj Dist Error:  17.55\n"
     ]
    },
    {
     "name": "stderr",
     "output_type": "stream",
     "text": [
      " 20%|██        | 20/100 [01:40<08:28,  6.35s/it]"
     ]
    },
    {
     "name": "stdout",
     "output_type": "stream",
     "text": [
      "extreme\n",
      "Best Dist:  0.015469838822063786\n",
      "Average Dist:  0.06519688912386083\n",
      "Best Adj Error:  16.0\n",
      "Average Adj Dist Error:  16.85\n"
     ]
    },
    {
     "name": "stderr",
     "output_type": "stream",
     "text": [
      " 21%|██        | 21/100 [01:50<09:57,  7.57s/it]"
     ]
    },
    {
     "name": "stdout",
     "output_type": "stream",
     "text": [
      "extreme\n",
      "Best Dist:  0.012620732568053298\n",
      "Average Dist:  0.12318299313156668\n",
      "Best Adj Error:  8.0\n",
      "Average Adj Dist Error:  15.56\n"
     ]
    },
    {
     "name": "stderr",
     "output_type": "stream",
     "text": [
      " 22%|██▏       | 22/100 [02:03<11:41,  8.99s/it]"
     ]
    },
    {
     "name": "stdout",
     "output_type": "stream",
     "text": [
      "extreme\n",
      "Best Dist:  0.012620732568053298\n",
      "Average Dist:  0.06668174040540888\n",
      "Best Adj Error:  8.0\n",
      "Average Adj Dist Error:  14.4\n"
     ]
    },
    {
     "name": "stderr",
     "output_type": "stream",
     "text": [
      " 23%|██▎       | 23/100 [02:15<12:41,  9.89s/it]"
     ]
    },
    {
     "name": "stdout",
     "output_type": "stream",
     "text": [
      "extreme\n",
      "Best Dist:  0.012620732568053298\n",
      "Average Dist:  0.029666334111252846\n",
      "Best Adj Error:  8.0\n",
      "Average Adj Dist Error:  12.46\n"
     ]
    },
    {
     "name": "stderr",
     "output_type": "stream",
     "text": [
      " 24%|██▍       | 24/100 [02:26<13:15, 10.46s/it]"
     ]
    },
    {
     "name": "stdout",
     "output_type": "stream",
     "text": [
      "extreme\n",
      "Best Dist:  0.0027989254211833094\n",
      "Average Dist:  0.049527747741458746\n",
      "Best Adj Error:  6.0\n",
      "Average Adj Dist Error:  12.3\n"
     ]
    },
    {
     "name": "stderr",
     "output_type": "stream",
     "text": [
      " 25%|██▌       | 25/100 [02:37<13:11, 10.55s/it]"
     ]
    },
    {
     "name": "stdout",
     "output_type": "stream",
     "text": [
      "extreme\n",
      "Best Dist:  0.0027989254211833094\n",
      "Average Dist:  0.05828621948265813\n",
      "Best Adj Error:  6.0\n",
      "Average Adj Dist Error:  12.26\n"
     ]
    },
    {
     "name": "stderr",
     "output_type": "stream",
     "text": [
      " 26%|██▌       | 26/100 [02:48<13:11, 10.69s/it]"
     ]
    },
    {
     "name": "stdout",
     "output_type": "stream",
     "text": [
      "extreme\n",
      "Best Dist:  0.0027989254211833094\n",
      "Average Dist:  0.04493888080223763\n",
      "Best Adj Error:  6.0\n",
      "Average Adj Dist Error:  11.84\n"
     ]
    },
    {
     "name": "stderr",
     "output_type": "stream",
     "text": [
      " 27%|██▋       | 27/100 [02:57<12:28, 10.25s/it]"
     ]
    },
    {
     "name": "stdout",
     "output_type": "stream",
     "text": [
      "extreme\n",
      "Best Dist:  0.0027989254211833094\n",
      "Average Dist:  0.013551331115044753\n",
      "Best Adj Error:  6.0\n",
      "Average Adj Dist Error:  10.61\n"
     ]
    },
    {
     "name": "stderr",
     "output_type": "stream",
     "text": [
      " 28%|██▊       | 28/100 [03:07<12:04, 10.06s/it]"
     ]
    },
    {
     "name": "stdout",
     "output_type": "stream",
     "text": [
      "extreme\n",
      "Best Dist:  0.0027989254211833094\n",
      "Average Dist:  0.07768960646229664\n",
      "Best Adj Error:  6.0\n",
      "Average Adj Dist Error:  9.92\n"
     ]
    },
    {
     "name": "stderr",
     "output_type": "stream",
     "text": [
      " 29%|██▉       | 29/100 [03:16<11:34,  9.78s/it]"
     ]
    },
    {
     "name": "stdout",
     "output_type": "stream",
     "text": [
      "extreme\n",
      "Best Dist:  0.0027989254211833094\n",
      "Average Dist:  0.01444298417319661\n",
      "Best Adj Error:  6.0\n",
      "Average Adj Dist Error:  8.42\n"
     ]
    },
    {
     "name": "stderr",
     "output_type": "stream",
     "text": [
      " 30%|███       | 30/100 [03:25<11:14,  9.63s/it]"
     ]
    },
    {
     "name": "stdout",
     "output_type": "stream",
     "text": [
      "extreme\n",
      "Best Dist:  0.0027989254211833094\n",
      "Average Dist:  0.08564424547929232\n",
      "Best Adj Error:  6.0\n",
      "Average Adj Dist Error:  8.38\n"
     ]
    },
    {
     "name": "stderr",
     "output_type": "stream",
     "text": [
      " 31%|███       | 31/100 [03:34<10:48,  9.40s/it]"
     ]
    },
    {
     "name": "stdout",
     "output_type": "stream",
     "text": [
      "extreme\n",
      "Best Dist:  0.0027989254211833094\n",
      "Average Dist:  0.1803185444004033\n",
      "Best Adj Error:  6.0\n",
      "Average Adj Dist Error:  9.19\n"
     ]
    },
    {
     "name": "stderr",
     "output_type": "stream",
     "text": [
      " 32%|███▏      | 32/100 [03:44<10:37,  9.37s/it]"
     ]
    },
    {
     "name": "stdout",
     "output_type": "stream",
     "text": [
      "extreme\n",
      "Best Dist:  0.0027989254211833094\n",
      "Average Dist:  0.030491222143665\n",
      "Best Adj Error:  6.0\n",
      "Average Adj Dist Error:  7.39\n"
     ]
    },
    {
     "name": "stderr",
     "output_type": "stream",
     "text": [
      " 33%|███▎      | 33/100 [03:53<10:19,  9.24s/it]"
     ]
    },
    {
     "name": "stdout",
     "output_type": "stream",
     "text": [
      "extreme\n",
      "Best Dist:  0.0027989254211833094\n",
      "Average Dist:  0.06796635996693015\n",
      "Best Adj Error:  6.0\n",
      "Average Adj Dist Error:  6.69\n"
     ]
    },
    {
     "name": "stderr",
     "output_type": "stream",
     "text": [
      " 34%|███▍      | 34/100 [04:01<10:04,  9.16s/it]"
     ]
    },
    {
     "name": "stdout",
     "output_type": "stream",
     "text": [
      "extreme\n",
      "Best Dist:  0.0027989254211833094\n",
      "Average Dist:  0.019515778262748702\n",
      "Best Adj Error:  6.0\n",
      "Average Adj Dist Error:  6.2\n"
     ]
    },
    {
     "name": "stderr",
     "output_type": "stream",
     "text": [
      " 35%|███▌      | 35/100 [04:12<10:24,  9.60s/it]"
     ]
    },
    {
     "name": "stdout",
     "output_type": "stream",
     "text": [
      "extreme\n",
      "Best Dist:  0.0027988298103254136\n",
      "Average Dist:  0.05737410802409549\n",
      "Best Adj Error:  4.0\n",
      "Average Adj Dist Error:  6.54\n"
     ]
    },
    {
     "name": "stderr",
     "output_type": "stream",
     "text": [
      " 36%|███▌      | 36/100 [04:23<10:31,  9.86s/it]"
     ]
    },
    {
     "name": "stdout",
     "output_type": "stream",
     "text": [
      "extreme\n",
      "Best Dist:  0.0027988298103254136\n",
      "Average Dist:  0.010532777025552642\n",
      "Best Adj Error:  4.0\n",
      "Average Adj Dist Error:  6.1\n"
     ]
    },
    {
     "name": "stderr",
     "output_type": "stream",
     "text": [
      " 37%|███▋      | 37/100 [04:33<10:26,  9.95s/it]"
     ]
    },
    {
     "name": "stdout",
     "output_type": "stream",
     "text": [
      "extreme\n",
      "Best Dist:  0.0027988298103254136\n",
      "Average Dist:  0.009045480494737228\n",
      "Best Adj Error:  4.0\n",
      "Average Adj Dist Error:  6.06\n"
     ]
    },
    {
     "name": "stderr",
     "output_type": "stream",
     "text": [
      " 38%|███▊      | 38/100 [04:43<10:23, 10.06s/it]"
     ]
    },
    {
     "name": "stdout",
     "output_type": "stream",
     "text": [
      "extreme\n",
      "Best Dist:  0.0027988298103254136\n",
      "Average Dist:  0.16844398505170957\n",
      "Best Adj Error:  4.0\n",
      "Average Adj Dist Error:  8.09\n"
     ]
    },
    {
     "name": "stderr",
     "output_type": "stream",
     "text": [
      " 39%|███▉      | 39/100 [04:53<10:02,  9.88s/it]"
     ]
    },
    {
     "name": "stdout",
     "output_type": "stream",
     "text": [
      "extreme\n",
      "Best Dist:  0.0027988298103254136\n",
      "Average Dist:  0.1446114888190046\n",
      "Best Adj Error:  4.0\n",
      "Average Adj Dist Error:  8.29\n"
     ]
    },
    {
     "name": "stderr",
     "output_type": "stream",
     "text": [
      " 40%|████      | 40/100 [05:03<10:03, 10.05s/it]"
     ]
    },
    {
     "name": "stdout",
     "output_type": "stream",
     "text": [
      "extreme\n",
      "Best Dist:  0.0005969639482675995\n",
      "Average Dist:  0.10525335412793442\n",
      "Best Adj Error:  2.0\n",
      "Average Adj Dist Error:  7.11\n"
     ]
    },
    {
     "name": "stderr",
     "output_type": "stream",
     "text": [
      " 41%|████      | 41/100 [05:13<09:54, 10.08s/it]"
     ]
    },
    {
     "name": "stdout",
     "output_type": "stream",
     "text": [
      "extreme\n",
      "Best Dist:  0.0005969639482675995\n",
      "Average Dist:  0.06133973726179595\n",
      "Best Adj Error:  2.0\n",
      "Average Adj Dist Error:  6.09\n"
     ]
    },
    {
     "name": "stderr",
     "output_type": "stream",
     "text": [
      " 42%|████▏     | 42/100 [05:23<09:40, 10.01s/it]"
     ]
    },
    {
     "name": "stdout",
     "output_type": "stream",
     "text": [
      "extreme\n",
      "Best Dist:  0.0005969639482675995\n",
      "Average Dist:  0.030113345329946792\n",
      "Best Adj Error:  2.0\n",
      "Average Adj Dist Error:  5.74\n"
     ]
    },
    {
     "name": "stderr",
     "output_type": "stream",
     "text": [
      " 43%|████▎     | 43/100 [05:33<09:31, 10.02s/it]"
     ]
    },
    {
     "name": "stdout",
     "output_type": "stream",
     "text": [
      "extreme\n",
      "Best Dist:  0.0005969639482675995\n",
      "Average Dist:  0.047894121702769875\n",
      "Best Adj Error:  2.0\n",
      "Average Adj Dist Error:  5.52\n"
     ]
    },
    {
     "name": "stderr",
     "output_type": "stream",
     "text": [
      " 44%|████▍     | 44/100 [05:43<09:16,  9.94s/it]"
     ]
    },
    {
     "name": "stdout",
     "output_type": "stream",
     "text": [
      "extreme\n",
      "Best Dist:  0.0005969639482675995\n",
      "Average Dist:  0.019720839446081315\n",
      "Best Adj Error:  2.0\n",
      "Average Adj Dist Error:  4.5\n"
     ]
    },
    {
     "name": "stderr",
     "output_type": "stream",
     "text": [
      " 45%|████▌     | 45/100 [05:52<08:57,  9.78s/it]"
     ]
    },
    {
     "name": "stdout",
     "output_type": "stream",
     "text": [
      "extreme\n",
      "Best Dist:  0.0005969639482675995\n",
      "Average Dist:  0.031619972659272716\n",
      "Best Adj Error:  2.0\n",
      "Average Adj Dist Error:  4.0\n"
     ]
    },
    {
     "name": "stderr",
     "output_type": "stream",
     "text": [
      " 46%|████▌     | 46/100 [06:02<08:44,  9.72s/it]"
     ]
    },
    {
     "name": "stdout",
     "output_type": "stream",
     "text": [
      "extreme\n",
      "Best Dist:  0.0005969639482675995\n",
      "Average Dist:  0.06001001835986959\n",
      "Best Adj Error:  2.0\n",
      "Average Adj Dist Error:  4.32\n"
     ]
    },
    {
     "name": "stderr",
     "output_type": "stream",
     "text": [
      " 47%|████▋     | 47/100 [06:13<08:54, 10.09s/it]"
     ]
    },
    {
     "name": "stdout",
     "output_type": "stream",
     "text": [
      "extreme\n",
      "Best Dist:  0.0005969639482675995\n",
      "Average Dist:  0.007910583757103587\n",
      "Best Adj Error:  2.0\n",
      "Average Adj Dist Error:  3.23\n"
     ]
    },
    {
     "name": "stderr",
     "output_type": "stream",
     "text": [
      " 48%|████▊     | 48/100 [06:25<09:19, 10.77s/it]"
     ]
    },
    {
     "name": "stdout",
     "output_type": "stream",
     "text": [
      "extreme\n",
      "Best Dist:  0.0005969639482675995\n",
      "Average Dist:  0.0010348221573481466\n",
      "Best Adj Error:  2.0\n",
      "Average Adj Dist Error:  2.4\n"
     ]
    },
    {
     "name": "stderr",
     "output_type": "stream",
     "text": [
      " 49%|████▉     | 49/100 [06:37<09:28, 11.15s/it]"
     ]
    },
    {
     "name": "stdout",
     "output_type": "stream",
     "text": [
      "extreme\n"
     ]
    },
    {
     "name": "stderr",
     "output_type": "stream",
     "text": [
      " 49%|████▉     | 49/100 [06:42<06:59,  8.22s/it]"
     ]
    },
    {
     "name": "stdout",
     "output_type": "stream",
     "text": [
      "Best Dist:  0.0\n",
      "Average Dist:  0.016065166614980485\n",
      "Best Adj Error:  0.0\n",
      "Average Adj Dist Error:  2.11\n",
      "fit individual found\n"
     ]
    },
    {
     "name": "stderr",
     "output_type": "stream",
     "text": [
      "\n",
      "  0%|          | 0/100 [00:00<?, ?it/s]"
     ]
    },
    {
     "name": "stdout",
     "output_type": "stream",
     "text": [
      "Best Dist:  0.4760003305276704\n",
      "Average Dist:  0.7118660117183486\n",
      "Best Adj Error:  36.0\n",
      "Average Adj Dist Error:  44.53\n"
     ]
    },
    {
     "name": "stderr",
     "output_type": "stream",
     "text": [
      "  1%|          | 1/100 [00:15<25:36, 15.52s/it]"
     ]
    },
    {
     "name": "stdout",
     "output_type": "stream",
     "text": [
      "Best Dist:  0.37791474889812454\n",
      "Average Dist:  0.668939065252899\n",
      "Best Adj Error:  30.0\n",
      "Average Adj Dist Error:  42.91\n"
     ]
    },
    {
     "name": "stderr",
     "output_type": "stream",
     "text": [
      "  2%|▏         | 2/100 [00:27<22:23, 13.71s/it]"
     ]
    },
    {
     "name": "stdout",
     "output_type": "stream",
     "text": [
      "Best Dist:  0.34819788987167577\n",
      "Average Dist:  0.6310249728087632\n",
      "Best Adj Error:  36.0\n",
      "Average Adj Dist Error:  41.26\n"
     ]
    },
    {
     "name": "stderr",
     "output_type": "stream",
     "text": [
      "  3%|▎         | 3/100 [00:40<21:19, 13.19s/it]"
     ]
    },
    {
     "name": "stdout",
     "output_type": "stream",
     "text": [
      "Best Dist:  0.32120907641514646\n",
      "Average Dist:  0.587923192378315\n",
      "Best Adj Error:  32.0\n",
      "Average Adj Dist Error:  39.96\n"
     ]
    },
    {
     "name": "stderr",
     "output_type": "stream",
     "text": [
      "  4%|▍         | 4/100 [00:52<20:21, 12.73s/it]"
     ]
    },
    {
     "name": "stdout",
     "output_type": "stream",
     "text": [
      "Best Dist:  0.31632869404336955\n",
      "Average Dist:  0.5412650966054584\n",
      "Best Adj Error:  28.0\n",
      "Average Adj Dist Error:  38.45\n"
     ]
    },
    {
     "name": "stderr",
     "output_type": "stream",
     "text": [
      "  5%|▌         | 5/100 [01:04<19:56, 12.59s/it]"
     ]
    },
    {
     "name": "stdout",
     "output_type": "stream",
     "text": [
      "Best Dist:  0.25771100153199594\n",
      "Average Dist:  0.5162729254461946\n",
      "Best Adj Error:  26.0\n",
      "Average Adj Dist Error:  35.98\n"
     ]
    },
    {
     "name": "stderr",
     "output_type": "stream",
     "text": [
      "  6%|▌         | 6/100 [01:18<20:11, 12.89s/it]"
     ]
    },
    {
     "name": "stdout",
     "output_type": "stream",
     "text": [
      "Best Dist:  0.25771100153199594\n",
      "Average Dist:  0.4765459330378466\n",
      "Best Adj Error:  26.0\n",
      "Average Adj Dist Error:  34.68\n"
     ]
    },
    {
     "name": "stderr",
     "output_type": "stream",
     "text": [
      "  7%|▋         | 7/100 [01:32<20:36, 13.30s/it]"
     ]
    },
    {
     "name": "stdout",
     "output_type": "stream",
     "text": [
      "extreme\n",
      "Best Dist:  0.24291517435486742\n",
      "Average Dist:  0.4158988153416733\n",
      "Best Adj Error:  36.0\n",
      "Average Adj Dist Error:  32.96\n"
     ]
    },
    {
     "name": "stderr",
     "output_type": "stream",
     "text": [
      "  8%|▊         | 8/100 [01:46<20:36, 13.44s/it]"
     ]
    },
    {
     "name": "stdout",
     "output_type": "stream",
     "text": [
      "extreme\n",
      "Best Dist:  0.22364577474786318\n",
      "Average Dist:  0.3836003328674646\n",
      "Best Adj Error:  26.0\n",
      "Average Adj Dist Error:  32.7\n"
     ]
    },
    {
     "name": "stderr",
     "output_type": "stream",
     "text": [
      "  9%|▉         | 9/100 [01:59<20:14, 13.34s/it]"
     ]
    },
    {
     "name": "stdout",
     "output_type": "stream",
     "text": [
      "extreme\n",
      "Best Dist:  0.181153168768454\n",
      "Average Dist:  0.34693103648278467\n",
      "Best Adj Error:  30.0\n",
      "Average Adj Dist Error:  31.32\n"
     ]
    },
    {
     "name": "stderr",
     "output_type": "stream",
     "text": [
      " 10%|█         | 10/100 [02:12<19:45, 13.17s/it]"
     ]
    },
    {
     "name": "stdout",
     "output_type": "stream",
     "text": [
      "extreme\n",
      "Best Dist:  0.13223668337700334\n",
      "Average Dist:  0.3500546132998446\n",
      "Best Adj Error:  18.0\n",
      "Average Adj Dist Error:  30.04\n"
     ]
    },
    {
     "name": "stderr",
     "output_type": "stream",
     "text": [
      " 11%|█         | 11/100 [02:25<19:38, 13.24s/it]"
     ]
    },
    {
     "name": "stdout",
     "output_type": "stream",
     "text": [
      "extreme\n",
      "Best Dist:  0.13223668337700334\n",
      "Average Dist:  0.30664784319217214\n",
      "Best Adj Error:  18.0\n",
      "Average Adj Dist Error:  29.6\n"
     ]
    },
    {
     "name": "stderr",
     "output_type": "stream",
     "text": [
      " 12%|█▏        | 12/100 [02:37<18:59, 12.95s/it]"
     ]
    },
    {
     "name": "stdout",
     "output_type": "stream",
     "text": [
      "extreme\n",
      "Best Dist:  0.13223668337700334\n",
      "Average Dist:  0.3063078638344818\n",
      "Best Adj Error:  18.0\n",
      "Average Adj Dist Error:  29.77\n"
     ]
    },
    {
     "name": "stderr",
     "output_type": "stream",
     "text": [
      " 13%|█▎        | 13/100 [02:51<18:53, 13.03s/it]"
     ]
    },
    {
     "name": "stdout",
     "output_type": "stream",
     "text": [
      "extreme\n",
      "Best Dist:  0.13223668337700334\n",
      "Average Dist:  0.2565591320688289\n",
      "Best Adj Error:  18.0\n",
      "Average Adj Dist Error:  28.65\n"
     ]
    },
    {
     "name": "stderr",
     "output_type": "stream",
     "text": [
      " 14%|█▍        | 14/100 [03:03<18:27, 12.88s/it]"
     ]
    },
    {
     "name": "stdout",
     "output_type": "stream",
     "text": [
      "extreme\n",
      "Best Dist:  0.13223668337700334\n",
      "Average Dist:  0.247377234266462\n",
      "Best Adj Error:  18.0\n",
      "Average Adj Dist Error:  28.5\n"
     ]
    },
    {
     "name": "stderr",
     "output_type": "stream",
     "text": [
      " 15%|█▌        | 15/100 [03:16<18:04, 12.76s/it]"
     ]
    },
    {
     "name": "stdout",
     "output_type": "stream",
     "text": [
      "extreme\n",
      "Best Dist:  0.13223668337700334\n",
      "Average Dist:  0.26123883367899176\n",
      "Best Adj Error:  18.0\n",
      "Average Adj Dist Error:  28.21\n"
     ]
    },
    {
     "name": "stderr",
     "output_type": "stream",
     "text": [
      " 16%|█▌        | 16/100 [03:27<17:15, 12.33s/it]"
     ]
    },
    {
     "name": "stdout",
     "output_type": "stream",
     "text": [
      "extreme\n",
      "Best Dist:  0.13223668337700334\n",
      "Average Dist:  0.23582037812002518\n",
      "Best Adj Error:  18.0\n",
      "Average Adj Dist Error:  28.01\n"
     ]
    },
    {
     "name": "stderr",
     "output_type": "stream",
     "text": [
      " 17%|█▋        | 17/100 [03:37<16:17, 11.78s/it]"
     ]
    },
    {
     "name": "stdout",
     "output_type": "stream",
     "text": [
      "extreme\n",
      "Best Dist:  0.13223668337700334\n",
      "Average Dist:  0.21756509051247316\n",
      "Best Adj Error:  18.0\n",
      "Average Adj Dist Error:  28.31\n"
     ]
    },
    {
     "name": "stderr",
     "output_type": "stream",
     "text": [
      " 18%|█▊        | 18/100 [03:48<15:38, 11.44s/it]"
     ]
    },
    {
     "name": "stdout",
     "output_type": "stream",
     "text": [
      "extreme\n",
      "Best Dist:  0.12668172177836\n",
      "Average Dist:  0.2132376312882512\n",
      "Best Adj Error:  26.0\n",
      "Average Adj Dist Error:  27.64\n"
     ]
    },
    {
     "name": "stderr",
     "output_type": "stream",
     "text": [
      " 19%|█▉        | 19/100 [03:59<15:03, 11.15s/it]"
     ]
    },
    {
     "name": "stdout",
     "output_type": "stream",
     "text": [
      "extreme\n",
      "Best Dist:  0.12668172177836\n",
      "Average Dist:  0.17433748998626009\n",
      "Best Adj Error:  26.0\n",
      "Average Adj Dist Error:  26.29\n"
     ]
    },
    {
     "name": "stderr",
     "output_type": "stream",
     "text": [
      " 20%|██        | 20/100 [04:09<14:47, 11.09s/it]"
     ]
    },
    {
     "name": "stdout",
     "output_type": "stream",
     "text": [
      "extreme\n",
      "Best Dist:  0.11874608733099994\n",
      "Average Dist:  0.15881911980240193\n",
      "Best Adj Error:  26.0\n",
      "Average Adj Dist Error:  24.98\n"
     ]
    },
    {
     "name": "stderr",
     "output_type": "stream",
     "text": [
      " 21%|██        | 21/100 [04:20<14:32, 11.05s/it]"
     ]
    },
    {
     "name": "stdout",
     "output_type": "stream",
     "text": [
      "extreme\n",
      "Best Dist:  0.115676026008107\n",
      "Average Dist:  0.21574745040172225\n",
      "Best Adj Error:  18.0\n",
      "Average Adj Dist Error:  24.98\n"
     ]
    },
    {
     "name": "stderr",
     "output_type": "stream",
     "text": [
      " 22%|██▏       | 22/100 [04:32<14:34, 11.21s/it]"
     ]
    },
    {
     "name": "stdout",
     "output_type": "stream",
     "text": [
      "extreme\n",
      "Best Dist:  0.115676026008107\n",
      "Average Dist:  0.1494602833569291\n",
      "Best Adj Error:  18.0\n",
      "Average Adj Dist Error:  24.0\n"
     ]
    },
    {
     "name": "stderr",
     "output_type": "stream",
     "text": [
      " 23%|██▎       | 23/100 [04:42<14:04, 10.97s/it]"
     ]
    },
    {
     "name": "stdout",
     "output_type": "stream",
     "text": [
      "extreme\n",
      "Best Dist:  0.10948780606127505\n",
      "Average Dist:  0.15682423437913529\n",
      "Best Adj Error:  20.0\n",
      "Average Adj Dist Error:  23.68\n"
     ]
    },
    {
     "name": "stderr",
     "output_type": "stream",
     "text": [
      " 24%|██▍       | 24/100 [04:54<14:00, 11.06s/it]"
     ]
    },
    {
     "name": "stdout",
     "output_type": "stream",
     "text": [
      "extreme\n",
      "Best Dist:  0.10481085954790662\n",
      "Average Dist:  0.13381946423455443\n",
      "Best Adj Error:  16.0\n",
      "Average Adj Dist Error:  24.0\n"
     ]
    },
    {
     "name": "stderr",
     "output_type": "stream",
     "text": [
      " 25%|██▌       | 25/100 [05:04<13:35, 10.87s/it]"
     ]
    },
    {
     "name": "stdout",
     "output_type": "stream",
     "text": [
      "extreme\n",
      "Best Dist:  0.09978218954365999\n",
      "Average Dist:  0.24110768979668337\n",
      "Best Adj Error:  20.0\n",
      "Average Adj Dist Error:  25.6\n"
     ]
    },
    {
     "name": "stderr",
     "output_type": "stream",
     "text": [
      " 26%|██▌       | 26/100 [05:16<13:37, 11.05s/it]"
     ]
    },
    {
     "name": "stdout",
     "output_type": "stream",
     "text": [
      "extreme\n",
      "Best Dist:  0.09978218954365999\n",
      "Average Dist:  0.15301717574817342\n",
      "Best Adj Error:  20.0\n",
      "Average Adj Dist Error:  24.47\n"
     ]
    },
    {
     "name": "stderr",
     "output_type": "stream",
     "text": [
      " 27%|██▋       | 27/100 [05:26<13:23, 11.00s/it]"
     ]
    },
    {
     "name": "stdout",
     "output_type": "stream",
     "text": [
      "extreme\n",
      "Best Dist:  0.09978218954365999\n",
      "Average Dist:  0.12417521493608068\n",
      "Best Adj Error:  20.0\n",
      "Average Adj Dist Error:  23.0\n"
     ]
    },
    {
     "name": "stderr",
     "output_type": "stream",
     "text": [
      " 28%|██▊       | 28/100 [05:38<13:32, 11.29s/it]"
     ]
    },
    {
     "name": "stdout",
     "output_type": "stream",
     "text": [
      "extreme\n",
      "Best Dist:  0.09978218954365999\n",
      "Average Dist:  0.18383308750205052\n",
      "Best Adj Error:  20.0\n",
      "Average Adj Dist Error:  23.85\n"
     ]
    },
    {
     "name": "stderr",
     "output_type": "stream",
     "text": [
      " 29%|██▉       | 29/100 [05:51<13:43, 11.60s/it]"
     ]
    },
    {
     "name": "stdout",
     "output_type": "stream",
     "text": [
      "extreme\n",
      "Best Dist:  0.09978218954365999\n",
      "Average Dist:  0.2258399348066218\n",
      "Best Adj Error:  20.0\n",
      "Average Adj Dist Error:  24.35\n"
     ]
    },
    {
     "name": "stderr",
     "output_type": "stream",
     "text": [
      " 30%|███       | 30/100 [06:04<13:59, 12.00s/it]"
     ]
    },
    {
     "name": "stdout",
     "output_type": "stream",
     "text": [
      "extreme\n",
      "Best Dist:  0.09978218954365999\n",
      "Average Dist:  0.12755255774684254\n",
      "Best Adj Error:  20.0\n",
      "Average Adj Dist Error:  22.97\n"
     ]
    },
    {
     "name": "stderr",
     "output_type": "stream",
     "text": [
      " 31%|███       | 31/100 [06:16<13:47, 11.99s/it]"
     ]
    },
    {
     "name": "stdout",
     "output_type": "stream",
     "text": [
      "extreme\n",
      "Best Dist:  0.09978218954365999\n",
      "Average Dist:  0.11682837039906752\n",
      "Best Adj Error:  20.0\n",
      "Average Adj Dist Error:  21.44\n"
     ]
    },
    {
     "name": "stderr",
     "output_type": "stream",
     "text": [
      " 32%|███▏      | 32/100 [06:27<13:28, 11.89s/it]"
     ]
    },
    {
     "name": "stdout",
     "output_type": "stream",
     "text": [
      "extreme\n",
      "Best Dist:  0.09978218954365999\n",
      "Average Dist:  0.15655587851203698\n",
      "Best Adj Error:  20.0\n",
      "Average Adj Dist Error:  20.24\n"
     ]
    },
    {
     "name": "stderr",
     "output_type": "stream",
     "text": [
      " 33%|███▎      | 33/100 [06:39<13:11, 11.81s/it]"
     ]
    },
    {
     "name": "stdout",
     "output_type": "stream",
     "text": [
      "extreme\n",
      "Best Dist:  0.09978218954365999\n",
      "Average Dist:  0.14762838385261415\n",
      "Best Adj Error:  20.0\n",
      "Average Adj Dist Error:  20.5\n"
     ]
    },
    {
     "name": "stderr",
     "output_type": "stream",
     "text": [
      " 34%|███▍      | 34/100 [06:51<12:58, 11.80s/it]"
     ]
    },
    {
     "name": "stdout",
     "output_type": "stream",
     "text": [
      "extreme\n",
      "Best Dist:  0.09978218954365999\n",
      "Average Dist:  0.1431932133066543\n",
      "Best Adj Error:  20.0\n",
      "Average Adj Dist Error:  19.63\n"
     ]
    },
    {
     "name": "stderr",
     "output_type": "stream",
     "text": [
      " 35%|███▌      | 35/100 [07:03<12:54, 11.91s/it]"
     ]
    },
    {
     "name": "stdout",
     "output_type": "stream",
     "text": [
      "extreme\n",
      "Best Dist:  0.09978218954365999\n",
      "Average Dist:  0.14072604466995067\n",
      "Best Adj Error:  20.0\n",
      "Average Adj Dist Error:  20.39\n"
     ]
    },
    {
     "name": "stderr",
     "output_type": "stream",
     "text": [
      " 36%|███▌      | 36/100 [07:15<12:52, 12.07s/it]"
     ]
    },
    {
     "name": "stdout",
     "output_type": "stream",
     "text": [
      "extreme\n",
      "Best Dist:  0.09978218954365999\n",
      "Average Dist:  0.14617152969704597\n",
      "Best Adj Error:  20.0\n",
      "Average Adj Dist Error:  20.33\n"
     ]
    },
    {
     "name": "stderr",
     "output_type": "stream",
     "text": [
      " 37%|███▋      | 37/100 [07:27<12:23, 11.81s/it]"
     ]
    },
    {
     "name": "stdout",
     "output_type": "stream",
     "text": [
      "extreme\n",
      "Best Dist:  0.09978218954365999\n",
      "Average Dist:  0.11458416278018448\n",
      "Best Adj Error:  20.0\n",
      "Average Adj Dist Error:  20.07\n"
     ]
    },
    {
     "name": "stderr",
     "output_type": "stream",
     "text": [
      " 38%|███▊      | 38/100 [07:38<12:13, 11.84s/it]"
     ]
    },
    {
     "name": "stdout",
     "output_type": "stream",
     "text": [
      "extreme\n",
      "Best Dist:  0.09978218954365999\n",
      "Average Dist:  0.1058543607145111\n",
      "Best Adj Error:  20.0\n",
      "Average Adj Dist Error:  20.03\n",
      "extreme\n"
     ]
    },
    {
     "name": "stderr",
     "output_type": "stream",
     "text": [
      " 39%|███▉      | 39/100 [07:56<13:45, 13.53s/it]"
     ]
    },
    {
     "name": "stdout",
     "output_type": "stream",
     "text": [
      "Best Dist:  0.09978218954365999\n",
      "Average Dist:  0.5490002216214518\n",
      "Best Adj Error:  20.0\n",
      "Average Adj Dist Error:  37.05\n",
      "extreme\n"
     ]
    },
    {
     "name": "stderr",
     "output_type": "stream",
     "text": [
      " 40%|████      | 40/100 [08:14<15:00, 15.01s/it]"
     ]
    },
    {
     "name": "stdout",
     "output_type": "stream",
     "text": [
      "Best Dist:  0.09978218954365999\n",
      "Average Dist:  0.5632834241399843\n",
      "Best Adj Error:  20.0\n",
      "Average Adj Dist Error:  36.25\n",
      "extreme\n"
     ]
    },
    {
     "name": "stderr",
     "output_type": "stream",
     "text": [
      " 41%|████      | 41/100 [08:33<15:52, 16.14s/it]"
     ]
    },
    {
     "name": "stdout",
     "output_type": "stream",
     "text": [
      "Best Dist:  0.09978218954365999\n",
      "Average Dist:  0.5446237982636238\n",
      "Best Adj Error:  20.0\n",
      "Average Adj Dist Error:  36.43\n",
      "extreme\n"
     ]
    },
    {
     "name": "stderr",
     "output_type": "stream",
     "text": [
      " 42%|████▏     | 42/100 [08:52<16:25, 16.99s/it]"
     ]
    },
    {
     "name": "stdout",
     "output_type": "stream",
     "text": [
      "new injection\n",
      "Best Dist:  0.09978218954365999\n",
      "Average Dist:  0.5588752551236456\n",
      "Best Adj Error:  20.0\n",
      "Average Adj Dist Error:  37.68\n",
      "extreme\n"
     ]
    },
    {
     "name": "stderr",
     "output_type": "stream",
     "text": [
      " 43%|████▎     | 43/100 [09:11<16:39, 17.53s/it]"
     ]
    },
    {
     "name": "stdout",
     "output_type": "stream",
     "text": [
      "Best Dist:  0.09978218954365999\n",
      "Average Dist:  0.5521947652305677\n",
      "Best Adj Error:  20.0\n",
      "Average Adj Dist Error:  37.53\n",
      "extreme\n"
     ]
    },
    {
     "name": "stderr",
     "output_type": "stream",
     "text": [
      " 44%|████▍     | 44/100 [09:29<16:38, 17.83s/it]"
     ]
    },
    {
     "name": "stdout",
     "output_type": "stream",
     "text": [
      "Best Dist:  0.09978218954365999\n",
      "Average Dist:  0.5538951087043718\n",
      "Best Adj Error:  20.0\n",
      "Average Adj Dist Error:  36.3\n",
      "extreme\n"
     ]
    },
    {
     "name": "stderr",
     "output_type": "stream",
     "text": [
      " 45%|████▌     | 45/100 [09:49<16:45, 18.28s/it]"
     ]
    },
    {
     "name": "stdout",
     "output_type": "stream",
     "text": [
      "Best Dist:  0.09978218954365999\n",
      "Average Dist:  0.5569267819568227\n",
      "Best Adj Error:  20.0\n",
      "Average Adj Dist Error:  37.03\n",
      "extreme\n"
     ]
    },
    {
     "name": "stderr",
     "output_type": "stream",
     "text": [
      " 46%|████▌     | 46/100 [10:08<16:48, 18.67s/it]"
     ]
    },
    {
     "name": "stdout",
     "output_type": "stream",
     "text": [
      "Best Dist:  0.09978218954365999\n",
      "Average Dist:  0.5598214223891722\n",
      "Best Adj Error:  20.0\n",
      "Average Adj Dist Error:  37.16\n",
      "extreme\n"
     ]
    },
    {
     "name": "stderr",
     "output_type": "stream",
     "text": [
      " 47%|████▋     | 47/100 [10:26<16:17, 18.44s/it]"
     ]
    },
    {
     "name": "stdout",
     "output_type": "stream",
     "text": [
      "new injection\n",
      "Best Dist:  0.09978218954365999\n",
      "Average Dist:  0.5626985904988389\n",
      "Best Adj Error:  20.0\n",
      "Average Adj Dist Error:  36.96\n",
      "extreme\n"
     ]
    },
    {
     "name": "stderr",
     "output_type": "stream",
     "text": [
      " 48%|████▊     | 48/100 [10:46<16:17, 18.79s/it]"
     ]
    },
    {
     "name": "stdout",
     "output_type": "stream",
     "text": [
      "Best Dist:  0.09978218954365999\n",
      "Average Dist:  0.5420159348723174\n",
      "Best Adj Error:  20.0\n",
      "Average Adj Dist Error:  36.0\n",
      "extreme\n"
     ]
    },
    {
     "name": "stderr",
     "output_type": "stream",
     "text": [
      " 49%|████▉     | 49/100 [11:05<16:02, 18.87s/it]"
     ]
    },
    {
     "name": "stdout",
     "output_type": "stream",
     "text": [
      "Best Dist:  0.09978218954365999\n",
      "Average Dist:  0.550966086745934\n",
      "Best Adj Error:  20.0\n",
      "Average Adj Dist Error:  36.53\n",
      "extreme\n"
     ]
    },
    {
     "name": "stderr",
     "output_type": "stream",
     "text": [
      " 50%|█████     | 50/100 [11:25<16:01, 19.23s/it]"
     ]
    },
    {
     "name": "stdout",
     "output_type": "stream",
     "text": [
      "Best Dist:  0.09978218954365999\n",
      "Average Dist:  0.5553464774129803\n",
      "Best Adj Error:  20.0\n",
      "Average Adj Dist Error:  36.57\n",
      "extreme\n"
     ]
    },
    {
     "name": "stderr",
     "output_type": "stream",
     "text": [
      " 51%|█████     | 51/100 [11:46<16:01, 19.62s/it]"
     ]
    },
    {
     "name": "stdout",
     "output_type": "stream",
     "text": [
      "Best Dist:  0.09978218954365999\n",
      "Average Dist:  0.5568523963510457\n",
      "Best Adj Error:  20.0\n",
      "Average Adj Dist Error:  37.94\n",
      "extreme\n"
     ]
    },
    {
     "name": "stderr",
     "output_type": "stream",
     "text": [
      " 52%|█████▏    | 52/100 [12:06<15:57, 19.95s/it]"
     ]
    },
    {
     "name": "stdout",
     "output_type": "stream",
     "text": [
      "new injection\n",
      "Best Dist:  0.09978218954365999\n",
      "Average Dist:  0.559834757435928\n",
      "Best Adj Error:  20.0\n",
      "Average Adj Dist Error:  37.15\n",
      "extreme\n"
     ]
    },
    {
     "name": "stderr",
     "output_type": "stream",
     "text": [
      " 53%|█████▎    | 53/100 [12:28<16:02, 20.48s/it]"
     ]
    },
    {
     "name": "stdout",
     "output_type": "stream",
     "text": [
      "Best Dist:  0.09978218954365999\n",
      "Average Dist:  0.5588865604852291\n",
      "Best Adj Error:  20.0\n",
      "Average Adj Dist Error:  37.05\n",
      "extreme\n"
     ]
    },
    {
     "name": "stderr",
     "output_type": "stream",
     "text": [
      " 54%|█████▍    | 54/100 [12:48<15:40, 20.44s/it]"
     ]
    },
    {
     "name": "stdout",
     "output_type": "stream",
     "text": [
      "Best Dist:  0.09978218954365999\n",
      "Average Dist:  0.5567012062898858\n",
      "Best Adj Error:  20.0\n",
      "Average Adj Dist Error:  37.53\n",
      "extreme\n"
     ]
    },
    {
     "name": "stderr",
     "output_type": "stream",
     "text": [
      " 55%|█████▌    | 55/100 [13:08<15:13, 20.31s/it]"
     ]
    },
    {
     "name": "stdout",
     "output_type": "stream",
     "text": [
      "Best Dist:  0.09978218954365999\n",
      "Average Dist:  0.5509958959095002\n",
      "Best Adj Error:  20.0\n",
      "Average Adj Dist Error:  36.66\n",
      "extreme\n"
     ]
    },
    {
     "name": "stderr",
     "output_type": "stream",
     "text": [
      " 56%|█████▌    | 56/100 [13:28<14:49, 20.22s/it]"
     ]
    },
    {
     "name": "stdout",
     "output_type": "stream",
     "text": [
      "Best Dist:  0.09978218954365999\n",
      "Average Dist:  0.5556368556280773\n",
      "Best Adj Error:  20.0\n",
      "Average Adj Dist Error:  37.7\n",
      "extreme\n"
     ]
    },
    {
     "name": "stderr",
     "output_type": "stream",
     "text": [
      " 57%|█████▋    | 57/100 [13:47<14:14, 19.88s/it]"
     ]
    },
    {
     "name": "stdout",
     "output_type": "stream",
     "text": [
      "new injection\n",
      "Best Dist:  0.09978218954365999\n",
      "Average Dist:  0.5605694375581245\n",
      "Best Adj Error:  20.0\n",
      "Average Adj Dist Error:  37.44\n",
      "extreme\n"
     ]
    },
    {
     "name": "stderr",
     "output_type": "stream",
     "text": [
      " 58%|█████▊    | 58/100 [14:06<13:33, 19.37s/it]"
     ]
    },
    {
     "name": "stdout",
     "output_type": "stream",
     "text": [
      "Best Dist:  0.09978218954365999\n",
      "Average Dist:  0.5549477685786907\n",
      "Best Adj Error:  20.0\n",
      "Average Adj Dist Error:  36.43\n",
      "extreme\n"
     ]
    },
    {
     "name": "stderr",
     "output_type": "stream",
     "text": [
      " 59%|█████▉    | 59/100 [14:25<13:09, 19.26s/it]"
     ]
    },
    {
     "name": "stdout",
     "output_type": "stream",
     "text": [
      "Best Dist:  0.09978218954365999\n",
      "Average Dist:  0.5577701511171285\n",
      "Best Adj Error:  20.0\n",
      "Average Adj Dist Error:  37.67\n",
      "extreme\n"
     ]
    },
    {
     "name": "stderr",
     "output_type": "stream",
     "text": [
      " 60%|██████    | 60/100 [14:43<12:39, 18.98s/it]"
     ]
    },
    {
     "name": "stdout",
     "output_type": "stream",
     "text": [
      "Best Dist:  0.09978218954365999\n",
      "Average Dist:  0.5622414498547796\n",
      "Best Adj Error:  20.0\n",
      "Average Adj Dist Error:  37.23\n",
      "extreme\n"
     ]
    },
    {
     "name": "stderr",
     "output_type": "stream",
     "text": [
      " 61%|██████    | 61/100 [16:23<28:11, 43.37s/it]"
     ]
    },
    {
     "name": "stdout",
     "output_type": "stream",
     "text": [
      "Best Dist:  0.09978218954365999\n",
      "Average Dist:  0.5563568304831367\n",
      "Best Adj Error:  20.0\n",
      "Average Adj Dist Error:  37.32\n",
      "extreme\n"
     ]
    },
    {
     "name": "stderr",
     "output_type": "stream",
     "text": [
      " 62%|██████▏   | 62/100 [17:35<32:53, 51.93s/it]"
     ]
    },
    {
     "name": "stdout",
     "output_type": "stream",
     "text": [
      "new injection\n",
      "Best Dist:  0.09978218954365999\n",
      "Average Dist:  0.5649718555573008\n",
      "Best Adj Error:  20.0\n",
      "Average Adj Dist Error:  37.87\n",
      "extreme\n"
     ]
    },
    {
     "name": "stderr",
     "output_type": "stream",
     "text": [
      " 63%|██████▎   | 63/100 [19:05<39:01, 63.29s/it]"
     ]
    },
    {
     "name": "stdout",
     "output_type": "stream",
     "text": [
      "Best Dist:  0.09978218954365999\n",
      "Average Dist:  0.5532800183937967\n",
      "Best Adj Error:  20.0\n",
      "Average Adj Dist Error:  37.28\n",
      "extreme\n"
     ]
    },
    {
     "name": "stderr",
     "output_type": "stream",
     "text": [
      " 64%|██████▍   | 64/100 [19:19<29:03, 48.42s/it]"
     ]
    },
    {
     "name": "stdout",
     "output_type": "stream",
     "text": [
      "Best Dist:  0.09978218954365999\n",
      "Average Dist:  0.5545327131275464\n",
      "Best Adj Error:  20.0\n",
      "Average Adj Dist Error:  36.36\n",
      "extreme\n"
     ]
    },
    {
     "name": "stderr",
     "output_type": "stream",
     "text": [
      " 65%|██████▌   | 65/100 [19:29<21:31, 36.91s/it]"
     ]
    },
    {
     "name": "stdout",
     "output_type": "stream",
     "text": [
      "Best Dist:  0.09978218954365999\n",
      "Average Dist:  0.5524079250773138\n",
      "Best Adj Error:  20.0\n",
      "Average Adj Dist Error:  36.44\n",
      "extreme\n"
     ]
    },
    {
     "name": "stderr",
     "output_type": "stream",
     "text": [
      " 66%|██████▌   | 66/100 [19:38<16:17, 28.74s/it]"
     ]
    },
    {
     "name": "stdout",
     "output_type": "stream",
     "text": [
      "Best Dist:  0.09978218954365999\n",
      "Average Dist:  0.5542279944029512\n",
      "Best Adj Error:  20.0\n",
      "Average Adj Dist Error:  36.79\n",
      "extreme\n"
     ]
    },
    {
     "name": "stderr",
     "output_type": "stream",
     "text": [
      " 67%|██████▋   | 67/100 [19:49<12:46, 23.24s/it]"
     ]
    },
    {
     "name": "stdout",
     "output_type": "stream",
     "text": [
      "new injection\n",
      "Best Dist:  0.09978218954365999\n",
      "Average Dist:  0.563360623067003\n",
      "Best Adj Error:  20.0\n",
      "Average Adj Dist Error:  37.77\n",
      "extreme\n"
     ]
    },
    {
     "name": "stderr",
     "output_type": "stream",
     "text": [
      " 68%|██████▊   | 68/100 [19:58<10:12, 19.14s/it]"
     ]
    },
    {
     "name": "stdout",
     "output_type": "stream",
     "text": [
      "Best Dist:  0.09978218954365999\n",
      "Average Dist:  0.5499567393564254\n",
      "Best Adj Error:  20.0\n",
      "Average Adj Dist Error:  36.45\n",
      "extreme\n"
     ]
    },
    {
     "name": "stderr",
     "output_type": "stream",
     "text": [
      " 69%|██████▉   | 69/100 [20:08<08:21, 16.19s/it]"
     ]
    },
    {
     "name": "stdout",
     "output_type": "stream",
     "text": [
      "Best Dist:  0.09978218954365999\n",
      "Average Dist:  0.5531898072468937\n",
      "Best Adj Error:  20.0\n",
      "Average Adj Dist Error:  36.44\n",
      "extreme\n"
     ]
    },
    {
     "name": "stderr",
     "output_type": "stream",
     "text": [
      " 70%|███████   | 70/100 [20:17<07:07, 14.26s/it]"
     ]
    },
    {
     "name": "stdout",
     "output_type": "stream",
     "text": [
      "Best Dist:  0.09978218954365999\n",
      "Average Dist:  0.5620974341630516\n",
      "Best Adj Error:  20.0\n",
      "Average Adj Dist Error:  37.49\n",
      "extreme\n"
     ]
    },
    {
     "name": "stderr",
     "output_type": "stream",
     "text": [
      " 71%|███████   | 71/100 [20:28<06:17, 13.01s/it]"
     ]
    },
    {
     "name": "stdout",
     "output_type": "stream",
     "text": [
      "Best Dist:  0.09978218954365999\n",
      "Average Dist:  0.5522188228649694\n",
      "Best Adj Error:  20.0\n",
      "Average Adj Dist Error:  37.2\n",
      "extreme\n"
     ]
    },
    {
     "name": "stderr",
     "output_type": "stream",
     "text": [
      " 72%|███████▏  | 72/100 [20:38<05:41, 12.20s/it]"
     ]
    },
    {
     "name": "stdout",
     "output_type": "stream",
     "text": [
      "new injection\n",
      "Best Dist:  0.09978218954365999\n",
      "Average Dist:  0.553572919507271\n",
      "Best Adj Error:  20.0\n",
      "Average Adj Dist Error:  37.72\n",
      "extreme\n"
     ]
    },
    {
     "name": "stderr",
     "output_type": "stream",
     "text": [
      " 73%|███████▎  | 73/100 [20:48<05:10, 11.49s/it]"
     ]
    },
    {
     "name": "stdout",
     "output_type": "stream",
     "text": [
      "Best Dist:  0.09978218954365999\n",
      "Average Dist:  0.5594156417740515\n",
      "Best Adj Error:  20.0\n",
      "Average Adj Dist Error:  36.39\n",
      "extreme\n"
     ]
    },
    {
     "name": "stderr",
     "output_type": "stream",
     "text": [
      " 74%|███████▍  | 74/100 [20:58<04:47, 11.05s/it]"
     ]
    },
    {
     "name": "stdout",
     "output_type": "stream",
     "text": [
      "Best Dist:  0.09978218954365999\n",
      "Average Dist:  0.5535236347460191\n",
      "Best Adj Error:  20.0\n",
      "Average Adj Dist Error:  37.62\n",
      "extreme\n"
     ]
    },
    {
     "name": "stderr",
     "output_type": "stream",
     "text": [
      " 75%|███████▌  | 75/100 [21:08<04:28, 10.74s/it]"
     ]
    },
    {
     "name": "stdout",
     "output_type": "stream",
     "text": [
      "Best Dist:  0.09978218954365999\n",
      "Average Dist:  0.5590146037473914\n",
      "Best Adj Error:  20.0\n",
      "Average Adj Dist Error:  36.73\n",
      "extreme\n"
     ]
    },
    {
     "name": "stderr",
     "output_type": "stream",
     "text": [
      " 76%|███████▌  | 76/100 [21:17<04:10, 10.43s/it]"
     ]
    },
    {
     "name": "stdout",
     "output_type": "stream",
     "text": [
      "Best Dist:  0.09978218954365999\n",
      "Average Dist:  0.553829429372686\n",
      "Best Adj Error:  20.0\n",
      "Average Adj Dist Error:  37.2\n",
      "extreme\n"
     ]
    },
    {
     "name": "stderr",
     "output_type": "stream",
     "text": [
      " 77%|███████▋  | 77/100 [21:27<03:53, 10.13s/it]"
     ]
    },
    {
     "name": "stdout",
     "output_type": "stream",
     "text": [
      "new injection\n",
      "Best Dist:  0.09978218954365999\n",
      "Average Dist:  0.5678108868729688\n",
      "Best Adj Error:  20.0\n",
      "Average Adj Dist Error:  37.71\n",
      "extreme\n"
     ]
    },
    {
     "name": "stderr",
     "output_type": "stream",
     "text": [
      " 78%|███████▊  | 78/100 [21:37<03:41, 10.07s/it]"
     ]
    },
    {
     "name": "stdout",
     "output_type": "stream",
     "text": [
      "Best Dist:  0.09978218954365999\n",
      "Average Dist:  0.5453657601986034\n",
      "Best Adj Error:  20.0\n",
      "Average Adj Dist Error:  36.44\n",
      "extreme\n"
     ]
    },
    {
     "name": "stderr",
     "output_type": "stream",
     "text": [
      " 79%|███████▉  | 79/100 [21:46<03:29,  9.96s/it]"
     ]
    },
    {
     "name": "stdout",
     "output_type": "stream",
     "text": [
      "Best Dist:  0.09978218954365999\n",
      "Average Dist:  0.5481973124503502\n",
      "Best Adj Error:  20.0\n",
      "Average Adj Dist Error:  36.68\n",
      "extreme\n"
     ]
    },
    {
     "name": "stderr",
     "output_type": "stream",
     "text": [
      " 80%|████████  | 80/100 [21:57<03:19,  9.99s/it]"
     ]
    },
    {
     "name": "stdout",
     "output_type": "stream",
     "text": [
      "Best Dist:  0.09978218954365999\n",
      "Average Dist:  0.554537736013126\n",
      "Best Adj Error:  24.0\n",
      "Average Adj Dist Error:  37.34\n"
     ]
    },
    {
     "name": "stderr",
     "output_type": "stream",
     "text": [
      " 81%|████████  | 81/100 [22:03<02:47,  8.82s/it]"
     ]
    },
    {
     "name": "stdout",
     "output_type": "stream",
     "text": [
      "extreme\n",
      "Best Dist:  0.09978218954365999\n",
      "Average Dist:  0.38039256257742887\n",
      "Best Adj Error:  24.0\n",
      "Average Adj Dist Error:  30.05\n"
     ]
    },
    {
     "name": "stderr",
     "output_type": "stream",
     "text": [
      " 82%|████████▏ | 82/100 [22:08<02:21,  7.87s/it]"
     ]
    },
    {
     "name": "stdout",
     "output_type": "stream",
     "text": [
      "extreme\n",
      "Best Dist:  0.0923415185037351\n",
      "Average Dist:  0.15021235535130562\n",
      "Best Adj Error:  24.0\n",
      "Average Adj Dist Error:  20.81\n"
     ]
    },
    {
     "name": "stderr",
     "output_type": "stream",
     "text": [
      " 83%|████████▎ | 83/100 [22:14<02:05,  7.35s/it]"
     ]
    },
    {
     "name": "stdout",
     "output_type": "stream",
     "text": [
      "extreme\n",
      "Best Dist:  0.0923415185037351\n",
      "Average Dist:  0.2261219807479507\n",
      "Best Adj Error:  24.0\n",
      "Average Adj Dist Error:  21.32\n"
     ]
    },
    {
     "name": "stderr",
     "output_type": "stream",
     "text": [
      " 84%|████████▍ | 84/100 [22:20<01:50,  6.91s/it]"
     ]
    },
    {
     "name": "stdout",
     "output_type": "stream",
     "text": [
      "extreme\n",
      "Best Dist:  0.0923415185037351\n",
      "Average Dist:  0.11643421587599483\n",
      "Best Adj Error:  24.0\n",
      "Average Adj Dist Error:  20.37\n"
     ]
    },
    {
     "name": "stderr",
     "output_type": "stream",
     "text": [
      " 85%|████████▌ | 85/100 [22:27<01:41,  6.75s/it]"
     ]
    },
    {
     "name": "stdout",
     "output_type": "stream",
     "text": [
      "extreme\n",
      "Best Dist:  0.0923415185037351\n",
      "Average Dist:  0.10581315831678531\n",
      "Best Adj Error:  24.0\n",
      "Average Adj Dist Error:  20.22\n"
     ]
    },
    {
     "name": "stderr",
     "output_type": "stream",
     "text": [
      " 86%|████████▌ | 86/100 [22:33<01:32,  6.58s/it]"
     ]
    },
    {
     "name": "stdout",
     "output_type": "stream",
     "text": [
      "extreme\n",
      "Best Dist:  0.0923415185037351\n",
      "Average Dist:  0.09938482806979598\n",
      "Best Adj Error:  24.0\n",
      "Average Adj Dist Error:  20.37\n"
     ]
    },
    {
     "name": "stderr",
     "output_type": "stream",
     "text": [
      " 87%|████████▋ | 87/100 [22:39<01:23,  6.43s/it]"
     ]
    },
    {
     "name": "stdout",
     "output_type": "stream",
     "text": [
      "extreme\n",
      "Best Dist:  0.0923415185037351\n",
      "Average Dist:  0.1077144826639817\n",
      "Best Adj Error:  24.0\n",
      "Average Adj Dist Error:  20.74\n"
     ]
    },
    {
     "name": "stderr",
     "output_type": "stream",
     "text": [
      " 88%|████████▊ | 88/100 [22:45<01:16,  6.34s/it]"
     ]
    },
    {
     "name": "stdout",
     "output_type": "stream",
     "text": [
      "extreme\n",
      "Best Dist:  0.0923415185037351\n",
      "Average Dist:  0.11115068793970515\n",
      "Best Adj Error:  24.0\n",
      "Average Adj Dist Error:  21.35\n"
     ]
    },
    {
     "name": "stderr",
     "output_type": "stream",
     "text": [
      " 89%|████████▉ | 89/100 [22:51<01:09,  6.28s/it]"
     ]
    },
    {
     "name": "stdout",
     "output_type": "stream",
     "text": [
      "extreme\n",
      "Best Dist:  0.0923415185037351\n",
      "Average Dist:  0.13967784396935407\n",
      "Best Adj Error:  24.0\n",
      "Average Adj Dist Error:  22.64\n"
     ]
    },
    {
     "name": "stderr",
     "output_type": "stream",
     "text": [
      " 90%|█████████ | 90/100 [22:57<01:02,  6.26s/it]"
     ]
    },
    {
     "name": "stdout",
     "output_type": "stream",
     "text": [
      "extreme\n",
      "Best Dist:  0.0923415185037351\n",
      "Average Dist:  0.1192784019124683\n",
      "Best Adj Error:  24.0\n",
      "Average Adj Dist Error:  24.01\n"
     ]
    },
    {
     "name": "stderr",
     "output_type": "stream",
     "text": [
      " 91%|█████████ | 91/100 [23:03<00:55,  6.20s/it]"
     ]
    },
    {
     "name": "stdout",
     "output_type": "stream",
     "text": [
      "extreme\n",
      "Best Dist:  0.0923415185037351\n",
      "Average Dist:  0.11839282418687404\n",
      "Best Adj Error:  24.0\n",
      "Average Adj Dist Error:  24.13\n"
     ]
    },
    {
     "name": "stderr",
     "output_type": "stream",
     "text": [
      " 92%|█████████▏| 92/100 [23:10<00:49,  6.22s/it]"
     ]
    },
    {
     "name": "stdout",
     "output_type": "stream",
     "text": [
      "extreme\n",
      "Best Dist:  0.0923415185037351\n",
      "Average Dist:  0.11280227706130506\n",
      "Best Adj Error:  24.0\n",
      "Average Adj Dist Error:  24.11\n"
     ]
    },
    {
     "name": "stderr",
     "output_type": "stream",
     "text": [
      " 93%|█████████▎| 93/100 [23:16<00:42,  6.13s/it]"
     ]
    },
    {
     "name": "stdout",
     "output_type": "stream",
     "text": [
      "extreme\n",
      "Best Dist:  0.0923415185037351\n",
      "Average Dist:  0.1042202053072771\n",
      "Best Adj Error:  24.0\n",
      "Average Adj Dist Error:  24.01\n",
      "extreme\n"
     ]
    },
    {
     "name": "stderr",
     "output_type": "stream",
     "text": [
      " 94%|█████████▍| 94/100 [23:25<00:43,  7.18s/it]"
     ]
    },
    {
     "name": "stdout",
     "output_type": "stream",
     "text": [
      "Best Dist:  0.0923415185037351\n",
      "Average Dist:  0.5434347645262578\n",
      "Best Adj Error:  24.0\n",
      "Average Adj Dist Error:  37.76\n",
      "extreme\n"
     ]
    },
    {
     "name": "stderr",
     "output_type": "stream",
     "text": [
      " 95%|█████████▌| 95/100 [23:35<00:39,  7.88s/it]"
     ]
    },
    {
     "name": "stdout",
     "output_type": "stream",
     "text": [
      "new injection\n",
      "Best Dist:  0.0923415185037351\n",
      "Average Dist:  0.5690928969912251\n",
      "Best Adj Error:  24.0\n",
      "Average Adj Dist Error:  38.76\n"
     ]
    },
    {
     "name": "stderr",
     "output_type": "stream",
     "text": [
      " 96%|█████████▌| 96/100 [23:41<00:29,  7.31s/it]"
     ]
    },
    {
     "name": "stdout",
     "output_type": "stream",
     "text": [
      "extreme\n",
      "Best Dist:  0.0923415185037351\n",
      "Average Dist:  0.3715079156587203\n",
      "Best Adj Error:  24.0\n",
      "Average Adj Dist Error:  32.2\n"
     ]
    },
    {
     "name": "stderr",
     "output_type": "stream",
     "text": [
      " 97%|█████████▋| 97/100 [23:47<00:20,  6.95s/it]"
     ]
    },
    {
     "name": "stdout",
     "output_type": "stream",
     "text": [
      "extreme\n",
      "Best Dist:  0.0923415185037351\n",
      "Average Dist:  0.1618142745915633\n",
      "Best Adj Error:  24.0\n",
      "Average Adj Dist Error:  24.52\n"
     ]
    },
    {
     "name": "stderr",
     "output_type": "stream",
     "text": [
      " 98%|█████████▊| 98/100 [23:53<00:13,  6.73s/it]"
     ]
    },
    {
     "name": "stdout",
     "output_type": "stream",
     "text": [
      "extreme\n",
      "Best Dist:  0.0923415185037351\n",
      "Average Dist:  0.09883527102599009\n",
      "Best Adj Error:  24.0\n",
      "Average Adj Dist Error:  24.05\n"
     ]
    },
    {
     "name": "stderr",
     "output_type": "stream",
     "text": [
      " 99%|█████████▉| 99/100 [23:59<00:06,  6.57s/it]"
     ]
    },
    {
     "name": "stdout",
     "output_type": "stream",
     "text": [
      "extreme\n",
      "Best Dist:  0.06895691823189236\n",
      "Average Dist:  0.1398614855589984\n",
      "Best Adj Error:  24.0\n",
      "Average Adj Dist Error:  24.38\n"
     ]
    },
    {
     "name": "stderr",
     "output_type": "stream",
     "text": [
      "100%|██████████| 100/100 [24:05<00:00, 14.46s/it]"
     ]
    },
    {
     "name": "stdout",
     "output_type": "stream",
     "text": [
      "extreme\n",
      "No fit individual found within iteration limit\n"
     ]
    },
    {
     "name": "stderr",
     "output_type": "stream",
     "text": [
      "\n",
      "  0%|          | 0/100 [00:00<?, ?it/s]"
     ]
    },
    {
     "name": "stdout",
     "output_type": "stream",
     "text": [
      "Best Dist:  0.4848246787097483\n",
      "Average Dist:  0.7075304053279978\n",
      "Best Adj Error:  30.0\n",
      "Average Adj Dist Error:  46.22\n"
     ]
    },
    {
     "name": "stderr",
     "output_type": "stream",
     "text": [
      "  1%|          | 1/100 [00:07<12:08,  7.35s/it]"
     ]
    },
    {
     "name": "stdout",
     "output_type": "stream",
     "text": [
      "Best Dist:  0.3768791100784839\n",
      "Average Dist:  0.6603568285774349\n",
      "Best Adj Error:  44.0\n",
      "Average Adj Dist Error:  42.02\n"
     ]
    },
    {
     "name": "stderr",
     "output_type": "stream",
     "text": [
      "  2%|▏         | 2/100 [00:13<11:04,  6.78s/it]"
     ]
    },
    {
     "name": "stdout",
     "output_type": "stream",
     "text": [
      "Best Dist:  0.35090527873887223\n",
      "Average Dist:  0.6087034583654816\n",
      "Best Adj Error:  42.0\n",
      "Average Adj Dist Error:  39.31\n"
     ]
    },
    {
     "name": "stderr",
     "output_type": "stream",
     "text": [
      "  3%|▎         | 3/100 [00:19<10:31,  6.51s/it]"
     ]
    },
    {
     "name": "stdout",
     "output_type": "stream",
     "text": [
      "Best Dist:  0.2978479704545328\n",
      "Average Dist:  0.5540794390440509\n",
      "Best Adj Error:  30.0\n",
      "Average Adj Dist Error:  35.87\n"
     ]
    },
    {
     "name": "stderr",
     "output_type": "stream",
     "text": [
      "  4%|▍         | 4/100 [00:26<10:14,  6.41s/it]"
     ]
    },
    {
     "name": "stdout",
     "output_type": "stream",
     "text": [
      "Best Dist:  0.23696009359329412\n",
      "Average Dist:  0.5052933817680437\n",
      "Best Adj Error:  40.0\n",
      "Average Adj Dist Error:  36.06\n"
     ]
    },
    {
     "name": "stderr",
     "output_type": "stream",
     "text": [
      "  5%|▌         | 5/100 [00:32<09:59,  6.31s/it]"
     ]
    },
    {
     "name": "stdout",
     "output_type": "stream",
     "text": [
      "Best Dist:  0.23696009359329412\n",
      "Average Dist:  0.46592300595036507\n",
      "Best Adj Error:  40.0\n",
      "Average Adj Dist Error:  35.23\n"
     ]
    },
    {
     "name": "stderr",
     "output_type": "stream",
     "text": [
      "  6%|▌         | 6/100 [00:38<09:59,  6.38s/it]"
     ]
    },
    {
     "name": "stdout",
     "output_type": "stream",
     "text": [
      "Best Dist:  0.19245782721154164\n",
      "Average Dist:  0.3916826082785345\n",
      "Best Adj Error:  28.0\n",
      "Average Adj Dist Error:  34.95\n"
     ]
    },
    {
     "name": "stderr",
     "output_type": "stream",
     "text": [
      "  7%|▋         | 7/100 [00:44<09:44,  6.28s/it]"
     ]
    },
    {
     "name": "stdout",
     "output_type": "stream",
     "text": [
      "extreme\n",
      "Best Dist:  0.19245782721154164\n",
      "Average Dist:  0.3478542151592364\n",
      "Best Adj Error:  28.0\n",
      "Average Adj Dist Error:  35.88\n"
     ]
    },
    {
     "name": "stderr",
     "output_type": "stream",
     "text": [
      "  8%|▊         | 8/100 [00:51<09:38,  6.29s/it]"
     ]
    },
    {
     "name": "stdout",
     "output_type": "stream",
     "text": [
      "extreme\n",
      "Best Dist:  0.18628285771991926\n",
      "Average Dist:  0.3141316870551554\n",
      "Best Adj Error:  44.0\n",
      "Average Adj Dist Error:  34.81\n"
     ]
    },
    {
     "name": "stderr",
     "output_type": "stream",
     "text": [
      "  9%|▉         | 9/100 [00:57<09:31,  6.28s/it]"
     ]
    },
    {
     "name": "stdout",
     "output_type": "stream",
     "text": [
      "extreme\n",
      "Best Dist:  0.18501763486459025\n",
      "Average Dist:  0.29364990587333445\n",
      "Best Adj Error:  40.0\n",
      "Average Adj Dist Error:  34.91\n"
     ]
    },
    {
     "name": "stderr",
     "output_type": "stream",
     "text": [
      " 10%|█         | 10/100 [01:03<09:28,  6.31s/it]"
     ]
    },
    {
     "name": "stdout",
     "output_type": "stream",
     "text": [
      "extreme\n",
      "Best Dist:  0.17562598200015453\n",
      "Average Dist:  0.2858954731266351\n",
      "Best Adj Error:  38.0\n",
      "Average Adj Dist Error:  35.88\n"
     ]
    },
    {
     "name": "stderr",
     "output_type": "stream",
     "text": [
      " 11%|█         | 11/100 [01:09<09:13,  6.22s/it]"
     ]
    },
    {
     "name": "stdout",
     "output_type": "stream",
     "text": [
      "extreme\n",
      "Best Dist:  0.15381998006907932\n",
      "Average Dist:  0.31292809853155384\n",
      "Best Adj Error:  32.0\n",
      "Average Adj Dist Error:  37.97\n"
     ]
    },
    {
     "name": "stderr",
     "output_type": "stream",
     "text": [
      " 12%|█▏        | 12/100 [01:16<09:07,  6.22s/it]"
     ]
    },
    {
     "name": "stdout",
     "output_type": "stream",
     "text": [
      "extreme\n",
      "Best Dist:  0.15381998006907932\n",
      "Average Dist:  0.28800840693926566\n",
      "Best Adj Error:  32.0\n",
      "Average Adj Dist Error:  37.55\n"
     ]
    },
    {
     "name": "stderr",
     "output_type": "stream",
     "text": [
      " 13%|█▎        | 13/100 [01:21<08:52,  6.12s/it]"
     ]
    },
    {
     "name": "stdout",
     "output_type": "stream",
     "text": [
      "extreme\n",
      "Best Dist:  0.15381998006907932\n",
      "Average Dist:  0.23815240464549803\n",
      "Best Adj Error:  32.0\n",
      "Average Adj Dist Error:  36.81\n"
     ]
    },
    {
     "name": "stderr",
     "output_type": "stream",
     "text": [
      " 14%|█▍        | 14/100 [01:27<08:37,  6.01s/it]"
     ]
    },
    {
     "name": "stdout",
     "output_type": "stream",
     "text": [
      "extreme\n",
      "Best Dist:  0.15381998006907932\n",
      "Average Dist:  0.2977688876049712\n",
      "Best Adj Error:  32.0\n",
      "Average Adj Dist Error:  36.63\n"
     ]
    },
    {
     "name": "stderr",
     "output_type": "stream",
     "text": [
      " 15%|█▌        | 15/100 [01:34<08:39,  6.11s/it]"
     ]
    },
    {
     "name": "stdout",
     "output_type": "stream",
     "text": [
      "extreme\n",
      "Best Dist:  0.15381998006907932\n",
      "Average Dist:  0.23625750635246576\n",
      "Best Adj Error:  32.0\n",
      "Average Adj Dist Error:  36.65\n"
     ]
    },
    {
     "name": "stderr",
     "output_type": "stream",
     "text": [
      " 16%|█▌        | 16/100 [01:40<08:29,  6.07s/it]"
     ]
    },
    {
     "name": "stdout",
     "output_type": "stream",
     "text": [
      "extreme\n",
      "Best Dist:  0.15381998006907932\n",
      "Average Dist:  0.21536538993366108\n",
      "Best Adj Error:  32.0\n",
      "Average Adj Dist Error:  36.79\n"
     ]
    },
    {
     "name": "stderr",
     "output_type": "stream",
     "text": [
      " 17%|█▋        | 17/100 [01:45<08:18,  6.01s/it]"
     ]
    },
    {
     "name": "stdout",
     "output_type": "stream",
     "text": [
      "extreme\n",
      "Best Dist:  0.15381998006907932\n",
      "Average Dist:  0.20632726059887216\n",
      "Best Adj Error:  32.0\n",
      "Average Adj Dist Error:  37.96\n"
     ]
    },
    {
     "name": "stderr",
     "output_type": "stream",
     "text": [
      " 18%|█▊        | 18/100 [01:52<08:17,  6.07s/it]"
     ]
    },
    {
     "name": "stdout",
     "output_type": "stream",
     "text": [
      "extreme\n",
      "Best Dist:  0.15381998006907932\n",
      "Average Dist:  0.25686713326612176\n",
      "Best Adj Error:  32.0\n",
      "Average Adj Dist Error:  38.57\n"
     ]
    },
    {
     "name": "stderr",
     "output_type": "stream",
     "text": [
      " 19%|█▉        | 19/100 [01:58<08:09,  6.05s/it]"
     ]
    },
    {
     "name": "stdout",
     "output_type": "stream",
     "text": [
      "extreme\n",
      "Best Dist:  0.15381998006907932\n",
      "Average Dist:  0.20430828633571074\n",
      "Best Adj Error:  32.0\n",
      "Average Adj Dist Error:  38.15\n"
     ]
    },
    {
     "name": "stderr",
     "output_type": "stream",
     "text": [
      " 20%|██        | 20/100 [02:04<08:03,  6.04s/it]"
     ]
    },
    {
     "name": "stdout",
     "output_type": "stream",
     "text": [
      "extreme\n",
      "Best Dist:  0.15381998006907932\n",
      "Average Dist:  0.19851803800344317\n",
      "Best Adj Error:  32.0\n",
      "Average Adj Dist Error:  38.38\n"
     ]
    },
    {
     "name": "stderr",
     "output_type": "stream",
     "text": [
      " 21%|██        | 21/100 [02:10<07:56,  6.04s/it]"
     ]
    },
    {
     "name": "stdout",
     "output_type": "stream",
     "text": [
      "extreme\n",
      "Best Dist:  0.15381998006907932\n",
      "Average Dist:  0.20180808134974337\n",
      "Best Adj Error:  32.0\n",
      "Average Adj Dist Error:  38.43\n"
     ]
    },
    {
     "name": "stderr",
     "output_type": "stream",
     "text": [
      " 22%|██▏       | 22/100 [02:16<07:54,  6.08s/it]"
     ]
    },
    {
     "name": "stdout",
     "output_type": "stream",
     "text": [
      "extreme\n",
      "Best Dist:  0.15381998006907932\n",
      "Average Dist:  0.18523065927783888\n",
      "Best Adj Error:  32.0\n",
      "Average Adj Dist Error:  38.25\n"
     ]
    },
    {
     "name": "stderr",
     "output_type": "stream",
     "text": [
      " 23%|██▎       | 23/100 [02:22<07:44,  6.03s/it]"
     ]
    },
    {
     "name": "stdout",
     "output_type": "stream",
     "text": [
      "extreme\n",
      "Best Dist:  0.15374407509652727\n",
      "Average Dist:  0.17476057636977696\n",
      "Best Adj Error:  36.0\n",
      "Average Adj Dist Error:  37.97\n"
     ]
    },
    {
     "name": "stderr",
     "output_type": "stream",
     "text": [
      " 24%|██▍       | 24/100 [02:30<08:21,  6.60s/it]"
     ]
    },
    {
     "name": "stdout",
     "output_type": "stream",
     "text": [
      "extreme\n",
      "Best Dist:  0.15374407509652727\n",
      "Average Dist:  0.19659761358526584\n",
      "Best Adj Error:  36.0\n",
      "Average Adj Dist Error:  37.85\n"
     ]
    },
    {
     "name": "stderr",
     "output_type": "stream",
     "text": [
      " 25%|██▌       | 25/100 [02:39<09:12,  7.36s/it]"
     ]
    },
    {
     "name": "stdout",
     "output_type": "stream",
     "text": [
      "extreme\n",
      "Best Dist:  0.15334497595652954\n",
      "Average Dist:  0.1992412851144301\n",
      "Best Adj Error:  32.0\n",
      "Average Adj Dist Error:  37.03\n"
     ]
    },
    {
     "name": "stderr",
     "output_type": "stream",
     "text": [
      " 26%|██▌       | 26/100 [02:48<09:47,  7.94s/it]"
     ]
    },
    {
     "name": "stdout",
     "output_type": "stream",
     "text": [
      "extreme\n",
      "Best Dist:  0.15141633435377336\n",
      "Average Dist:  0.19399041669661998\n",
      "Best Adj Error:  34.0\n",
      "Average Adj Dist Error:  35.87\n"
     ]
    },
    {
     "name": "stderr",
     "output_type": "stream",
     "text": [
      " 27%|██▋       | 27/100 [02:57<09:54,  8.15s/it]"
     ]
    },
    {
     "name": "stdout",
     "output_type": "stream",
     "text": [
      "extreme\n",
      "Best Dist:  0.15141633435377336\n",
      "Average Dist:  0.22554548218922146\n",
      "Best Adj Error:  34.0\n",
      "Average Adj Dist Error:  35.54\n"
     ]
    },
    {
     "name": "stderr",
     "output_type": "stream",
     "text": [
      " 28%|██▊       | 28/100 [03:06<10:15,  8.55s/it]"
     ]
    },
    {
     "name": "stdout",
     "output_type": "stream",
     "text": [
      "extreme\n",
      "Best Dist:  0.15141633435377336\n",
      "Average Dist:  0.26221551889577155\n",
      "Best Adj Error:  34.0\n",
      "Average Adj Dist Error:  35.0\n"
     ]
    },
    {
     "name": "stderr",
     "output_type": "stream",
     "text": [
      " 29%|██▉       | 29/100 [03:16<10:23,  8.78s/it]"
     ]
    },
    {
     "name": "stdout",
     "output_type": "stream",
     "text": [
      "extreme\n",
      "Best Dist:  0.15141633435377336\n",
      "Average Dist:  0.22914430272590314\n",
      "Best Adj Error:  34.0\n",
      "Average Adj Dist Error:  34.61\n"
     ]
    },
    {
     "name": "stderr",
     "output_type": "stream",
     "text": [
      " 30%|███       | 30/100 [03:25<10:25,  8.93s/it]"
     ]
    },
    {
     "name": "stdout",
     "output_type": "stream",
     "text": [
      "extreme\n",
      "Best Dist:  0.13134386500162426\n",
      "Average Dist:  0.187698074482866\n",
      "Best Adj Error:  36.0\n",
      "Average Adj Dist Error:  33.54\n"
     ]
    },
    {
     "name": "stderr",
     "output_type": "stream",
     "text": [
      " 31%|███       | 31/100 [03:34<10:18,  8.97s/it]"
     ]
    },
    {
     "name": "stdout",
     "output_type": "stream",
     "text": [
      "extreme\n",
      "Best Dist:  0.13134386500162426\n",
      "Average Dist:  0.19008007505563873\n",
      "Best Adj Error:  36.0\n",
      "Average Adj Dist Error:  33.25\n"
     ]
    },
    {
     "name": "stderr",
     "output_type": "stream",
     "text": [
      " 32%|███▏      | 32/100 [03:43<10:14,  9.04s/it]"
     ]
    },
    {
     "name": "stdout",
     "output_type": "stream",
     "text": [
      "extreme\n",
      "Best Dist:  0.13134386500162426\n",
      "Average Dist:  0.17305321124265277\n",
      "Best Adj Error:  36.0\n",
      "Average Adj Dist Error:  33.83\n"
     ]
    },
    {
     "name": "stderr",
     "output_type": "stream",
     "text": [
      " 33%|███▎      | 33/100 [03:53<10:13,  9.15s/it]"
     ]
    },
    {
     "name": "stdout",
     "output_type": "stream",
     "text": [
      "extreme\n",
      "Best Dist:  0.13134386500162426\n",
      "Average Dist:  0.19473952905739136\n",
      "Best Adj Error:  36.0\n",
      "Average Adj Dist Error:  34.03\n"
     ]
    },
    {
     "name": "stderr",
     "output_type": "stream",
     "text": [
      " 34%|███▍      | 34/100 [04:02<10:03,  9.14s/it]"
     ]
    },
    {
     "name": "stdout",
     "output_type": "stream",
     "text": [
      "extreme\n",
      "Best Dist:  0.13134386500162426\n",
      "Average Dist:  0.24723290793994587\n",
      "Best Adj Error:  36.0\n",
      "Average Adj Dist Error:  33.94\n"
     ]
    },
    {
     "name": "stderr",
     "output_type": "stream",
     "text": [
      " 35%|███▌      | 35/100 [04:10<09:43,  8.98s/it]"
     ]
    },
    {
     "name": "stdout",
     "output_type": "stream",
     "text": [
      "extreme\n",
      "Best Dist:  0.13134386500162426\n",
      "Average Dist:  0.15846308929270703\n",
      "Best Adj Error:  36.0\n",
      "Average Adj Dist Error:  33.86\n"
     ]
    },
    {
     "name": "stderr",
     "output_type": "stream",
     "text": [
      " 36%|███▌      | 36/100 [04:19<09:32,  8.95s/it]"
     ]
    },
    {
     "name": "stdout",
     "output_type": "stream",
     "text": [
      "extreme\n",
      "Best Dist:  0.13134386500162426\n",
      "Average Dist:  0.15323588198813656\n",
      "Best Adj Error:  36.0\n",
      "Average Adj Dist Error:  34.01\n"
     ]
    },
    {
     "name": "stderr",
     "output_type": "stream",
     "text": [
      " 37%|███▋      | 37/100 [04:28<09:18,  8.87s/it]"
     ]
    },
    {
     "name": "stdout",
     "output_type": "stream",
     "text": [
      "extreme\n",
      "Best Dist:  0.13134386500162426\n",
      "Average Dist:  0.18815046735879207\n",
      "Best Adj Error:  36.0\n",
      "Average Adj Dist Error:  34.34\n"
     ]
    },
    {
     "name": "stderr",
     "output_type": "stream",
     "text": [
      " 38%|███▊      | 38/100 [04:37<09:12,  8.90s/it]"
     ]
    },
    {
     "name": "stdout",
     "output_type": "stream",
     "text": [
      "extreme\n",
      "Best Dist:  0.13134386500162426\n",
      "Average Dist:  0.17424832032048873\n",
      "Best Adj Error:  36.0\n",
      "Average Adj Dist Error:  34.72\n"
     ]
    },
    {
     "name": "stderr",
     "output_type": "stream",
     "text": [
      " 39%|███▉      | 39/100 [04:46<09:13,  9.07s/it]"
     ]
    },
    {
     "name": "stdout",
     "output_type": "stream",
     "text": [
      "extreme\n",
      "Best Dist:  0.13134386500162426\n",
      "Average Dist:  0.17587202867028381\n",
      "Best Adj Error:  36.0\n",
      "Average Adj Dist Error:  34.53\n"
     ]
    },
    {
     "name": "stderr",
     "output_type": "stream",
     "text": [
      " 40%|████      | 40/100 [04:55<08:54,  8.91s/it]"
     ]
    },
    {
     "name": "stdout",
     "output_type": "stream",
     "text": [
      "extreme\n",
      "Best Dist:  0.13134386500162426\n",
      "Average Dist:  0.19802960014855875\n",
      "Best Adj Error:  36.0\n",
      "Average Adj Dist Error:  33.92\n"
     ]
    },
    {
     "name": "stderr",
     "output_type": "stream",
     "text": [
      " 41%|████      | 41/100 [05:04<08:43,  8.87s/it]"
     ]
    },
    {
     "name": "stdout",
     "output_type": "stream",
     "text": [
      "extreme\n",
      "Best Dist:  0.13134386500162426\n",
      "Average Dist:  0.20020390829960835\n",
      "Best Adj Error:  36.0\n",
      "Average Adj Dist Error:  33.66\n"
     ]
    },
    {
     "name": "stderr",
     "output_type": "stream",
     "text": [
      " 42%|████▏     | 42/100 [05:13<08:35,  8.89s/it]"
     ]
    },
    {
     "name": "stdout",
     "output_type": "stream",
     "text": [
      "extreme\n",
      "Best Dist:  0.13134386500162426\n",
      "Average Dist:  0.16665370530380663\n",
      "Best Adj Error:  36.0\n",
      "Average Adj Dist Error:  33.26\n"
     ]
    },
    {
     "name": "stderr",
     "output_type": "stream",
     "text": [
      " 43%|████▎     | 43/100 [05:21<08:20,  8.78s/it]"
     ]
    },
    {
     "name": "stdout",
     "output_type": "stream",
     "text": [
      "extreme\n",
      "Best Dist:  0.12884718744730989\n",
      "Average Dist:  0.1774627588368868\n",
      "Best Adj Error:  34.0\n",
      "Average Adj Dist Error:  32.64\n"
     ]
    },
    {
     "name": "stderr",
     "output_type": "stream",
     "text": [
      " 44%|████▍     | 44/100 [05:30<08:13,  8.82s/it]"
     ]
    },
    {
     "name": "stdout",
     "output_type": "stream",
     "text": [
      "extreme\n",
      "Best Dist:  0.12184299692113144\n",
      "Average Dist:  0.15010544316291694\n",
      "Best Adj Error:  32.0\n",
      "Average Adj Dist Error:  32.01\n"
     ]
    },
    {
     "name": "stderr",
     "output_type": "stream",
     "text": [
      " 45%|████▌     | 45/100 [05:39<08:01,  8.75s/it]"
     ]
    },
    {
     "name": "stdout",
     "output_type": "stream",
     "text": [
      "extreme\n",
      "Best Dist:  0.12104551236421204\n",
      "Average Dist:  0.18907829450728897\n",
      "Best Adj Error:  34.0\n",
      "Average Adj Dist Error:  32.3\n"
     ]
    },
    {
     "name": "stderr",
     "output_type": "stream",
     "text": [
      " 46%|████▌     | 46/100 [05:48<07:58,  8.85s/it]"
     ]
    },
    {
     "name": "stdout",
     "output_type": "stream",
     "text": [
      "extreme\n",
      "Best Dist:  0.12104551236421204\n",
      "Average Dist:  0.17326849674040914\n",
      "Best Adj Error:  34.0\n",
      "Average Adj Dist Error:  32.27\n"
     ]
    },
    {
     "name": "stderr",
     "output_type": "stream",
     "text": [
      " 47%|████▋     | 47/100 [05:57<07:50,  8.87s/it]"
     ]
    },
    {
     "name": "stdout",
     "output_type": "stream",
     "text": [
      "extreme\n",
      "Best Dist:  0.12104551236421204\n",
      "Average Dist:  0.15723827299970147\n",
      "Best Adj Error:  34.0\n",
      "Average Adj Dist Error:  32.18\n"
     ]
    },
    {
     "name": "stderr",
     "output_type": "stream",
     "text": [
      " 48%|████▊     | 48/100 [06:06<07:52,  9.09s/it]"
     ]
    },
    {
     "name": "stdout",
     "output_type": "stream",
     "text": [
      "extreme\n",
      "Best Dist:  0.12104551236421204\n",
      "Average Dist:  0.2505297632609273\n",
      "Best Adj Error:  34.0\n",
      "Average Adj Dist Error:  33.06\n"
     ]
    },
    {
     "name": "stderr",
     "output_type": "stream",
     "text": [
      " 49%|████▉     | 49/100 [06:15<07:40,  9.03s/it]"
     ]
    },
    {
     "name": "stdout",
     "output_type": "stream",
     "text": [
      "extreme\n",
      "Best Dist:  0.12104551236421204\n",
      "Average Dist:  0.1686172660961783\n",
      "Best Adj Error:  34.0\n",
      "Average Adj Dist Error:  32.73\n"
     ]
    },
    {
     "name": "stderr",
     "output_type": "stream",
     "text": [
      " 50%|█████     | 50/100 [06:24<07:36,  9.12s/it]"
     ]
    },
    {
     "name": "stdout",
     "output_type": "stream",
     "text": [
      "extreme\n",
      "Best Dist:  0.12104551236421204\n",
      "Average Dist:  0.16123362500153507\n",
      "Best Adj Error:  34.0\n",
      "Average Adj Dist Error:  32.8\n"
     ]
    },
    {
     "name": "stderr",
     "output_type": "stream",
     "text": [
      " 51%|█████     | 51/100 [06:34<07:31,  9.21s/it]"
     ]
    },
    {
     "name": "stdout",
     "output_type": "stream",
     "text": [
      "extreme\n",
      "Best Dist:  0.12104551236421204\n",
      "Average Dist:  0.14246920558397064\n",
      "Best Adj Error:  34.0\n",
      "Average Adj Dist Error:  33.29\n"
     ]
    },
    {
     "name": "stderr",
     "output_type": "stream",
     "text": [
      " 52%|█████▏    | 52/100 [06:43<07:23,  9.24s/it]"
     ]
    },
    {
     "name": "stdout",
     "output_type": "stream",
     "text": [
      "extreme\n",
      "Best Dist:  0.12104551236421204\n",
      "Average Dist:  0.2669086235284335\n",
      "Best Adj Error:  34.0\n",
      "Average Adj Dist Error:  34.53\n"
     ]
    },
    {
     "name": "stderr",
     "output_type": "stream",
     "text": [
      " 53%|█████▎    | 53/100 [06:53<07:21,  9.39s/it]"
     ]
    },
    {
     "name": "stdout",
     "output_type": "stream",
     "text": [
      "extreme\n",
      "Best Dist:  0.12104551236421204\n",
      "Average Dist:  0.16652921816104538\n",
      "Best Adj Error:  34.0\n",
      "Average Adj Dist Error:  33.97\n"
     ]
    },
    {
     "name": "stderr",
     "output_type": "stream",
     "text": [
      " 54%|█████▍    | 54/100 [07:02<07:11,  9.38s/it]"
     ]
    },
    {
     "name": "stdout",
     "output_type": "stream",
     "text": [
      "extreme\n",
      "Best Dist:  0.12094273496419417\n",
      "Average Dist:  0.17835353170133014\n",
      "Best Adj Error:  32.0\n",
      "Average Adj Dist Error:  34.16\n"
     ]
    },
    {
     "name": "stderr",
     "output_type": "stream",
     "text": [
      " 55%|█████▌    | 55/100 [07:12<07:05,  9.46s/it]"
     ]
    },
    {
     "name": "stdout",
     "output_type": "stream",
     "text": [
      "extreme\n",
      "Best Dist:  0.12094273496419417\n",
      "Average Dist:  0.12566595915838602\n",
      "Best Adj Error:  32.0\n",
      "Average Adj Dist Error:  33.99\n"
     ]
    },
    {
     "name": "stderr",
     "output_type": "stream",
     "text": [
      " 56%|█████▌    | 56/100 [07:21<06:58,  9.51s/it]"
     ]
    },
    {
     "name": "stdout",
     "output_type": "stream",
     "text": [
      "extreme\n",
      "Best Dist:  0.12094273496419417\n",
      "Average Dist:  0.26356233009591434\n",
      "Best Adj Error:  32.0\n",
      "Average Adj Dist Error:  34.64\n"
     ]
    },
    {
     "name": "stderr",
     "output_type": "stream",
     "text": [
      " 57%|█████▋    | 57/100 [07:31<06:45,  9.43s/it]"
     ]
    },
    {
     "name": "stdout",
     "output_type": "stream",
     "text": [
      "extreme\n",
      "Best Dist:  0.12094273496419417\n",
      "Average Dist:  0.14536675146320122\n",
      "Best Adj Error:  32.0\n",
      "Average Adj Dist Error:  34.27\n"
     ]
    },
    {
     "name": "stderr",
     "output_type": "stream",
     "text": [
      " 58%|█████▊    | 58/100 [07:41<06:43,  9.61s/it]"
     ]
    },
    {
     "name": "stdout",
     "output_type": "stream",
     "text": [
      "extreme\n",
      "Best Dist:  0.12094273496419417\n",
      "Average Dist:  0.12505762658899652\n",
      "Best Adj Error:  32.0\n",
      "Average Adj Dist Error:  33.73\n"
     ]
    },
    {
     "name": "stderr",
     "output_type": "stream",
     "text": [
      " 59%|█████▉    | 59/100 [07:50<06:32,  9.58s/it]"
     ]
    },
    {
     "name": "stdout",
     "output_type": "stream",
     "text": [
      "extreme\n",
      "Best Dist:  0.12094273496419417\n",
      "Average Dist:  0.12470082102840262\n",
      "Best Adj Error:  32.0\n",
      "Average Adj Dist Error:  33.42\n"
     ]
    },
    {
     "name": "stderr",
     "output_type": "stream",
     "text": [
      " 60%|██████    | 60/100 [08:00<06:26,  9.66s/it]"
     ]
    },
    {
     "name": "stdout",
     "output_type": "stream",
     "text": [
      "extreme\n",
      "Best Dist:  0.12094273496419417\n",
      "Average Dist:  0.15699895091874827\n",
      "Best Adj Error:  32.0\n",
      "Average Adj Dist Error:  32.98\n"
     ]
    },
    {
     "name": "stderr",
     "output_type": "stream",
     "text": [
      " 61%|██████    | 61/100 [08:11<06:25,  9.89s/it]"
     ]
    },
    {
     "name": "stdout",
     "output_type": "stream",
     "text": [
      "extreme\n",
      "Best Dist:  0.12094273496419417\n",
      "Average Dist:  0.1731767128714221\n",
      "Best Adj Error:  32.0\n",
      "Average Adj Dist Error:  32.39\n"
     ]
    },
    {
     "name": "stderr",
     "output_type": "stream",
     "text": [
      " 62%|██████▏   | 62/100 [08:20<06:14,  9.85s/it]"
     ]
    },
    {
     "name": "stdout",
     "output_type": "stream",
     "text": [
      "extreme\n",
      "Best Dist:  0.12094273496419417\n",
      "Average Dist:  0.19410781742044902\n",
      "Best Adj Error:  32.0\n",
      "Average Adj Dist Error:  32.16\n"
     ]
    },
    {
     "name": "stderr",
     "output_type": "stream",
     "text": [
      " 63%|██████▎   | 63/100 [08:31<06:09,  9.99s/it]"
     ]
    },
    {
     "name": "stdout",
     "output_type": "stream",
     "text": [
      "extreme\n",
      "Best Dist:  0.12094273496419417\n",
      "Average Dist:  0.12151523490406191\n",
      "Best Adj Error:  32.0\n",
      "Average Adj Dist Error:  32.01\n"
     ]
    },
    {
     "name": "stderr",
     "output_type": "stream",
     "text": [
      " 64%|██████▍   | 64/100 [08:40<05:53,  9.83s/it]"
     ]
    },
    {
     "name": "stdout",
     "output_type": "stream",
     "text": [
      "extreme\n",
      "Best Dist:  0.12094273496419417\n",
      "Average Dist:  0.14184872496313244\n",
      "Best Adj Error:  32.0\n",
      "Average Adj Dist Error:  32.08\n",
      "extreme\n"
     ]
    },
    {
     "name": "stderr",
     "output_type": "stream",
     "text": [
      " 65%|██████▌   | 65/100 [08:56<06:47, 11.65s/it]"
     ]
    },
    {
     "name": "stdout",
     "output_type": "stream",
     "text": [
      "Best Dist:  0.12094273496419417\n",
      "Average Dist:  0.5605446156285463\n",
      "Best Adj Error:  32.0\n",
      "Average Adj Dist Error:  40.32\n",
      "extreme\n"
     ]
    },
    {
     "name": "stderr",
     "output_type": "stream",
     "text": [
      " 66%|██████▌   | 66/100 [09:15<07:51, 13.87s/it]"
     ]
    },
    {
     "name": "stdout",
     "output_type": "stream",
     "text": [
      "Best Dist:  0.12094273496419417\n",
      "Average Dist:  0.5531384631921283\n",
      "Best Adj Error:  32.0\n",
      "Average Adj Dist Error:  40.36\n",
      "extreme\n"
     ]
    },
    {
     "name": "stderr",
     "output_type": "stream",
     "text": [
      " 67%|██████▋   | 67/100 [09:35<08:37, 15.68s/it]"
     ]
    },
    {
     "name": "stdout",
     "output_type": "stream",
     "text": [
      "Best Dist:  0.12094273496419417\n",
      "Average Dist:  0.5692058455558406\n",
      "Best Adj Error:  32.0\n",
      "Average Adj Dist Error:  41.49\n",
      "extreme\n"
     ]
    },
    {
     "name": "stderr",
     "output_type": "stream",
     "text": [
      " 68%|██████▊   | 68/100 [09:54<08:54, 16.71s/it]"
     ]
    },
    {
     "name": "stdout",
     "output_type": "stream",
     "text": [
      "Best Dist:  0.12094273496419417\n",
      "Average Dist:  0.5660777409260122\n",
      "Best Adj Error:  32.0\n",
      "Average Adj Dist Error:  41.54\n",
      "extreme\n"
     ]
    },
    {
     "name": "stderr",
     "output_type": "stream",
     "text": [
      " 69%|██████▉   | 69/100 [10:14<09:12, 17.83s/it]"
     ]
    },
    {
     "name": "stdout",
     "output_type": "stream",
     "text": [
      "new injection\n",
      "Best Dist:  0.12094273496419417\n",
      "Average Dist:  0.5716773035889476\n",
      "Best Adj Error:  32.0\n",
      "Average Adj Dist Error:  40.15\n",
      "extreme\n"
     ]
    },
    {
     "name": "stderr",
     "output_type": "stream",
     "text": [
      " 70%|███████   | 70/100 [10:34<09:05, 18.20s/it]"
     ]
    },
    {
     "name": "stdout",
     "output_type": "stream",
     "text": [
      "Best Dist:  0.12094273496419417\n",
      "Average Dist:  0.561396314058669\n",
      "Best Adj Error:  32.0\n",
      "Average Adj Dist Error:  40.77\n",
      "extreme\n"
     ]
    },
    {
     "name": "stderr",
     "output_type": "stream",
     "text": [
      " 71%|███████   | 71/100 [10:53<08:55, 18.46s/it]"
     ]
    },
    {
     "name": "stdout",
     "output_type": "stream",
     "text": [
      "Best Dist:  0.12094273496419417\n",
      "Average Dist:  0.5684084849972877\n",
      "Best Adj Error:  32.0\n",
      "Average Adj Dist Error:  40.48\n",
      "extreme\n"
     ]
    },
    {
     "name": "stderr",
     "output_type": "stream",
     "text": [
      " 72%|███████▏  | 72/100 [11:12<08:46, 18.79s/it]"
     ]
    },
    {
     "name": "stdout",
     "output_type": "stream",
     "text": [
      "Best Dist:  0.12094273496419417\n",
      "Average Dist:  0.5656771506612048\n",
      "Best Adj Error:  32.0\n",
      "Average Adj Dist Error:  41.03\n",
      "extreme\n"
     ]
    },
    {
     "name": "stderr",
     "output_type": "stream",
     "text": [
      " 73%|███████▎  | 73/100 [11:33<08:40, 19.27s/it]"
     ]
    },
    {
     "name": "stdout",
     "output_type": "stream",
     "text": [
      "Best Dist:  0.12094273496419417\n",
      "Average Dist:  0.5551228817481708\n",
      "Best Adj Error:  32.0\n",
      "Average Adj Dist Error:  40.62\n",
      "extreme\n"
     ]
    },
    {
     "name": "stderr",
     "output_type": "stream",
     "text": [
      " 74%|███████▍  | 74/100 [11:52<08:21, 19.29s/it]"
     ]
    },
    {
     "name": "stdout",
     "output_type": "stream",
     "text": [
      "new injection\n",
      "Best Dist:  0.12094273496419417\n",
      "Average Dist:  0.5653864893777396\n",
      "Best Adj Error:  32.0\n",
      "Average Adj Dist Error:  40.51\n",
      "extreme\n"
     ]
    },
    {
     "name": "stderr",
     "output_type": "stream",
     "text": [
      " 75%|███████▌  | 75/100 [12:11<08:02, 19.30s/it]"
     ]
    },
    {
     "name": "stdout",
     "output_type": "stream",
     "text": [
      "Best Dist:  0.12094273496419417\n",
      "Average Dist:  0.5513859901938152\n",
      "Best Adj Error:  32.0\n",
      "Average Adj Dist Error:  40.93\n",
      "extreme\n"
     ]
    },
    {
     "name": "stderr",
     "output_type": "stream",
     "text": [
      " 76%|███████▌  | 76/100 [12:30<07:40, 19.18s/it]"
     ]
    },
    {
     "name": "stdout",
     "output_type": "stream",
     "text": [
      "Best Dist:  0.12094273496419417\n",
      "Average Dist:  0.5634095451688562\n",
      "Best Adj Error:  32.0\n",
      "Average Adj Dist Error:  40.73\n",
      "extreme\n"
     ]
    },
    {
     "name": "stderr",
     "output_type": "stream",
     "text": [
      " 77%|███████▋  | 77/100 [12:49<07:21, 19.21s/it]"
     ]
    },
    {
     "name": "stdout",
     "output_type": "stream",
     "text": [
      "Best Dist:  0.12094273496419417\n",
      "Average Dist:  0.5601208248724369\n",
      "Best Adj Error:  32.0\n",
      "Average Adj Dist Error:  41.0\n",
      "extreme\n"
     ]
    },
    {
     "name": "stderr",
     "output_type": "stream",
     "text": [
      " 78%|███████▊  | 78/100 [13:08<06:58, 19.02s/it]"
     ]
    },
    {
     "name": "stdout",
     "output_type": "stream",
     "text": [
      "Best Dist:  0.12094273496419417\n",
      "Average Dist:  0.568010315467526\n",
      "Best Adj Error:  32.0\n",
      "Average Adj Dist Error:  41.27\n",
      "extreme\n"
     ]
    },
    {
     "name": "stderr",
     "output_type": "stream",
     "text": [
      " 79%|███████▉  | 79/100 [13:27<06:37, 18.91s/it]"
     ]
    },
    {
     "name": "stdout",
     "output_type": "stream",
     "text": [
      "new injection\n",
      "Best Dist:  0.12094273496419417\n",
      "Average Dist:  0.5757850754989438\n",
      "Best Adj Error:  32.0\n",
      "Average Adj Dist Error:  42.0\n",
      "extreme\n"
     ]
    },
    {
     "name": "stderr",
     "output_type": "stream",
     "text": [
      " 80%|████████  | 80/100 [13:45<06:12, 18.65s/it]"
     ]
    },
    {
     "name": "stdout",
     "output_type": "stream",
     "text": [
      "Best Dist:  0.12094273496419417\n",
      "Average Dist:  0.5582473270954161\n",
      "Best Adj Error:  32.0\n",
      "Average Adj Dist Error:  40.34\n",
      "extreme\n"
     ]
    },
    {
     "name": "stderr",
     "output_type": "stream",
     "text": [
      " 81%|████████  | 81/100 [14:05<06:04, 19.18s/it]"
     ]
    },
    {
     "name": "stdout",
     "output_type": "stream",
     "text": [
      "Best Dist:  0.12094273496419417\n",
      "Average Dist:  0.5644429444631087\n",
      "Best Adj Error:  32.0\n",
      "Average Adj Dist Error:  40.6\n",
      "extreme\n"
     ]
    },
    {
     "name": "stderr",
     "output_type": "stream",
     "text": [
      " 82%|████████▏ | 82/100 [14:25<05:49, 19.43s/it]"
     ]
    },
    {
     "name": "stdout",
     "output_type": "stream",
     "text": [
      "Best Dist:  0.12094273496419417\n",
      "Average Dist:  0.5603217557980386\n",
      "Best Adj Error:  32.0\n",
      "Average Adj Dist Error:  41.3\n",
      "extreme\n"
     ]
    },
    {
     "name": "stderr",
     "output_type": "stream",
     "text": [
      " 83%|████████▎ | 83/100 [14:45<05:34, 19.70s/it]"
     ]
    },
    {
     "name": "stdout",
     "output_type": "stream",
     "text": [
      "Best Dist:  0.12094273496419417\n",
      "Average Dist:  0.5652617276977885\n",
      "Best Adj Error:  32.0\n",
      "Average Adj Dist Error:  40.66\n",
      "extreme\n"
     ]
    },
    {
     "name": "stderr",
     "output_type": "stream",
     "text": [
      " 84%|████████▍ | 84/100 [15:07<05:23, 20.25s/it]"
     ]
    },
    {
     "name": "stdout",
     "output_type": "stream",
     "text": [
      "new injection\n",
      "Best Dist:  0.12094273496419417\n",
      "Average Dist:  0.5701125739958635\n",
      "Best Adj Error:  32.0\n",
      "Average Adj Dist Error:  41.53\n",
      "extreme\n"
     ]
    },
    {
     "name": "stderr",
     "output_type": "stream",
     "text": [
      " 85%|████████▌ | 85/100 [15:29<05:11, 20.78s/it]"
     ]
    },
    {
     "name": "stdout",
     "output_type": "stream",
     "text": [
      "Best Dist:  0.12094273496419417\n",
      "Average Dist:  0.57006462054784\n",
      "Best Adj Error:  32.0\n",
      "Average Adj Dist Error:  40.62\n",
      "extreme\n"
     ]
    },
    {
     "name": "stderr",
     "output_type": "stream",
     "text": [
      " 86%|████████▌ | 86/100 [15:50<04:51, 20.79s/it]"
     ]
    },
    {
     "name": "stdout",
     "output_type": "stream",
     "text": [
      "Best Dist:  0.12094273496419417\n",
      "Average Dist:  0.5623766158701501\n",
      "Best Adj Error:  32.0\n",
      "Average Adj Dist Error:  40.64\n",
      "extreme\n"
     ]
    },
    {
     "name": "stderr",
     "output_type": "stream",
     "text": [
      " 87%|████████▋ | 87/100 [16:11<04:30, 20.84s/it]"
     ]
    },
    {
     "name": "stdout",
     "output_type": "stream",
     "text": [
      "Best Dist:  0.12094273496419417\n",
      "Average Dist:  0.5633406840165712\n",
      "Best Adj Error:  32.0\n",
      "Average Adj Dist Error:  41.0\n",
      "extreme\n"
     ]
    },
    {
     "name": "stderr",
     "output_type": "stream",
     "text": [
      " 88%|████████▊ | 88/100 [16:40<04:40, 23.35s/it]"
     ]
    },
    {
     "name": "stdout",
     "output_type": "stream",
     "text": [
      "Best Dist:  0.12094273496419417\n",
      "Average Dist:  0.5583753715116754\n",
      "Best Adj Error:  32.0\n",
      "Average Adj Dist Error:  40.31\n",
      "extreme\n"
     ]
    },
    {
     "name": "stderr",
     "output_type": "stream",
     "text": [
      " 89%|████████▉ | 89/100 [17:10<04:39, 25.41s/it]"
     ]
    },
    {
     "name": "stdout",
     "output_type": "stream",
     "text": [
      "new injection\n",
      "Best Dist:  0.12094273496419417\n",
      "Average Dist:  0.5712071048532659\n",
      "Best Adj Error:  32.0\n",
      "Average Adj Dist Error:  41.05\n",
      "extreme\n"
     ]
    },
    {
     "name": "stderr",
     "output_type": "stream",
     "text": [
      " 90%|█████████ | 90/100 [17:31<04:00, 24.09s/it]"
     ]
    },
    {
     "name": "stdout",
     "output_type": "stream",
     "text": [
      "Best Dist:  0.12094273496419417\n",
      "Average Dist:  0.5601742633327993\n",
      "Best Adj Error:  32.0\n",
      "Average Adj Dist Error:  40.78\n",
      "extreme\n"
     ]
    },
    {
     "name": "stderr",
     "output_type": "stream",
     "text": [
      " 91%|█████████ | 91/100 [17:52<03:28, 23.15s/it]"
     ]
    },
    {
     "name": "stdout",
     "output_type": "stream",
     "text": [
      "Best Dist:  0.12094273496419417\n",
      "Average Dist:  0.5592495968249517\n",
      "Best Adj Error:  32.0\n",
      "Average Adj Dist Error:  41.15\n",
      "extreme\n"
     ]
    },
    {
     "name": "stderr",
     "output_type": "stream",
     "text": [
      " 92%|█████████▏| 92/100 [18:12<02:58, 22.28s/it]"
     ]
    },
    {
     "name": "stdout",
     "output_type": "stream",
     "text": [
      "Best Dist:  0.12094273496419417\n",
      "Average Dist:  0.5657570245429392\n",
      "Best Adj Error:  32.0\n",
      "Average Adj Dist Error:  41.13\n",
      "extreme\n"
     ]
    },
    {
     "name": "stderr",
     "output_type": "stream",
     "text": [
      " 93%|█████████▎| 93/100 [18:32<02:30, 21.44s/it]"
     ]
    },
    {
     "name": "stdout",
     "output_type": "stream",
     "text": [
      "Best Dist:  0.12094273496419417\n",
      "Average Dist:  0.5665059902140469\n",
      "Best Adj Error:  32.0\n",
      "Average Adj Dist Error:  40.75\n",
      "extreme\n"
     ]
    },
    {
     "name": "stderr",
     "output_type": "stream",
     "text": [
      " 94%|█████████▍| 94/100 [18:52<02:05, 20.90s/it]"
     ]
    },
    {
     "name": "stdout",
     "output_type": "stream",
     "text": [
      "new injection\n",
      "Best Dist:  0.12094273496419417\n",
      "Average Dist:  0.5765907659668241\n",
      "Best Adj Error:  32.0\n",
      "Average Adj Dist Error:  41.6\n",
      "extreme\n"
     ]
    },
    {
     "name": "stderr",
     "output_type": "stream",
     "text": [
      " 95%|█████████▌| 95/100 [19:10<01:41, 20.22s/it]"
     ]
    },
    {
     "name": "stdout",
     "output_type": "stream",
     "text": [
      "Best Dist:  0.12094273496419417\n",
      "Average Dist:  0.5620262994481056\n",
      "Best Adj Error:  32.0\n",
      "Average Adj Dist Error:  40.71\n",
      "extreme\n"
     ]
    },
    {
     "name": "stderr",
     "output_type": "stream",
     "text": [
      " 96%|█████████▌| 96/100 [19:29<01:18, 19.66s/it]"
     ]
    },
    {
     "name": "stdout",
     "output_type": "stream",
     "text": [
      "Best Dist:  0.12094273496419417\n",
      "Average Dist:  0.5614468962831455\n",
      "Best Adj Error:  32.0\n",
      "Average Adj Dist Error:  40.79\n",
      "extreme\n"
     ]
    },
    {
     "name": "stderr",
     "output_type": "stream",
     "text": [
      " 97%|█████████▋| 97/100 [19:47<00:58, 19.41s/it]"
     ]
    },
    {
     "name": "stdout",
     "output_type": "stream",
     "text": [
      "Best Dist:  0.12094273496419417\n",
      "Average Dist:  0.5681397521733245\n",
      "Best Adj Error:  32.0\n",
      "Average Adj Dist Error:  41.27\n",
      "extreme\n"
     ]
    },
    {
     "name": "stderr",
     "output_type": "stream",
     "text": [
      " 98%|█████████▊| 98/100 [20:08<00:39, 19.78s/it]"
     ]
    },
    {
     "name": "stdout",
     "output_type": "stream",
     "text": [
      "Best Dist:  0.12094273496419417\n",
      "Average Dist:  0.5627128177334852\n",
      "Best Adj Error:  32.0\n",
      "Average Adj Dist Error:  40.85\n",
      "extreme\n"
     ]
    },
    {
     "name": "stderr",
     "output_type": "stream",
     "text": [
      " 99%|█████████▉| 99/100 [20:27<00:19, 19.50s/it]"
     ]
    },
    {
     "name": "stdout",
     "output_type": "stream",
     "text": [
      "new injection\n",
      "Best Dist:  0.12094273496419417\n",
      "Average Dist:  0.5718603990452725\n",
      "Best Adj Error:  32.0\n",
      "Average Adj Dist Error:  41.09\n",
      "extreme\n"
     ]
    },
    {
     "name": "stderr",
     "output_type": "stream",
     "text": [
      "100%|██████████| 100/100 [20:46<00:00, 12.47s/it]\n"
     ]
    },
    {
     "name": "stdout",
     "output_type": "stream",
     "text": [
      "No fit individual found within iteration limit\n"
     ]
    },
    {
     "name": "stderr",
     "output_type": "stream",
     "text": [
      "  0%|          | 0/100 [00:00<?, ?it/s]"
     ]
    },
    {
     "name": "stdout",
     "output_type": "stream",
     "text": [
      "Best Dist:  0.35112893909076626\n",
      "Average Dist:  0.701252203892582\n",
      "Best Adj Error:  24.0\n",
      "Average Adj Dist Error:  45.12\n"
     ]
    },
    {
     "name": "stderr",
     "output_type": "stream",
     "text": [
      "  1%|          | 1/100 [00:15<24:54, 15.10s/it]"
     ]
    },
    {
     "name": "stdout",
     "output_type": "stream",
     "text": [
      "Best Dist:  0.35112893909076626\n",
      "Average Dist:  0.6569594968623497\n",
      "Best Adj Error:  24.0\n",
      "Average Adj Dist Error:  42.67\n"
     ]
    },
    {
     "name": "stderr",
     "output_type": "stream",
     "text": [
      "  2%|▏         | 2/100 [00:28<22:58, 14.07s/it]"
     ]
    },
    {
     "name": "stdout",
     "output_type": "stream",
     "text": [
      "Best Dist:  0.35112893909076626\n",
      "Average Dist:  0.6003618496865457\n",
      "Best Adj Error:  24.0\n",
      "Average Adj Dist Error:  41.29\n"
     ]
    },
    {
     "name": "stderr",
     "output_type": "stream",
     "text": [
      "  3%|▎         | 3/100 [00:40<21:11, 13.10s/it]"
     ]
    },
    {
     "name": "stdout",
     "output_type": "stream",
     "text": [
      "Best Dist:  0.3451345780985129\n",
      "Average Dist:  0.5510552871120441\n",
      "Best Adj Error:  26.0\n",
      "Average Adj Dist Error:  39.88\n"
     ]
    },
    {
     "name": "stderr",
     "output_type": "stream",
     "text": [
      "  4%|▍         | 4/100 [00:53<20:59, 13.12s/it]"
     ]
    },
    {
     "name": "stdout",
     "output_type": "stream",
     "text": [
      "Best Dist:  0.34166193402551354\n",
      "Average Dist:  0.5261092484645262\n",
      "Best Adj Error:  34.0\n",
      "Average Adj Dist Error:  38.42\n"
     ]
    },
    {
     "name": "stderr",
     "output_type": "stream",
     "text": [
      "  5%|▌         | 5/100 [01:04<19:37, 12.40s/it]"
     ]
    },
    {
     "name": "stdout",
     "output_type": "stream",
     "text": [
      "Best Dist:  0.3103592376690762\n",
      "Average Dist:  0.4702661961010285\n",
      "Best Adj Error:  34.0\n",
      "Average Adj Dist Error:  36.2\n"
     ]
    },
    {
     "name": "stderr",
     "output_type": "stream",
     "text": [
      "  6%|▌         | 6/100 [01:15<18:43, 11.95s/it]"
     ]
    },
    {
     "name": "stdout",
     "output_type": "stream",
     "text": [
      "Best Dist:  0.2855329338616359\n",
      "Average Dist:  0.39905857521280025\n",
      "Best Adj Error:  32.0\n",
      "Average Adj Dist Error:  34.12\n"
     ]
    },
    {
     "name": "stderr",
     "output_type": "stream",
     "text": [
      "  7%|▋         | 7/100 [01:28<18:41, 12.06s/it]"
     ]
    },
    {
     "name": "stdout",
     "output_type": "stream",
     "text": [
      "extreme\n",
      "Best Dist:  0.2532745626385599\n",
      "Average Dist:  0.3587749660314177\n",
      "Best Adj Error:  30.0\n",
      "Average Adj Dist Error:  31.33\n"
     ]
    },
    {
     "name": "stderr",
     "output_type": "stream",
     "text": [
      "  8%|▊         | 8/100 [01:38<17:49, 11.62s/it]"
     ]
    },
    {
     "name": "stdout",
     "output_type": "stream",
     "text": [
      "extreme\n",
      "Best Dist:  0.20830843590576675\n",
      "Average Dist:  0.33749614905838554\n",
      "Best Adj Error:  18.0\n",
      "Average Adj Dist Error:  30.45\n"
     ]
    },
    {
     "name": "stderr",
     "output_type": "stream",
     "text": [
      "  9%|▉         | 9/100 [01:50<17:31, 11.55s/it]"
     ]
    },
    {
     "name": "stdout",
     "output_type": "stream",
     "text": [
      "extreme\n",
      "Best Dist:  0.17222719649857776\n",
      "Average Dist:  0.3479269033809836\n",
      "Best Adj Error:  28.0\n",
      "Average Adj Dist Error:  30.59\n"
     ]
    },
    {
     "name": "stderr",
     "output_type": "stream",
     "text": [
      " 10%|█         | 10/100 [02:01<17:16, 11.52s/it]"
     ]
    },
    {
     "name": "stdout",
     "output_type": "stream",
     "text": [
      "extreme\n",
      "Best Dist:  0.17222719649857776\n",
      "Average Dist:  0.2991099051206129\n",
      "Best Adj Error:  28.0\n",
      "Average Adj Dist Error:  29.18\n"
     ]
    },
    {
     "name": "stderr",
     "output_type": "stream",
     "text": [
      " 11%|█         | 11/100 [02:12<16:52, 11.38s/it]"
     ]
    },
    {
     "name": "stdout",
     "output_type": "stream",
     "text": [
      "extreme\n",
      "Best Dist:  0.17222719649857776\n",
      "Average Dist:  0.28937851424499\n",
      "Best Adj Error:  28.0\n",
      "Average Adj Dist Error:  28.77\n"
     ]
    },
    {
     "name": "stderr",
     "output_type": "stream",
     "text": [
      " 12%|█▏        | 12/100 [02:23<16:38, 11.35s/it]"
     ]
    },
    {
     "name": "stdout",
     "output_type": "stream",
     "text": [
      "extreme\n",
      "Best Dist:  0.17222719649857776\n",
      "Average Dist:  0.3142889206785355\n",
      "Best Adj Error:  28.0\n",
      "Average Adj Dist Error:  29.18\n"
     ]
    },
    {
     "name": "stderr",
     "output_type": "stream",
     "text": [
      " 13%|█▎        | 13/100 [02:35<16:24, 11.32s/it]"
     ]
    },
    {
     "name": "stdout",
     "output_type": "stream",
     "text": [
      "extreme\n",
      "Best Dist:  0.17222719649857776\n",
      "Average Dist:  0.2595763722267379\n",
      "Best Adj Error:  28.0\n",
      "Average Adj Dist Error:  28.86\n"
     ]
    },
    {
     "name": "stderr",
     "output_type": "stream",
     "text": [
      " 14%|█▍        | 14/100 [02:46<16:07, 11.25s/it]"
     ]
    },
    {
     "name": "stdout",
     "output_type": "stream",
     "text": [
      "extreme\n",
      "Best Dist:  0.14529893674631456\n",
      "Average Dist:  0.303483817276738\n",
      "Best Adj Error:  24.0\n",
      "Average Adj Dist Error:  29.1\n"
     ]
    },
    {
     "name": "stderr",
     "output_type": "stream",
     "text": [
      " 15%|█▌        | 15/100 [02:58<16:19, 11.52s/it]"
     ]
    },
    {
     "name": "stdout",
     "output_type": "stream",
     "text": [
      "extreme\n",
      "Best Dist:  0.14529893674631456\n",
      "Average Dist:  0.26081303164401803\n",
      "Best Adj Error:  24.0\n",
      "Average Adj Dist Error:  29.19\n"
     ]
    },
    {
     "name": "stderr",
     "output_type": "stream",
     "text": [
      " 16%|█▌        | 16/100 [03:02<12:48,  9.15s/it]"
     ]
    },
    {
     "name": "stdout",
     "output_type": "stream",
     "text": [
      "extreme\n",
      "Best Dist:  0.13810774251526461\n",
      "Average Dist:  0.22960744460414909\n",
      "Best Adj Error:  26.0\n",
      "Average Adj Dist Error:  28.91\n"
     ]
    },
    {
     "name": "stderr",
     "output_type": "stream",
     "text": [
      " 17%|█▋        | 17/100 [03:07<11:14,  8.12s/it]"
     ]
    },
    {
     "name": "stdout",
     "output_type": "stream",
     "text": [
      "extreme\n",
      "Best Dist:  0.13810774251526461\n",
      "Average Dist:  0.2213127042067543\n",
      "Best Adj Error:  26.0\n",
      "Average Adj Dist Error:  28.07\n"
     ]
    },
    {
     "name": "stderr",
     "output_type": "stream",
     "text": [
      " 18%|█▊        | 18/100 [03:11<09:20,  6.84s/it]"
     ]
    },
    {
     "name": "stdout",
     "output_type": "stream",
     "text": [
      "extreme\n",
      "Best Dist:  0.13810774251526461\n",
      "Average Dist:  0.2058126283549606\n",
      "Best Adj Error:  26.0\n",
      "Average Adj Dist Error:  27.67\n"
     ]
    },
    {
     "name": "stderr",
     "output_type": "stream",
     "text": [
      " 19%|█▉        | 19/100 [03:14<07:40,  5.69s/it]"
     ]
    },
    {
     "name": "stdout",
     "output_type": "stream",
     "text": [
      "extreme\n",
      "Best Dist:  0.13810774251526461\n",
      "Average Dist:  0.1854779873792581\n",
      "Best Adj Error:  26.0\n",
      "Average Adj Dist Error:  27.48\n"
     ]
    },
    {
     "name": "stderr",
     "output_type": "stream",
     "text": [
      " 20%|██        | 20/100 [03:19<07:08,  5.35s/it]"
     ]
    },
    {
     "name": "stdout",
     "output_type": "stream",
     "text": [
      "extreme\n",
      "Best Dist:  0.13608297430741417\n",
      "Average Dist:  0.17445748113799117\n",
      "Best Adj Error:  28.0\n",
      "Average Adj Dist Error:  26.86\n"
     ]
    },
    {
     "name": "stderr",
     "output_type": "stream",
     "text": [
      " 21%|██        | 21/100 [03:22<06:22,  4.84s/it]"
     ]
    },
    {
     "name": "stdout",
     "output_type": "stream",
     "text": [
      "extreme\n",
      "Best Dist:  0.13396630151981975\n",
      "Average Dist:  0.18634389897618525\n",
      "Best Adj Error:  32.0\n",
      "Average Adj Dist Error:  26.65\n"
     ]
    },
    {
     "name": "stderr",
     "output_type": "stream",
     "text": [
      " 22%|██▏       | 22/100 [03:26<05:59,  4.61s/it]"
     ]
    },
    {
     "name": "stdout",
     "output_type": "stream",
     "text": [
      "extreme\n",
      "Best Dist:  0.13094305300328077\n",
      "Average Dist:  0.20047472834394675\n",
      "Best Adj Error:  26.0\n",
      "Average Adj Dist Error:  27.19\n"
     ]
    },
    {
     "name": "stderr",
     "output_type": "stream",
     "text": [
      " 23%|██▎       | 23/100 [03:31<06:00,  4.69s/it]"
     ]
    },
    {
     "name": "stdout",
     "output_type": "stream",
     "text": [
      "extreme\n",
      "Best Dist:  0.12942442826675155\n",
      "Average Dist:  0.15242902183241147\n",
      "Best Adj Error:  20.0\n",
      "Average Adj Dist Error:  26.57\n"
     ]
    },
    {
     "name": "stderr",
     "output_type": "stream",
     "text": [
      " 24%|██▍       | 24/100 [03:34<05:21,  4.24s/it]"
     ]
    },
    {
     "name": "stdout",
     "output_type": "stream",
     "text": [
      "extreme\n"
     ]
    }
   ],
   "source": [
    "extreme_mutation_count = 0\n",
    "\n",
    "for matthew in range(100):\n",
    "\n",
    "    ##########################################\n",
    "    #target\n",
    "    ##########################################\n",
    "    target = F(n , np.random.rand())\n",
    "    targets.append(target)\n",
    "\n",
    "    k = 1\n",
    "    rho0 = np.zeros((n , 1))\n",
    "    rho0[k] = 1\n",
    "    state = kron(rho0 , np.conjugate(rho0.T))\n",
    "\n",
    "    ##########################################\n",
    "    # Adding the sink to the target list\n",
    "    ##########################################\n",
    "    target_sink = target_sink_func()\n",
    "\n",
    "    population = pop(pop_size, n)\n",
    "\n",
    "    \n",
    "    \n",
    "    alt_distances = [alt_genetic_distance(population)[0]]\n",
    "\n",
    "    new_pop = Genetic_Evolution(fit_half(alt_genetic_distance(population)[1]) , alt_distances[0][:len(alt_distances[0])//2]).new_population()\n",
    "\n",
    "    distances = []\n",
    "    distances_ML = []\n",
    "    best_individual = []\n",
    "    number_of_connections = []\n",
    "    new_pop_set = []\n",
    "    best_distance = []\n",
    "    mean_distance = []\n",
    "    fittest_individual = []\n",
    "    connections = []\n",
    "    degree_distribution = []\n",
    "    found_it = []\n",
    "\n",
    "    for j in tqdm(range(100)):\n",
    "\n",
    "        fit_individual = []\n",
    "        if j == 0:\n",
    "            new_distances, new_pop = alt_genetic_distance(new_pop)\n",
    "        else:\n",
    "            new_distances, new_population = alt_genetic_distance(new_pop , start_index = pop_size // 4)\n",
    "\n",
    "            # Combine distances and population from current and new generations\n",
    "            combined = list(zip(distances[-1][:pop_size // 4] + new_distances, distances[-1][:pop_size // 4] + new_distances, new_pop[:pop_size // 4] + new_population))\n",
    "            # Sort by distances\n",
    "            combined.sort(key=lambda x: x[0])\n",
    "            # Unpack sorted distances and population\n",
    "            new_distances, new_distance, new_pop = zip(*combined)\n",
    "            # Convert to lists (if needed)\n",
    "            new_distances = list(new_distances)\n",
    "            new_pop = list(new_pop)\n",
    "\n",
    "        distances.append(new_distances)\n",
    "        best_individual.append(new_pop[0])\n",
    "\n",
    "        number_of_connections.append(np.array([np.sum(np.real(adjacency_matrix_target()[0]))/2 , np.sum(np.real(new_pop[0]))/2 , np.sum(np.real(new_pop[1]))/2 , np.sum(np.real(new_pop[2]))/2]))\n",
    "        new_pop_set.append(np.array(new_pop[:pop_size // 4]))\n",
    "        degree_distribution.append([degree for node , degree in sorted(nx.degree(nx.from_numpy_array(np.real(new_pop[0]))), key=lambda x: x[1], reverse=True)])\n",
    "        #Calculating the best and mean distances\n",
    "        best_distance = min(distances[j])\n",
    "        mean_distance = np.mean(new_distances)\n",
    "        fittest_individual = new_pop[0]\n",
    "        connections = np.array([np.sum(np.real(adjacency_matrix_target()[0]))/2 , np.sum(np.real(new_pop[0]))/2 , np.sum(np.real(new_pop[1]))/2 , np.sum(np.real(new_pop[2]))/2 , np.sum(np.real(new_pop[3]))/2])\n",
    "        degree_dist = [degree for node , degree in sorted(nx.degree(nx.from_numpy_array(np.real(new_pop[0]))), key=lambda x: x[1], reverse=True)]\n",
    "\n",
    "        # what to do if the algorithm finds the fittest individual\n",
    "        # else rerun code\n",
    "        print('Best Dist: ', min(distances[j]))\n",
    "        print('Average Dist: ', np.mean(distances[j]))\n",
    "        print('Best Adj Error: ', np.sum(np.abs(new_pop[0] - adjacency_matrix_target()[0])))\n",
    "        print('Average Adj Dist Error: ', np.mean([np.sum(np.abs(p - adjacency_matrix_target()[0])) for p in new_pop]))\n",
    "        if min(distances[j]) == 0:\n",
    "            for i, dist in enumerate(distances[j]):\n",
    "                if dist == 0:\n",
    "                    fit_individual.append(new_pop[i])\n",
    "            print(\"fit individual found\")\n",
    "            break\n",
    "        else:\n",
    "            new_pop = Genetic_Evolution(fit_half(alt_genetic_distance(new_pop)[1]) , distances[j][:len(distances[j])//2]).new_population()\n",
    "        # implementing extreme mutations if population scores aren't improving\n",
    "        if j > 5:\n",
    "            print(\"extreme\")\n",
    "            if (new_pop_set[j-5] == new_pop_set[j]).all():\n",
    "                new_pop = Genetic_Evolution(fit_half(alt_genetic_distance(new_pop)[1]) , distances[j][:len(distances[j])//2]).EXTREME_new_population()\n",
    "                # if this is performed we add +1 to the extreme_mutation_count\n",
    "                extreme_mutation_count += 1\n",
    "                # printing when this if performed\n",
    "                \n",
    "                \n",
    "        # the case of reaching 3 in extreme_mutation_count means we should inject a new population of individuals\n",
    "        if extreme_mutation_count == 5:\n",
    "            # inject a new population of individuals and keeping old unmutated parents\n",
    "            new_pop = new_pop[:int(pop_size * 0.75)] + pop(pop_size//4 , n)\n",
    "            print(\"new injection\")\n",
    "            # resetting the extreme_mutation_count to zero\n",
    "            extreme_mutation_count = 0\n",
    "            \n",
    "\n",
    "    else:\n",
    "        print(\"No fit individual found within iteration limit\")\n",
    "    combined_distances.append(distances)\n",
    "    combined_best_individual.append(best_individual)\n",
    "    combined_number_of_connections.append(number_of_connections)\n",
    "    combined_new_pop_set.append(new_pop_set)\n",
    "    combined_best_distance.append(best_distance)\n",
    "    combined_mean_distance.append(mean_distance)\n",
    "    combined_fittest_individual.append(fittest_individual)\n",
    "    combined_connections.append(connections)\n",
    "    combined_degree_distribution.append(degree_distribution)\n",
    "    combined_found_it.append(found_it)"
   ]
  },
  {
   "cell_type": "markdown",
   "metadata": {},
   "source": [
    "## 6. Physical Properties"
   ]
  },
  {
   "cell_type": "code",
   "execution_count": 62,
   "metadata": {},
   "outputs": [],
   "source": [
    "target_evolution = []\n",
    "fittest_evolution = []\n",
    "\n",
    "def state_evolution(matrix , t):\n",
    "        return (expm(complex(0 , -1) * matrix * t)) @ state @ (np.conjugate(expm(complex(0 , -1) * matrix * t).T))\n",
    "                \n",
    "target_states_evolution = []\n",
    "for i in range(len(targets)):\n",
    "    for t in ts:\n",
    "        target_states_evolution.append(state_evolution(nx.to_numpy_array(targets[i]) , t))\n",
    "\n",
    "fittest_states_evolution = []\n",
    "for i in range(len(combined_best_individual)):\n",
    "     for t in ts:\n",
    "          fittest_states_evolution.append(state_evolution(combined_best_individual[i][-1] , t))"
   ]
  },
  {
   "cell_type": "markdown",
   "metadata": {},
   "source": [
    "Fidelity"
   ]
  },
  {
   "cell_type": "code",
   "execution_count": 67,
   "metadata": {},
   "outputs": [],
   "source": [
    "def fidelity(mat1 , mat2):\n",
    "    return np.real((np.trace(sqrtm(sqrtm(mat1) @ mat2 @ sqrtm(mat1))))**2)\n",
    "\n",
    "fidelity_tab = []\n",
    "for i in range(len(target_states_evolution)):\n",
    "    fidelity_tab.append(fidelity(target_states_evolution[i] , fittest_states_evolution[i]))"
   ]
  },
  {
   "cell_type": "markdown",
   "metadata": {},
   "source": [
    "Coherence"
   ]
  },
  {
   "cell_type": "code",
   "execution_count": 127,
   "metadata": {},
   "outputs": [],
   "source": [
    "def coherence(mat1 , mat2):\n",
    "     return np.abs(np.abs(np.sum(mat1) - np.trace(mat1)) - np.abs(np.sum(mat2) - np.trace(mat2)))\n",
    "\n",
    "coherences_tab = []\n",
    "for i in range(len(target_states_evolution)):\n",
    "     coherences_tab.append(coherence(target_states_evolution[i] , fittest_states_evolution[i]))"
   ]
  },
  {
   "cell_type": "markdown",
   "metadata": {},
   "source": [
    "Population"
   ]
  },
  {
   "cell_type": "code",
   "execution_count": 177,
   "metadata": {},
   "outputs": [],
   "source": [
    "def populations(mat1 , mat2):\n",
    "    pop = []\n",
    "    for j in range(len(mat1)):\n",
    "        pop.append(np.abs(np.real(mat1[j][j]) - np.real(mat2[j][j])))\n",
    "    return pop\n",
    "\n",
    "population_tab = []\n",
    "for i in range(len(target_states_evolution)):\n",
    "    population_tab.append(np.sum(populations(target_states_evolution[i] , fittest_states_evolution[i])))"
   ]
  }
 ],
 "metadata": {
  "kernelspec": {
   "display_name": "base",
   "language": "python",
   "name": "python3"
  },
  "language_info": {
   "codemirror_mode": {
    "name": "ipython",
    "version": 3
   },
   "file_extension": ".py",
   "mimetype": "text/x-python",
   "name": "python",
   "nbconvert_exporter": "python",
   "pygments_lexer": "ipython3",
   "version": "3.11.7"
  }
 },
 "nbformat": 4,
 "nbformat_minor": 2
}
